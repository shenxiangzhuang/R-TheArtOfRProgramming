{
 "cells": [
  {
   "cell_type": "markdown",
   "metadata": {
    "toc": true
   },
   "source": [
    "<h1>Table of Contents<span class=\"tocSkip\"></span></h1>\n",
    "<div class=\"toc\"><ul class=\"toc-item\"><li><span><a href=\"#Chap2-Vectors\" data-toc-modified-id=\"Chap2-Vectors-1\">Chap2 Vectors</a></span><ul class=\"toc-item\"><li><span><a href=\"#2.1-标量，向量，数组，矩阵（Scalars,-Vectors,-Arrays,-and-Matrices）\" data-toc-modified-id=\"2.1-标量，向量，数组，矩阵（Scalars,-Vectors,-Arrays,-and-Matrices）-1.1\">2.1 标量，向量，数组，矩阵（Scalars, Vectors, Arrays, and Matrices）</a></span><ul class=\"toc-item\"><li><span><a href=\"#2.1.1-增删向量元素（Adding-and-Deleting-Vector-Elements\" data-toc-modified-id=\"2.1.1-增删向量元素（Adding-and-Deleting-Vector-Elements-1.1.1\">2.1.1 增删向量元素（Adding and Deleting Vector Elements</a></span></li><li><span><a href=\"#2.1.2-获取向量长度(Obtaining-the-Length-of-a-Vector)\" data-toc-modified-id=\"2.1.2-获取向量长度(Obtaining-the-Length-of-a-Vector)-1.1.2\">2.1.2 获取向量长度(Obtaining the Length of a Vector)</a></span></li><li><span><a href=\"#2.1.3-作为向量的矩阵和数组（Matrices-and-Arrays-as-Vectors）\" data-toc-modified-id=\"2.1.3-作为向量的矩阵和数组（Matrices-and-Arrays-as-Vectors）-1.1.3\">2.1.3 作为向量的矩阵和数组（Matrices and Arrays as Vectors）</a></span></li></ul></li><li><span><a href=\"#2.2-声明(Declarations)\" data-toc-modified-id=\"2.2-声明(Declarations)-1.2\">2.2 声明(Declarations)</a></span></li><li><span><a href=\"#2.3-循环(Recycling)\" data-toc-modified-id=\"2.3-循环(Recycling)-1.3\">2.3 循环(Recycling)</a></span></li><li><span><a href=\"#2.4-常见的向量操作(Common-Vector-Operations)\" data-toc-modified-id=\"2.4-常见的向量操作(Common-Vector-Operations)-1.4\">2.4 常见的向量操作(Common Vector Operations)</a></span><ul class=\"toc-item\"><li><span><a href=\"#2.4.1-算术操作与逻辑操作（Vector-Arithmetic-and-Logical-Operations）\" data-toc-modified-id=\"2.4.1-算术操作与逻辑操作（Vector-Arithmetic-and-Logical-Operations）-1.4.1\">2.4.1 算术操作与逻辑操作（Vector Arithmetic and Logical Operations）</a></span></li><li><span><a href=\"#2.4.2-向量索引(Vector-Indexing)\" data-toc-modified-id=\"2.4.2-向量索引(Vector-Indexing)-1.4.2\">2.4.2 向量索引(Vector Indexing)</a></span></li><li><span><a href=\"#2.4.3-使用:操作符方便地生成比向量(Generating-Useful-Vectors-with-the-:-Operator)\" data-toc-modified-id=\"2.4.3-使用:操作符方便地生成比向量(Generating-Useful-Vectors-with-the-:-Operator)-1.4.3\">2.4.3 使用<code>:</code>操作符方便地生成比向量(Generating Useful Vectors with the : Operator)</a></span></li><li><span><a href=\"#2.4.4-使用seq函数生成向量序列(Generating-Vector-Sequences-with-seq())\" data-toc-modified-id=\"2.4.4-使用seq函数生成向量序列(Generating-Vector-Sequences-with-seq())-1.4.4\">2.4.4 使用<code>seq</code>函数生成向量序列(Generating Vector Sequences with seq())</a></span></li><li><span><a href=\"#2.4.5-rep函数重复向量(Repeating-Vector-Constants-with-rep())\" data-toc-modified-id=\"2.4.5-rep函数重复向量(Repeating-Vector-Constants-with-rep())-1.4.5\">2.4.5 <code>rep</code>函数重复向量(Repeating Vector Constants with rep())</a></span></li></ul></li><li><span><a href=\"#2.5-all与any函数(Using-all()-and-any())\" data-toc-modified-id=\"2.5-all与any函数(Using-all()-and-any())-1.5\">2.5 <code>all</code>与<code>any</code>函数(Using all() and any())</a></span><ul class=\"toc-item\"><li><span><a href=\"#2.5.1-拓展：游程检验(Extended-Example:-Finding-Runs-of-Consecutive-Ones)\" data-toc-modified-id=\"2.5.1-拓展：游程检验(Extended-Example:-Finding-Runs-of-Consecutive-Ones)-1.5.1\">2.5.1 拓展：游程检验(Extended Example: Finding Runs of Consecutive Ones)</a></span></li><li><span><a href=\"#2.5.2-拓展：离散值时间序列预测（Extended-Example:-Predicting-Discrete-Valued-Time-Series）\" data-toc-modified-id=\"2.5.2-拓展：离散值时间序列预测（Extended-Example:-Predicting-Discrete-Valued-Time-Series）-1.5.2\">2.5.2 拓展：离散值时间序列预测（Extended Example: Predicting Discrete-Valued Time Series）</a></span></li></ul></li><li><span><a href=\"#2.6-向量化操作(Vectorized-Operations)\" data-toc-modified-id=\"2.6-向量化操作(Vectorized-Operations)-1.6\">2.6 向量化操作(Vectorized Operations)</a></span><ul class=\"toc-item\"><li><span><a href=\"#2.6.1-向量，向量(Vector-In,-Vector-Out)\" data-toc-modified-id=\"2.6.1-向量，向量(Vector-In,-Vector-Out)-1.6.1\">2.6.1 向量，向量(Vector In, Vector Out)</a></span></li><li><span><a href=\"#2.6.2-向量，矩阵(Vector-In,-Matrix-Out)\" data-toc-modified-id=\"2.6.2-向量，矩阵(Vector-In,-Matrix-Out)-1.6.2\">2.6.2 向量，矩阵(Vector In, Matrix Out)</a></span></li></ul></li><li><span><a href=\"#2.7-NA&amp;NULL(NA-and-NULL-Values)\" data-toc-modified-id=\"2.7-NA&amp;NULL(NA-and-NULL-Values)-1.7\">2.7 <code>NA</code>&amp;<code>NULL</code>(NA and NULL Values)</a></span><ul class=\"toc-item\"><li><span><a href=\"#2.7.1-NA的使用(USing-NA)\" data-toc-modified-id=\"2.7.1-NA的使用(USing-NA)-1.7.1\">2.7.1 <code>NA</code>的使用(USing NA)</a></span></li><li><span><a href=\"#2.7.2-NULL的使用(Using-NULL)\" data-toc-modified-id=\"2.7.2-NULL的使用(Using-NULL)-1.7.2\">2.7.2 <code>NULL</code>的使用(Using NULL)</a></span></li></ul></li><li><span><a href=\"#2.8-过滤（Filtering)\" data-toc-modified-id=\"2.8-过滤（Filtering)-1.8\">2.8 过滤（Filtering)</a></span><ul class=\"toc-item\"><li><span><a href=\"#2.8.1-生成过滤的索引(Generating-Filtering-Indices)\" data-toc-modified-id=\"2.8.1-生成过滤的索引(Generating-Filtering-Indices)-1.8.1\">2.8.1 生成过滤的索引(Generating Filtering Indices)</a></span></li><li><span><a href=\"#2.8.2-使用subset()函数过滤(Filtering-with-the-subset()-Function)\" data-toc-modified-id=\"2.8.2-使用subset()函数过滤(Filtering-with-the-subset()-Function)-1.8.2\">2.8.2 使用<code>subset()</code>函数过滤(Filtering with the subset() Function)</a></span></li><li><span><a href=\"#2.8.3-which函数（The-Selection-Function-which()）\" data-toc-modified-id=\"2.8.3-which函数（The-Selection-Function-which()）-1.8.3\">2.8.3 <code>which</code>函数（The Selection Function which()）</a></span></li></ul></li><li><span><a href=\"#2.9-ifelse函数(A-Vectorized-if-then-else:-The-ifelse()-Function)\" data-toc-modified-id=\"2.9-ifelse函数(A-Vectorized-if-then-else:-The-ifelse()-Function)-1.9\">2.9 <code>ifelse</code>函数(A Vectorized if-then-else: The ifelse() Function)</a></span><ul class=\"toc-item\"><li><span><a href=\"#2.9.1-拓展：关联性测量（Extended-Example:-A-Measure-of-Association）\" data-toc-modified-id=\"2.9.1-拓展：关联性测量（Extended-Example:-A-Measure-of-Association）-1.9.1\">2.9.1 拓展：关联性测量（Extended Example: A Measure of Association）</a></span></li><li><span><a href=\"#2.9.2-数据的重新编码(Extended-Example:-Recoding-an-Abalone-Data-Set)\" data-toc-modified-id=\"2.9.2-数据的重新编码(Extended-Example:-Recoding-an-Abalone-Data-Set)-1.9.2\">2.9.2 数据的重新编码(Extended Example: Recoding an Abalone Data Set)</a></span></li></ul></li><li><span><a href=\"#2.10-向量比较（Testing-Vector-Equality）\" data-toc-modified-id=\"2.10-向量比较（Testing-Vector-Equality）-1.10\">2.10 向量比较（Testing Vector Equality）</a></span></li><li><span><a href=\"#2.11-向量元素命名(Vector-Element-Names)\" data-toc-modified-id=\"2.11-向量元素命名(Vector-Element-Names)-1.11\">2.11 向量元素命名(Vector Element Names)</a></span></li><li><span><a href=\"#2.12-c()(More-on-c())\" data-toc-modified-id=\"2.12-c()(More-on-c())-1.12\">2.12 <code>c()</code>(More on c())</a></span></li></ul></li></ul></div>"
   ]
  },
  {
   "cell_type": "markdown",
   "metadata": {},
   "source": [
    "## Chap2 Vectors\n",
    "\n",
    "\n",
    "R语言的基础数据结构就是vector(向量)，scalars（标量）也是特殊的向量（长度为一），\n",
    "下一章要学习的matrix也是特殊的向量（多了行列属性）。"
   ]
  },
  {
   "cell_type": "markdown",
   "metadata": {},
   "source": [
    "### 2.1 标量，向量，数组，矩阵（Scalars, Vectors, Arrays, and Matrices）\n",
    "\n",
    "不像C那样，在R中没有真正意义上的标量，这里scalar可以认为就是`one-element vector`。\n",
    "另外和`ALGOL-family languages`语言，如C，Python不一样的地方就是，R的索引是从1开始的，\n",
    "而不是一般常用的0."
   ]
  },
  {
   "cell_type": "markdown",
   "metadata": {},
   "source": [
    "#### 2.1.1 增删向量元素（Adding and Deleting Vector Elements\n",
    "\n",
    "R中存储vector的方式类似C中对array的存储，即都是在内存中连续存储的，也就是是说\n",
    "我们不能随意增删向量中的元素。不过我们可以通过`reassign`(重新赋值)的方法来达到\n",
    "我们“增删”的目的，本质上就是利用原来的vector,重组为新的vector,再赋值给原来的变量。"
   ]
  },
  {
   "cell_type": "code",
   "execution_count": 1,
   "metadata": {
    "ExecuteTime": {
     "end_time": "2018-05-20T09:21:29.902528Z",
     "start_time": "2018-05-20T09:21:29.492Z"
    }
   },
   "outputs": [
    {
     "data": {
      "text/html": [
       "<ol class=list-inline>\n",
       "\t<li>1</li>\n",
       "\t<li>2</li>\n",
       "\t<li>3</li>\n",
       "\t<li>4</li>\n",
       "\t<li>5</li>\n",
       "</ol>\n"
      ],
      "text/latex": [
       "\\begin{enumerate*}\n",
       "\\item 1\n",
       "\\item 2\n",
       "\\item 3\n",
       "\\item 4\n",
       "\\item 5\n",
       "\\end{enumerate*}\n"
      ],
      "text/markdown": [
       "1. 1\n",
       "2. 2\n",
       "3. 3\n",
       "4. 4\n",
       "5. 5\n",
       "\n",
       "\n"
      ],
      "text/plain": [
       "[1] 1 2 3 4 5"
      ]
     },
     "metadata": {},
     "output_type": "display_data"
    }
   ],
   "source": [
    "x <- c(1, 2, 3, 5)\n",
    "x <- c(x[1:3], 4, x[4])\n",
    "x"
   ]
  },
  {
   "cell_type": "markdown",
   "metadata": {},
   "source": [
    "注意，学过C的读者可以把上面的x看作一个指针，所谓`reassign`就是把指针指向新生成vector\n",
    "的地址。"
   ]
  },
  {
   "cell_type": "markdown",
   "metadata": {},
   "source": [
    "#### 2.1.2 获取向量长度(Obtaining the Length of a Vector)"
   ]
  },
  {
   "cell_type": "code",
   "execution_count": 2,
   "metadata": {
    "ExecuteTime": {
     "end_time": "2018-05-20T09:21:29.953895Z",
     "start_time": "2018-05-20T09:21:29.501Z"
    }
   },
   "outputs": [
    {
     "data": {
      "text/html": [
       "5"
      ],
      "text/latex": [
       "5"
      ],
      "text/markdown": [
       "5"
      ],
      "text/plain": [
       "[1] 5"
      ]
     },
     "metadata": {},
     "output_type": "display_data"
    }
   ],
   "source": [
    "# length函数\n",
    "length(x)"
   ]
  },
  {
   "cell_type": "markdown",
   "metadata": {},
   "source": [
    "下面看一个小例子，寻找vector中第一个1的位置。"
   ]
  },
  {
   "cell_type": "code",
   "execution_count": 3,
   "metadata": {
    "ExecuteTime": {
     "end_time": "2018-05-20T09:21:29.981211Z",
     "start_time": "2018-05-20T09:21:29.510Z"
    }
   },
   "outputs": [
    {
     "data": {
      "text/html": [
       "2"
      ],
      "text/latex": [
       "2"
      ],
      "text/markdown": [
       "2"
      ],
      "text/plain": [
       "[1] 2"
      ]
     },
     "metadata": {},
     "output_type": "display_data"
    }
   ],
   "source": [
    "first1 <- function(x){\n",
    "    for(i in 1:length(x)){\n",
    "        if (x[i] == 1) break  # break out of loop\n",
    "    }\n",
    "    return(i)\n",
    "}\n",
    "\n",
    "first1(c(0,1,2))"
   ]
  },
  {
   "cell_type": "markdown",
   "metadata": {},
   "source": [
    "大致看来上面的代码是没有问题的，但是还是存在隐含的bug:如果x的长度为0会怎样？"
   ]
  },
  {
   "cell_type": "code",
   "execution_count": 4,
   "metadata": {
    "ExecuteTime": {
     "end_time": "2018-05-20T09:21:30.006083Z",
     "start_time": "2018-05-20T09:21:29.517Z"
    }
   },
   "outputs": [
    {
     "ename": "ERROR",
     "evalue": "Error in if (x[i] == 1) break: argument is of length zero\n",
     "output_type": "error",
     "traceback": [
      "Error in if (x[i] == 1) break: argument is of length zero\nTraceback:\n",
      "1. first1(x)"
     ]
    }
   ],
   "source": [
    "x <- c()\n",
    "first1(x)"
   ]
  },
  {
   "cell_type": "markdown",
   "metadata": {},
   "source": [
    "可以发现，vector为空，在索引的时候直接报错了，这是容易发现的错误。\n",
    "但是，试想一下，如果我们在for循环的操作不是索引而是其他的呢？我们可以看到，\n",
    "此时在for循环中，i是按照1，0变化的，如下。"
   ]
  },
  {
   "cell_type": "code",
   "execution_count": null,
   "metadata": {
    "ExecuteTime": {
     "end_time": "2018-05-20T09:21:30.011011Z",
     "start_time": "2018-05-20T09:21:29.526Z"
    }
   },
   "outputs": [],
   "source": [
    "1:length(x)"
   ]
  },
  {
   "cell_type": "markdown",
   "metadata": {},
   "source": [
    "这样在一个空的vector中，for循环竟然进行了两次，而且是从1到0（逆序。\n",
    "如果没有察觉到这一点，后面可能就会遇到一些棘手的bug.所以一种办法就是\n",
    "添加对vector为空的判断语句，另一种就是使用`seq`，后面会介绍到这里。"
   ]
  },
  {
   "cell_type": "markdown",
   "metadata": {},
   "source": [
    "#### 2.1.3 作为向量的矩阵和数组（Matrices and Arrays as Vectors）\n",
    "\n",
    "前面已经说过，matrix可以看作特殊的vector,而同时matrix又是一种特殊的array,\n",
    "所以，从某种意义上说，array也是vector."
   ]
  },
  {
   "cell_type": "code",
   "execution_count": null,
   "metadata": {
    "ExecuteTime": {
     "end_time": "2018-05-20T09:21:30.012636Z",
     "start_time": "2018-05-20T09:21:29.536Z"
    }
   },
   "outputs": [],
   "source": [
    "m <- matrix(1:4, nrow = 2)\n",
    "m"
   ]
  },
  {
   "cell_type": "markdown",
   "metadata": {},
   "source": [
    "注意，下一章还会讲到，matrix是以vector的形式，按照`column-wise`的策略存储在\n",
    "内部的，此处就是以`c(1,2,3,4)`的形式存储的。所以，因为它是一个vector,下面的\n",
    "操作就能解释了。"
   ]
  },
  {
   "cell_type": "code",
   "execution_count": null,
   "metadata": {
    "ExecuteTime": {
     "end_time": "2018-05-20T09:21:30.015239Z",
     "start_time": "2018-05-20T09:21:29.545Z"
    }
   },
   "outputs": [],
   "source": [
    "m + 10:13"
   ]
  },
  {
   "cell_type": "markdown",
   "metadata": {},
   "source": [
    "上面就是通过c(1,2,3,4)+c(10,11,12,13)(对应相加)得到c(11,13,15,17)，\n",
    "之后以矩阵的形式返回。"
   ]
  },
  {
   "cell_type": "markdown",
   "metadata": {},
   "source": [
    "### 2.2 声明(Declarations)\n",
    "\n",
    "R作为脚本语言，和Python一样都可以直接赋值的，不过R也可以事先声明，如下。"
   ]
  },
  {
   "cell_type": "code",
   "execution_count": null,
   "metadata": {
    "ExecuteTime": {
     "end_time": "2018-05-20T09:21:30.017331Z",
     "start_time": "2018-05-20T09:21:29.559Z"
    }
   },
   "outputs": [],
   "source": [
    "y <- vector(length = 2)  # 声明y是一个长度为2的vector\n",
    "y[1] <- 5\n",
    "y[2] <- 12\n",
    "y"
   ]
  },
  {
   "cell_type": "code",
   "execution_count": null,
   "metadata": {
    "ExecuteTime": {
     "end_time": "2018-05-20T09:21:30.019564Z",
     "start_time": "2018-05-20T09:21:29.574Z"
    }
   },
   "outputs": [],
   "source": [
    "# 这种声明不想C/C++那样类型不可变，R中是可变的\n",
    "y <- c('a', 'b')\n",
    "y"
   ]
  },
  {
   "cell_type": "markdown",
   "metadata": {},
   "source": [
    "### 2.3 循环(Recycling)\n",
    "\n",
    "在操作vector时，比如做加法，需要它们之间的长度都是一样，如果不一样，那么R会自动\n",
    "`recycles`较短的那个vector，直到它和较长的长度一致，之后再继续相应的操作。"
   ]
  },
  {
   "cell_type": "code",
   "execution_count": null,
   "metadata": {
    "ExecuteTime": {
     "end_time": "2018-05-20T09:21:30.021825Z",
     "start_time": "2018-05-20T09:21:29.582Z"
    }
   },
   "outputs": [],
   "source": [
    "c(1, 2, 4) + c(6, 0, 9, 20, 22)"
   ]
  },
  {
   "cell_type": "markdown",
   "metadata": {},
   "source": [
    "可以看到，R会给出警告，并继续运行，其实上面发生的计算是像下面这样。"
   ]
  },
  {
   "cell_type": "code",
   "execution_count": null,
   "metadata": {
    "ExecuteTime": {
     "end_time": "2018-05-20T09:21:30.025911Z",
     "start_time": "2018-05-20T09:21:29.592Z"
    }
   },
   "outputs": [],
   "source": [
    "c(1, 2, 4, 1, 2) + c(6, 0, 9, 20, 22)"
   ]
  },
  {
   "cell_type": "markdown",
   "metadata": {},
   "source": [
    "这种自动重复以补齐的方式在向量中还是可以较为清晰的看到，若是在矩阵中，\n",
    "会显得难以识别（所以一般也不要这样用）。"
   ]
  },
  {
   "cell_type": "code",
   "execution_count": null,
   "metadata": {
    "ExecuteTime": {
     "end_time": "2018-05-20T09:21:30.028613Z",
     "start_time": "2018-05-20T09:21:29.602Z"
    }
   },
   "outputs": [],
   "source": [
    "x <- matrix(1:6, nrow = 3)\n",
    "x"
   ]
  },
  {
   "cell_type": "code",
   "execution_count": null,
   "metadata": {
    "ExecuteTime": {
     "end_time": "2018-05-20T09:21:30.033809Z",
     "start_time": "2018-05-20T09:21:29.610Z"
    }
   },
   "outputs": [],
   "source": [
    "x + c(1, 2)"
   ]
  },
  {
   "cell_type": "markdown",
   "metadata": {},
   "source": [
    "是不是有些奇怪？其实这里的关键在于matrix是vector的本质和vector的`recycling`\n",
    "的结合。这里x是matrix，也同时是vector:c(1,2,3,4,5,6),长度为6，而c(1,2)长度为2，所以会自动补齐为\n",
    "c(1,2,1,2,1,2),先相加得到c(2,4,4,6,6,8),最后表示为上面的形式。"
   ]
  },
  {
   "cell_type": "markdown",
   "metadata": {},
   "source": [
    "### 2.4 常见的向量操作(Common Vector Operations)"
   ]
  },
  {
   "cell_type": "markdown",
   "metadata": {},
   "source": [
    "#### 2.4.1 算术操作与逻辑操作（Vector Arithmetic and Logical Operations）\n",
    "\n",
    "需要知道R是函数式的语言(functional language)，任何的操作符(operator)\n",
    "都是函数，包括`+`都是一个函数。"
   ]
  },
  {
   "cell_type": "code",
   "execution_count": null,
   "metadata": {
    "ExecuteTime": {
     "end_time": "2018-05-20T09:21:30.035371Z",
     "start_time": "2018-05-20T09:21:29.618Z"
    }
   },
   "outputs": [],
   "source": [
    "2 + 3"
   ]
  },
  {
   "cell_type": "code",
   "execution_count": null,
   "metadata": {
    "ExecuteTime": {
     "end_time": "2018-05-20T09:21:30.037928Z",
     "start_time": "2018-05-20T09:21:29.623Z"
    }
   },
   "outputs": [],
   "source": [
    "\"+\"(2, 3)"
   ]
  },
  {
   "cell_type": "code",
   "execution_count": null,
   "metadata": {
    "ExecuteTime": {
     "end_time": "2018-05-20T09:21:30.040327Z",
     "start_time": "2018-05-20T09:21:29.629Z"
    }
   },
   "outputs": [],
   "source": [
    "# * 是element-wise的乘法，即对应元素相乘\n",
    "x <- c(1, 2, 4)\n",
    "x * c(5, 0, 1)"
   ]
  },
  {
   "cell_type": "code",
   "execution_count": null,
   "metadata": {
    "ExecuteTime": {
     "end_time": "2018-05-20T09:21:30.042471Z",
     "start_time": "2018-05-20T09:21:29.633Z"
    }
   },
   "outputs": [],
   "source": [
    "# 除法(/), 取余数(%%)等操作也一样\n",
    "x %% c(5, 4, 1)"
   ]
  },
  {
   "cell_type": "markdown",
   "metadata": {},
   "source": [
    "#### 2.4.2 向量索引(Vector Indexing)\n",
    "\n",
    "索引的格式是`vector1[vector2]`，其中vector1是被索引向量，vector2是indices."
   ]
  },
  {
   "cell_type": "code",
   "execution_count": null,
   "metadata": {
    "ExecuteTime": {
     "end_time": "2018-05-20T09:21:30.044582Z",
     "start_time": "2018-05-20T09:21:29.639Z"
    }
   },
   "outputs": [],
   "source": [
    "x"
   ]
  },
  {
   "cell_type": "code",
   "execution_count": null,
   "metadata": {
    "ExecuteTime": {
     "end_time": "2018-05-20T09:21:30.046622Z",
     "start_time": "2018-05-20T09:21:29.644Z"
    }
   },
   "outputs": [],
   "source": [
    "x[c(1,3)]"
   ]
  },
  {
   "cell_type": "code",
   "execution_count": null,
   "metadata": {
    "ExecuteTime": {
     "end_time": "2018-05-20T09:21:30.048722Z",
     "start_time": "2018-05-20T09:21:29.650Z"
    }
   },
   "outputs": [],
   "source": [
    "v <- c(1, 3)\n",
    "x[v]"
   ]
  },
  {
   "cell_type": "code",
   "execution_count": null,
   "metadata": {
    "ExecuteTime": {
     "end_time": "2018-05-20T09:21:30.050812Z",
     "start_time": "2018-05-20T09:21:29.658Z"
    }
   },
   "outputs": [],
   "source": [
    "# 负数索引代表排除（不包括）对应的数据\n",
    "# 不包括第一个数据\n",
    "x[-1]\n",
    "# 不包括第1，2个数据\n",
    "x[-1:-2]\n",
    "# 不包括最后一个数据\n",
    "x[-length(x)]"
   ]
  },
  {
   "cell_type": "markdown",
   "metadata": {},
   "source": [
    "#### 2.4.3 使用`:`操作符方便地生成比向量(Generating Useful Vectors with the : Operator)"
   ]
  },
  {
   "cell_type": "code",
   "execution_count": null,
   "metadata": {
    "ExecuteTime": {
     "end_time": "2018-05-20T09:21:30.053084Z",
     "start_time": "2018-05-20T09:21:29.664Z"
    }
   },
   "outputs": [],
   "source": [
    "5 : 8"
   ]
  },
  {
   "cell_type": "code",
   "execution_count": null,
   "metadata": {
    "ExecuteTime": {
     "end_time": "2018-05-20T09:21:30.055411Z",
     "start_time": "2018-05-20T09:21:29.671Z"
    }
   },
   "outputs": [],
   "source": [
    "5 : 1"
   ]
  },
  {
   "cell_type": "markdown",
   "metadata": {},
   "source": [
    "注意在查看操作符的文档时，要加引号`?\"+\"`"
   ]
  },
  {
   "cell_type": "markdown",
   "metadata": {},
   "source": [
    "#### 2.4.4 使用`seq`函数生成向量序列(Generating Vector Sequences with seq())\n",
    "\n",
    "`seq`可以看作`:`的加强版。"
   ]
  },
  {
   "cell_type": "code",
   "execution_count": null,
   "metadata": {
    "ExecuteTime": {
     "end_time": "2018-05-20T09:21:30.057447Z",
     "start_time": "2018-05-20T09:21:29.679Z"
    }
   },
   "outputs": [],
   "source": [
    "seq(from = 12, to = 30, by = 3)"
   ]
  },
  {
   "cell_type": "code",
   "execution_count": null,
   "metadata": {
    "ExecuteTime": {
     "end_time": "2018-05-20T09:21:30.059827Z",
     "start_time": "2018-05-20T09:21:29.686Z"
    }
   },
   "outputs": [],
   "source": [
    "# 也可以生成小数\n",
    "seq(from = 1.1, to = 2, length.out = 10)"
   ]
  },
  {
   "cell_type": "markdown",
   "metadata": {},
   "source": [
    "还记得上面说的`for (i in 1:length(x))`在`x`为空时会\n",
    "按照1，0的顺序循环，这里可以使用`seq`来避免这一问题。"
   ]
  },
  {
   "cell_type": "code",
   "execution_count": null,
   "metadata": {
    "ExecuteTime": {
     "end_time": "2018-05-20T09:21:30.062510Z",
     "start_time": "2018-05-20T09:21:29.693Z"
    }
   },
   "outputs": [],
   "source": [
    "x"
   ]
  },
  {
   "cell_type": "code",
   "execution_count": null,
   "metadata": {
    "ExecuteTime": {
     "end_time": "2018-05-20T09:21:30.064803Z",
     "start_time": "2018-05-20T09:21:29.700Z"
    }
   },
   "outputs": [],
   "source": [
    "# seq按照x的长度生成序列\n",
    "seq(x)"
   ]
  },
  {
   "cell_type": "code",
   "execution_count": null,
   "metadata": {
    "ExecuteTime": {
     "end_time": "2018-05-20T09:21:30.067065Z",
     "start_time": "2018-05-20T09:21:29.707Z"
    }
   },
   "outputs": [],
   "source": [
    "x <- c()\n",
    "x"
   ]
  },
  {
   "cell_type": "code",
   "execution_count": null,
   "metadata": {
    "ExecuteTime": {
     "end_time": "2018-05-20T09:21:30.069215Z",
     "start_time": "2018-05-20T09:21:29.713Z"
    }
   },
   "outputs": [],
   "source": [
    "# x为空时seq返回integer(0),这里被jupyter吃了...\n",
    "seq(x)"
   ]
  },
  {
   "cell_type": "code",
   "execution_count": null,
   "metadata": {
    "ExecuteTime": {
     "end_time": "2018-05-20T09:21:30.071683Z",
     "start_time": "2018-05-20T09:21:29.721Z"
    }
   },
   "outputs": [],
   "source": [
    "1:seq(x)"
   ]
  },
  {
   "cell_type": "markdown",
   "metadata": {},
   "source": [
    "通过上面的例子可以看到，此时不会出现`1:length(x)`按照1，0\n",
    "循环的情况，会直接报错，避免了潜在的bug"
   ]
  },
  {
   "cell_type": "markdown",
   "metadata": {},
   "source": [
    "#### 2.4.5 `rep`函数重复向量(Repeating Vector Constants with rep())\n",
    "\n",
    "调用格式`rep(x, times)`,生成times个x并自动拼接成一个向量。"
   ]
  },
  {
   "cell_type": "code",
   "execution_count": null,
   "metadata": {
    "ExecuteTime": {
     "end_time": "2018-05-20T09:21:30.074243Z",
     "start_time": "2018-05-20T09:21:29.729Z"
    }
   },
   "outputs": [],
   "source": [
    "x <- rep(8, 4)\n",
    "x"
   ]
  },
  {
   "cell_type": "code",
   "execution_count": null,
   "metadata": {
    "ExecuteTime": {
     "end_time": "2018-05-20T09:21:30.077107Z",
     "start_time": "2018-05-20T09:21:29.739Z"
    }
   },
   "outputs": [],
   "source": [
    "rep(c(1,2,3), 3)"
   ]
  },
  {
   "cell_type": "code",
   "execution_count": null,
   "metadata": {
    "ExecuteTime": {
     "end_time": "2018-05-20T09:21:30.080424Z",
     "start_time": "2018-05-20T09:21:29.761Z"
    }
   },
   "outputs": [],
   "source": [
    "# 也可以每个元素单独重复times次再拼接\n",
    "rep(c(1, 2, 3), each = 2)"
   ]
  },
  {
   "cell_type": "markdown",
   "metadata": {},
   "source": [
    "### 2.5 `all`与`any`函数(Using all() and any())"
   ]
  },
  {
   "cell_type": "code",
   "execution_count": null,
   "metadata": {
    "ExecuteTime": {
     "end_time": "2018-05-20T09:21:30.083549Z",
     "start_time": "2018-05-20T09:21:29.773Z"
    }
   },
   "outputs": [],
   "source": [
    "x <- 1:10\n",
    "x"
   ]
  },
  {
   "cell_type": "code",
   "execution_count": null,
   "metadata": {
    "ExecuteTime": {
     "end_time": "2018-05-20T09:21:30.085838Z",
     "start_time": "2018-05-20T09:21:29.779Z"
    }
   },
   "outputs": [],
   "source": [
    "x > 8"
   ]
  },
  {
   "cell_type": "code",
   "execution_count": null,
   "metadata": {
    "ExecuteTime": {
     "end_time": "2018-05-20T09:21:30.090364Z",
     "start_time": "2018-05-20T09:21:29.786Z"
    }
   },
   "outputs": [],
   "source": [
    "# 有一个TRUE,就返回TRUE\n",
    "any(x > 8)"
   ]
  },
  {
   "cell_type": "code",
   "execution_count": null,
   "metadata": {
    "ExecuteTime": {
     "end_time": "2018-05-20T09:21:30.092386Z",
     "start_time": "2018-05-20T09:21:29.792Z"
    }
   },
   "outputs": [],
   "source": [
    "# 所有的都为TRUE, 才返回TRUE\n",
    "all(x > 8)"
   ]
  },
  {
   "cell_type": "markdown",
   "metadata": {},
   "source": [
    "#### 2.5.1 拓展：游程检验(Extended Example: Finding Runs of Consecutive Ones)\n",
    "\n",
    "游程检验，这里就是寻找一个vector(有0和1组成)里面连续的1组成的部分。\n",
    "如c(1,0,0,1,1,1,0,1,1)里面，第四个元素起有一个长度为3的`run`"
   ]
  },
  {
   "cell_type": "code",
   "execution_count": 5,
   "metadata": {
    "ExecuteTime": {
     "end_time": "2018-05-20T09:21:30.337157Z",
     "start_time": "2018-05-20T09:21:30.297Z"
    }
   },
   "outputs": [
    {
     "data": {
      "text/html": [
       "4"
      ],
      "text/latex": [
       "4"
      ],
      "text/markdown": [
       "4"
      ],
      "text/plain": [
       "[1] 4"
      ]
     },
     "metadata": {},
     "output_type": "display_data"
    }
   ],
   "source": [
    "# x为vector, k为要寻找的游程的长度\n",
    "findruns <- function(x, k){\n",
    "    n <- length(x)\n",
    "    runs <- NULL\n",
    "    for(i in 1:(n-k+1)){\n",
    "        if (all(x[i:(i+k-1)] == 1)) runs <- c(runs, i)\n",
    "    }\n",
    "    return(runs)\n",
    "}\n",
    "# 长度为3的游程的开始位置\n",
    "findruns(c(1,0,0,1,1,1,0,1,1), 3)"
   ]
  },
  {
   "cell_type": "code",
   "execution_count": 6,
   "metadata": {
    "ExecuteTime": {
     "end_time": "2018-05-20T09:21:30.363733Z",
     "start_time": "2018-05-20T09:21:30.304Z"
    }
   },
   "outputs": [
    {
     "data": {
      "text/html": [
       "<ol class=list-inline>\n",
       "\t<li>4</li>\n",
       "\t<li>5</li>\n",
       "\t<li>8</li>\n",
       "</ol>\n"
      ],
      "text/latex": [
       "\\begin{enumerate*}\n",
       "\\item 4\n",
       "\\item 5\n",
       "\\item 8\n",
       "\\end{enumerate*}\n"
      ],
      "text/markdown": [
       "1. 4\n",
       "2. 5\n",
       "3. 8\n",
       "\n",
       "\n"
      ],
      "text/plain": [
       "[1] 4 5 8"
      ]
     },
     "metadata": {},
     "output_type": "display_data"
    }
   ],
   "source": [
    "# 长度为2的游程的开始位置\n",
    "findruns(c(1,0,0,1,1,1,0,1,1), 2)"
   ]
  },
  {
   "cell_type": "code",
   "execution_count": 7,
   "metadata": {
    "ExecuteTime": {
     "end_time": "2018-05-20T09:21:30.390054Z",
     "start_time": "2018-05-20T09:21:30.311Z"
    }
   },
   "outputs": [
    {
     "data": {
      "text/plain": [
       "NULL"
      ]
     },
     "metadata": {},
     "output_type": "display_data"
    }
   ],
   "source": [
    "# 尝试寻找长度为6的游程的开始位置\n",
    "findruns(c(1,0,0,1,1,1,0,1,1), 6)"
   ]
  },
  {
   "cell_type": "markdown",
   "metadata": {},
   "source": [
    "一般来说，上面的程序可以完成我们的任务，但是在待查找向量较大的时候，\n",
    "上述程序将会运行较长的时间，为什么呢？因为我们在循环中不断地“更新”runs\n",
    "这个向量，也就是通过`reassign`不断增加它的长度，而重新赋值就是不断地\n",
    "创建新的向量再赋值给原来的变量，这样会耗用很多的时间。所以，我们选择先声明\n",
    "(`declaration`)runs为足够长的vector，之后将数据填充进去就可以避免\n",
    "重复创建vector产生的消耗。"
   ]
  },
  {
   "cell_type": "code",
   "execution_count": 8,
   "metadata": {
    "ExecuteTime": {
     "end_time": "2018-05-20T09:21:30.417981Z",
     "start_time": "2018-05-20T09:21:30.318Z"
    }
   },
   "outputs": [
    {
     "data": {
      "text/html": [
       "4"
      ],
      "text/latex": [
       "4"
      ],
      "text/markdown": [
       "4"
      ],
      "text/plain": [
       "[1] 4"
      ]
     },
     "metadata": {},
     "output_type": "display_data"
    }
   ],
   "source": [
    "findruns1 <- function(x, k){\n",
    "    n <- length(x)\n",
    "    runs <- vector(length = n)\n",
    "    count <- 0\n",
    "    for(i in 1:(n-k-1)){\n",
    "        if(all(x[i:(i+k+1)] == 1)){\n",
    "            count <- count + 1\n",
    "            runs[count] <- i\n",
    "        }\n",
    "    }\n",
    "    if(count > 0){\n",
    "        runs <- runs[1:count]\n",
    "    }else runs <- NULL\n",
    "    return(runs)\n",
    "}\n",
    "\n",
    "findruns(c(1,0,0,1,1,1,0,1,1), 3)"
   ]
  },
  {
   "cell_type": "markdown",
   "metadata": {},
   "source": [
    "#### 2.5.2 拓展：离散值时间序列预测（Extended Example: Predicting Discrete-Valued Time Series）"
   ]
  },
  {
   "cell_type": "code",
   "execution_count": 9,
   "metadata": {
    "ExecuteTime": {
     "end_time": "2018-05-20T09:21:30.458155Z",
     "start_time": "2018-05-20T09:21:30.322Z"
    }
   },
   "outputs": [
    {
     "data": {
      "text/html": [
       "0.8"
      ],
      "text/latex": [
       "0.8"
      ],
      "text/markdown": [
       "0.8"
      ],
      "text/plain": [
       "[1] 0.8"
      ]
     },
     "metadata": {},
     "output_type": "display_data"
    }
   ],
   "source": [
    "preda <- function(x,k) {\n",
    "    n <- length(x)\n",
    "    k2 <- k/2\n",
    "    # the vector pred will contain our predicted values\n",
    "    pred <- vector(length=n-k)\n",
    "    for (i in 1:(n-k)) {\n",
    "    if (sum(x[i:(i+(k-1))]) >= k2) pred[i] <- 1 else pred[i] <- 0\n",
    "    }\n",
    "    return(mean(abs(pred-x[(k+1):n])))\n",
    "}\n",
    "\n",
    "preda(c(-1,-1,1,-1,-1,1,-1,0,0,-1,-1,1), 2)"
   ]
  },
  {
   "cell_type": "code",
   "execution_count": 10,
   "metadata": {
    "ExecuteTime": {
     "end_time": "2018-05-20T09:21:30.485298Z",
     "start_time": "2018-05-20T09:21:30.328Z"
    }
   },
   "outputs": [
    {
     "data": {
      "text/html": [
       "0.8"
      ],
      "text/latex": [
       "0.8"
      ],
      "text/markdown": [
       "0.8"
      ],
      "text/plain": [
       "[1] 0.8"
      ]
     },
     "metadata": {},
     "output_type": "display_data"
    }
   ],
   "source": [
    "# 上面代码存在重复求和，下面是其优化\n",
    "predb <- function(x,k) {\n",
    "    n <- length(x)\n",
    "    k2 <- k/2\n",
    "    pred <- vector(length=n-k)\n",
    "    sm <- sum(x[1:k])\n",
    "    if (sm >= k2) pred[1] <- 1 else pred[1] <- 0\n",
    "    if (n-k >= 2) {\n",
    "    for (i in 2:(n-k)) {\n",
    "    sm <- sm + x[i+k-1] - x[i-1]\n",
    "    if (sm >= k2) pred[i] <- 1 else pred[i] <- 0\n",
    "    }\n",
    "    }\n",
    "    return(mean(abs(pred-x[(k+1):n])))\n",
    "}\n",
    "\n",
    "preda(c(-1,-1,1,-1,-1,1,-1,0,0,-1,-1,1), 2)"
   ]
  },
  {
   "cell_type": "code",
   "execution_count": 11,
   "metadata": {
    "ExecuteTime": {
     "end_time": "2018-05-20T09:21:30.513533Z",
     "start_time": "2018-05-20T09:21:30.333Z"
    }
   },
   "outputs": [
    {
     "data": {
      "text/html": [
       "0.8"
      ],
      "text/latex": [
       "0.8"
      ],
      "text/markdown": [
       "0.8"
      ],
      "text/plain": [
       "[1] 0.8"
      ]
     },
     "metadata": {},
     "output_type": "display_data"
    }
   ],
   "source": [
    "# 也可以利用consum,即累计求和函数\n",
    "predc <- function(x,k) {\n",
    "    n <- length(x)\n",
    "    k2 <- k/2\n",
    "    # the vector red will contain our predicted values\n",
    "    pred <- vector(length=n-k)\n",
    "    csx <- c(0,cumsum(x))\n",
    "    for (i in 1:(n-k)) {\n",
    "    if (csx[i+k] - csx[i] >= k2) pred[i] <- 1 else pred[i] <- 0\n",
    "    }\n",
    "    return(mean(abs(pred-x[(k+1):n])))\n",
    "}\n",
    "\n",
    "preda(c(-1,-1,1,-1,-1,1,-1,0,0,-1,-1,1), 2)"
   ]
  },
  {
   "cell_type": "markdown",
   "metadata": {},
   "source": [
    "注意，对于这种较为复杂的例子，如果感觉不好理解，就需要将程序拆解，\n",
    "搞清楚每一步的操作，整个算法的思路自然就清晰了。"
   ]
  },
  {
   "cell_type": "markdown",
   "metadata": {},
   "source": [
    "### 2.6 向量化操作(Vectorized Operations)\n",
    "\n",
    "向量化的操作是优化R语言程序的一个关键，至于原因可以参考[这篇文章](http://www.noamross.net/blog/2014/4/16/vectorization-in-r--why.html)。其实，这和Python中使用Numpy来进行向量化操作来加速是\n",
    "一样的，底层都是调用C来做计算。"
   ]
  },
  {
   "cell_type": "markdown",
   "metadata": {},
   "source": [
    "#### 2.6.1 向量，向量(Vector In, Vector Out)"
   ]
  },
  {
   "cell_type": "code",
   "execution_count": 12,
   "metadata": {
    "ExecuteTime": {
     "end_time": "2018-05-20T09:21:30.541406Z",
     "start_time": "2018-05-20T09:21:30.340Z"
    }
   },
   "outputs": [
    {
     "data": {
      "text/html": [
       "<ol class=list-inline>\n",
       "\t<li>TRUE</li>\n",
       "\t<li>FALSE</li>\n",
       "\t<li>FALSE</li>\n",
       "</ol>\n"
      ],
      "text/latex": [
       "\\begin{enumerate*}\n",
       "\\item TRUE\n",
       "\\item FALSE\n",
       "\\item FALSE\n",
       "\\end{enumerate*}\n"
      ],
      "text/markdown": [
       "1. TRUE\n",
       "2. FALSE\n",
       "3. FALSE\n",
       "\n",
       "\n"
      ],
      "text/plain": [
       "[1]  TRUE FALSE FALSE"
      ]
     },
     "metadata": {},
     "output_type": "display_data"
    }
   ],
   "source": [
    "# R里面很多操作符都是向量化的\n",
    "# 如，+,-,*,/,>,<等\n",
    "# 都是以向量为参数，然后返回向量\n",
    "u <- c(5, 2, 8)\n",
    "v <- c(1, 3, 9)\n",
    "u > v"
   ]
  },
  {
   "cell_type": "code",
   "execution_count": 13,
   "metadata": {
    "ExecuteTime": {
     "end_time": "2018-05-20T09:21:30.564608Z",
     "start_time": "2018-05-20T09:21:30.348Z"
    }
   },
   "outputs": [
    {
     "data": {
      "text/html": [
       "<ol class=list-inline>\n",
       "\t<li>1</li>\n",
       "\t<li>1.4142135623731</li>\n",
       "\t<li>1.73205080756888</li>\n",
       "\t<li>2</li>\n",
       "\t<li>2.23606797749979</li>\n",
       "</ol>\n"
      ],
      "text/latex": [
       "\\begin{enumerate*}\n",
       "\\item 1\n",
       "\\item 1.4142135623731\n",
       "\\item 1.73205080756888\n",
       "\\item 2\n",
       "\\item 2.23606797749979\n",
       "\\end{enumerate*}\n"
      ],
      "text/markdown": [
       "1. 1\n",
       "2. 1.4142135623731\n",
       "3. 1.73205080756888\n",
       "4. 2\n",
       "5. 2.23606797749979\n",
       "\n",
       "\n"
      ],
      "text/plain": [
       "[1] 1.000000 1.414214 1.732051 2.000000 2.236068"
      ]
     },
     "metadata": {},
     "output_type": "display_data"
    }
   ],
   "source": [
    "# 内置函数也是向量化的\n",
    "sqrt(1:5)"
   ]
  },
  {
   "cell_type": "code",
   "execution_count": 14,
   "metadata": {
    "ExecuteTime": {
     "end_time": "2018-05-20T09:21:30.592549Z",
     "start_time": "2018-05-20T09:21:30.355Z"
    }
   },
   "outputs": [
    {
     "data": {
      "text/html": [
       "<ol class=list-inline>\n",
       "\t<li>1</li>\n",
       "\t<li>1</li>\n",
       "\t<li>2</li>\n",
       "\t<li>2</li>\n",
       "\t<li>2</li>\n",
       "</ol>\n"
      ],
      "text/latex": [
       "\\begin{enumerate*}\n",
       "\\item 1\n",
       "\\item 1\n",
       "\\item 2\n",
       "\\item 2\n",
       "\\item 2\n",
       "\\end{enumerate*}\n"
      ],
      "text/markdown": [
       "1. 1\n",
       "2. 1\n",
       "3. 2\n",
       "4. 2\n",
       "5. 2\n",
       "\n",
       "\n"
      ],
      "text/plain": [
       "[1] 1 1 2 2 2"
      ]
     },
     "metadata": {},
     "output_type": "display_data"
    }
   ],
   "source": [
    "round(sqrt(1:5))"
   ]
  },
  {
   "cell_type": "code",
   "execution_count": 15,
   "metadata": {
    "ExecuteTime": {
     "end_time": "2018-05-20T09:21:30.615633Z",
     "start_time": "2018-05-20T09:21:30.375Z"
    }
   },
   "outputs": [
    {
     "data": {
      "text/html": [
       "<ol class=list-inline>\n",
       "\t<li>5</li>\n",
       "\t<li>5</li>\n",
       "\t<li>6</li>\n",
       "\t<li>6</li>\n",
       "\t<li>6</li>\n",
       "</ol>\n"
      ],
      "text/latex": [
       "\\begin{enumerate*}\n",
       "\\item 5\n",
       "\\item 5\n",
       "\\item 6\n",
       "\\item 6\n",
       "\\item 6\n",
       "\\end{enumerate*}\n"
      ],
      "text/markdown": [
       "1. 5\n",
       "2. 5\n",
       "3. 6\n",
       "4. 6\n",
       "5. 6\n",
       "\n",
       "\n"
      ],
      "text/plain": [
       "[1] 5 5 6 6 6"
      ]
     },
     "metadata": {},
     "output_type": "display_data"
    }
   ],
   "source": [
    "# 有些看不出来的操作，其实也是向量化的\n",
    "round(sqrt(1:5)) + 4"
   ]
  },
  {
   "cell_type": "markdown",
   "metadata": {},
   "source": [
    "上面可以解释为：c(1,1,2,2,2)+c(4,4,4,4,4) = c(5,5,6,6,6)"
   ]
  },
  {
   "cell_type": "markdown",
   "metadata": {},
   "source": [
    "注意，认识到R广泛利用向量化的同时，也要注意有时候会发成意想不到的情况。\n",
    "看下面的例子。"
   ]
  },
  {
   "cell_type": "code",
   "execution_count": 16,
   "metadata": {
    "ExecuteTime": {
     "end_time": "2018-05-20T09:21:30.638860Z",
     "start_time": "2018-05-20T09:21:30.386Z"
    }
   },
   "outputs": [
    {
     "data": {
      "text/html": [
       "<ol class=list-inline>\n",
       "\t<li>2</li>\n",
       "\t<li>3</li>\n",
       "\t<li>4</li>\n",
       "</ol>\n"
      ],
      "text/latex": [
       "\\begin{enumerate*}\n",
       "\\item 2\n",
       "\\item 3\n",
       "\\item 4\n",
       "\\end{enumerate*}\n"
      ],
      "text/markdown": [
       "1. 2\n",
       "2. 3\n",
       "3. 4\n",
       "\n",
       "\n"
      ],
      "text/plain": [
       "[1] 2 3 4"
      ]
     },
     "metadata": {},
     "output_type": "display_data"
    }
   ],
   "source": [
    "# 对vector x每个数值加上一个scalar c\n",
    "f <- function(x, c) return (x+c)\n",
    "f(c(1,2,3), 1)"
   ]
  },
  {
   "cell_type": "markdown",
   "metadata": {},
   "source": [
    "可以看到，函数`f`是可以正常运行的。另外，也应注意到此处计算的本质上是\n",
    "c(1,2,3) + c(1,1,1) = c(2,3,4).那么，函数`f`一定是安全的吗？不一定，\n",
    "因为在R中是不区分scalar和vector的，而`f`的参数`c`需要的明显是一个scalar,\n",
    "在我们正常使用`f`的时候不会出现问题，那么“不正常”使用的时候呢？看下面的例子"
   ]
  },
  {
   "cell_type": "code",
   "execution_count": 17,
   "metadata": {
    "ExecuteTime": {
     "end_time": "2018-05-20T09:21:30.659847Z",
     "start_time": "2018-05-20T09:21:30.391Z"
    }
   },
   "outputs": [
    {
     "data": {
      "text/html": [
       "<ol class=list-inline>\n",
       "\t<li>2</li>\n",
       "\t<li>4</li>\n",
       "\t<li>6</li>\n",
       "</ol>\n"
      ],
      "text/latex": [
       "\\begin{enumerate*}\n",
       "\\item 2\n",
       "\\item 4\n",
       "\\item 6\n",
       "\\end{enumerate*}\n"
      ],
      "text/markdown": [
       "1. 2\n",
       "2. 4\n",
       "3. 6\n",
       "\n",
       "\n"
      ],
      "text/plain": [
       "[1] 2 4 6"
      ]
     },
     "metadata": {},
     "output_type": "display_data"
    }
   ],
   "source": [
    "f(c(1,2,3), c(1,2,3))"
   ]
  },
  {
   "cell_type": "markdown",
   "metadata": {},
   "source": [
    "可以看到，在错误传输参数时，`f`也是可以运行的，但是我们是不希望这样的事发生的。\n",
    "所以应该对`f`进行如下的限制。"
   ]
  },
  {
   "cell_type": "code",
   "execution_count": 18,
   "metadata": {
    "ExecuteTime": {
     "end_time": "2018-05-20T09:21:30.678787Z",
     "start_time": "2018-05-20T09:21:30.397Z"
    }
   },
   "outputs": [
    {
     "data": {
      "text/html": [
       "<ol class=list-inline>\n",
       "\t<li>2</li>\n",
       "\t<li>3</li>\n",
       "\t<li>4</li>\n",
       "</ol>\n"
      ],
      "text/latex": [
       "\\begin{enumerate*}\n",
       "\\item 2\n",
       "\\item 3\n",
       "\\item 4\n",
       "\\end{enumerate*}\n"
      ],
      "text/markdown": [
       "1. 2\n",
       "2. 3\n",
       "3. 4\n",
       "\n",
       "\n"
      ],
      "text/plain": [
       "[1] 2 3 4"
      ]
     },
     "metadata": {},
     "output_type": "display_data"
    }
   ],
   "source": [
    "f <- function(x, c){\n",
    "    if(length(c) != 1) stop(\"vector c not allowed\")\n",
    "    return(x+c)\n",
    "}\n",
    "\n",
    "f(1:3, 1)"
   ]
  },
  {
   "cell_type": "code",
   "execution_count": 19,
   "metadata": {
    "ExecuteTime": {
     "end_time": "2018-05-20T09:21:30.719497Z",
     "start_time": "2018-05-20T09:21:30.402Z"
    }
   },
   "outputs": [
    {
     "ename": "ERROR",
     "evalue": "Error in f(c(1, 2, 3), c(1, 2, 3)): vector c not allowed\n",
     "output_type": "error",
     "traceback": [
      "Error in f(c(1, 2, 3), c(1, 2, 3)): vector c not allowed\nTraceback:\n",
      "1. f(c(1, 2, 3), c(1, 2, 3))",
      "2. stop(\"vector c not allowed\")   # at line 2 of file <text>"
     ]
    }
   ],
   "source": [
    "# c长度不为1时报错\n",
    "f(c(1,2,3), c(1,2,3))"
   ]
  },
  {
   "cell_type": "markdown",
   "metadata": {},
   "source": [
    "#### 2.6.2 向量，矩阵(Vector In, Matrix Out)"
   ]
  },
  {
   "cell_type": "code",
   "execution_count": null,
   "metadata": {
    "ExecuteTime": {
     "end_time": "2018-05-20T09:21:30.729960Z",
     "start_time": "2018-05-20T09:21:30.407Z"
    }
   },
   "outputs": [],
   "source": [
    "z12 <- function(z) return(c(z, z^2))\n",
    "sapply(1:8, z12)"
   ]
  },
  {
   "cell_type": "markdown",
   "metadata": {},
   "source": [
    "### 2.7 `NA`&`NULL`(NA and NULL Values)\n",
    "\n",
    "`NA`: Not Available, missing data(缺失值)\n",
    "`NULL`: 数据不存在"
   ]
  },
  {
   "cell_type": "markdown",
   "metadata": {},
   "source": [
    "#### 2.7.1 `NA`的使用(USing NA)"
   ]
  },
  {
   "cell_type": "code",
   "execution_count": null,
   "metadata": {
    "ExecuteTime": {
     "end_time": "2018-05-20T09:21:30.731815Z",
     "start_time": "2018-05-20T09:21:30.413Z"
    }
   },
   "outputs": [],
   "source": [
    "x <- c(88, NA, 12 ,168, 13)\n",
    "x"
   ]
  },
  {
   "cell_type": "code",
   "execution_count": null,
   "metadata": {
    "ExecuteTime": {
     "end_time": "2018-05-20T09:21:30.733831Z",
     "start_time": "2018-05-20T09:21:30.419Z"
    }
   },
   "outputs": [],
   "source": [
    "# 默认不会去除缺失值\n",
    "mean(x)"
   ]
  },
  {
   "cell_type": "code",
   "execution_count": null,
   "metadata": {
    "ExecuteTime": {
     "end_time": "2018-05-20T09:21:30.736626Z",
     "start_time": "2018-05-20T09:21:30.426Z"
    }
   },
   "outputs": [],
   "source": [
    "# 去除缺失值之后求均值\n",
    "mean(x, na.rm = TRUE)"
   ]
  },
  {
   "cell_type": "code",
   "execution_count": null,
   "metadata": {
    "ExecuteTime": {
     "end_time": "2018-05-20T09:21:30.738902Z",
     "start_time": "2018-05-20T09:21:30.432Z"
    }
   },
   "outputs": [],
   "source": [
    "# NULL 就不会有影响\n",
    "# 会自动跳过去NULL\n",
    "x <- c(88, NULL, 12, 168, 13)\n",
    "mean(x)"
   ]
  },
  {
   "cell_type": "markdown",
   "metadata": {},
   "source": [
    "由于这里考虑NA在向量里，而向量的元素都是一个`mode`的，所以，\n",
    "这里的`NA`会根据其他元素的不同而有不同的`mode`，看下面的例子。"
   ]
  },
  {
   "cell_type": "code",
   "execution_count": null,
   "metadata": {
    "ExecuteTime": {
     "end_time": "2018-05-20T09:21:30.741118Z",
     "start_time": "2018-05-20T09:21:30.437Z"
    }
   },
   "outputs": [],
   "source": [
    "x <- c(5, NA, 12)\n",
    "mode(x[1])"
   ]
  },
  {
   "cell_type": "code",
   "execution_count": null,
   "metadata": {
    "ExecuteTime": {
     "end_time": "2018-05-20T09:21:30.743500Z",
     "start_time": "2018-05-20T09:21:30.441Z"
    }
   },
   "outputs": [],
   "source": [
    "mode(x[2])"
   ]
  },
  {
   "cell_type": "code",
   "execution_count": null,
   "metadata": {
    "ExecuteTime": {
     "end_time": "2018-05-20T09:21:30.746069Z",
     "start_time": "2018-05-20T09:21:30.446Z"
    }
   },
   "outputs": [],
   "source": [
    "y <- c(\"abc\", \"def\", NA)\n",
    "mode(y[2])"
   ]
  },
  {
   "cell_type": "code",
   "execution_count": null,
   "metadata": {
    "ExecuteTime": {
     "end_time": "2018-05-20T09:21:30.748393Z",
     "start_time": "2018-05-20T09:21:30.450Z"
    }
   },
   "outputs": [],
   "source": [
    "mode(y[3])"
   ]
  },
  {
   "cell_type": "markdown",
   "metadata": {},
   "source": [
    "#### 2.7.2 `NULL`的使用(Using NULL)"
   ]
  },
  {
   "cell_type": "code",
   "execution_count": null,
   "metadata": {
    "ExecuteTime": {
     "end_time": "2018-05-20T09:21:30.750679Z",
     "start_time": "2018-05-20T09:21:30.455Z"
    }
   },
   "outputs": [],
   "source": [
    "# 使用NULL建立特定的向量\n",
    "# 建立1到10的所有偶数的向量\n",
    "z <- NULL\n",
    "for(i in 1:10) if (i %% 2 == 0) z <- c(z, i)\n",
    "z"
   ]
  },
  {
   "cell_type": "markdown",
   "metadata": {},
   "source": [
    "当然，这里只是一个示范，其实真要产生此序列，只需要`seq(2, 10, 2)`\n",
    "为了进一步说明`NULL`和`NA`的不同，看下面一个例子。"
   ]
  },
  {
   "cell_type": "code",
   "execution_count": null,
   "metadata": {
    "ExecuteTime": {
     "end_time": "2018-05-20T09:21:30.752959Z",
     "start_time": "2018-05-20T09:21:30.461Z"
    }
   },
   "outputs": [],
   "source": [
    "z <- NA\n",
    "for(i in 1:10) if (i %% 2 == 0) z <- c(z, i)\n",
    "z"
   ]
  },
  {
   "cell_type": "markdown",
   "metadata": {},
   "source": [
    "所以，还是如上所述，`NULL`代表什么也没有，就是空的。而`NA`代表本该有\n",
    "一个数据，但是它缺失了，我们用`NA`占位。"
   ]
  },
  {
   "cell_type": "code",
   "execution_count": null,
   "metadata": {
    "ExecuteTime": {
     "end_time": "2018-05-20T09:21:30.755399Z",
     "start_time": "2018-05-20T09:21:30.466Z"
    }
   },
   "outputs": [],
   "source": [
    "u <- NULL\n",
    "length(u)"
   ]
  },
  {
   "cell_type": "code",
   "execution_count": null,
   "metadata": {
    "ExecuteTime": {
     "end_time": "2018-05-20T09:21:30.757788Z",
     "start_time": "2018-05-20T09:21:30.477Z"
    }
   },
   "outputs": [],
   "source": [
    "v <- NA\n",
    "length(v)"
   ]
  },
  {
   "cell_type": "markdown",
   "metadata": {},
   "source": [
    "另外注意，`NULL`在R中是一个特殊的对象，它没有`mode`"
   ]
  },
  {
   "cell_type": "markdown",
   "metadata": {},
   "source": [
    "### 2.8 过滤（Filtering)\n",
    "\n",
    "`filtering`也一定程度上展示了R的函数式编程语言的属性。"
   ]
  },
  {
   "cell_type": "markdown",
   "metadata": {},
   "source": [
    "#### 2.8.1 生成过滤的索引(Generating Filtering Indices)"
   ]
  },
  {
   "cell_type": "code",
   "execution_count": null,
   "metadata": {
    "ExecuteTime": {
     "end_time": "2018-05-20T09:21:30.760580Z",
     "start_time": "2018-05-20T09:21:30.489Z"
    }
   },
   "outputs": [],
   "source": [
    "z <- c(5, 2 ,-3, 8)\n",
    "z*z > 8"
   ]
  },
  {
   "cell_type": "code",
   "execution_count": null,
   "metadata": {
    "ExecuteTime": {
     "end_time": "2018-05-20T09:21:30.762879Z",
     "start_time": "2018-05-20T09:21:30.499Z"
    }
   },
   "outputs": [],
   "source": [
    "z[z*z > 8]"
   ]
  },
  {
   "cell_type": "markdown",
   "metadata": {},
   "source": [
    "理解上面代码的关键是前面介绍过的`>`也是一个函数，`z*z`是由向量\n",
    "`z`产生的新的向量，之后`>8`相当于应用函数`>`到新的向量的每一个\n",
    "元素（作为第一个参数）,然后8作为函数`>`的第二个参数，之后产生\n",
    "一个由布尔值组成的向量，然后`z`去根据`T`还是`F`来选取符合要求的数据。"
   ]
  },
  {
   "cell_type": "code",
   "execution_count": 20,
   "metadata": {
    "ExecuteTime": {
     "end_time": "2018-05-20T09:21:30.988298Z",
     "start_time": "2018-05-20T09:21:30.969Z"
    }
   },
   "outputs": [
    {
     "data": {
      "text/html": [
       "TRUE"
      ],
      "text/latex": [
       "TRUE"
      ],
      "text/markdown": [
       "TRUE"
      ],
      "text/plain": [
       "[1] TRUE"
      ]
     },
     "metadata": {},
     "output_type": "display_data"
    }
   ],
   "source": [
    "# \">\"的本质是函数\n",
    "\">\" (2, 1)"
   ]
  },
  {
   "cell_type": "code",
   "execution_count": 21,
   "metadata": {
    "ExecuteTime": {
     "end_time": "2018-05-20T09:21:31.081228Z",
     "start_time": "2018-05-20T09:21:30.975Z"
    }
   },
   "outputs": [
    {
     "data": {
      "text/html": [
       "<table>\n",
       "<tbody>\n",
       "\t<tr><td>FALSE</td><td>TRUE </td></tr>\n",
       "\t<tr><td>FALSE</td><td>TRUE </td></tr>\n",
       "\t<tr><td> TRUE</td><td>TRUE </td></tr>\n",
       "\t<tr><td> TRUE</td><td>TRUE </td></tr>\n",
       "</tbody>\n",
       "</table>\n"
      ],
      "text/latex": [
       "\\begin{tabular}{ll}\n",
       "\t FALSE & TRUE \\\\\n",
       "\t FALSE & TRUE \\\\\n",
       "\t  TRUE & TRUE \\\\\n",
       "\t  TRUE & TRUE \\\\\n",
       "\\end{tabular}\n"
      ],
      "text/markdown": [
       "\n",
       "| FALSE | TRUE  | \n",
       "| FALSE | TRUE  | \n",
       "|  TRUE | TRUE  | \n",
       "|  TRUE | TRUE  | \n",
       "\n",
       "\n"
      ],
      "text/plain": [
       "     [,1]  [,2]\n",
       "[1,] FALSE TRUE\n",
       "[2,] FALSE TRUE\n",
       "[3,]  TRUE TRUE\n",
       "[4,]  TRUE TRUE"
      ]
     },
     "metadata": {},
     "output_type": "display_data"
    }
   ],
   "source": [
    "# 所以z*z>8就是如下\n",
    "\">\" (z*z, 8)"
   ]
  },
  {
   "cell_type": "code",
   "execution_count": 22,
   "metadata": {
    "ExecuteTime": {
     "end_time": "2018-05-20T09:21:31.110613Z",
     "start_time": "2018-05-20T09:21:30.982Z"
    }
   },
   "outputs": [
    {
     "data": {
      "text/html": [
       "<table>\n",
       "<tbody>\n",
       "\t<tr><td>1</td><td>5</td></tr>\n",
       "\t<tr><td>2</td><td>6</td></tr>\n",
       "\t<tr><td>3</td><td>7</td></tr>\n",
       "\t<tr><td>4</td><td>8</td></tr>\n",
       "</tbody>\n",
       "</table>\n"
      ],
      "text/latex": [
       "\\begin{tabular}{ll}\n",
       "\t 1 & 5\\\\\n",
       "\t 2 & 6\\\\\n",
       "\t 3 & 7\\\\\n",
       "\t 4 & 8\\\\\n",
       "\\end{tabular}\n"
      ],
      "text/markdown": [
       "\n",
       "| 1 | 5 | \n",
       "| 2 | 6 | \n",
       "| 3 | 7 | \n",
       "| 4 | 8 | \n",
       "\n",
       "\n"
      ],
      "text/plain": [
       "     [,1] [,2]\n",
       "[1,] 1    5   \n",
       "[2,] 2    6   \n",
       "[3,] 3    7   \n",
       "[4,] 4    8   "
      ]
     },
     "metadata": {},
     "output_type": "display_data"
    }
   ],
   "source": [
    "# 也可以过滤出符合条件的数据，然后重新赋值\n",
    "z[z < 0] <- 0\n",
    "z"
   ]
  },
  {
   "cell_type": "markdown",
   "metadata": {},
   "source": [
    "#### 2.8.2 使用`subset()`函数过滤(Filtering with the subset() Function)\n",
    "\n",
    "使用`subset`来过滤数据和之前的方法作用是基本一样的，唯一的不同\n",
    "是`subset`处理含有`NA`的向量更加方便一些,自动去除了`NA`值。"
   ]
  },
  {
   "cell_type": "code",
   "execution_count": 23,
   "metadata": {
    "ExecuteTime": {
     "end_time": "2018-05-20T09:21:31.132527Z",
     "start_time": "2018-05-20T09:21:30.989Z"
    }
   },
   "outputs": [
    {
     "data": {
      "text/html": [
       "<ol class=list-inline>\n",
       "\t<li>6</li>\n",
       "\t<li>1</li>\n",
       "\t<li>2</li>\n",
       "\t<li>3</li>\n",
       "\t<li>&lt;NA&gt;</li>\n",
       "\t<li>12</li>\n",
       "</ol>\n"
      ],
      "text/latex": [
       "\\begin{enumerate*}\n",
       "\\item 6\n",
       "\\item 1\n",
       "\\item 2\n",
       "\\item 3\n",
       "\\item <NA>\n",
       "\\item 12\n",
       "\\end{enumerate*}\n"
      ],
      "text/markdown": [
       "1. 6\n",
       "2. 1\n",
       "3. 2\n",
       "4. 3\n",
       "5. &lt;NA&gt;\n",
       "6. 12\n",
       "\n",
       "\n"
      ],
      "text/plain": [
       "[1]  6  1  2  3 NA 12"
      ]
     },
     "metadata": {},
     "output_type": "display_data"
    }
   ],
   "source": [
    "x <- c(6, 1:3, NA, 12)\n",
    "x"
   ]
  },
  {
   "cell_type": "code",
   "execution_count": 24,
   "metadata": {
    "ExecuteTime": {
     "end_time": "2018-05-20T09:21:31.149623Z",
     "start_time": "2018-05-20T09:21:30.997Z"
    }
   },
   "outputs": [
    {
     "data": {
      "text/html": [
       "<ol class=list-inline>\n",
       "\t<li>6</li>\n",
       "\t<li>&lt;NA&gt;</li>\n",
       "\t<li>12</li>\n",
       "</ol>\n"
      ],
      "text/latex": [
       "\\begin{enumerate*}\n",
       "\\item 6\n",
       "\\item <NA>\n",
       "\\item 12\n",
       "\\end{enumerate*}\n"
      ],
      "text/markdown": [
       "1. 6\n",
       "2. &lt;NA&gt;\n",
       "3. 12\n",
       "\n",
       "\n"
      ],
      "text/plain": [
       "[1]  6 NA 12"
      ]
     },
     "metadata": {},
     "output_type": "display_data"
    }
   ],
   "source": [
    "x[x > 5]"
   ]
  },
  {
   "cell_type": "code",
   "execution_count": 25,
   "metadata": {
    "ExecuteTime": {
     "end_time": "2018-05-20T09:21:31.180203Z",
     "start_time": "2018-05-20T09:21:31.005Z"
    }
   },
   "outputs": [
    {
     "data": {
      "text/html": [
       "<ol class=list-inline>\n",
       "\t<li>6</li>\n",
       "\t<li>12</li>\n",
       "</ol>\n"
      ],
      "text/latex": [
       "\\begin{enumerate*}\n",
       "\\item 6\n",
       "\\item 12\n",
       "\\end{enumerate*}\n"
      ],
      "text/markdown": [
       "1. 6\n",
       "2. 12\n",
       "\n",
       "\n"
      ],
      "text/plain": [
       "[1]  6 12"
      ]
     },
     "metadata": {},
     "output_type": "display_data"
    }
   ],
   "source": [
    "subset(x, x > 5)"
   ]
  },
  {
   "cell_type": "markdown",
   "metadata": {},
   "source": [
    "#### 2.8.3 `which`函数（The Selection Function which()）\n",
    "\n",
    "`which`返回满足指定条件的数据的位置。"
   ]
  },
  {
   "cell_type": "code",
   "execution_count": 26,
   "metadata": {
    "ExecuteTime": {
     "end_time": "2018-05-20T09:21:31.198836Z",
     "start_time": "2018-05-20T09:21:31.013Z"
    }
   },
   "outputs": [
    {
     "data": {
      "text/html": [
       "<ol class=list-inline>\n",
       "\t<li>1</li>\n",
       "\t<li>3</li>\n",
       "\t<li>4</li>\n",
       "</ol>\n"
      ],
      "text/latex": [
       "\\begin{enumerate*}\n",
       "\\item 1\n",
       "\\item 3\n",
       "\\item 4\n",
       "\\end{enumerate*}\n"
      ],
      "text/markdown": [
       "1. 1\n",
       "2. 3\n",
       "3. 4\n",
       "\n",
       "\n"
      ],
      "text/plain": [
       "[1] 1 3 4"
      ]
     },
     "metadata": {},
     "output_type": "display_data"
    }
   ],
   "source": [
    "z <- c(5, 2, -3 ,8)\n",
    "which(z*z > 8)"
   ]
  },
  {
   "cell_type": "code",
   "execution_count": 27,
   "metadata": {
    "ExecuteTime": {
     "end_time": "2018-05-20T09:21:31.220781Z",
     "start_time": "2018-05-20T09:21:31.020Z"
    }
   },
   "outputs": [
    {
     "data": {
      "text/html": [
       "<ol class=list-inline>\n",
       "\t<li>TRUE</li>\n",
       "\t<li>FALSE</li>\n",
       "\t<li>TRUE</li>\n",
       "\t<li>TRUE</li>\n",
       "</ol>\n"
      ],
      "text/latex": [
       "\\begin{enumerate*}\n",
       "\\item TRUE\n",
       "\\item FALSE\n",
       "\\item TRUE\n",
       "\\item TRUE\n",
       "\\end{enumerate*}\n"
      ],
      "text/markdown": [
       "1. TRUE\n",
       "2. FALSE\n",
       "3. TRUE\n",
       "4. TRUE\n",
       "\n",
       "\n"
      ],
      "text/plain": [
       "[1]  TRUE FALSE  TRUE  TRUE"
      ]
     },
     "metadata": {},
     "output_type": "display_data"
    }
   ],
   "source": [
    "z*z > 8"
   ]
  },
  {
   "cell_type": "markdown",
   "metadata": {},
   "source": [
    "可以看到，`which`就是返回所有`TRUE`的索引而已。"
   ]
  },
  {
   "cell_type": "code",
   "execution_count": 28,
   "metadata": {
    "ExecuteTime": {
     "end_time": "2018-05-20T09:21:31.244923Z",
     "start_time": "2018-05-20T09:21:31.027Z"
    }
   },
   "outputs": [
    {
     "data": {
      "text/html": [
       "2"
      ],
      "text/latex": [
       "2"
      ],
      "text/markdown": [
       "2"
      ],
      "text/plain": [
       "[1] 2"
      ]
     },
     "metadata": {},
     "output_type": "display_data"
    }
   ],
   "source": [
    "# 前面写过的，寻找向量的第一个1的位置\n",
    "first1 <- function(x) {\n",
    "    for (i in 1:length(x)) {\n",
    "        if (x[i] == 1) break # break out of loop\n",
    "    }\n",
    "    return(i)\n",
    "}\n",
    "\n",
    "first1(c(0,1,2))"
   ]
  },
  {
   "cell_type": "code",
   "execution_count": 29,
   "metadata": {
    "ExecuteTime": {
     "end_time": "2018-05-20T09:21:31.265618Z",
     "start_time": "2018-05-20T09:21:31.032Z"
    }
   },
   "outputs": [
    {
     "data": {
      "text/html": [
       "2"
      ],
      "text/latex": [
       "2"
      ],
      "text/markdown": [
       "2"
      ],
      "text/plain": [
       "[1] 2"
      ]
     },
     "metadata": {},
     "output_type": "display_data"
    }
   ],
   "source": [
    "# 使用which的版本\n",
    "first1a <- function(x){return(which(x==1)[1])}\n",
    "first1a(c(0,1,2))"
   ]
  },
  {
   "cell_type": "markdown",
   "metadata": {},
   "source": [
    "注意，在目标为寻找第一个1的位置时，第二种方法是有点奢侈的...因为它是\n",
    "找到了所有为1的位置，即使`which`是使用向量化的操作，\n",
    "如果在向量较长，且第一个1出现较早的时候，可能前面`for`循环的效率\n",
    "更高一些。"
   ]
  },
  {
   "cell_type": "markdown",
   "metadata": {},
   "source": [
    "### 2.9 `ifelse`函数(A Vectorized if-then-else: The ifelse() Function)\n",
    "\n",
    "除了`if-then-else`之外，R特有一个向量化的`ifelse`函数，调用\n",
    "格式为`ifelse(b, u, v)`，`b`为布尔向量，`u`,`v`是向量"
   ]
  },
  {
   "cell_type": "code",
   "execution_count": 30,
   "metadata": {
    "ExecuteTime": {
     "end_time": "2018-05-20T09:21:31.287449Z",
     "start_time": "2018-05-20T09:21:31.039Z"
    }
   },
   "outputs": [
    {
     "data": {
      "text/html": [
       "<ol class=list-inline>\n",
       "\t<li>12</li>\n",
       "\t<li>5</li>\n",
       "\t<li>12</li>\n",
       "\t<li>5</li>\n",
       "</ol>\n"
      ],
      "text/latex": [
       "\\begin{enumerate*}\n",
       "\\item 12\n",
       "\\item 5\n",
       "\\item 12\n",
       "\\item 5\n",
       "\\end{enumerate*}\n"
      ],
      "text/markdown": [
       "1. 12\n",
       "2. 5\n",
       "3. 12\n",
       "4. 5\n",
       "\n",
       "\n"
      ],
      "text/plain": [
       "[1] 12  5 12  5"
      ]
     },
     "metadata": {},
     "output_type": "display_data"
    }
   ],
   "source": [
    "x <- 1:4\n",
    "y <- ifelse(x %% 2 == 0, 5 ,12)\n",
    "y"
   ]
  },
  {
   "cell_type": "code",
   "execution_count": 31,
   "metadata": {
    "ExecuteTime": {
     "end_time": "2018-05-20T09:21:31.303606Z",
     "start_time": "2018-05-20T09:21:31.043Z"
    }
   },
   "outputs": [
    {
     "data": {
      "text/html": [
       "<ol class=list-inline>\n",
       "\t<li>FALSE</li>\n",
       "\t<li>TRUE</li>\n",
       "\t<li>FALSE</li>\n",
       "\t<li>TRUE</li>\n",
       "</ol>\n"
      ],
      "text/latex": [
       "\\begin{enumerate*}\n",
       "\\item FALSE\n",
       "\\item TRUE\n",
       "\\item FALSE\n",
       "\\item TRUE\n",
       "\\end{enumerate*}\n"
      ],
      "text/markdown": [
       "1. FALSE\n",
       "2. TRUE\n",
       "3. FALSE\n",
       "4. TRUE\n",
       "\n",
       "\n"
      ],
      "text/plain": [
       "[1] FALSE  TRUE FALSE  TRUE"
      ]
     },
     "metadata": {},
     "output_type": "display_data"
    }
   ],
   "source": [
    "x %% 2 == 0"
   ]
  },
  {
   "cell_type": "markdown",
   "metadata": {},
   "source": [
    "注意，这里的5和12其实是c(5,5,5,5),c(12,12,12,12),根据`x %% 2 == 0`\n",
    "的值为`TRUE`或`FALSE`来从两个变量中选取对应的数据。比如，`x %% 2 == 0`\n",
    "的第一个值为`FALSE`，所以从选取c(12,12,12,12)的第一个数据作为结果的第一\n",
    "个数据。"
   ]
  },
  {
   "cell_type": "code",
   "execution_count": 32,
   "metadata": {
    "ExecuteTime": {
     "end_time": "2018-05-20T09:21:31.321460Z",
     "start_time": "2018-05-20T09:21:31.049Z"
    }
   },
   "outputs": [
    {
     "data": {
      "text/html": [
       "<ol class=list-inline>\n",
       "\t<li>15</li>\n",
       "\t<li>6</li>\n",
       "\t<li>18</li>\n",
       "\t<li>24</li>\n",
       "</ol>\n"
      ],
      "text/latex": [
       "\\begin{enumerate*}\n",
       "\\item 15\n",
       "\\item 6\n",
       "\\item 18\n",
       "\\item 24\n",
       "\\end{enumerate*}\n"
      ],
      "text/markdown": [
       "1. 15\n",
       "2. 6\n",
       "3. 18\n",
       "4. 24\n",
       "\n",
       "\n"
      ],
      "text/plain": [
       "[1] 15  6 18 24"
      ]
     },
     "metadata": {},
     "output_type": "display_data"
    }
   ],
   "source": [
    "x <- c(5, 2, 9, 12)\n",
    "ifelse(x > 6, 2*x, 3*x)"
   ]
  },
  {
   "cell_type": "markdown",
   "metadata": {},
   "source": [
    "`ifelse`和`if-then-else`相比，优势在于它是向量化的，一般运行速度会快一些。"
   ]
  },
  {
   "cell_type": "markdown",
   "metadata": {},
   "source": [
    "#### 2.9.1 拓展：关联性测量（Extended Example: A Measure of Association）\n",
    "\n",
    "类似非参数统计中 Kendall's $\\tau$ 的度量"
   ]
  },
  {
   "cell_type": "code",
   "execution_count": 33,
   "metadata": {
    "ExecuteTime": {
     "end_time": "2018-05-20T09:21:31.350198Z",
     "start_time": "2018-05-20T09:21:31.054Z"
    }
   },
   "outputs": [
    {
     "data": {
      "text/html": [
       "0.4"
      ],
      "text/latex": [
       "0.4"
      ],
      "text/markdown": [
       "0.4"
      ],
      "text/plain": [
       "[1] 0.4"
      ]
     },
     "metadata": {},
     "output_type": "display_data"
    }
   ],
   "source": [
    "# findud() converts vector v to 1s, 0s, representing an element\n",
    "# increasing or not, relative to the previous one; output length is 1\n",
    "# less than input\n",
    "findud <- function(v) {\n",
    "    vud <- v[-1] - v[-length(v)]\n",
    "    return(ifelse(vud > 0,1,-1))\n",
    "}\n",
    "\n",
    "udcorr <- function(x,y) {\n",
    "    ud <- lapply(list(x,y),findud)\n",
    "    return(mean(ud[[1]] == ud[[2]]))\n",
    "}\n",
    "\n",
    "x <-  c(5, 12, 13, 3, 6, 0, 1, 15, 16, 8, 88)\n",
    "y <- c(4, 2, 3, 23, 6, 10, 11, 12, 6, 3, 2)\n",
    "udcorr(x, y)"
   ]
  },
  {
   "cell_type": "code",
   "execution_count": 34,
   "metadata": {
    "ExecuteTime": {
     "end_time": "2018-05-20T09:21:31.372890Z",
     "start_time": "2018-05-20T09:21:31.060Z"
    }
   },
   "outputs": [
    {
     "data": {
      "text/html": [
       "0.4"
      ],
      "text/latex": [
       "0.4"
      ],
      "text/markdown": [
       "0.4"
      ],
      "text/plain": [
       "[1] 0.4"
      ]
     },
     "metadata": {},
     "output_type": "display_data"
    }
   ],
   "source": [
    "# 改进版\n",
    "udcorr <- function(x,y) mean(sign(diff(x)) == sign(diff(y)))\n",
    "udcorr(x, y)"
   ]
  },
  {
   "cell_type": "code",
   "execution_count": 35,
   "metadata": {
    "ExecuteTime": {
     "end_time": "2018-05-20T09:21:31.399880Z",
     "start_time": "2018-05-20T09:21:31.065Z"
    }
   },
   "outputs": [
    {
     "data": {
      "text/html": [
       "<ol class=list-inline>\n",
       "\t<li>7</li>\n",
       "\t<li>1</li>\n",
       "\t<li>-10</li>\n",
       "\t<li>3</li>\n",
       "\t<li>-6</li>\n",
       "\t<li>1</li>\n",
       "\t<li>14</li>\n",
       "\t<li>1</li>\n",
       "\t<li>-8</li>\n",
       "\t<li>80</li>\n",
       "</ol>\n"
      ],
      "text/latex": [
       "\\begin{enumerate*}\n",
       "\\item 7\n",
       "\\item 1\n",
       "\\item -10\n",
       "\\item 3\n",
       "\\item -6\n",
       "\\item 1\n",
       "\\item 14\n",
       "\\item 1\n",
       "\\item -8\n",
       "\\item 80\n",
       "\\end{enumerate*}\n"
      ],
      "text/markdown": [
       "1. 7\n",
       "2. 1\n",
       "3. -10\n",
       "4. 3\n",
       "5. -6\n",
       "6. 1\n",
       "7. 14\n",
       "8. 1\n",
       "9. -8\n",
       "10. 80\n",
       "\n",
       "\n"
      ],
      "text/plain": [
       " [1]   7   1 -10   3  -6   1  14   1  -8  80"
      ]
     },
     "metadata": {},
     "output_type": "display_data"
    }
   ],
   "source": [
    "# diff就是差分函数(lag=1,就是后一个减去前一个数值的值)\n",
    "diff(x)"
   ]
  },
  {
   "cell_type": "code",
   "execution_count": 36,
   "metadata": {
    "ExecuteTime": {
     "end_time": "2018-05-20T09:21:31.417927Z",
     "start_time": "2018-05-20T09:21:31.073Z"
    }
   },
   "outputs": [
    {
     "data": {
      "text/html": [
       "<ol class=list-inline>\n",
       "\t<li>-1</li>\n",
       "\t<li>-1</li>\n",
       "\t<li>0</li>\n",
       "\t<li>1</li>\n",
       "\t<li>1</li>\n",
       "</ol>\n"
      ],
      "text/latex": [
       "\\begin{enumerate*}\n",
       "\\item -1\n",
       "\\item -1\n",
       "\\item 0\n",
       "\\item 1\n",
       "\\item 1\n",
       "\\end{enumerate*}\n"
      ],
      "text/markdown": [
       "1. -1\n",
       "2. -1\n",
       "3. 0\n",
       "4. 1\n",
       "5. 1\n",
       "\n",
       "\n"
      ],
      "text/plain": [
       "[1] -1 -1  0  1  1"
      ]
     },
     "metadata": {},
     "output_type": "display_data"
    }
   ],
   "source": [
    "# sign 函数\n",
    "sign(c(-2, -1, 0, 1, 2))"
   ]
  },
  {
   "cell_type": "markdown",
   "metadata": {},
   "source": [
    "#### 2.9.2 数据的重新编码(Extended Example: Recoding an Abalone Data Set)\n"
   ]
  },
  {
   "cell_type": "code",
   "execution_count": 37,
   "metadata": {
    "ExecuteTime": {
     "end_time": "2018-05-20T09:21:31.439137Z",
     "start_time": "2018-05-20T09:21:31.082Z"
    }
   },
   "outputs": [
    {
     "data": {
      "text/html": [
       "<ol class=list-inline>\n",
       "\t<li>1</li>\n",
       "\t<li>2</li>\n",
       "\t<li>2</li>\n",
       "\t<li>3</li>\n",
       "\t<li>1</li>\n",
       "\t<li>1</li>\n",
       "\t<li>2</li>\n",
       "</ol>\n"
      ],
      "text/latex": [
       "\\begin{enumerate*}\n",
       "\\item 1\n",
       "\\item 2\n",
       "\\item 2\n",
       "\\item 3\n",
       "\\item 1\n",
       "\\item 1\n",
       "\\item 2\n",
       "\\end{enumerate*}\n"
      ],
      "text/markdown": [
       "1. 1\n",
       "2. 2\n",
       "3. 2\n",
       "4. 3\n",
       "5. 1\n",
       "6. 1\n",
       "7. 2\n",
       "\n",
       "\n"
      ],
      "text/plain": [
       "[1] 1 2 2 3 1 1 2"
      ]
     },
     "metadata": {},
     "output_type": "display_data"
    }
   ],
   "source": [
    "g <- c(\"M\",\"F\",\"F\",\"I\",\"M\",\"M\",\"F\")\n",
    "ifelse(g == \"M\", 1, ifelse(g == \"F\", 2, 3))"
   ]
  },
  {
   "cell_type": "markdown",
   "metadata": {},
   "source": [
    "这里书上提到一点，那就是R是使用`lazy evaluation`（惰性求值）的，\n",
    "这是函数编程语言十分重要的一点。"
   ]
  },
  {
   "cell_type": "code",
   "execution_count": 38,
   "metadata": {
    "ExecuteTime": {
     "end_time": "2018-05-20T09:21:31.458379Z",
     "start_time": "2018-05-20T09:21:31.090Z"
    }
   },
   "outputs": [],
   "source": [
    "# 将数据分分割开\n",
    "m <- which(g == \"M\")\n",
    "f <- which(g == \"F\")\n",
    "i <- which(g == \"I\")"
   ]
  },
  {
   "cell_type": "code",
   "execution_count": 39,
   "metadata": {
    "ExecuteTime": {
     "end_time": "2018-05-20T09:21:31.476668Z",
     "start_time": "2018-05-20T09:21:31.096Z"
    }
   },
   "outputs": [
    {
     "data": {
      "text/html": [
       "<ol class=list-inline>\n",
       "\t<li>1</li>\n",
       "\t<li>5</li>\n",
       "\t<li>6</li>\n",
       "</ol>\n"
      ],
      "text/latex": [
       "\\begin{enumerate*}\n",
       "\\item 1\n",
       "\\item 5\n",
       "\\item 6\n",
       "\\end{enumerate*}\n"
      ],
      "text/markdown": [
       "1. 1\n",
       "2. 5\n",
       "3. 6\n",
       "\n",
       "\n"
      ],
      "text/plain": [
       "[1] 1 5 6"
      ]
     },
     "metadata": {},
     "output_type": "display_data"
    }
   ],
   "source": [
    "m"
   ]
  },
  {
   "cell_type": "code",
   "execution_count": 40,
   "metadata": {
    "ExecuteTime": {
     "end_time": "2018-05-20T09:21:31.497460Z",
     "start_time": "2018-05-20T09:21:31.101Z"
    }
   },
   "outputs": [
    {
     "data": {
      "text/html": [
       "<ol class=list-inline>\n",
       "\t<li>2</li>\n",
       "\t<li>3</li>\n",
       "\t<li>7</li>\n",
       "</ol>\n"
      ],
      "text/latex": [
       "\\begin{enumerate*}\n",
       "\\item 2\n",
       "\\item 3\n",
       "\\item 7\n",
       "\\end{enumerate*}\n"
      ],
      "text/markdown": [
       "1. 2\n",
       "2. 3\n",
       "3. 7\n",
       "\n",
       "\n"
      ],
      "text/plain": [
       "[1] 2 3 7"
      ]
     },
     "metadata": {},
     "output_type": "display_data"
    }
   ],
   "source": [
    "f"
   ]
  },
  {
   "cell_type": "code",
   "execution_count": 41,
   "metadata": {
    "ExecuteTime": {
     "end_time": "2018-05-20T09:21:31.515516Z",
     "start_time": "2018-05-20T09:21:31.106Z"
    }
   },
   "outputs": [
    {
     "data": {
      "text/html": [
       "4"
      ],
      "text/latex": [
       "4"
      ],
      "text/markdown": [
       "4"
      ],
      "text/plain": [
       "[1] 4"
      ]
     },
     "metadata": {},
     "output_type": "display_data"
    }
   ],
   "source": [
    "i"
   ]
  },
  {
   "cell_type": "code",
   "execution_count": 42,
   "metadata": {
    "ExecuteTime": {
     "end_time": "2018-05-20T09:21:31.539744Z",
     "start_time": "2018-05-20T09:21:31.114Z"
    }
   },
   "outputs": [
    {
     "data": {
      "text/html": [
       "<dl>\n",
       "\t<dt>$M</dt>\n",
       "\t\t<dd><ol class=list-inline>\n",
       "\t<li>1</li>\n",
       "\t<li>5</li>\n",
       "\t<li>6</li>\n",
       "</ol>\n",
       "</dd>\n",
       "\t<dt>$F</dt>\n",
       "\t\t<dd><ol class=list-inline>\n",
       "\t<li>2</li>\n",
       "\t<li>3</li>\n",
       "\t<li>7</li>\n",
       "</ol>\n",
       "</dd>\n",
       "\t<dt>$I</dt>\n",
       "\t\t<dd>4</dd>\n",
       "</dl>\n"
      ],
      "text/latex": [
       "\\begin{description}\n",
       "\\item[\\$M] \\begin{enumerate*}\n",
       "\\item 1\n",
       "\\item 5\n",
       "\\item 6\n",
       "\\end{enumerate*}\n",
       "\n",
       "\\item[\\$F] \\begin{enumerate*}\n",
       "\\item 2\n",
       "\\item 3\n",
       "\\item 7\n",
       "\\end{enumerate*}\n",
       "\n",
       "\\item[\\$I] 4\n",
       "\\end{description}\n"
      ],
      "text/markdown": [
       "$M\n",
       ":   1. 1\n",
       "2. 5\n",
       "3. 6\n",
       "\n",
       "\n",
       "\n",
       "$F\n",
       ":   1. 2\n",
       "2. 3\n",
       "3. 7\n",
       "\n",
       "\n",
       "\n",
       "$I\n",
       ":   4\n",
       "\n",
       "\n"
      ],
      "text/plain": [
       "$M\n",
       "[1] 1 5 6\n",
       "\n",
       "$F\n",
       "[1] 2 3 7\n",
       "\n",
       "$I\n",
       "[1] 4\n"
      ]
     },
     "metadata": {},
     "output_type": "display_data"
    }
   ],
   "source": [
    "# 将三组数据装进一个list\n",
    "grps <- list()\n",
    "for(gen in c(\"M\", \"F\", \"I\")) grps[[gen]] <- which(g == gen)\n",
    "grps"
   ]
  },
  {
   "cell_type": "code",
   "execution_count": 43,
   "metadata": {
    "ExecuteTime": {
     "end_time": "2018-05-20T09:21:33.269708Z",
     "start_time": "2018-05-20T09:21:31.122Z"
    }
   },
   "outputs": [
    {
     "data": {
      "text/html": [
       "<table>\n",
       "<thead><tr><th scope=col>V1</th><th scope=col>V2</th><th scope=col>V3</th><th scope=col>V4</th><th scope=col>V5</th><th scope=col>V6</th><th scope=col>V7</th><th scope=col>V8</th><th scope=col>V9</th></tr></thead>\n",
       "<tbody>\n",
       "\t<tr><td>M     </td><td>0.455 </td><td>0.365 </td><td>0.095 </td><td>0.5140</td><td>0.2245</td><td>0.1010</td><td>0.150 </td><td>15    </td></tr>\n",
       "\t<tr><td>M     </td><td>0.350 </td><td>0.265 </td><td>0.090 </td><td>0.2255</td><td>0.0995</td><td>0.0485</td><td>0.070 </td><td> 7    </td></tr>\n",
       "\t<tr><td>F     </td><td>0.530 </td><td>0.420 </td><td>0.135 </td><td>0.6770</td><td>0.2565</td><td>0.1415</td><td>0.210 </td><td> 9    </td></tr>\n",
       "\t<tr><td>M     </td><td>0.440 </td><td>0.365 </td><td>0.125 </td><td>0.5160</td><td>0.2155</td><td>0.1140</td><td>0.155 </td><td>10    </td></tr>\n",
       "\t<tr><td>I     </td><td>0.330 </td><td>0.255 </td><td>0.080 </td><td>0.2050</td><td>0.0895</td><td>0.0395</td><td>0.055 </td><td> 7    </td></tr>\n",
       "\t<tr><td>I     </td><td>0.425 </td><td>0.300 </td><td>0.095 </td><td>0.3515</td><td>0.1410</td><td>0.0775</td><td>0.120 </td><td> 8    </td></tr>\n",
       "</tbody>\n",
       "</table>\n"
      ],
      "text/latex": [
       "\\begin{tabular}{r|lllllllll}\n",
       " V1 & V2 & V3 & V4 & V5 & V6 & V7 & V8 & V9\\\\\n",
       "\\hline\n",
       "\t M      & 0.455  & 0.365  & 0.095  & 0.5140 & 0.2245 & 0.1010 & 0.150  & 15    \\\\\n",
       "\t M      & 0.350  & 0.265  & 0.090  & 0.2255 & 0.0995 & 0.0485 & 0.070  &  7    \\\\\n",
       "\t F      & 0.530  & 0.420  & 0.135  & 0.6770 & 0.2565 & 0.1415 & 0.210  &  9    \\\\\n",
       "\t M      & 0.440  & 0.365  & 0.125  & 0.5160 & 0.2155 & 0.1140 & 0.155  & 10    \\\\\n",
       "\t I      & 0.330  & 0.255  & 0.080  & 0.2050 & 0.0895 & 0.0395 & 0.055  &  7    \\\\\n",
       "\t I      & 0.425  & 0.300  & 0.095  & 0.3515 & 0.1410 & 0.0775 & 0.120  &  8    \\\\\n",
       "\\end{tabular}\n"
      ],
      "text/markdown": [
       "\n",
       "V1 | V2 | V3 | V4 | V5 | V6 | V7 | V8 | V9 | \n",
       "|---|---|---|---|---|---|\n",
       "| M      | 0.455  | 0.365  | 0.095  | 0.5140 | 0.2245 | 0.1010 | 0.150  | 15     | \n",
       "| M      | 0.350  | 0.265  | 0.090  | 0.2255 | 0.0995 | 0.0485 | 0.070  |  7     | \n",
       "| F      | 0.530  | 0.420  | 0.135  | 0.6770 | 0.2565 | 0.1415 | 0.210  |  9     | \n",
       "| M      | 0.440  | 0.365  | 0.125  | 0.5160 | 0.2155 | 0.1140 | 0.155  | 10     | \n",
       "| I      | 0.330  | 0.255  | 0.080  | 0.2050 | 0.0895 | 0.0395 | 0.055  |  7     | \n",
       "| I      | 0.425  | 0.300  | 0.095  | 0.3515 | 0.1410 | 0.0775 | 0.120  |  8     | \n",
       "\n",
       "\n"
      ],
      "text/plain": [
       "  V1 V2    V3    V4    V5     V6     V7     V8    V9\n",
       "1 M  0.455 0.365 0.095 0.5140 0.2245 0.1010 0.150 15\n",
       "2 M  0.350 0.265 0.090 0.2255 0.0995 0.0485 0.070  7\n",
       "3 F  0.530 0.420 0.135 0.6770 0.2565 0.1415 0.210  9\n",
       "4 M  0.440 0.365 0.125 0.5160 0.2155 0.1140 0.155 10\n",
       "5 I  0.330 0.255 0.080 0.2050 0.0895 0.0395 0.055  7\n",
       "6 I  0.425 0.300 0.095 0.3515 0.1410 0.0775 0.120  8"
      ]
     },
     "metadata": {},
     "output_type": "display_data"
    }
   ],
   "source": [
    "# plot的例子\n",
    "aba <- read.csv(\"http://archive.ics.uci.edu/ml/machine-learning-databases/abalone/abalone.data\", header=FALSE)\n",
    "head(aba)"
   ]
  },
  {
   "cell_type": "code",
   "execution_count": 44,
   "metadata": {
    "ExecuteTime": {
     "end_time": "2018-05-20T09:21:33.597400Z",
     "start_time": "2018-05-20T09:21:31.128Z"
    }
   },
   "outputs": [
    {
     "data": {
      "image/png": "[encoded data removed]",
      "text/plain": [
       "plot without title"
      ]
     },
     "metadata": {},
     "output_type": "display_data"
    }
   ],
   "source": [
    "grps <- list()\n",
    "for (gen in c(\"M\",\"F\")) grps[[gen]] <- which(aba$V1==gen)\n",
    "abam <- aba[grps$M,]\n",
    "abaf <- aba[grps$F,]\n",
    "plot(abam$V2, abam$V3)\n",
    "points(abaf$V2,abaf$V3,pch=\"x\",new=FALSE)"
   ]
  },
  {
   "cell_type": "code",
   "execution_count": 45,
   "metadata": {
    "ExecuteTime": {
     "end_time": "2018-05-20T09:21:33.980319Z",
     "start_time": "2018-05-20T09:21:31.136Z"
    }
   },
   "outputs": [
    {
     "data": {
      "image/png": "[encoded data removed]",
      "text/plain": [
       "plot without title"
      ]
     },
     "metadata": {},
     "output_type": "display_data"
    }
   ],
   "source": [
    "pchvec <- ifelse(aba$V1 == \"M\",\"o\",\"x\")\n",
    "plot(aba$V2,aba$V3,pch=pchvec)"
   ]
  },
  {
   "cell_type": "markdown",
   "metadata": {},
   "source": [
    "### 2.10 向量比较（Testing Vector Equality）"
   ]
  },
  {
   "cell_type": "code",
   "execution_count": 46,
   "metadata": {
    "ExecuteTime": {
     "end_time": "2018-05-20T09:21:33.999249Z",
     "start_time": "2018-05-20T09:21:31.765Z"
    }
   },
   "outputs": [
    {
     "data": {
      "text/html": [
       "<ol class=list-inline>\n",
       "\t<li>TRUE</li>\n",
       "\t<li>FALSE</li>\n",
       "\t<li>FALSE</li>\n",
       "</ol>\n"
      ],
      "text/latex": [
       "\\begin{enumerate*}\n",
       "\\item TRUE\n",
       "\\item FALSE\n",
       "\\item FALSE\n",
       "\\end{enumerate*}\n"
      ],
      "text/markdown": [
       "1. TRUE\n",
       "2. FALSE\n",
       "3. FALSE\n",
       "\n",
       "\n"
      ],
      "text/plain": [
       "[1]  TRUE FALSE FALSE"
      ]
     },
     "metadata": {},
     "output_type": "display_data"
    }
   ],
   "source": [
    "# \"==\"并不能用来直接比较两个向量是否相等\n",
    "x <- 1:3\n",
    "y <- c(1, 3, 4)\n",
    "x == y"
   ]
  },
  {
   "cell_type": "code",
   "execution_count": 47,
   "metadata": {
    "ExecuteTime": {
     "end_time": "2018-05-20T09:21:34.019884Z",
     "start_time": "2018-05-20T09:21:31.772Z"
    }
   },
   "outputs": [
    {
     "data": {
      "text/html": [
       "FALSE"
      ],
      "text/latex": [
       "FALSE"
      ],
      "text/markdown": [
       "FALSE"
      ],
      "text/plain": [
       "[1] FALSE"
      ]
     },
     "metadata": {},
     "output_type": "display_data"
    }
   ],
   "source": [
    "# 本质上，“==”也是一个函数，而且是向量化的函数\n",
    "\"==\" (3, 2)"
   ]
  },
  {
   "cell_type": "code",
   "execution_count": 48,
   "metadata": {
    "ExecuteTime": {
     "end_time": "2018-05-20T09:21:34.037810Z",
     "start_time": "2018-05-20T09:21:31.781Z"
    }
   },
   "outputs": [
    {
     "data": {
      "text/html": [
       "<ol class=list-inline>\n",
       "\t<li>FALSE</li>\n",
       "\t<li>FALSE</li>\n",
       "</ol>\n"
      ],
      "text/latex": [
       "\\begin{enumerate*}\n",
       "\\item FALSE\n",
       "\\item FALSE\n",
       "\\end{enumerate*}\n"
      ],
      "text/markdown": [
       "1. FALSE\n",
       "2. FALSE\n",
       "\n",
       "\n"
      ],
      "text/plain": [
       "[1] FALSE FALSE"
      ]
     },
     "metadata": {},
     "output_type": "display_data"
    }
   ],
   "source": [
    "\"==\" (c(1,2), c(2, 3))"
   ]
  },
  {
   "cell_type": "code",
   "execution_count": 49,
   "metadata": {
    "ExecuteTime": {
     "end_time": "2018-05-20T09:21:34.057467Z",
     "start_time": "2018-05-20T09:21:31.786Z"
    }
   },
   "outputs": [
    {
     "data": {
      "text/html": [
       "FALSE"
      ],
      "text/latex": [
       "FALSE"
      ],
      "text/markdown": [
       "FALSE"
      ],
      "text/plain": [
       "[1] FALSE"
      ]
     },
     "metadata": {},
     "output_type": "display_data"
    }
   ],
   "source": [
    "# 一般，我们认为两个向量各个维度的数据对应相等就说两向量相等\n",
    "# 所以可以使用all函数完成这一目的\n",
    "all(x == y)"
   ]
  },
  {
   "cell_type": "code",
   "execution_count": 50,
   "metadata": {
    "ExecuteTime": {
     "end_time": "2018-05-20T09:21:34.076788Z",
     "start_time": "2018-05-20T09:21:31.791Z"
    }
   },
   "outputs": [
    {
     "data": {
      "text/html": [
       "FALSE"
      ],
      "text/latex": [
       "FALSE"
      ],
      "text/markdown": [
       "FALSE"
      ],
      "text/plain": [
       "[1] FALSE"
      ]
     },
     "metadata": {},
     "output_type": "display_data"
    }
   ],
   "source": [
    "# identical函数也可以用来直接比较\n",
    "identical(x, y)"
   ]
  },
  {
   "cell_type": "code",
   "execution_count": 51,
   "metadata": {
    "ExecuteTime": {
     "end_time": "2018-05-20T09:21:34.097814Z",
     "start_time": "2018-05-20T09:21:31.795Z"
    }
   },
   "outputs": [],
   "source": [
    "# 但是，使用identical函数要注意下面一点\n",
    "x <- 1:2\n",
    "y <- c(1, 2)"
   ]
  },
  {
   "cell_type": "code",
   "execution_count": 52,
   "metadata": {
    "ExecuteTime": {
     "end_time": "2018-05-20T09:21:34.123681Z",
     "start_time": "2018-05-20T09:21:31.799Z"
    }
   },
   "outputs": [
    {
     "data": {
      "text/html": [
       "<ol class=list-inline>\n",
       "\t<li>1</li>\n",
       "\t<li>2</li>\n",
       "</ol>\n"
      ],
      "text/latex": [
       "\\begin{enumerate*}\n",
       "\\item 1\n",
       "\\item 2\n",
       "\\end{enumerate*}\n"
      ],
      "text/markdown": [
       "1. 1\n",
       "2. 2\n",
       "\n",
       "\n"
      ],
      "text/plain": [
       "[1] 1 2"
      ]
     },
     "metadata": {},
     "output_type": "display_data"
    }
   ],
   "source": [
    "x"
   ]
  },
  {
   "cell_type": "code",
   "execution_count": 53,
   "metadata": {
    "ExecuteTime": {
     "end_time": "2018-05-20T09:21:34.143378Z",
     "start_time": "2018-05-20T09:21:31.806Z"
    }
   },
   "outputs": [
    {
     "data": {
      "text/html": [
       "<ol class=list-inline>\n",
       "\t<li>1</li>\n",
       "\t<li>2</li>\n",
       "</ol>\n"
      ],
      "text/latex": [
       "\\begin{enumerate*}\n",
       "\\item 1\n",
       "\\item 2\n",
       "\\end{enumerate*}\n"
      ],
      "text/markdown": [
       "1. 1\n",
       "2. 2\n",
       "\n",
       "\n"
      ],
      "text/plain": [
       "[1] 1 2"
      ]
     },
     "metadata": {},
     "output_type": "display_data"
    }
   ],
   "source": [
    "y"
   ]
  },
  {
   "cell_type": "code",
   "execution_count": 54,
   "metadata": {
    "ExecuteTime": {
     "end_time": "2018-05-20T09:21:34.164105Z",
     "start_time": "2018-05-20T09:21:31.813Z"
    }
   },
   "outputs": [
    {
     "data": {
      "text/html": [
       "FALSE"
      ],
      "text/latex": [
       "FALSE"
      ],
      "text/markdown": [
       "FALSE"
      ],
      "text/plain": [
       "[1] FALSE"
      ]
     },
     "metadata": {},
     "output_type": "display_data"
    }
   ],
   "source": [
    "identical(x, y)"
   ]
  },
  {
   "cell_type": "code",
   "execution_count": 55,
   "metadata": {
    "ExecuteTime": {
     "end_time": "2018-05-20T09:21:34.186221Z",
     "start_time": "2018-05-20T09:21:31.818Z"
    }
   },
   "outputs": [
    {
     "data": {
      "text/html": [
       "'integer'"
      ],
      "text/latex": [
       "'integer'"
      ],
      "text/markdown": [
       "'integer'"
      ],
      "text/plain": [
       "[1] \"integer\""
      ]
     },
     "metadata": {},
     "output_type": "display_data"
    }
   ],
   "source": [
    "typeof(x)"
   ]
  },
  {
   "cell_type": "code",
   "execution_count": 56,
   "metadata": {
    "ExecuteTime": {
     "end_time": "2018-05-20T09:21:34.207012Z",
     "start_time": "2018-05-20T09:21:31.823Z"
    }
   },
   "outputs": [
    {
     "data": {
      "text/html": [
       "'double'"
      ],
      "text/latex": [
       "'double'"
      ],
      "text/markdown": [
       "'double'"
      ],
      "text/plain": [
       "[1] \"double\""
      ]
     },
     "metadata": {},
     "output_type": "display_data"
    }
   ],
   "source": [
    "typeof(y)"
   ]
  },
  {
   "cell_type": "markdown",
   "metadata": {},
   "source": [
    "也就是说`:`产生`integer`，而`c()`产生`floating-point`,所以\n",
    "这里直接`identical`是不相等的。"
   ]
  },
  {
   "cell_type": "markdown",
   "metadata": {},
   "source": [
    "### 2.11 向量元素命名(Vector Element Names)"
   ]
  },
  {
   "cell_type": "code",
   "execution_count": 57,
   "metadata": {
    "ExecuteTime": {
     "end_time": "2018-05-20T09:21:34.228953Z",
     "start_time": "2018-05-20T09:21:31.828Z"
    }
   },
   "outputs": [
    {
     "data": {
      "text/plain": [
       "NULL"
      ]
     },
     "metadata": {},
     "output_type": "display_data"
    }
   ],
   "source": [
    "x <- c(1, 2, 4)\n",
    "names(x)"
   ]
  },
  {
   "cell_type": "code",
   "execution_count": 58,
   "metadata": {
    "ExecuteTime": {
     "end_time": "2018-05-20T09:21:34.249339Z",
     "start_time": "2018-05-20T09:21:31.833Z"
    }
   },
   "outputs": [
    {
     "data": {
      "text/html": [
       "<ol class=list-inline>\n",
       "\t<li>'a'</li>\n",
       "\t<li>'b'</li>\n",
       "\t<li>'ab'</li>\n",
       "</ol>\n"
      ],
      "text/latex": [
       "\\begin{enumerate*}\n",
       "\\item 'a'\n",
       "\\item 'b'\n",
       "\\item 'ab'\n",
       "\\end{enumerate*}\n"
      ],
      "text/markdown": [
       "1. 'a'\n",
       "2. 'b'\n",
       "3. 'ab'\n",
       "\n",
       "\n"
      ],
      "text/plain": [
       "[1] \"a\"  \"b\"  \"ab\""
      ]
     },
     "metadata": {},
     "output_type": "display_data"
    }
   ],
   "source": [
    "names(x) <- c(\"a\", \"b\", \"ab\")\n",
    "names(x)"
   ]
  },
  {
   "cell_type": "code",
   "execution_count": 59,
   "metadata": {
    "ExecuteTime": {
     "end_time": "2018-05-20T09:21:34.269559Z",
     "start_time": "2018-05-20T09:21:31.838Z"
    }
   },
   "outputs": [
    {
     "data": {
      "text/html": [
       "<dl class=dl-horizontal>\n",
       "\t<dt>a</dt>\n",
       "\t\t<dd>1</dd>\n",
       "\t<dt>b</dt>\n",
       "\t\t<dd>2</dd>\n",
       "\t<dt>ab</dt>\n",
       "\t\t<dd>4</dd>\n",
       "</dl>\n"
      ],
      "text/latex": [
       "\\begin{description*}\n",
       "\\item[a] 1\n",
       "\\item[b] 2\n",
       "\\item[ab] 4\n",
       "\\end{description*}\n"
      ],
      "text/markdown": [
       "a\n",
       ":   1b\n",
       ":   2ab\n",
       ":   4\n",
       "\n"
      ],
      "text/plain": [
       " a  b ab \n",
       " 1  2  4 "
      ]
     },
     "metadata": {},
     "output_type": "display_data"
    }
   ],
   "source": [
    "x"
   ]
  },
  {
   "cell_type": "code",
   "execution_count": 60,
   "metadata": {
    "ExecuteTime": {
     "end_time": "2018-05-20T09:21:34.289592Z",
     "start_time": "2018-05-20T09:21:31.844Z"
    }
   },
   "outputs": [
    {
     "data": {
      "text/html": [
       "<strong>a:</strong> 1"
      ],
      "text/latex": [
       "\\textbf{a:} 1"
      ],
      "text/markdown": [
       "**a:** 1"
      ],
      "text/plain": [
       "a \n",
       "1 "
      ]
     },
     "metadata": {},
     "output_type": "display_data"
    }
   ],
   "source": [
    "x[\"a\"]"
   ]
  },
  {
   "cell_type": "code",
   "execution_count": 61,
   "metadata": {
    "ExecuteTime": {
     "end_time": "2018-05-20T09:21:34.311959Z",
     "start_time": "2018-05-20T09:21:31.849Z"
    }
   },
   "outputs": [
    {
     "data": {
      "text/html": [
       "<strong>$names</strong> = <ol class=list-inline>\n",
       "\t<li>'a'</li>\n",
       "\t<li>'b'</li>\n",
       "\t<li>'ab'</li>\n",
       "</ol>\n"
      ],
      "text/latex": [
       "\\textbf{\\$names} = \\begin{enumerate*}\n",
       "\\item 'a'\n",
       "\\item 'b'\n",
       "\\item 'ab'\n",
       "\\end{enumerate*}\n"
      ],
      "text/markdown": [
       "**$names** = 1. 'a'\n",
       "2. 'b'\n",
       "3. 'ab'\n",
       "\n",
       "\n"
      ],
      "text/plain": [
       "$names\n",
       "[1] \"a\"  \"b\"  \"ab\"\n"
      ]
     },
     "metadata": {},
     "output_type": "display_data"
    }
   ],
   "source": [
    "# names现在是作为x的一个属性\n",
    "attributes(x)"
   ]
  },
  {
   "cell_type": "code",
   "execution_count": 62,
   "metadata": {
    "ExecuteTime": {
     "end_time": "2018-05-20T09:21:34.337721Z",
     "start_time": "2018-05-20T09:21:31.854Z"
    }
   },
   "outputs": [
    {
     "data": {
      "text/html": [
       "<ol class=list-inline>\n",
       "\t<li>1</li>\n",
       "\t<li>2</li>\n",
       "\t<li>4</li>\n",
       "</ol>\n"
      ],
      "text/latex": [
       "\\begin{enumerate*}\n",
       "\\item 1\n",
       "\\item 2\n",
       "\\item 4\n",
       "\\end{enumerate*}\n"
      ],
      "text/markdown": [
       "1. 1\n",
       "2. 2\n",
       "3. 4\n",
       "\n",
       "\n"
      ],
      "text/plain": [
       "[1] 1 2 4"
      ]
     },
     "metadata": {},
     "output_type": "display_data"
    }
   ],
   "source": [
    "# remove names\n",
    "names(x) <- NULL\n",
    "x"
   ]
  },
  {
   "cell_type": "code",
   "execution_count": 63,
   "metadata": {
    "ExecuteTime": {
     "end_time": "2018-05-20T09:21:34.362812Z",
     "start_time": "2018-05-20T09:21:31.859Z"
    }
   },
   "outputs": [
    {
     "data": {
      "text/plain": [
       "NULL"
      ]
     },
     "metadata": {},
     "output_type": "display_data"
    }
   ],
   "source": [
    "attributes(x)"
   ]
  },
  {
   "cell_type": "markdown",
   "metadata": {},
   "source": [
    "### 2.12 `c()`(More on c())"
   ]
  },
  {
   "cell_type": "code",
   "execution_count": 64,
   "metadata": {
    "ExecuteTime": {
     "end_time": "2018-05-20T09:21:34.383643Z",
     "start_time": "2018-05-20T09:21:31.864Z"
    }
   },
   "outputs": [
    {
     "data": {
      "text/html": [
       "<ol class=list-inline>\n",
       "\t<li>'5'</li>\n",
       "\t<li>'2'</li>\n",
       "\t<li>'abc'</li>\n",
       "</ol>\n"
      ],
      "text/latex": [
       "\\begin{enumerate*}\n",
       "\\item '5'\n",
       "\\item '2'\n",
       "\\item 'abc'\n",
       "\\end{enumerate*}\n"
      ],
      "text/markdown": [
       "1. '5'\n",
       "2. '2'\n",
       "3. 'abc'\n",
       "\n",
       "\n"
      ],
      "text/plain": [
       "[1] \"5\"   \"2\"   \"abc\""
      ]
     },
     "metadata": {},
     "output_type": "display_data"
    }
   ],
   "source": [
    "# 默认的类型转换\n",
    "c(5, 2, \"abc\")"
   ]
  },
  {
   "cell_type": "code",
   "execution_count": 65,
   "metadata": {
    "ExecuteTime": {
     "end_time": "2018-05-20T09:21:34.401867Z",
     "start_time": "2018-05-20T09:21:31.869Z"
    }
   },
   "outputs": [
    {
     "data": {
      "text/html": [
       "<ol class=list-inline>\n",
       "\t<li>5</li>\n",
       "\t<li>2</li>\n",
       "\t<li>1.5</li>\n",
       "\t<li>6</li>\n",
       "</ol>\n"
      ],
      "text/latex": [
       "\\begin{enumerate*}\n",
       "\\item 5\n",
       "\\item 2\n",
       "\\item 1.5\n",
       "\\item 6\n",
       "\\end{enumerate*}\n"
      ],
      "text/markdown": [
       "1. 5\n",
       "2. 2\n",
       "3. 1.5\n",
       "4. 6\n",
       "\n",
       "\n"
      ],
      "text/plain": [
       "[1] 5.0 2.0 1.5 6.0"
      ]
     },
     "metadata": {},
     "output_type": "display_data"
    }
   ],
   "source": [
    "# 5.0 2.0 1.5 6.0才是真正结果...\n",
    "# 这里又被Jupyter吃掉了...\n",
    "c(5,2,c(1.5,6))"
   ]
  }
 ],
 "metadata": {
  "kernelspec": {
   "display_name": "R 3.4",
   "language": "R",
   "name": "ir34"
  },
  "language_info": {
   "codemirror_mode": "r",
   "file_extension": ".r",
   "mimetype": "text/x-r-source",
   "name": "R",
   "pygments_lexer": "r",
   "version": "3.4.4"
  },
  "toc": {
   "nav_menu": {
    "height": "93px",
    "width": "237px"
   },
   "number_sections": false,
   "sideBar": true,
   "skip_h1_title": false,
   "title_cell": "Table of Contents",
   "title_sidebar": "Contents",
   "toc_cell": true,
   "toc_position": {
    "height": "568px",
    "left": "26px",
    "top": "53px",
    "width": "303px"
   },
   "toc_section_display": true,
   "toc_window_display": true
  }
 },
 "nbformat": 4,
 "nbformat_minor": 2
}
