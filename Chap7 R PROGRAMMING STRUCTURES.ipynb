{
 "cells": [
  {
   "cell_type": "markdown",
   "metadata": {
    "toc": true
   },
   "source": [
    "<h1>Table of Contents<span class=\"tocSkip\"></span></h1>\n",
    "<div class=\"toc\"><ul class=\"toc-item\"><li><span><a href=\"#Chap7-R-PROGRAMMING-STRUCTURES\" data-toc-modified-id=\"Chap7-R-PROGRAMMING-STRUCTURES-1\">Chap7 R PROGRAMMING STRUCTURES</a></span><ul class=\"toc-item\"><li><span><a href=\"#7.1-控制语句(Control-Statements)\" data-toc-modified-id=\"7.1-控制语句(Control-Statements)-1.1\">7.1 控制语句(Control Statements)</a></span><ul class=\"toc-item\"><li><span><a href=\"#7.1.1-循环(Loops)\" data-toc-modified-id=\"7.1.1-循环(Loops)-1.1.1\">7.1.1 循环(Loops)</a></span></li><li><span><a href=\"#7.1.2-非向量数据的循环(Looping-Over-Nonvector-Sets)\" data-toc-modified-id=\"7.1.2-非向量数据的循环(Looping-Over-Nonvector-Sets)-1.1.2\">7.1.2 非向量数据的循环(Looping Over Nonvector Sets)</a></span></li><li><span><a href=\"#7.1.3-分支语句(if-else)\" data-toc-modified-id=\"7.1.3-分支语句(if-else)-1.1.3\">7.1.3 分支语句(if-else)</a></span></li></ul></li><li><span><a href=\"#7.2-算术&amp;布尔操作符(Arithmetic-and-Boolean-Operators-and-Values)\" data-toc-modified-id=\"7.2-算术&amp;布尔操作符(Arithmetic-and-Boolean-Operators-and-Values)-1.2\">7.2 算术&amp;布尔操作符(Arithmetic and Boolean Operators and Values)</a></span></li><li><span><a href=\"#7.3-参数的默认值(Default-Values-for-Arguments)\" data-toc-modified-id=\"7.3-参数的默认值(Default-Values-for-Arguments)-1.3\">7.3 参数的默认值(Default Values for Arguments)</a></span></li><li><span><a href=\"#7.4-返回值(Return-Values)\" data-toc-modified-id=\"7.4-返回值(Return-Values)-1.4\">7.4 返回值(Return Values)</a></span><ul class=\"toc-item\"><li><span><a href=\"#7.4.1-判断是否用return()（Deciding-Whether-to-Explicitly-Call-return()）\" data-toc-modified-id=\"7.4.1-判断是否用return()（Deciding-Whether-to-Explicitly-Call-return()）-1.4.1\">7.4.1 判断是否用<code>return()</code>（Deciding Whether to Explicitly Call return()）</a></span></li><li><span><a href=\"#7.4.2-返回复杂对象(Returning-Complex-Objects)\" data-toc-modified-id=\"7.4.2-返回复杂对象(Returning-Complex-Objects)-1.4.2\">7.4.2 返回复杂对象(Returning Complex Objects)</a></span></li></ul></li><li><span><a href=\"#7.5-函数也是对象(Functions-Are-Objects)\" data-toc-modified-id=\"7.5-函数也是对象(Functions-Are-Objects)-1.5\">7.5 函数也是对象(Functions Are Objects)</a></span></li><li><span><a href=\"#7.6-环境与范围问题(Environment-and-Scope-Issues)\" data-toc-modified-id=\"7.6-环境与范围问题(Environment-and-Scope-Issues)-1.6\">7.6 环境与范围问题(Environment and Scope Issues)</a></span><ul class=\"toc-item\"><li><span><a href=\"#7.6.1-顶层环境(The-Top-Level-Environment)\" data-toc-modified-id=\"7.6.1-顶层环境(The-Top-Level-Environment)-1.6.1\">7.6.1 顶层环境(The Top-Level Environment)</a></span></li><li><span><a href=\"#7.6.2-作用范围的层级结构(The-Scope-Hierarchy)\" data-toc-modified-id=\"7.6.2-作用范围的层级结构(The-Scope-Hierarchy)-1.6.2\">7.6.2 作用范围的层级结构(The Scope Hierarchy)</a></span></li><li><span><a href=\"#7.6.3-关于ls()(More-on-ls())\" data-toc-modified-id=\"7.6.3-关于ls()(More-on-ls())-1.6.3\">7.6.3 关于<code>ls()</code>(More on ls())</a></span></li><li><span><a href=\"#7.6.4-几乎没有副作用的函数(Functions-Have-(Almost)-No-Side-Effects)\" data-toc-modified-id=\"7.6.4-几乎没有副作用的函数(Functions-Have-(Almost)-No-Side-Effects)-1.6.4\">7.6.4 几乎没有副作用的函数(Functions Have (Almost) No Side Effects)</a></span></li><li><span><a href=\"#7.6.5-拓展:-显示Call-Frame内容的函数-(Extended-Example:-A-Function-to-Display-the-Contents-of-a-Call-Frame)\" data-toc-modified-id=\"7.6.5-拓展:-显示Call-Frame内容的函数-(Extended-Example:-A-Function-to-Display-the-Contents-of-a-Call-Frame)-1.6.5\">7.6.5 拓展: 显示<code>Call Frame</code>内容的函数 (Extended Example: A Function to Display the Contents of a Call Frame)</a></span></li></ul></li><li><span><a href=\"#7.7-R中无指针(No-Pointers-in-R)\" data-toc-modified-id=\"7.7-R中无指针(No-Pointers-in-R)-1.7\">7.7 R中无指针(No Pointers in R)</a></span></li><li><span><a href=\"#7.8-修改上层变量(Writing-Upstaurs)\" data-toc-modified-id=\"7.8-修改上层变量(Writing-Upstaurs)-1.8\">7.8 修改上层变量(Writing Upstaurs)</a></span><ul class=\"toc-item\"><li><span><a href=\"#7.8.1-使用<<-修改非局部变量(Writing-to-Nonlocals-with-the-Superassignment-Operator)\" data-toc-modified-id=\"7.8.1-使用<<-修改非局部变量(Writing-to-Nonlocals-with-the-Superassignment-Operator)-1.8.1\">7.8.1 使用<code>&lt;&lt;-</code>修改非局部变量(Writing to Nonlocals with the Superassignment Operator)</a></span></li><li><span><a href=\"#7.8.2-使用assign()函数改变非局部变量(Writing-to-Nonlocals-with-assign())\" data-toc-modified-id=\"7.8.2-使用assign()函数改变非局部变量(Writing-to-Nonlocals-with-assign())-1.8.2\">7.8.2 使用<code>assign()</code>函数改变非局部变量(Writing to Nonlocals with assign())</a></span></li></ul></li></ul></li></ul></div>"
   ]
  },
  {
   "cell_type": "markdown",
   "metadata": {},
   "source": [
    "## Chap7 R PROGRAMMING STRUCTURES\n",
    "\n",
    "R is a block-structured language in the manner of the ALGOL-descendant family, \n",
    "such as C, C++, Python, Perl, and so on."
   ]
  },
  {
   "cell_type": "markdown",
   "metadata": {},
   "source": [
    "### 7.1 控制语句(Control Statements)\n",
    "\n",
    "R里面的控制语句和那些指令式语言中的控制语句是很相似的。"
   ]
  },
  {
   "cell_type": "markdown",
   "metadata": {},
   "source": [
    "#### 7.1.1 循环(Loops)"
   ]
  },
  {
   "cell_type": "code",
   "execution_count": 1,
   "metadata": {
    "ExecuteTime": {
     "end_time": "2018-06-08T14:19:06.546647Z",
     "start_time": "2018-06-08T14:19:06.281Z"
    }
   },
   "outputs": [
    {
     "name": "stdout",
     "output_type": "stream",
     "text": [
      "[1] 25\n",
      "[1] 144\n",
      "[1] 169\n"
     ]
    }
   ],
   "source": [
    "x <- c(5, 12, 13)\n",
    "for(n in x) print(n^2)"
   ]
  },
  {
   "cell_type": "markdown",
   "metadata": {},
   "source": [
    "上面的代码很简单，在每一次循环的时候，`n`分别是5， 12， 13，对应的\n",
    "我们打印出这些数字的平方。"
   ]
  },
  {
   "cell_type": "code",
   "execution_count": 2,
   "metadata": {
    "ExecuteTime": {
     "end_time": "2018-06-08T14:23:21.301160Z",
     "start_time": "2018-06-08T14:23:21.185Z"
    }
   },
   "outputs": [
    {
     "data": {
      "text/html": [
       "13"
      ],
      "text/latex": [
       "13"
      ],
      "text/markdown": [
       "13"
      ],
      "text/plain": [
       "[1] 13"
      ]
     },
     "metadata": {},
     "output_type": "display_data"
    }
   ],
   "source": [
    "# C-style中类似while的循环\n",
    "i <- 1\n",
    "while(i <= 10) i <- i+4\n",
    "i"
   ]
  },
  {
   "cell_type": "code",
   "execution_count": 3,
   "metadata": {
    "ExecuteTime": {
     "end_time": "2018-06-08T14:24:56.958677Z",
     "start_time": "2018-06-08T14:24:56.918Z"
    }
   },
   "outputs": [
    {
     "data": {
      "text/html": [
       "13"
      ],
      "text/latex": [
       "13"
      ],
      "text/markdown": [
       "13"
      ],
      "text/plain": [
       "[1] 13"
      ]
     },
     "metadata": {},
     "output_type": "display_data"
    }
   ],
   "source": [
    "# 也可以使用break来结束循环\n",
    "i <- 1\n",
    "while(TRUE){  # similar loop to above\n",
    "    i <- i+4\n",
    "    if(i > 10) break\n",
    "}\n",
    "i"
   ]
  },
  {
   "cell_type": "code",
   "execution_count": 5,
   "metadata": {
    "ExecuteTime": {
     "end_time": "2018-06-08T14:25:47.499287Z",
     "start_time": "2018-06-08T14:25:47.458Z"
    }
   },
   "outputs": [
    {
     "data": {
      "text/html": [
       "13"
      ],
      "text/latex": [
       "13"
      ],
      "text/markdown": [
       "13"
      ],
      "text/plain": [
       "[1] 13"
      ]
     },
     "metadata": {},
     "output_type": "display_data"
    }
   ],
   "source": [
    "# R中也有repeat函数可以用\n",
    "i<- 1\n",
    "repeat{\n",
    "    i <- i+4\n",
    "    if(i > 10) break\n",
    "}\n",
    "i"
   ]
  },
  {
   "cell_type": "markdown",
   "metadata": {},
   "source": [
    "上面我们用三种不同的方式实现了相同的目的，注意`while`既可以使用\n",
    "`Boolean exit condition`（使用布尔值控制循环的结束，如`i<=10`），\n",
    "又可以使用`break`，而`repeat`只能使用`break`语句来控制循环的结束。\n",
    "\n",
    "R中另外一个控制循环的关键就是`next`语句，流程图如下。\n",
    "\n",
    "<img src=\"https://www.tutorialspoint.com/r/images/r_next_statement.jpg\" height=\"100px\" width=\"400px\" >\n",
    "\n",
    "这里书上给的例子牵扯到后面的章节，所以这里换了个更加简洁的例子。"
   ]
  },
  {
   "cell_type": "code",
   "execution_count": 8,
   "metadata": {
    "ExecuteTime": {
     "end_time": "2018-06-08T14:50:49.456456Z",
     "start_time": "2018-06-08T14:50:49.423Z"
    }
   },
   "outputs": [
    {
     "name": "stdout",
     "output_type": "stream",
     "text": [
      "[1] 1\n",
      "[1] 2\n",
      "[1] 3\n",
      "[1] 4\n",
      "[1] 5\n"
     ]
    }
   ],
   "source": [
    "# 打印1-10中小于等于5的数字\n",
    "for (i in 1:10){\n",
    "    if(i > 5) next\n",
    "    print(i)\n",
    "}"
   ]
  },
  {
   "cell_type": "markdown",
   "metadata": {},
   "source": [
    "#### 7.1.2 非向量数据的循环(Looping Over Nonvector Sets)\n",
    "\n",
    "R不能直接循环向量以外的数据，不过我们可以间接地实现。一是使用`lapply`,再就是`get`函数。下面看`get`的用法，它接受一个字符串作为参数，获取字符串名字对应的数据对象。"
   ]
  },
  {
   "cell_type": "code",
   "execution_count": 10,
   "metadata": {
    "ExecuteTime": {
     "end_time": "2018-06-08T15:03:26.317171Z",
     "start_time": "2018-06-08T15:03:26.270Z"
    }
   },
   "outputs": [
    {
     "data": {
      "text/html": [
       "<table>\n",
       "<tbody>\n",
       "\t<tr><td>1</td><td>1</td></tr>\n",
       "\t<tr><td>2</td><td>2</td></tr>\n",
       "\t<tr><td>3</td><td>4</td></tr>\n",
       "</tbody>\n",
       "</table>\n"
      ],
      "text/latex": [
       "\\begin{tabular}{ll}\n",
       "\t 1 & 1\\\\\n",
       "\t 2 & 2\\\\\n",
       "\t 3 & 4\\\\\n",
       "\\end{tabular}\n"
      ],
      "text/markdown": [
       "\n",
       "| 1 | 1 | \n",
       "| 2 | 2 | \n",
       "| 3 | 4 | \n",
       "\n",
       "\n"
      ],
      "text/plain": [
       "     [,1] [,2]\n",
       "[1,] 1    1   \n",
       "[2,] 2    2   \n",
       "[3,] 3    4   "
      ]
     },
     "metadata": {},
     "output_type": "display_data"
    }
   ],
   "source": [
    "u <- matrix(c(1,2,3,1,2,4), ncol=2)\n",
    "u"
   ]
  },
  {
   "cell_type": "code",
   "execution_count": 11,
   "metadata": {
    "ExecuteTime": {
     "end_time": "2018-06-08T15:03:48.264458Z",
     "start_time": "2018-06-08T15:03:48.231Z"
    }
   },
   "outputs": [
    {
     "data": {
      "text/html": [
       "<table>\n",
       "<tbody>\n",
       "\t<tr><td> 8</td><td>15</td></tr>\n",
       "\t<tr><td>12</td><td>10</td></tr>\n",
       "\t<tr><td>20</td><td> 2</td></tr>\n",
       "</tbody>\n",
       "</table>\n"
      ],
      "text/latex": [
       "\\begin{tabular}{ll}\n",
       "\t  8 & 15\\\\\n",
       "\t 12 & 10\\\\\n",
       "\t 20 &  2\\\\\n",
       "\\end{tabular}\n"
      ],
      "text/markdown": [
       "\n",
       "|  8 | 15 | \n",
       "| 12 | 10 | \n",
       "| 20 |  2 | \n",
       "\n",
       "\n"
      ],
      "text/plain": [
       "     [,1] [,2]\n",
       "[1,]  8   15  \n",
       "[2,] 12   10  \n",
       "[3,] 20    2  "
      ]
     },
     "metadata": {},
     "output_type": "display_data"
    }
   ],
   "source": [
    "v <- matrix(c(8, 12, 20, 15, 10 ,2), ncol=2)\n",
    "v"
   ]
  },
  {
   "cell_type": "code",
   "execution_count": 13,
   "metadata": {
    "ExecuteTime": {
     "end_time": "2018-06-08T15:05:33.381723Z",
     "start_time": "2018-06-08T15:05:33.339Z"
    }
   },
   "outputs": [
    {
     "name": "stdout",
     "output_type": "stream",
     "text": [
      "\n",
      "Call:\n",
      "lm(formula = z[, 2] ~ z[, 1])\n",
      "\n",
      "Coefficients:\n",
      "(Intercept)       z[, 1]  \n",
      "    -0.6667       1.5000  \n",
      "\n",
      "\n",
      "Call:\n",
      "lm(formula = z[, 2] ~ z[, 1])\n",
      "\n",
      "Coefficients:\n",
      "(Intercept)       z[, 1]  \n",
      "     23.286       -1.071  \n",
      "\n"
     ]
    }
   ],
   "source": [
    "# 通过循环，分别对u，v做回归分析\n",
    "# 第一列均为X，第二列为Y\n",
    "for(m in c(\"u\", \"v\")){\n",
    "    z <- get(m)\n",
    "    print(lm(z[, 2]~z[, 1]))\n",
    "}"
   ]
  },
  {
   "cell_type": "markdown",
   "metadata": {},
   "source": [
    "#### 7.1.3 分支语句(if-else)"
   ]
  },
  {
   "cell_type": "code",
   "execution_count": 15,
   "metadata": {
    "ExecuteTime": {
     "end_time": "2018-06-08T15:13:39.549299Z",
     "start_time": "2018-06-08T15:13:39.519Z"
    }
   },
   "outputs": [],
   "source": [
    "# if-else识别问题\n",
    "if(i == 4){\n",
    "    x <- 1\n",
    "}else{\n",
    "    x <- 3\n",
    "    x <- x + 1\n",
    "}"
   ]
  },
  {
   "cell_type": "markdown",
   "metadata": {},
   "source": [
    "上面是一个很简单的用法，不过有一点要注意，就是虽然`if`后面只有一条语句，但是大括号还是不能少的，因为那是R识别`if-else`语句的关键。\n",
    "否则，如果不去掉那对大括号，会使得R将其看作单独的一个`if`语句，执行后不能识后面的`else`。\n",
    "\n",
    "另外，`if-else`还可以当作函数来用（震惊Orz...），我们可以直接用来进行选择性的赋值操作。格式为`v <- if (cond) expression1 else expression2`，如果`cond`为真，`v`将被赋值为`expression1`的结果，否则为`expression2`的结果。"
   ]
  },
  {
   "cell_type": "code",
   "execution_count": 17,
   "metadata": {
    "ExecuteTime": {
     "end_time": "2018-06-08T15:24:18.489796Z",
     "start_time": "2018-06-08T15:24:18.456Z"
    }
   },
   "outputs": [
    {
     "data": {
      "text/html": [
       "2"
      ],
      "text/latex": [
       "2"
      ],
      "text/markdown": [
       "2"
      ],
      "text/plain": [
       "[1] 2"
      ]
     },
     "metadata": {},
     "output_type": "display_data"
    }
   ],
   "source": [
    "x <- 2\n",
    "y <- if (x == 2) x else x + 1\n",
    "y"
   ]
  },
  {
   "cell_type": "code",
   "execution_count": 18,
   "metadata": {
    "ExecuteTime": {
     "end_time": "2018-06-08T15:24:28.771987Z",
     "start_time": "2018-06-08T15:24:28.735Z"
    }
   },
   "outputs": [
    {
     "data": {
      "text/html": [
       "4"
      ],
      "text/latex": [
       "4"
      ],
      "text/markdown": [
       "4"
      ],
      "text/plain": [
       "[1] 4"
      ]
     },
     "metadata": {},
     "output_type": "display_data"
    }
   ],
   "source": [
    "x <- 3\n",
    "y <- if (x == 2) x else x + 1\n",
    "y"
   ]
  },
  {
   "cell_type": "markdown",
   "metadata": {},
   "source": [
    "一般我们会用`if(x == 2) y <- x else y <- x+1`来完成赋值，不过显然，上面的方法更加简洁，清晰。\n",
    "\n",
    "ps:这个用法和`Heskell`好像...`Haskell`中对应的语法是`y = if (x==2) then x else x+1`"
   ]
  },
  {
   "cell_type": "markdown",
   "metadata": {},
   "source": [
    "### 7.2 算术&布尔操作符(Arithmetic and Boolean Operators and Values)\n",
    "\n",
    "![](./data/Operators.png)"
   ]
  },
  {
   "cell_type": "markdown",
   "metadata": {},
   "source": [
    "在之前我们曾经说过，在R里面`scalar`只不过是一个长度为1的`vector`，那么这样看\n",
    "这里直接只有一个`&`或`|`来表示向量之间的`AND`和`OR`逻辑不就行了吗，为什么还要\n",
    "单独用`&&`和`||`来区分`scalar`呢？可以看下面的"
   ]
  },
  {
   "cell_type": "code",
   "execution_count": 2,
   "metadata": {
    "ExecuteTime": {
     "end_time": "2018-06-11T14:44:56.920399Z",
     "start_time": "2018-06-11T14:44:56.738Z"
    }
   },
   "outputs": [
    {
     "data": {
      "text/html": [
       "<ol class=list-inline>\n",
       "\t<li>TRUE</li>\n",
       "\t<li>FALSE</li>\n",
       "\t<li>TRUE</li>\n",
       "</ol>\n"
      ],
      "text/latex": [
       "\\begin{enumerate*}\n",
       "\\item TRUE\n",
       "\\item FALSE\n",
       "\\item TRUE\n",
       "\\end{enumerate*}\n"
      ],
      "text/markdown": [
       "1. TRUE\n",
       "2. FALSE\n",
       "3. TRUE\n",
       "\n",
       "\n"
      ],
      "text/plain": [
       "[1]  TRUE FALSE  TRUE"
      ]
     },
     "metadata": {},
     "output_type": "display_data"
    },
    {
     "data": {
      "text/html": [
       "<ol class=list-inline>\n",
       "\t<li>TRUE</li>\n",
       "\t<li>TRUE</li>\n",
       "\t<li>FALSE</li>\n",
       "</ol>\n"
      ],
      "text/latex": [
       "\\begin{enumerate*}\n",
       "\\item TRUE\n",
       "\\item TRUE\n",
       "\\item FALSE\n",
       "\\end{enumerate*}\n"
      ],
      "text/markdown": [
       "1. TRUE\n",
       "2. TRUE\n",
       "3. FALSE\n",
       "\n",
       "\n"
      ],
      "text/plain": [
       "[1]  TRUE  TRUE FALSE"
      ]
     },
     "metadata": {},
     "output_type": "display_data"
    }
   ],
   "source": [
    "x <- c(TRUE, FALSE, TRUE)\n",
    "y <- c(TRUE, TRUE, FALSE)\n",
    "x;y"
   ]
  },
  {
   "cell_type": "code",
   "execution_count": 3,
   "metadata": {
    "ExecuteTime": {
     "end_time": "2018-06-11T14:45:29.307023Z",
     "start_time": "2018-06-11T14:45:29.272Z"
    }
   },
   "outputs": [
    {
     "data": {
      "text/html": [
       "<ol class=list-inline>\n",
       "\t<li>TRUE</li>\n",
       "\t<li>FALSE</li>\n",
       "\t<li>FALSE</li>\n",
       "</ol>\n"
      ],
      "text/latex": [
       "\\begin{enumerate*}\n",
       "\\item TRUE\n",
       "\\item FALSE\n",
       "\\item FALSE\n",
       "\\end{enumerate*}\n"
      ],
      "text/markdown": [
       "1. TRUE\n",
       "2. FALSE\n",
       "3. FALSE\n",
       "\n",
       "\n"
      ],
      "text/plain": [
       "[1]  TRUE FALSE FALSE"
      ]
     },
     "metadata": {},
     "output_type": "display_data"
    }
   ],
   "source": [
    "# 向量对应取AND\n",
    "x & y"
   ]
  },
  {
   "cell_type": "code",
   "execution_count": 4,
   "metadata": {
    "ExecuteTime": {
     "end_time": "2018-06-11T14:45:57.942438Z",
     "start_time": "2018-06-11T14:45:57.908Z"
    }
   },
   "outputs": [
    {
     "data": {
      "text/html": [
       "TRUE"
      ],
      "text/latex": [
       "TRUE"
      ],
      "text/markdown": [
       "TRUE"
      ],
      "text/plain": [
       "[1] TRUE"
      ]
     },
     "metadata": {},
     "output_type": "display_data"
    }
   ],
   "source": [
    "# 向量第一个元素取AND\n",
    "x[1] && y[1]"
   ]
  },
  {
   "cell_type": "code",
   "execution_count": 8,
   "metadata": {
    "ExecuteTime": {
     "end_time": "2018-06-11T14:53:53.438554Z",
     "start_time": "2018-06-11T14:53:53.404Z"
    }
   },
   "outputs": [
    {
     "data": {
      "text/html": [
       "TRUE"
      ],
      "text/latex": [
       "TRUE"
      ],
      "text/markdown": [
       "TRUE"
      ],
      "text/plain": [
       "[1] TRUE"
      ]
     },
     "metadata": {},
     "output_type": "display_data"
    }
   ],
   "source": [
    "# 在对向量使用&&时，只会用到两向量的第一个元素，\n",
    "# 和上面的表达式是等价的\n",
    "x && y"
   ]
  },
  {
   "cell_type": "code",
   "execution_count": 9,
   "metadata": {
    "ExecuteTime": {
     "end_time": "2018-06-11T14:54:11.093749Z",
     "start_time": "2018-06-11T14:54:11.070Z"
    }
   },
   "outputs": [
    {
     "name": "stdout",
     "output_type": "stream",
     "text": [
      "[1] \"Both TRUE\"\n"
     ]
    }
   ],
   "source": [
    "if(x[1] && y[1]) print(\"Both TRUE\")"
   ]
  },
  {
   "cell_type": "code",
   "execution_count": 10,
   "metadata": {
    "ExecuteTime": {
     "end_time": "2018-06-11T14:54:24.603011Z",
     "start_time": "2018-06-11T14:54:24.572Z"
    }
   },
   "outputs": [
    {
     "name": "stderr",
     "output_type": "stream",
     "text": [
      "Warning message in if (x & y) print(\"Both TRUE\"):\n",
      "“the condition has length > 1 and only the first element will be used”"
     ]
    },
    {
     "name": "stdout",
     "output_type": "stream",
     "text": [
      "[1] \"Both TRUE\"\n"
     ]
    }
   ],
   "source": [
    "if(x & y) print(\"Both TRUE\")"
   ]
  },
  {
   "cell_type": "markdown",
   "metadata": {},
   "source": [
    "这里按照作者说的，同时保有`&`和`&&`是为了方便使用`if`等等...（然而并没有看懂他到底想表达什么Orz)\n",
    "所以查了下，发现了[这个](https://stackoverflow.com/questions/6558921/boolean-operators-and),\n",
    "回答也很有意思，而且提到了一本参考书[The R Inferno](http://www.burns-stat.com/pages/Tutor/R_inferno.pdf),\n",
    "按照其提到的，找到`and and andand`，顿时豁然开朗了，看下面的例子。"
   ]
  },
  {
   "cell_type": "markdown",
   "metadata": {},
   "source": [
    "`||`和`&&`不同于`|`和`&`的地方在于,前者只有需要估计其值的时候才会被估计否则不会起任何作用。\n",
    "(If the answer is known with the first (left) argument, then there is no need to evaluate the second.)"
   ]
  },
  {
   "cell_type": "code",
   "execution_count": 11,
   "metadata": {
    "ExecuteTime": {
     "end_time": "2018-06-11T15:10:19.852125Z",
     "start_time": "2018-06-11T15:10:19.818Z"
    }
   },
   "outputs": [
    {
     "data": {
      "text/html": [
       "4"
      ],
      "text/latex": [
       "4"
      ],
      "text/markdown": [
       "4"
      ],
      "text/plain": [
       "[1] 4"
      ]
     },
     "metadata": {},
     "output_type": "display_data"
    }
   ],
   "source": [
    "if(TRUE || stop()) 4 else 5"
   ]
  },
  {
   "cell_type": "code",
   "execution_count": 14,
   "metadata": {
    "ExecuteTime": {
     "end_time": "2018-06-11T15:11:13.458721Z",
     "start_time": "2018-06-11T15:11:13.428Z"
    }
   },
   "outputs": [
    {
     "data": {
      "text/html": [
       "5"
      ],
      "text/latex": [
       "5"
      ],
      "text/markdown": [
       "5"
      ],
      "text/plain": [
       "[1] 5"
      ]
     },
     "metadata": {},
     "output_type": "display_data"
    }
   ],
   "source": [
    "if(FALSE && stop()) 4 else 5"
   ]
  },
  {
   "cell_type": "markdown",
   "metadata": {},
   "source": [
    "`||`左边为`TRUE`，无论右边是什么，结果都是`TRUE`，所以`stop()`不会执行，直接返回4。\n",
    "下面的`&&`也是一样的道理。"
   ]
  },
  {
   "cell_type": "code",
   "execution_count": 13,
   "metadata": {
    "ExecuteTime": {
     "end_time": "2018-06-11T15:10:50.362882Z",
     "start_time": "2018-06-11T15:10:50.334Z"
    }
   },
   "outputs": [
    {
     "ename": "ERROR",
     "evalue": "Error in eval(expr, envir, enclos): \n",
     "output_type": "error",
     "traceback": [
      "Error in eval(expr, envir, enclos): \nTraceback:\n",
      "1. stop()"
     ]
    }
   ],
   "source": [
    "if(FALSE || stop()) 4 else 5"
   ]
  },
  {
   "cell_type": "code",
   "execution_count": 15,
   "metadata": {
    "ExecuteTime": {
     "end_time": "2018-06-11T15:15:00.884733Z",
     "start_time": "2018-06-11T15:15:00.854Z"
    }
   },
   "outputs": [
    {
     "ename": "ERROR",
     "evalue": "Error in eval(expr, envir, enclos): \n",
     "output_type": "error",
     "traceback": [
      "Error in eval(expr, envir, enclos): \nTraceback:\n",
      "1. stop()"
     ]
    }
   ],
   "source": [
    "if(TRUE && stop()) 4 else 5"
   ]
  },
  {
   "cell_type": "markdown",
   "metadata": {},
   "source": [
    "`||`左边为`FALSE`，所以必须知道右边是什么，才能得到结果是什么，所以`stop()`会执行，然后`stop`报错，\n",
    "程序终止。下面的`&&`也是一样的道理。"
   ]
  },
  {
   "cell_type": "markdown",
   "metadata": {},
   "source": [
    "而在`|`和`&`中，是不会存在这种“不需要就不估计（应该是lazy了）”情况。"
   ]
  },
  {
   "cell_type": "code",
   "execution_count": 16,
   "metadata": {
    "ExecuteTime": {
     "end_time": "2018-06-11T15:16:51.333235Z",
     "start_time": "2018-06-11T15:16:51.304Z"
    }
   },
   "outputs": [
    {
     "ename": "ERROR",
     "evalue": "Error in eval(expr, envir, enclos): \n",
     "output_type": "error",
     "traceback": [
      "Error in eval(expr, envir, enclos): \nTraceback:\n",
      "1. stop()"
     ]
    }
   ],
   "source": [
    "# 不同于||，这里|直接就报错了，因为程序总会运行stop()\n",
    "if(TRUE | stop()) 4 else 5"
   ]
  },
  {
   "cell_type": "markdown",
   "metadata": {},
   "source": [
    "那么，`||`和`&&`这个实现到底有什么用呢？它可以使得我们的测试更加安全.\n",
    "(This can be used to make sure that it is safe to perform a test)\n",
    "\n",
    "比如说，`if (ncol(x) > 6) {...}`会报错`Error in if (ncol(x) > 6) : \n",
    "argument is of length zero`, 就是说`x`长度为0，不能使用`ncol`.而我们如果\n",
    "像下面这样写:`if(is.matrix(x) && ncol(x) > 6){...}`那么同样的情况下(`x`长度为0)\n",
    "我们的程序就不会报错，因为此时`is.matrix(x)`已经为`FALSE`了，后面又是`&&`，所以程序\n",
    "不会继续去执行下面的`ncol(x) > 6`就返回`FALSE`了，程序自然不会报错了。\n",
    "\n",
    "所以，这种多个逻辑判断和`if`用法就像是一层一层的通行检验（以上面使用`&&`为例）——只有前\n",
    "面的条件满足了（比如，`x`是一个`matrix`）才会继续下面的条件语句(比如，`ncol(x) > 6`),\n",
    "这样就避免了不必要的麻烦，故称之为`safe`.而这种用法是`|`和`&`所不能达到的，所以这才是`||`和\n",
    "`&&`整整区别前两者的地方。"
   ]
  },
  {
   "cell_type": "code",
   "execution_count": 17,
   "metadata": {
    "ExecuteTime": {
     "end_time": "2018-06-11T15:34:31.634022Z",
     "start_time": "2018-06-11T15:34:31.598Z"
    }
   },
   "outputs": [
    {
     "data": {
      "text/html": [
       "TRUE"
      ],
      "text/latex": [
       "TRUE"
      ],
      "text/markdown": [
       "TRUE"
      ],
      "text/plain": [
       "[1] TRUE"
      ]
     },
     "metadata": {},
     "output_type": "display_data"
    },
    {
     "data": {
      "text/html": [
       "FALSE"
      ],
      "text/latex": [
       "FALSE"
      ],
      "text/markdown": [
       "FALSE"
      ],
      "text/plain": [
       "[1] FALSE"
      ]
     },
     "metadata": {},
     "output_type": "display_data"
    }
   ],
   "source": [
    "# TRUE和FALSE可以缩写为T和F\n",
    "T;F"
   ]
  },
  {
   "cell_type": "code",
   "execution_count": 18,
   "metadata": {
    "ExecuteTime": {
     "end_time": "2018-06-11T15:35:27.292986Z",
     "start_time": "2018-06-11T15:35:27.263Z"
    }
   },
   "outputs": [
    {
     "data": {
      "text/html": [
       "TRUE"
      ],
      "text/latex": [
       "TRUE"
      ],
      "text/markdown": [
       "TRUE"
      ],
      "text/plain": [
       "[1] TRUE"
      ]
     },
     "metadata": {},
     "output_type": "display_data"
    }
   ],
   "source": [
    "# 在做算术运算的时候，TRUE相当与1，FALSE相当与0\n",
    "1 < 2"
   ]
  },
  {
   "cell_type": "code",
   "execution_count": 19,
   "metadata": {
    "ExecuteTime": {
     "end_time": "2018-06-11T15:35:36.765329Z",
     "start_time": "2018-06-11T15:35:36.734Z"
    }
   },
   "outputs": [
    {
     "data": {
      "text/html": [
       "1"
      ],
      "text/latex": [
       "1"
      ],
      "text/markdown": [
       "1"
      ],
      "text/plain": [
       "[1] 1"
      ]
     },
     "metadata": {},
     "output_type": "display_data"
    }
   ],
   "source": [
    "(1 < 2) * (3 < 4)"
   ]
  },
  {
   "cell_type": "code",
   "execution_count": 20,
   "metadata": {
    "ExecuteTime": {
     "end_time": "2018-06-11T15:35:46.957824Z",
     "start_time": "2018-06-11T15:35:46.924Z"
    }
   },
   "outputs": [
    {
     "data": {
      "text/html": [
       "0"
      ],
      "text/latex": [
       "0"
      ],
      "text/markdown": [
       "0"
      ],
      "text/plain": [
       "[1] 0"
      ]
     },
     "metadata": {},
     "output_type": "display_data"
    }
   ],
   "source": [
    "(1 < 2) * (3 < 4) * (5 < 1)"
   ]
  },
  {
   "cell_type": "code",
   "execution_count": 21,
   "metadata": {
    "ExecuteTime": {
     "end_time": "2018-06-11T15:35:59.416233Z",
     "start_time": "2018-06-11T15:35:59.381Z"
    }
   },
   "outputs": [
    {
     "data": {
      "text/html": [
       "TRUE"
      ],
      "text/latex": [
       "TRUE"
      ],
      "text/markdown": [
       "TRUE"
      ],
      "text/plain": [
       "[1] TRUE"
      ]
     },
     "metadata": {},
     "output_type": "display_data"
    }
   ],
   "source": [
    "(1 < 2) == TRUE"
   ]
  },
  {
   "cell_type": "code",
   "execution_count": 22,
   "metadata": {
    "ExecuteTime": {
     "end_time": "2018-06-11T15:36:03.229013Z",
     "start_time": "2018-06-11T15:36:03.191Z"
    }
   },
   "outputs": [
    {
     "data": {
      "text/html": [
       "TRUE"
      ],
      "text/latex": [
       "TRUE"
      ],
      "text/markdown": [
       "TRUE"
      ],
      "text/plain": [
       "[1] TRUE"
      ]
     },
     "metadata": {},
     "output_type": "display_data"
    }
   ],
   "source": [
    "(1 < 2) == 1"
   ]
  },
  {
   "cell_type": "markdown",
   "metadata": {},
   "source": [
    "### 7.3 参数的默认值(Default Values for Arguments)"
   ]
  },
  {
   "cell_type": "code",
   "execution_count": 27,
   "metadata": {
    "ExecuteTime": {
     "end_time": "2018-06-11T15:43:16.300787Z",
     "start_time": "2018-06-11T15:43:16.255Z"
    }
   },
   "outputs": [
    {
     "data": {
      "text/html": [
       "<pre class=language-r><code>function (file, header = FALSE, sep = \"\", quote = \"\\\"'\", dec = \".\", \n",
       "<span style=white-space:pre-wrap>    numerals = c(\"allow.loss\", \"warn.loss\", \"no.loss\"), row.names, </span>\n",
       "<span style=white-space:pre-wrap>    col.names, as.is = !stringsAsFactors, na.strings = \"NA\", </span>\n",
       "<span style=white-space:pre-wrap>    colClasses = NA, nrows = -1, skip = 0, check.names = TRUE, </span>\n",
       "<span style=white-space:pre-wrap>    fill = !blank.lines.skip, strip.white = FALSE, blank.lines.skip = TRUE, </span>\n",
       "<span style=white-space:pre-wrap>    comment.char = \"#\", allowEscapes = FALSE, flush = FALSE, </span>\n",
       "<span style=white-space:pre-wrap>    stringsAsFactors = default.stringsAsFactors(), fileEncoding = \"\", </span>\n",
       "<span style=white-space:pre-wrap>    encoding = \"unknown\", text, skipNul = FALSE) </span>\n",
       "{\n",
       "<span style=white-space:pre-wrap>    if (missing(file) &amp;&amp; !missing(text)) {</span>\n",
       "<span style=white-space:pre-wrap>        file &lt;- textConnection(text, encoding = \"UTF-8\")</span>\n",
       "<span style=white-space:pre-wrap>        encoding &lt;- \"UTF-8\"</span>\n",
       "<span style=white-space:pre-wrap>        on.exit(close(file))</span>\n",
       "<span style=white-space:pre-wrap>    }</span>\n",
       "<span style=white-space:pre-wrap>    if (is.character(file)) {</span>\n",
       "<span style=white-space:pre-wrap>        file &lt;- if (nzchar(fileEncoding)) </span>\n",
       "<span style=white-space:pre-wrap>            file(file, \"rt\", encoding = fileEncoding)</span>\n",
       "<span style=white-space:pre-wrap>        else file(file, \"rt\")</span>\n",
       "<span style=white-space:pre-wrap>        on.exit(close(file))</span>\n",
       "<span style=white-space:pre-wrap>    }</span>\n",
       "<span style=white-space:pre-wrap>    if (!inherits(file, \"connection\")) </span>\n",
       "<span style=white-space:pre-wrap>        stop(\"'file' must be a character string or connection\")</span>\n",
       "<span style=white-space:pre-wrap>    if (!isOpen(file, \"rt\")) {</span>\n",
       "<span style=white-space:pre-wrap>        open(file, \"rt\")</span>\n",
       "<span style=white-space:pre-wrap>        on.exit(close(file))</span>\n",
       "<span style=white-space:pre-wrap>    }</span>\n",
       "<span style=white-space:pre-wrap>    pbEncoding &lt;- if (encoding %in% c(\"\", \"bytes\", \"UTF-8\")) </span>\n",
       "<span style=white-space:pre-wrap>        encoding</span>\n",
       "<span style=white-space:pre-wrap>    else \"bytes\"</span>\n",
       "<span style=white-space:pre-wrap>    numerals &lt;- match.arg(numerals)</span>\n",
       "<span style=white-space:pre-wrap>    if (skip &gt; 0L) </span>\n",
       "<span style=white-space:pre-wrap>        readLines(file, skip)</span>\n",
       "<span style=white-space:pre-wrap>    nlines &lt;- n0lines &lt;- if (nrows &lt; 0L) </span>\n",
       "<span style=white-space:pre-wrap>        5</span>\n",
       "<span style=white-space:pre-wrap>    else min(5L, (header + nrows))</span>\n",
       "<span style=white-space:pre-wrap>    lines &lt;- .External(C_readtablehead, file, nlines, comment.char, </span>\n",
       "<span style=white-space:pre-wrap>        blank.lines.skip, quote, sep, skipNul)</span>\n",
       "<span style=white-space:pre-wrap>    if (encoding %in% c(\"UTF-8\", \"latin1\")) </span>\n",
       "<span style=white-space:pre-wrap>        Encoding(lines) &lt;- encoding</span>\n",
       "<span style=white-space:pre-wrap>    nlines &lt;- length(lines)</span>\n",
       "<span style=white-space:pre-wrap>    if (!nlines) {</span>\n",
       "<span style=white-space:pre-wrap>        if (missing(col.names)) </span>\n",
       "<span style=white-space:pre-wrap>            stop(\"no lines available in input\")</span>\n",
       "<span style=white-space:pre-wrap>        rlabp &lt;- FALSE</span>\n",
       "<span style=white-space:pre-wrap>        cols &lt;- length(col.names)</span>\n",
       "<span style=white-space:pre-wrap>    }</span>\n",
       "<span style=white-space:pre-wrap>    else {</span>\n",
       "<span style=white-space:pre-wrap>        if (all(!nzchar(lines))) </span>\n",
       "<span style=white-space:pre-wrap>            stop(\"empty beginning of file\")</span>\n",
       "<span style=white-space:pre-wrap>        if (nlines &lt; n0lines &amp;&amp; file == 0L) {</span>\n",
       "<span style=white-space:pre-wrap>            pushBack(c(lines, lines, \"\"), file, encoding = pbEncoding)</span>\n",
       "<span style=white-space:pre-wrap>            on.exit((clearPushBack(stdin())))</span>\n",
       "<span style=white-space:pre-wrap>        }</span>\n",
       "<span style=white-space:pre-wrap>        else pushBack(c(lines, lines), file, encoding = pbEncoding)</span>\n",
       "<span style=white-space:pre-wrap>        first &lt;- scan(file, what = \"\", sep = sep, quote = quote, </span>\n",
       "<span style=white-space:pre-wrap>            nlines = 1, quiet = TRUE, skip = 0, strip.white = TRUE, </span>\n",
       "<span style=white-space:pre-wrap>            blank.lines.skip = blank.lines.skip, comment.char = comment.char, </span>\n",
       "<span style=white-space:pre-wrap>            allowEscapes = allowEscapes, encoding = encoding, </span>\n",
       "<span style=white-space:pre-wrap>            skipNul = skipNul)</span>\n",
       "<span style=white-space:pre-wrap>        col1 &lt;- if (missing(col.names)) </span>\n",
       "<span style=white-space:pre-wrap>            length(first)</span>\n",
       "<span style=white-space:pre-wrap>        else length(col.names)</span>\n",
       "<span style=white-space:pre-wrap>        col &lt;- numeric(nlines - 1L)</span>\n",
       "<span style=white-space:pre-wrap>        if (nlines &gt; 1L) </span>\n",
       "<span style=white-space:pre-wrap>            for (i in seq_along(col)) col[i] &lt;- length(scan(file, </span>\n",
       "<span style=white-space:pre-wrap>                what = \"\", sep = sep, quote = quote, nlines = 1, </span>\n",
       "<span style=white-space:pre-wrap>                quiet = TRUE, skip = 0, strip.white = strip.white, </span>\n",
       "<span style=white-space:pre-wrap>                blank.lines.skip = blank.lines.skip, comment.char = comment.char, </span>\n",
       "<span style=white-space:pre-wrap>                allowEscapes = allowEscapes, encoding = encoding, </span>\n",
       "<span style=white-space:pre-wrap>                skipNul = skipNul))</span>\n",
       "<span style=white-space:pre-wrap>        cols &lt;- max(col1, col)</span>\n",
       "<span style=white-space:pre-wrap>        rlabp &lt;- (cols - col1) == 1L</span>\n",
       "<span style=white-space:pre-wrap>        if (rlabp &amp;&amp; missing(header)) </span>\n",
       "<span style=white-space:pre-wrap>            header &lt;- TRUE</span>\n",
       "<span style=white-space:pre-wrap>        if (!header) </span>\n",
       "<span style=white-space:pre-wrap>            rlabp &lt;- FALSE</span>\n",
       "<span style=white-space:pre-wrap>        if (header) {</span>\n",
       "<span style=white-space:pre-wrap>            .External(C_readtablehead, file, 1L, comment.char, </span>\n",
       "<span style=white-space:pre-wrap>                blank.lines.skip, quote, sep, skipNul)</span>\n",
       "<span style=white-space:pre-wrap>            if (missing(col.names)) </span>\n",
       "<span style=white-space:pre-wrap>                col.names &lt;- first</span>\n",
       "<span style=white-space:pre-wrap>            else if (length(first) != length(col.names)) </span>\n",
       "<span style=white-space:pre-wrap>                warning(\"header and 'col.names' are of different lengths\")</span>\n",
       "<span style=white-space:pre-wrap>        }</span>\n",
       "<span style=white-space:pre-wrap>        else if (missing(col.names)) </span>\n",
       "<span style=white-space:pre-wrap>            col.names &lt;- paste0(\"V\", 1L:cols)</span>\n",
       "<span style=white-space:pre-wrap>        if (length(col.names) + rlabp &lt; cols) </span>\n",
       "<span style=white-space:pre-wrap>            stop(\"more columns than column names\")</span>\n",
       "<span style=white-space:pre-wrap>        if (fill &amp;&amp; length(col.names) &gt; cols) </span>\n",
       "<span style=white-space:pre-wrap>            cols &lt;- length(col.names)</span>\n",
       "<span style=white-space:pre-wrap>        if (!fill &amp;&amp; cols &gt; 0L &amp;&amp; length(col.names) &gt; cols) </span>\n",
       "<span style=white-space:pre-wrap>            stop(\"more column names than columns\")</span>\n",
       "<span style=white-space:pre-wrap>        if (cols == 0L) </span>\n",
       "<span style=white-space:pre-wrap>            stop(\"first five rows are empty: giving up\")</span>\n",
       "<span style=white-space:pre-wrap>    }</span>\n",
       "<span style=white-space:pre-wrap>    if (check.names) </span>\n",
       "<span style=white-space:pre-wrap>        col.names &lt;- make.names(col.names, unique = TRUE)</span>\n",
       "<span style=white-space:pre-wrap>    if (rlabp) </span>\n",
       "<span style=white-space:pre-wrap>        col.names &lt;- c(\"row.names\", col.names)</span>\n",
       "<span style=white-space:pre-wrap>    nmColClasses &lt;- names(colClasses)</span>\n",
       "<span style=white-space:pre-wrap>    if (is.null(nmColClasses)) {</span>\n",
       "<span style=white-space:pre-wrap>        if (length(colClasses) &lt; cols) </span>\n",
       "<span style=white-space:pre-wrap>            colClasses &lt;- rep_len(colClasses, cols)</span>\n",
       "<span style=white-space:pre-wrap>    }</span>\n",
       "<span style=white-space:pre-wrap>    else {</span>\n",
       "<span style=white-space:pre-wrap>        tmp &lt;- rep_len(NA_character_, cols)</span>\n",
       "<span style=white-space:pre-wrap>        names(tmp) &lt;- col.names</span>\n",
       "<span style=white-space:pre-wrap>        i &lt;- match(nmColClasses, col.names, 0L)</span>\n",
       "<span style=white-space:pre-wrap>        if (any(i &lt;= 0L)) </span>\n",
       "<span style=white-space:pre-wrap>            warning(\"not all columns named in 'colClasses' exist\")</span>\n",
       "<span style=white-space:pre-wrap>        tmp[i[i &gt; 0L]] &lt;- colClasses[i &gt; 0L]</span>\n",
       "<span style=white-space:pre-wrap>        colClasses &lt;- tmp</span>\n",
       "<span style=white-space:pre-wrap>    }</span>\n",
       "<span style=white-space:pre-wrap>    what &lt;- rep.int(list(\"\"), cols)</span>\n",
       "<span style=white-space:pre-wrap>    names(what) &lt;- col.names</span>\n",
       "<span style=white-space:pre-wrap>    colClasses[colClasses %in% c(\"real\", \"double\")] &lt;- \"numeric\"</span>\n",
       "<span style=white-space:pre-wrap>    known &lt;- colClasses %in% c(\"logical\", \"integer\", \"numeric\", </span>\n",
       "<span style=white-space:pre-wrap>        \"complex\", \"character\", \"raw\")</span>\n",
       "<span style=white-space:pre-wrap>    what[known] &lt;- sapply(colClasses[known], do.call, list(0))</span>\n",
       "<span style=white-space:pre-wrap>    what[colClasses %in% \"NULL\"] &lt;- list(NULL)</span>\n",
       "<span style=white-space:pre-wrap>    keep &lt;- !sapply(what, is.null)</span>\n",
       "<span style=white-space:pre-wrap>    data &lt;- scan(file = file, what = what, sep = sep, quote = quote, </span>\n",
       "<span style=white-space:pre-wrap>        dec = dec, nmax = nrows, skip = 0, na.strings = na.strings, </span>\n",
       "<span style=white-space:pre-wrap>        quiet = TRUE, fill = fill, strip.white = strip.white, </span>\n",
       "<span style=white-space:pre-wrap>        blank.lines.skip = blank.lines.skip, multi.line = FALSE, </span>\n",
       "<span style=white-space:pre-wrap>        comment.char = comment.char, allowEscapes = allowEscapes, </span>\n",
       "<span style=white-space:pre-wrap>        flush = flush, encoding = encoding, skipNul = skipNul)</span>\n",
       "<span style=white-space:pre-wrap>    nlines &lt;- length(data[[which.max(keep)]])</span>\n",
       "<span style=white-space:pre-wrap>    if (cols != length(data)) {</span>\n",
       "<span style=white-space:pre-wrap>        warning(\"cols = \", cols, \" != length(data) = \", length(data), </span>\n",
       "<span style=white-space:pre-wrap>            domain = NA)</span>\n",
       "<span style=white-space:pre-wrap>        cols &lt;- length(data)</span>\n",
       "<span style=white-space:pre-wrap>    }</span>\n",
       "<span style=white-space:pre-wrap>    if (is.logical(as.is)) {</span>\n",
       "<span style=white-space:pre-wrap>        as.is &lt;- rep_len(as.is, cols)</span>\n",
       "<span style=white-space:pre-wrap>    }</span>\n",
       "<span style=white-space:pre-wrap>    else if (is.numeric(as.is)) {</span>\n",
       "<span style=white-space:pre-wrap>        if (any(as.is &lt; 1 | as.is &gt; cols)) </span>\n",
       "<span style=white-space:pre-wrap>            stop(\"invalid numeric 'as.is' expression\")</span>\n",
       "<span style=white-space:pre-wrap>        i &lt;- rep.int(FALSE, cols)</span>\n",
       "<span style=white-space:pre-wrap>        i[as.is] &lt;- TRUE</span>\n",
       "<span style=white-space:pre-wrap>        as.is &lt;- i</span>\n",
       "<span style=white-space:pre-wrap>    }</span>\n",
       "<span style=white-space:pre-wrap>    else if (is.character(as.is)) {</span>\n",
       "<span style=white-space:pre-wrap>        i &lt;- match(as.is, col.names, 0L)</span>\n",
       "<span style=white-space:pre-wrap>        if (any(i &lt;= 0L)) </span>\n",
       "<span style=white-space:pre-wrap>            warning(\"not all columns named in 'as.is' exist\")</span>\n",
       "<span style=white-space:pre-wrap>        i &lt;- i[i &gt; 0L]</span>\n",
       "<span style=white-space:pre-wrap>        as.is &lt;- rep.int(FALSE, cols)</span>\n",
       "<span style=white-space:pre-wrap>        as.is[i] &lt;- TRUE</span>\n",
       "<span style=white-space:pre-wrap>    }</span>\n",
       "<span style=white-space:pre-wrap>    else if (length(as.is) != cols) </span>\n",
       "<span style=white-space:pre-wrap>        stop(gettextf(\"'as.is' has the wrong length %d  != cols = %d\", </span>\n",
       "<span style=white-space:pre-wrap>            length(as.is), cols), domain = NA)</span>\n",
       "<span style=white-space:pre-wrap>    do &lt;- keep &amp; !known</span>\n",
       "<span style=white-space:pre-wrap>    if (rlabp) </span>\n",
       "<span style=white-space:pre-wrap>        do[1L] &lt;- FALSE</span>\n",
       "<span style=white-space:pre-wrap>    for (i in (1L:cols)[do]) {</span>\n",
       "<span style=white-space:pre-wrap>        data[[i]] &lt;- if (is.na(colClasses[i])) </span>\n",
       "<span style=white-space:pre-wrap>            type.convert(data[[i]], as.is = as.is[i], dec = dec, </span>\n",
       "<span style=white-space:pre-wrap>                numerals = numerals, na.strings = character(0L))</span>\n",
       "<span style=white-space:pre-wrap>        else if (colClasses[i] == \"factor\") </span>\n",
       "<span style=white-space:pre-wrap>            as.factor(data[[i]])</span>\n",
       "<span style=white-space:pre-wrap>        else if (colClasses[i] == \"Date\") </span>\n",
       "<span style=white-space:pre-wrap>            as.Date(data[[i]])</span>\n",
       "<span style=white-space:pre-wrap>        else if (colClasses[i] == \"POSIXct\") </span>\n",
       "<span style=white-space:pre-wrap>            as.POSIXct(data[[i]])</span>\n",
       "<span style=white-space:pre-wrap>        else methods::as(data[[i]], colClasses[i])</span>\n",
       "<span style=white-space:pre-wrap>    }</span>\n",
       "<span style=white-space:pre-wrap>    compactRN &lt;- TRUE</span>\n",
       "<span style=white-space:pre-wrap>    if (missing(row.names)) {</span>\n",
       "<span style=white-space:pre-wrap>        if (rlabp) {</span>\n",
       "<span style=white-space:pre-wrap>            row.names &lt;- data[[1L]]</span>\n",
       "<span style=white-space:pre-wrap>            data &lt;- data[-1L]</span>\n",
       "<span style=white-space:pre-wrap>            keep &lt;- keep[-1L]</span>\n",
       "<span style=white-space:pre-wrap>            compactRN &lt;- FALSE</span>\n",
       "<span style=white-space:pre-wrap>        }</span>\n",
       "<span style=white-space:pre-wrap>        else row.names &lt;- .set_row_names(as.integer(nlines))</span>\n",
       "<span style=white-space:pre-wrap>    }</span>\n",
       "<span style=white-space:pre-wrap>    else if (is.null(row.names)) {</span>\n",
       "<span style=white-space:pre-wrap>        row.names &lt;- .set_row_names(as.integer(nlines))</span>\n",
       "<span style=white-space:pre-wrap>    }</span>\n",
       "<span style=white-space:pre-wrap>    else if (is.character(row.names)) {</span>\n",
       "<span style=white-space:pre-wrap>        compactRN &lt;- FALSE</span>\n",
       "<span style=white-space:pre-wrap>        if (length(row.names) == 1L) {</span>\n",
       "<span style=white-space:pre-wrap>            rowvar &lt;- (1L:cols)[match(col.names, row.names, 0L) == </span>\n",
       "<span style=white-space:pre-wrap>                1L]</span>\n",
       "<span style=white-space:pre-wrap>            row.names &lt;- data[[rowvar]]</span>\n",
       "<span style=white-space:pre-wrap>            data &lt;- data[-rowvar]</span>\n",
       "<span style=white-space:pre-wrap>            keep &lt;- keep[-rowvar]</span>\n",
       "<span style=white-space:pre-wrap>        }</span>\n",
       "<span style=white-space:pre-wrap>    }</span>\n",
       "<span style=white-space:pre-wrap>    else if (is.numeric(row.names) &amp;&amp; length(row.names) == 1L) {</span>\n",
       "<span style=white-space:pre-wrap>        compactRN &lt;- FALSE</span>\n",
       "<span style=white-space:pre-wrap>        rlabp &lt;- row.names</span>\n",
       "<span style=white-space:pre-wrap>        row.names &lt;- data[[rlabp]]</span>\n",
       "<span style=white-space:pre-wrap>        data &lt;- data[-rlabp]</span>\n",
       "<span style=white-space:pre-wrap>        keep &lt;- keep[-rlabp]</span>\n",
       "<span style=white-space:pre-wrap>    }</span>\n",
       "<span style=white-space:pre-wrap>    else stop(\"invalid 'row.names' specification\")</span>\n",
       "<span style=white-space:pre-wrap>    data &lt;- data[keep]</span>\n",
       "<span style=white-space:pre-wrap>    if (is.object(row.names) || !(is.integer(row.names))) </span>\n",
       "<span style=white-space:pre-wrap>        row.names &lt;- as.character(row.names)</span>\n",
       "<span style=white-space:pre-wrap>    if (!compactRN) {</span>\n",
       "<span style=white-space:pre-wrap>        if (length(row.names) != nlines) </span>\n",
       "<span style=white-space:pre-wrap>            stop(\"invalid 'row.names' length\")</span>\n",
       "<span style=white-space:pre-wrap>        if (anyDuplicated(row.names)) </span>\n",
       "<span style=white-space:pre-wrap>            stop(\"duplicate 'row.names' are not allowed\")</span>\n",
       "<span style=white-space:pre-wrap>        if (anyNA(row.names)) </span>\n",
       "<span style=white-space:pre-wrap>            stop(\"missing values in 'row.names' are not allowed\")</span>\n",
       "<span style=white-space:pre-wrap>    }</span>\n",
       "<span style=white-space:pre-wrap>    class(data) &lt;- \"data.frame\"</span>\n",
       "<span style=white-space:pre-wrap>    attr(data, \"row.names\") &lt;- row.names</span>\n",
       "<span style=white-space:pre-wrap>    data</span>\n",
       "}</code></pre>"
      ],
      "text/latex": [
       "\\begin{minted}{r}\n",
       "function (file, header = FALSE, sep = \"\", quote = \"\\textbackslash{}\"'\", dec = \".\", \n",
       "    numerals = c(\"allow.loss\", \"warn.loss\", \"no.loss\"), row.names, \n",
       "    col.names, as.is = !stringsAsFactors, na.strings = \"NA\", \n",
       "    colClasses = NA, nrows = -1, skip = 0, check.names = TRUE, \n",
       "    fill = !blank.lines.skip, strip.white = FALSE, blank.lines.skip = TRUE, \n",
       "    comment.char = \"\\#\", allowEscapes = FALSE, flush = FALSE, \n",
       "    stringsAsFactors = default.stringsAsFactors(), fileEncoding = \"\", \n",
       "    encoding = \"unknown\", text, skipNul = FALSE) \n",
       "\\{\n",
       "    if (missing(file) \\&\\& !missing(text)) \\{\n",
       "        file <- textConnection(text, encoding = \"UTF-8\")\n",
       "        encoding <- \"UTF-8\"\n",
       "        on.exit(close(file))\n",
       "    \\}\n",
       "    if (is.character(file)) \\{\n",
       "        file <- if (nzchar(fileEncoding)) \n",
       "            file(file, \"rt\", encoding = fileEncoding)\n",
       "        else file(file, \"rt\")\n",
       "        on.exit(close(file))\n",
       "    \\}\n",
       "    if (!inherits(file, \"connection\")) \n",
       "        stop(\"'file' must be a character string or connection\")\n",
       "    if (!isOpen(file, \"rt\")) \\{\n",
       "        open(file, \"rt\")\n",
       "        on.exit(close(file))\n",
       "    \\}\n",
       "    pbEncoding <- if (encoding \\%in\\% c(\"\", \"bytes\", \"UTF-8\")) \n",
       "        encoding\n",
       "    else \"bytes\"\n",
       "    numerals <- match.arg(numerals)\n",
       "    if (skip > 0L) \n",
       "        readLines(file, skip)\n",
       "    nlines <- n0lines <- if (nrows < 0L) \n",
       "        5\n",
       "    else min(5L, (header + nrows))\n",
       "    lines <- .External(C\\_readtablehead, file, nlines, comment.char, \n",
       "        blank.lines.skip, quote, sep, skipNul)\n",
       "    if (encoding \\%in\\% c(\"UTF-8\", \"latin1\")) \n",
       "        Encoding(lines) <- encoding\n",
       "    nlines <- length(lines)\n",
       "    if (!nlines) \\{\n",
       "        if (missing(col.names)) \n",
       "            stop(\"no lines available in input\")\n",
       "        rlabp <- FALSE\n",
       "        cols <- length(col.names)\n",
       "    \\}\n",
       "    else \\{\n",
       "        if (all(!nzchar(lines))) \n",
       "            stop(\"empty beginning of file\")\n",
       "        if (nlines < n0lines \\&\\& file == 0L) \\{\n",
       "            pushBack(c(lines, lines, \"\"), file, encoding = pbEncoding)\n",
       "            on.exit((clearPushBack(stdin())))\n",
       "        \\}\n",
       "        else pushBack(c(lines, lines), file, encoding = pbEncoding)\n",
       "        first <- scan(file, what = \"\", sep = sep, quote = quote, \n",
       "            nlines = 1, quiet = TRUE, skip = 0, strip.white = TRUE, \n",
       "            blank.lines.skip = blank.lines.skip, comment.char = comment.char, \n",
       "            allowEscapes = allowEscapes, encoding = encoding, \n",
       "            skipNul = skipNul)\n",
       "        col1 <- if (missing(col.names)) \n",
       "            length(first)\n",
       "        else length(col.names)\n",
       "        col <- numeric(nlines - 1L)\n",
       "        if (nlines > 1L) \n",
       "            for (i in seq\\_along(col)) col{[}i{]} <- length(scan(file, \n",
       "                what = \"\", sep = sep, quote = quote, nlines = 1, \n",
       "                quiet = TRUE, skip = 0, strip.white = strip.white, \n",
       "                blank.lines.skip = blank.lines.skip, comment.char = comment.char, \n",
       "                allowEscapes = allowEscapes, encoding = encoding, \n",
       "                skipNul = skipNul))\n",
       "        cols <- max(col1, col)\n",
       "        rlabp <- (cols - col1) == 1L\n",
       "        if (rlabp \\&\\& missing(header)) \n",
       "            header <- TRUE\n",
       "        if (!header) \n",
       "            rlabp <- FALSE\n",
       "        if (header) \\{\n",
       "            .External(C\\_readtablehead, file, 1L, comment.char, \n",
       "                blank.lines.skip, quote, sep, skipNul)\n",
       "            if (missing(col.names)) \n",
       "                col.names <- first\n",
       "            else if (length(first) != length(col.names)) \n",
       "                warning(\"header and 'col.names' are of different lengths\")\n",
       "        \\}\n",
       "        else if (missing(col.names)) \n",
       "            col.names <- paste0(\"V\", 1L:cols)\n",
       "        if (length(col.names) + rlabp < cols) \n",
       "            stop(\"more columns than column names\")\n",
       "        if (fill \\&\\& length(col.names) > cols) \n",
       "            cols <- length(col.names)\n",
       "        if (!fill \\&\\& cols > 0L \\&\\& length(col.names) > cols) \n",
       "            stop(\"more column names than columns\")\n",
       "        if (cols == 0L) \n",
       "            stop(\"first five rows are empty: giving up\")\n",
       "    \\}\n",
       "    if (check.names) \n",
       "        col.names <- make.names(col.names, unique = TRUE)\n",
       "    if (rlabp) \n",
       "        col.names <- c(\"row.names\", col.names)\n",
       "    nmColClasses <- names(colClasses)\n",
       "    if (is.null(nmColClasses)) \\{\n",
       "        if (length(colClasses) < cols) \n",
       "            colClasses <- rep\\_len(colClasses, cols)\n",
       "    \\}\n",
       "    else \\{\n",
       "        tmp <- rep\\_len(NA\\_character\\_, cols)\n",
       "        names(tmp) <- col.names\n",
       "        i <- match(nmColClasses, col.names, 0L)\n",
       "        if (any(i <= 0L)) \n",
       "            warning(\"not all columns named in 'colClasses' exist\")\n",
       "        tmp{[}i{[}i > 0L{]}{]} <- colClasses{[}i > 0L{]}\n",
       "        colClasses <- tmp\n",
       "    \\}\n",
       "    what <- rep.int(list(\"\"), cols)\n",
       "    names(what) <- col.names\n",
       "    colClasses{[}colClasses \\%in\\% c(\"real\", \"double\"){]} <- \"numeric\"\n",
       "    known <- colClasses \\%in\\% c(\"logical\", \"integer\", \"numeric\", \n",
       "        \"complex\", \"character\", \"raw\")\n",
       "    what{[}known{]} <- sapply(colClasses{[}known{]}, do.call, list(0))\n",
       "    what{[}colClasses \\%in\\% \"NULL\"{]} <- list(NULL)\n",
       "    keep <- !sapply(what, is.null)\n",
       "    data <- scan(file = file, what = what, sep = sep, quote = quote, \n",
       "        dec = dec, nmax = nrows, skip = 0, na.strings = na.strings, \n",
       "        quiet = TRUE, fill = fill, strip.white = strip.white, \n",
       "        blank.lines.skip = blank.lines.skip, multi.line = FALSE, \n",
       "        comment.char = comment.char, allowEscapes = allowEscapes, \n",
       "        flush = flush, encoding = encoding, skipNul = skipNul)\n",
       "    nlines <- length(data{[}{[}which.max(keep){]}{]})\n",
       "    if (cols != length(data)) \\{\n",
       "        warning(\"cols = \", cols, \" != length(data) = \", length(data), \n",
       "            domain = NA)\n",
       "        cols <- length(data)\n",
       "    \\}\n",
       "    if (is.logical(as.is)) \\{\n",
       "        as.is <- rep\\_len(as.is, cols)\n",
       "    \\}\n",
       "    else if (is.numeric(as.is)) \\{\n",
       "        if (any(as.is < 1 \\textbar{} as.is > cols)) \n",
       "            stop(\"invalid numeric 'as.is' expression\")\n",
       "        i <- rep.int(FALSE, cols)\n",
       "        i{[}as.is{]} <- TRUE\n",
       "        as.is <- i\n",
       "    \\}\n",
       "    else if (is.character(as.is)) \\{\n",
       "        i <- match(as.is, col.names, 0L)\n",
       "        if (any(i <= 0L)) \n",
       "            warning(\"not all columns named in 'as.is' exist\")\n",
       "        i <- i{[}i > 0L{]}\n",
       "        as.is <- rep.int(FALSE, cols)\n",
       "        as.is{[}i{]} <- TRUE\n",
       "    \\}\n",
       "    else if (length(as.is) != cols) \n",
       "        stop(gettextf(\"'as.is' has the wrong length \\%d  != cols = \\%d\", \n",
       "            length(as.is), cols), domain = NA)\n",
       "    do <- keep \\& !known\n",
       "    if (rlabp) \n",
       "        do{[}1L{]} <- FALSE\n",
       "    for (i in (1L:cols){[}do{]}) \\{\n",
       "        data{[}{[}i{]}{]} <- if (is.na(colClasses{[}i{]})) \n",
       "            type.convert(data{[}{[}i{]}{]}, as.is = as.is{[}i{]}, dec = dec, \n",
       "                numerals = numerals, na.strings = character(0L))\n",
       "        else if (colClasses{[}i{]} == \"factor\") \n",
       "            as.factor(data{[}{[}i{]}{]})\n",
       "        else if (colClasses{[}i{]} == \"Date\") \n",
       "            as.Date(data{[}{[}i{]}{]})\n",
       "        else if (colClasses{[}i{]} == \"POSIXct\") \n",
       "            as.POSIXct(data{[}{[}i{]}{]})\n",
       "        else methods::as(data{[}{[}i{]}{]}, colClasses{[}i{]})\n",
       "    \\}\n",
       "    compactRN <- TRUE\n",
       "    if (missing(row.names)) \\{\n",
       "        if (rlabp) \\{\n",
       "            row.names <- data{[}{[}1L{]}{]}\n",
       "            data <- data{[}-1L{]}\n",
       "            keep <- keep{[}-1L{]}\n",
       "            compactRN <- FALSE\n",
       "        \\}\n",
       "        else row.names <- .set\\_row\\_names(as.integer(nlines))\n",
       "    \\}\n",
       "    else if (is.null(row.names)) \\{\n",
       "        row.names <- .set\\_row\\_names(as.integer(nlines))\n",
       "    \\}\n",
       "    else if (is.character(row.names)) \\{\n",
       "        compactRN <- FALSE\n",
       "        if (length(row.names) == 1L) \\{\n",
       "            rowvar <- (1L:cols){[}match(col.names, row.names, 0L) == \n",
       "                1L{]}\n",
       "            row.names <- data{[}{[}rowvar{]}{]}\n",
       "            data <- data{[}-rowvar{]}\n",
       "            keep <- keep{[}-rowvar{]}\n",
       "        \\}\n",
       "    \\}\n",
       "    else if (is.numeric(row.names) \\&\\& length(row.names) == 1L) \\{\n",
       "        compactRN <- FALSE\n",
       "        rlabp <- row.names\n",
       "        row.names <- data{[}{[}rlabp{]}{]}\n",
       "        data <- data{[}-rlabp{]}\n",
       "        keep <- keep{[}-rlabp{]}\n",
       "    \\}\n",
       "    else stop(\"invalid 'row.names' specification\")\n",
       "    data <- data{[}keep{]}\n",
       "    if (is.object(row.names) \\textbar{}\\textbar{} !(is.integer(row.names))) \n",
       "        row.names <- as.character(row.names)\n",
       "    if (!compactRN) \\{\n",
       "        if (length(row.names) != nlines) \n",
       "            stop(\"invalid 'row.names' length\")\n",
       "        if (anyDuplicated(row.names)) \n",
       "            stop(\"duplicate 'row.names' are not allowed\")\n",
       "        if (anyNA(row.names)) \n",
       "            stop(\"missing values in 'row.names' are not allowed\")\n",
       "    \\}\n",
       "    class(data) <- \"data.frame\"\n",
       "    attr(data, \"row.names\") <- row.names\n",
       "    data\n",
       "\\}\n",
       "\\end{minted}"
      ],
      "text/markdown": [
       "```r\n",
       "function (file, header = FALSE, sep = \"\", quote = \"\\\"'\", dec = \".\", \n",
       "    numerals = c(\"allow.loss\", \"warn.loss\", \"no.loss\"), row.names, \n",
       "    col.names, as.is = !stringsAsFactors, na.strings = \"NA\", \n",
       "    colClasses = NA, nrows = -1, skip = 0, check.names = TRUE, \n",
       "    fill = !blank.lines.skip, strip.white = FALSE, blank.lines.skip = TRUE, \n",
       "    comment.char = \"#\", allowEscapes = FALSE, flush = FALSE, \n",
       "    stringsAsFactors = default.stringsAsFactors(), fileEncoding = \"\", \n",
       "    encoding = \"unknown\", text, skipNul = FALSE) \n",
       "{\n",
       "    if (missing(file) && !missing(text)) {\n",
       "        file <- textConnection(text, encoding = \"UTF-8\")\n",
       "        encoding <- \"UTF-8\"\n",
       "        on.exit(close(file))\n",
       "    }\n",
       "    if (is.character(file)) {\n",
       "        file <- if (nzchar(fileEncoding)) \n",
       "            file(file, \"rt\", encoding = fileEncoding)\n",
       "        else file(file, \"rt\")\n",
       "        on.exit(close(file))\n",
       "    }\n",
       "    if (!inherits(file, \"connection\")) \n",
       "        stop(\"'file' must be a character string or connection\")\n",
       "    if (!isOpen(file, \"rt\")) {\n",
       "        open(file, \"rt\")\n",
       "        on.exit(close(file))\n",
       "    }\n",
       "    pbEncoding <- if (encoding %in% c(\"\", \"bytes\", \"UTF-8\")) \n",
       "        encoding\n",
       "    else \"bytes\"\n",
       "    numerals <- match.arg(numerals)\n",
       "    if (skip > 0L) \n",
       "        readLines(file, skip)\n",
       "    nlines <- n0lines <- if (nrows < 0L) \n",
       "        5\n",
       "    else min(5L, (header + nrows))\n",
       "    lines <- .External(C_readtablehead, file, nlines, comment.char, \n",
       "        blank.lines.skip, quote, sep, skipNul)\n",
       "    if (encoding %in% c(\"UTF-8\", \"latin1\")) \n",
       "        Encoding(lines) <- encoding\n",
       "    nlines <- length(lines)\n",
       "    if (!nlines) {\n",
       "        if (missing(col.names)) \n",
       "            stop(\"no lines available in input\")\n",
       "        rlabp <- FALSE\n",
       "        cols <- length(col.names)\n",
       "    }\n",
       "    else {\n",
       "        if (all(!nzchar(lines))) \n",
       "            stop(\"empty beginning of file\")\n",
       "        if (nlines < n0lines && file == 0L) {\n",
       "            pushBack(c(lines, lines, \"\"), file, encoding = pbEncoding)\n",
       "            on.exit((clearPushBack(stdin())))\n",
       "        }\n",
       "        else pushBack(c(lines, lines), file, encoding = pbEncoding)\n",
       "        first <- scan(file, what = \"\", sep = sep, quote = quote, \n",
       "            nlines = 1, quiet = TRUE, skip = 0, strip.white = TRUE, \n",
       "            blank.lines.skip = blank.lines.skip, comment.char = comment.char, \n",
       "            allowEscapes = allowEscapes, encoding = encoding, \n",
       "            skipNul = skipNul)\n",
       "        col1 <- if (missing(col.names)) \n",
       "            length(first)\n",
       "        else length(col.names)\n",
       "        col <- numeric(nlines - 1L)\n",
       "        if (nlines > 1L) \n",
       "            for (i in seq_along(col)) col[i] <- length(scan(file, \n",
       "                what = \"\", sep = sep, quote = quote, nlines = 1, \n",
       "                quiet = TRUE, skip = 0, strip.white = strip.white, \n",
       "                blank.lines.skip = blank.lines.skip, comment.char = comment.char, \n",
       "                allowEscapes = allowEscapes, encoding = encoding, \n",
       "                skipNul = skipNul))\n",
       "        cols <- max(col1, col)\n",
       "        rlabp <- (cols - col1) == 1L\n",
       "        if (rlabp && missing(header)) \n",
       "            header <- TRUE\n",
       "        if (!header) \n",
       "            rlabp <- FALSE\n",
       "        if (header) {\n",
       "            .External(C_readtablehead, file, 1L, comment.char, \n",
       "                blank.lines.skip, quote, sep, skipNul)\n",
       "            if (missing(col.names)) \n",
       "                col.names <- first\n",
       "            else if (length(first) != length(col.names)) \n",
       "                warning(\"header and 'col.names' are of different lengths\")\n",
       "        }\n",
       "        else if (missing(col.names)) \n",
       "            col.names <- paste0(\"V\", 1L:cols)\n",
       "        if (length(col.names) + rlabp < cols) \n",
       "            stop(\"more columns than column names\")\n",
       "        if (fill && length(col.names) > cols) \n",
       "            cols <- length(col.names)\n",
       "        if (!fill && cols > 0L && length(col.names) > cols) \n",
       "            stop(\"more column names than columns\")\n",
       "        if (cols == 0L) \n",
       "            stop(\"first five rows are empty: giving up\")\n",
       "    }\n",
       "    if (check.names) \n",
       "        col.names <- make.names(col.names, unique = TRUE)\n",
       "    if (rlabp) \n",
       "        col.names <- c(\"row.names\", col.names)\n",
       "    nmColClasses <- names(colClasses)\n",
       "    if (is.null(nmColClasses)) {\n",
       "        if (length(colClasses) < cols) \n",
       "            colClasses <- rep_len(colClasses, cols)\n",
       "    }\n",
       "    else {\n",
       "        tmp <- rep_len(NA_character_, cols)\n",
       "        names(tmp) <- col.names\n",
       "        i <- match(nmColClasses, col.names, 0L)\n",
       "        if (any(i <= 0L)) \n",
       "            warning(\"not all columns named in 'colClasses' exist\")\n",
       "        tmp[i[i > 0L]] <- colClasses[i > 0L]\n",
       "        colClasses <- tmp\n",
       "    }\n",
       "    what <- rep.int(list(\"\"), cols)\n",
       "    names(what) <- col.names\n",
       "    colClasses[colClasses %in% c(\"real\", \"double\")] <- \"numeric\"\n",
       "    known <- colClasses %in% c(\"logical\", \"integer\", \"numeric\", \n",
       "        \"complex\", \"character\", \"raw\")\n",
       "    what[known] <- sapply(colClasses[known], do.call, list(0))\n",
       "    what[colClasses %in% \"NULL\"] <- list(NULL)\n",
       "    keep <- !sapply(what, is.null)\n",
       "    data <- scan(file = file, what = what, sep = sep, quote = quote, \n",
       "        dec = dec, nmax = nrows, skip = 0, na.strings = na.strings, \n",
       "        quiet = TRUE, fill = fill, strip.white = strip.white, \n",
       "        blank.lines.skip = blank.lines.skip, multi.line = FALSE, \n",
       "        comment.char = comment.char, allowEscapes = allowEscapes, \n",
       "        flush = flush, encoding = encoding, skipNul = skipNul)\n",
       "    nlines <- length(data[[which.max(keep)]])\n",
       "    if (cols != length(data)) {\n",
       "        warning(\"cols = \", cols, \" != length(data) = \", length(data), \n",
       "            domain = NA)\n",
       "        cols <- length(data)\n",
       "    }\n",
       "    if (is.logical(as.is)) {\n",
       "        as.is <- rep_len(as.is, cols)\n",
       "    }\n",
       "    else if (is.numeric(as.is)) {\n",
       "        if (any(as.is < 1 | as.is > cols)) \n",
       "            stop(\"invalid numeric 'as.is' expression\")\n",
       "        i <- rep.int(FALSE, cols)\n",
       "        i[as.is] <- TRUE\n",
       "        as.is <- i\n",
       "    }\n",
       "    else if (is.character(as.is)) {\n",
       "        i <- match(as.is, col.names, 0L)\n",
       "        if (any(i <= 0L)) \n",
       "            warning(\"not all columns named in 'as.is' exist\")\n",
       "        i <- i[i > 0L]\n",
       "        as.is <- rep.int(FALSE, cols)\n",
       "        as.is[i] <- TRUE\n",
       "    }\n",
       "    else if (length(as.is) != cols) \n",
       "        stop(gettextf(\"'as.is' has the wrong length %d  != cols = %d\", \n",
       "            length(as.is), cols), domain = NA)\n",
       "    do <- keep & !known\n",
       "    if (rlabp) \n",
       "        do[1L] <- FALSE\n",
       "    for (i in (1L:cols)[do]) {\n",
       "        data[[i]] <- if (is.na(colClasses[i])) \n",
       "            type.convert(data[[i]], as.is = as.is[i], dec = dec, \n",
       "                numerals = numerals, na.strings = character(0L))\n",
       "        else if (colClasses[i] == \"factor\") \n",
       "            as.factor(data[[i]])\n",
       "        else if (colClasses[i] == \"Date\") \n",
       "            as.Date(data[[i]])\n",
       "        else if (colClasses[i] == \"POSIXct\") \n",
       "            as.POSIXct(data[[i]])\n",
       "        else methods::as(data[[i]], colClasses[i])\n",
       "    }\n",
       "    compactRN <- TRUE\n",
       "    if (missing(row.names)) {\n",
       "        if (rlabp) {\n",
       "            row.names <- data[[1L]]\n",
       "            data <- data[-1L]\n",
       "            keep <- keep[-1L]\n",
       "            compactRN <- FALSE\n",
       "        }\n",
       "        else row.names <- .set_row_names(as.integer(nlines))\n",
       "    }\n",
       "    else if (is.null(row.names)) {\n",
       "        row.names <- .set_row_names(as.integer(nlines))\n",
       "    }\n",
       "    else if (is.character(row.names)) {\n",
       "        compactRN <- FALSE\n",
       "        if (length(row.names) == 1L) {\n",
       "            rowvar <- (1L:cols)[match(col.names, row.names, 0L) == \n",
       "                1L]\n",
       "            row.names <- data[[rowvar]]\n",
       "            data <- data[-rowvar]\n",
       "            keep <- keep[-rowvar]\n",
       "        }\n",
       "    }\n",
       "    else if (is.numeric(row.names) && length(row.names) == 1L) {\n",
       "        compactRN <- FALSE\n",
       "        rlabp <- row.names\n",
       "        row.names <- data[[rlabp]]\n",
       "        data <- data[-rlabp]\n",
       "        keep <- keep[-rlabp]\n",
       "    }\n",
       "    else stop(\"invalid 'row.names' specification\")\n",
       "    data <- data[keep]\n",
       "    if (is.object(row.names) || !(is.integer(row.names))) \n",
       "        row.names <- as.character(row.names)\n",
       "    if (!compactRN) {\n",
       "        if (length(row.names) != nlines) \n",
       "            stop(\"invalid 'row.names' length\")\n",
       "        if (anyDuplicated(row.names)) \n",
       "            stop(\"duplicate 'row.names' are not allowed\")\n",
       "        if (anyNA(row.names)) \n",
       "            stop(\"missing values in 'row.names' are not allowed\")\n",
       "    }\n",
       "    class(data) <- \"data.frame\"\n",
       "    attr(data, \"row.names\") <- row.names\n",
       "    data\n",
       "}\n",
       "```"
      ],
      "text/plain": [
       "function (file, header = FALSE, sep = \"\", quote = \"\\\"'\", dec = \".\", \n",
       "    numerals = c(\"allow.loss\", \"warn.loss\", \"no.loss\"), row.names, \n",
       "    col.names, as.is = !stringsAsFactors, na.strings = \"NA\", \n",
       "    colClasses = NA, nrows = -1, skip = 0, check.names = TRUE, \n",
       "    fill = !blank.lines.skip, strip.white = FALSE, blank.lines.skip = TRUE, \n",
       "    comment.char = \"#\", allowEscapes = FALSE, flush = FALSE, \n",
       "    stringsAsFactors = default.stringsAsFactors(), fileEncoding = \"\", \n",
       "    encoding = \"unknown\", text, skipNul = FALSE) \n",
       "{\n",
       "    if (missing(file) && !missing(text)) {\n",
       "        file <- textConnection(text, encoding = \"UTF-8\")\n",
       "        encoding <- \"UTF-8\"\n",
       "        on.exit(close(file))\n",
       "    }\n",
       "    if (is.character(file)) {\n",
       "        file <- if (nzchar(fileEncoding)) \n",
       "            file(file, \"rt\", encoding = fileEncoding)\n",
       "        else file(file, \"rt\")\n",
       "        on.exit(close(file))\n",
       "    }\n",
       "    if (!inherits(file, \"connection\")) \n",
       "        stop(\"'file' must be a character string or connection\")\n",
       "    if (!isOpen(file, \"rt\")) {\n",
       "        open(file, \"rt\")\n",
       "        on.exit(close(file))\n",
       "    }\n",
       "    pbEncoding <- if (encoding %in% c(\"\", \"bytes\", \"UTF-8\")) \n",
       "        encoding\n",
       "    else \"bytes\"\n",
       "    numerals <- match.arg(numerals)\n",
       "    if (skip > 0L) \n",
       "        readLines(file, skip)\n",
       "    nlines <- n0lines <- if (nrows < 0L) \n",
       "        5\n",
       "    else min(5L, (header + nrows))\n",
       "    lines <- .External(C_readtablehead, file, nlines, comment.char, \n",
       "        blank.lines.skip, quote, sep, skipNul)\n",
       "    if (encoding %in% c(\"UTF-8\", \"latin1\")) \n",
       "        Encoding(lines) <- encoding\n",
       "    nlines <- length(lines)\n",
       "    if (!nlines) {\n",
       "        if (missing(col.names)) \n",
       "            stop(\"no lines available in input\")\n",
       "        rlabp <- FALSE\n",
       "        cols <- length(col.names)\n",
       "    }\n",
       "    else {\n",
       "        if (all(!nzchar(lines))) \n",
       "            stop(\"empty beginning of file\")\n",
       "        if (nlines < n0lines && file == 0L) {\n",
       "            pushBack(c(lines, lines, \"\"), file, encoding = pbEncoding)\n",
       "            on.exit((clearPushBack(stdin())))\n",
       "        }\n",
       "        else pushBack(c(lines, lines), file, encoding = pbEncoding)\n",
       "        first <- scan(file, what = \"\", sep = sep, quote = quote, \n",
       "            nlines = 1, quiet = TRUE, skip = 0, strip.white = TRUE, \n",
       "            blank.lines.skip = blank.lines.skip, comment.char = comment.char, \n",
       "            allowEscapes = allowEscapes, encoding = encoding, \n",
       "            skipNul = skipNul)\n",
       "        col1 <- if (missing(col.names)) \n",
       "            length(first)\n",
       "        else length(col.names)\n",
       "        col <- numeric(nlines - 1L)\n",
       "        if (nlines > 1L) \n",
       "            for (i in seq_along(col)) col[i] <- length(scan(file, \n",
       "                what = \"\", sep = sep, quote = quote, nlines = 1, \n",
       "                quiet = TRUE, skip = 0, strip.white = strip.white, \n",
       "                blank.lines.skip = blank.lines.skip, comment.char = comment.char, \n",
       "                allowEscapes = allowEscapes, encoding = encoding, \n",
       "                skipNul = skipNul))\n",
       "        cols <- max(col1, col)\n",
       "        rlabp <- (cols - col1) == 1L\n",
       "        if (rlabp && missing(header)) \n",
       "            header <- TRUE\n",
       "        if (!header) \n",
       "            rlabp <- FALSE\n",
       "        if (header) {\n",
       "            .External(C_readtablehead, file, 1L, comment.char, \n",
       "                blank.lines.skip, quote, sep, skipNul)\n",
       "            if (missing(col.names)) \n",
       "                col.names <- first\n",
       "            else if (length(first) != length(col.names)) \n",
       "                warning(\"header and 'col.names' are of different lengths\")\n",
       "        }\n",
       "        else if (missing(col.names)) \n",
       "            col.names <- paste0(\"V\", 1L:cols)\n",
       "        if (length(col.names) + rlabp < cols) \n",
       "            stop(\"more columns than column names\")\n",
       "        if (fill && length(col.names) > cols) \n",
       "            cols <- length(col.names)\n",
       "        if (!fill && cols > 0L && length(col.names) > cols) \n",
       "            stop(\"more column names than columns\")\n",
       "        if (cols == 0L) \n",
       "            stop(\"first five rows are empty: giving up\")\n",
       "    }\n",
       "    if (check.names) \n",
       "        col.names <- make.names(col.names, unique = TRUE)\n",
       "    if (rlabp) \n",
       "        col.names <- c(\"row.names\", col.names)\n",
       "    nmColClasses <- names(colClasses)\n",
       "    if (is.null(nmColClasses)) {\n",
       "        if (length(colClasses) < cols) \n",
       "            colClasses <- rep_len(colClasses, cols)\n",
       "    }\n",
       "    else {\n",
       "        tmp <- rep_len(NA_character_, cols)\n",
       "        names(tmp) <- col.names\n",
       "        i <- match(nmColClasses, col.names, 0L)\n",
       "        if (any(i <= 0L)) \n",
       "            warning(\"not all columns named in 'colClasses' exist\")\n",
       "        tmp[i[i > 0L]] <- colClasses[i > 0L]\n",
       "        colClasses <- tmp\n",
       "    }\n",
       "    what <- rep.int(list(\"\"), cols)\n",
       "    names(what) <- col.names\n",
       "    colClasses[colClasses %in% c(\"real\", \"double\")] <- \"numeric\"\n",
       "    known <- colClasses %in% c(\"logical\", \"integer\", \"numeric\", \n",
       "        \"complex\", \"character\", \"raw\")\n",
       "    what[known] <- sapply(colClasses[known], do.call, list(0))\n",
       "    what[colClasses %in% \"NULL\"] <- list(NULL)\n",
       "    keep <- !sapply(what, is.null)\n",
       "    data <- scan(file = file, what = what, sep = sep, quote = quote, \n",
       "        dec = dec, nmax = nrows, skip = 0, na.strings = na.strings, \n",
       "        quiet = TRUE, fill = fill, strip.white = strip.white, \n",
       "        blank.lines.skip = blank.lines.skip, multi.line = FALSE, \n",
       "        comment.char = comment.char, allowEscapes = allowEscapes, \n",
       "        flush = flush, encoding = encoding, skipNul = skipNul)\n",
       "    nlines <- length(data[[which.max(keep)]])\n",
       "    if (cols != length(data)) {\n",
       "        warning(\"cols = \", cols, \" != length(data) = \", length(data), \n",
       "            domain = NA)\n",
       "        cols <- length(data)\n",
       "    }\n",
       "    if (is.logical(as.is)) {\n",
       "        as.is <- rep_len(as.is, cols)\n",
       "    }\n",
       "    else if (is.numeric(as.is)) {\n",
       "        if (any(as.is < 1 | as.is > cols)) \n",
       "            stop(\"invalid numeric 'as.is' expression\")\n",
       "        i <- rep.int(FALSE, cols)\n",
       "        i[as.is] <- TRUE\n",
       "        as.is <- i\n",
       "    }\n",
       "    else if (is.character(as.is)) {\n",
       "        i <- match(as.is, col.names, 0L)\n",
       "        if (any(i <= 0L)) \n",
       "            warning(\"not all columns named in 'as.is' exist\")\n",
       "        i <- i[i > 0L]\n",
       "        as.is <- rep.int(FALSE, cols)\n",
       "        as.is[i] <- TRUE\n",
       "    }\n",
       "    else if (length(as.is) != cols) \n",
       "        stop(gettextf(\"'as.is' has the wrong length %d  != cols = %d\", \n",
       "            length(as.is), cols), domain = NA)\n",
       "    do <- keep & !known\n",
       "    if (rlabp) \n",
       "        do[1L] <- FALSE\n",
       "    for (i in (1L:cols)[do]) {\n",
       "        data[[i]] <- if (is.na(colClasses[i])) \n",
       "            type.convert(data[[i]], as.is = as.is[i], dec = dec, \n",
       "                numerals = numerals, na.strings = character(0L))\n",
       "        else if (colClasses[i] == \"factor\") \n",
       "            as.factor(data[[i]])\n",
       "        else if (colClasses[i] == \"Date\") \n",
       "            as.Date(data[[i]])\n",
       "        else if (colClasses[i] == \"POSIXct\") \n",
       "            as.POSIXct(data[[i]])\n",
       "        else methods::as(data[[i]], colClasses[i])\n",
       "    }\n",
       "    compactRN <- TRUE\n",
       "    if (missing(row.names)) {\n",
       "        if (rlabp) {\n",
       "            row.names <- data[[1L]]\n",
       "            data <- data[-1L]\n",
       "            keep <- keep[-1L]\n",
       "            compactRN <- FALSE\n",
       "        }\n",
       "        else row.names <- .set_row_names(as.integer(nlines))\n",
       "    }\n",
       "    else if (is.null(row.names)) {\n",
       "        row.names <- .set_row_names(as.integer(nlines))\n",
       "    }\n",
       "    else if (is.character(row.names)) {\n",
       "        compactRN <- FALSE\n",
       "        if (length(row.names) == 1L) {\n",
       "            rowvar <- (1L:cols)[match(col.names, row.names, 0L) == \n",
       "                1L]\n",
       "            row.names <- data[[rowvar]]\n",
       "            data <- data[-rowvar]\n",
       "            keep <- keep[-rowvar]\n",
       "        }\n",
       "    }\n",
       "    else if (is.numeric(row.names) && length(row.names) == 1L) {\n",
       "        compactRN <- FALSE\n",
       "        rlabp <- row.names\n",
       "        row.names <- data[[rlabp]]\n",
       "        data <- data[-rlabp]\n",
       "        keep <- keep[-rlabp]\n",
       "    }\n",
       "    else stop(\"invalid 'row.names' specification\")\n",
       "    data <- data[keep]\n",
       "    if (is.object(row.names) || !(is.integer(row.names))) \n",
       "        row.names <- as.character(row.names)\n",
       "    if (!compactRN) {\n",
       "        if (length(row.names) != nlines) \n",
       "            stop(\"invalid 'row.names' length\")\n",
       "        if (anyDuplicated(row.names)) \n",
       "            stop(\"duplicate 'row.names' are not allowed\")\n",
       "        if (anyNA(row.names)) \n",
       "            stop(\"missing values in 'row.names' are not allowed\")\n",
       "    }\n",
       "    class(data) <- \"data.frame\"\n",
       "    attr(data, \"row.names\") <- row.names\n",
       "    data\n",
       "}\n",
       "<bytecode: 0x3382560>\n",
       "<environment: namespace:utils>"
      ]
     },
     "metadata": {},
     "output_type": "display_data"
    }
   ],
   "source": [
    "read.table"
   ]
  },
  {
   "cell_type": "markdown",
   "metadata": {},
   "source": [
    "通过`read,table`的前几行可以看到`header=FALSE`等参数，等号后面的`FALSE`\n",
    "就是它默认的参数，这就是`named argument`.默认参数在各种编程语言是很普遍的，\n",
    "顾名思义，默认的意思就是我们不主动配置这个参数，系统就会自动分配给函数一个默认\n",
    "的参数去用于下面的执行。\n",
    "\n",
    "不过要注意一点，就是在R中是使用`lazy evaluation`的，所以默认参数有时候也用不到\n",
    "——只有用到的它的时候才会被用到。"
   ]
  },
  {
   "cell_type": "markdown",
   "metadata": {},
   "source": [
    "### 7.4 返回值(Return Values)\n",
    "\n",
    "在R中，函数的返回值可以是任何的对象(`object`)。函数也可以\n",
    "让函数作为返回值，当然在大部分的情况下我们还是习惯返回一个\n",
    "`list`.\n",
    "\n",
    "一般我们使用`return(...)`来显示地指明我们想要返回的对象，\n",
    "不过在R中不写`return`语句也是可以返回的值的，一般来说是\n",
    "函数最后一条语句的估计值就是默认的返回值。"
   ]
  },
  {
   "cell_type": "code",
   "execution_count": 29,
   "metadata": {
    "ExecuteTime": {
     "end_time": "2018-06-12T00:19:41.038543Z",
     "start_time": "2018-06-12T00:19:40.991Z"
    }
   },
   "outputs": [
    {
     "data": {
      "text/html": [
       "2"
      ],
      "text/latex": [
       "2"
      ],
      "text/markdown": [
       "2"
      ],
      "text/plain": [
       "[1] 2"
      ]
     },
     "metadata": {},
     "output_type": "display_data"
    }
   ],
   "source": [
    "# 第一章的计数函数\n",
    "oddcount <- function(x){\n",
    "    k <- 0\n",
    "    for(n in x){\n",
    "        if (n %% 2 == 1) k <- k+1\n",
    "    }\n",
    "    return(k)\n",
    "}\n",
    "\n",
    "oddcount(c(7,8,9))"
   ]
  },
  {
   "cell_type": "code",
   "execution_count": 30,
   "metadata": {
    "ExecuteTime": {
     "end_time": "2018-06-12T00:20:23.485118Z",
     "start_time": "2018-06-12T00:20:23.444Z"
    }
   },
   "outputs": [
    {
     "data": {
      "text/html": [
       "2"
      ],
      "text/latex": [
       "2"
      ],
      "text/markdown": [
       "2"
      ],
      "text/plain": [
       "[1] 2"
      ]
     },
     "metadata": {},
     "output_type": "display_data"
    }
   ],
   "source": [
    "# 可以不用return\n",
    "oddcount <- function(x){\n",
    "    k <- 0\n",
    "    for(n in x){\n",
    "        if (n %% 2 == 1) k <- k+1\n",
    "    }\n",
    "    k\n",
    "}\n",
    "\n",
    "oddcount(c(7, 8, 9))"
   ]
  },
  {
   "cell_type": "code",
   "execution_count": 31,
   "metadata": {
    "ExecuteTime": {
     "end_time": "2018-06-12T00:21:07.698148Z",
     "start_time": "2018-06-12T00:21:07.665Z"
    }
   },
   "outputs": [],
   "source": [
    "# 以for循环结尾就不行，因为它返回NULL\n",
    "oddcount <- function(x){\n",
    "    k <- 0\n",
    "    for(n in x){\n",
    "        if (n %% 2 == 1) k <- k+1\n",
    "    }\n",
    "}\n",
    "\n",
    "oddcount(c(7, 8, 9))"
   ]
  },
  {
   "cell_type": "markdown",
   "metadata": {},
   "source": [
    "#### 7.4.1 判断是否用`return()`（Deciding Whether to Explicitly Call return()）\n",
    "\n",
    "在之前的习惯中，一般是不去显式地去调用`return`去返回值的，其中一个原因是\n",
    "显式的调用会使得函数的执行时间加长。不过这一点只有在函数本身很短的情况下\n",
    "才能显现出来，一般这种节省可以忽略不计。\n",
    "\n",
    "书上的代码大部分都是写了`return`的，这是为了新手可以更好地阅读和理解，一般情况\n",
    "下`return`是可以省略的。\n",
    "\n",
    "(ps:个人感觉还是写上`return`好些...)"
   ]
  },
  {
   "cell_type": "markdown",
   "metadata": {},
   "source": [
    "#### 7.4.2 返回复杂对象(Returning Complex Objects)\n",
    "\n",
    "因为函数可以返回任意的R对象(`R object`)，我们可以返回一些复杂的对象。"
   ]
  },
  {
   "cell_type": "code",
   "execution_count": 35,
   "metadata": {
    "ExecuteTime": {
     "end_time": "2018-06-12T01:09:47.396955Z",
     "start_time": "2018-06-12T01:09:47.353Z"
    }
   },
   "outputs": [
    {
     "data": {
      "text/html": [
       "<pre class=language-r><code>function (x) \n",
       "return(x^2)</code></pre>"
      ],
      "text/latex": [
       "\\begin{minted}{r}\n",
       "function (x) \n",
       "return(x\\textasciicircum{}2)\n",
       "\\end{minted}"
      ],
      "text/markdown": [
       "```r\n",
       "function (x) \n",
       "return(x^2)\n",
       "```"
      ],
      "text/plain": [
       "function(x) return(x^2)\n",
       "<environment: 0x35655a8>"
      ]
     },
     "metadata": {},
     "output_type": "display_data"
    }
   ],
   "source": [
    "# 返回一个函数\n",
    "g <- function(){\n",
    "    t <- function(x) return(x^2)\n",
    "    return(t)\n",
    "}\n",
    "\n",
    "g()"
   ]
  },
  {
   "cell_type": "markdown",
   "metadata": {},
   "source": [
    "在函数有多个返回值的时候，我们可以把他们全部装进一个`list`然后返回."
   ]
  },
  {
   "cell_type": "markdown",
   "metadata": {},
   "source": [
    "### 7.5 函数也是对象(Functions Are Objects)\n",
    "\n",
    "R中的函数是`first-class objects`(of the class \"function\")，\n",
    "这意味着我们可以在很多地方像其他对象一样地来使用函数。"
   ]
  },
  {
   "cell_type": "code",
   "execution_count": 36,
   "metadata": {
    "ExecuteTime": {
     "end_time": "2018-06-12T01:09:49.431381Z",
     "start_time": "2018-06-12T01:09:49.407Z"
    }
   },
   "outputs": [],
   "source": [
    "# 函数的创建\n",
    "g <- function(x){\n",
    "    return(x+1)\n",
    "}"
   ]
  },
  {
   "cell_type": "markdown",
   "metadata": {},
   "source": [
    "这里的`function()`是R的一个内置的函数，它的作用就是创建函数。\n",
    "那么，看到上面箭头的右边，我们可以重新审视`function`函数，实际上，\n",
    "它是一个接受两个参数的函数，第一个是参数列表（这里是`x`），第二个是\n",
    "新建函数的主题内容（这里就是`return(x+1`）.其中其二个参数必须是`expression`.\n",
    "所以右边这一块的意思就是，新建一个函数对象，然后把它赋值赋给左边的`g`。\n",
    "\n",
    "另外，`{`也是一个函数，可通过`?\"{\"`来查看相关信息。它的作用是可以为多条\n",
    "语句创造一个单独的单元(`single unit`).\n",
    "\n",
    "在R的内部有两个函数 获取`function()`的这两个“参数”。"
   ]
  },
  {
   "cell_type": "code",
   "execution_count": 37,
   "metadata": {
    "ExecuteTime": {
     "end_time": "2018-06-12T01:33:07.084894Z",
     "start_time": "2018-06-12T01:33:07.059Z"
    }
   },
   "outputs": [
    {
     "data": {
      "text/plain": [
       "$x\n",
       "\n"
      ]
     },
     "metadata": {},
     "output_type": "display_data"
    }
   ],
   "source": [
    "formals(g)"
   ]
  },
  {
   "cell_type": "code",
   "execution_count": 38,
   "metadata": {
    "ExecuteTime": {
     "end_time": "2018-06-12T01:33:11.538191Z",
     "start_time": "2018-06-12T01:33:11.512Z"
    }
   },
   "outputs": [
    {
     "data": {
      "text/plain": [
       "{\n",
       "    return(x + 1)\n",
       "}"
      ]
     },
     "metadata": {},
     "output_type": "display_data"
    }
   ],
   "source": [
    "body(g)"
   ]
  },
  {
   "cell_type": "markdown",
   "metadata": {},
   "source": [
    "在交互式模式中，我们输入变量或者其他对象的名字都会打印出其包含的数据或信息。\n",
    "函数也是一样，它也是一个对象，我们当然也能通过输入函数名来打印它的内容。"
   ]
  },
  {
   "cell_type": "code",
   "execution_count": 39,
   "metadata": {
    "ExecuteTime": {
     "end_time": "2018-06-12T01:35:56.448026Z",
     "start_time": "2018-06-12T01:35:56.413Z"
    }
   },
   "outputs": [
    {
     "data": {
      "text/html": [
       "<pre class=language-r><code>function (x) \n",
       "{\n",
       "<span style=white-space:pre-wrap>    return(x + 1)</span>\n",
       "}</code></pre>"
      ],
      "text/latex": [
       "\\begin{minted}{r}\n",
       "function (x) \n",
       "\\{\n",
       "    return(x + 1)\n",
       "\\}\n",
       "\\end{minted}"
      ],
      "text/markdown": [
       "```r\n",
       "function (x) \n",
       "{\n",
       "    return(x + 1)\n",
       "}\n",
       "```"
      ],
      "text/plain": [
       "function(x){\n",
       "    return(x+1)\n",
       "}"
      ]
     },
     "metadata": {},
     "output_type": "display_data"
    }
   ],
   "source": [
    "g"
   ]
  },
  {
   "cell_type": "markdown",
   "metadata": {},
   "source": [
    "所以，在我们某个函数（自定义的或者内建函数）的用法感到模糊的时候，可以打印函数信息来了解其用法。"
   ]
  },
  {
   "cell_type": "code",
   "execution_count": 40,
   "metadata": {
    "ExecuteTime": {
     "end_time": "2018-06-12T01:39:35.918162Z",
     "start_time": "2018-06-12T01:39:35.891Z"
    },
    "scrolled": true
   },
   "outputs": [
    {
     "data": {
      "text/html": [
       "<pre class=language-r><code>function (a = NULL, b = NULL, h = NULL, v = NULL, reg = NULL, \n",
       "<span style=white-space:pre-wrap>    coef = NULL, untf = FALSE, ...) </span>\n",
       "{\n",
       "<span style=white-space:pre-wrap>    int_abline &lt;- function(a, b, h, v, untf, col = par(\"col\"), </span>\n",
       "<span style=white-space:pre-wrap>        lty = par(\"lty\"), lwd = par(\"lwd\"), ...) .External.graphics(C_abline, </span>\n",
       "<span style=white-space:pre-wrap>        a, b, h, v, untf, col, lty, lwd, ...)</span>\n",
       "<span style=white-space:pre-wrap>    if (!is.null(reg)) {</span>\n",
       "<span style=white-space:pre-wrap>        if (!is.null(a)) </span>\n",
       "<span style=white-space:pre-wrap>            warning(\"'a' is overridden by 'reg'\")</span>\n",
       "<span style=white-space:pre-wrap>        a &lt;- reg</span>\n",
       "<span style=white-space:pre-wrap>    }</span>\n",
       "<span style=white-space:pre-wrap>    if (is.object(a) || is.list(a)) {</span>\n",
       "<span style=white-space:pre-wrap>        p &lt;- length(coefa &lt;- as.vector(coef(a)))</span>\n",
       "<span style=white-space:pre-wrap>        if (p &gt; 2) </span>\n",
       "<span style=white-space:pre-wrap>            warning(gettextf(\"only using the first two of %d regression coefficients\", </span>\n",
       "<span style=white-space:pre-wrap>                p), domain = NA)</span>\n",
       "<span style=white-space:pre-wrap>        islm &lt;- inherits(a, \"lm\")</span>\n",
       "<span style=white-space:pre-wrap>        noInt &lt;- if (islm) </span>\n",
       "<span style=white-space:pre-wrap>            !as.logical(attr(stats::terms(a), \"intercept\"))</span>\n",
       "<span style=white-space:pre-wrap>        else p == 1</span>\n",
       "<span style=white-space:pre-wrap>        if (noInt) {</span>\n",
       "<span style=white-space:pre-wrap>            a &lt;- 0</span>\n",
       "<span style=white-space:pre-wrap>            b &lt;- coefa[1L]</span>\n",
       "<span style=white-space:pre-wrap>        }</span>\n",
       "<span style=white-space:pre-wrap>        else {</span>\n",
       "<span style=white-space:pre-wrap>            a &lt;- coefa[1L]</span>\n",
       "<span style=white-space:pre-wrap>            b &lt;- if (p &gt;= 2) </span>\n",
       "<span style=white-space:pre-wrap>                coefa[2L]</span>\n",
       "<span style=white-space:pre-wrap>            else 0</span>\n",
       "<span style=white-space:pre-wrap>        }</span>\n",
       "<span style=white-space:pre-wrap>    }</span>\n",
       "<span style=white-space:pre-wrap>    if (!is.null(coef)) {</span>\n",
       "<span style=white-space:pre-wrap>        if (!is.null(a)) </span>\n",
       "<span style=white-space:pre-wrap>            warning(\"'a' and 'b' are overridden by 'coef'\")</span>\n",
       "<span style=white-space:pre-wrap>        a &lt;- coef[1L]</span>\n",
       "<span style=white-space:pre-wrap>        b &lt;- coef[2L]</span>\n",
       "<span style=white-space:pre-wrap>    }</span>\n",
       "<span style=white-space:pre-wrap>    int_abline(a = a, b = b, h = h, v = v, untf = untf, ...)</span>\n",
       "<span style=white-space:pre-wrap>    invisible()</span>\n",
       "}</code></pre>"
      ],
      "text/latex": [
       "\\begin{minted}{r}\n",
       "function (a = NULL, b = NULL, h = NULL, v = NULL, reg = NULL, \n",
       "    coef = NULL, untf = FALSE, ...) \n",
       "\\{\n",
       "    int\\_abline <- function(a, b, h, v, untf, col = par(\"col\"), \n",
       "        lty = par(\"lty\"), lwd = par(\"lwd\"), ...) .External.graphics(C\\_abline, \n",
       "        a, b, h, v, untf, col, lty, lwd, ...)\n",
       "    if (!is.null(reg)) \\{\n",
       "        if (!is.null(a)) \n",
       "            warning(\"'a' is overridden by 'reg'\")\n",
       "        a <- reg\n",
       "    \\}\n",
       "    if (is.object(a) \\textbar{}\\textbar{} is.list(a)) \\{\n",
       "        p <- length(coefa <- as.vector(coef(a)))\n",
       "        if (p > 2) \n",
       "            warning(gettextf(\"only using the first two of \\%d regression coefficients\", \n",
       "                p), domain = NA)\n",
       "        islm <- inherits(a, \"lm\")\n",
       "        noInt <- if (islm) \n",
       "            !as.logical(attr(stats::terms(a), \"intercept\"))\n",
       "        else p == 1\n",
       "        if (noInt) \\{\n",
       "            a <- 0\n",
       "            b <- coefa{[}1L{]}\n",
       "        \\}\n",
       "        else \\{\n",
       "            a <- coefa{[}1L{]}\n",
       "            b <- if (p >= 2) \n",
       "                coefa{[}2L{]}\n",
       "            else 0\n",
       "        \\}\n",
       "    \\}\n",
       "    if (!is.null(coef)) \\{\n",
       "        if (!is.null(a)) \n",
       "            warning(\"'a' and 'b' are overridden by 'coef'\")\n",
       "        a <- coef{[}1L{]}\n",
       "        b <- coef{[}2L{]}\n",
       "    \\}\n",
       "    int\\_abline(a = a, b = b, h = h, v = v, untf = untf, ...)\n",
       "    invisible()\n",
       "\\}\n",
       "\\end{minted}"
      ],
      "text/markdown": [
       "```r\n",
       "function (a = NULL, b = NULL, h = NULL, v = NULL, reg = NULL, \n",
       "    coef = NULL, untf = FALSE, ...) \n",
       "{\n",
       "    int_abline <- function(a, b, h, v, untf, col = par(\"col\"), \n",
       "        lty = par(\"lty\"), lwd = par(\"lwd\"), ...) .External.graphics(C_abline, \n",
       "        a, b, h, v, untf, col, lty, lwd, ...)\n",
       "    if (!is.null(reg)) {\n",
       "        if (!is.null(a)) \n",
       "            warning(\"'a' is overridden by 'reg'\")\n",
       "        a <- reg\n",
       "    }\n",
       "    if (is.object(a) || is.list(a)) {\n",
       "        p <- length(coefa <- as.vector(coef(a)))\n",
       "        if (p > 2) \n",
       "            warning(gettextf(\"only using the first two of %d regression coefficients\", \n",
       "                p), domain = NA)\n",
       "        islm <- inherits(a, \"lm\")\n",
       "        noInt <- if (islm) \n",
       "            !as.logical(attr(stats::terms(a), \"intercept\"))\n",
       "        else p == 1\n",
       "        if (noInt) {\n",
       "            a <- 0\n",
       "            b <- coefa[1L]\n",
       "        }\n",
       "        else {\n",
       "            a <- coefa[1L]\n",
       "            b <- if (p >= 2) \n",
       "                coefa[2L]\n",
       "            else 0\n",
       "        }\n",
       "    }\n",
       "    if (!is.null(coef)) {\n",
       "        if (!is.null(a)) \n",
       "            warning(\"'a' and 'b' are overridden by 'coef'\")\n",
       "        a <- coef[1L]\n",
       "        b <- coef[2L]\n",
       "    }\n",
       "    int_abline(a = a, b = b, h = h, v = v, untf = untf, ...)\n",
       "    invisible()\n",
       "}\n",
       "```"
      ],
      "text/plain": [
       "function (a = NULL, b = NULL, h = NULL, v = NULL, reg = NULL, \n",
       "    coef = NULL, untf = FALSE, ...) \n",
       "{\n",
       "    int_abline <- function(a, b, h, v, untf, col = par(\"col\"), \n",
       "        lty = par(\"lty\"), lwd = par(\"lwd\"), ...) .External.graphics(C_abline, \n",
       "        a, b, h, v, untf, col, lty, lwd, ...)\n",
       "    if (!is.null(reg)) {\n",
       "        if (!is.null(a)) \n",
       "            warning(\"'a' is overridden by 'reg'\")\n",
       "        a <- reg\n",
       "    }\n",
       "    if (is.object(a) || is.list(a)) {\n",
       "        p <- length(coefa <- as.vector(coef(a)))\n",
       "        if (p > 2) \n",
       "            warning(gettextf(\"only using the first two of %d regression coefficients\", \n",
       "                p), domain = NA)\n",
       "        islm <- inherits(a, \"lm\")\n",
       "        noInt <- if (islm) \n",
       "            !as.logical(attr(stats::terms(a), \"intercept\"))\n",
       "        else p == 1\n",
       "        if (noInt) {\n",
       "            a <- 0\n",
       "            b <- coefa[1L]\n",
       "        }\n",
       "        else {\n",
       "            a <- coefa[1L]\n",
       "            b <- if (p >= 2) \n",
       "                coefa[2L]\n",
       "            else 0\n",
       "        }\n",
       "    }\n",
       "    if (!is.null(coef)) {\n",
       "        if (!is.null(a)) \n",
       "            warning(\"'a' and 'b' are overridden by 'coef'\")\n",
       "        a <- coef[1L]\n",
       "        b <- coef[2L]\n",
       "    }\n",
       "    int_abline(a = a, b = b, h = h, v = v, untf = untf, ...)\n",
       "    invisible()\n",
       "}\n",
       "<bytecode: 0x32b1e78>\n",
       "<environment: namespace:graphics>"
      ]
     },
     "metadata": {},
     "output_type": "display_data"
    }
   ],
   "source": [
    "abline"
   ]
  },
  {
   "cell_type": "code",
   "execution_count": 41,
   "metadata": {
    "ExecuteTime": {
     "end_time": "2018-06-12T01:39:51.198891Z",
     "start_time": "2018-06-12T01:39:51.176Z"
    }
   },
   "outputs": [],
   "source": [
    "# 函数过长的时候可以使用page函数\n",
    "page(abline)"
   ]
  },
  {
   "cell_type": "markdown",
   "metadata": {},
   "source": [
    "不过要注意，R的大部分内建函数是用C写的，所以他们的定义一般是不可见的。"
   ]
  },
  {
   "cell_type": "code",
   "execution_count": 43,
   "metadata": {
    "ExecuteTime": {
     "end_time": "2018-06-12T01:41:44.770302Z",
     "start_time": "2018-06-12T01:41:44.745Z"
    }
   },
   "outputs": [
    {
     "name": "stdout",
     "output_type": "stream",
     "text": [
      "function (..., na.rm = FALSE)  .Primitive(\"sum\")\n"
     ]
    }
   ],
   "source": [
    "print(sum)"
   ]
  },
  {
   "cell_type": "markdown",
   "metadata": {},
   "source": [
    "因为函数是对象，我们可以对他进行赋值，也作为把它作为函数的一个参数。"
   ]
  },
  {
   "cell_type": "code",
   "execution_count": 44,
   "metadata": {
    "ExecuteTime": {
     "end_time": "2018-06-12T01:43:29.505453Z",
     "start_time": "2018-06-12T01:43:29.478Z"
    }
   },
   "outputs": [],
   "source": [
    "f1 <- function(a, b) return(a+b)\n",
    "f2 <- function(a, b) return(a-b)"
   ]
  },
  {
   "cell_type": "code",
   "execution_count": 45,
   "metadata": {
    "ExecuteTime": {
     "end_time": "2018-06-12T01:43:35.731793Z",
     "start_time": "2018-06-12T01:43:35.705Z"
    }
   },
   "outputs": [
    {
     "data": {
      "text/html": [
       "5"
      ],
      "text/latex": [
       "5"
      ],
      "text/markdown": [
       "5"
      ],
      "text/plain": [
       "[1] 5"
      ]
     },
     "metadata": {},
     "output_type": "display_data"
    }
   ],
   "source": [
    "f <- f1\n",
    "f(3, 2)"
   ]
  },
  {
   "cell_type": "code",
   "execution_count": 46,
   "metadata": {
    "ExecuteTime": {
     "end_time": "2018-06-12T01:43:41.764166Z",
     "start_time": "2018-06-12T01:43:41.732Z"
    }
   },
   "outputs": [
    {
     "data": {
      "text/html": [
       "1"
      ],
      "text/latex": [
       "1"
      ],
      "text/markdown": [
       "1"
      ],
      "text/plain": [
       "[1] 1"
      ]
     },
     "metadata": {},
     "output_type": "display_data"
    }
   ],
   "source": [
    "f <- f2\n",
    "f(3,2)"
   ]
  },
  {
   "cell_type": "code",
   "execution_count": 47,
   "metadata": {
    "ExecuteTime": {
     "end_time": "2018-06-12T01:44:00.909357Z",
     "start_time": "2018-06-12T01:44:00.886Z"
    }
   },
   "outputs": [],
   "source": [
    "g <- function(h, a, b) h(a, b)"
   ]
  },
  {
   "cell_type": "code",
   "execution_count": 49,
   "metadata": {
    "ExecuteTime": {
     "end_time": "2018-06-12T01:44:16.336647Z",
     "start_time": "2018-06-12T01:44:16.304Z"
    }
   },
   "outputs": [
    {
     "data": {
      "text/html": [
       "5"
      ],
      "text/latex": [
       "5"
      ],
      "text/markdown": [
       "5"
      ],
      "text/plain": [
       "[1] 5"
      ]
     },
     "metadata": {},
     "output_type": "display_data"
    }
   ],
   "source": [
    "g(f1, 3, 2)"
   ]
  },
  {
   "cell_type": "code",
   "execution_count": 50,
   "metadata": {
    "ExecuteTime": {
     "end_time": "2018-06-12T01:44:26.045415Z",
     "start_time": "2018-06-12T01:44:26.013Z"
    }
   },
   "outputs": [
    {
     "data": {
      "text/html": [
       "1"
      ],
      "text/latex": [
       "1"
      ],
      "text/markdown": [
       "1"
      ],
      "text/plain": [
       "[1] 1"
      ]
     },
     "metadata": {},
     "output_type": "display_data"
    }
   ],
   "source": [
    "g(f2, 3, 2)"
   ]
  },
  {
   "cell_type": "markdown",
   "metadata": {},
   "source": [
    "这里其实是涉及到高阶函数了，而高阶函数在函数式编程中的应用是极为广泛的，比如HASKELL中就有大量的高阶函数。\n",
    "\n",
    "下面是一个插曲(可跳过)，是用R实现HASKELL中的`foldr`函数，然后定义一个`insert`函数，最后将其组合成一个排序算法——插入排序。"
   ]
  },
  {
   "cell_type": "code",
   "execution_count": 59,
   "metadata": {
    "ExecuteTime": {
     "end_time": "2018-06-12T01:50:00.061523Z",
     "start_time": "2018-06-12T01:50:00.021Z"
    }
   },
   "outputs": [
    {
     "data": {
      "text/html": [
       "<ol class=list-inline>\n",
       "\t<li>2</li>\n",
       "\t<li>4</li>\n",
       "\t<li>5</li>\n",
       "</ol>\n"
      ],
      "text/latex": [
       "\\begin{enumerate*}\n",
       "\\item 2\n",
       "\\item 4\n",
       "\\item 5\n",
       "\\end{enumerate*}\n"
      ],
      "text/markdown": [
       "1. 2\n",
       "2. 4\n",
       "3. 5\n",
       "\n",
       "\n"
      ],
      "text/plain": [
       "[1] 2 4 5"
      ]
     },
     "metadata": {},
     "output_type": "display_data"
    }
   ],
   "source": [
    "insert <- function(x, xs){\n",
    "    if (length(xs) == 0){return(c(x))}\n",
    "    if(x < xs[1]){return(c(x, xs))}\n",
    "    else{return(c(xs[1], insert(x, xs[-1])))}\n",
    "}\n",
    "\n",
    "insert(5, c(2,4))"
   ]
  },
  {
   "cell_type": "code",
   "execution_count": 82,
   "metadata": {
    "ExecuteTime": {
     "end_time": "2018-06-12T02:04:23.206006Z",
     "start_time": "2018-06-12T02:04:23.167Z"
    }
   },
   "outputs": [
    {
     "data": {
      "text/html": [
       "6"
      ],
      "text/latex": [
       "6"
      ],
      "text/markdown": [
       "6"
      ],
      "text/plain": [
       "[1] 6"
      ]
     },
     "metadata": {},
     "output_type": "display_data"
    }
   ],
   "source": [
    "foldr <- function(f, v, xs){\n",
    "    if(length(xs) == 0){return(v)}\n",
    "    return(f(xs[1], foldr(f, v, xs[-1])))\n",
    "}\n",
    "\n",
    "add <- function(a, b){a+b}\n",
    "foldr(add, 0, c(1, 2, 3))"
   ]
  },
  {
   "cell_type": "code",
   "execution_count": 85,
   "metadata": {
    "ExecuteTime": {
     "end_time": "2018-06-12T02:04:41.751810Z",
     "start_time": "2018-06-12T02:04:41.724Z"
    }
   },
   "outputs": [
    {
     "data": {
      "text/html": [
       "<ol class=list-inline>\n",
       "\t<li>1</li>\n",
       "\t<li>2</li>\n",
       "\t<li>3</li>\n",
       "\t<li>4</li>\n",
       "\t<li>7</li>\n",
       "\t<li>9</li>\n",
       "\t<li>10</li>\n",
       "</ol>\n"
      ],
      "text/latex": [
       "\\begin{enumerate*}\n",
       "\\item 1\n",
       "\\item 2\n",
       "\\item 3\n",
       "\\item 4\n",
       "\\item 7\n",
       "\\item 9\n",
       "\\item 10\n",
       "\\end{enumerate*}\n"
      ],
      "text/markdown": [
       "1. 1\n",
       "2. 2\n",
       "3. 3\n",
       "4. 4\n",
       "5. 7\n",
       "6. 9\n",
       "7. 10\n",
       "\n",
       "\n"
      ],
      "text/plain": [
       "[1]  1  2  3  4  7  9 10"
      ]
     },
     "metadata": {},
     "output_type": "display_data"
    }
   ],
   "source": [
    "foldr(insert, c(), c(3, 2, 1, 4, 10, 7, 9))"
   ]
  },
  {
   "cell_type": "markdown",
   "metadata": {},
   "source": [
    "可以看到，当函数作为“一等公民”的时候，我们可以用十分简洁清晰的思路去实现一些算法。\n",
    "（插入部分结束）"
   ]
  },
  {
   "cell_type": "markdown",
   "metadata": {},
   "source": [
    "因为函数也是一个对象，我们可以“循环函数”来用，看下面的例子。"
   ]
  },
  {
   "cell_type": "code",
   "execution_count": 88,
   "metadata": {
    "ExecuteTime": {
     "end_time": "2018-06-12T02:53:25.107558Z",
     "start_time": "2018-06-12T02:53:25.015Z"
    }
   },
   "outputs": [
    {
     "data": {
      "image/png": "[encoded data removed]",
      "text/plain": [
       "plot without title"
      ]
     },
     "metadata": {},
     "output_type": "display_data"
    }
   ],
   "source": [
    "g1 <- function(x) return(sin(x))\n",
    "g2 <- function(x) return(sqrt(x^2+1))\n",
    "g3 <- function(x) return(2*x-1)\n",
    "# 准备做图，指定X，Y轴的范围\n",
    "options(repr.plot.width=4, repr.plot.height=3)\n",
    "plot(c(0,1), c(-1, 1.5), )\n",
    "for(f in c(g1, g2, g3)) plot(f, 0, 1, add=T)"
   ]
  },
  {
   "cell_type": "markdown",
   "metadata": {},
   "source": [
    "`formals`和`body()`还可以用于改变函数定义的内容。"
   ]
  },
  {
   "cell_type": "code",
   "execution_count": 98,
   "metadata": {
    "ExecuteTime": {
     "end_time": "2018-06-12T02:57:49.370300Z",
     "start_time": "2018-06-12T02:57:49.335Z"
    }
   },
   "outputs": [
    {
     "data": {
      "text/html": [
       "<pre class=language-r><code>function (x) \n",
       "x + 1</code></pre>"
      ],
      "text/latex": [
       "\\begin{minted}{r}\n",
       "function (x) \n",
       "x + 1\n",
       "\\end{minted}"
      ],
      "text/markdown": [
       "```r\n",
       "function (x) \n",
       "x + 1\n",
       "```"
      ],
      "text/plain": [
       "function(x) x+1"
      ]
     },
     "metadata": {},
     "output_type": "display_data"
    }
   ],
   "source": [
    "g <- function(x) x+1\n",
    "g"
   ]
  },
  {
   "cell_type": "code",
   "execution_count": 99,
   "metadata": {
    "ExecuteTime": {
     "end_time": "2018-06-12T02:57:50.763849Z",
     "start_time": "2018-06-12T02:57:50.739Z"
    }
   },
   "outputs": [
    {
     "data": {
      "text/html": [
       "<pre class=language-r><code>function (x) \n",
       "2 * x + 3</code></pre>"
      ],
      "text/latex": [
       "\\begin{minted}{r}\n",
       "function (x) \n",
       "2 * x + 3\n",
       "\\end{minted}"
      ],
      "text/markdown": [
       "```r\n",
       "function (x) \n",
       "2 * x + 3\n",
       "```"
      ],
      "text/plain": [
       "function (x) \n",
       "2 * x + 3"
      ]
     },
     "metadata": {},
     "output_type": "display_data"
    }
   ],
   "source": [
    "body(g) <- quote(2*x+3)\n",
    "g"
   ]
  },
  {
   "cell_type": "code",
   "execution_count": 100,
   "metadata": {
    "ExecuteTime": {
     "end_time": "2018-06-12T02:57:51.484489Z",
     "start_time": "2018-06-12T02:57:51.459Z"
    }
   },
   "outputs": [
    {
     "data": {
      "text/html": [
       "9"
      ],
      "text/latex": [
       "9"
      ],
      "text/markdown": [
       "9"
      ],
      "text/plain": [
       "[1] 9"
      ]
     },
     "metadata": {},
     "output_type": "display_data"
    }
   ],
   "source": [
    "g(3)"
   ]
  },
  {
   "cell_type": "markdown",
   "metadata": {},
   "source": [
    "注意上面的`quote`是必要的，它使得后面的`2*x+3`是`call`，\n",
    "从而可以被调用。如果不用`quote`，后面的`2*x+3`会直接被估计。"
   ]
  },
  {
   "cell_type": "markdown",
   "metadata": {},
   "source": [
    "### 7.6 环境与范围问题(Environment and Scope Issues)\n",
    "\n",
    "在R的文档中，函数一般正式地被称为闭包(`closure`), 它不仅包括函数的参数列表和函数体，而且包括\n",
    "它的环境（`environment`）."
   ]
  },
  {
   "cell_type": "markdown",
   "metadata": {},
   "source": [
    "#### 7.6.1 顶层环境(The Top-Level Environment)"
   ]
  },
  {
   "cell_type": "code",
   "execution_count": 101,
   "metadata": {
    "ExecuteTime": {
     "end_time": "2018-06-12T03:24:36.695993Z",
     "start_time": "2018-06-12T03:24:36.675Z"
    }
   },
   "outputs": [],
   "source": [
    "w <- 12\n",
    "f <- function(y){\n",
    "    d <- 8\n",
    "    h <- function(){\n",
    "        return(d*(w+y))\n",
    "    }\n",
    "    return(h())\n",
    "}"
   ]
  },
  {
   "cell_type": "code",
   "execution_count": 102,
   "metadata": {
    "ExecuteTime": {
     "end_time": "2018-06-12T03:24:45.970329Z",
     "start_time": "2018-06-12T03:24:45.939Z"
    }
   },
   "outputs": [
    {
     "data": {
      "text/plain": [
       "<environment: R_GlobalEnv>"
      ]
     },
     "metadata": {},
     "output_type": "display_data"
    }
   ],
   "source": [
    "environment(f)"
   ]
  },
  {
   "cell_type": "markdown",
   "metadata": {},
   "source": [
    "因为函数`f`是直接在命令行提示符(这里在notebook的cell就相当于解释器的命令提示符)\n",
    "上直接定义的，也就是定义在了顶层(`top level`),所以它的范围是全局的(`GlobalEnv`)。\n",
    "\n",
    "函数`ls()`返回当前环境所有的对象，这里如果直接调用就是在`top level`调用，返回的自然就是\n",
    "全局环境中的对象列表。"
   ]
  },
  {
   "cell_type": "code",
   "execution_count": 103,
   "metadata": {
    "ExecuteTime": {
     "end_time": "2018-06-12T03:29:50.692453Z",
     "start_time": "2018-06-12T03:29:50.658Z"
    }
   },
   "outputs": [
    {
     "data": {
      "text/html": [
       "<ol class=list-inline>\n",
       "\t<li>'abalone'</li>\n",
       "\t<li>'add'</li>\n",
       "\t<li>'ct'</li>\n",
       "\t<li>'ctM'</li>\n",
       "\t<li>'cttab'</li>\n",
       "\t<li>'dcargs'</li>\n",
       "\t<li>'f'</li>\n",
       "\t<li>'f1'</li>\n",
       "\t<li>'f2'</li>\n",
       "\t<li>'foldr'</li>\n",
       "\t<li>'g'</li>\n",
       "\t<li>'g1'</li>\n",
       "\t<li>'g2'</li>\n",
       "\t<li>'g3'</li>\n",
       "\t<li>'i'</li>\n",
       "\t<li>'insert'</li>\n",
       "\t<li>'ndims'</li>\n",
       "\t<li>'oddcount'</li>\n",
       "\t<li>'subarray'</li>\n",
       "\t<li>'subnames'</li>\n",
       "\t<li>'tblarray'</li>\n",
       "\t<li>'w'</li>\n",
       "\t<li>'x'</li>\n",
       "\t<li>'y'</li>\n",
       "</ol>\n"
      ],
      "text/latex": [
       "\\begin{enumerate*}\n",
       "\\item 'abalone'\n",
       "\\item 'add'\n",
       "\\item 'ct'\n",
       "\\item 'ctM'\n",
       "\\item 'cttab'\n",
       "\\item 'dcargs'\n",
       "\\item 'f'\n",
       "\\item 'f1'\n",
       "\\item 'f2'\n",
       "\\item 'foldr'\n",
       "\\item 'g'\n",
       "\\item 'g1'\n",
       "\\item 'g2'\n",
       "\\item 'g3'\n",
       "\\item 'i'\n",
       "\\item 'insert'\n",
       "\\item 'ndims'\n",
       "\\item 'oddcount'\n",
       "\\item 'subarray'\n",
       "\\item 'subnames'\n",
       "\\item 'tblarray'\n",
       "\\item 'w'\n",
       "\\item 'x'\n",
       "\\item 'y'\n",
       "\\end{enumerate*}\n"
      ],
      "text/markdown": [
       "1. 'abalone'\n",
       "2. 'add'\n",
       "3. 'ct'\n",
       "4. 'ctM'\n",
       "5. 'cttab'\n",
       "6. 'dcargs'\n",
       "7. 'f'\n",
       "8. 'f1'\n",
       "9. 'f2'\n",
       "10. 'foldr'\n",
       "11. 'g'\n",
       "12. 'g1'\n",
       "13. 'g2'\n",
       "14. 'g3'\n",
       "15. 'i'\n",
       "16. 'insert'\n",
       "17. 'ndims'\n",
       "18. 'oddcount'\n",
       "19. 'subarray'\n",
       "20. 'subnames'\n",
       "21. 'tblarray'\n",
       "22. 'w'\n",
       "23. 'x'\n",
       "24. 'y'\n",
       "\n",
       "\n"
      ],
      "text/plain": [
       " [1] \"abalone\"  \"add\"      \"ct\"       \"ctM\"      \"cttab\"    \"dcargs\"  \n",
       " [7] \"f\"        \"f1\"       \"f2\"       \"foldr\"    \"g\"        \"g1\"      \n",
       "[13] \"g2\"       \"g3\"       \"i\"        \"insert\"   \"ndims\"    \"oddcount\"\n",
       "[19] \"subarray\" \"subnames\" \"tblarray\" \"w\"        \"x\"        \"y\"       "
      ]
     },
     "metadata": {},
     "output_type": "display_data"
    }
   ],
   "source": [
    "# 所有的全局变量\n",
    "ls()"
   ]
  },
  {
   "cell_type": "code",
   "execution_count": 104,
   "metadata": {
    "ExecuteTime": {
     "end_time": "2018-06-12T03:30:49.989922Z",
     "start_time": "2018-06-12T03:30:49.935Z"
    },
    "scrolled": true
   },
   "outputs": [
    {
     "data": {
      "text/plain": [
       "abalone : 'data.frame':\t4177 obs. of  9 variables:\n",
       " $ sex           : Factor w/ 3 levels \"F\",\"I\",\"M\": 3 3 1 3 2 2 1 1 3 1 ...\n",
       " $ length        : num  0.455 0.35 0.53 0.44 0.33 0.425 0.53 0.545 0.475 0.55 ...\n",
       " $ diameter      : num  0.365 0.265 0.42 0.365 0.255 0.3 0.415 0.425 0.37 0.44 ...\n",
       " $ height        : num  0.095 0.09 0.135 0.125 0.08 0.095 0.15 0.125 0.125 0.15 ...\n",
       " $ weight.whole  : num  0.514 0.226 0.677 0.516 0.205 ...\n",
       " $ weight.shucked: num  0.2245 0.0995 0.2565 0.2155 0.0895 ...\n",
       " $ weight.viscera: num  0.101 0.0485 0.1415 0.114 0.0395 ...\n",
       " $ weight.shell  : num  0.15 0.07 0.21 0.155 0.055 0.12 0.33 0.26 0.165 0.32 ...\n",
       " $ rings         : int  15 7 9 10 7 8 20 16 9 19 ...\n",
       "add : function (a, b)  \n",
       "ct : 'data.frame':\t5 obs. of  2 variables:\n",
       " $ Vote.for.X           : Factor w/ 3 levels \"No\",\"Not Sure\",..: 3 3 1 2 1\n",
       " $ Voted.For.X.Last.Time: Factor w/ 2 levels \"No\",\"Yes\": 2 1 1 2 1\n",
       "ctM :  int [1:3, 1:2] 2 0 1 0 1 1\n",
       "cttab :  'table' int [1:3, 1:2] 2 0 1 0 1 1\n",
       "dcargs : List of 3\n",
       " $ : int [1:3, 1:2] 2 0 1 0 1 1\n",
       " $ : chr [1:2] \"No\" \"Yes\"\n",
       " $ : chr [1:2] \"No\" \"Yes\"\n",
       "f : function (y)  \n",
       "f1 : function (a, b)  \n",
       "f2 : function (a, b)  \n",
       "foldr : function (f, v, xs)  \n",
       "g : function (x)  \n",
       "g1 : function (x)  \n",
       "g2 : function (x)  \n",
       "g3 : function (x)  \n",
       "i :  int 2\n",
       "insert : function (x, xs)  \n",
       "ndims :  int 2\n",
       "oddcount : function (x)  \n",
       "subarray :  int [1:2, 1:2] 2 1 0 1\n",
       "subnames : List of 2\n",
       " $ Vote.for.X           : chr [1:2] \"No\" \"Yes\"\n",
       " $ Voted.for.X.Last.Time: chr [1:2] \"No\" \"Yes\"\n",
       "tblarray :  int [1:3, 1:2] 2 0 1 0 1 1\n",
       "w :  num 12\n",
       "x :  logi [1:3] TRUE FALSE TRUE\n",
       "y :  logi [1:3] TRUE TRUE FALSE"
      ]
     },
     "metadata": {},
     "output_type": "display_data"
    }
   ],
   "source": [
    "# 更加详细的信息\n",
    "ls.str()"
   ]
  },
  {
   "cell_type": "markdown",
   "metadata": {},
   "source": [
    "#### 7.6.2 作用范围的层级结构(The Scope Hierarchy)\n",
    "\n",
    "关于作用域的原理和其他语言，像Python还是比较相似的，都是先在当前的范围查找变量，\n",
    "找不到的话再向上一个层次去寻找，以此类推。\n",
    "\n",
    "书上这节最后的一个例子还是比较有特点的。"
   ]
  },
  {
   "cell_type": "code",
   "execution_count": 106,
   "metadata": {
    "ExecuteTime": {
     "end_time": "2018-06-12T15:42:38.877443Z",
     "start_time": "2018-06-12T15:42:38.855Z"
    }
   },
   "outputs": [],
   "source": [
    "f <- function(y, ftn){\n",
    "    d <- 8\n",
    "    print(environment(ftn))\n",
    "    return(ftn(d, y))\n",
    "}"
   ]
  },
  {
   "cell_type": "code",
   "execution_count": 107,
   "metadata": {
    "ExecuteTime": {
     "end_time": "2018-06-12T15:43:03.706250Z",
     "start_time": "2018-06-12T15:43:03.678Z"
    }
   },
   "outputs": [],
   "source": [
    "h <- function(dee, yyy){\n",
    "    return(dee*(w+yyy))\n",
    "}"
   ]
  },
  {
   "cell_type": "code",
   "execution_count": 108,
   "metadata": {
    "ExecuteTime": {
     "end_time": "2018-06-12T15:43:10.362012Z",
     "start_time": "2018-06-12T15:43:10.324Z"
    }
   },
   "outputs": [
    {
     "name": "stdout",
     "output_type": "stream",
     "text": [
      "<environment: R_GlobalEnv>\n"
     ]
    },
    {
     "data": {
      "text/html": [
       "120"
      ],
      "text/latex": [
       "120"
      ],
      "text/markdown": [
       "120"
      ],
      "text/plain": [
       "[1] 120"
      ]
     },
     "metadata": {},
     "output_type": "display_data"
    }
   ],
   "source": [
    "w <- 12\n",
    "f(3, h)"
   ]
  },
  {
   "cell_type": "markdown",
   "metadata": {},
   "source": [
    "注意上面在把`h`传入`f`的时候，随之传入的还有它的环境（这里是`GlobalEnv`）"
   ]
  },
  {
   "cell_type": "markdown",
   "metadata": {},
   "source": [
    "#### 7.6.3 关于`ls()`(More on ls())\n",
    "\n",
    "在函数内部直接调用`ls()`的时候会返回当前环境的局部变量和函数的参数。\n",
    "`ls(envir=parent.frame(n=x))`,指定`x`,将返回向上`x`层的局部变量。"
   ]
  },
  {
   "cell_type": "code",
   "execution_count": 109,
   "metadata": {
    "ExecuteTime": {
     "end_time": "2018-06-12T15:51:08.427598Z",
     "start_time": "2018-06-12T15:51:08.398Z"
    }
   },
   "outputs": [],
   "source": [
    "f <- function(y){\n",
    "    d <- 8\n",
    "    return(h(d, y))\n",
    "}\n",
    "\n",
    "h <- function(dee, yyy){\n",
    "    print(ls())\n",
    "    print(ls(envir = parent.frame(n=1)))\n",
    "    return(dee*(w+yyy))\n",
    "}"
   ]
  },
  {
   "cell_type": "code",
   "execution_count": 110,
   "metadata": {
    "ExecuteTime": {
     "end_time": "2018-06-12T15:51:11.464521Z",
     "start_time": "2018-06-12T15:51:11.428Z"
    }
   },
   "outputs": [
    {
     "name": "stdout",
     "output_type": "stream",
     "text": [
      "[1] \"dee\" \"yyy\"\n",
      "[1] \"d\" \"y\"\n"
     ]
    },
    {
     "data": {
      "text/html": [
       "112"
      ],
      "text/latex": [
       "112"
      ],
      "text/markdown": [
       "112"
      ],
      "text/plain": [
       "[1] 112"
      ]
     },
     "metadata": {},
     "output_type": "display_data"
    }
   ],
   "source": [
    "f(2)"
   ]
  },
  {
   "cell_type": "markdown",
   "metadata": {},
   "source": [
    "#### 7.6.4 几乎没有副作用的函数(Functions Have (Almost) No Side Effects)\n",
    "\n",
    "R中另外一个遵循函数式编程思想的就是它的函数是没有副作用(`side effects`)的。\n",
    "粗略的说，就是函数只有读取(`read access`)非局部变量(`nonlocal variables`)\n",
    "的权限，但是没有写入(`write access`)他们的权限。我们可以在函数中重新为变量赋值，\n",
    "但是那影响的只是那些变量的副本，非局部变量本身还是不变的。看下面的代码。"
   ]
  },
  {
   "cell_type": "code",
   "execution_count": 111,
   "metadata": {
    "ExecuteTime": {
     "end_time": "2018-06-12T16:06:17.962972Z",
     "start_time": "2018-06-12T16:06:17.938Z"
    }
   },
   "outputs": [],
   "source": [
    "w <- 12\n",
    "f <- function(y){\n",
    "    d <- 8\n",
    "    w <- w + 1\n",
    "    y <- y - 2\n",
    "    print(w)\n",
    "    h <- function(){\n",
    "        return(d*(w+y))\n",
    "    }\n",
    "    return(h())\n",
    "}"
   ]
  },
  {
   "cell_type": "code",
   "execution_count": 112,
   "metadata": {
    "ExecuteTime": {
     "end_time": "2018-06-12T16:06:48.652686Z",
     "start_time": "2018-06-12T16:06:48.613Z"
    }
   },
   "outputs": [
    {
     "name": "stdout",
     "output_type": "stream",
     "text": [
      "[1] 13\n"
     ]
    },
    {
     "data": {
      "text/html": [
       "120"
      ],
      "text/latex": [
       "120"
      ],
      "text/markdown": [
       "120"
      ],
      "text/plain": [
       "[1] 120"
      ]
     },
     "metadata": {},
     "output_type": "display_data"
    }
   ],
   "source": [
    "t <- 4\n",
    "f(t)"
   ]
  },
  {
   "cell_type": "code",
   "execution_count": 113,
   "metadata": {
    "ExecuteTime": {
     "end_time": "2018-06-12T16:07:08.057931Z",
     "start_time": "2018-06-12T16:07:08.027Z"
    }
   },
   "outputs": [
    {
     "data": {
      "text/html": [
       "12"
      ],
      "text/latex": [
       "12"
      ],
      "text/markdown": [
       "12"
      ],
      "text/plain": [
       "[1] 12"
      ]
     },
     "metadata": {},
     "output_type": "display_data"
    }
   ],
   "source": [
    "w"
   ]
  },
  {
   "cell_type": "code",
   "execution_count": 114,
   "metadata": {
    "ExecuteTime": {
     "end_time": "2018-06-12T16:07:09.535251Z",
     "start_time": "2018-06-12T16:07:09.509Z"
    }
   },
   "outputs": [
    {
     "data": {
      "text/html": [
       "4"
      ],
      "text/latex": [
       "4"
      ],
      "text/markdown": [
       "4"
      ],
      "text/plain": [
       "[1] 4"
      ]
     },
     "metadata": {},
     "output_type": "display_data"
    }
   ],
   "source": [
    "t"
   ]
  },
  {
   "cell_type": "markdown",
   "metadata": {},
   "source": [
    "可以看到，处于`top level`的`t`和`w`都没有变化。虽然他们在`f`内部都被改变了，\n",
    "但是那改变的都只是他们的复制(`copy`)。\n",
    "\n",
    "注意，更精确地说，开始的时候`f`内部中`w`的内存地址是和全局变量一致，直到在函数内\n",
    "部对`w`重新赋值的时候才会为它分配新的内存(看了下，在Python中也是一样的)。\n",
    "\n",
    "另外，关于函数中对非局部变量只读的属性，还存在一个特殊情况，这种情况下我们可以进行\n",
    "修改他们本身，这是之后会提到的`superassignment`."
   ]
  },
  {
   "cell_type": "markdown",
   "metadata": {},
   "source": [
    "#### 7.6.5 拓展: 显示`Call Frame`内容的函数 (Extended Example: A Function to Display the Contents of a Call Frame)\n",
    "\n",
    "有时候我们在单步调试的时候，不仅想了解当前范围的局部变量，也想了解上层\n",
    "函数（调用当前函数的函数）的局部变量情况，这时候我们就可以采用下面的方法。"
   ]
  },
  {
   "cell_type": "code",
   "execution_count": 22,
   "metadata": {
    "ExecuteTime": {
     "end_time": "2018-06-13T15:54:11.382335Z",
     "start_time": "2018-06-13T15:54:11.350Z"
    }
   },
   "outputs": [],
   "source": [
    "# 这里把变量名字改了下(作者写的有点乱Orz...)\n",
    "# 规则：在书变量名的基础上加上了所在函数的名字\n",
    "# 如fa为在函数f中的变量a\n",
    "f <- function(){\n",
    "    fa <- 1\n",
    "    return(g(fa)+fa)\n",
    "}\n",
    "\n",
    "g <- function(gaa){\n",
    "    gb <- 2\n",
    "    gaab <- h(gaa+gb)\n",
    "    return(gaab)\n",
    "}\n",
    "\n",
    "h <- function(haaa){\n",
    "    hc <- 3\n",
    "    return(haaa+hc)\n",
    "}"
   ]
  },
  {
   "cell_type": "code",
   "execution_count": 23,
   "metadata": {
    "ExecuteTime": {
     "end_time": "2018-06-13T15:54:11.785744Z",
     "start_time": "2018-06-13T15:54:11.766Z"
    }
   },
   "outputs": [],
   "source": [
    "# shows the values of the local variables (including arguments) of the\n",
    "# frame upn frames above the one from which showframe() is called; if\n",
    "# upn < 0, the globals are shown; function objects are not shown\n",
    "showframe <- function(upn) {\n",
    "    # determine the proper environment\n",
    "    if (upn < 0) {\n",
    "        env <- .GlobalEnv\n",
    "        } else {\n",
    "        env <- parent.frame(n=upn+1)\n",
    "    }\n",
    "    # get the list of variable names\n",
    "    vars <- ls(envir=env)\n",
    "    # for each variable name, print its value\n",
    "    for (vr in vars) {\n",
    "        vrg <- get(vr,envir=env)\n",
    "        if (!is.function(vrg)) {\n",
    "        cat(vr,\":\\n\",sep=\"\")\n",
    "        print(vrg)\n",
    "        }\n",
    "    }\n",
    "}\n"
   ]
  },
  {
   "cell_type": "code",
   "execution_count": 28,
   "metadata": {
    "ExecuteTime": {
     "end_time": "2018-06-13T15:54:56.724244Z",
     "start_time": "2018-06-13T15:54:56.695Z"
    }
   },
   "outputs": [],
   "source": [
    "g <- function(gaa) {\n",
    "    gb <- 2\n",
    "    showframe(0)\n",
    "    showframe(1)\n",
    "    gaab <- h(gaa+gb)\n",
    "    return(gaab)\n",
    "}"
   ]
  },
  {
   "cell_type": "code",
   "execution_count": 29,
   "metadata": {
    "ExecuteTime": {
     "end_time": "2018-06-13T15:54:57.093504Z",
     "start_time": "2018-06-13T15:54:57.070Z"
    }
   },
   "outputs": [
    {
     "name": "stdout",
     "output_type": "stream",
     "text": [
      "gaa:\n",
      "[1] 1\n",
      "gb:\n",
      "[1] 2\n",
      "fa:\n",
      "[1] 1\n"
     ]
    },
    {
     "data": {
      "text/html": [
       "7"
      ],
      "text/latex": [
       "7"
      ],
      "text/markdown": [
       "7"
      ],
      "text/plain": [
       "[1] 7"
      ]
     },
     "metadata": {},
     "output_type": "display_data"
    }
   ],
   "source": [
    "f()"
   ]
  },
  {
   "cell_type": "markdown",
   "metadata": {},
   "source": [
    "上述结果7的计算过程：f() = g(1)+1 = h(1+2)+1 = h(3)+1 = 6+1 = 7。打印的\n",
    "内容首先是`g`内调用`ls(parent.frame(n=1))`，输出的就是传入`g`函数的参数和它的\n",
    "局部变量；之后是`g`内调用`parent.frame(n=2)`,输出的是`g`的上层函数，即`f`的\n",
    "局部变量（`f`没有参数，故只有局部变量输出）。"
   ]
  },
  {
   "cell_type": "markdown",
   "metadata": {},
   "source": [
    "### 7.7 R中无指针(No Pointers in R)\n",
    "\n",
    "R中没有与C语言中指针（`pointers`）和引用（`reference`）类似的变量，这增加了R程序\n",
    "编写的难度。（在这本书写的时候已经有了测试的[`reference classed`](http://adv-r.had.co.nz/R5.html),\n",
    "这可能会减少一些原来的麻烦）\n",
    "\n",
    "比如，我们不能写一个直接改变参数内容的函数。（而在Python中却是可以的，比如说\n",
    "`x=[13, 5 12]`,运行`x.sort()`,之后`x`就变为`[5, 12, 13]`，在这里，`x`作为`sort`\n",
    "的参数，它的值已经被改变了）。"
   ]
  },
  {
   "cell_type": "code",
   "execution_count": 30,
   "metadata": {
    "ExecuteTime": {
     "end_time": "2018-06-13T16:13:20.307567Z",
     "start_time": "2018-06-13T16:13:20.279Z"
    }
   },
   "outputs": [
    {
     "data": {
      "text/html": [
       "<ol class=list-inline>\n",
       "\t<li>5</li>\n",
       "\t<li>12</li>\n",
       "\t<li>13</li>\n",
       "</ol>\n"
      ],
      "text/latex": [
       "\\begin{enumerate*}\n",
       "\\item 5\n",
       "\\item 12\n",
       "\\item 13\n",
       "\\end{enumerate*}\n"
      ],
      "text/markdown": [
       "1. 5\n",
       "2. 12\n",
       "3. 13\n",
       "\n",
       "\n"
      ],
      "text/plain": [
       "[1]  5 12 13"
      ]
     },
     "metadata": {},
     "output_type": "display_data"
    }
   ],
   "source": [
    "# R中并不能像python那样进行改变\n",
    "x <- c(13, 5, 12)\n",
    "sort(x)"
   ]
  },
  {
   "cell_type": "code",
   "execution_count": 31,
   "metadata": {
    "ExecuteTime": {
     "end_time": "2018-06-13T16:13:22.097769Z",
     "start_time": "2018-06-13T16:13:22.067Z"
    }
   },
   "outputs": [
    {
     "data": {
      "text/html": [
       "<ol class=list-inline>\n",
       "\t<li>13</li>\n",
       "\t<li>5</li>\n",
       "\t<li>12</li>\n",
       "</ol>\n"
      ],
      "text/latex": [
       "\\begin{enumerate*}\n",
       "\\item 13\n",
       "\\item 5\n",
       "\\item 12\n",
       "\\end{enumerate*}\n"
      ],
      "text/markdown": [
       "1. 13\n",
       "2. 5\n",
       "3. 12\n",
       "\n",
       "\n"
      ],
      "text/plain": [
       "[1] 13  5 12"
      ]
     },
     "metadata": {},
     "output_type": "display_data"
    }
   ],
   "source": [
    "x"
   ]
  },
  {
   "cell_type": "markdown",
   "metadata": {},
   "source": [
    "可以看到，上面`x`的数据并没有改变，若要达到“改变”的目的，我们可以通过重新赋值的方法。"
   ]
  },
  {
   "cell_type": "code",
   "execution_count": 32,
   "metadata": {
    "ExecuteTime": {
     "end_time": "2018-06-13T16:14:37.108892Z",
     "start_time": "2018-06-13T16:14:37.079Z"
    }
   },
   "outputs": [
    {
     "data": {
      "text/html": [
       "<ol class=list-inline>\n",
       "\t<li>5</li>\n",
       "\t<li>12</li>\n",
       "\t<li>13</li>\n",
       "</ol>\n"
      ],
      "text/latex": [
       "\\begin{enumerate*}\n",
       "\\item 5\n",
       "\\item 12\n",
       "\\item 13\n",
       "\\end{enumerate*}\n"
      ],
      "text/markdown": [
       "1. 5\n",
       "2. 12\n",
       "3. 13\n",
       "\n",
       "\n"
      ],
      "text/plain": [
       "[1]  5 12 13"
      ]
     },
     "metadata": {},
     "output_type": "display_data"
    }
   ],
   "source": [
    "x <- sort(x)\n",
    "x"
   ]
  },
  {
   "cell_type": "code",
   "execution_count": 38,
   "metadata": {
    "ExecuteTime": {
     "end_time": "2018-06-13T16:23:18.868338Z",
     "start_time": "2018-06-13T16:23:18.829Z"
    }
   },
   "outputs": [
    {
     "data": {
      "text/html": [
       "<dl>\n",
       "\t<dt>$o</dt>\n",
       "\t\t<dd><ol class=list-inline>\n",
       "\t<li>1</li>\n",
       "\t<li>3</li>\n",
       "\t<li>4</li>\n",
       "</ol>\n",
       "</dd>\n",
       "\t<dt>$e</dt>\n",
       "\t\t<dd><ol class=list-inline>\n",
       "\t<li>2</li>\n",
       "\t<li>5</li>\n",
       "</ol>\n",
       "</dd>\n",
       "</dl>\n"
      ],
      "text/latex": [
       "\\begin{description}\n",
       "\\item[\\$o] \\begin{enumerate*}\n",
       "\\item 1\n",
       "\\item 3\n",
       "\\item 4\n",
       "\\end{enumerate*}\n",
       "\n",
       "\\item[\\$e] \\begin{enumerate*}\n",
       "\\item 2\n",
       "\\item 5\n",
       "\\end{enumerate*}\n",
       "\n",
       "\\end{description}\n"
      ],
      "text/markdown": [
       "$o\n",
       ":   1. 1\n",
       "2. 3\n",
       "3. 4\n",
       "\n",
       "\n",
       "\n",
       "$e\n",
       ":   1. 2\n",
       "2. 5\n",
       "\n",
       "\n",
       "\n",
       "\n",
       "\n"
      ],
      "text/plain": [
       "$o\n",
       "[1] 1 3 4\n",
       "\n",
       "$e\n",
       "[1] 2 5\n"
      ]
     },
     "metadata": {},
     "output_type": "display_data"
    }
   ],
   "source": [
    "# 因为没有指针，所以在函数有多个返回值的时候我们可以把他们\n",
    "# 装进一个list，一起返回\n",
    "# 找出奇数和偶数索引的函数\n",
    "oddevens <- function(v){\n",
    "    odds <- which(v %%2 == 1)\n",
    "    evens <- which(v %%2 == 0)  # 这里应为0（书上为1）\n",
    "    list(o=odds, e=evens)\n",
    "}\n",
    "\n",
    "oddevens(c(3, 6, 7, 9, 10))"
   ]
  },
  {
   "cell_type": "markdown",
   "metadata": {},
   "source": [
    "作为R中没有指针的对策，一是使用全局变量（后面7.8.4节还会提到），再就是使用`reference class`\n",
    "\n",
    "因为指针缺失造成的另一类比较麻烦的事情就是对`treelike`数据结构（各种树...）的实现比较麻烦.\n",
    "作者说应对方法是回到C之前的`“good old days`去用`vector`的`indices`去实现...(没太懂这里，\n",
    "用数组实现树？）"
   ]
  },
  {
   "cell_type": "markdown",
   "metadata": {},
   "source": [
    "### 7.8 修改上层变量(Writing Upstaurs)\n",
    "\n",
    "我们已经了解到，在任何层次中，我们都可以读取更高层次的变量，但是仅限于读取，\n",
    "而不能修改。那么，如果我们想要修改呢？一般有两种方法，使用`superassignment operator`即`<<-`,或者使用`assign()`函数。"
   ]
  },
  {
   "cell_type": "markdown",
   "metadata": {},
   "source": [
    "#### 7.8.1 使用`<<-`修改非局部变量(Writing to Nonlocals with the Superassignment Operator)"
   ]
  },
  {
   "cell_type": "code",
   "execution_count": 39,
   "metadata": {
    "ExecuteTime": {
     "end_time": "2018-06-14T00:40:11.835468Z",
     "start_time": "2018-06-14T00:40:11.811Z"
    }
   },
   "outputs": [],
   "source": [
    "two <- function(u){\n",
    "    u <<- z*u\n",
    "    z <- z*z\n",
    "}\n",
    "x <- 1\n",
    "z <- 3"
   ]
  },
  {
   "cell_type": "code",
   "execution_count": 40,
   "metadata": {
    "ExecuteTime": {
     "end_time": "2018-06-14T00:40:14.064601Z",
     "start_time": "2018-06-14T00:40:14.038Z"
    }
   },
   "outputs": [
    {
     "ename": "ERROR",
     "evalue": "Error in eval(expr, envir, enclos): object 'u' not found\n",
     "output_type": "error",
     "traceback": [
      "Error in eval(expr, envir, enclos): object 'u' not found\nTraceback:\n"
     ]
    }
   ],
   "source": [
    "u"
   ]
  },
  {
   "cell_type": "code",
   "execution_count": 42,
   "metadata": {
    "ExecuteTime": {
     "end_time": "2018-06-14T00:40:23.293489Z",
     "start_time": "2018-06-14T00:40:23.252Z"
    }
   },
   "outputs": [
    {
     "data": {
      "text/html": [
       "1"
      ],
      "text/latex": [
       "1"
      ],
      "text/markdown": [
       "1"
      ],
      "text/plain": [
       "[1] 1"
      ]
     },
     "metadata": {},
     "output_type": "display_data"
    }
   ],
   "source": [
    "two(x)\n",
    "x"
   ]
  },
  {
   "cell_type": "code",
   "execution_count": 43,
   "metadata": {
    "ExecuteTime": {
     "end_time": "2018-06-14T00:40:43.619700Z",
     "start_time": "2018-06-14T00:40:43.594Z"
    }
   },
   "outputs": [
    {
     "data": {
      "text/html": [
       "3"
      ],
      "text/latex": [
       "3"
      ],
      "text/markdown": [
       "3"
      ],
      "text/plain": [
       "[1] 3"
      ]
     },
     "metadata": {},
     "output_type": "display_data"
    }
   ],
   "source": [
    "z"
   ]
  },
  {
   "cell_type": "markdown",
   "metadata": {},
   "source": [
    "上面`x`和`z`都是全局变量，函数内部修改的也只是他们的复制，并不是他们本身，所以\n",
    "他们的值保持不变。"
   ]
  },
  {
   "cell_type": "code",
   "execution_count": 44,
   "metadata": {
    "ExecuteTime": {
     "end_time": "2018-06-14T00:40:57.651440Z",
     "start_time": "2018-06-14T00:40:57.618Z"
    }
   },
   "outputs": [
    {
     "data": {
      "text/html": [
       "3"
      ],
      "text/latex": [
       "3"
      ],
      "text/markdown": [
       "3"
      ],
      "text/plain": [
       "[1] 3"
      ]
     },
     "metadata": {},
     "output_type": "display_data"
    }
   ],
   "source": [
    "u"
   ]
  },
  {
   "cell_type": "markdown",
   "metadata": {},
   "source": [
    "`u`在之前是不存在的变量，所以报错了。但是当我们在函数内部使用`<<-`为其进行赋值\n",
    "之后，就可以在全局变量中找到它了。\n",
    "\n",
    "一般来说，`<<-`是用来修改`top level`的变量，而不是和上面的例子一样用来赋值。\n",
    "在修改的时候，向上搜索的路径和读取的时候是一致的，先在上一层搜索，找到就修改，\n",
    "找不到就再向上，一直找下去，直到`top level`。"
   ]
  },
  {
   "cell_type": "code",
   "execution_count": 69,
   "metadata": {
    "ExecuteTime": {
     "end_time": "2018-06-14T04:47:04.665372Z",
     "start_time": "2018-06-14T04:47:04.629Z"
    }
   },
   "outputs": [
    {
     "data": {
      "text/html": [
       "4"
      ],
      "text/latex": [
       "4"
      ],
      "text/markdown": [
       "4"
      ],
      "text/plain": [
       "[1] 4"
      ]
     },
     "metadata": {},
     "output_type": "display_data"
    }
   ],
   "source": [
    "remove(x)  # 如果之前有x，先把它删除\n",
    "\n",
    "f <- function(){\n",
    "    inc <- function(){x <<- x+1}\n",
    "    x <- 3\n",
    "    inc()\n",
    "    return(x)\n",
    "}\n",
    "\n",
    "f()"
   ]
  },
  {
   "cell_type": "code",
   "execution_count": 70,
   "metadata": {
    "ExecuteTime": {
     "end_time": "2018-06-14T04:47:06.232814Z",
     "start_time": "2018-06-14T04:47:06.210Z"
    }
   },
   "outputs": [
    {
     "ename": "ERROR",
     "evalue": "Error in eval(expr, envir, enclos): object 'x' not found\n",
     "output_type": "error",
     "traceback": [
      "Error in eval(expr, envir, enclos): object 'x' not found\nTraceback:\n"
     ]
    }
   ],
   "source": [
    "x"
   ]
  },
  {
   "cell_type": "markdown",
   "metadata": {},
   "source": [
    "上面的逻辑很简单，我们在`f`内部调用`inc`,`inc`用到`<<-`，所以去上层寻找`x`，\n",
    "然后就在`f`的局部变量找到了，之后再将它修改（这里为+1），最后`f`返回的是修改后的\n",
    "`x`，即为4."
   ]
  },
  {
   "cell_type": "code",
   "execution_count": 71,
   "metadata": {
    "ExecuteTime": {
     "end_time": "2018-06-14T04:47:11.829173Z",
     "start_time": "2018-06-14T04:47:11.808Z"
    }
   },
   "outputs": [
    {
     "name": "stdout",
     "output_type": "stream",
     "text": [
      "x in f is 1 \n",
      "x in in1() is 12 \n",
      "x in f(after in1()) is 1 \n"
     ]
    }
   ],
   "source": [
    "# 补例1\n",
    "f <- function(){\n",
    "    in1 <- function(){\n",
    "        x <- 2\n",
    "        in2 <- function(){x <<- x+10}\n",
    "        in2()\n",
    "        cat(\"x in in1() is\", x, \"\\n\")\n",
    "    }\n",
    "    x <- 1\n",
    "    cat(\"x in f is\", x, \"\\n\")\n",
    "    in1()\n",
    "    cat(\"x in f(after in1()) is\", x, \"\\n\")\n",
    "}\n",
    "\n",
    "f()"
   ]
  },
  {
   "cell_type": "code",
   "execution_count": 72,
   "metadata": {
    "ExecuteTime": {
     "end_time": "2018-06-14T04:47:18.922837Z",
     "start_time": "2018-06-14T04:47:18.881Z"
    }
   },
   "outputs": [
    {
     "ename": "ERROR",
     "evalue": "Error in eval(expr, envir, enclos): object 'x' not found\n",
     "output_type": "error",
     "traceback": [
      "Error in eval(expr, envir, enclos): object 'x' not found\nTraceback:\n"
     ]
    }
   ],
   "source": [
    "x"
   ]
  },
  {
   "cell_type": "markdown",
   "metadata": {},
   "source": [
    "这里函数又多加了一层,在`in2()`中使用`<<-`,它向上去搜索,在`in1`找到了`x`, 所以修改`in1()`中`x`为10+2=12.而此时`f`内的`x`自始至终都没有被改变,所以一直是1.\n",
    "\n",
    "`x`在全局变量中依然是不存在的。"
   ]
  },
  {
   "cell_type": "code",
   "execution_count": 73,
   "metadata": {
    "ExecuteTime": {
     "end_time": "2018-06-14T04:47:26.119145Z",
     "start_time": "2018-06-14T04:47:26.089Z"
    }
   },
   "outputs": [
    {
     "name": "stdout",
     "output_type": "stream",
     "text": [
      "x in f is 1 \n",
      "x in in1() is 11 \n",
      "x in f(after in1()) is 11 \n"
     ]
    }
   ],
   "source": [
    "# 补例2\n",
    "f <- function(){\n",
    "    in1 <- function(){\n",
    "        in2 <- function(){x <<- x+10}\n",
    "        in2()\n",
    "        cat(\"x in in1() is\", x, \"\\n\")\n",
    "    }\n",
    "    x <- 1\n",
    "    cat(\"x in f is\", x, \"\\n\")\n",
    "    in1()\n",
    "    cat(\"x in f(after in1()) is\", x, \"\\n\")\n",
    "}\n",
    "\n",
    "f()"
   ]
  },
  {
   "cell_type": "code",
   "execution_count": 74,
   "metadata": {
    "ExecuteTime": {
     "end_time": "2018-06-14T04:47:37.680943Z",
     "start_time": "2018-06-14T04:47:37.656Z"
    }
   },
   "outputs": [
    {
     "ename": "ERROR",
     "evalue": "Error in eval(expr, envir, enclos): object 'x' not found\n",
     "output_type": "error",
     "traceback": [
      "Error in eval(expr, envir, enclos): object 'x' not found\nTraceback:\n"
     ]
    }
   ],
   "source": [
    "x"
   ]
  },
  {
   "cell_type": "markdown",
   "metadata": {},
   "source": [
    "首先`in2()`使用了`<<-`,它去它的上层(`in1()`函数)去寻找`x`,结果没有找到,所以继续向上,到达了`f()`函数内部.此时找到了`x`,所以将其修改为1+10 = 11.所以此时`f`中的`x`由原来的1,已经变为11,所以之后在`in1()`中`cat(\"x in in1() is\", x, \"\\n\")`处,因为在当前范围找不到`x`,所以向上查找,到达`f()`函数,找到了`x`,此时已经为11,所以输出了`x in in1() is 11`.最后的输出`x in f(after in1()) is 11`的原因就是`f()`中`x`的值早已被改变.\n",
    "\n",
    "`x`在全局变量中还是不存在的。"
   ]
  },
  {
   "cell_type": "code",
   "execution_count": 75,
   "metadata": {
    "ExecuteTime": {
     "end_time": "2018-06-14T04:47:44.317508Z",
     "start_time": "2018-06-14T04:47:44.281Z"
    }
   },
   "outputs": [
    {
     "name": "stdout",
     "output_type": "stream",
     "text": [
      "x in f is 1 \n",
      "x in in1() is 11 \n",
      "x in f(after in1()) is 11 \n"
     ]
    }
   ],
   "source": [
    "# 补例3\n",
    "x <- 1\n",
    "f <- function(){\n",
    "    in1 <- function(){\n",
    "        in2 <- function(){x <<- x+10}\n",
    "        in2()\n",
    "        cat(\"x in in1() is\", x, \"\\n\")\n",
    "    }\n",
    "    cat(\"x in f is\", x, \"\\n\")\n",
    "    in1()\n",
    "    cat(\"x in f(after in1()) is\", x, \"\\n\")\n",
    "}\n",
    "\n",
    "f()"
   ]
  },
  {
   "cell_type": "code",
   "execution_count": 76,
   "metadata": {
    "ExecuteTime": {
     "end_time": "2018-06-14T04:47:46.756439Z",
     "start_time": "2018-06-14T04:47:46.723Z"
    }
   },
   "outputs": [
    {
     "data": {
      "text/html": [
       "11"
      ],
      "text/latex": [
       "11"
      ],
      "text/markdown": [
       "11"
      ],
      "text/plain": [
       "[1] 11"
      ]
     },
     "metadata": {},
     "output_type": "display_data"
    }
   ],
   "source": [
    "x"
   ]
  },
  {
   "cell_type": "markdown",
   "metadata": {},
   "source": [
    "这里的逻辑和上面是类似的，只不过这里`<<-`一直找到`top level`才发现了`x`，所以改变的是\n",
    "最外面的全局变量中的`x`.\n",
    "\n",
    "还有很多其他的例子可以去尝试，我们可以自己去探索其具体的作用方式。"
   ]
  },
  {
   "cell_type": "markdown",
   "metadata": {},
   "source": [
    "#### 7.8.2 使用`assign()`函数改变非局部变量(Writing to Nonlocals with assign())"
   ]
  },
  {
   "cell_type": "code",
   "execution_count": 84,
   "metadata": {
    "ExecuteTime": {
     "end_time": "2018-06-14T04:58:07.293047Z",
     "start_time": "2018-06-14T04:58:07.269Z"
    }
   },
   "outputs": [],
   "source": [
    "x <- 1\n",
    "two <- function(u){\n",
    "    assign(\"u\", 2*u, pos=.GlobalEnv)\n",
    "}"
   ]
  },
  {
   "cell_type": "code",
   "execution_count": 85,
   "metadata": {
    "ExecuteTime": {
     "end_time": "2018-06-14T04:58:12.296760Z",
     "start_time": "2018-06-14T04:58:12.272Z"
    }
   },
   "outputs": [],
   "source": [
    "two(x)"
   ]
  },
  {
   "cell_type": "code",
   "execution_count": 86,
   "metadata": {
    "ExecuteTime": {
     "end_time": "2018-06-14T04:58:14.837243Z",
     "start_time": "2018-06-14T04:58:14.799Z"
    }
   },
   "outputs": [
    {
     "data": {
      "text/html": [
       "1"
      ],
      "text/latex": [
       "1"
      ],
      "text/markdown": [
       "1"
      ],
      "text/plain": [
       "[1] 1"
      ]
     },
     "metadata": {},
     "output_type": "display_data"
    }
   ],
   "source": [
    "x"
   ]
  },
  {
   "cell_type": "code",
   "execution_count": 87,
   "metadata": {
    "ExecuteTime": {
     "end_time": "2018-06-14T04:58:16.970899Z",
     "start_time": "2018-06-14T04:58:16.945Z"
    }
   },
   "outputs": [
    {
     "data": {
      "text/html": [
       "2"
      ],
      "text/latex": [
       "2"
      ],
      "text/markdown": [
       "2"
      ],
      "text/plain": [
       "[1] 2"
      ]
     },
     "metadata": {},
     "output_type": "display_data"
    }
   ],
   "source": [
    "u"
   ]
  },
  {
   "cell_type": "markdown",
   "metadata": {},
   "source": [
    "全局变量中的`x`一直不变；`u`在`two()`函数中被创建并赋值，同时`assign()`指定`u`\n",
    "是一个全局变量。"
   ]
  },
  {
   "cell_type": "markdown",
   "metadata": {},
   "source": [
    "#### 7.8.3 拓展：离散事件的模拟(Extended Example: Discrete-Event Simulation in R)\n",
    "\n"
   ]
  }
 ],
 "metadata": {
  "kernelspec": {
   "display_name": "R 3.4",
   "language": "R",
   "name": "ir34"
  },
  "language_info": {
   "codemirror_mode": "r",
   "file_extension": ".r",
   "mimetype": "text/x-r-source",
   "name": "R",
   "pygments_lexer": "r",
   "version": "3.4.4"
  },
  "toc": {
   "nav_menu": {},
   "number_sections": false,
   "sideBar": true,
   "skip_h1_title": false,
   "title_cell": "Table of Contents",
   "title_sidebar": "Contents",
   "toc_cell": true,
   "toc_position": {
    "height": "calc(100% - 180px)",
    "left": "10px",
    "top": "150px",
    "width": "165px"
   },
   "toc_section_display": true,
   "toc_window_display": true
  }
 },
 "nbformat": 4,
 "nbformat_minor": 2
}
