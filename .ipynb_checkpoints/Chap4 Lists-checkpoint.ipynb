{
 "cells": [
  {
   "cell_type": "markdown",
   "metadata": {
    "toc": true
   },
   "source": [
    "<h1>Table of Contents<span class=\"tocSkip\"></span></h1>\n",
    "<div class=\"toc\"><ul class=\"toc-item\"><li><span><a href=\"#Chap4-Lists\" data-toc-modified-id=\"Chap4-Lists-1\">Chap4 Lists</a></span><ul class=\"toc-item\"><li><span><a href=\"#4.1-创建(Creating-Lists)\" data-toc-modified-id=\"4.1-创建(Creating-Lists)-1.1\">4.1 创建(Creating Lists)</a></span></li><li><span><a href=\"#4.2-常用操作(General-List-Operations)\" data-toc-modified-id=\"4.2-常用操作(General-List-Operations)-1.2\">4.2 常用操作(General List Operations)</a></span></li><li><span><a href=\"#4.2.1-列表索引（List-Indexing）\" data-toc-modified-id=\"4.2.1-列表索引（List-Indexing）-1.3\">4.2.1 列表索引（List Indexing）</a></span></li><li><span><a href=\"#4.2.2-增删列表元素(Adding-and-Deleting-List-Elements)\" data-toc-modified-id=\"4.2.2-增删列表元素(Adding-and-Deleting-List-Elements)-1.4\">4.2.2 增删列表元素(Adding and Deleting List Elements)</a></span><ul class=\"toc-item\"><li><span><a href=\"#4.2.3-获取列表大小(Getting-the-Size-of-a-List)\" data-toc-modified-id=\"4.2.3-获取列表大小(Getting-the-Size-of-a-List)-1.4.1\">4.2.3 获取列表大小(Getting the Size of a List)</a></span></li><li><span><a href=\"#4.2.4-拓展：文本索引(Extended-Example:-Text-Concordance)\" data-toc-modified-id=\"4.2.4-拓展：文本索引(Extended-Example:-Text-Concordance)-1.4.2\">4.2.4 拓展：文本索引(Extended Example: Text Concordance)</a></span></li></ul></li><li><span><a href=\"#4.3-获取列表内容(Accessing-List-Components-and-Values)\" data-toc-modified-id=\"4.3-获取列表内容(Accessing-List-Components-and-Values)-1.5\">4.3 获取列表内容(Accessing List Components and Values)</a></span></li><li><span><a href=\"#4.4-将函数应用到列表(Applying-Functions-to-Lists)\" data-toc-modified-id=\"4.4-将函数应用到列表(Applying-Functions-to-Lists)-1.6\">4.4 将函数应用到列表(Applying Functions to Lists)</a></span><ul class=\"toc-item\"><li><span><a href=\"#4.4.1-使用lapply与sapply(Using-the-lapply()-and-sapply()-Functions)\" data-toc-modified-id=\"4.4.1-使用lapply与sapply(Using-the-lapply()-and-sapply()-Functions)-1.6.1\">4.4.1 使用lapply与sapply(Using the lapply() and sapply() Functions)</a></span></li><li><span><a href=\"#4.4.2-拓展：文本索引[承上]-(Extended-Example:-Text-Concordance,-Continued)\" data-toc-modified-id=\"4.4.2-拓展：文本索引[承上]-(Extended-Example:-Text-Concordance,-Continued)-1.6.2\">4.4.2 拓展：文本索引[承上] (Extended Example: Text Concordance, Continued)</a></span></li><li><span><a href=\"#4.4.3--拓展：重回Abalone数据集(-Extended-Example:-Back-to-the-Abalone-Data)\" data-toc-modified-id=\"4.4.3--拓展：重回Abalone数据集(-Extended-Example:-Back-to-the-Abalone-Data)-1.6.3\">4.4.3  拓展：重回Abalone数据集( Extended Example: Back to the Abalone Data)</a></span></li></ul></li><li><span><a href=\"#4.5-递归列表(Recursive-Lists)\" data-toc-modified-id=\"4.5-递归列表(Recursive-Lists)-1.7\">4.5 递归列表(Recursive Lists)</a></span></li></ul></li></ul></div>"
   ]
  },
  {
   "cell_type": "markdown",
   "metadata": {},
   "source": [
    "## Chap4 Lists\n",
    "\n",
    "`list`在R中有着重要的地位。前面说过`vector`的元素必须是同一`mode`的，但是在`list`就没有这个限制。R中的`list`和Python的`dict`及C中的`struct`有一定的相似之处。此外，`list`使得R可以更好地支持`OOP`，也是组成`data frame`的基础。"
   ]
  },
  {
   "cell_type": "markdown",
   "metadata": {},
   "source": [
    "### 4.1 创建(Creating Lists)"
   ]
  },
  {
   "cell_type": "markdown",
   "metadata": {},
   "source": [
    "开始的一句话很有意思：`Technically, a list is a vector.`怎么说？不是刚讲了`vector`和`list`有很大不同吗，为什么又相等了呢？接着作者就解释了，我们之前看到的`vector`都是在讲`atomic vector`，而`list`是`recursive vector`.参考[StackOverflow](https://stackoverflow.com/questions/8594814/what-are-the-differences-between-vector-and-list-data-types-in-r/8595099)给出下面的例子。"
   ]
  },
  {
   "cell_type": "code",
   "execution_count": 1,
   "metadata": {
    "ExecuteTime": {
     "end_time": "2018-05-26T15:56:24.173955Z",
     "start_time": "2018-05-26T15:56:23.872Z"
    }
   },
   "outputs": [
    {
     "data": {
      "text/html": [
       "<ol>\n",
       "\t<li>NULL</li>\n",
       "\t<li>NULL</li>\n",
       "\t<li>NULL</li>\n",
       "</ol>\n"
      ],
      "text/latex": [
       "\\begin{enumerate}\n",
       "\\item NULL\n",
       "\\item NULL\n",
       "\\item NULL\n",
       "\\end{enumerate}\n"
      ],
      "text/markdown": [
       "1. NULL\n",
       "2. NULL\n",
       "3. NULL\n",
       "\n",
       "\n"
      ],
      "text/plain": [
       "[[1]]\n",
       "NULL\n",
       "\n",
       "[[2]]\n",
       "NULL\n",
       "\n",
       "[[3]]\n",
       "NULL\n"
      ]
     },
     "metadata": {},
     "output_type": "display_data"
    }
   ],
   "source": [
    "t <- vector(\"list\", 3)\n",
    "t"
   ]
  },
  {
   "cell_type": "code",
   "execution_count": 2,
   "metadata": {
    "ExecuteTime": {
     "end_time": "2018-05-26T15:56:24.265673Z",
     "start_time": "2018-05-26T15:56:23.879Z"
    }
   },
   "outputs": [
    {
     "data": {
      "text/html": [
       "TRUE"
      ],
      "text/latex": [
       "TRUE"
      ],
      "text/markdown": [
       "TRUE"
      ],
      "text/plain": [
       "[1] TRUE"
      ]
     },
     "metadata": {},
     "output_type": "display_data"
    }
   ],
   "source": [
    "is.vector(t)"
   ]
  },
  {
   "cell_type": "code",
   "execution_count": 3,
   "metadata": {
    "ExecuteTime": {
     "end_time": "2018-05-26T15:56:24.287809Z",
     "start_time": "2018-05-26T15:56:23.883Z"
    }
   },
   "outputs": [
    {
     "data": {
      "text/html": [
       "TRUE"
      ],
      "text/latex": [
       "TRUE"
      ],
      "text/markdown": [
       "TRUE"
      ],
      "text/plain": [
       "[1] TRUE"
      ]
     },
     "metadata": {},
     "output_type": "display_data"
    }
   ],
   "source": [
    "is.list(t)"
   ]
  },
  {
   "cell_type": "code",
   "execution_count": 4,
   "metadata": {
    "ExecuteTime": {
     "end_time": "2018-05-26T15:56:24.313270Z",
     "start_time": "2018-05-26T15:56:23.887Z"
    }
   },
   "outputs": [
    {
     "data": {
      "text/html": [
       "TRUE"
      ],
      "text/latex": [
       "TRUE"
      ],
      "text/markdown": [
       "TRUE"
      ],
      "text/plain": [
       "[1] TRUE"
      ]
     },
     "metadata": {},
     "output_type": "display_data"
    }
   ],
   "source": [
    "is.recursive(t)"
   ]
  },
  {
   "cell_type": "code",
   "execution_count": 5,
   "metadata": {
    "ExecuteTime": {
     "end_time": "2018-05-26T15:56:24.334154Z",
     "start_time": "2018-05-26T15:56:23.895Z"
    }
   },
   "outputs": [
    {
     "data": {
      "text/html": [
       "FALSE"
      ],
      "text/latex": [
       "FALSE"
      ],
      "text/markdown": [
       "FALSE"
      ],
      "text/plain": [
       "[1] FALSE"
      ]
     },
     "metadata": {},
     "output_type": "display_data"
    }
   ],
   "source": [
    "is.atomic(t)"
   ]
  },
  {
   "cell_type": "markdown",
   "metadata": {},
   "source": [
    "这里作者并没有展开讲，我们也暂且了解到这里即可。"
   ]
  },
  {
   "cell_type": "code",
   "execution_count": 6,
   "metadata": {
    "ExecuteTime": {
     "end_time": "2018-05-26T15:56:24.361823Z",
     "start_time": "2018-05-26T15:56:23.900Z"
    }
   },
   "outputs": [
    {
     "data": {
      "text/html": [
       "<dl>\n",
       "\t<dt>$name</dt>\n",
       "\t\t<dd>'Joe'</dd>\n",
       "\t<dt>$salary</dt>\n",
       "\t\t<dd>55000</dd>\n",
       "\t<dt>$union</dt>\n",
       "\t\t<dd>TRUE</dd>\n",
       "</dl>\n"
      ],
      "text/latex": [
       "\\begin{description}\n",
       "\\item[\\$name] 'Joe'\n",
       "\\item[\\$salary] 55000\n",
       "\\item[\\$union] TRUE\n",
       "\\end{description}\n"
      ],
      "text/markdown": [
       "$name\n",
       ":   'Joe'\n",
       "$salary\n",
       ":   55000\n",
       "$union\n",
       ":   TRUE\n",
       "\n",
       "\n"
      ],
      "text/plain": [
       "$name\n",
       "[1] \"Joe\"\n",
       "\n",
       "$salary\n",
       "[1] 55000\n",
       "\n",
       "$union\n",
       "[1] TRUE\n"
      ]
     },
     "metadata": {},
     "output_type": "display_data"
    }
   ],
   "source": [
    "# 公司职员信息的例子\n",
    "j <- list(name=\"Joe\", salary=55000, union=TRUE)\n",
    "j"
   ]
  },
  {
   "cell_type": "code",
   "execution_count": 7,
   "metadata": {
    "ExecuteTime": {
     "end_time": "2018-05-26T15:56:24.387362Z",
     "start_time": "2018-05-26T15:56:23.904Z"
    }
   },
   "outputs": [
    {
     "data": {
      "text/html": [
       "<ol>\n",
       "\t<li>'Joe'</li>\n",
       "\t<li>55000</li>\n",
       "\t<li>TRUE</li>\n",
       "</ol>\n"
      ],
      "text/latex": [
       "\\begin{enumerate}\n",
       "\\item 'Joe'\n",
       "\\item 55000\n",
       "\\item TRUE\n",
       "\\end{enumerate}\n"
      ],
      "text/markdown": [
       "1. 'Joe'\n",
       "2. 55000\n",
       "3. TRUE\n",
       "\n",
       "\n"
      ],
      "text/plain": [
       "[[1]]\n",
       "[1] \"Joe\"\n",
       "\n",
       "[[2]]\n",
       "[1] 55000\n",
       "\n",
       "[[3]]\n",
       "[1] TRUE\n"
      ]
     },
     "metadata": {},
     "output_type": "display_data"
    }
   ],
   "source": [
    "# 我们也可以不指定tags(一般还是指定好些)\n",
    "jalt <- list(\"Joe\", 55000, T)\n",
    "jalt"
   ]
  },
  {
   "cell_type": "code",
   "execution_count": 8,
   "metadata": {
    "ExecuteTime": {
     "end_time": "2018-05-26T15:56:24.412160Z",
     "start_time": "2018-05-26T15:56:23.909Z"
    }
   },
   "outputs": [
    {
     "data": {
      "text/html": [
       "55000"
      ],
      "text/latex": [
       "55000"
      ],
      "text/markdown": [
       "55000"
      ],
      "text/plain": [
       "[1] 55000"
      ]
     },
     "metadata": {},
     "output_type": "display_data"
    }
   ],
   "source": [
    "# 获取list的内容\n",
    "j$salary"
   ]
  },
  {
   "cell_type": "code",
   "execution_count": 9,
   "metadata": {
    "ExecuteTime": {
     "end_time": "2018-05-26T15:56:24.437966Z",
     "start_time": "2018-05-26T15:56:23.914Z"
    }
   },
   "outputs": [
    {
     "data": {
      "text/html": [
       "55000"
      ],
      "text/latex": [
       "55000"
      ],
      "text/markdown": [
       "55000"
      ],
      "text/plain": [
       "[1] 55000"
      ]
     },
     "metadata": {},
     "output_type": "display_data"
    }
   ],
   "source": [
    "# 在不引起歧义的情况下也可以使用缩写\n",
    "j$sal"
   ]
  },
  {
   "cell_type": "code",
   "execution_count": 10,
   "metadata": {
    "ExecuteTime": {
     "end_time": "2018-05-26T15:56:24.467078Z",
     "start_time": "2018-05-26T15:56:23.918Z"
    }
   },
   "outputs": [
    {
     "data": {
      "text/html": [
       "<strong>$abc</strong> = 3"
      ],
      "text/latex": [
       "\\textbf{\\$abc} = 3"
      ],
      "text/markdown": [
       "**$abc** = 3"
      ],
      "text/plain": [
       "$abc\n",
       "[1] 3\n"
      ]
     },
     "metadata": {},
     "output_type": "display_data"
    }
   ],
   "source": [
    "# 因为lists是vector,我们可以使用vector()创建list\n",
    "z <- vector(mode=\"list\")\n",
    "z[[\"abc\"]] <- 3\n",
    "z"
   ]
  },
  {
   "cell_type": "markdown",
   "metadata": {},
   "source": [
    "### 4.2 常用操作(General List Operations)"
   ]
  },
  {
   "cell_type": "markdown",
   "metadata": {},
   "source": [
    "### 4.2.1 列表索引（List Indexing）"
   ]
  },
  {
   "cell_type": "code",
   "execution_count": 11,
   "metadata": {
    "ExecuteTime": {
     "end_time": "2018-05-26T15:56:24.485332Z",
     "start_time": "2018-05-26T15:56:23.921Z"
    }
   },
   "outputs": [
    {
     "data": {
      "text/html": [
       "55000"
      ],
      "text/latex": [
       "55000"
      ],
      "text/markdown": [
       "55000"
      ],
      "text/plain": [
       "[1] 55000"
      ]
     },
     "metadata": {},
     "output_type": "display_data"
    }
   ],
   "source": [
    "j$salary"
   ]
  },
  {
   "cell_type": "code",
   "execution_count": 12,
   "metadata": {
    "ExecuteTime": {
     "end_time": "2018-05-26T15:56:24.505210Z",
     "start_time": "2018-05-26T15:56:23.926Z"
    }
   },
   "outputs": [
    {
     "data": {
      "text/html": [
       "55000"
      ],
      "text/latex": [
       "55000"
      ],
      "text/markdown": [
       "55000"
      ],
      "text/plain": [
       "[1] 55000"
      ]
     },
     "metadata": {},
     "output_type": "display_data"
    }
   ],
   "source": [
    "j[[\"salary\"]]"
   ]
  },
  {
   "cell_type": "code",
   "execution_count": 13,
   "metadata": {
    "ExecuteTime": {
     "end_time": "2018-05-26T15:56:24.531842Z",
     "start_time": "2018-05-26T15:56:23.930Z"
    }
   },
   "outputs": [
    {
     "data": {
      "text/html": [
       "55000"
      ],
      "text/latex": [
       "55000"
      ],
      "text/markdown": [
       "55000"
      ],
      "text/plain": [
       "[1] 55000"
      ]
     },
     "metadata": {},
     "output_type": "display_data"
    }
   ],
   "source": [
    "j[[2]]"
   ]
  },
  {
   "cell_type": "markdown",
   "metadata": {},
   "source": [
    "以上三种用法都有自己适用的场合，可以择优选取。注意，上面在索引`list`内成分的时候使用的是双(中)括号`[[ ... ]]`.\n",
    "那么使用单括号时候会怎样呢？这就是下面要讲的，在使用`[...]`时，得到的结果是一个子列表(sublist).另外需要知道，这里的两类括号都是函数。"
   ]
  },
  {
   "cell_type": "code",
   "execution_count": 14,
   "metadata": {
    "ExecuteTime": {
     "end_time": "2018-05-26T15:56:24.558632Z",
     "start_time": "2018-05-26T15:56:23.934Z"
    }
   },
   "outputs": [
    {
     "data": {
      "text/html": [
       "<strong>$salary</strong> = 55000"
      ],
      "text/latex": [
       "\\textbf{\\$salary} = 55000"
      ],
      "text/markdown": [
       "**$salary** = 55000"
      ],
      "text/plain": [
       "$salary\n",
       "[1] 55000\n"
      ]
     },
     "metadata": {},
     "output_type": "display_data"
    }
   ],
   "source": [
    "j2 <- j[2]\n",
    "j2"
   ]
  },
  {
   "cell_type": "code",
   "execution_count": 15,
   "metadata": {
    "ExecuteTime": {
     "end_time": "2018-05-26T15:56:24.578154Z",
     "start_time": "2018-05-26T15:56:23.945Z"
    }
   },
   "outputs": [
    {
     "data": {
      "text/html": [
       "'list'"
      ],
      "text/latex": [
       "'list'"
      ],
      "text/markdown": [
       "'list'"
      ],
      "text/plain": [
       "[1] \"list\""
      ]
     },
     "metadata": {},
     "output_type": "display_data"
    }
   ],
   "source": [
    "class(j2)"
   ]
  },
  {
   "cell_type": "code",
   "execution_count": 16,
   "metadata": {
    "ExecuteTime": {
     "end_time": "2018-05-26T15:56:24.604661Z",
     "start_time": "2018-05-26T15:56:23.951Z"
    }
   },
   "outputs": [
    {
     "name": "stdout",
     "output_type": "stream",
     "text": [
      "List of 1\n",
      " $ salary: num 55000\n"
     ]
    }
   ],
   "source": [
    "str(j2)"
   ]
  },
  {
   "cell_type": "code",
   "execution_count": 17,
   "metadata": {
    "ExecuteTime": {
     "end_time": "2018-05-26T15:56:24.626105Z",
     "start_time": "2018-05-26T15:56:23.963Z"
    }
   },
   "outputs": [
    {
     "data": {
      "text/html": [
       "<dl>\n",
       "\t<dt>$name</dt>\n",
       "\t\t<dd>'Joe'</dd>\n",
       "\t<dt>$salary</dt>\n",
       "\t\t<dd>55000</dd>\n",
       "</dl>\n"
      ],
      "text/latex": [
       "\\begin{description}\n",
       "\\item[\\$name] 'Joe'\n",
       "\\item[\\$salary] 55000\n",
       "\\end{description}\n"
      ],
      "text/markdown": [
       "$name\n",
       ":   'Joe'\n",
       "$salary\n",
       ":   55000\n",
       "\n",
       "\n"
      ],
      "text/plain": [
       "$name\n",
       "[1] \"Joe\"\n",
       "\n",
       "$salary\n",
       "[1] 55000\n"
      ]
     },
     "metadata": {},
     "output_type": "display_data"
    }
   ],
   "source": [
    "# 也可以取多个\n",
    "j[1:2]"
   ]
  },
  {
   "cell_type": "code",
   "execution_count": 18,
   "metadata": {
    "ExecuteTime": {
     "end_time": "2018-05-26T15:56:24.644005Z",
     "start_time": "2018-05-26T15:56:23.966Z"
    }
   },
   "outputs": [],
   "source": [
    "# 在取子列表时候可以一次取多个，但是索引数据时候不行\n",
    "#j[[1:2]]"
   ]
  },
  {
   "cell_type": "code",
   "execution_count": 19,
   "metadata": {
    "ExecuteTime": {
     "end_time": "2018-05-26T15:56:24.667431Z",
     "start_time": "2018-05-26T15:56:23.976Z"
    }
   },
   "outputs": [
    {
     "data": {
      "text/html": [
       "55000"
      ],
      "text/latex": [
       "55000"
      ],
      "text/markdown": [
       "55000"
      ],
      "text/plain": [
       "[1] 55000"
      ]
     },
     "metadata": {},
     "output_type": "display_data"
    }
   ],
   "source": [
    "j2a <- j[[2]]\n",
    "j2a"
   ]
  },
  {
   "cell_type": "code",
   "execution_count": 20,
   "metadata": {
    "ExecuteTime": {
     "end_time": "2018-05-26T15:56:24.686405Z",
     "start_time": "2018-05-26T15:56:23.979Z"
    }
   },
   "outputs": [
    {
     "data": {
      "text/html": [
       "'numeric'"
      ],
      "text/latex": [
       "'numeric'"
      ],
      "text/markdown": [
       "'numeric'"
      ],
      "text/plain": [
       "[1] \"numeric\""
      ]
     },
     "metadata": {},
     "output_type": "display_data"
    }
   ],
   "source": [
    "class(j2a)"
   ]
  },
  {
   "cell_type": "markdown",
   "metadata": {},
   "source": [
    "### 4.2.2 增删列表元素(Adding and Deleting List Elements)"
   ]
  },
  {
   "cell_type": "code",
   "execution_count": 21,
   "metadata": {
    "ExecuteTime": {
     "end_time": "2018-05-26T15:56:24.713201Z",
     "start_time": "2018-05-26T15:56:23.985Z"
    }
   },
   "outputs": [
    {
     "data": {
      "text/html": [
       "<dl>\n",
       "\t<dt>$a</dt>\n",
       "\t\t<dd>'abc'</dd>\n",
       "\t<dt>$b</dt>\n",
       "\t\t<dd>12</dd>\n",
       "</dl>\n"
      ],
      "text/latex": [
       "\\begin{description}\n",
       "\\item[\\$a] 'abc'\n",
       "\\item[\\$b] 12\n",
       "\\end{description}\n"
      ],
      "text/markdown": [
       "$a\n",
       ":   'abc'\n",
       "$b\n",
       ":   12\n",
       "\n",
       "\n"
      ],
      "text/plain": [
       "$a\n",
       "[1] \"abc\"\n",
       "\n",
       "$b\n",
       "[1] 12\n"
      ]
     },
     "metadata": {},
     "output_type": "display_data"
    }
   ],
   "source": [
    "z <- list(a=\"abc\", b=12)\n",
    "z"
   ]
  },
  {
   "cell_type": "code",
   "execution_count": 22,
   "metadata": {
    "ExecuteTime": {
     "end_time": "2018-05-26T15:56:24.741267Z",
     "start_time": "2018-05-26T15:56:23.989Z"
    }
   },
   "outputs": [
    {
     "data": {
      "text/html": [
       "<dl>\n",
       "\t<dt>$a</dt>\n",
       "\t\t<dd>'abc'</dd>\n",
       "\t<dt>$b</dt>\n",
       "\t\t<dd>12</dd>\n",
       "\t<dt>$c</dt>\n",
       "\t\t<dd>'sailing'</dd>\n",
       "</dl>\n"
      ],
      "text/latex": [
       "\\begin{description}\n",
       "\\item[\\$a] 'abc'\n",
       "\\item[\\$b] 12\n",
       "\\item[\\$c] 'sailing'\n",
       "\\end{description}\n"
      ],
      "text/markdown": [
       "$a\n",
       ":   'abc'\n",
       "$b\n",
       ":   12\n",
       "$c\n",
       ":   'sailing'\n",
       "\n",
       "\n"
      ],
      "text/plain": [
       "$a\n",
       "[1] \"abc\"\n",
       "\n",
       "$b\n",
       "[1] 12\n",
       "\n",
       "$c\n",
       "[1] \"sailing\"\n"
      ]
     },
     "metadata": {},
     "output_type": "display_data"
    }
   ],
   "source": [
    "# 加入成分c\n",
    "z$c <- \"sailing\"\n",
    "z"
   ]
  },
  {
   "cell_type": "code",
   "execution_count": 23,
   "metadata": {
    "ExecuteTime": {
     "end_time": "2018-05-26T15:56:24.802275Z",
     "start_time": "2018-05-26T15:56:23.993Z"
    },
    "scrolled": true
   },
   "outputs": [
    {
     "name": "stderr",
     "output_type": "stream",
     "text": [
      "ERROR while rich displaying an object: Error in FUN(X[[i]], ...): attempt to use zero-length variable name\n",
      "\n",
      "Traceback:\n",
      "1. FUN(X[[i]], ...)\n",
      "2. tryCatch(withCallingHandlers({\n",
      " .     rpr <- mime2repr[[mime]](obj)\n",
      " .     if (is.null(rpr)) \n",
      " .         return(NULL)\n",
      " .     prepare_content(is.raw(rpr), rpr)\n",
      " . }, error = error_handler), error = outer_handler)\n",
      "3. tryCatchList(expr, classes, parentenv, handlers)\n",
      "4. tryCatchOne(expr, names, parentenv, handlers[[1L]])\n",
      "5. doTryCatch(return(expr), name, parentenv, handler)\n",
      "6. withCallingHandlers({\n",
      " .     rpr <- mime2repr[[mime]](obj)\n",
      " .     if (is.null(rpr)) \n",
      " .         return(NULL)\n",
      " .     prepare_content(is.raw(rpr), rpr)\n",
      " . }, error = error_handler)\n",
      "7. mime2repr[[mime]](obj)\n",
      "8. repr_html.list(obj)\n",
      "9. repr_list_generic(obj, \"html\", \"\\t<li>%s</li>\\n\", \"\\t<dt>$%s</dt>\\n\\t\\t<dd>%s</dd>\\n\", \n",
      " .     \"<strong>$%s</strong> = %s\", \"<ol>\\n%s</ol>\\n\", \"<dl>\\n%s</dl>\\n\", \n",
      " .     numeric_item = \"\\t<dt>[[%s]]</dt>\\n\\t\\t<dd>%s</dd>\\n\", escape_fun = html_escape)\n",
      "10. sapply(nms, as.name, USE.NAMES = FALSE)\n",
      "11. lapply(X = X, FUN = FUN, ...)\n",
      "12. FUN(X[[i]], ...)\n",
      "ERROR while rich displaying an object: Error in FUN(X[[i]], ...): attempt to use zero-length variable name\n",
      "\n",
      "Traceback:\n",
      "1. FUN(X[[i]], ...)\n",
      "2. tryCatch(withCallingHandlers({\n",
      " .     rpr <- mime2repr[[mime]](obj)\n",
      " .     if (is.null(rpr)) \n",
      " .         return(NULL)\n",
      " .     prepare_content(is.raw(rpr), rpr)\n",
      " . }, error = error_handler), error = outer_handler)\n",
      "3. tryCatchList(expr, classes, parentenv, handlers)\n",
      "4. tryCatchOne(expr, names, parentenv, handlers[[1L]])\n",
      "5. doTryCatch(return(expr), name, parentenv, handler)\n",
      "6. withCallingHandlers({\n",
      " .     rpr <- mime2repr[[mime]](obj)\n",
      " .     if (is.null(rpr)) \n",
      " .         return(NULL)\n",
      " .     prepare_content(is.raw(rpr), rpr)\n",
      " . }, error = error_handler)\n",
      "7. mime2repr[[mime]](obj)\n",
      "8. repr_markdown.list(obj)\n",
      "9. repr_list_generic(obj, \"markdown\", \"%s. %s\\n\", \"$%s\\n:   %s\\n\", \n",
      " .     \"**$%s** = %s\", \"%s\\n\\n\", numeric_item = \"[[%s]]\\n:   %s\\n\", \n",
      " .     item_uses_numbers = TRUE, escape_fun = html_escape)\n",
      "10. sapply(nms, as.name, USE.NAMES = FALSE)\n",
      "11. lapply(X = X, FUN = FUN, ...)\n",
      "12. FUN(X[[i]], ...)\n",
      "ERROR while rich displaying an object: Error in FUN(X[[i]], ...): attempt to use zero-length variable name\n",
      "\n",
      "Traceback:\n",
      "1. FUN(X[[i]], ...)\n",
      "2. tryCatch(withCallingHandlers({\n",
      " .     rpr <- mime2repr[[mime]](obj)\n",
      " .     if (is.null(rpr)) \n",
      " .         return(NULL)\n",
      " .     prepare_content(is.raw(rpr), rpr)\n",
      " . }, error = error_handler), error = outer_handler)\n",
      "3. tryCatchList(expr, classes, parentenv, handlers)\n",
      "4. tryCatchOne(expr, names, parentenv, handlers[[1L]])\n",
      "5. doTryCatch(return(expr), name, parentenv, handler)\n",
      "6. withCallingHandlers({\n",
      " .     rpr <- mime2repr[[mime]](obj)\n",
      " .     if (is.null(rpr)) \n",
      " .         return(NULL)\n",
      " .     prepare_content(is.raw(rpr), rpr)\n",
      " . }, error = error_handler)\n",
      "7. mime2repr[[mime]](obj)\n",
      "8. repr_latex.list(obj)\n",
      "9. repr_list_generic(obj, \"latex\", \"\\\\item %s\\n\", \"\\\\item[\\\\$%s] %s\\n\", \n",
      " .     \"\\\\textbf{\\\\$%s} = %s\", enum_wrap = \"\\\\begin{enumerate}\\n%s\\\\end{enumerate}\\n\", \n",
      " .     named_wrap = \"\\\\begin{description}\\n%s\\\\end{description}\\n\", \n",
      " .     numeric_item = \"\\\\item[{[[%s]]}] %s\\n\", escape_fun = latex_escape)\n",
      "10. sapply(nms, as.name, USE.NAMES = FALSE)\n",
      "11. lapply(X = X, FUN = FUN, ...)\n",
      "12. FUN(X[[i]], ...)\n"
     ]
    },
    {
     "data": {
      "text/plain": [
       "$a\n",
       "[1] \"abc\"\n",
       "\n",
       "$b\n",
       "[1] 12\n",
       "\n",
       "$c\n",
       "[1] \"sailing\"\n",
       "\n",
       "[[4]]\n",
       "[1] 28\n",
       "\n",
       "[[5]]\n",
       "[1] FALSE\n",
       "\n",
       "[[6]]\n",
       "[1] TRUE\n",
       "\n",
       "[[7]]\n",
       "[1] TRUE\n"
      ]
     },
     "metadata": {},
     "output_type": "display_data"
    }
   ],
   "source": [
    "# 通过vector index添加\n",
    "z[[4]] <- 28\n",
    "z[5:7] <- c(FALSE, TRUE, TRUE)\n",
    "z"
   ]
  },
  {
   "cell_type": "markdown",
   "metadata": {},
   "source": [
    "注意，上面的语法应该是没问题的，只是在Jupyter这里显示上好像有点问题。"
   ]
  },
  {
   "cell_type": "code",
   "execution_count": 24,
   "metadata": {
    "ExecuteTime": {
     "end_time": "2018-05-26T15:56:24.835539Z",
     "start_time": "2018-05-26T15:56:23.996Z"
    },
    "scrolled": true
   },
   "outputs": [
    {
     "name": "stderr",
     "output_type": "stream",
     "text": [
      "ERROR while rich displaying an object: Error in FUN(X[[i]], ...): attempt to use zero-length variable name\n",
      "\n",
      "Traceback:\n",
      "1. FUN(X[[i]], ...)\n",
      "2. tryCatch(withCallingHandlers({\n",
      " .     rpr <- mime2repr[[mime]](obj)\n",
      " .     if (is.null(rpr)) \n",
      " .         return(NULL)\n",
      " .     prepare_content(is.raw(rpr), rpr)\n",
      " . }, error = error_handler), error = outer_handler)\n",
      "3. tryCatchList(expr, classes, parentenv, handlers)\n",
      "4. tryCatchOne(expr, names, parentenv, handlers[[1L]])\n",
      "5. doTryCatch(return(expr), name, parentenv, handler)\n",
      "6. withCallingHandlers({\n",
      " .     rpr <- mime2repr[[mime]](obj)\n",
      " .     if (is.null(rpr)) \n",
      " .         return(NULL)\n",
      " .     prepare_content(is.raw(rpr), rpr)\n",
      " . }, error = error_handler)\n",
      "7. mime2repr[[mime]](obj)\n",
      "8. repr_html.list(obj)\n",
      "9. repr_list_generic(obj, \"html\", \"\\t<li>%s</li>\\n\", \"\\t<dt>$%s</dt>\\n\\t\\t<dd>%s</dd>\\n\", \n",
      " .     \"<strong>$%s</strong> = %s\", \"<ol>\\n%s</ol>\\n\", \"<dl>\\n%s</dl>\\n\", \n",
      " .     numeric_item = \"\\t<dt>[[%s]]</dt>\\n\\t\\t<dd>%s</dd>\\n\", escape_fun = html_escape)\n",
      "10. sapply(nms, as.name, USE.NAMES = FALSE)\n",
      "11. lapply(X = X, FUN = FUN, ...)\n",
      "12. FUN(X[[i]], ...)\n",
      "ERROR while rich displaying an object: Error in FUN(X[[i]], ...): attempt to use zero-length variable name\n",
      "\n",
      "Traceback:\n",
      "1. FUN(X[[i]], ...)\n",
      "2. tryCatch(withCallingHandlers({\n",
      " .     rpr <- mime2repr[[mime]](obj)\n",
      " .     if (is.null(rpr)) \n",
      " .         return(NULL)\n",
      " .     prepare_content(is.raw(rpr), rpr)\n",
      " . }, error = error_handler), error = outer_handler)\n",
      "3. tryCatchList(expr, classes, parentenv, handlers)\n",
      "4. tryCatchOne(expr, names, parentenv, handlers[[1L]])\n",
      "5. doTryCatch(return(expr), name, parentenv, handler)\n",
      "6. withCallingHandlers({\n",
      " .     rpr <- mime2repr[[mime]](obj)\n",
      " .     if (is.null(rpr)) \n",
      " .         return(NULL)\n",
      " .     prepare_content(is.raw(rpr), rpr)\n",
      " . }, error = error_handler)\n",
      "7. mime2repr[[mime]](obj)\n",
      "8. repr_markdown.list(obj)\n",
      "9. repr_list_generic(obj, \"markdown\", \"%s. %s\\n\", \"$%s\\n:   %s\\n\", \n",
      " .     \"**$%s** = %s\", \"%s\\n\\n\", numeric_item = \"[[%s]]\\n:   %s\\n\", \n",
      " .     item_uses_numbers = TRUE, escape_fun = html_escape)\n",
      "10. sapply(nms, as.name, USE.NAMES = FALSE)\n",
      "11. lapply(X = X, FUN = FUN, ...)\n",
      "12. FUN(X[[i]], ...)\n",
      "ERROR while rich displaying an object: Error in FUN(X[[i]], ...): attempt to use zero-length variable name\n",
      "\n",
      "Traceback:\n",
      "1. FUN(X[[i]], ...)\n",
      "2. tryCatch(withCallingHandlers({\n",
      " .     rpr <- mime2repr[[mime]](obj)\n",
      " .     if (is.null(rpr)) \n",
      " .         return(NULL)\n",
      " .     prepare_content(is.raw(rpr), rpr)\n",
      " . }, error = error_handler), error = outer_handler)\n",
      "3. tryCatchList(expr, classes, parentenv, handlers)\n",
      "4. tryCatchOne(expr, names, parentenv, handlers[[1L]])\n",
      "5. doTryCatch(return(expr), name, parentenv, handler)\n",
      "6. withCallingHandlers({\n",
      " .     rpr <- mime2repr[[mime]](obj)\n",
      " .     if (is.null(rpr)) \n",
      " .         return(NULL)\n",
      " .     prepare_content(is.raw(rpr), rpr)\n",
      " . }, error = error_handler)\n",
      "7. mime2repr[[mime]](obj)\n",
      "8. repr_latex.list(obj)\n",
      "9. repr_list_generic(obj, \"latex\", \"\\\\item %s\\n\", \"\\\\item[\\\\$%s] %s\\n\", \n",
      " .     \"\\\\textbf{\\\\$%s} = %s\", enum_wrap = \"\\\\begin{enumerate}\\n%s\\\\end{enumerate}\\n\", \n",
      " .     named_wrap = \"\\\\begin{description}\\n%s\\\\end{description}\\n\", \n",
      " .     numeric_item = \"\\\\item[{[[%s]]}] %s\\n\", escape_fun = latex_escape)\n",
      "10. sapply(nms, as.name, USE.NAMES = FALSE)\n",
      "11. lapply(X = X, FUN = FUN, ...)\n",
      "12. FUN(X[[i]], ...)\n"
     ]
    },
    {
     "data": {
      "text/plain": [
       "$a\n",
       "[1] \"abc\"\n",
       "\n",
       "$c\n",
       "[1] \"sailing\"\n",
       "\n",
       "[[3]]\n",
       "[1] 28\n",
       "\n",
       "[[4]]\n",
       "[1] FALSE\n",
       "\n",
       "[[5]]\n",
       "[1] TRUE\n",
       "\n",
       "[[6]]\n",
       "[1] TRUE\n"
      ]
     },
     "metadata": {},
     "output_type": "display_data"
    }
   ],
   "source": [
    "# 如果要删陈某个列表成分只需要将它设置为NULL\n",
    "z$b <- NULL\n",
    "z"
   ]
  },
  {
   "cell_type": "markdown",
   "metadata": {},
   "source": [
    "注意到，上面在删除成份`b`之后，其下面的成分索引数字自动减了1"
   ]
  },
  {
   "cell_type": "markdown",
   "metadata": {},
   "source": [
    "#### 4.2.3 获取列表大小(Getting the Size of a List)\n",
    "\n",
    "因为`list`是`vector`，所以我们可以直接使用`length`函数获取其长度"
   ]
  },
  {
   "cell_type": "code",
   "execution_count": 25,
   "metadata": {
    "ExecuteTime": {
     "end_time": "2018-05-26T15:56:24.853118Z",
     "start_time": "2018-05-26T15:56:23.999Z"
    }
   },
   "outputs": [
    {
     "data": {
      "text/html": [
       "6"
      ],
      "text/latex": [
       "6"
      ],
      "text/markdown": [
       "6"
      ],
      "text/plain": [
       "[1] 6"
      ]
     },
     "metadata": {},
     "output_type": "display_data"
    }
   ],
   "source": [
    "length(z)"
   ]
  },
  {
   "cell_type": "markdown",
   "metadata": {},
   "source": [
    "#### 4.2.4 拓展：文本索引(Extended Example: Text Concordance)\n",
    "\n",
    "找出文章中所有不同的单词，并找出其出现的位置。"
   ]
  },
  {
   "cell_type": "code",
   "execution_count": 44,
   "metadata": {
    "ExecuteTime": {
     "end_time": "2018-05-27T03:47:18.630515Z",
     "start_time": "2018-05-27T03:47:18.570Z"
    }
   },
   "outputs": [
    {
     "data": {
      "text/html": [
       "<dl>\n",
       "\t<dt>$the</dt>\n",
       "\t\t<dd><ol class=list-inline>\n",
       "\t<li>1</li>\n",
       "\t<li>5</li>\n",
       "\t<li>63</li>\n",
       "</ol>\n",
       "</dd>\n",
       "\t<dt>$here</dt>\n",
       "\t\t<dd>2</dd>\n",
       "\t<dt>$means</dt>\n",
       "\t\t<dd>3</dd>\n",
       "\t<dt>$that</dt>\n",
       "\t\t<dd><ol class=list-inline>\n",
       "\t<li>4</li>\n",
       "\t<li>40</li>\n",
       "</ol>\n",
       "</dd>\n",
       "\t<dt>$first</dt>\n",
       "\t\t<dd>6</dd>\n",
       "\t<dt>$item</dt>\n",
       "\t\t<dd><ol class=list-inline>\n",
       "\t<li>7</li>\n",
       "\t<li>14</li>\n",
       "\t<li>27</li>\n",
       "</ol>\n",
       "</dd>\n",
       "\t<dt>$`in`</dt>\n",
       "\t\t<dd><ol class=list-inline>\n",
       "\t<li>8</li>\n",
       "\t<li>15</li>\n",
       "</ol>\n",
       "</dd>\n",
       "\t<dt>$this</dt>\n",
       "\t\t<dd><ol class=list-inline>\n",
       "\t<li>9</li>\n",
       "\t<li>16</li>\n",
       "\t<li>29</li>\n",
       "\t<li>33</li>\n",
       "</ol>\n",
       "</dd>\n",
       "\t<dt>$line</dt>\n",
       "\t\t<dd><ol class=list-inline>\n",
       "\t<li>10</li>\n",
       "\t<li>24</li>\n",
       "</ol>\n",
       "</dd>\n",
       "\t<dt>$of</dt>\n",
       "\t\t<dd><ol class=list-inline>\n",
       "\t<li>11</li>\n",
       "\t<li>21</li>\n",
       "\t<li>42</li>\n",
       "\t<li>56</li>\n",
       "</ol>\n",
       "</dd>\n",
       "\t<dt>$output</dt>\n",
       "\t\t<dd><ol class=list-inline>\n",
       "\t<li>12</li>\n",
       "\t<li>19</li>\n",
       "\t<li>39</li>\n",
       "\t<li>57</li>\n",
       "</ol>\n",
       "</dd>\n",
       "\t<dt>$is</dt>\n",
       "\t\t<dd><ol class=list-inline>\n",
       "\t<li>13</li>\n",
       "\t<li>30</li>\n",
       "</ol>\n",
       "</dd>\n",
       "\t<dt>$case</dt>\n",
       "\t\t<dd>17</dd>\n",
       "\t<dt>$our</dt>\n",
       "\t\t<dd>18</dd>\n",
       "\t<dt>$consists</dt>\n",
       "\t\t<dd><ol class=list-inline>\n",
       "\t<li>20</li>\n",
       "\t<li>41</li>\n",
       "</ol>\n",
       "</dd>\n",
       "\t<dt>$only</dt>\n",
       "\t\t<dd>22</dd>\n",
       "\t<dt>$one</dt>\n",
       "\t\t<dd><ol class=list-inline>\n",
       "\t<li>23</li>\n",
       "\t<li>26</li>\n",
       "</ol>\n",
       "</dd>\n",
       "\t<dt>$and</dt>\n",
       "\t\t<dd>25</dd>\n",
       "\t<dt>$so</dt>\n",
       "\t\t<dd>28</dd>\n",
       "\t<dt>$redundant</dt>\n",
       "\t\t<dd>31</dd>\n",
       "\t<dt>$but</dt>\n",
       "\t\t<dd>32</dd>\n",
       "\t<dt>$notation</dt>\n",
       "\t\t<dd>34</dd>\n",
       "\t<dt>$helps</dt>\n",
       "\t\t<dd>35</dd>\n",
       "\t<dt>$to</dt>\n",
       "\t\t<dd>36</dd>\n",
       "\t<dt>$read</dt>\n",
       "\t\t<dd>37</dd>\n",
       "\t<dt>$voluminous</dt>\n",
       "\t\t<dd>38</dd>\n",
       "\t<dt>$many</dt>\n",
       "\t\t<dd><ol class=list-inline>\n",
       "\t<li>43</li>\n",
       "\t<li>47</li>\n",
       "</ol>\n",
       "</dd>\n",
       "\t<dt>$items</dt>\n",
       "\t\t<dd><ol class=list-inline>\n",
       "\t<li>44</li>\n",
       "\t<li>60</li>\n",
       "</ol>\n",
       "</dd>\n",
       "\t<dt>$spread</dt>\n",
       "\t\t<dd>45</dd>\n",
       "\t<dt>$over</dt>\n",
       "\t\t<dd>46</dd>\n",
       "\t<dt>$lines</dt>\n",
       "\t\t<dd>48</dd>\n",
       "\t<dt>$`for`</dt>\n",
       "\t\t<dd>49</dd>\n",
       "\t<dt>$example</dt>\n",
       "\t\t<dd>50</dd>\n",
       "\t<dt>$`if`</dt>\n",
       "\t\t<dd>51</dd>\n",
       "\t<dt>$there</dt>\n",
       "\t\t<dd>52</dd>\n",
       "\t<dt>$were</dt>\n",
       "\t\t<dd>53</dd>\n",
       "\t<dt>$two</dt>\n",
       "\t\t<dd>54</dd>\n",
       "\t<dt>$rows</dt>\n",
       "\t\t<dd>55</dd>\n",
       "\t<dt>$with</dt>\n",
       "\t\t<dd>58</dd>\n",
       "\t<dt>$six</dt>\n",
       "\t\t<dd>59</dd>\n",
       "\t<dt>$per</dt>\n",
       "\t\t<dd>61</dd>\n",
       "\t<dt>$row</dt>\n",
       "\t\t<dd><ol class=list-inline>\n",
       "\t<li>62</li>\n",
       "\t<li>65</li>\n",
       "</ol>\n",
       "</dd>\n",
       "\t<dt>$second</dt>\n",
       "\t\t<dd>64</dd>\n",
       "\t<dt>$would</dt>\n",
       "\t\t<dd>66</dd>\n",
       "\t<dt>$be</dt>\n",
       "\t\t<dd>67</dd>\n",
       "\t<dt>$labeled</dt>\n",
       "\t\t<dd>68</dd>\n",
       "</dl>\n"
      ],
      "text/latex": [
       "\\begin{description}\n",
       "\\item[\\$the] \\begin{enumerate*}\n",
       "\\item 1\n",
       "\\item 5\n",
       "\\item 63\n",
       "\\end{enumerate*}\n",
       "\n",
       "\\item[\\$here] 2\n",
       "\\item[\\$means] 3\n",
       "\\item[\\$that] \\begin{enumerate*}\n",
       "\\item 4\n",
       "\\item 40\n",
       "\\end{enumerate*}\n",
       "\n",
       "\\item[\\$first] 6\n",
       "\\item[\\$item] \\begin{enumerate*}\n",
       "\\item 7\n",
       "\\item 14\n",
       "\\item 27\n",
       "\\end{enumerate*}\n",
       "\n",
       "\\item[\\$`in`] \\begin{enumerate*}\n",
       "\\item 8\n",
       "\\item 15\n",
       "\\end{enumerate*}\n",
       "\n",
       "\\item[\\$this] \\begin{enumerate*}\n",
       "\\item 9\n",
       "\\item 16\n",
       "\\item 29\n",
       "\\item 33\n",
       "\\end{enumerate*}\n",
       "\n",
       "\\item[\\$line] \\begin{enumerate*}\n",
       "\\item 10\n",
       "\\item 24\n",
       "\\end{enumerate*}\n",
       "\n",
       "\\item[\\$of] \\begin{enumerate*}\n",
       "\\item 11\n",
       "\\item 21\n",
       "\\item 42\n",
       "\\item 56\n",
       "\\end{enumerate*}\n",
       "\n",
       "\\item[\\$output] \\begin{enumerate*}\n",
       "\\item 12\n",
       "\\item 19\n",
       "\\item 39\n",
       "\\item 57\n",
       "\\end{enumerate*}\n",
       "\n",
       "\\item[\\$is] \\begin{enumerate*}\n",
       "\\item 13\n",
       "\\item 30\n",
       "\\end{enumerate*}\n",
       "\n",
       "\\item[\\$case] 17\n",
       "\\item[\\$our] 18\n",
       "\\item[\\$consists] \\begin{enumerate*}\n",
       "\\item 20\n",
       "\\item 41\n",
       "\\end{enumerate*}\n",
       "\n",
       "\\item[\\$only] 22\n",
       "\\item[\\$one] \\begin{enumerate*}\n",
       "\\item 23\n",
       "\\item 26\n",
       "\\end{enumerate*}\n",
       "\n",
       "\\item[\\$and] 25\n",
       "\\item[\\$so] 28\n",
       "\\item[\\$redundant] 31\n",
       "\\item[\\$but] 32\n",
       "\\item[\\$notation] 34\n",
       "\\item[\\$helps] 35\n",
       "\\item[\\$to] 36\n",
       "\\item[\\$read] 37\n",
       "\\item[\\$voluminous] 38\n",
       "\\item[\\$many] \\begin{enumerate*}\n",
       "\\item 43\n",
       "\\item 47\n",
       "\\end{enumerate*}\n",
       "\n",
       "\\item[\\$items] \\begin{enumerate*}\n",
       "\\item 44\n",
       "\\item 60\n",
       "\\end{enumerate*}\n",
       "\n",
       "\\item[\\$spread] 45\n",
       "\\item[\\$over] 46\n",
       "\\item[\\$lines] 48\n",
       "\\item[\\$`for`] 49\n",
       "\\item[\\$example] 50\n",
       "\\item[\\$`if`] 51\n",
       "\\item[\\$there] 52\n",
       "\\item[\\$were] 53\n",
       "\\item[\\$two] 54\n",
       "\\item[\\$rows] 55\n",
       "\\item[\\$with] 58\n",
       "\\item[\\$six] 59\n",
       "\\item[\\$per] 61\n",
       "\\item[\\$row] \\begin{enumerate*}\n",
       "\\item 62\n",
       "\\item 65\n",
       "\\end{enumerate*}\n",
       "\n",
       "\\item[\\$second] 64\n",
       "\\item[\\$would] 66\n",
       "\\item[\\$be] 67\n",
       "\\item[\\$labeled] 68\n",
       "\\end{description}\n"
      ],
      "text/markdown": [
       "$the\n",
       ":   1. 1\n",
       "2. 5\n",
       "3. 63\n",
       "\n",
       "\n",
       "\n",
       "$here\n",
       ":   2\n",
       "$means\n",
       ":   3\n",
       "$that\n",
       ":   1. 4\n",
       "2. 40\n",
       "\n",
       "\n",
       "\n",
       "$first\n",
       ":   6\n",
       "$item\n",
       ":   1. 7\n",
       "2. 14\n",
       "3. 27\n",
       "\n",
       "\n",
       "\n",
       "$`in`\n",
       ":   1. 8\n",
       "2. 15\n",
       "\n",
       "\n",
       "\n",
       "$this\n",
       ":   1. 9\n",
       "2. 16\n",
       "3. 29\n",
       "4. 33\n",
       "\n",
       "\n",
       "\n",
       "$line\n",
       ":   1. 10\n",
       "2. 24\n",
       "\n",
       "\n",
       "\n",
       "$of\n",
       ":   1. 11\n",
       "2. 21\n",
       "3. 42\n",
       "4. 56\n",
       "\n",
       "\n",
       "\n",
       "$output\n",
       ":   1. 12\n",
       "2. 19\n",
       "3. 39\n",
       "4. 57\n",
       "\n",
       "\n",
       "\n",
       "$is\n",
       ":   1. 13\n",
       "2. 30\n",
       "\n",
       "\n",
       "\n",
       "$case\n",
       ":   17\n",
       "$our\n",
       ":   18\n",
       "$consists\n",
       ":   1. 20\n",
       "2. 41\n",
       "\n",
       "\n",
       "\n",
       "$only\n",
       ":   22\n",
       "$one\n",
       ":   1. 23\n",
       "2. 26\n",
       "\n",
       "\n",
       "\n",
       "$and\n",
       ":   25\n",
       "$so\n",
       ":   28\n",
       "$redundant\n",
       ":   31\n",
       "$but\n",
       ":   32\n",
       "$notation\n",
       ":   34\n",
       "$helps\n",
       ":   35\n",
       "$to\n",
       ":   36\n",
       "$read\n",
       ":   37\n",
       "$voluminous\n",
       ":   38\n",
       "$many\n",
       ":   1. 43\n",
       "2. 47\n",
       "\n",
       "\n",
       "\n",
       "$items\n",
       ":   1. 44\n",
       "2. 60\n",
       "\n",
       "\n",
       "\n",
       "$spread\n",
       ":   45\n",
       "$over\n",
       ":   46\n",
       "$lines\n",
       ":   48\n",
       "$`for`\n",
       ":   49\n",
       "$example\n",
       ":   50\n",
       "$`if`\n",
       ":   51\n",
       "$there\n",
       ":   52\n",
       "$were\n",
       ":   53\n",
       "$two\n",
       ":   54\n",
       "$rows\n",
       ":   55\n",
       "$with\n",
       ":   58\n",
       "$six\n",
       ":   59\n",
       "$per\n",
       ":   61\n",
       "$row\n",
       ":   1. 62\n",
       "2. 65\n",
       "\n",
       "\n",
       "\n",
       "$second\n",
       ":   64\n",
       "$would\n",
       ":   66\n",
       "$be\n",
       ":   67\n",
       "$labeled\n",
       ":   68\n",
       "\n",
       "\n"
      ],
      "text/plain": [
       "$the\n",
       "[1]  1  5 63\n",
       "\n",
       "$here\n",
       "[1] 2\n",
       "\n",
       "$means\n",
       "[1] 3\n",
       "\n",
       "$that\n",
       "[1]  4 40\n",
       "\n",
       "$first\n",
       "[1] 6\n",
       "\n",
       "$item\n",
       "[1]  7 14 27\n",
       "\n",
       "$`in`\n",
       "[1]  8 15\n",
       "\n",
       "$this\n",
       "[1]  9 16 29 33\n",
       "\n",
       "$line\n",
       "[1] 10 24\n",
       "\n",
       "$of\n",
       "[1] 11 21 42 56\n",
       "\n",
       "$output\n",
       "[1] 12 19 39 57\n",
       "\n",
       "$is\n",
       "[1] 13 30\n",
       "\n",
       "$case\n",
       "[1] 17\n",
       "\n",
       "$our\n",
       "[1] 18\n",
       "\n",
       "$consists\n",
       "[1] 20 41\n",
       "\n",
       "$only\n",
       "[1] 22\n",
       "\n",
       "$one\n",
       "[1] 23 26\n",
       "\n",
       "$and\n",
       "[1] 25\n",
       "\n",
       "$so\n",
       "[1] 28\n",
       "\n",
       "$redundant\n",
       "[1] 31\n",
       "\n",
       "$but\n",
       "[1] 32\n",
       "\n",
       "$notation\n",
       "[1] 34\n",
       "\n",
       "$helps\n",
       "[1] 35\n",
       "\n",
       "$to\n",
       "[1] 36\n",
       "\n",
       "$read\n",
       "[1] 37\n",
       "\n",
       "$voluminous\n",
       "[1] 38\n",
       "\n",
       "$many\n",
       "[1] 43 47\n",
       "\n",
       "$items\n",
       "[1] 44 60\n",
       "\n",
       "$spread\n",
       "[1] 45\n",
       "\n",
       "$over\n",
       "[1] 46\n",
       "\n",
       "$lines\n",
       "[1] 48\n",
       "\n",
       "$`for`\n",
       "[1] 49\n",
       "\n",
       "$example\n",
       "[1] 50\n",
       "\n",
       "$`if`\n",
       "[1] 51\n",
       "\n",
       "$there\n",
       "[1] 52\n",
       "\n",
       "$were\n",
       "[1] 53\n",
       "\n",
       "$two\n",
       "[1] 54\n",
       "\n",
       "$rows\n",
       "[1] 55\n",
       "\n",
       "$with\n",
       "[1] 58\n",
       "\n",
       "$six\n",
       "[1] 59\n",
       "\n",
       "$per\n",
       "[1] 61\n",
       "\n",
       "$row\n",
       "[1] 62 65\n",
       "\n",
       "$second\n",
       "[1] 64\n",
       "\n",
       "$would\n",
       "[1] 66\n",
       "\n",
       "$be\n",
       "[1] 67\n",
       "\n",
       "$labeled\n",
       "[1] 68\n"
      ]
     },
     "metadata": {},
     "output_type": "display_data"
    }
   ],
   "source": [
    "findwords <- function(tf){\n",
    "    # read in the words from the file, into a\n",
    "    # vector of a mode character\n",
    "    txt <- scan(tf, \"\")\n",
    "    wl <- list()\n",
    "    for(i in 1:length(txt)){\n",
    "        wrd <- txt[i]  # the word in input file\n",
    "        wl[[wrd]] <- c(wl[[wrd]], i)\n",
    "    }\n",
    "    return(wl)\n",
    "}\n",
    "\n",
    "wl <- findwords('./data//testconcorda.txt')\n",
    "wl"
   ]
  },
  {
   "cell_type": "markdown",
   "metadata": {},
   "source": [
    "### 4.3 获取列表内容(Accessing List Components and Values)\n"
   ]
  },
  {
   "cell_type": "code",
   "execution_count": 27,
   "metadata": {
    "ExecuteTime": {
     "end_time": "2018-05-26T15:56:24.955629Z",
     "start_time": "2018-05-26T15:56:24.007Z"
    }
   },
   "outputs": [
    {
     "data": {
      "text/html": [
       "<dl>\n",
       "\t<dt>$name</dt>\n",
       "\t\t<dd>'Joe'</dd>\n",
       "\t<dt>$salary</dt>\n",
       "\t\t<dd>55000</dd>\n",
       "\t<dt>$union</dt>\n",
       "\t\t<dd>TRUE</dd>\n",
       "</dl>\n"
      ],
      "text/latex": [
       "\\begin{description}\n",
       "\\item[\\$name] 'Joe'\n",
       "\\item[\\$salary] 55000\n",
       "\\item[\\$union] TRUE\n",
       "\\end{description}\n"
      ],
      "text/markdown": [
       "$name\n",
       ":   'Joe'\n",
       "$salary\n",
       ":   55000\n",
       "$union\n",
       ":   TRUE\n",
       "\n",
       "\n"
      ],
      "text/plain": [
       "$name\n",
       "[1] \"Joe\"\n",
       "\n",
       "$salary\n",
       "[1] 55000\n",
       "\n",
       "$union\n",
       "[1] TRUE\n"
      ]
     },
     "metadata": {},
     "output_type": "display_data"
    }
   ],
   "source": [
    "# 公司职员信息的例子\n",
    "j <- list(name=\"Joe\", salary=55000, union=TRUE)\n",
    "j"
   ]
  },
  {
   "cell_type": "code",
   "execution_count": 28,
   "metadata": {
    "ExecuteTime": {
     "end_time": "2018-05-26T15:56:24.975698Z",
     "start_time": "2018-05-26T15:56:24.010Z"
    }
   },
   "outputs": [
    {
     "data": {
      "text/html": [
       "<ol class=list-inline>\n",
       "\t<li>'name'</li>\n",
       "\t<li>'salary'</li>\n",
       "\t<li>'union'</li>\n",
       "</ol>\n"
      ],
      "text/latex": [
       "\\begin{enumerate*}\n",
       "\\item 'name'\n",
       "\\item 'salary'\n",
       "\\item 'union'\n",
       "\\end{enumerate*}\n"
      ],
      "text/markdown": [
       "1. 'name'\n",
       "2. 'salary'\n",
       "3. 'union'\n",
       "\n",
       "\n"
      ],
      "text/plain": [
       "[1] \"name\"   \"salary\" \"union\" "
      ]
     },
     "metadata": {},
     "output_type": "display_data"
    }
   ],
   "source": [
    "# 有tags的时候，可以使用names()获取所有标签名\n",
    "names(j)"
   ]
  },
  {
   "cell_type": "code",
   "execution_count": 29,
   "metadata": {
    "ExecuteTime": {
     "end_time": "2018-05-26T15:56:24.999544Z",
     "start_time": "2018-05-26T15:56:24.013Z"
    }
   },
   "outputs": [
    {
     "data": {
      "text/html": [
       "<dl class=dl-horizontal>\n",
       "\t<dt>name</dt>\n",
       "\t\t<dd>'Joe'</dd>\n",
       "\t<dt>salary</dt>\n",
       "\t\t<dd>'55000'</dd>\n",
       "\t<dt>union</dt>\n",
       "\t\t<dd>'TRUE'</dd>\n",
       "</dl>\n"
      ],
      "text/latex": [
       "\\begin{description*}\n",
       "\\item[name] 'Joe'\n",
       "\\item[salary] '55000'\n",
       "\\item[union] 'TRUE'\n",
       "\\end{description*}\n"
      ],
      "text/markdown": [
       "name\n",
       ":   'Joe'salary\n",
       ":   '55000'union\n",
       ":   'TRUE'\n",
       "\n"
      ],
      "text/plain": [
       "   name  salary   union \n",
       "  \"Joe\" \"55000\"  \"TRUE\" "
      ]
     },
     "metadata": {},
     "output_type": "display_data"
    }
   ],
   "source": [
    "# 使用unlist获取list的values\n",
    "ulj <- unlist(j)\n",
    "ulj"
   ]
  },
  {
   "cell_type": "code",
   "execution_count": 30,
   "metadata": {
    "ExecuteTime": {
     "end_time": "2018-05-26T15:56:25.022230Z",
     "start_time": "2018-05-26T15:56:24.019Z"
    }
   },
   "outputs": [
    {
     "data": {
      "text/html": [
       "'character'"
      ],
      "text/latex": [
       "'character'"
      ],
      "text/markdown": [
       "'character'"
      ],
      "text/plain": [
       "[1] \"character\""
      ]
     },
     "metadata": {},
     "output_type": "display_data"
    }
   ],
   "source": [
    "class(ulj)"
   ]
  },
  {
   "cell_type": "code",
   "execution_count": 31,
   "metadata": {
    "ExecuteTime": {
     "end_time": "2018-05-26T15:56:25.042562Z",
     "start_time": "2018-05-26T15:56:24.023Z"
    }
   },
   "outputs": [
    {
     "data": {
      "text/html": [
       "TRUE"
      ],
      "text/latex": [
       "TRUE"
      ],
      "text/markdown": [
       "TRUE"
      ],
      "text/plain": [
       "[1] TRUE"
      ]
     },
     "metadata": {},
     "output_type": "display_data"
    }
   ],
   "source": [
    "is.vector(ulj)"
   ]
  },
  {
   "cell_type": "code",
   "execution_count": 32,
   "metadata": {
    "ExecuteTime": {
     "end_time": "2018-05-26T15:56:25.072065Z",
     "start_time": "2018-05-26T15:56:24.028Z"
    }
   },
   "outputs": [
    {
     "data": {
      "text/html": [
       "FALSE"
      ],
      "text/latex": [
       "FALSE"
      ],
      "text/markdown": [
       "FALSE"
      ],
      "text/plain": [
       "[1] FALSE"
      ]
     },
     "metadata": {},
     "output_type": "display_data"
    }
   ],
   "source": [
    "is.list(ulj)"
   ]
  },
  {
   "cell_type": "markdown",
   "metadata": {},
   "source": [
    "可以看到`unlist()`返回的是一个`vector`，在这里是一个字符串向量。\n",
    "另外注意，这里向量的元素会自动命名，名字为之前`list`中对应成分的名字。"
   ]
  },
  {
   "cell_type": "code",
   "execution_count": 33,
   "metadata": {
    "ExecuteTime": {
     "end_time": "2018-05-26T15:56:25.094444Z",
     "start_time": "2018-05-26T15:56:24.031Z"
    }
   },
   "outputs": [
    {
     "data": {
      "text/html": [
       "<dl class=dl-horizontal>\n",
       "\t<dt>a</dt>\n",
       "\t\t<dd>5</dd>\n",
       "\t<dt>b</dt>\n",
       "\t\t<dd>12</dd>\n",
       "\t<dt>c</dt>\n",
       "\t\t<dd>13</dd>\n",
       "</dl>\n"
      ],
      "text/latex": [
       "\\begin{description*}\n",
       "\\item[a] 5\n",
       "\\item[b] 12\n",
       "\\item[c] 13\n",
       "\\end{description*}\n"
      ],
      "text/markdown": [
       "a\n",
       ":   5b\n",
       ":   12c\n",
       ":   13\n",
       "\n"
      ],
      "text/plain": [
       " a  b  c \n",
       " 5 12 13 "
      ]
     },
     "metadata": {},
     "output_type": "display_data"
    }
   ],
   "source": [
    "# 如果原来的list包含的数据是数值型的，\n",
    "# 那么unlist返回的向量也是数值型的\n",
    "z <- list(a=5, b=12, c=13)\n",
    "y <- unlist(z)\n",
    "y"
   ]
  },
  {
   "cell_type": "code",
   "execution_count": 34,
   "metadata": {
    "ExecuteTime": {
     "end_time": "2018-05-26T15:56:25.116666Z",
     "start_time": "2018-05-26T15:56:24.034Z"
    }
   },
   "outputs": [
    {
     "data": {
      "text/html": [
       "'numeric'"
      ],
      "text/latex": [
       "'numeric'"
      ],
      "text/markdown": [
       "'numeric'"
      ],
      "text/plain": [
       "[1] \"numeric\""
      ]
     },
     "metadata": {},
     "output_type": "display_data"
    }
   ],
   "source": [
    "class(y)"
   ]
  },
  {
   "cell_type": "markdown",
   "metadata": {},
   "source": [
    "注意，当list包含的数据类型不唯一时，因为`vector`的类型必须是一致的，\n",
    "`unlist()`会强制进行转换并返回包容性更强数据类型（原文类比为:\n",
    "`least common denominator`）。\n",
    "\n",
    "查看`unlist()`的文档可以发现类型间的层次关系为：\n",
    "`NULL < raw < logical < integer < real < complex < character < list < expression`. 具体参考下面的例子。"
   ]
  },
  {
   "cell_type": "code",
   "execution_count": 35,
   "metadata": {
    "ExecuteTime": {
     "end_time": "2018-05-26T15:56:25.148778Z",
     "start_time": "2018-05-26T15:56:24.039Z"
    }
   },
   "outputs": [
    {
     "data": {
      "text/html": [
       "<dl>\n",
       "\t<dt>$c</dt>\n",
       "\t\t<dd>1+2i</dd>\n",
       "\t<dt>$r</dt>\n",
       "\t\t<dd>2</dd>\n",
       "</dl>\n"
      ],
      "text/latex": [
       "\\begin{description}\n",
       "\\item[\\$c] 1+2i\n",
       "\\item[\\$r] 2\n",
       "\\end{description}\n"
      ],
      "text/markdown": [
       "$c\n",
       ":   1+2i\n",
       "$r\n",
       ":   2\n",
       "\n",
       "\n"
      ],
      "text/plain": [
       "$c\n",
       "[1] 1+2i\n",
       "\n",
       "$r\n",
       "[1] 2\n"
      ]
     },
     "metadata": {},
     "output_type": "display_data"
    }
   ],
   "source": [
    "# list同时含有real和complex类型的数据\n",
    "# unlist返回的vector为complex\n",
    "num  <- list(c=1+2i, r = 2)\n",
    "num"
   ]
  },
  {
   "cell_type": "code",
   "execution_count": 36,
   "metadata": {
    "ExecuteTime": {
     "end_time": "2018-05-26T15:56:25.168779Z",
     "start_time": "2018-05-26T15:56:24.043Z"
    },
    "scrolled": true
   },
   "outputs": [
    {
     "data": {
      "text/html": [
       "<dl class=dl-horizontal>\n",
       "\t<dt>c</dt>\n",
       "\t\t<dd>1+2i</dd>\n",
       "\t<dt>r</dt>\n",
       "\t\t<dd>2+0i</dd>\n",
       "</dl>\n"
      ],
      "text/latex": [
       "\\begin{description*}\n",
       "\\item[c] 1+2i\n",
       "\\item[r] 2+0i\n",
       "\\end{description*}\n"
      ],
      "text/markdown": [
       "c\n",
       ":   1+2ir\n",
       ":   2+0i\n",
       "\n"
      ],
      "text/plain": [
       "   c    r \n",
       "1+2i 2+0i"
      ]
     },
     "metadata": {},
     "output_type": "display_data"
    }
   ],
   "source": [
    "num.uls <- unlist(num)\n",
    "num.uls"
   ]
  },
  {
   "cell_type": "code",
   "execution_count": 37,
   "metadata": {
    "ExecuteTime": {
     "end_time": "2018-05-26T15:56:25.188306Z",
     "start_time": "2018-05-26T15:56:24.047Z"
    }
   },
   "outputs": [
    {
     "data": {
      "text/html": [
       "'complex'"
      ],
      "text/latex": [
       "'complex'"
      ],
      "text/markdown": [
       "'complex'"
      ],
      "text/plain": [
       "[1] \"complex\""
      ]
     },
     "metadata": {},
     "output_type": "display_data"
    }
   ],
   "source": [
    "class(num.uls)"
   ]
  },
  {
   "cell_type": "code",
   "execution_count": 38,
   "metadata": {
    "ExecuteTime": {
     "end_time": "2018-05-26T15:56:25.211295Z",
     "start_time": "2018-05-26T15:56:24.049Z"
    }
   },
   "outputs": [
    {
     "data": {
      "text/html": [
       "<dl>\n",
       "\t<dt>$a</dt>\n",
       "\t\t<dd>5</dd>\n",
       "\t<dt>$b</dt>\n",
       "\t\t<dd>'xyz'</dd>\n",
       "</dl>\n"
      ],
      "text/latex": [
       "\\begin{description}\n",
       "\\item[\\$a] 5\n",
       "\\item[\\$b] 'xyz'\n",
       "\\end{description}\n"
      ],
      "text/markdown": [
       "$a\n",
       ":   5\n",
       "$b\n",
       ":   'xyz'\n",
       "\n",
       "\n"
      ],
      "text/plain": [
       "$a\n",
       "[1] 5\n",
       "\n",
       "$b\n",
       "[1] \"xyz\"\n"
      ]
     },
     "metadata": {},
     "output_type": "display_data"
    }
   ],
   "source": [
    "# list同时含有numeric和character类型的数据\n",
    "# unlist返回的vector为character\n",
    "w <- list(a=5, b=\"xyz\")\n",
    "w"
   ]
  },
  {
   "cell_type": "code",
   "execution_count": 39,
   "metadata": {
    "ExecuteTime": {
     "end_time": "2018-05-26T15:56:25.232343Z",
     "start_time": "2018-05-26T15:56:24.053Z"
    }
   },
   "outputs": [
    {
     "data": {
      "text/html": [
       "<dl class=dl-horizontal>\n",
       "\t<dt>a</dt>\n",
       "\t\t<dd>'5'</dd>\n",
       "\t<dt>b</dt>\n",
       "\t\t<dd>'xyz'</dd>\n",
       "</dl>\n"
      ],
      "text/latex": [
       "\\begin{description*}\n",
       "\\item[a] '5'\n",
       "\\item[b] 'xyz'\n",
       "\\end{description*}\n"
      ],
      "text/markdown": [
       "a\n",
       ":   '5'b\n",
       ":   'xyz'\n",
       "\n"
      ],
      "text/plain": [
       "    a     b \n",
       "  \"5\" \"xyz\" "
      ]
     },
     "metadata": {},
     "output_type": "display_data"
    }
   ],
   "source": [
    "wu <- unlist(w)\n",
    "wu"
   ]
  },
  {
   "cell_type": "code",
   "execution_count": 40,
   "metadata": {
    "ExecuteTime": {
     "end_time": "2018-05-26T15:56:25.252965Z",
     "start_time": "2018-05-26T15:56:24.058Z"
    }
   },
   "outputs": [
    {
     "data": {
      "text/html": [
       "'character'"
      ],
      "text/latex": [
       "'character'"
      ],
      "text/markdown": [
       "'character'"
      ],
      "text/plain": [
       "[1] \"character\""
      ]
     },
     "metadata": {},
     "output_type": "display_data"
    }
   ],
   "source": [
    "class(wu)"
   ]
  },
  {
   "cell_type": "markdown",
   "metadata": {},
   "source": [
    "### 4.4 将函数应用到列表(Applying Functions to Lists)\n",
    "\n",
    "`lapply`和`sapply`是两个很好用的函数。"
   ]
  },
  {
   "cell_type": "markdown",
   "metadata": {},
   "source": [
    "#### 4.4.1 使用lapply与sapply(Using the lapply() and sapply() Functions)\n",
    "\n",
    "`lapply`可以看作`list apply`，它和`matrix`的`apply`函数\n",
    "类似。它应用函数到列表的各个成分，并返回一个新的列表。"
   ]
  },
  {
   "cell_type": "code",
   "execution_count": 41,
   "metadata": {
    "ExecuteTime": {
     "end_time": "2018-05-26T15:56:25.271639Z",
     "start_time": "2018-05-26T15:56:24.060Z"
    }
   },
   "outputs": [
    {
     "data": {
      "text/html": [
       "<ol>\n",
       "\t<li>2</li>\n",
       "\t<li>27</li>\n",
       "</ol>\n"
      ],
      "text/latex": [
       "\\begin{enumerate}\n",
       "\\item 2\n",
       "\\item 27\n",
       "\\end{enumerate}\n"
      ],
      "text/markdown": [
       "1. 2\n",
       "2. 27\n",
       "\n",
       "\n"
      ],
      "text/plain": [
       "[[1]]\n",
       "[1] 2\n",
       "\n",
       "[[2]]\n",
       "[1] 27\n"
      ]
     },
     "metadata": {},
     "output_type": "display_data"
    }
   ],
   "source": [
    "lapply(list(1:3, 25:29), median)"
   ]
  },
  {
   "cell_type": "markdown",
   "metadata": {},
   "source": [
    "有时候，我们并不需要上述返回的结果是一个`list`的形式，比如我们想\n",
    "要结果是`vector`的形式，当然我们可以使用`lapply`得到`list`后再将\n",
    "其转化为`vector`格式，不过R为我们提供了一个专门的函数来完成这个任务。\n",
    "即为`sapply`(`simplified [l]apply`),它的作用和`lapply`一样，\n",
    "只不过返回的结果是`vector`"
   ]
  },
  {
   "cell_type": "code",
   "execution_count": 42,
   "metadata": {
    "ExecuteTime": {
     "end_time": "2018-05-26T15:56:25.294021Z",
     "start_time": "2018-05-26T15:56:24.065Z"
    }
   },
   "outputs": [
    {
     "data": {
      "text/html": [
       "<ol class=list-inline>\n",
       "\t<li>2</li>\n",
       "\t<li>27</li>\n",
       "</ol>\n"
      ],
      "text/latex": [
       "\\begin{enumerate*}\n",
       "\\item 2\n",
       "\\item 27\n",
       "\\end{enumerate*}\n"
      ],
      "text/markdown": [
       "1. 2\n",
       "2. 27\n",
       "\n",
       "\n"
      ],
      "text/plain": [
       "[1]  2 27"
      ]
     },
     "metadata": {},
     "output_type": "display_data"
    }
   ],
   "source": [
    "sapply(list(1:3, 25:29), median)"
   ]
  },
  {
   "cell_type": "markdown",
   "metadata": {},
   "source": [
    "#### 4.4.2 拓展：文本索引[承上] (Extended Example: Text Concordance, Continued)"
   ]
  },
  {
   "cell_type": "code",
   "execution_count": 45,
   "metadata": {
    "ExecuteTime": {
     "end_time": "2018-05-27T03:47:22.234823Z",
     "start_time": "2018-05-27T03:47:22.183Z"
    }
   },
   "outputs": [
    {
     "data": {
      "text/html": [
       "<dl>\n",
       "\t<dt>$the</dt>\n",
       "\t\t<dd><ol class=list-inline>\n",
       "\t<li>1</li>\n",
       "\t<li>5</li>\n",
       "\t<li>63</li>\n",
       "</ol>\n",
       "</dd>\n",
       "\t<dt>$here</dt>\n",
       "\t\t<dd>2</dd>\n",
       "\t<dt>$means</dt>\n",
       "\t\t<dd>3</dd>\n",
       "\t<dt>$that</dt>\n",
       "\t\t<dd><ol class=list-inline>\n",
       "\t<li>4</li>\n",
       "\t<li>40</li>\n",
       "</ol>\n",
       "</dd>\n",
       "\t<dt>$first</dt>\n",
       "\t\t<dd>6</dd>\n",
       "\t<dt>$item</dt>\n",
       "\t\t<dd><ol class=list-inline>\n",
       "\t<li>7</li>\n",
       "\t<li>14</li>\n",
       "\t<li>27</li>\n",
       "</ol>\n",
       "</dd>\n",
       "\t<dt>$`in`</dt>\n",
       "\t\t<dd><ol class=list-inline>\n",
       "\t<li>8</li>\n",
       "\t<li>15</li>\n",
       "</ol>\n",
       "</dd>\n",
       "\t<dt>$this</dt>\n",
       "\t\t<dd><ol class=list-inline>\n",
       "\t<li>9</li>\n",
       "\t<li>16</li>\n",
       "\t<li>29</li>\n",
       "\t<li>33</li>\n",
       "</ol>\n",
       "</dd>\n",
       "\t<dt>$line</dt>\n",
       "\t\t<dd><ol class=list-inline>\n",
       "\t<li>10</li>\n",
       "\t<li>24</li>\n",
       "</ol>\n",
       "</dd>\n",
       "\t<dt>$of</dt>\n",
       "\t\t<dd><ol class=list-inline>\n",
       "\t<li>11</li>\n",
       "\t<li>21</li>\n",
       "\t<li>42</li>\n",
       "\t<li>56</li>\n",
       "</ol>\n",
       "</dd>\n",
       "\t<dt>$output</dt>\n",
       "\t\t<dd><ol class=list-inline>\n",
       "\t<li>12</li>\n",
       "\t<li>19</li>\n",
       "\t<li>39</li>\n",
       "\t<li>57</li>\n",
       "</ol>\n",
       "</dd>\n",
       "\t<dt>$is</dt>\n",
       "\t\t<dd><ol class=list-inline>\n",
       "\t<li>13</li>\n",
       "\t<li>30</li>\n",
       "</ol>\n",
       "</dd>\n",
       "\t<dt>$case</dt>\n",
       "\t\t<dd>17</dd>\n",
       "\t<dt>$our</dt>\n",
       "\t\t<dd>18</dd>\n",
       "\t<dt>$consists</dt>\n",
       "\t\t<dd><ol class=list-inline>\n",
       "\t<li>20</li>\n",
       "\t<li>41</li>\n",
       "</ol>\n",
       "</dd>\n",
       "\t<dt>$only</dt>\n",
       "\t\t<dd>22</dd>\n",
       "\t<dt>$one</dt>\n",
       "\t\t<dd><ol class=list-inline>\n",
       "\t<li>23</li>\n",
       "\t<li>26</li>\n",
       "</ol>\n",
       "</dd>\n",
       "\t<dt>$and</dt>\n",
       "\t\t<dd>25</dd>\n",
       "\t<dt>$so</dt>\n",
       "\t\t<dd>28</dd>\n",
       "\t<dt>$redundant</dt>\n",
       "\t\t<dd>31</dd>\n",
       "\t<dt>$but</dt>\n",
       "\t\t<dd>32</dd>\n",
       "\t<dt>$notation</dt>\n",
       "\t\t<dd>34</dd>\n",
       "\t<dt>$helps</dt>\n",
       "\t\t<dd>35</dd>\n",
       "\t<dt>$to</dt>\n",
       "\t\t<dd>36</dd>\n",
       "\t<dt>$read</dt>\n",
       "\t\t<dd>37</dd>\n",
       "\t<dt>$voluminous</dt>\n",
       "\t\t<dd>38</dd>\n",
       "\t<dt>$many</dt>\n",
       "\t\t<dd><ol class=list-inline>\n",
       "\t<li>43</li>\n",
       "\t<li>47</li>\n",
       "</ol>\n",
       "</dd>\n",
       "\t<dt>$items</dt>\n",
       "\t\t<dd><ol class=list-inline>\n",
       "\t<li>44</li>\n",
       "\t<li>60</li>\n",
       "</ol>\n",
       "</dd>\n",
       "\t<dt>$spread</dt>\n",
       "\t\t<dd>45</dd>\n",
       "\t<dt>$over</dt>\n",
       "\t\t<dd>46</dd>\n",
       "\t<dt>$lines</dt>\n",
       "\t\t<dd>48</dd>\n",
       "\t<dt>$`for`</dt>\n",
       "\t\t<dd>49</dd>\n",
       "\t<dt>$example</dt>\n",
       "\t\t<dd>50</dd>\n",
       "\t<dt>$`if`</dt>\n",
       "\t\t<dd>51</dd>\n",
       "\t<dt>$there</dt>\n",
       "\t\t<dd>52</dd>\n",
       "\t<dt>$were</dt>\n",
       "\t\t<dd>53</dd>\n",
       "\t<dt>$two</dt>\n",
       "\t\t<dd>54</dd>\n",
       "\t<dt>$rows</dt>\n",
       "\t\t<dd>55</dd>\n",
       "\t<dt>$with</dt>\n",
       "\t\t<dd>58</dd>\n",
       "\t<dt>$six</dt>\n",
       "\t\t<dd>59</dd>\n",
       "\t<dt>$per</dt>\n",
       "\t\t<dd>61</dd>\n",
       "\t<dt>$row</dt>\n",
       "\t\t<dd><ol class=list-inline>\n",
       "\t<li>62</li>\n",
       "\t<li>65</li>\n",
       "</ol>\n",
       "</dd>\n",
       "\t<dt>$second</dt>\n",
       "\t\t<dd>64</dd>\n",
       "\t<dt>$would</dt>\n",
       "\t\t<dd>66</dd>\n",
       "\t<dt>$be</dt>\n",
       "\t\t<dd>67</dd>\n",
       "\t<dt>$labeled</dt>\n",
       "\t\t<dd>68</dd>\n",
       "</dl>\n"
      ],
      "text/latex": [
       "\\begin{description}\n",
       "\\item[\\$the] \\begin{enumerate*}\n",
       "\\item 1\n",
       "\\item 5\n",
       "\\item 63\n",
       "\\end{enumerate*}\n",
       "\n",
       "\\item[\\$here] 2\n",
       "\\item[\\$means] 3\n",
       "\\item[\\$that] \\begin{enumerate*}\n",
       "\\item 4\n",
       "\\item 40\n",
       "\\end{enumerate*}\n",
       "\n",
       "\\item[\\$first] 6\n",
       "\\item[\\$item] \\begin{enumerate*}\n",
       "\\item 7\n",
       "\\item 14\n",
       "\\item 27\n",
       "\\end{enumerate*}\n",
       "\n",
       "\\item[\\$`in`] \\begin{enumerate*}\n",
       "\\item 8\n",
       "\\item 15\n",
       "\\end{enumerate*}\n",
       "\n",
       "\\item[\\$this] \\begin{enumerate*}\n",
       "\\item 9\n",
       "\\item 16\n",
       "\\item 29\n",
       "\\item 33\n",
       "\\end{enumerate*}\n",
       "\n",
       "\\item[\\$line] \\begin{enumerate*}\n",
       "\\item 10\n",
       "\\item 24\n",
       "\\end{enumerate*}\n",
       "\n",
       "\\item[\\$of] \\begin{enumerate*}\n",
       "\\item 11\n",
       "\\item 21\n",
       "\\item 42\n",
       "\\item 56\n",
       "\\end{enumerate*}\n",
       "\n",
       "\\item[\\$output] \\begin{enumerate*}\n",
       "\\item 12\n",
       "\\item 19\n",
       "\\item 39\n",
       "\\item 57\n",
       "\\end{enumerate*}\n",
       "\n",
       "\\item[\\$is] \\begin{enumerate*}\n",
       "\\item 13\n",
       "\\item 30\n",
       "\\end{enumerate*}\n",
       "\n",
       "\\item[\\$case] 17\n",
       "\\item[\\$our] 18\n",
       "\\item[\\$consists] \\begin{enumerate*}\n",
       "\\item 20\n",
       "\\item 41\n",
       "\\end{enumerate*}\n",
       "\n",
       "\\item[\\$only] 22\n",
       "\\item[\\$one] \\begin{enumerate*}\n",
       "\\item 23\n",
       "\\item 26\n",
       "\\end{enumerate*}\n",
       "\n",
       "\\item[\\$and] 25\n",
       "\\item[\\$so] 28\n",
       "\\item[\\$redundant] 31\n",
       "\\item[\\$but] 32\n",
       "\\item[\\$notation] 34\n",
       "\\item[\\$helps] 35\n",
       "\\item[\\$to] 36\n",
       "\\item[\\$read] 37\n",
       "\\item[\\$voluminous] 38\n",
       "\\item[\\$many] \\begin{enumerate*}\n",
       "\\item 43\n",
       "\\item 47\n",
       "\\end{enumerate*}\n",
       "\n",
       "\\item[\\$items] \\begin{enumerate*}\n",
       "\\item 44\n",
       "\\item 60\n",
       "\\end{enumerate*}\n",
       "\n",
       "\\item[\\$spread] 45\n",
       "\\item[\\$over] 46\n",
       "\\item[\\$lines] 48\n",
       "\\item[\\$`for`] 49\n",
       "\\item[\\$example] 50\n",
       "\\item[\\$`if`] 51\n",
       "\\item[\\$there] 52\n",
       "\\item[\\$were] 53\n",
       "\\item[\\$two] 54\n",
       "\\item[\\$rows] 55\n",
       "\\item[\\$with] 58\n",
       "\\item[\\$six] 59\n",
       "\\item[\\$per] 61\n",
       "\\item[\\$row] \\begin{enumerate*}\n",
       "\\item 62\n",
       "\\item 65\n",
       "\\end{enumerate*}\n",
       "\n",
       "\\item[\\$second] 64\n",
       "\\item[\\$would] 66\n",
       "\\item[\\$be] 67\n",
       "\\item[\\$labeled] 68\n",
       "\\end{description}\n"
      ],
      "text/markdown": [
       "$the\n",
       ":   1. 1\n",
       "2. 5\n",
       "3. 63\n",
       "\n",
       "\n",
       "\n",
       "$here\n",
       ":   2\n",
       "$means\n",
       ":   3\n",
       "$that\n",
       ":   1. 4\n",
       "2. 40\n",
       "\n",
       "\n",
       "\n",
       "$first\n",
       ":   6\n",
       "$item\n",
       ":   1. 7\n",
       "2. 14\n",
       "3. 27\n",
       "\n",
       "\n",
       "\n",
       "$`in`\n",
       ":   1. 8\n",
       "2. 15\n",
       "\n",
       "\n",
       "\n",
       "$this\n",
       ":   1. 9\n",
       "2. 16\n",
       "3. 29\n",
       "4. 33\n",
       "\n",
       "\n",
       "\n",
       "$line\n",
       ":   1. 10\n",
       "2. 24\n",
       "\n",
       "\n",
       "\n",
       "$of\n",
       ":   1. 11\n",
       "2. 21\n",
       "3. 42\n",
       "4. 56\n",
       "\n",
       "\n",
       "\n",
       "$output\n",
       ":   1. 12\n",
       "2. 19\n",
       "3. 39\n",
       "4. 57\n",
       "\n",
       "\n",
       "\n",
       "$is\n",
       ":   1. 13\n",
       "2. 30\n",
       "\n",
       "\n",
       "\n",
       "$case\n",
       ":   17\n",
       "$our\n",
       ":   18\n",
       "$consists\n",
       ":   1. 20\n",
       "2. 41\n",
       "\n",
       "\n",
       "\n",
       "$only\n",
       ":   22\n",
       "$one\n",
       ":   1. 23\n",
       "2. 26\n",
       "\n",
       "\n",
       "\n",
       "$and\n",
       ":   25\n",
       "$so\n",
       ":   28\n",
       "$redundant\n",
       ":   31\n",
       "$but\n",
       ":   32\n",
       "$notation\n",
       ":   34\n",
       "$helps\n",
       ":   35\n",
       "$to\n",
       ":   36\n",
       "$read\n",
       ":   37\n",
       "$voluminous\n",
       ":   38\n",
       "$many\n",
       ":   1. 43\n",
       "2. 47\n",
       "\n",
       "\n",
       "\n",
       "$items\n",
       ":   1. 44\n",
       "2. 60\n",
       "\n",
       "\n",
       "\n",
       "$spread\n",
       ":   45\n",
       "$over\n",
       ":   46\n",
       "$lines\n",
       ":   48\n",
       "$`for`\n",
       ":   49\n",
       "$example\n",
       ":   50\n",
       "$`if`\n",
       ":   51\n",
       "$there\n",
       ":   52\n",
       "$were\n",
       ":   53\n",
       "$two\n",
       ":   54\n",
       "$rows\n",
       ":   55\n",
       "$with\n",
       ":   58\n",
       "$six\n",
       ":   59\n",
       "$per\n",
       ":   61\n",
       "$row\n",
       ":   1. 62\n",
       "2. 65\n",
       "\n",
       "\n",
       "\n",
       "$second\n",
       ":   64\n",
       "$would\n",
       ":   66\n",
       "$be\n",
       ":   67\n",
       "$labeled\n",
       ":   68\n",
       "\n",
       "\n"
      ],
      "text/plain": [
       "$the\n",
       "[1]  1  5 63\n",
       "\n",
       "$here\n",
       "[1] 2\n",
       "\n",
       "$means\n",
       "[1] 3\n",
       "\n",
       "$that\n",
       "[1]  4 40\n",
       "\n",
       "$first\n",
       "[1] 6\n",
       "\n",
       "$item\n",
       "[1]  7 14 27\n",
       "\n",
       "$`in`\n",
       "[1]  8 15\n",
       "\n",
       "$this\n",
       "[1]  9 16 29 33\n",
       "\n",
       "$line\n",
       "[1] 10 24\n",
       "\n",
       "$of\n",
       "[1] 11 21 42 56\n",
       "\n",
       "$output\n",
       "[1] 12 19 39 57\n",
       "\n",
       "$is\n",
       "[1] 13 30\n",
       "\n",
       "$case\n",
       "[1] 17\n",
       "\n",
       "$our\n",
       "[1] 18\n",
       "\n",
       "$consists\n",
       "[1] 20 41\n",
       "\n",
       "$only\n",
       "[1] 22\n",
       "\n",
       "$one\n",
       "[1] 23 26\n",
       "\n",
       "$and\n",
       "[1] 25\n",
       "\n",
       "$so\n",
       "[1] 28\n",
       "\n",
       "$redundant\n",
       "[1] 31\n",
       "\n",
       "$but\n",
       "[1] 32\n",
       "\n",
       "$notation\n",
       "[1] 34\n",
       "\n",
       "$helps\n",
       "[1] 35\n",
       "\n",
       "$to\n",
       "[1] 36\n",
       "\n",
       "$read\n",
       "[1] 37\n",
       "\n",
       "$voluminous\n",
       "[1] 38\n",
       "\n",
       "$many\n",
       "[1] 43 47\n",
       "\n",
       "$items\n",
       "[1] 44 60\n",
       "\n",
       "$spread\n",
       "[1] 45\n",
       "\n",
       "$over\n",
       "[1] 46\n",
       "\n",
       "$lines\n",
       "[1] 48\n",
       "\n",
       "$`for`\n",
       "[1] 49\n",
       "\n",
       "$example\n",
       "[1] 50\n",
       "\n",
       "$`if`\n",
       "[1] 51\n",
       "\n",
       "$there\n",
       "[1] 52\n",
       "\n",
       "$were\n",
       "[1] 53\n",
       "\n",
       "$two\n",
       "[1] 54\n",
       "\n",
       "$rows\n",
       "[1] 55\n",
       "\n",
       "$with\n",
       "[1] 58\n",
       "\n",
       "$six\n",
       "[1] 59\n",
       "\n",
       "$per\n",
       "[1] 61\n",
       "\n",
       "$row\n",
       "[1] 62 65\n",
       "\n",
       "$second\n",
       "[1] 64\n",
       "\n",
       "$would\n",
       "[1] 66\n",
       "\n",
       "$be\n",
       "[1] 67\n",
       "\n",
       "$labeled\n",
       "[1] 68\n"
      ]
     },
     "metadata": {},
     "output_type": "display_data"
    }
   ],
   "source": [
    "wl"
   ]
  },
  {
   "cell_type": "code",
   "execution_count": 46,
   "metadata": {
    "ExecuteTime": {
     "end_time": "2018-05-27T03:48:51.961776Z",
     "start_time": "2018-05-27T03:48:51.917Z"
    }
   },
   "outputs": [
    {
     "data": {
      "text/html": [
       "<dl>\n",
       "\t<dt>$and</dt>\n",
       "\t\t<dd>25</dd>\n",
       "\t<dt>$be</dt>\n",
       "\t\t<dd>67</dd>\n",
       "\t<dt>$but</dt>\n",
       "\t\t<dd>32</dd>\n",
       "\t<dt>$case</dt>\n",
       "\t\t<dd>17</dd>\n",
       "\t<dt>$consists</dt>\n",
       "\t\t<dd><ol class=list-inline>\n",
       "\t<li>20</li>\n",
       "\t<li>41</li>\n",
       "</ol>\n",
       "</dd>\n",
       "\t<dt>$example</dt>\n",
       "\t\t<dd>50</dd>\n",
       "\t<dt>$first</dt>\n",
       "\t\t<dd>6</dd>\n",
       "\t<dt>$`for`</dt>\n",
       "\t\t<dd>49</dd>\n",
       "\t<dt>$helps</dt>\n",
       "\t\t<dd>35</dd>\n",
       "\t<dt>$here</dt>\n",
       "\t\t<dd>2</dd>\n",
       "\t<dt>$`if`</dt>\n",
       "\t\t<dd>51</dd>\n",
       "\t<dt>$`in`</dt>\n",
       "\t\t<dd><ol class=list-inline>\n",
       "\t<li>8</li>\n",
       "\t<li>15</li>\n",
       "</ol>\n",
       "</dd>\n",
       "\t<dt>$is</dt>\n",
       "\t\t<dd><ol class=list-inline>\n",
       "\t<li>13</li>\n",
       "\t<li>30</li>\n",
       "</ol>\n",
       "</dd>\n",
       "\t<dt>$item</dt>\n",
       "\t\t<dd><ol class=list-inline>\n",
       "\t<li>7</li>\n",
       "\t<li>14</li>\n",
       "\t<li>27</li>\n",
       "</ol>\n",
       "</dd>\n",
       "\t<dt>$items</dt>\n",
       "\t\t<dd><ol class=list-inline>\n",
       "\t<li>44</li>\n",
       "\t<li>60</li>\n",
       "</ol>\n",
       "</dd>\n",
       "\t<dt>$labeled</dt>\n",
       "\t\t<dd>68</dd>\n",
       "\t<dt>$line</dt>\n",
       "\t\t<dd><ol class=list-inline>\n",
       "\t<li>10</li>\n",
       "\t<li>24</li>\n",
       "</ol>\n",
       "</dd>\n",
       "\t<dt>$lines</dt>\n",
       "\t\t<dd>48</dd>\n",
       "\t<dt>$many</dt>\n",
       "\t\t<dd><ol class=list-inline>\n",
       "\t<li>43</li>\n",
       "\t<li>47</li>\n",
       "</ol>\n",
       "</dd>\n",
       "\t<dt>$means</dt>\n",
       "\t\t<dd>3</dd>\n",
       "\t<dt>$notation</dt>\n",
       "\t\t<dd>34</dd>\n",
       "\t<dt>$of</dt>\n",
       "\t\t<dd><ol class=list-inline>\n",
       "\t<li>11</li>\n",
       "\t<li>21</li>\n",
       "\t<li>42</li>\n",
       "\t<li>56</li>\n",
       "</ol>\n",
       "</dd>\n",
       "\t<dt>$one</dt>\n",
       "\t\t<dd><ol class=list-inline>\n",
       "\t<li>23</li>\n",
       "\t<li>26</li>\n",
       "</ol>\n",
       "</dd>\n",
       "\t<dt>$only</dt>\n",
       "\t\t<dd>22</dd>\n",
       "\t<dt>$our</dt>\n",
       "\t\t<dd>18</dd>\n",
       "\t<dt>$output</dt>\n",
       "\t\t<dd><ol class=list-inline>\n",
       "\t<li>12</li>\n",
       "\t<li>19</li>\n",
       "\t<li>39</li>\n",
       "\t<li>57</li>\n",
       "</ol>\n",
       "</dd>\n",
       "\t<dt>$over</dt>\n",
       "\t\t<dd>46</dd>\n",
       "\t<dt>$per</dt>\n",
       "\t\t<dd>61</dd>\n",
       "\t<dt>$read</dt>\n",
       "\t\t<dd>37</dd>\n",
       "\t<dt>$redundant</dt>\n",
       "\t\t<dd>31</dd>\n",
       "\t<dt>$row</dt>\n",
       "\t\t<dd><ol class=list-inline>\n",
       "\t<li>62</li>\n",
       "\t<li>65</li>\n",
       "</ol>\n",
       "</dd>\n",
       "\t<dt>$rows</dt>\n",
       "\t\t<dd>55</dd>\n",
       "\t<dt>$second</dt>\n",
       "\t\t<dd>64</dd>\n",
       "\t<dt>$six</dt>\n",
       "\t\t<dd>59</dd>\n",
       "\t<dt>$so</dt>\n",
       "\t\t<dd>28</dd>\n",
       "\t<dt>$spread</dt>\n",
       "\t\t<dd>45</dd>\n",
       "\t<dt>$that</dt>\n",
       "\t\t<dd><ol class=list-inline>\n",
       "\t<li>4</li>\n",
       "\t<li>40</li>\n",
       "</ol>\n",
       "</dd>\n",
       "\t<dt>$the</dt>\n",
       "\t\t<dd><ol class=list-inline>\n",
       "\t<li>1</li>\n",
       "\t<li>5</li>\n",
       "\t<li>63</li>\n",
       "</ol>\n",
       "</dd>\n",
       "\t<dt>$there</dt>\n",
       "\t\t<dd>52</dd>\n",
       "\t<dt>$this</dt>\n",
       "\t\t<dd><ol class=list-inline>\n",
       "\t<li>9</li>\n",
       "\t<li>16</li>\n",
       "\t<li>29</li>\n",
       "\t<li>33</li>\n",
       "</ol>\n",
       "</dd>\n",
       "\t<dt>$to</dt>\n",
       "\t\t<dd>36</dd>\n",
       "\t<dt>$two</dt>\n",
       "\t\t<dd>54</dd>\n",
       "\t<dt>$voluminous</dt>\n",
       "\t\t<dd>38</dd>\n",
       "\t<dt>$were</dt>\n",
       "\t\t<dd>53</dd>\n",
       "\t<dt>$with</dt>\n",
       "\t\t<dd>58</dd>\n",
       "\t<dt>$would</dt>\n",
       "\t\t<dd>66</dd>\n",
       "</dl>\n"
      ],
      "text/latex": [
       "\\begin{description}\n",
       "\\item[\\$and] 25\n",
       "\\item[\\$be] 67\n",
       "\\item[\\$but] 32\n",
       "\\item[\\$case] 17\n",
       "\\item[\\$consists] \\begin{enumerate*}\n",
       "\\item 20\n",
       "\\item 41\n",
       "\\end{enumerate*}\n",
       "\n",
       "\\item[\\$example] 50\n",
       "\\item[\\$first] 6\n",
       "\\item[\\$`for`] 49\n",
       "\\item[\\$helps] 35\n",
       "\\item[\\$here] 2\n",
       "\\item[\\$`if`] 51\n",
       "\\item[\\$`in`] \\begin{enumerate*}\n",
       "\\item 8\n",
       "\\item 15\n",
       "\\end{enumerate*}\n",
       "\n",
       "\\item[\\$is] \\begin{enumerate*}\n",
       "\\item 13\n",
       "\\item 30\n",
       "\\end{enumerate*}\n",
       "\n",
       "\\item[\\$item] \\begin{enumerate*}\n",
       "\\item 7\n",
       "\\item 14\n",
       "\\item 27\n",
       "\\end{enumerate*}\n",
       "\n",
       "\\item[\\$items] \\begin{enumerate*}\n",
       "\\item 44\n",
       "\\item 60\n",
       "\\end{enumerate*}\n",
       "\n",
       "\\item[\\$labeled] 68\n",
       "\\item[\\$line] \\begin{enumerate*}\n",
       "\\item 10\n",
       "\\item 24\n",
       "\\end{enumerate*}\n",
       "\n",
       "\\item[\\$lines] 48\n",
       "\\item[\\$many] \\begin{enumerate*}\n",
       "\\item 43\n",
       "\\item 47\n",
       "\\end{enumerate*}\n",
       "\n",
       "\\item[\\$means] 3\n",
       "\\item[\\$notation] 34\n",
       "\\item[\\$of] \\begin{enumerate*}\n",
       "\\item 11\n",
       "\\item 21\n",
       "\\item 42\n",
       "\\item 56\n",
       "\\end{enumerate*}\n",
       "\n",
       "\\item[\\$one] \\begin{enumerate*}\n",
       "\\item 23\n",
       "\\item 26\n",
       "\\end{enumerate*}\n",
       "\n",
       "\\item[\\$only] 22\n",
       "\\item[\\$our] 18\n",
       "\\item[\\$output] \\begin{enumerate*}\n",
       "\\item 12\n",
       "\\item 19\n",
       "\\item 39\n",
       "\\item 57\n",
       "\\end{enumerate*}\n",
       "\n",
       "\\item[\\$over] 46\n",
       "\\item[\\$per] 61\n",
       "\\item[\\$read] 37\n",
       "\\item[\\$redundant] 31\n",
       "\\item[\\$row] \\begin{enumerate*}\n",
       "\\item 62\n",
       "\\item 65\n",
       "\\end{enumerate*}\n",
       "\n",
       "\\item[\\$rows] 55\n",
       "\\item[\\$second] 64\n",
       "\\item[\\$six] 59\n",
       "\\item[\\$so] 28\n",
       "\\item[\\$spread] 45\n",
       "\\item[\\$that] \\begin{enumerate*}\n",
       "\\item 4\n",
       "\\item 40\n",
       "\\end{enumerate*}\n",
       "\n",
       "\\item[\\$the] \\begin{enumerate*}\n",
       "\\item 1\n",
       "\\item 5\n",
       "\\item 63\n",
       "\\end{enumerate*}\n",
       "\n",
       "\\item[\\$there] 52\n",
       "\\item[\\$this] \\begin{enumerate*}\n",
       "\\item 9\n",
       "\\item 16\n",
       "\\item 29\n",
       "\\item 33\n",
       "\\end{enumerate*}\n",
       "\n",
       "\\item[\\$to] 36\n",
       "\\item[\\$two] 54\n",
       "\\item[\\$voluminous] 38\n",
       "\\item[\\$were] 53\n",
       "\\item[\\$with] 58\n",
       "\\item[\\$would] 66\n",
       "\\end{description}\n"
      ],
      "text/markdown": [
       "$and\n",
       ":   25\n",
       "$be\n",
       ":   67\n",
       "$but\n",
       ":   32\n",
       "$case\n",
       ":   17\n",
       "$consists\n",
       ":   1. 20\n",
       "2. 41\n",
       "\n",
       "\n",
       "\n",
       "$example\n",
       ":   50\n",
       "$first\n",
       ":   6\n",
       "$`for`\n",
       ":   49\n",
       "$helps\n",
       ":   35\n",
       "$here\n",
       ":   2\n",
       "$`if`\n",
       ":   51\n",
       "$`in`\n",
       ":   1. 8\n",
       "2. 15\n",
       "\n",
       "\n",
       "\n",
       "$is\n",
       ":   1. 13\n",
       "2. 30\n",
       "\n",
       "\n",
       "\n",
       "$item\n",
       ":   1. 7\n",
       "2. 14\n",
       "3. 27\n",
       "\n",
       "\n",
       "\n",
       "$items\n",
       ":   1. 44\n",
       "2. 60\n",
       "\n",
       "\n",
       "\n",
       "$labeled\n",
       ":   68\n",
       "$line\n",
       ":   1. 10\n",
       "2. 24\n",
       "\n",
       "\n",
       "\n",
       "$lines\n",
       ":   48\n",
       "$many\n",
       ":   1. 43\n",
       "2. 47\n",
       "\n",
       "\n",
       "\n",
       "$means\n",
       ":   3\n",
       "$notation\n",
       ":   34\n",
       "$of\n",
       ":   1. 11\n",
       "2. 21\n",
       "3. 42\n",
       "4. 56\n",
       "\n",
       "\n",
       "\n",
       "$one\n",
       ":   1. 23\n",
       "2. 26\n",
       "\n",
       "\n",
       "\n",
       "$only\n",
       ":   22\n",
       "$our\n",
       ":   18\n",
       "$output\n",
       ":   1. 12\n",
       "2. 19\n",
       "3. 39\n",
       "4. 57\n",
       "\n",
       "\n",
       "\n",
       "$over\n",
       ":   46\n",
       "$per\n",
       ":   61\n",
       "$read\n",
       ":   37\n",
       "$redundant\n",
       ":   31\n",
       "$row\n",
       ":   1. 62\n",
       "2. 65\n",
       "\n",
       "\n",
       "\n",
       "$rows\n",
       ":   55\n",
       "$second\n",
       ":   64\n",
       "$six\n",
       ":   59\n",
       "$so\n",
       ":   28\n",
       "$spread\n",
       ":   45\n",
       "$that\n",
       ":   1. 4\n",
       "2. 40\n",
       "\n",
       "\n",
       "\n",
       "$the\n",
       ":   1. 1\n",
       "2. 5\n",
       "3. 63\n",
       "\n",
       "\n",
       "\n",
       "$there\n",
       ":   52\n",
       "$this\n",
       ":   1. 9\n",
       "2. 16\n",
       "3. 29\n",
       "4. 33\n",
       "\n",
       "\n",
       "\n",
       "$to\n",
       ":   36\n",
       "$two\n",
       ":   54\n",
       "$voluminous\n",
       ":   38\n",
       "$were\n",
       ":   53\n",
       "$with\n",
       ":   58\n",
       "$would\n",
       ":   66\n",
       "\n",
       "\n"
      ],
      "text/plain": [
       "$and\n",
       "[1] 25\n",
       "\n",
       "$be\n",
       "[1] 67\n",
       "\n",
       "$but\n",
       "[1] 32\n",
       "\n",
       "$case\n",
       "[1] 17\n",
       "\n",
       "$consists\n",
       "[1] 20 41\n",
       "\n",
       "$example\n",
       "[1] 50\n",
       "\n",
       "$first\n",
       "[1] 6\n",
       "\n",
       "$`for`\n",
       "[1] 49\n",
       "\n",
       "$helps\n",
       "[1] 35\n",
       "\n",
       "$here\n",
       "[1] 2\n",
       "\n",
       "$`if`\n",
       "[1] 51\n",
       "\n",
       "$`in`\n",
       "[1]  8 15\n",
       "\n",
       "$is\n",
       "[1] 13 30\n",
       "\n",
       "$item\n",
       "[1]  7 14 27\n",
       "\n",
       "$items\n",
       "[1] 44 60\n",
       "\n",
       "$labeled\n",
       "[1] 68\n",
       "\n",
       "$line\n",
       "[1] 10 24\n",
       "\n",
       "$lines\n",
       "[1] 48\n",
       "\n",
       "$many\n",
       "[1] 43 47\n",
       "\n",
       "$means\n",
       "[1] 3\n",
       "\n",
       "$notation\n",
       "[1] 34\n",
       "\n",
       "$of\n",
       "[1] 11 21 42 56\n",
       "\n",
       "$one\n",
       "[1] 23 26\n",
       "\n",
       "$only\n",
       "[1] 22\n",
       "\n",
       "$our\n",
       "[1] 18\n",
       "\n",
       "$output\n",
       "[1] 12 19 39 57\n",
       "\n",
       "$over\n",
       "[1] 46\n",
       "\n",
       "$per\n",
       "[1] 61\n",
       "\n",
       "$read\n",
       "[1] 37\n",
       "\n",
       "$redundant\n",
       "[1] 31\n",
       "\n",
       "$row\n",
       "[1] 62 65\n",
       "\n",
       "$rows\n",
       "[1] 55\n",
       "\n",
       "$second\n",
       "[1] 64\n",
       "\n",
       "$six\n",
       "[1] 59\n",
       "\n",
       "$so\n",
       "[1] 28\n",
       "\n",
       "$spread\n",
       "[1] 45\n",
       "\n",
       "$that\n",
       "[1]  4 40\n",
       "\n",
       "$the\n",
       "[1]  1  5 63\n",
       "\n",
       "$there\n",
       "[1] 52\n",
       "\n",
       "$this\n",
       "[1]  9 16 29 33\n",
       "\n",
       "$to\n",
       "[1] 36\n",
       "\n",
       "$two\n",
       "[1] 54\n",
       "\n",
       "$voluminous\n",
       "[1] 38\n",
       "\n",
       "$were\n",
       "[1] 53\n",
       "\n",
       "$with\n",
       "[1] 58\n",
       "\n",
       "$would\n",
       "[1] 66\n"
      ]
     },
     "metadata": {},
     "output_type": "display_data"
    }
   ],
   "source": [
    "# 按照字母顺序排列结果\n",
    "alphawl <- function(wrdlst){\n",
    "    nms <- names(wrdlst)  # the words\n",
    "    sn <- sort(nms)  # same words in alpha order\n",
    "    return(wrdlst[sn])\n",
    "}\n",
    "alphawl(wl)"
   ]
  },
  {
   "cell_type": "code",
   "execution_count": 48,
   "metadata": {
    "ExecuteTime": {
     "end_time": "2018-05-29T02:16:55.079859Z",
     "start_time": "2018-05-29T02:16:55.026Z"
    },
    "scrolled": true
   },
   "outputs": [
    {
     "data": {
      "text/html": [
       "<dl>\n",
       "\t<dt>$here</dt>\n",
       "\t\t<dd>2</dd>\n",
       "\t<dt>$means</dt>\n",
       "\t\t<dd>3</dd>\n",
       "\t<dt>$first</dt>\n",
       "\t\t<dd>6</dd>\n",
       "\t<dt>$case</dt>\n",
       "\t\t<dd>17</dd>\n",
       "\t<dt>$our</dt>\n",
       "\t\t<dd>18</dd>\n",
       "\t<dt>$only</dt>\n",
       "\t\t<dd>22</dd>\n",
       "\t<dt>$and</dt>\n",
       "\t\t<dd>25</dd>\n",
       "\t<dt>$so</dt>\n",
       "\t\t<dd>28</dd>\n",
       "\t<dt>$redundant</dt>\n",
       "\t\t<dd>31</dd>\n",
       "\t<dt>$but</dt>\n",
       "\t\t<dd>32</dd>\n",
       "\t<dt>$notation</dt>\n",
       "\t\t<dd>34</dd>\n",
       "\t<dt>$helps</dt>\n",
       "\t\t<dd>35</dd>\n",
       "\t<dt>$to</dt>\n",
       "\t\t<dd>36</dd>\n",
       "\t<dt>$read</dt>\n",
       "\t\t<dd>37</dd>\n",
       "\t<dt>$voluminous</dt>\n",
       "\t\t<dd>38</dd>\n",
       "\t<dt>$spread</dt>\n",
       "\t\t<dd>45</dd>\n",
       "\t<dt>$over</dt>\n",
       "\t\t<dd>46</dd>\n",
       "\t<dt>$lines</dt>\n",
       "\t\t<dd>48</dd>\n",
       "\t<dt>$`for`</dt>\n",
       "\t\t<dd>49</dd>\n",
       "\t<dt>$example</dt>\n",
       "\t\t<dd>50</dd>\n",
       "\t<dt>$`if`</dt>\n",
       "\t\t<dd>51</dd>\n",
       "\t<dt>$there</dt>\n",
       "\t\t<dd>52</dd>\n",
       "\t<dt>$were</dt>\n",
       "\t\t<dd>53</dd>\n",
       "\t<dt>$two</dt>\n",
       "\t\t<dd>54</dd>\n",
       "\t<dt>$rows</dt>\n",
       "\t\t<dd>55</dd>\n",
       "\t<dt>$with</dt>\n",
       "\t\t<dd>58</dd>\n",
       "\t<dt>$six</dt>\n",
       "\t\t<dd>59</dd>\n",
       "\t<dt>$per</dt>\n",
       "\t\t<dd>61</dd>\n",
       "\t<dt>$second</dt>\n",
       "\t\t<dd>64</dd>\n",
       "\t<dt>$would</dt>\n",
       "\t\t<dd>66</dd>\n",
       "\t<dt>$be</dt>\n",
       "\t\t<dd>67</dd>\n",
       "\t<dt>$labeled</dt>\n",
       "\t\t<dd>68</dd>\n",
       "\t<dt>$that</dt>\n",
       "\t\t<dd><ol class=list-inline>\n",
       "\t<li>4</li>\n",
       "\t<li>40</li>\n",
       "</ol>\n",
       "</dd>\n",
       "\t<dt>$`in`</dt>\n",
       "\t\t<dd><ol class=list-inline>\n",
       "\t<li>8</li>\n",
       "\t<li>15</li>\n",
       "</ol>\n",
       "</dd>\n",
       "\t<dt>$line</dt>\n",
       "\t\t<dd><ol class=list-inline>\n",
       "\t<li>10</li>\n",
       "\t<li>24</li>\n",
       "</ol>\n",
       "</dd>\n",
       "\t<dt>$is</dt>\n",
       "\t\t<dd><ol class=list-inline>\n",
       "\t<li>13</li>\n",
       "\t<li>30</li>\n",
       "</ol>\n",
       "</dd>\n",
       "\t<dt>$consists</dt>\n",
       "\t\t<dd><ol class=list-inline>\n",
       "\t<li>20</li>\n",
       "\t<li>41</li>\n",
       "</ol>\n",
       "</dd>\n",
       "\t<dt>$one</dt>\n",
       "\t\t<dd><ol class=list-inline>\n",
       "\t<li>23</li>\n",
       "\t<li>26</li>\n",
       "</ol>\n",
       "</dd>\n",
       "\t<dt>$many</dt>\n",
       "\t\t<dd><ol class=list-inline>\n",
       "\t<li>43</li>\n",
       "\t<li>47</li>\n",
       "</ol>\n",
       "</dd>\n",
       "\t<dt>$items</dt>\n",
       "\t\t<dd><ol class=list-inline>\n",
       "\t<li>44</li>\n",
       "\t<li>60</li>\n",
       "</ol>\n",
       "</dd>\n",
       "\t<dt>$row</dt>\n",
       "\t\t<dd><ol class=list-inline>\n",
       "\t<li>62</li>\n",
       "\t<li>65</li>\n",
       "</ol>\n",
       "</dd>\n",
       "\t<dt>$the</dt>\n",
       "\t\t<dd><ol class=list-inline>\n",
       "\t<li>1</li>\n",
       "\t<li>5</li>\n",
       "\t<li>63</li>\n",
       "</ol>\n",
       "</dd>\n",
       "\t<dt>$item</dt>\n",
       "\t\t<dd><ol class=list-inline>\n",
       "\t<li>7</li>\n",
       "\t<li>14</li>\n",
       "\t<li>27</li>\n",
       "</ol>\n",
       "</dd>\n",
       "\t<dt>$this</dt>\n",
       "\t\t<dd><ol class=list-inline>\n",
       "\t<li>9</li>\n",
       "\t<li>16</li>\n",
       "\t<li>29</li>\n",
       "\t<li>33</li>\n",
       "</ol>\n",
       "</dd>\n",
       "\t<dt>$of</dt>\n",
       "\t\t<dd><ol class=list-inline>\n",
       "\t<li>11</li>\n",
       "\t<li>21</li>\n",
       "\t<li>42</li>\n",
       "\t<li>56</li>\n",
       "</ol>\n",
       "</dd>\n",
       "\t<dt>$output</dt>\n",
       "\t\t<dd><ol class=list-inline>\n",
       "\t<li>12</li>\n",
       "\t<li>19</li>\n",
       "\t<li>39</li>\n",
       "\t<li>57</li>\n",
       "</ol>\n",
       "</dd>\n",
       "</dl>\n"
      ],
      "text/latex": [
       "\\begin{description}\n",
       "\\item[\\$here] 2\n",
       "\\item[\\$means] 3\n",
       "\\item[\\$first] 6\n",
       "\\item[\\$case] 17\n",
       "\\item[\\$our] 18\n",
       "\\item[\\$only] 22\n",
       "\\item[\\$and] 25\n",
       "\\item[\\$so] 28\n",
       "\\item[\\$redundant] 31\n",
       "\\item[\\$but] 32\n",
       "\\item[\\$notation] 34\n",
       "\\item[\\$helps] 35\n",
       "\\item[\\$to] 36\n",
       "\\item[\\$read] 37\n",
       "\\item[\\$voluminous] 38\n",
       "\\item[\\$spread] 45\n",
       "\\item[\\$over] 46\n",
       "\\item[\\$lines] 48\n",
       "\\item[\\$`for`] 49\n",
       "\\item[\\$example] 50\n",
       "\\item[\\$`if`] 51\n",
       "\\item[\\$there] 52\n",
       "\\item[\\$were] 53\n",
       "\\item[\\$two] 54\n",
       "\\item[\\$rows] 55\n",
       "\\item[\\$with] 58\n",
       "\\item[\\$six] 59\n",
       "\\item[\\$per] 61\n",
       "\\item[\\$second] 64\n",
       "\\item[\\$would] 66\n",
       "\\item[\\$be] 67\n",
       "\\item[\\$labeled] 68\n",
       "\\item[\\$that] \\begin{enumerate*}\n",
       "\\item 4\n",
       "\\item 40\n",
       "\\end{enumerate*}\n",
       "\n",
       "\\item[\\$`in`] \\begin{enumerate*}\n",
       "\\item 8\n",
       "\\item 15\n",
       "\\end{enumerate*}\n",
       "\n",
       "\\item[\\$line] \\begin{enumerate*}\n",
       "\\item 10\n",
       "\\item 24\n",
       "\\end{enumerate*}\n",
       "\n",
       "\\item[\\$is] \\begin{enumerate*}\n",
       "\\item 13\n",
       "\\item 30\n",
       "\\end{enumerate*}\n",
       "\n",
       "\\item[\\$consists] \\begin{enumerate*}\n",
       "\\item 20\n",
       "\\item 41\n",
       "\\end{enumerate*}\n",
       "\n",
       "\\item[\\$one] \\begin{enumerate*}\n",
       "\\item 23\n",
       "\\item 26\n",
       "\\end{enumerate*}\n",
       "\n",
       "\\item[\\$many] \\begin{enumerate*}\n",
       "\\item 43\n",
       "\\item 47\n",
       "\\end{enumerate*}\n",
       "\n",
       "\\item[\\$items] \\begin{enumerate*}\n",
       "\\item 44\n",
       "\\item 60\n",
       "\\end{enumerate*}\n",
       "\n",
       "\\item[\\$row] \\begin{enumerate*}\n",
       "\\item 62\n",
       "\\item 65\n",
       "\\end{enumerate*}\n",
       "\n",
       "\\item[\\$the] \\begin{enumerate*}\n",
       "\\item 1\n",
       "\\item 5\n",
       "\\item 63\n",
       "\\end{enumerate*}\n",
       "\n",
       "\\item[\\$item] \\begin{enumerate*}\n",
       "\\item 7\n",
       "\\item 14\n",
       "\\item 27\n",
       "\\end{enumerate*}\n",
       "\n",
       "\\item[\\$this] \\begin{enumerate*}\n",
       "\\item 9\n",
       "\\item 16\n",
       "\\item 29\n",
       "\\item 33\n",
       "\\end{enumerate*}\n",
       "\n",
       "\\item[\\$of] \\begin{enumerate*}\n",
       "\\item 11\n",
       "\\item 21\n",
       "\\item 42\n",
       "\\item 56\n",
       "\\end{enumerate*}\n",
       "\n",
       "\\item[\\$output] \\begin{enumerate*}\n",
       "\\item 12\n",
       "\\item 19\n",
       "\\item 39\n",
       "\\item 57\n",
       "\\end{enumerate*}\n",
       "\n",
       "\\end{description}\n"
      ],
      "text/markdown": [
       "$here\n",
       ":   2\n",
       "$means\n",
       ":   3\n",
       "$first\n",
       ":   6\n",
       "$case\n",
       ":   17\n",
       "$our\n",
       ":   18\n",
       "$only\n",
       ":   22\n",
       "$and\n",
       ":   25\n",
       "$so\n",
       ":   28\n",
       "$redundant\n",
       ":   31\n",
       "$but\n",
       ":   32\n",
       "$notation\n",
       ":   34\n",
       "$helps\n",
       ":   35\n",
       "$to\n",
       ":   36\n",
       "$read\n",
       ":   37\n",
       "$voluminous\n",
       ":   38\n",
       "$spread\n",
       ":   45\n",
       "$over\n",
       ":   46\n",
       "$lines\n",
       ":   48\n",
       "$`for`\n",
       ":   49\n",
       "$example\n",
       ":   50\n",
       "$`if`\n",
       ":   51\n",
       "$there\n",
       ":   52\n",
       "$were\n",
       ":   53\n",
       "$two\n",
       ":   54\n",
       "$rows\n",
       ":   55\n",
       "$with\n",
       ":   58\n",
       "$six\n",
       ":   59\n",
       "$per\n",
       ":   61\n",
       "$second\n",
       ":   64\n",
       "$would\n",
       ":   66\n",
       "$be\n",
       ":   67\n",
       "$labeled\n",
       ":   68\n",
       "$that\n",
       ":   1. 4\n",
       "2. 40\n",
       "\n",
       "\n",
       "\n",
       "$`in`\n",
       ":   1. 8\n",
       "2. 15\n",
       "\n",
       "\n",
       "\n",
       "$line\n",
       ":   1. 10\n",
       "2. 24\n",
       "\n",
       "\n",
       "\n",
       "$is\n",
       ":   1. 13\n",
       "2. 30\n",
       "\n",
       "\n",
       "\n",
       "$consists\n",
       ":   1. 20\n",
       "2. 41\n",
       "\n",
       "\n",
       "\n",
       "$one\n",
       ":   1. 23\n",
       "2. 26\n",
       "\n",
       "\n",
       "\n",
       "$many\n",
       ":   1. 43\n",
       "2. 47\n",
       "\n",
       "\n",
       "\n",
       "$items\n",
       ":   1. 44\n",
       "2. 60\n",
       "\n",
       "\n",
       "\n",
       "$row\n",
       ":   1. 62\n",
       "2. 65\n",
       "\n",
       "\n",
       "\n",
       "$the\n",
       ":   1. 1\n",
       "2. 5\n",
       "3. 63\n",
       "\n",
       "\n",
       "\n",
       "$item\n",
       ":   1. 7\n",
       "2. 14\n",
       "3. 27\n",
       "\n",
       "\n",
       "\n",
       "$this\n",
       ":   1. 9\n",
       "2. 16\n",
       "3. 29\n",
       "4. 33\n",
       "\n",
       "\n",
       "\n",
       "$of\n",
       ":   1. 11\n",
       "2. 21\n",
       "3. 42\n",
       "4. 56\n",
       "\n",
       "\n",
       "\n",
       "$output\n",
       ":   1. 12\n",
       "2. 19\n",
       "3. 39\n",
       "4. 57\n",
       "\n",
       "\n",
       "\n",
       "\n",
       "\n"
      ],
      "text/plain": [
       "$here\n",
       "[1] 2\n",
       "\n",
       "$means\n",
       "[1] 3\n",
       "\n",
       "$first\n",
       "[1] 6\n",
       "\n",
       "$case\n",
       "[1] 17\n",
       "\n",
       "$our\n",
       "[1] 18\n",
       "\n",
       "$only\n",
       "[1] 22\n",
       "\n",
       "$and\n",
       "[1] 25\n",
       "\n",
       "$so\n",
       "[1] 28\n",
       "\n",
       "$redundant\n",
       "[1] 31\n",
       "\n",
       "$but\n",
       "[1] 32\n",
       "\n",
       "$notation\n",
       "[1] 34\n",
       "\n",
       "$helps\n",
       "[1] 35\n",
       "\n",
       "$to\n",
       "[1] 36\n",
       "\n",
       "$read\n",
       "[1] 37\n",
       "\n",
       "$voluminous\n",
       "[1] 38\n",
       "\n",
       "$spread\n",
       "[1] 45\n",
       "\n",
       "$over\n",
       "[1] 46\n",
       "\n",
       "$lines\n",
       "[1] 48\n",
       "\n",
       "$`for`\n",
       "[1] 49\n",
       "\n",
       "$example\n",
       "[1] 50\n",
       "\n",
       "$`if`\n",
       "[1] 51\n",
       "\n",
       "$there\n",
       "[1] 52\n",
       "\n",
       "$were\n",
       "[1] 53\n",
       "\n",
       "$two\n",
       "[1] 54\n",
       "\n",
       "$rows\n",
       "[1] 55\n",
       "\n",
       "$with\n",
       "[1] 58\n",
       "\n",
       "$six\n",
       "[1] 59\n",
       "\n",
       "$per\n",
       "[1] 61\n",
       "\n",
       "$second\n",
       "[1] 64\n",
       "\n",
       "$would\n",
       "[1] 66\n",
       "\n",
       "$be\n",
       "[1] 67\n",
       "\n",
       "$labeled\n",
       "[1] 68\n",
       "\n",
       "$that\n",
       "[1]  4 40\n",
       "\n",
       "$`in`\n",
       "[1]  8 15\n",
       "\n",
       "$line\n",
       "[1] 10 24\n",
       "\n",
       "$is\n",
       "[1] 13 30\n",
       "\n",
       "$consists\n",
       "[1] 20 41\n",
       "\n",
       "$one\n",
       "[1] 23 26\n",
       "\n",
       "$many\n",
       "[1] 43 47\n",
       "\n",
       "$items\n",
       "[1] 44 60\n",
       "\n",
       "$row\n",
       "[1] 62 65\n",
       "\n",
       "$the\n",
       "[1]  1  5 63\n",
       "\n",
       "$item\n",
       "[1]  7 14 27\n",
       "\n",
       "$this\n",
       "[1]  9 16 29 33\n",
       "\n",
       "$of\n",
       "[1] 11 21 42 56\n",
       "\n",
       "$output\n",
       "[1] 12 19 39 57\n"
      ]
     },
     "metadata": {},
     "output_type": "display_data"
    }
   ],
   "source": [
    "# 对findwords得到的wordlist，按照频率给word排序\n",
    "freqwl <- function(wrdlst){\n",
    "    freqs <- sapply(wrdlst, length)  # get word frequencies\n",
    "    return(wrdlst[order(freqs)])\n",
    "}\n",
    "wl_freq <- freqwl(wl)\n",
    "wl_freq"
   ]
  },
  {
   "cell_type": "markdown",
   "metadata": {},
   "source": [
    "下面是画出Top10词语的柱状图"
   ]
  },
  {
   "cell_type": "code",
   "execution_count": 61,
   "metadata": {
    "ExecuteTime": {
     "end_time": "2018-05-29T02:25:46.720770Z",
     "start_time": "2018-05-29T02:25:46.637Z"
    }
   },
   "outputs": [
    {
     "data": {
      "image/png": "[encoded data removed]",
      "text/plain": [
       "plot without title"
      ]
     },
     "metadata": {},
     "output_type": "display_data"
    }
   ],
   "source": [
    "nword <- length(wl_freq)\n",
    "wl_freq_num <- sapply(wl_freq, length)\n",
    "barplot(wl_freq_num[round(0.9*nword):nword])"
   ]
  },
  {
   "cell_type": "markdown",
   "metadata": {},
   "source": [
    "注意，书上作者用的数据集没有找到，这里就直接用之前的测试的数据做了下，\n",
    "另外，书上代码有些问题，这里稍作修改。"
   ]
  },
  {
   "cell_type": "markdown",
   "metadata": {},
   "source": [
    "#### 4.4.3  拓展：重回Abalone数据集( Extended Example: Back to the Abalone Data)"
   ]
  },
  {
   "cell_type": "code",
   "execution_count": 63,
   "metadata": {
    "ExecuteTime": {
     "end_time": "2018-05-29T02:31:58.272114Z",
     "start_time": "2018-05-29T02:31:58.233Z"
    }
   },
   "outputs": [
    {
     "data": {
      "text/html": [
       "<ol>\n",
       "\t<li><ol class=list-inline>\n",
       "\t<li>1</li>\n",
       "\t<li>5</li>\n",
       "\t<li>6</li>\n",
       "</ol>\n",
       "</li>\n",
       "\t<li><ol class=list-inline>\n",
       "\t<li>2</li>\n",
       "\t<li>3</li>\n",
       "\t<li>7</li>\n",
       "</ol>\n",
       "</li>\n",
       "\t<li>4</li>\n",
       "</ol>\n"
      ],
      "text/latex": [
       "\\begin{enumerate}\n",
       "\\item \\begin{enumerate*}\n",
       "\\item 1\n",
       "\\item 5\n",
       "\\item 6\n",
       "\\end{enumerate*}\n",
       "\n",
       "\\item \\begin{enumerate*}\n",
       "\\item 2\n",
       "\\item 3\n",
       "\\item 7\n",
       "\\end{enumerate*}\n",
       "\n",
       "\\item 4\n",
       "\\end{enumerate}\n"
      ],
      "text/markdown": [
       "1. 1. 1\n",
       "2. 5\n",
       "3. 6\n",
       "\n",
       "\n",
       "\n",
       "2. 1. 2\n",
       "2. 3\n",
       "3. 7\n",
       "\n",
       "\n",
       "\n",
       "3. 4\n",
       "\n",
       "\n"
      ],
      "text/plain": [
       "[[1]]\n",
       "[1] 1 5 6\n",
       "\n",
       "[[2]]\n",
       "[1] 2 3 7\n",
       "\n",
       "[[3]]\n",
       "[1] 4\n"
      ]
     },
     "metadata": {},
     "output_type": "display_data"
    }
   ],
   "source": [
    "# 获取male, female, infant的索引\n",
    "g <- c(\"M\",\"F\",\"F\",\"I\",\"M\",\"M\",\"F\")\n",
    "lapply(c(\"M\", \"F\", \"I\"), function(gender) which(g == gender))"
   ]
  },
  {
   "cell_type": "markdown",
   "metadata": {},
   "source": [
    "上面有两点需要注意：第一，对于`lapply`，它的第一个参数需要是一个`list`，\n",
    "所以这里的`vector`会先被强制转化为`list`；它的第二个参数也可以是个匿名函数\n",
    "(anonymous).第二，可以看到函数的第一个参数，也就是将要应用函数的数据，并不是我们的\n",
    "目标数据（这里是`g`），而是自己给的一个向量作为应用函数的数据，目标数据此时\n",
    "出现在后面的函数，后面我们会看到这种现象是十分普遍的。"
   ]
  },
  {
   "cell_type": "markdown",
   "metadata": {},
   "source": [
    "### 4.5 递归列表(Recursive Lists)\n",
    "\n",
    "列表可以是递归的，也就是说列表里面可以含有列表。"
   ]
  },
  {
   "cell_type": "code",
   "execution_count": 64,
   "metadata": {
    "ExecuteTime": {
     "end_time": "2018-05-29T02:42:29.369276Z",
     "start_time": "2018-05-29T02:42:29.335Z"
    }
   },
   "outputs": [
    {
     "data": {
      "text/html": [
       "<ol>\n",
       "\t<li><dl>\n",
       "\t<dt>$u</dt>\n",
       "\t\t<dd>5</dd>\n",
       "\t<dt>$v</dt>\n",
       "\t\t<dd>12</dd>\n",
       "</dl>\n",
       "</li>\n",
       "\t<li><strong>$w</strong> = 13</li>\n",
       "</ol>\n"
      ],
      "text/latex": [
       "\\begin{enumerate}\n",
       "\\item \\begin{description}\n",
       "\\item[\\$u] 5\n",
       "\\item[\\$v] 12\n",
       "\\end{description}\n",
       "\n",
       "\\item \\textbf{\\$w} = 13\n",
       "\\end{enumerate}\n"
      ],
      "text/markdown": [
       "1. $u\n",
       ":   5\n",
       "$v\n",
       ":   12\n",
       "\n",
       "\n",
       "\n",
       "2. **$w** = 13\n",
       "\n",
       "\n"
      ],
      "text/plain": [
       "[[1]]\n",
       "[[1]]$u\n",
       "[1] 5\n",
       "\n",
       "[[1]]$v\n",
       "[1] 12\n",
       "\n",
       "\n",
       "[[2]]\n",
       "[[2]]$w\n",
       "[1] 13\n",
       "\n"
      ]
     },
     "metadata": {},
     "output_type": "display_data"
    }
   ],
   "source": [
    "b <- list(u=5, v=12)\n",
    "c <- list(w=13)\n",
    "a <- list(b, c)\n",
    "a  # 和显示也是不一样的，这里建议终端测试"
   ]
  },
  {
   "cell_type": "code",
   "execution_count": 65,
   "metadata": {
    "ExecuteTime": {
     "end_time": "2018-05-29T02:43:16.605112Z",
     "start_time": "2018-05-29T02:43:16.575Z"
    }
   },
   "outputs": [
    {
     "data": {
      "text/html": [
       "2"
      ],
      "text/latex": [
       "2"
      ],
      "text/markdown": [
       "2"
      ],
      "text/plain": [
       "[1] 2"
      ]
     },
     "metadata": {},
     "output_type": "display_data"
    }
   ],
   "source": [
    "length(a)"
   ]
  },
  {
   "cell_type": "markdown",
   "metadata": {},
   "source": [
    "另外，连接函数`c()`有一个可选的`recursive`参数，用来控制\n",
    "是否拉直递归的列表"
   ]
  },
  {
   "cell_type": "code",
   "execution_count": 66,
   "metadata": {
    "ExecuteTime": {
     "end_time": "2018-05-29T02:45:59.941884Z",
     "start_time": "2018-05-29T02:45:59.906Z"
    }
   },
   "outputs": [
    {
     "data": {
      "text/html": [
       "<dl>\n",
       "\t<dt>$a</dt>\n",
       "\t\t<dd>1</dd>\n",
       "\t<dt>$b</dt>\n",
       "\t\t<dd>2</dd>\n",
       "\t<dt>$c</dt>\n",
       "\t\t<dd><dl>\n",
       "\t<dt>$d</dt>\n",
       "\t\t<dd>3</dd>\n",
       "\t<dt>$e</dt>\n",
       "\t\t<dd>9</dd>\n",
       "</dl>\n",
       "</dd>\n",
       "</dl>\n"
      ],
      "text/latex": [
       "\\begin{description}\n",
       "\\item[\\$a] 1\n",
       "\\item[\\$b] 2\n",
       "\\item[\\$c] \\begin{description}\n",
       "\\item[\\$d] 3\n",
       "\\item[\\$e] 9\n",
       "\\end{description}\n",
       "\n",
       "\\end{description}\n"
      ],
      "text/markdown": [
       "$a\n",
       ":   1\n",
       "$b\n",
       ":   2\n",
       "$c\n",
       ":   $d\n",
       ":   3\n",
       "$e\n",
       ":   9\n",
       "\n",
       "\n",
       "\n",
       "\n",
       "\n"
      ],
      "text/plain": [
       "$a\n",
       "[1] 1\n",
       "\n",
       "$b\n",
       "[1] 2\n",
       "\n",
       "$c\n",
       "$c$d\n",
       "[1] 3\n",
       "\n",
       "$c$e\n",
       "[1] 9\n",
       "\n"
      ]
     },
     "metadata": {},
     "output_type": "display_data"
    }
   ],
   "source": [
    "# 默认不拉直（recursive = F）\n",
    "c(list(a=1, b=2, c=list(d=3, e=9)))"
   ]
  },
  {
   "cell_type": "code",
   "execution_count": 67,
   "metadata": {
    "ExecuteTime": {
     "end_time": "2018-05-29T02:46:20.751728Z",
     "start_time": "2018-05-29T02:46:20.724Z"
    }
   },
   "outputs": [
    {
     "data": {
      "text/html": [
       "<dl class=dl-horizontal>\n",
       "\t<dt>a</dt>\n",
       "\t\t<dd>1</dd>\n",
       "\t<dt>b</dt>\n",
       "\t\t<dd>2</dd>\n",
       "\t<dt>c.d</dt>\n",
       "\t\t<dd>3</dd>\n",
       "\t<dt>c.e</dt>\n",
       "\t\t<dd>9</dd>\n",
       "</dl>\n"
      ],
      "text/latex": [
       "\\begin{description*}\n",
       "\\item[a] 1\n",
       "\\item[b] 2\n",
       "\\item[c.d] 3\n",
       "\\item[c.e] 9\n",
       "\\end{description*}\n"
      ],
      "text/markdown": [
       "a\n",
       ":   1b\n",
       ":   2c.d\n",
       ":   3c.e\n",
       ":   9\n",
       "\n"
      ],
      "text/plain": [
       "  a   b c.d c.e \n",
       "  1   2   3   9 "
      ]
     },
     "metadata": {},
     "output_type": "display_data"
    }
   ],
   "source": [
    "# 拉直\n",
    "c(list(a=1, b=2, c=list(d=3, e=9)), recursive = T)"
   ]
  },
  {
   "cell_type": "code",
   "execution_count": null,
   "metadata": {},
   "outputs": [],
   "source": []
  }
 ],
 "metadata": {
  "kernelspec": {
   "display_name": "R 3.4",
   "language": "R",
   "name": "ir34"
  },
  "language_info": {
   "codemirror_mode": "r",
   "file_extension": ".r",
   "mimetype": "text/x-r-source",
   "name": "R",
   "pygments_lexer": "r",
   "version": "3.4.4"
  },
  "toc": {
   "nav_menu": {},
   "number_sections": false,
   "sideBar": true,
   "skip_h1_title": false,
   "title_cell": "Table of Contents",
   "title_sidebar": "Contents",
   "toc_cell": true,
   "toc_position": {
    "height": "calc(100% - 180px)",
    "left": "10px",
    "top": "150px",
    "width": "165px"
   },
   "toc_section_display": true,
   "toc_window_display": true
  }
 },
 "nbformat": 4,
 "nbformat_minor": 2
}
