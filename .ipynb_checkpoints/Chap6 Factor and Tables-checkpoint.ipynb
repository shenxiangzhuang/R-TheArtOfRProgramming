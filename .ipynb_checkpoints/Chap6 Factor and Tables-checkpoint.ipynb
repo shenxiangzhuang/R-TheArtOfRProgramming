{
 "cells": [
  {
   "cell_type": "markdown",
   "metadata": {
    "toc": true
   },
   "source": [
    "<h1>Table of Contents<span class=\"tocSkip\"></span></h1>\n",
    "<div class=\"toc\"><ul class=\"toc-item\"><li><span><a href=\"#Chap6-Factors-and-Tables\" data-toc-modified-id=\"Chap6-Factors-and-Tables-1\">Chap6 Factors and Tables</a></span><ul class=\"toc-item\"><li><span><a href=\"#6.1-因素与水平(Factors-and-Levels)\" data-toc-modified-id=\"6.1-因素与水平(Factors-and-Levels)-1.1\">6.1 因素与水平(Factors and Levels)</a></span></li><li><span><a href=\"#6.2-Factor常用的函数(Common-Functions-Used-with-Factors)\" data-toc-modified-id=\"6.2-Factor常用的函数(Common-Functions-Used-with-Factors)-1.2\">6.2 <code>Factor</code>常用的函数(Common Functions Used with Factors)</a></span><ul class=\"toc-item\"><li><span><a href=\"#6.2.1-tapply函数(The-tapply()-Function)\" data-toc-modified-id=\"6.2.1-tapply函数(The-tapply()-Function)-1.2.1\">6.2.1 <code>tapply</code>函数(The tapply() Function)</a></span></li><li><span><a href=\"#6.2.2-split函数(The-Split()-Function)\" data-toc-modified-id=\"6.2.2-split函数(The-Split()-Function)-1.2.2\">6.2.2 <code>split</code>函数(The Split() Function)</a></span></li><li><span><a href=\"#6.2.3-by函数(The-by()-function)\" data-toc-modified-id=\"6.2.3-by函数(The-by()-function)-1.2.3\">6.2.3 <code>by</code>函数(The <code>by()</code> function)</a></span></li></ul></li><li><span><a href=\"#6.3-使用Tables（Working-with-Tables）\" data-toc-modified-id=\"6.3-使用Tables（Working-with-Tables）-1.3\">6.3 使用<code>Tables</code>（Working with Tables）</a></span><ul class=\"toc-item\"><li><span><a href=\"#6.3.1-表中类似矩阵的操作(Matrix/Array-Like-Operations-on-Tables)\" data-toc-modified-id=\"6.3.1-表中类似矩阵的操作(Matrix/Array-Like-Operations-on-Tables)-1.3.1\">6.3.1 表中类似矩阵的操作(Matrix/Array-Like Operations on Tables)</a></span></li><li><span><a href=\"#6.3.2-拓展：提取子表(Extended-Example:-Extracting-a-Subtable)\" data-toc-modified-id=\"6.3.2-拓展：提取子表(Extended-Example:-Extracting-a-Subtable)-1.3.2\">6.3.2 拓展：提取子表(Extended Example: Extracting a Subtable)</a></span></li><li><span><a href=\"#6.3.3-拓展：找到表中数据最大的单元格(Extended-Example:-Finding-the-Largest-Cells-in-a-Table)\" data-toc-modified-id=\"6.3.3-拓展：找到表中数据最大的单元格(Extended-Example:-Finding-the-Largest-Cells-in-a-Table)-1.3.3\">6.3.3 拓展：找到表中数据最大的单元格(Extended Example: Finding the Largest Cells in a Table)</a></span></li></ul></li><li><span><a href=\"#6.4-与Factor和Table相关的函数(Other-Factor-and-Table-Related-functions)\" data-toc-modified-id=\"6.4-与Factor和Table相关的函数(Other-Factor-and-Table-Related-functions)-1.4\">6.4 与<code>Factor</code>和<code>Table</code>相关的函数(Other Factor and Table Related functions)</a></span><ul class=\"toc-item\"><li><span><a href=\"#6.4.1-aggregate()函数(The-aggregate()-function)\" data-toc-modified-id=\"6.4.1-aggregate()函数(The-aggregate()-function)-1.4.1\">6.4.1 <code>aggregate()</code>函数(The aggregate() function)</a></span></li><li><span><a href=\"#6.4.2-cut()函数(The-cut()-function)\" data-toc-modified-id=\"6.4.2-cut()函数(The-cut()-function)-1.4.2\">6.4.2 <code>cut()</code>函数(The cut() function)</a></span></li></ul></li></ul></li></ul></div>"
   ]
  },
  {
   "cell_type": "markdown",
   "metadata": {},
   "source": [
    "## Chap6 Factors and Tables\n",
    "\n",
    "R中的`factor`来自统计学中名义变量(`nominal variable`)或分类变量\n",
    "(`categorical variable`)的概念。这些变量一般都是非数值性的数据，\n",
    "比如性别，民族等（当然，有时候我们可以通过编码将他们转化为数值性数据）。"
   ]
  },
  {
   "cell_type": "markdown",
   "metadata": {},
   "source": [
    "### 6.1 因素与水平(Factors and Levels)\n",
    "\n",
    "`factor`可以被看作在`vector`的基础上增加了一些而外的信息，即\n",
    "下面将要介绍的`levels`。（当然，本质上他们的差别还是比较大的）"
   ]
  },
  {
   "cell_type": "code",
   "execution_count": 1,
   "metadata": {
    "ExecuteTime": {
     "end_time": "2018-06-07T15:21:28.591884Z",
     "start_time": "2018-06-07T15:21:28.291Z"
    }
   },
   "outputs": [
    {
     "data": {
      "text/html": [
       "<ol class=list-inline>\n",
       "\t<li>5</li>\n",
       "\t<li>12</li>\n",
       "\t<li>13</li>\n",
       "\t<li>12</li>\n",
       "</ol>\n",
       "\n",
       "<details>\n",
       "\t<summary style=display:list-item;cursor:pointer>\n",
       "\t\t<strong>Levels</strong>:\n",
       "\t</summary>\n",
       "\t<ol class=list-inline>\n",
       "\t\t<li>'5'</li>\n",
       "\t\t<li>'12'</li>\n",
       "\t\t<li>'13'</li>\n",
       "\t</ol>\n",
       "</details>"
      ],
      "text/latex": [
       "\\begin{enumerate*}\n",
       "\\item 5\n",
       "\\item 12\n",
       "\\item 13\n",
       "\\item 12\n",
       "\\end{enumerate*}\n",
       "\n",
       "\\emph{Levels}: \\begin{enumerate*}\n",
       "\\item '5'\n",
       "\\item '12'\n",
       "\\item '13'\n",
       "\\end{enumerate*}\n"
      ],
      "text/markdown": [
       "1. 5\n",
       "2. 12\n",
       "3. 13\n",
       "4. 12\n",
       "\n",
       "\n",
       "\n",
       "**Levels**: 1. '5'\n",
       "2. '12'\n",
       "3. '13'\n",
       "\n",
       "\n"
      ],
      "text/plain": [
       "[1] 5  12 13 12\n",
       "Levels: 5 12 13"
      ]
     },
     "metadata": {},
     "output_type": "display_data"
    }
   ],
   "source": [
    "x <- c(5, 12, 13, 12)\n",
    "xf <- factor(x)\n",
    "xf"
   ]
  },
  {
   "cell_type": "code",
   "execution_count": 2,
   "metadata": {
    "ExecuteTime": {
     "end_time": "2018-06-07T15:21:28.646109Z",
     "start_time": "2018-06-07T15:21:28.297Z"
    }
   },
   "outputs": [
    {
     "name": "stdout",
     "output_type": "stream",
     "text": [
      " Factor w/ 3 levels \"5\",\"12\",\"13\": 1 2 3 2\n"
     ]
    }
   ],
   "source": [
    "str(xf)"
   ]
  },
  {
   "cell_type": "markdown",
   "metadata": {},
   "source": [
    "这里的关键在与`1 2 3 2`，它表示，`xf`第一个数据为水平1，第二个为水平2，然后是水平3\n",
    "水平2.也就是说，在`xf`中先根据数据记录了所有的水平，然后数据是按照对应的水平来记录的。"
   ]
  },
  {
   "cell_type": "code",
   "execution_count": 3,
   "metadata": {
    "ExecuteTime": {
     "end_time": "2018-06-07T15:21:28.665196Z",
     "start_time": "2018-06-07T15:21:28.303Z"
    }
   },
   "outputs": [
    {
     "name": "stdout",
     "output_type": "stream",
     "text": [
      "[1] 1 2 3 2\n",
      "attr(,\"levels\")\n",
      "[1] \"5\"  \"12\" \"13\"\n"
     ]
    }
   ],
   "source": [
    "# 这里直接调用函数，输出会被Jupyter改变\n",
    "# 所以用print得到和书上一样的结果输出\n",
    "print(unclass(xf))"
   ]
  },
  {
   "cell_type": "markdown",
   "metadata": {},
   "source": [
    "可以看到`factor`额外多出的`levels`属性。"
   ]
  },
  {
   "cell_type": "code",
   "execution_count": 4,
   "metadata": {
    "ExecuteTime": {
     "end_time": "2018-06-07T15:21:28.685478Z",
     "start_time": "2018-06-07T15:21:28.311Z"
    }
   },
   "outputs": [
    {
     "data": {
      "text/html": [
       "4"
      ],
      "text/latex": [
       "4"
      ],
      "text/markdown": [
       "4"
      ],
      "text/plain": [
       "[1] 4"
      ]
     },
     "metadata": {},
     "output_type": "display_data"
    }
   ],
   "source": [
    "# factor的长度依旧是真实含有数据的个数\n",
    "# 而不是水平的个数\n",
    "length(xf)"
   ]
  },
  {
   "cell_type": "code",
   "execution_count": 5,
   "metadata": {
    "ExecuteTime": {
     "end_time": "2018-06-07T15:21:28.708696Z",
     "start_time": "2018-06-07T15:21:28.318Z"
    }
   },
   "outputs": [
    {
     "data": {
      "text/html": [
       "<ol class=list-inline>\n",
       "\t<li>5</li>\n",
       "\t<li>12</li>\n",
       "\t<li>13</li>\n",
       "\t<li>12</li>\n",
       "</ol>\n",
       "\n",
       "<details>\n",
       "\t<summary style=display:list-item;cursor:pointer>\n",
       "\t\t<strong>Levels</strong>:\n",
       "\t</summary>\n",
       "\t<ol class=list-inline>\n",
       "\t\t<li>'5'</li>\n",
       "\t\t<li>'12'</li>\n",
       "\t\t<li>'13'</li>\n",
       "\t\t<li>'88'</li>\n",
       "\t</ol>\n",
       "</details>"
      ],
      "text/latex": [
       "\\begin{enumerate*}\n",
       "\\item 5\n",
       "\\item 12\n",
       "\\item 13\n",
       "\\item 12\n",
       "\\end{enumerate*}\n",
       "\n",
       "\\emph{Levels}: \\begin{enumerate*}\n",
       "\\item '5'\n",
       "\\item '12'\n",
       "\\item '13'\n",
       "\\item '88'\n",
       "\\end{enumerate*}\n"
      ],
      "text/markdown": [
       "1. 5\n",
       "2. 12\n",
       "3. 13\n",
       "4. 12\n",
       "\n",
       "\n",
       "\n",
       "**Levels**: 1. '5'\n",
       "2. '12'\n",
       "3. '13'\n",
       "4. '88'\n",
       "\n",
       "\n"
      ],
      "text/plain": [
       "[1] 5  12 13 12\n",
       "Levels: 5 12 13 88"
      ]
     },
     "metadata": {},
     "output_type": "display_data"
    }
   ],
   "source": [
    "# 上面的水平(1,2,3)是系统自动编码的\n",
    "# 我们也可以通过下面的方式手动指定水平的表示\n",
    "x <- c(5, 12, 13,12)\n",
    "xff <- factor(x, levels=c(5, 12, 13, 88))\n",
    "xff"
   ]
  },
  {
   "cell_type": "markdown",
   "metadata": {},
   "source": [
    "这里，我们定义的水平(5, 12, 13, 88)中含有88，但是我们的数据中没有88，\n",
    "这个不要紧，设置的水平可以是我们预测将来可能会有的水平，向下面这样，因为\n",
    "我们预先设置的水平里面有88，所以给`xff`包含数据赋值成88是可以的。"
   ]
  },
  {
   "cell_type": "code",
   "execution_count": 6,
   "metadata": {
    "ExecuteTime": {
     "end_time": "2018-06-07T15:21:28.740048Z",
     "start_time": "2018-06-07T15:21:28.325Z"
    }
   },
   "outputs": [
    {
     "data": {
      "text/html": [
       "<ol class=list-inline>\n",
       "\t<li>5</li>\n",
       "\t<li>88</li>\n",
       "\t<li>13</li>\n",
       "\t<li>12</li>\n",
       "</ol>\n",
       "\n",
       "<details>\n",
       "\t<summary style=display:list-item;cursor:pointer>\n",
       "\t\t<strong>Levels</strong>:\n",
       "\t</summary>\n",
       "\t<ol class=list-inline>\n",
       "\t\t<li>'5'</li>\n",
       "\t\t<li>'12'</li>\n",
       "\t\t<li>'13'</li>\n",
       "\t\t<li>'88'</li>\n",
       "\t</ol>\n",
       "</details>"
      ],
      "text/latex": [
       "\\begin{enumerate*}\n",
       "\\item 5\n",
       "\\item 88\n",
       "\\item 13\n",
       "\\item 12\n",
       "\\end{enumerate*}\n",
       "\n",
       "\\emph{Levels}: \\begin{enumerate*}\n",
       "\\item '5'\n",
       "\\item '12'\n",
       "\\item '13'\n",
       "\\item '88'\n",
       "\\end{enumerate*}\n"
      ],
      "text/markdown": [
       "1. 5\n",
       "2. 88\n",
       "3. 13\n",
       "4. 12\n",
       "\n",
       "\n",
       "\n",
       "**Levels**: 1. '5'\n",
       "2. '12'\n",
       "3. '13'\n",
       "4. '88'\n",
       "\n",
       "\n"
      ],
      "text/plain": [
       "[1] 5  88 13 12\n",
       "Levels: 5 12 13 88"
      ]
     },
     "metadata": {},
     "output_type": "display_data"
    }
   ],
   "source": [
    "xff[2] <- 88\n",
    "xff"
   ]
  },
  {
   "cell_type": "markdown",
   "metadata": {},
   "source": [
    "与之对应的，如果我们预先设置的水平中不包含某些数据，那么我们就不能进行\n",
    "随意的改变原来的数据，看下面的例子。"
   ]
  },
  {
   "cell_type": "code",
   "execution_count": 7,
   "metadata": {
    "ExecuteTime": {
     "end_time": "2018-06-07T15:21:28.764145Z",
     "start_time": "2018-06-07T15:21:28.330Z"
    }
   },
   "outputs": [
    {
     "name": "stderr",
     "output_type": "stream",
     "text": [
      "Warning message in `[<-.factor`(`*tmp*`, 2, value = 28):\n",
      "“invalid factor level, NA generated”"
     ]
    }
   ],
   "source": [
    "xff[2] <- 28"
   ]
  },
  {
   "cell_type": "code",
   "execution_count": 8,
   "metadata": {
    "ExecuteTime": {
     "end_time": "2018-06-07T15:21:28.787178Z",
     "start_time": "2018-06-07T15:21:28.343Z"
    }
   },
   "outputs": [
    {
     "data": {
      "text/html": [
       "<ol class=list-inline>\n",
       "\t<li>5</li>\n",
       "\t<li>&lt;NA&gt;</li>\n",
       "\t<li>13</li>\n",
       "\t<li>12</li>\n",
       "</ol>\n",
       "\n",
       "<details>\n",
       "\t<summary style=display:list-item;cursor:pointer>\n",
       "\t\t<strong>Levels</strong>:\n",
       "\t</summary>\n",
       "\t<ol class=list-inline>\n",
       "\t\t<li>'5'</li>\n",
       "\t\t<li>'12'</li>\n",
       "\t\t<li>'13'</li>\n",
       "\t\t<li>'88'</li>\n",
       "\t</ol>\n",
       "</details>"
      ],
      "text/latex": [
       "\\begin{enumerate*}\n",
       "\\item 5\n",
       "\\item <NA>\n",
       "\\item 13\n",
       "\\item 12\n",
       "\\end{enumerate*}\n",
       "\n",
       "\\emph{Levels}: \\begin{enumerate*}\n",
       "\\item '5'\n",
       "\\item '12'\n",
       "\\item '13'\n",
       "\\item '88'\n",
       "\\end{enumerate*}\n"
      ],
      "text/markdown": [
       "1. 5\n",
       "2. &lt;NA&gt;\n",
       "3. 13\n",
       "4. 12\n",
       "\n",
       "\n",
       "\n",
       "**Levels**: 1. '5'\n",
       "2. '12'\n",
       "3. '13'\n",
       "4. '88'\n",
       "\n",
       "\n"
      ],
      "text/plain": [
       "[1] 5    <NA> 13   12  \n",
       "Levels: 5 12 13 88"
      ]
     },
     "metadata": {},
     "output_type": "display_data"
    }
   ],
   "source": [
    "xff"
   ]
  },
  {
   "cell_type": "markdown",
   "metadata": {},
   "source": [
    "### 6.2 `Factor`常用的函数(Common Functions Used with Factors)\n",
    "\n",
    "主要是`tapply`, `split`, 和`by`函数。"
   ]
  },
  {
   "cell_type": "markdown",
   "metadata": {},
   "source": [
    "#### 6.2.1 `tapply`函数(The tapply() Function)\n",
    "\n",
    "在应用函数之前，我们首先提出一个适用此函数的问题。假设我们有一个向量，里面包含选民的\n",
    "年龄数据，另外对应年龄的有其他的一些分类数据（分别对应一个`factor`），比如所支持的党派，\n",
    "如民主党，共和党及无党派。我们想要知道支持各党派人的平均年龄各为多少。\n",
    "\n",
    "`tapply`函数的典型调用形式为`tapply(x, f, g)`,其中`x`是一个`vector`,\n",
    "`f`是一个`factor`或者由几个`factor`组成的`list`,最后`g`是一个要应用的函数，在上面的\n",
    "问题中就是内置的`mean`函数。\n",
    "\n",
    "记得这里的`f`和`x`必须是等长的，因为`x`内任何一个元素对必须同时对应着一个或多个因素\n",
    "中的某个水平。我们先来看每个数据对应一个因素中的某个水平的情况。"
   ]
  },
  {
   "cell_type": "code",
   "execution_count": 9,
   "metadata": {
    "ExecuteTime": {
     "end_time": "2018-06-07T15:21:28.816325Z",
     "start_time": "2018-06-07T15:21:28.352Z"
    }
   },
   "outputs": [
    {
     "name": "stdout",
     "output_type": "stream",
     "text": [
      " D  R  U \n",
      "41 31 21 \n"
     ]
    }
   ],
   "source": [
    "ages <- c(25, 26, 55, 37, 21, 42)\n",
    "affils <- c(\"R\", \"D\", \"D\", \"R\", \"U\", \"D\")\n",
    "print(tapply(ages, affils, mean))"
   ]
  },
  {
   "cell_type": "markdown",
   "metadata": {},
   "source": [
    "在`f`为`factors`组成的`list`，也就是多个因素的时候，情况会复杂一些，看下面的例子。"
   ]
  },
  {
   "cell_type": "code",
   "execution_count": 10,
   "metadata": {
    "ExecuteTime": {
     "end_time": "2018-06-07T15:21:28.918188Z",
     "start_time": "2018-06-07T15:21:28.362Z"
    }
   },
   "outputs": [
    {
     "data": {
      "text/html": [
       "<table>\n",
       "<thead><tr><th scope=col>gender</th><th scope=col>age</th><th scope=col>income</th></tr></thead>\n",
       "<tbody>\n",
       "\t<tr><td>M     </td><td>47    </td><td> 55000</td></tr>\n",
       "\t<tr><td>M     </td><td>59    </td><td> 88000</td></tr>\n",
       "\t<tr><td>F     </td><td>21    </td><td> 32450</td></tr>\n",
       "\t<tr><td>M     </td><td>32    </td><td> 76500</td></tr>\n",
       "\t<tr><td>F     </td><td>33    </td><td>123000</td></tr>\n",
       "\t<tr><td>F     </td><td>24    </td><td> 45650</td></tr>\n",
       "</tbody>\n",
       "</table>\n"
      ],
      "text/latex": [
       "\\begin{tabular}{r|lll}\n",
       " gender & age & income\\\\\n",
       "\\hline\n",
       "\t M      & 47     &  55000\\\\\n",
       "\t M      & 59     &  88000\\\\\n",
       "\t F      & 21     &  32450\\\\\n",
       "\t M      & 32     &  76500\\\\\n",
       "\t F      & 33     & 123000\\\\\n",
       "\t F      & 24     &  45650\\\\\n",
       "\\end{tabular}\n"
      ],
      "text/markdown": [
       "\n",
       "gender | age | income | \n",
       "|---|---|---|---|---|---|\n",
       "| M      | 47     |  55000 | \n",
       "| M      | 59     |  88000 | \n",
       "| F      | 21     |  32450 | \n",
       "| M      | 32     |  76500 | \n",
       "| F      | 33     | 123000 | \n",
       "| F      | 24     |  45650 | \n",
       "\n",
       "\n"
      ],
      "text/plain": [
       "  gender age income\n",
       "1 M      47   55000\n",
       "2 M      59   88000\n",
       "3 F      21   32450\n",
       "4 M      32   76500\n",
       "5 F      33  123000\n",
       "6 F      24   45650"
      ]
     },
     "metadata": {},
     "output_type": "display_data"
    }
   ],
   "source": [
    "d <- data.frame(list(gender=c(\"M\",\"M\",\"F\",\"M\",\"F\",\"F\"),\n",
    "                     age=c(47,59,21,32,33,24),income=c(55000,88000,32450,76500,123000,45650)))\n",
    "d"
   ]
  },
  {
   "cell_type": "code",
   "execution_count": 11,
   "metadata": {
    "ExecuteTime": {
     "end_time": "2018-06-07T15:21:28.957827Z",
     "start_time": "2018-06-07T15:21:28.369Z"
    }
   },
   "outputs": [
    {
     "data": {
      "text/html": [
       "<table>\n",
       "<thead><tr><th scope=col>gender</th><th scope=col>age</th><th scope=col>income</th><th scope=col>over25</th></tr></thead>\n",
       "<tbody>\n",
       "\t<tr><td>M     </td><td>47    </td><td> 55000</td><td>1     </td></tr>\n",
       "\t<tr><td>M     </td><td>59    </td><td> 88000</td><td>1     </td></tr>\n",
       "\t<tr><td>F     </td><td>21    </td><td> 32450</td><td>0     </td></tr>\n",
       "\t<tr><td>M     </td><td>32    </td><td> 76500</td><td>1     </td></tr>\n",
       "\t<tr><td>F     </td><td>33    </td><td>123000</td><td>1     </td></tr>\n",
       "\t<tr><td>F     </td><td>24    </td><td> 45650</td><td>0     </td></tr>\n",
       "</tbody>\n",
       "</table>\n"
      ],
      "text/latex": [
       "\\begin{tabular}{r|llll}\n",
       " gender & age & income & over25\\\\\n",
       "\\hline\n",
       "\t M      & 47     &  55000 & 1     \\\\\n",
       "\t M      & 59     &  88000 & 1     \\\\\n",
       "\t F      & 21     &  32450 & 0     \\\\\n",
       "\t M      & 32     &  76500 & 1     \\\\\n",
       "\t F      & 33     & 123000 & 1     \\\\\n",
       "\t F      & 24     &  45650 & 0     \\\\\n",
       "\\end{tabular}\n"
      ],
      "text/markdown": [
       "\n",
       "gender | age | income | over25 | \n",
       "|---|---|---|---|---|---|\n",
       "| M      | 47     |  55000 | 1      | \n",
       "| M      | 59     |  88000 | 1      | \n",
       "| F      | 21     |  32450 | 0      | \n",
       "| M      | 32     |  76500 | 1      | \n",
       "| F      | 33     | 123000 | 1      | \n",
       "| F      | 24     |  45650 | 0      | \n",
       "\n",
       "\n"
      ],
      "text/plain": [
       "  gender age income over25\n",
       "1 M      47   55000 1     \n",
       "2 M      59   88000 1     \n",
       "3 F      21   32450 0     \n",
       "4 M      32   76500 1     \n",
       "5 F      33  123000 1     \n",
       "6 F      24   45650 0     "
      ]
     },
     "metadata": {},
     "output_type": "display_data"
    }
   ],
   "source": [
    "d$over25 <- ifelse(d$age > 25, 1, 0)\n",
    "d"
   ]
  },
  {
   "cell_type": "code",
   "execution_count": 12,
   "metadata": {
    "ExecuteTime": {
     "end_time": "2018-06-07T15:21:28.986580Z",
     "start_time": "2018-06-07T15:21:28.376Z"
    }
   },
   "outputs": [
    {
     "name": "stdout",
     "output_type": "stream",
     "text": [
      "      0         1\n",
      "F 39050 123000.00\n",
      "M    NA  73166.67\n"
     ]
    }
   ],
   "source": [
    "print(tapply(d$income, list(d$gender, d$over25), mean))"
   ]
  },
  {
   "cell_type": "markdown",
   "metadata": {},
   "source": [
    "此处指定了两个因素：性别和年龄是否大于25岁。因为每个因素有两个水平，所以总的数据\n",
    "被分成了四组，每组分别求收入的均值。"
   ]
  },
  {
   "cell_type": "markdown",
   "metadata": {},
   "source": [
    "#### 6.2.2 `split`函数(The Split() Function)\n",
    "\n",
    "`tapply`的作用是把一个`vector`按照`factor`分组，之后对每一组的数据分别调用函数并返回各个组的结果。\n",
    "与之对比，`split`函数只是停留在第一阶段，也就是说，它只是根据`factor`来把`vector`分组。\n",
    "\n",
    "`split(x, f)`是调用的最基本的形式，`x`和`f`和`tapply`中意义一致，分别是待处理向量和函数。"
   ]
  },
  {
   "cell_type": "code",
   "execution_count": 13,
   "metadata": {
    "ExecuteTime": {
     "end_time": "2018-06-07T15:21:29.014253Z",
     "start_time": "2018-06-07T15:21:28.382Z"
    }
   },
   "outputs": [
    {
     "data": {
      "text/html": [
       "<table>\n",
       "<thead><tr><th scope=col>gender</th><th scope=col>age</th><th scope=col>income</th><th scope=col>over25</th></tr></thead>\n",
       "<tbody>\n",
       "\t<tr><td>M     </td><td>47    </td><td> 55000</td><td>1     </td></tr>\n",
       "\t<tr><td>M     </td><td>59    </td><td> 88000</td><td>1     </td></tr>\n",
       "\t<tr><td>F     </td><td>21    </td><td> 32450</td><td>0     </td></tr>\n",
       "\t<tr><td>M     </td><td>32    </td><td> 76500</td><td>1     </td></tr>\n",
       "\t<tr><td>F     </td><td>33    </td><td>123000</td><td>1     </td></tr>\n",
       "\t<tr><td>F     </td><td>24    </td><td> 45650</td><td>0     </td></tr>\n",
       "</tbody>\n",
       "</table>\n"
      ],
      "text/latex": [
       "\\begin{tabular}{r|llll}\n",
       " gender & age & income & over25\\\\\n",
       "\\hline\n",
       "\t M      & 47     &  55000 & 1     \\\\\n",
       "\t M      & 59     &  88000 & 1     \\\\\n",
       "\t F      & 21     &  32450 & 0     \\\\\n",
       "\t M      & 32     &  76500 & 1     \\\\\n",
       "\t F      & 33     & 123000 & 1     \\\\\n",
       "\t F      & 24     &  45650 & 0     \\\\\n",
       "\\end{tabular}\n"
      ],
      "text/markdown": [
       "\n",
       "gender | age | income | over25 | \n",
       "|---|---|---|---|---|---|\n",
       "| M      | 47     |  55000 | 1      | \n",
       "| M      | 59     |  88000 | 1      | \n",
       "| F      | 21     |  32450 | 0      | \n",
       "| M      | 32     |  76500 | 1      | \n",
       "| F      | 33     | 123000 | 1      | \n",
       "| F      | 24     |  45650 | 0      | \n",
       "\n",
       "\n"
      ],
      "text/plain": [
       "  gender age income over25\n",
       "1 M      47   55000 1     \n",
       "2 M      59   88000 1     \n",
       "3 F      21   32450 0     \n",
       "4 M      32   76500 1     \n",
       "5 F      33  123000 1     \n",
       "6 F      24   45650 0     "
      ]
     },
     "metadata": {},
     "output_type": "display_data"
    }
   ],
   "source": [
    "d"
   ]
  },
  {
   "cell_type": "code",
   "execution_count": 14,
   "metadata": {
    "ExecuteTime": {
     "end_time": "2018-06-07T15:21:29.036980Z",
     "start_time": "2018-06-07T15:21:28.388Z"
    }
   },
   "outputs": [
    {
     "data": {
      "text/html": [
       "<dl>\n",
       "\t<dt>$F.0</dt>\n",
       "\t\t<dd><ol class=list-inline>\n",
       "\t<li>32450</li>\n",
       "\t<li>45650</li>\n",
       "</ol>\n",
       "</dd>\n",
       "\t<dt>$M.0</dt>\n",
       "\t\t<dd></dd>\n",
       "\t<dt>$F.1</dt>\n",
       "\t\t<dd>123000</dd>\n",
       "\t<dt>$M.1</dt>\n",
       "\t\t<dd><ol class=list-inline>\n",
       "\t<li>55000</li>\n",
       "\t<li>88000</li>\n",
       "\t<li>76500</li>\n",
       "</ol>\n",
       "</dd>\n",
       "</dl>\n"
      ],
      "text/latex": [
       "\\begin{description}\n",
       "\\item[\\$F.0] \\begin{enumerate*}\n",
       "\\item 32450\n",
       "\\item 45650\n",
       "\\end{enumerate*}\n",
       "\n",
       "\\item[\\$M.0] \n",
       "\\item[\\$F.1] 123000\n",
       "\\item[\\$M.1] \\begin{enumerate*}\n",
       "\\item 55000\n",
       "\\item 88000\n",
       "\\item 76500\n",
       "\\end{enumerate*}\n",
       "\n",
       "\\end{description}\n"
      ],
      "text/markdown": [
       "$F.0\n",
       ":   1. 32450\n",
       "2. 45650\n",
       "\n",
       "\n",
       "\n",
       "$M.0\n",
       ":   \n",
       "$F.1\n",
       ":   123000\n",
       "$M.1\n",
       ":   1. 55000\n",
       "2. 88000\n",
       "3. 76500\n",
       "\n",
       "\n",
       "\n",
       "\n",
       "\n"
      ],
      "text/plain": [
       "$F.0\n",
       "[1] 32450 45650\n",
       "\n",
       "$M.0\n",
       "numeric(0)\n",
       "\n",
       "$F.1\n",
       "[1] 123000\n",
       "\n",
       "$M.1\n",
       "[1] 55000 88000 76500\n"
      ]
     },
     "metadata": {},
     "output_type": "display_data"
    }
   ],
   "source": [
    "split(d$income, list(d$gender, d$over25))"
   ]
  },
  {
   "cell_type": "markdown",
   "metadata": {},
   "source": [
    "可以看到，`split`根据`gender`和`over25`两个因素对数据进行分组，返回的结果是一个`list`\n",
    "（记得`list`的成分是用`$`索引的）"
   ]
  },
  {
   "cell_type": "code",
   "execution_count": 15,
   "metadata": {
    "ExecuteTime": {
     "end_time": "2018-06-07T15:21:29.064771Z",
     "start_time": "2018-06-07T15:21:28.393Z"
    }
   },
   "outputs": [
    {
     "data": {
      "text/html": [
       "<dl>\n",
       "\t<dt>$F</dt>\n",
       "\t\t<dd><ol class=list-inline>\n",
       "\t<li>2</li>\n",
       "\t<li>3</li>\n",
       "\t<li>7</li>\n",
       "</ol>\n",
       "</dd>\n",
       "\t<dt>$I</dt>\n",
       "\t\t<dd>4</dd>\n",
       "\t<dt>$M</dt>\n",
       "\t\t<dd><ol class=list-inline>\n",
       "\t<li>1</li>\n",
       "\t<li>5</li>\n",
       "\t<li>6</li>\n",
       "</ol>\n",
       "</dd>\n",
       "</dl>\n"
      ],
      "text/latex": [
       "\\begin{description}\n",
       "\\item[\\$F] \\begin{enumerate*}\n",
       "\\item 2\n",
       "\\item 3\n",
       "\\item 7\n",
       "\\end{enumerate*}\n",
       "\n",
       "\\item[\\$I] 4\n",
       "\\item[\\$M] \\begin{enumerate*}\n",
       "\\item 1\n",
       "\\item 5\n",
       "\\item 6\n",
       "\\end{enumerate*}\n",
       "\n",
       "\\end{description}\n"
      ],
      "text/markdown": [
       "$F\n",
       ":   1. 2\n",
       "2. 3\n",
       "3. 7\n",
       "\n",
       "\n",
       "\n",
       "$I\n",
       ":   4\n",
       "$M\n",
       ":   1. 1\n",
       "2. 5\n",
       "3. 6\n",
       "\n",
       "\n",
       "\n",
       "\n",
       "\n"
      ],
      "text/plain": [
       "$F\n",
       "[1] 2 3 7\n",
       "\n",
       "$I\n",
       "[1] 4\n",
       "\n",
       "$M\n",
       "[1] 1 5 6\n"
      ]
     },
     "metadata": {},
     "output_type": "display_data"
    }
   ],
   "source": [
    "# another example\n",
    "g <- c(\"M\", \"F\", \"F\", \"I\", \"M\", \"M\", \"F\")\n",
    "split(1:length(g), g)"
   ]
  },
  {
   "cell_type": "markdown",
   "metadata": {},
   "source": [
    "上面的结果表明，第2，3，7条数据为`F`，即对应性别为女性，其他婴儿和男性也分别对应索引的数字。\n",
    "这个例子给了我们启示，就是说我们可以按照因子的不同水平分组，并给出各个水平数据所在的位置。\n",
    "\n",
    "对应到之前的文本索引(4.2.4 text concordance)的例子, 我们可以将文档全部当作一个`factor`，\n",
    "不同的单词当作一个`level`，这样就可以使用`split`函数来简化程序了。"
   ]
  },
  {
   "cell_type": "code",
   "execution_count": 16,
   "metadata": {
    "ExecuteTime": {
     "end_time": "2018-06-07T15:21:29.102689Z",
     "start_time": "2018-06-07T15:21:28.399Z"
    }
   },
   "outputs": [
    {
     "data": {
      "text/html": [
       "<dl>\n",
       "\t<dt>$and</dt>\n",
       "\t\t<dd>25</dd>\n",
       "\t<dt>$be</dt>\n",
       "\t\t<dd>67</dd>\n",
       "\t<dt>$but</dt>\n",
       "\t\t<dd>32</dd>\n",
       "\t<dt>$case</dt>\n",
       "\t\t<dd>17</dd>\n",
       "\t<dt>$consists</dt>\n",
       "\t\t<dd><ol class=list-inline>\n",
       "\t<li>20</li>\n",
       "\t<li>41</li>\n",
       "</ol>\n",
       "</dd>\n",
       "\t<dt>$example</dt>\n",
       "\t\t<dd>50</dd>\n",
       "\t<dt>$first</dt>\n",
       "\t\t<dd>6</dd>\n",
       "\t<dt>$`for`</dt>\n",
       "\t\t<dd>49</dd>\n",
       "\t<dt>$helps</dt>\n",
       "\t\t<dd>35</dd>\n",
       "\t<dt>$here</dt>\n",
       "\t\t<dd>2</dd>\n",
       "\t<dt>$`if`</dt>\n",
       "\t\t<dd>51</dd>\n",
       "\t<dt>$`in`</dt>\n",
       "\t\t<dd><ol class=list-inline>\n",
       "\t<li>8</li>\n",
       "\t<li>15</li>\n",
       "</ol>\n",
       "</dd>\n",
       "\t<dt>$is</dt>\n",
       "\t\t<dd><ol class=list-inline>\n",
       "\t<li>13</li>\n",
       "\t<li>30</li>\n",
       "</ol>\n",
       "</dd>\n",
       "\t<dt>$item</dt>\n",
       "\t\t<dd><ol class=list-inline>\n",
       "\t<li>7</li>\n",
       "\t<li>14</li>\n",
       "\t<li>27</li>\n",
       "</ol>\n",
       "</dd>\n",
       "\t<dt>$items</dt>\n",
       "\t\t<dd><ol class=list-inline>\n",
       "\t<li>44</li>\n",
       "\t<li>60</li>\n",
       "</ol>\n",
       "</dd>\n",
       "\t<dt>$labeled</dt>\n",
       "\t\t<dd>68</dd>\n",
       "\t<dt>$line</dt>\n",
       "\t\t<dd><ol class=list-inline>\n",
       "\t<li>10</li>\n",
       "\t<li>24</li>\n",
       "</ol>\n",
       "</dd>\n",
       "\t<dt>$lines</dt>\n",
       "\t\t<dd>48</dd>\n",
       "\t<dt>$many</dt>\n",
       "\t\t<dd><ol class=list-inline>\n",
       "\t<li>43</li>\n",
       "\t<li>47</li>\n",
       "</ol>\n",
       "</dd>\n",
       "\t<dt>$means</dt>\n",
       "\t\t<dd>3</dd>\n",
       "\t<dt>$notation</dt>\n",
       "\t\t<dd>34</dd>\n",
       "\t<dt>$of</dt>\n",
       "\t\t<dd><ol class=list-inline>\n",
       "\t<li>11</li>\n",
       "\t<li>21</li>\n",
       "\t<li>42</li>\n",
       "\t<li>56</li>\n",
       "</ol>\n",
       "</dd>\n",
       "\t<dt>$one</dt>\n",
       "\t\t<dd><ol class=list-inline>\n",
       "\t<li>23</li>\n",
       "\t<li>26</li>\n",
       "</ol>\n",
       "</dd>\n",
       "\t<dt>$only</dt>\n",
       "\t\t<dd>22</dd>\n",
       "\t<dt>$our</dt>\n",
       "\t\t<dd>18</dd>\n",
       "\t<dt>$output</dt>\n",
       "\t\t<dd><ol class=list-inline>\n",
       "\t<li>12</li>\n",
       "\t<li>19</li>\n",
       "\t<li>39</li>\n",
       "\t<li>57</li>\n",
       "</ol>\n",
       "</dd>\n",
       "\t<dt>$over</dt>\n",
       "\t\t<dd>46</dd>\n",
       "\t<dt>$per</dt>\n",
       "\t\t<dd>61</dd>\n",
       "\t<dt>$read</dt>\n",
       "\t\t<dd>37</dd>\n",
       "\t<dt>$redundant</dt>\n",
       "\t\t<dd>31</dd>\n",
       "\t<dt>$row</dt>\n",
       "\t\t<dd><ol class=list-inline>\n",
       "\t<li>62</li>\n",
       "\t<li>65</li>\n",
       "</ol>\n",
       "</dd>\n",
       "\t<dt>$rows</dt>\n",
       "\t\t<dd>55</dd>\n",
       "\t<dt>$second</dt>\n",
       "\t\t<dd>64</dd>\n",
       "\t<dt>$six</dt>\n",
       "\t\t<dd>59</dd>\n",
       "\t<dt>$so</dt>\n",
       "\t\t<dd>28</dd>\n",
       "\t<dt>$spread</dt>\n",
       "\t\t<dd>45</dd>\n",
       "\t<dt>$that</dt>\n",
       "\t\t<dd><ol class=list-inline>\n",
       "\t<li>4</li>\n",
       "\t<li>40</li>\n",
       "</ol>\n",
       "</dd>\n",
       "\t<dt>$the</dt>\n",
       "\t\t<dd><ol class=list-inline>\n",
       "\t<li>1</li>\n",
       "\t<li>5</li>\n",
       "\t<li>63</li>\n",
       "</ol>\n",
       "</dd>\n",
       "\t<dt>$there</dt>\n",
       "\t\t<dd>52</dd>\n",
       "\t<dt>$this</dt>\n",
       "\t\t<dd><ol class=list-inline>\n",
       "\t<li>9</li>\n",
       "\t<li>16</li>\n",
       "\t<li>29</li>\n",
       "\t<li>33</li>\n",
       "</ol>\n",
       "</dd>\n",
       "\t<dt>$to</dt>\n",
       "\t\t<dd>36</dd>\n",
       "\t<dt>$two</dt>\n",
       "\t\t<dd>54</dd>\n",
       "\t<dt>$voluminous</dt>\n",
       "\t\t<dd>38</dd>\n",
       "\t<dt>$were</dt>\n",
       "\t\t<dd>53</dd>\n",
       "\t<dt>$with</dt>\n",
       "\t\t<dd>58</dd>\n",
       "\t<dt>$would</dt>\n",
       "\t\t<dd>66</dd>\n",
       "</dl>\n"
      ],
      "text/latex": [
       "\\begin{description}\n",
       "\\item[\\$and] 25\n",
       "\\item[\\$be] 67\n",
       "\\item[\\$but] 32\n",
       "\\item[\\$case] 17\n",
       "\\item[\\$consists] \\begin{enumerate*}\n",
       "\\item 20\n",
       "\\item 41\n",
       "\\end{enumerate*}\n",
       "\n",
       "\\item[\\$example] 50\n",
       "\\item[\\$first] 6\n",
       "\\item[\\$`for`] 49\n",
       "\\item[\\$helps] 35\n",
       "\\item[\\$here] 2\n",
       "\\item[\\$`if`] 51\n",
       "\\item[\\$`in`] \\begin{enumerate*}\n",
       "\\item 8\n",
       "\\item 15\n",
       "\\end{enumerate*}\n",
       "\n",
       "\\item[\\$is] \\begin{enumerate*}\n",
       "\\item 13\n",
       "\\item 30\n",
       "\\end{enumerate*}\n",
       "\n",
       "\\item[\\$item] \\begin{enumerate*}\n",
       "\\item 7\n",
       "\\item 14\n",
       "\\item 27\n",
       "\\end{enumerate*}\n",
       "\n",
       "\\item[\\$items] \\begin{enumerate*}\n",
       "\\item 44\n",
       "\\item 60\n",
       "\\end{enumerate*}\n",
       "\n",
       "\\item[\\$labeled] 68\n",
       "\\item[\\$line] \\begin{enumerate*}\n",
       "\\item 10\n",
       "\\item 24\n",
       "\\end{enumerate*}\n",
       "\n",
       "\\item[\\$lines] 48\n",
       "\\item[\\$many] \\begin{enumerate*}\n",
       "\\item 43\n",
       "\\item 47\n",
       "\\end{enumerate*}\n",
       "\n",
       "\\item[\\$means] 3\n",
       "\\item[\\$notation] 34\n",
       "\\item[\\$of] \\begin{enumerate*}\n",
       "\\item 11\n",
       "\\item 21\n",
       "\\item 42\n",
       "\\item 56\n",
       "\\end{enumerate*}\n",
       "\n",
       "\\item[\\$one] \\begin{enumerate*}\n",
       "\\item 23\n",
       "\\item 26\n",
       "\\end{enumerate*}\n",
       "\n",
       "\\item[\\$only] 22\n",
       "\\item[\\$our] 18\n",
       "\\item[\\$output] \\begin{enumerate*}\n",
       "\\item 12\n",
       "\\item 19\n",
       "\\item 39\n",
       "\\item 57\n",
       "\\end{enumerate*}\n",
       "\n",
       "\\item[\\$over] 46\n",
       "\\item[\\$per] 61\n",
       "\\item[\\$read] 37\n",
       "\\item[\\$redundant] 31\n",
       "\\item[\\$row] \\begin{enumerate*}\n",
       "\\item 62\n",
       "\\item 65\n",
       "\\end{enumerate*}\n",
       "\n",
       "\\item[\\$rows] 55\n",
       "\\item[\\$second] 64\n",
       "\\item[\\$six] 59\n",
       "\\item[\\$so] 28\n",
       "\\item[\\$spread] 45\n",
       "\\item[\\$that] \\begin{enumerate*}\n",
       "\\item 4\n",
       "\\item 40\n",
       "\\end{enumerate*}\n",
       "\n",
       "\\item[\\$the] \\begin{enumerate*}\n",
       "\\item 1\n",
       "\\item 5\n",
       "\\item 63\n",
       "\\end{enumerate*}\n",
       "\n",
       "\\item[\\$there] 52\n",
       "\\item[\\$this] \\begin{enumerate*}\n",
       "\\item 9\n",
       "\\item 16\n",
       "\\item 29\n",
       "\\item 33\n",
       "\\end{enumerate*}\n",
       "\n",
       "\\item[\\$to] 36\n",
       "\\item[\\$two] 54\n",
       "\\item[\\$voluminous] 38\n",
       "\\item[\\$were] 53\n",
       "\\item[\\$with] 58\n",
       "\\item[\\$would] 66\n",
       "\\end{description}\n"
      ],
      "text/markdown": [
       "$and\n",
       ":   25\n",
       "$be\n",
       ":   67\n",
       "$but\n",
       ":   32\n",
       "$case\n",
       ":   17\n",
       "$consists\n",
       ":   1. 20\n",
       "2. 41\n",
       "\n",
       "\n",
       "\n",
       "$example\n",
       ":   50\n",
       "$first\n",
       ":   6\n",
       "$`for`\n",
       ":   49\n",
       "$helps\n",
       ":   35\n",
       "$here\n",
       ":   2\n",
       "$`if`\n",
       ":   51\n",
       "$`in`\n",
       ":   1. 8\n",
       "2. 15\n",
       "\n",
       "\n",
       "\n",
       "$is\n",
       ":   1. 13\n",
       "2. 30\n",
       "\n",
       "\n",
       "\n",
       "$item\n",
       ":   1. 7\n",
       "2. 14\n",
       "3. 27\n",
       "\n",
       "\n",
       "\n",
       "$items\n",
       ":   1. 44\n",
       "2. 60\n",
       "\n",
       "\n",
       "\n",
       "$labeled\n",
       ":   68\n",
       "$line\n",
       ":   1. 10\n",
       "2. 24\n",
       "\n",
       "\n",
       "\n",
       "$lines\n",
       ":   48\n",
       "$many\n",
       ":   1. 43\n",
       "2. 47\n",
       "\n",
       "\n",
       "\n",
       "$means\n",
       ":   3\n",
       "$notation\n",
       ":   34\n",
       "$of\n",
       ":   1. 11\n",
       "2. 21\n",
       "3. 42\n",
       "4. 56\n",
       "\n",
       "\n",
       "\n",
       "$one\n",
       ":   1. 23\n",
       "2. 26\n",
       "\n",
       "\n",
       "\n",
       "$only\n",
       ":   22\n",
       "$our\n",
       ":   18\n",
       "$output\n",
       ":   1. 12\n",
       "2. 19\n",
       "3. 39\n",
       "4. 57\n",
       "\n",
       "\n",
       "\n",
       "$over\n",
       ":   46\n",
       "$per\n",
       ":   61\n",
       "$read\n",
       ":   37\n",
       "$redundant\n",
       ":   31\n",
       "$row\n",
       ":   1. 62\n",
       "2. 65\n",
       "\n",
       "\n",
       "\n",
       "$rows\n",
       ":   55\n",
       "$second\n",
       ":   64\n",
       "$six\n",
       ":   59\n",
       "$so\n",
       ":   28\n",
       "$spread\n",
       ":   45\n",
       "$that\n",
       ":   1. 4\n",
       "2. 40\n",
       "\n",
       "\n",
       "\n",
       "$the\n",
       ":   1. 1\n",
       "2. 5\n",
       "3. 63\n",
       "\n",
       "\n",
       "\n",
       "$there\n",
       ":   52\n",
       "$this\n",
       ":   1. 9\n",
       "2. 16\n",
       "3. 29\n",
       "4. 33\n",
       "\n",
       "\n",
       "\n",
       "$to\n",
       ":   36\n",
       "$two\n",
       ":   54\n",
       "$voluminous\n",
       ":   38\n",
       "$were\n",
       ":   53\n",
       "$with\n",
       ":   58\n",
       "$would\n",
       ":   66\n",
       "\n",
       "\n"
      ],
      "text/plain": [
       "$and\n",
       "[1] 25\n",
       "\n",
       "$be\n",
       "[1] 67\n",
       "\n",
       "$but\n",
       "[1] 32\n",
       "\n",
       "$case\n",
       "[1] 17\n",
       "\n",
       "$consists\n",
       "[1] 20 41\n",
       "\n",
       "$example\n",
       "[1] 50\n",
       "\n",
       "$first\n",
       "[1] 6\n",
       "\n",
       "$`for`\n",
       "[1] 49\n",
       "\n",
       "$helps\n",
       "[1] 35\n",
       "\n",
       "$here\n",
       "[1] 2\n",
       "\n",
       "$`if`\n",
       "[1] 51\n",
       "\n",
       "$`in`\n",
       "[1]  8 15\n",
       "\n",
       "$is\n",
       "[1] 13 30\n",
       "\n",
       "$item\n",
       "[1]  7 14 27\n",
       "\n",
       "$items\n",
       "[1] 44 60\n",
       "\n",
       "$labeled\n",
       "[1] 68\n",
       "\n",
       "$line\n",
       "[1] 10 24\n",
       "\n",
       "$lines\n",
       "[1] 48\n",
       "\n",
       "$many\n",
       "[1] 43 47\n",
       "\n",
       "$means\n",
       "[1] 3\n",
       "\n",
       "$notation\n",
       "[1] 34\n",
       "\n",
       "$of\n",
       "[1] 11 21 42 56\n",
       "\n",
       "$one\n",
       "[1] 23 26\n",
       "\n",
       "$only\n",
       "[1] 22\n",
       "\n",
       "$our\n",
       "[1] 18\n",
       "\n",
       "$output\n",
       "[1] 12 19 39 57\n",
       "\n",
       "$over\n",
       "[1] 46\n",
       "\n",
       "$per\n",
       "[1] 61\n",
       "\n",
       "$read\n",
       "[1] 37\n",
       "\n",
       "$redundant\n",
       "[1] 31\n",
       "\n",
       "$row\n",
       "[1] 62 65\n",
       "\n",
       "$rows\n",
       "[1] 55\n",
       "\n",
       "$second\n",
       "[1] 64\n",
       "\n",
       "$six\n",
       "[1] 59\n",
       "\n",
       "$so\n",
       "[1] 28\n",
       "\n",
       "$spread\n",
       "[1] 45\n",
       "\n",
       "$that\n",
       "[1]  4 40\n",
       "\n",
       "$the\n",
       "[1]  1  5 63\n",
       "\n",
       "$there\n",
       "[1] 52\n",
       "\n",
       "$this\n",
       "[1]  9 16 29 33\n",
       "\n",
       "$to\n",
       "[1] 36\n",
       "\n",
       "$two\n",
       "[1] 54\n",
       "\n",
       "$voluminous\n",
       "[1] 38\n",
       "\n",
       "$were\n",
       "[1] 53\n",
       "\n",
       "$with\n",
       "[1] 58\n",
       "\n",
       "$would\n",
       "[1] 66\n"
      ]
     },
     "metadata": {},
     "output_type": "display_data"
    }
   ],
   "source": [
    "findwords <- function(tf){\n",
    "    # 从文档读取单词数据，保存到字符向量\n",
    "    txt <- scan(tf, \"\")\n",
    "    words <- split(1:length(txt), txt)\n",
    "    return(words)\n",
    "}\n",
    "\n",
    "findwords(\"./data//testconcorda.txt\")"
   ]
  },
  {
   "cell_type": "markdown",
   "metadata": {},
   "source": [
    "#### 6.2.3 `by`函数(The `by()` function)"
   ]
  },
  {
   "cell_type": "code",
   "execution_count": 17,
   "metadata": {
    "ExecuteTime": {
     "end_time": "2018-06-07T15:21:29.121859Z",
     "start_time": "2018-06-07T15:21:28.404Z"
    }
   },
   "outputs": [],
   "source": [
    "# 如果没有\"abalone.data\"数据，可以根据如下方式获取\n",
    "# 参考：https://github.com/ajschumacher/gadsdc1/blob/master/dataset_research/kevin_abalone_dataset.md\n",
    "\n",
    "# read the dataset into a data frame\n",
    "# abalone <- read.csv(\"http://archive.ics.uci.edu/ml/machine-learning-databases/abalone/abalone.data\", header=FALSE)\n",
    "\n",
    "# # add column names\n",
    "# names(abalone) <- c(\"sex\", \"length\", \"diameter\", \"height\", \"weight.whole\",\n",
    "#     \"weight.shucked\", \"weight.viscera\", \"weight.shell\", \"rings\")\n",
    "\n",
    "# write.csv(abalone, file=\"./data/abalone.csv\")"
   ]
  },
  {
   "cell_type": "code",
   "execution_count": 18,
   "metadata": {
    "ExecuteTime": {
     "end_time": "2018-06-07T15:21:29.192380Z",
     "start_time": "2018-06-07T15:21:28.412Z"
    }
   },
   "outputs": [
    {
     "data": {
      "text/html": [
       "<table>\n",
       "<thead><tr><th scope=col>X</th><th scope=col>sex</th><th scope=col>length</th><th scope=col>diameter</th><th scope=col>height</th><th scope=col>weight.whole</th><th scope=col>weight.shucked</th><th scope=col>weight.viscera</th><th scope=col>weight.shell</th><th scope=col>rings</th></tr></thead>\n",
       "<tbody>\n",
       "\t<tr><td>1     </td><td>M     </td><td>0.455 </td><td>0.365 </td><td>0.095 </td><td>0.5140</td><td>0.2245</td><td>0.1010</td><td>0.150 </td><td>15    </td></tr>\n",
       "\t<tr><td>2     </td><td>M     </td><td>0.350 </td><td>0.265 </td><td>0.090 </td><td>0.2255</td><td>0.0995</td><td>0.0485</td><td>0.070 </td><td> 7    </td></tr>\n",
       "\t<tr><td>3     </td><td>F     </td><td>0.530 </td><td>0.420 </td><td>0.135 </td><td>0.6770</td><td>0.2565</td><td>0.1415</td><td>0.210 </td><td> 9    </td></tr>\n",
       "\t<tr><td>4     </td><td>M     </td><td>0.440 </td><td>0.365 </td><td>0.125 </td><td>0.5160</td><td>0.2155</td><td>0.1140</td><td>0.155 </td><td>10    </td></tr>\n",
       "\t<tr><td>5     </td><td>I     </td><td>0.330 </td><td>0.255 </td><td>0.080 </td><td>0.2050</td><td>0.0895</td><td>0.0395</td><td>0.055 </td><td> 7    </td></tr>\n",
       "\t<tr><td>6     </td><td>I     </td><td>0.425 </td><td>0.300 </td><td>0.095 </td><td>0.3515</td><td>0.1410</td><td>0.0775</td><td>0.120 </td><td> 8    </td></tr>\n",
       "</tbody>\n",
       "</table>\n"
      ],
      "text/latex": [
       "\\begin{tabular}{r|llllllllll}\n",
       " X & sex & length & diameter & height & weight.whole & weight.shucked & weight.viscera & weight.shell & rings\\\\\n",
       "\\hline\n",
       "\t 1      & M      & 0.455  & 0.365  & 0.095  & 0.5140 & 0.2245 & 0.1010 & 0.150  & 15    \\\\\n",
       "\t 2      & M      & 0.350  & 0.265  & 0.090  & 0.2255 & 0.0995 & 0.0485 & 0.070  &  7    \\\\\n",
       "\t 3      & F      & 0.530  & 0.420  & 0.135  & 0.6770 & 0.2565 & 0.1415 & 0.210  &  9    \\\\\n",
       "\t 4      & M      & 0.440  & 0.365  & 0.125  & 0.5160 & 0.2155 & 0.1140 & 0.155  & 10    \\\\\n",
       "\t 5      & I      & 0.330  & 0.255  & 0.080  & 0.2050 & 0.0895 & 0.0395 & 0.055  &  7    \\\\\n",
       "\t 6      & I      & 0.425  & 0.300  & 0.095  & 0.3515 & 0.1410 & 0.0775 & 0.120  &  8    \\\\\n",
       "\\end{tabular}\n"
      ],
      "text/markdown": [
       "\n",
       "X | sex | length | diameter | height | weight.whole | weight.shucked | weight.viscera | weight.shell | rings | \n",
       "|---|---|---|---|---|---|\n",
       "| 1      | M      | 0.455  | 0.365  | 0.095  | 0.5140 | 0.2245 | 0.1010 | 0.150  | 15     | \n",
       "| 2      | M      | 0.350  | 0.265  | 0.090  | 0.2255 | 0.0995 | 0.0485 | 0.070  |  7     | \n",
       "| 3      | F      | 0.530  | 0.420  | 0.135  | 0.6770 | 0.2565 | 0.1415 | 0.210  |  9     | \n",
       "| 4      | M      | 0.440  | 0.365  | 0.125  | 0.5160 | 0.2155 | 0.1140 | 0.155  | 10     | \n",
       "| 5      | I      | 0.330  | 0.255  | 0.080  | 0.2050 | 0.0895 | 0.0395 | 0.055  |  7     | \n",
       "| 6      | I      | 0.425  | 0.300  | 0.095  | 0.3515 | 0.1410 | 0.0775 | 0.120  |  8     | \n",
       "\n",
       "\n"
      ],
      "text/plain": [
       "  X sex length diameter height weight.whole weight.shucked weight.viscera\n",
       "1 1 M   0.455  0.365    0.095  0.5140       0.2245         0.1010        \n",
       "2 2 M   0.350  0.265    0.090  0.2255       0.0995         0.0485        \n",
       "3 3 F   0.530  0.420    0.135  0.6770       0.2565         0.1415        \n",
       "4 4 M   0.440  0.365    0.125  0.5160       0.2155         0.1140        \n",
       "5 5 I   0.330  0.255    0.080  0.2050       0.0895         0.0395        \n",
       "6 6 I   0.425  0.300    0.095  0.3515       0.1410         0.0775        \n",
       "  weight.shell rings\n",
       "1 0.150        15   \n",
       "2 0.070         7   \n",
       "3 0.210         9   \n",
       "4 0.155        10   \n",
       "5 0.055         7   \n",
       "6 0.120         8   "
      ]
     },
     "metadata": {},
     "output_type": "display_data"
    }
   ],
   "source": [
    "aba <- read.csv(\"./data/abalone.csv\", header = T)\n",
    "head(aba)"
   ]
  },
  {
   "cell_type": "code",
   "execution_count": 19,
   "metadata": {
    "ExecuteTime": {
     "end_time": "2018-06-07T15:21:29.228965Z",
     "start_time": "2018-06-07T15:21:28.418Z"
    }
   },
   "outputs": [
    {
     "data": {
      "text/plain": [
       "aba$sex: F\n",
       "\n",
       "Call:\n",
       "lm(formula = m[, 3] ~ m[, 4])\n",
       "\n",
       "Coefficients:\n",
       "(Intercept)       m[, 4]  \n",
       "    0.04288      1.17918  \n",
       "\n",
       "------------------------------------------------------------ \n",
       "aba$sex: I\n",
       "\n",
       "Call:\n",
       "lm(formula = m[, 3] ~ m[, 4])\n",
       "\n",
       "Coefficients:\n",
       "(Intercept)       m[, 4]  \n",
       "    0.02997      1.21833  \n",
       "\n",
       "------------------------------------------------------------ \n",
       "aba$sex: M\n",
       "\n",
       "Call:\n",
       "lm(formula = m[, 3] ~ m[, 4])\n",
       "\n",
       "Coefficients:\n",
       "(Intercept)       m[, 4]  \n",
       "    0.03653      1.19480  \n"
      ]
     },
     "metadata": {},
     "output_type": "display_data"
    }
   ],
   "source": [
    "by(aba, aba$sex, function(m) lm(m[, 3]~m[, 4]))"
   ]
  },
  {
   "cell_type": "markdown",
   "metadata": {},
   "source": [
    "上面的语法可以清楚的看到，`by`的用法和`tapply`的使用十分相似：第一个参数都是待处理的数据，\n",
    "第二个是是分组用的`factor`，最后是要对每一组使用的函数。\n",
    "\n",
    "不同的是，`tapply`是根据`factor`找到`vector`的`indices`来分组，而`by`是根据`factor`\n",
    "找到`matrix(or data frame)`的`row number`来分组，最后都是分别应用函数。\n"
   ]
  },
  {
   "cell_type": "markdown",
   "metadata": {},
   "source": [
    "### 6.3 使用`Tables`（Working with Tables）"
   ]
  },
  {
   "cell_type": "code",
   "execution_count": 20,
   "metadata": {
    "ExecuteTime": {
     "end_time": "2018-06-07T15:21:29.260017Z",
     "start_time": "2018-06-07T15:21:28.425Z"
    }
   },
   "outputs": [
    {
     "data": {
      "text/html": [
       "<table>\n",
       "<thead><tr><th></th><th scope=col>a</th><th scope=col>bc</th></tr></thead>\n",
       "<tbody>\n",
       "\t<tr><th scope=row>5</th><td>2 </td><td>NA</td></tr>\n",
       "\t<tr><th scope=row>12</th><td>1 </td><td> 1</td></tr>\n",
       "\t<tr><th scope=row>13</th><td>2 </td><td> 1</td></tr>\n",
       "</tbody>\n",
       "</table>\n"
      ],
      "text/latex": [
       "\\begin{tabular}{r|ll}\n",
       "  & a & bc\\\\\n",
       "\\hline\n",
       "\t5 & 2  & NA\\\\\n",
       "\t12 & 1  &  1\\\\\n",
       "\t13 & 2  &  1\\\\\n",
       "\\end{tabular}\n"
      ],
      "text/markdown": [
       "\n",
       "| <!--/--> | a | bc | \n",
       "|---|---|---|\n",
       "| 5 | 2  | NA | \n",
       "| 12 | 1  |  1 | \n",
       "| 13 | 2  |  1 | \n",
       "\n",
       "\n"
      ],
      "text/plain": [
       "   a bc\n",
       "5  2 NA\n",
       "12 1  1\n",
       "13 2  1"
      ]
     },
     "metadata": {},
     "output_type": "display_data"
    }
   ],
   "source": [
    "# 在使用table之前，先来看一个例子\n",
    "u <- c(22, 8, 33, 6, 8, 29, -2)\n",
    "fl <- list(c(5,12,13,12,13,5,13),c(\"a\",\"bc\",\"a\",\"a\",\"bc\",\"a\",\"a\"))\n",
    "tapply(u, fl, length)"
   ]
  },
  {
   "cell_type": "markdown",
   "metadata": {},
   "source": [
    "可以看到，我们应用`tapply`，先将数据根据两个因素（分别为3个水平，2个水平）\n",
    "分为6组（3x2=6)，并分别调用`length`函数，返回结果如上。此表在统计学上叫做\n",
    "`contingency table`, `cross tabulation`, `crosstab`，也就是我们常\n",
    "说的交叉列联表，属于频数表的一种。\n",
    "\n",
    "注意到，这里含有一个`NA`值。显然如果没有对应因素的数据，应该显示为0。针对\n",
    "这种情况我们引入`table`函数，它可以返回正确的列联表。"
   ]
  },
  {
   "cell_type": "code",
   "execution_count": 21,
   "metadata": {
    "ExecuteTime": {
     "end_time": "2018-06-07T15:21:29.283562Z",
     "start_time": "2018-06-07T15:21:28.431Z"
    }
   },
   "outputs": [
    {
     "data": {
      "text/plain": [
       "    fl.2\n",
       "fl.1 a bc\n",
       "  5  2  0\n",
       "  12 1  1\n",
       "  13 2  1"
      ]
     },
     "metadata": {},
     "output_type": "display_data"
    }
   ],
   "source": [
    "table(fl)"
   ]
  },
  {
   "cell_type": "code",
   "execution_count": 22,
   "metadata": {
    "ExecuteTime": {
     "end_time": "2018-06-07T15:21:29.317062Z",
     "start_time": "2018-06-07T15:21:28.437Z"
    }
   },
   "outputs": [
    {
     "data": {
      "text/html": [
       "<table>\n",
       "<thead><tr><th scope=col>Vote.for.X</th><th scope=col>Voted.For.X.Last.Time</th></tr></thead>\n",
       "<tbody>\n",
       "\t<tr><td>Yes     </td><td>Yes     </td></tr>\n",
       "\t<tr><td>Yes     </td><td>No      </td></tr>\n",
       "\t<tr><td>No      </td><td>No      </td></tr>\n",
       "\t<tr><td>Not Sure</td><td>Yes     </td></tr>\n",
       "\t<tr><td>No      </td><td>No      </td></tr>\n",
       "</tbody>\n",
       "</table>\n"
      ],
      "text/latex": [
       "\\begin{tabular}{r|ll}\n",
       " Vote.for.X & Voted.For.X.Last.Time\\\\\n",
       "\\hline\n",
       "\t Yes      & Yes     \\\\\n",
       "\t Yes      & No      \\\\\n",
       "\t No       & No      \\\\\n",
       "\t Not Sure & Yes     \\\\\n",
       "\t No       & No      \\\\\n",
       "\\end{tabular}\n"
      ],
      "text/markdown": [
       "\n",
       "Vote.for.X | Voted.For.X.Last.Time | \n",
       "|---|---|---|---|---|\n",
       "| Yes      | Yes      | \n",
       "| Yes      | No       | \n",
       "| No       | No       | \n",
       "| Not Sure | Yes      | \n",
       "| No       | No       | \n",
       "\n",
       "\n"
      ],
      "text/plain": [
       "  Vote.for.X Voted.For.X.Last.Time\n",
       "1 Yes        Yes                  \n",
       "2 Yes        No                   \n",
       "3 No         No                   \n",
       "4 Not Sure   Yes                  \n",
       "5 No         No                   "
      ]
     },
     "metadata": {},
     "output_type": "display_data"
    }
   ],
   "source": [
    "# 用于data frame的例子\n",
    "ct <- read.table(\"./data//ct.dat\", header = T)\n",
    "ct"
   ]
  },
  {
   "cell_type": "code",
   "execution_count": 23,
   "metadata": {
    "ExecuteTime": {
     "end_time": "2018-06-07T15:21:29.341944Z",
     "start_time": "2018-06-07T15:21:28.444Z"
    }
   },
   "outputs": [
    {
     "data": {
      "text/plain": [
       "          Voted.For.X.Last.Time\n",
       "Vote.for.X No Yes\n",
       "  No        2   0\n",
       "  Not Sure  0   1\n",
       "  Yes       1   1"
      ]
     },
     "metadata": {},
     "output_type": "display_data"
    }
   ],
   "source": [
    "cttab <- table(ct)\n",
    "cttab"
   ]
  },
  {
   "cell_type": "markdown",
   "metadata": {},
   "source": [
    "如上，表格左上角的2表示上次没有投票给X，这次也没有投票给X的有两人\n",
    "（频数为2）"
   ]
  },
  {
   "cell_type": "code",
   "execution_count": 24,
   "metadata": {
    "ExecuteTime": {
     "end_time": "2018-06-07T15:21:29.366796Z",
     "start_time": "2018-06-07T15:21:28.452Z"
    }
   },
   "outputs": [
    {
     "data": {
      "text/plain": [
       "\n",
       " 5  8 12 13 \n",
       " 2  1  2  1 "
      ]
     },
     "metadata": {},
     "output_type": "display_data"
    }
   ],
   "source": [
    "# 也可用于一维数据计数\n",
    "table(c(5, 12, 13, 12, 8, 5))"
   ]
  },
  {
   "cell_type": "code",
   "execution_count": 25,
   "metadata": {
    "ExecuteTime": {
     "end_time": "2018-06-07T15:21:29.394825Z",
     "start_time": "2018-06-07T15:21:28.462Z"
    }
   },
   "outputs": [
    {
     "data": {
      "text/html": [
       "<table>\n",
       "<thead><tr><th scope=col>gender</th><th scope=col>race</th><th scope=col>pol</th></tr></thead>\n",
       "<tbody>\n",
       "\t<tr><td>M</td><td>W</td><td>L</td></tr>\n",
       "\t<tr><td>M</td><td>W</td><td>L</td></tr>\n",
       "\t<tr><td>F</td><td>A</td><td>C</td></tr>\n",
       "\t<tr><td>M</td><td>O</td><td>L</td></tr>\n",
       "\t<tr><td>F</td><td>B</td><td>L</td></tr>\n",
       "\t<tr><td>F</td><td>B</td><td>C</td></tr>\n",
       "</tbody>\n",
       "</table>\n"
      ],
      "text/latex": [
       "\\begin{tabular}{r|lll}\n",
       " gender & race & pol\\\\\n",
       "\\hline\n",
       "\t M & W & L\\\\\n",
       "\t M & W & L\\\\\n",
       "\t F & A & C\\\\\n",
       "\t M & O & L\\\\\n",
       "\t F & B & L\\\\\n",
       "\t F & B & C\\\\\n",
       "\\end{tabular}\n"
      ],
      "text/markdown": [
       "\n",
       "gender | race | pol | \n",
       "|---|---|---|---|---|---|\n",
       "| M | W | L | \n",
       "| M | W | L | \n",
       "| F | A | C | \n",
       "| M | O | L | \n",
       "| F | B | L | \n",
       "| F | B | C | \n",
       "\n",
       "\n"
      ],
      "text/plain": [
       "  gender race pol\n",
       "1 M      W    L  \n",
       "2 M      W    L  \n",
       "3 F      A    C  \n",
       "4 M      O    L  \n",
       "5 F      B    L  \n",
       "6 F      B    C  "
      ]
     },
     "metadata": {},
     "output_type": "display_data"
    }
   ],
   "source": [
    "# 三维数据\n",
    "v <- read.table(\"./data//voter.txt\", header = T)\n",
    "v"
   ]
  },
  {
   "cell_type": "code",
   "execution_count": 26,
   "metadata": {
    "ExecuteTime": {
     "end_time": "2018-06-07T15:21:29.427036Z",
     "start_time": "2018-06-07T15:21:28.468Z"
    }
   },
   "outputs": [
    {
     "data": {
      "text/plain": [
       ", , pol = C\n",
       "\n",
       "      race\n",
       "gender A B O W\n",
       "     F 1 1 0 0\n",
       "     M 0 0 0 0\n",
       "\n",
       ", , pol = L\n",
       "\n",
       "      race\n",
       "gender A B O W\n",
       "     F 0 1 0 0\n",
       "     M 0 0 1 2\n"
      ]
     },
     "metadata": {},
     "output_type": "display_data"
    }
   ],
   "source": [
    "vt <- table(v)\n",
    "vt"
   ]
  },
  {
   "cell_type": "markdown",
   "metadata": {},
   "source": [
    "#### 6.3.1 表中类似矩阵的操作(Matrix/Array-Like Operations on Tables)\n",
    "\n",
    "就像之前介绍的矩阵或数组类似的操作可以用于`data frames`一样，\n",
    "他们同样可以运用到`table`，这是容易想到的，因为之前的`table()`\n",
    "函数返回的结果就是一个数组。    \n",
    "\n",
    "下面看一个例子，比如我们可以使用和矩阵一样的方法来索引交叉表中\n",
    "计数的值为多少。"
   ]
  },
  {
   "cell_type": "code",
   "execution_count": 27,
   "metadata": {
    "ExecuteTime": {
     "end_time": "2018-06-07T15:21:29.460827Z",
     "start_time": "2018-06-07T15:21:28.476Z"
    }
   },
   "outputs": [
    {
     "data": {
      "text/plain": [
       "          Voted.For.X.Last.Time\n",
       "Vote.for.X No Yes\n",
       "  No        2   0\n",
       "  Not Sure  0   1\n",
       "  Yes       1   1"
      ]
     },
     "metadata": {},
     "output_type": "display_data"
    }
   ],
   "source": [
    "cttab"
   ]
  },
  {
   "cell_type": "code",
   "execution_count": 28,
   "metadata": {
    "ExecuteTime": {
     "end_time": "2018-06-07T15:21:29.486322Z",
     "start_time": "2018-06-07T15:21:28.482Z"
    }
   },
   "outputs": [
    {
     "data": {
      "text/html": [
       "'table'"
      ],
      "text/latex": [
       "'table'"
      ],
      "text/markdown": [
       "'table'"
      ],
      "text/plain": [
       "[1] \"table\""
      ]
     },
     "metadata": {},
     "output_type": "display_data"
    }
   ],
   "source": [
    "class(cttab)"
   ]
  },
  {
   "cell_type": "code",
   "execution_count": 29,
   "metadata": {
    "ExecuteTime": {
     "end_time": "2018-06-07T15:21:29.510278Z",
     "start_time": "2018-06-07T15:21:28.487Z"
    }
   },
   "outputs": [
    {
     "data": {
      "text/html": [
       "2"
      ],
      "text/latex": [
       "2"
      ],
      "text/markdown": [
       "2"
      ],
      "text/plain": [
       "[1] 2"
      ]
     },
     "metadata": {},
     "output_type": "display_data"
    }
   ],
   "source": [
    "cttab[1, 1]"
   ]
  },
  {
   "cell_type": "code",
   "execution_count": 30,
   "metadata": {
    "ExecuteTime": {
     "end_time": "2018-06-07T15:21:29.530166Z",
     "start_time": "2018-06-07T15:21:28.493Z"
    }
   },
   "outputs": [
    {
     "data": {
      "text/html": [
       "<dl class=dl-horizontal>\n",
       "\t<dt>No</dt>\n",
       "\t\t<dd>2</dd>\n",
       "\t<dt>Yes</dt>\n",
       "\t\t<dd>0</dd>\n",
       "</dl>\n"
      ],
      "text/latex": [
       "\\begin{description*}\n",
       "\\item[No] 2\n",
       "\\item[Yes] 0\n",
       "\\end{description*}\n"
      ],
      "text/markdown": [
       "No\n",
       ":   2Yes\n",
       ":   0\n",
       "\n"
      ],
      "text/plain": [
       " No Yes \n",
       "  2   0 "
      ]
     },
     "metadata": {},
     "output_type": "display_data"
    }
   ],
   "source": [
    "cttab[1, ]"
   ]
  },
  {
   "cell_type": "markdown",
   "metadata": {},
   "source": [
    "以上可以看到，尽管`cttab`是一个`table`, 但是我们可以把它看作矩阵\n",
    "一样，通过`[1, 1]`获取第一行第一列的数据，通过`[1, ]`获取第一行的\n",
    "数据。\n",
    "\n",
    "此外，我们可以对`table`整体进行数乘运算，同样是和矩阵类似的。如下，\n",
    "我们把计数数据转化为比例数据。"
   ]
  },
  {
   "cell_type": "code",
   "execution_count": 31,
   "metadata": {
    "ExecuteTime": {
     "end_time": "2018-06-07T15:21:29.569100Z",
     "start_time": "2018-06-07T15:21:28.499Z"
    }
   },
   "outputs": [
    {
     "data": {
      "text/plain": [
       "          Voted.For.X.Last.Time\n",
       "Vote.for.X  No Yes\n",
       "  No       0.4 0.0\n",
       "  Not Sure 0.0 0.2\n",
       "  Yes      0.2 0.2"
      ]
     },
     "metadata": {},
     "output_type": "display_data"
    }
   ],
   "source": [
    "cttab/5"
   ]
  },
  {
   "cell_type": "markdown",
   "metadata": {},
   "source": [
    "在统计学上，变量边际值(`marginal values`)是在保持本变量\n",
    "不懂的情况下，将此时其他变量的值加总得到。看下面的例子, 我们\n",
    "通过对行求和来得到变量`Vote.for.X`的边际值。"
   ]
  },
  {
   "cell_type": "code",
   "execution_count": 32,
   "metadata": {
    "ExecuteTime": {
     "end_time": "2018-06-07T15:21:29.590430Z",
     "start_time": "2018-06-07T15:21:28.504Z"
    }
   },
   "outputs": [
    {
     "data": {
      "text/html": [
       "<dl class=dl-horizontal>\n",
       "\t<dt>No</dt>\n",
       "\t\t<dd>2</dd>\n",
       "\t<dt>Not Sure</dt>\n",
       "\t\t<dd>1</dd>\n",
       "\t<dt>Yes</dt>\n",
       "\t\t<dd>2</dd>\n",
       "</dl>\n"
      ],
      "text/latex": [
       "\\begin{description*}\n",
       "\\item[No] 2\n",
       "\\item[Not Sure] 1\n",
       "\\item[Yes] 2\n",
       "\\end{description*}\n"
      ],
      "text/markdown": [
       "No\n",
       ":   2Not Sure\n",
       ":   1Yes\n",
       ":   2\n",
       "\n"
      ],
      "text/plain": [
       "      No Not Sure      Yes \n",
       "       2        1        2 "
      ]
     },
     "metadata": {},
     "output_type": "display_data"
    }
   ],
   "source": [
    "apply(cttab, 1 ,sum)"
   ]
  },
  {
   "cell_type": "markdown",
   "metadata": {},
   "source": [
    "上面的做法是可行的，不过R本身已经考虑到求边际值的问题，所以为我们\n",
    "提供了`addmargins()`函数，它自动添加有关变量的边际值到表中。"
   ]
  },
  {
   "cell_type": "code",
   "execution_count": 33,
   "metadata": {
    "ExecuteTime": {
     "end_time": "2018-06-07T15:21:29.618960Z",
     "start_time": "2018-06-07T15:21:28.508Z"
    }
   },
   "outputs": [
    {
     "data": {
      "text/html": [
       "<table>\n",
       "<thead><tr><th></th><th scope=col>No</th><th scope=col>Yes</th><th scope=col>Sum</th></tr></thead>\n",
       "<tbody>\n",
       "\t<tr><th scope=row>No</th><td>2</td><td>0</td><td>2</td></tr>\n",
       "\t<tr><th scope=row>Not Sure</th><td>0</td><td>1</td><td>1</td></tr>\n",
       "\t<tr><th scope=row>Yes</th><td>1</td><td>1</td><td>2</td></tr>\n",
       "\t<tr><th scope=row>Sum</th><td>3</td><td>2</td><td>5</td></tr>\n",
       "</tbody>\n",
       "</table>\n"
      ],
      "text/latex": [
       "\\begin{tabular}{r|lll}\n",
       "  & No & Yes & Sum\\\\\n",
       "\\hline\n",
       "\tNo & 2 & 0 & 2\\\\\n",
       "\tNot Sure & 0 & 1 & 1\\\\\n",
       "\tYes & 1 & 1 & 2\\\\\n",
       "\tSum & 3 & 2 & 5\\\\\n",
       "\\end{tabular}\n"
      ],
      "text/markdown": [
       "\n",
       "| <!--/--> | No | Yes | Sum | \n",
       "|---|---|---|---|\n",
       "| No | 2 | 0 | 2 | \n",
       "| Not Sure | 0 | 1 | 1 | \n",
       "| Yes | 1 | 1 | 2 | \n",
       "| Sum | 3 | 2 | 5 | \n",
       "\n",
       "\n"
      ],
      "text/plain": [
       "          Voted.For.X.Last.Time\n",
       "Vote.for.X No Yes Sum\n",
       "  No       2  0   2  \n",
       "  Not Sure 0  1   1  \n",
       "  Yes      1  1   2  \n",
       "  Sum      3  2   5  "
      ]
     },
     "metadata": {},
     "output_type": "display_data"
    }
   ],
   "source": [
    "addmargins(cttab)"
   ]
  },
  {
   "cell_type": "markdown",
   "metadata": {},
   "source": [
    "我们也可以获取表中维度的名称和各维度的水平。"
   ]
  },
  {
   "cell_type": "code",
   "execution_count": 34,
   "metadata": {
    "ExecuteTime": {
     "end_time": "2018-06-07T15:21:29.644291Z",
     "start_time": "2018-06-07T15:21:28.516Z"
    }
   },
   "outputs": [
    {
     "data": {
      "text/html": [
       "<dl>\n",
       "\t<dt>$Vote.for.X</dt>\n",
       "\t\t<dd><ol class=list-inline>\n",
       "\t<li>'No'</li>\n",
       "\t<li>'Not Sure'</li>\n",
       "\t<li>'Yes'</li>\n",
       "</ol>\n",
       "</dd>\n",
       "\t<dt>$Voted.For.X.Last.Time</dt>\n",
       "\t\t<dd><ol class=list-inline>\n",
       "\t<li>'No'</li>\n",
       "\t<li>'Yes'</li>\n",
       "</ol>\n",
       "</dd>\n",
       "</dl>\n"
      ],
      "text/latex": [
       "\\begin{description}\n",
       "\\item[\\$Vote.for.X] \\begin{enumerate*}\n",
       "\\item 'No'\n",
       "\\item 'Not Sure'\n",
       "\\item 'Yes'\n",
       "\\end{enumerate*}\n",
       "\n",
       "\\item[\\$Voted.For.X.Last.Time] \\begin{enumerate*}\n",
       "\\item 'No'\n",
       "\\item 'Yes'\n",
       "\\end{enumerate*}\n",
       "\n",
       "\\end{description}\n"
      ],
      "text/markdown": [
       "$Vote.for.X\n",
       ":   1. 'No'\n",
       "2. 'Not Sure'\n",
       "3. 'Yes'\n",
       "\n",
       "\n",
       "\n",
       "$Voted.For.X.Last.Time\n",
       ":   1. 'No'\n",
       "2. 'Yes'\n",
       "\n",
       "\n",
       "\n",
       "\n",
       "\n"
      ],
      "text/plain": [
       "$Vote.for.X\n",
       "[1] \"No\"       \"Not Sure\" \"Yes\"     \n",
       "\n",
       "$Voted.For.X.Last.Time\n",
       "[1] \"No\"  \"Yes\"\n"
      ]
     },
     "metadata": {},
     "output_type": "display_data"
    }
   ],
   "source": [
    "dimnames(cttab)"
   ]
  },
  {
   "cell_type": "markdown",
   "metadata": {},
   "source": [
    "#### 6.3.2 拓展：提取子表(Extended Example: Extracting a Subtable)"
   ]
  },
  {
   "cell_type": "code",
   "execution_count": 35,
   "metadata": {
    "ExecuteTime": {
     "end_time": "2018-06-07T15:21:29.666047Z",
     "start_time": "2018-06-07T15:21:28.521Z"
    }
   },
   "outputs": [
    {
     "data": {
      "text/plain": [
       "          Voted.For.X.Last.Time\n",
       "Vote.for.X No Yes\n",
       "  No        2   0\n",
       "  Not Sure  0   1\n",
       "  Yes       1   1"
      ]
     },
     "metadata": {},
     "output_type": "display_data"
    }
   ],
   "source": [
    "cttab"
   ]
  },
  {
   "cell_type": "markdown",
   "metadata": {},
   "source": [
    "上面的全部的交叉表，那么，如果我们只想取其中一部分来用呢，比如\n",
    "只取`No`和`Yes`的情况。\n",
    "\n",
    "我们可以写一个的`subtable()`函数，来供我们提取表的一部分。\n",
    "它有两个参数，`tbl`为待提取的较大的表，`subnames`是一个`list`用来指定\n",
    "想要提取的部分。其中`list`的每个`component`都是对应于前面`tbl`的`dimname`,\n",
    "并通过指定对应的`levels`来具体指定索引的内容。"
   ]
  },
  {
   "cell_type": "code",
   "execution_count": 36,
   "metadata": {
    "ExecuteTime": {
     "end_time": "2018-06-07T15:21:29.686928Z",
     "start_time": "2018-06-07T15:21:28.525Z"
    }
   },
   "outputs": [],
   "source": [
    "subtable <- function(tbl, subnames){\n",
    "    # get array of celll counts in tbl\n",
    "    tblarray <- unclass(tbl)\n",
    "    # we'll get the subarray of cell counts corresponding \n",
    "    # to subnames by calling do.call() on the \"[\" function;\n",
    "    # we need to build a list of arguments first\n",
    "    dcargs <- list(tblarray)\n",
    "    ndims <- length(subnames)  # number of dimensions\n",
    "    for (i in 1:ndims){\n",
    "        dcargs[[i+1]] <- subnames[[i]]\n",
    "    }\n",
    "    subarray <- do.call(\"[\", dcargs)  # 注意，前面提到过，“[”是函数\n",
    "    dims <- lapply(subnames, length)\n",
    "    subtbl <- array(subarray, dims, dimnames=subnames)\n",
    "    class(subtbl) <- \"table\"\n",
    "    return(subtbl)\n",
    "}"
   ]
  },
  {
   "cell_type": "markdown",
   "metadata": {},
   "source": [
    "这个自定义的函数有些可能不太熟悉的用法，比如`do.call`等，这些在书中作者进行了\n",
    "详细的分解，这里不再重复。"
   ]
  },
  {
   "cell_type": "code",
   "execution_count": 37,
   "metadata": {
    "ExecuteTime": {
     "end_time": "2018-06-07T15:21:29.709715Z",
     "start_time": "2018-06-07T15:21:28.530Z"
    }
   },
   "outputs": [
    {
     "data": {
      "text/html": [
       "<dl>\n",
       "\t<dt>$Vote.for.X</dt>\n",
       "\t\t<dd><ol class=list-inline>\n",
       "\t<li>'No'</li>\n",
       "\t<li>'Yes'</li>\n",
       "</ol>\n",
       "</dd>\n",
       "\t<dt>$Voted.for.X.Last.Time</dt>\n",
       "\t\t<dd><ol class=list-inline>\n",
       "\t<li>'No'</li>\n",
       "\t<li>'Yes'</li>\n",
       "</ol>\n",
       "</dd>\n",
       "</dl>\n"
      ],
      "text/latex": [
       "\\begin{description}\n",
       "\\item[\\$Vote.for.X] \\begin{enumerate*}\n",
       "\\item 'No'\n",
       "\\item 'Yes'\n",
       "\\end{enumerate*}\n",
       "\n",
       "\\item[\\$Voted.for.X.Last.Time] \\begin{enumerate*}\n",
       "\\item 'No'\n",
       "\\item 'Yes'\n",
       "\\end{enumerate*}\n",
       "\n",
       "\\end{description}\n"
      ],
      "text/markdown": [
       "$Vote.for.X\n",
       ":   1. 'No'\n",
       "2. 'Yes'\n",
       "\n",
       "\n",
       "\n",
       "$Voted.for.X.Last.Time\n",
       ":   1. 'No'\n",
       "2. 'Yes'\n",
       "\n",
       "\n",
       "\n",
       "\n",
       "\n"
      ],
      "text/plain": [
       "$Vote.for.X\n",
       "[1] \"No\"  \"Yes\"\n",
       "\n",
       "$Voted.for.X.Last.Time\n",
       "[1] \"No\"  \"Yes\"\n"
      ]
     },
     "metadata": {},
     "output_type": "display_data"
    }
   ],
   "source": [
    "list(Vote.for.X=c(\"No\", \"Yes\"), Voted.for.X.Last.Time=c(\"No\", \"Yes\"))"
   ]
  },
  {
   "cell_type": "code",
   "execution_count": 38,
   "metadata": {
    "ExecuteTime": {
     "end_time": "2018-06-07T15:21:29.750647Z",
     "start_time": "2018-06-07T15:21:28.536Z"
    }
   },
   "outputs": [
    {
     "data": {
      "text/plain": [
       "          Voted.for.X.Last.Time\n",
       "Vote.for.X No Yes\n",
       "       No   2   0\n",
       "       Yes  1   1"
      ]
     },
     "metadata": {},
     "output_type": "display_data"
    }
   ],
   "source": [
    "subtable(cttab, list(Vote.for.X=c(\"No\", \"Yes\"), Voted.for.X.Last.Time=c(\"No\", \"Yes\")))"
   ]
  },
  {
   "cell_type": "markdown",
   "metadata": {},
   "source": [
    "上面的方法具有较强的适用性，不过在原始表维度比较少的时候，我们也可以使用之前类似矩阵\n",
    "索引的方法来实现，如下所示。"
   ]
  },
  {
   "cell_type": "code",
   "execution_count": 39,
   "metadata": {
    "ExecuteTime": {
     "end_time": "2018-06-07T15:21:29.775673Z",
     "start_time": "2018-06-07T15:21:28.540Z"
    }
   },
   "outputs": [
    {
     "data": {
      "text/plain": [
       "          Voted.For.X.Last.Time\n",
       "Vote.for.X No Yes\n",
       "  No        2   0\n",
       "  Not Sure  0   1"
      ]
     },
     "metadata": {},
     "output_type": "display_data"
    }
   ],
   "source": [
    "cttab[1:2, 1:2]"
   ]
  },
  {
   "cell_type": "code",
   "execution_count": 40,
   "metadata": {
    "ExecuteTime": {
     "end_time": "2018-06-07T15:21:29.802610Z",
     "start_time": "2018-06-07T15:21:28.545Z"
    }
   },
   "outputs": [
    {
     "data": {
      "text/html": [
       "'table'"
      ],
      "text/latex": [
       "'table'"
      ],
      "text/markdown": [
       "'table'"
      ],
      "text/plain": [
       "[1] \"table\""
      ]
     },
     "metadata": {},
     "output_type": "display_data"
    }
   ],
   "source": [
    "class(cttab[1:2, 1:2])"
   ]
  },
  {
   "cell_type": "markdown",
   "metadata": {},
   "source": [
    "#### 6.3.3 拓展：找到表中数据最大的单元格(Extended Example: Finding the Largest Cells in a Table)\n",
    "\n",
    "如果我们想要找到频率最大的元素所对应的位置，在数据\n",
    "维度包含的水平较少时，我们可以直接观察得到，但是在\n",
    "`table`比较大的时候就不能直接取寻找了。我们定义以下\n",
    "`tabdom(tbl, k)`函数来寻找`tbl`中频率排前`k`的元素。"
   ]
  },
  {
   "cell_type": "code",
   "execution_count": 41,
   "metadata": {
    "ExecuteTime": {
     "end_time": "2018-06-07T15:21:29.819378Z",
     "start_time": "2018-06-07T15:21:28.556Z"
    }
   },
   "outputs": [],
   "source": [
    "# finds the cells in table tbl with the k highest\n",
    "# frequencies; handling of ties is unrefind\n",
    "tabdom <- function(tbl, k){\n",
    "    # create a data frame representation of tbl,\n",
    "    # adding a Freq column\n",
    "    tbldf <- as.data.frame(tbl)\n",
    "    # determine the proper positions of the frequencies\n",
    "    # in a sorted order\n",
    "    freqord <- order(tbldf$Freq, decreasing = TRUE)\n",
    "    # rearrange the data frame in that order, and \n",
    "    # take the first k rows\n",
    "    dom <- tbldf[freqord, ][1:k,]\n",
    "    return(dom)\n",
    "}"
   ]
  },
  {
   "cell_type": "code",
   "execution_count": 42,
   "metadata": {
    "ExecuteTime": {
     "end_time": "2018-06-07T15:21:29.849282Z",
     "start_time": "2018-06-07T15:21:28.562Z"
    },
    "scrolled": true
   },
   "outputs": [
    {
     "data": {
      "text/html": [
       "<table>\n",
       "<thead><tr><th scope=col>Vote.for.X</th><th scope=col>Voted.For.X.Last.Time</th><th scope=col>Freq</th></tr></thead>\n",
       "<tbody>\n",
       "\t<tr><td>No      </td><td>No      </td><td>2       </td></tr>\n",
       "\t<tr><td>Not Sure</td><td>No      </td><td>0       </td></tr>\n",
       "\t<tr><td>Yes     </td><td>No      </td><td>1       </td></tr>\n",
       "\t<tr><td>No      </td><td>Yes     </td><td>0       </td></tr>\n",
       "\t<tr><td>Not Sure</td><td>Yes     </td><td>1       </td></tr>\n",
       "\t<tr><td>Yes     </td><td>Yes     </td><td>1       </td></tr>\n",
       "</tbody>\n",
       "</table>\n"
      ],
      "text/latex": [
       "\\begin{tabular}{r|lll}\n",
       " Vote.for.X & Voted.For.X.Last.Time & Freq\\\\\n",
       "\\hline\n",
       "\t No       & No       & 2       \\\\\n",
       "\t Not Sure & No       & 0       \\\\\n",
       "\t Yes      & No       & 1       \\\\\n",
       "\t No       & Yes      & 0       \\\\\n",
       "\t Not Sure & Yes      & 1       \\\\\n",
       "\t Yes      & Yes      & 1       \\\\\n",
       "\\end{tabular}\n"
      ],
      "text/markdown": [
       "\n",
       "Vote.for.X | Voted.For.X.Last.Time | Freq | \n",
       "|---|---|---|---|---|---|\n",
       "| No       | No       | 2        | \n",
       "| Not Sure | No       | 0        | \n",
       "| Yes      | No       | 1        | \n",
       "| No       | Yes      | 0        | \n",
       "| Not Sure | Yes      | 1        | \n",
       "| Yes      | Yes      | 1        | \n",
       "\n",
       "\n"
      ],
      "text/plain": [
       "  Vote.for.X Voted.For.X.Last.Time Freq\n",
       "1 No         No                    2   \n",
       "2 Not Sure   No                    0   \n",
       "3 Yes        No                    1   \n",
       "4 No         Yes                   0   \n",
       "5 Not Sure   Yes                   1   \n",
       "6 Yes        Yes                   1   "
      ]
     },
     "metadata": {},
     "output_type": "display_data"
    }
   ],
   "source": [
    "# 将table转化为data.frame的方法\n",
    "# 上述函数需要的是一个data.frame,且带有Freq列\n",
    "as.data.frame(cttab)"
   ]
  },
  {
   "cell_type": "code",
   "execution_count": 43,
   "metadata": {
    "ExecuteTime": {
     "end_time": "2018-06-07T15:21:29.879203Z",
     "start_time": "2018-06-07T15:21:28.575Z"
    },
    "scrolled": true
   },
   "outputs": [
    {
     "data": {
      "text/html": [
       "<table>\n",
       "<thead><tr><th></th><th scope=col>Vote.for.X</th><th scope=col>Voted.For.X.Last.Time</th><th scope=col>Freq</th></tr></thead>\n",
       "<tbody>\n",
       "\t<tr><th scope=row>1</th><td>No </td><td>No </td><td>2  </td></tr>\n",
       "\t<tr><th scope=row>3</th><td>Yes</td><td>No </td><td>1  </td></tr>\n",
       "</tbody>\n",
       "</table>\n"
      ],
      "text/latex": [
       "\\begin{tabular}{r|lll}\n",
       "  & Vote.for.X & Voted.For.X.Last.Time & Freq\\\\\n",
       "\\hline\n",
       "\t1 & No  & No  & 2  \\\\\n",
       "\t3 & Yes & No  & 1  \\\\\n",
       "\\end{tabular}\n"
      ],
      "text/markdown": [
       "\n",
       "| <!--/--> | Vote.for.X | Voted.For.X.Last.Time | Freq | \n",
       "|---|---|\n",
       "| 1 | No  | No  | 2   | \n",
       "| 3 | Yes | No  | 1   | \n",
       "\n",
       "\n"
      ],
      "text/plain": [
       "  Vote.for.X Voted.For.X.Last.Time Freq\n",
       "1 No         No                    2   \n",
       "3 Yes        No                    1   "
      ]
     },
     "metadata": {},
     "output_type": "display_data"
    }
   ],
   "source": [
    "# 投票数据中频率最高的两种情况\n",
    "tabdom(as.data.frame(cttab), 2)"
   ]
  },
  {
   "cell_type": "markdown",
   "metadata": {},
   "source": [
    "### 6.4 与`Factor`和`Table`相关的函数(Other Factor and Table Related functions)\n",
    "\n",
    "主要学习`cut()`和`aggregate()`两个函数。\n",
    "\n",
    "另外，`reshape`和`plyr`是是两个非常好用的包，使用他们可以很方便地操作数据。"
   ]
  },
  {
   "cell_type": "markdown",
   "metadata": {},
   "source": [
    "#### 6.4.1 `aggregate()`函数(The aggregate() function)\n",
    "\n",
    "`aggregate()`函数对组内的每一个变量调用一次`tapply()`. 比如我们想要获取\n",
    "abalone数据中每个变量的中位数，并按照性别分组，如下："
   ]
  },
  {
   "cell_type": "code",
   "execution_count": 44,
   "metadata": {
    "ExecuteTime": {
     "end_time": "2018-06-07T15:21:29.905069Z",
     "start_time": "2018-06-07T15:21:28.585Z"
    }
   },
   "outputs": [
    {
     "data": {
      "text/html": [
       "<table>\n",
       "<thead><tr><th scope=col>X</th><th scope=col>sex</th><th scope=col>length</th><th scope=col>diameter</th><th scope=col>height</th><th scope=col>weight.whole</th><th scope=col>weight.shucked</th><th scope=col>weight.viscera</th><th scope=col>weight.shell</th><th scope=col>rings</th></tr></thead>\n",
       "<tbody>\n",
       "\t<tr><td>1     </td><td>M     </td><td>0.455 </td><td>0.365 </td><td>0.095 </td><td>0.5140</td><td>0.2245</td><td>0.1010</td><td>0.150 </td><td>15    </td></tr>\n",
       "\t<tr><td>2     </td><td>M     </td><td>0.350 </td><td>0.265 </td><td>0.090 </td><td>0.2255</td><td>0.0995</td><td>0.0485</td><td>0.070 </td><td> 7    </td></tr>\n",
       "\t<tr><td>3     </td><td>F     </td><td>0.530 </td><td>0.420 </td><td>0.135 </td><td>0.6770</td><td>0.2565</td><td>0.1415</td><td>0.210 </td><td> 9    </td></tr>\n",
       "\t<tr><td>4     </td><td>M     </td><td>0.440 </td><td>0.365 </td><td>0.125 </td><td>0.5160</td><td>0.2155</td><td>0.1140</td><td>0.155 </td><td>10    </td></tr>\n",
       "</tbody>\n",
       "</table>\n"
      ],
      "text/latex": [
       "\\begin{tabular}{r|llllllllll}\n",
       " X & sex & length & diameter & height & weight.whole & weight.shucked & weight.viscera & weight.shell & rings\\\\\n",
       "\\hline\n",
       "\t 1      & M      & 0.455  & 0.365  & 0.095  & 0.5140 & 0.2245 & 0.1010 & 0.150  & 15    \\\\\n",
       "\t 2      & M      & 0.350  & 0.265  & 0.090  & 0.2255 & 0.0995 & 0.0485 & 0.070  &  7    \\\\\n",
       "\t 3      & F      & 0.530  & 0.420  & 0.135  & 0.6770 & 0.2565 & 0.1415 & 0.210  &  9    \\\\\n",
       "\t 4      & M      & 0.440  & 0.365  & 0.125  & 0.5160 & 0.2155 & 0.1140 & 0.155  & 10    \\\\\n",
       "\\end{tabular}\n"
      ],
      "text/markdown": [
       "\n",
       "X | sex | length | diameter | height | weight.whole | weight.shucked | weight.viscera | weight.shell | rings | \n",
       "|---|---|---|---|\n",
       "| 1      | M      | 0.455  | 0.365  | 0.095  | 0.5140 | 0.2245 | 0.1010 | 0.150  | 15     | \n",
       "| 2      | M      | 0.350  | 0.265  | 0.090  | 0.2255 | 0.0995 | 0.0485 | 0.070  |  7     | \n",
       "| 3      | F      | 0.530  | 0.420  | 0.135  | 0.6770 | 0.2565 | 0.1415 | 0.210  |  9     | \n",
       "| 4      | M      | 0.440  | 0.365  | 0.125  | 0.5160 | 0.2155 | 0.1140 | 0.155  | 10     | \n",
       "\n",
       "\n"
      ],
      "text/plain": [
       "  X sex length diameter height weight.whole weight.shucked weight.viscera\n",
       "1 1 M   0.455  0.365    0.095  0.5140       0.2245         0.1010        \n",
       "2 2 M   0.350  0.265    0.090  0.2255       0.0995         0.0485        \n",
       "3 3 F   0.530  0.420    0.135  0.6770       0.2565         0.1415        \n",
       "4 4 M   0.440  0.365    0.125  0.5160       0.2155         0.1140        \n",
       "  weight.shell rings\n",
       "1 0.150        15   \n",
       "2 0.070         7   \n",
       "3 0.210         9   \n",
       "4 0.155        10   "
      ]
     },
     "metadata": {},
     "output_type": "display_data"
    }
   ],
   "source": [
    "head(aba, 4)"
   ]
  },
  {
   "cell_type": "code",
   "execution_count": 45,
   "metadata": {
    "ExecuteTime": {
     "end_time": "2018-06-07T15:21:29.943597Z",
     "start_time": "2018-06-07T15:21:28.594Z"
    }
   },
   "outputs": [
    {
     "data": {
      "text/html": [
       "<table>\n",
       "<thead><tr><th scope=col>Group.1</th><th scope=col>length</th><th scope=col>diameter</th><th scope=col>height</th><th scope=col>weight.whole</th><th scope=col>weight.shucked</th><th scope=col>weight.viscera</th><th scope=col>weight.shell</th><th scope=col>rings</th></tr></thead>\n",
       "<tbody>\n",
       "\t<tr><td>F      </td><td>0.590  </td><td>0.465  </td><td>0.160  </td><td>1.03850</td><td>0.44050</td><td>0.2240 </td><td>0.295  </td><td>10     </td></tr>\n",
       "\t<tr><td>I      </td><td>0.435  </td><td>0.335  </td><td>0.110  </td><td>0.38400</td><td>0.16975</td><td>0.0805 </td><td>0.113  </td><td> 8     </td></tr>\n",
       "\t<tr><td>M      </td><td>0.580  </td><td>0.455  </td><td>0.155  </td><td>0.97575</td><td>0.42175</td><td>0.2100 </td><td>0.276  </td><td>10     </td></tr>\n",
       "</tbody>\n",
       "</table>\n"
      ],
      "text/latex": [
       "\\begin{tabular}{r|lllllllll}\n",
       " Group.1 & length & diameter & height & weight.whole & weight.shucked & weight.viscera & weight.shell & rings\\\\\n",
       "\\hline\n",
       "\t F       & 0.590   & 0.465   & 0.160   & 1.03850 & 0.44050 & 0.2240  & 0.295   & 10     \\\\\n",
       "\t I       & 0.435   & 0.335   & 0.110   & 0.38400 & 0.16975 & 0.0805  & 0.113   &  8     \\\\\n",
       "\t M       & 0.580   & 0.455   & 0.155   & 0.97575 & 0.42175 & 0.2100  & 0.276   & 10     \\\\\n",
       "\\end{tabular}\n"
      ],
      "text/markdown": [
       "\n",
       "Group.1 | length | diameter | height | weight.whole | weight.shucked | weight.viscera | weight.shell | rings | \n",
       "|---|---|---|\n",
       "| F       | 0.590   | 0.465   | 0.160   | 1.03850 | 0.44050 | 0.2240  | 0.295   | 10      | \n",
       "| I       | 0.435   | 0.335   | 0.110   | 0.38400 | 0.16975 | 0.0805  | 0.113   |  8      | \n",
       "| M       | 0.580   | 0.455   | 0.155   | 0.97575 | 0.42175 | 0.2100  | 0.276   | 10      | \n",
       "\n",
       "\n"
      ],
      "text/plain": [
       "  Group.1 length diameter height weight.whole weight.shucked weight.viscera\n",
       "1 F       0.590  0.465    0.160  1.03850      0.44050        0.2240        \n",
       "2 I       0.435  0.335    0.110  0.38400      0.16975        0.0805        \n",
       "3 M       0.580  0.455    0.155  0.97575      0.42175        0.2100        \n",
       "  weight.shell rings\n",
       "1 0.295        10   \n",
       "2 0.113         8   \n",
       "3 0.276        10   "
      ]
     },
     "metadata": {},
     "output_type": "display_data"
    }
   ],
   "source": [
    "# 数据和书上的有些不同，稍微修改下，多减去了一列\n",
    "aggregate(aba[,c(-1,-2)], list(aba$sex), median)"
   ]
  },
  {
   "cell_type": "markdown",
   "metadata": {},
   "source": [
    "#### 6.4.2 `cut()`函数(The cut() function)\n",
    "\n",
    "一个比较普遍的生成`factor`的方法（尤其对与`table`而言）就是使用`cut()`函数。\n",
    "调用形式如下`y <- cut(x,b,labels=FALSE)`，其中`x`是一个`vector`(包含数据)，\n",
    "`b`是一系列的小区间(`bins`), `cut()`函数返回`x`中每个数据所在的区间。"
   ]
  },
  {
   "cell_type": "code",
   "execution_count": 46,
   "metadata": {
    "ExecuteTime": {
     "end_time": "2018-06-07T15:21:29.980259Z",
     "start_time": "2018-06-07T15:21:28.603Z"
    }
   },
   "outputs": [
    {
     "data": {
      "text/html": [
       "<ol class=list-inline>\n",
       "\t<li>0.744757772888988</li>\n",
       "\t<li>0.344950770726427</li>\n",
       "\t<li>0.739410697016865</li>\n",
       "\t<li>0.671898386674002</li>\n",
       "\t<li>0.864928138907999</li>\n",
       "\t<li>0.596172091783956</li>\n",
       "\t<li>0.741788742598146</li>\n",
       "\t<li>0.751979539170861</li>\n",
       "</ol>\n"
      ],
      "text/latex": [
       "\\begin{enumerate*}\n",
       "\\item 0.744757772888988\n",
       "\\item 0.344950770726427\n",
       "\\item 0.739410697016865\n",
       "\\item 0.671898386674002\n",
       "\\item 0.864928138907999\n",
       "\\item 0.596172091783956\n",
       "\\item 0.741788742598146\n",
       "\\item 0.751979539170861\n",
       "\\end{enumerate*}\n"
      ],
      "text/markdown": [
       "1. 0.744757772888988\n",
       "2. 0.344950770726427\n",
       "3. 0.739410697016865\n",
       "4. 0.671898386674002\n",
       "5. 0.864928138907999\n",
       "6. 0.596172091783956\n",
       "7. 0.741788742598146\n",
       "8. 0.751979539170861\n",
       "\n",
       "\n"
      ],
      "text/plain": [
       "[1] 0.7447578 0.3449508 0.7394107 0.6718984 0.8649281 0.5961721 0.7417887\n",
       "[8] 0.7519795"
      ]
     },
     "metadata": {},
     "output_type": "display_data"
    }
   ],
   "source": [
    "# 随机生成8个服从[0，1]均匀分布的数字\n",
    "z <- runif(8)\n",
    "z"
   ]
  },
  {
   "cell_type": "code",
   "execution_count": 47,
   "metadata": {
    "ExecuteTime": {
     "end_time": "2018-06-07T15:21:30.008253Z",
     "start_time": "2018-06-07T15:21:28.607Z"
    }
   },
   "outputs": [
    {
     "data": {
      "text/html": [
       "<ol class=list-inline>\n",
       "\t<li>0</li>\n",
       "\t<li>0.1</li>\n",
       "\t<li>0.2</li>\n",
       "\t<li>0.3</li>\n",
       "\t<li>0.4</li>\n",
       "\t<li>0.5</li>\n",
       "\t<li>0.6</li>\n",
       "\t<li>0.7</li>\n",
       "\t<li>0.8</li>\n",
       "\t<li>0.9</li>\n",
       "\t<li>1</li>\n",
       "</ol>\n"
      ],
      "text/latex": [
       "\\begin{enumerate*}\n",
       "\\item 0\n",
       "\\item 0.1\n",
       "\\item 0.2\n",
       "\\item 0.3\n",
       "\\item 0.4\n",
       "\\item 0.5\n",
       "\\item 0.6\n",
       "\\item 0.7\n",
       "\\item 0.8\n",
       "\\item 0.9\n",
       "\\item 1\n",
       "\\end{enumerate*}\n"
      ],
      "text/markdown": [
       "1. 0\n",
       "2. 0.1\n",
       "3. 0.2\n",
       "4. 0.3\n",
       "5. 0.4\n",
       "6. 0.5\n",
       "7. 0.6\n",
       "8. 0.7\n",
       "9. 0.8\n",
       "10. 0.9\n",
       "11. 1\n",
       "\n",
       "\n"
      ],
      "text/plain": [
       " [1] 0.0 0.1 0.2 0.3 0.4 0.5 0.6 0.7 0.8 0.9 1.0"
      ]
     },
     "metadata": {},
     "output_type": "display_data"
    }
   ],
   "source": [
    "binmarks <- seq(from=0.0, to=1.0, by=0.1)\n",
    "binmarks"
   ]
  },
  {
   "cell_type": "code",
   "execution_count": 48,
   "metadata": {
    "ExecuteTime": {
     "end_time": "2018-06-07T15:21:30.029183Z",
     "start_time": "2018-06-07T15:21:28.613Z"
    }
   },
   "outputs": [
    {
     "data": {
      "text/html": [
       "<ol class=list-inline>\n",
       "\t<li>8</li>\n",
       "\t<li>4</li>\n",
       "\t<li>8</li>\n",
       "\t<li>7</li>\n",
       "\t<li>9</li>\n",
       "\t<li>6</li>\n",
       "\t<li>8</li>\n",
       "\t<li>8</li>\n",
       "</ol>\n"
      ],
      "text/latex": [
       "\\begin{enumerate*}\n",
       "\\item 8\n",
       "\\item 4\n",
       "\\item 8\n",
       "\\item 7\n",
       "\\item 9\n",
       "\\item 6\n",
       "\\item 8\n",
       "\\item 8\n",
       "\\end{enumerate*}\n"
      ],
      "text/markdown": [
       "1. 8\n",
       "2. 4\n",
       "3. 8\n",
       "4. 7\n",
       "5. 9\n",
       "6. 6\n",
       "7. 8\n",
       "8. 8\n",
       "\n",
       "\n"
      ],
      "text/plain": [
       "[1] 8 4 8 7 9 6 8 8"
      ]
     },
     "metadata": {},
     "output_type": "display_data"
    }
   ],
   "source": [
    "cut(z, binmarks, labels = F)"
   ]
  },
  {
   "cell_type": "markdown",
   "metadata": {},
   "source": [
    "上面第一个数字`9`的意思是`z`中的第一个数字`0.801`落在了第9个\n",
    "区间，也就是`(0.8, 0.9]`，其他也是类似。现在看到返回的结果是\n",
    "一个`vector`，不过我们完全可以把它转化为`factor`，并用于构\n",
    "建`table`。"
   ]
  }
 ],
 "metadata": {
  "kernelspec": {
   "display_name": "R 3.4",
   "language": "R",
   "name": "ir34"
  },
  "language_info": {
   "codemirror_mode": "r",
   "file_extension": ".r",
   "mimetype": "text/x-r-source",
   "name": "R",
   "pygments_lexer": "r",
   "version": "3.4.4"
  },
  "toc": {
   "nav_menu": {},
   "number_sections": false,
   "sideBar": true,
   "skip_h1_title": false,
   "title_cell": "Table of Contents",
   "title_sidebar": "Contents",
   "toc_cell": true,
   "toc_position": {
    "height": "calc(100% - 180px)",
    "left": "10px",
    "top": "150px",
    "width": "165px"
   },
   "toc_section_display": true,
   "toc_window_display": true
  }
 },
 "nbformat": 4,
 "nbformat_minor": 2
}
