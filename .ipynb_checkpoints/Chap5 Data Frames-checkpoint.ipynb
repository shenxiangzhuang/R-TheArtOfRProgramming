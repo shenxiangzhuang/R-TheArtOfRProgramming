{
 "cells": [
  {
   "cell_type": "markdown",
   "metadata": {
    "toc": true
   },
   "source": [
    "<h1>Table of Contents<span class=\"tocSkip\"></span></h1>\n",
    "<div class=\"toc\"><ul class=\"toc-item\"><li><span><a href=\"#Chap5\" data-toc-modified-id=\"Chap5-1\">Chap5</a></span><ul class=\"toc-item\"><li><span><a href=\"#5.1-创建(Creating-Data-Frames)\" data-toc-modified-id=\"5.1-创建(Creating-Data-Frames)-1.1\">5.1 创建(Creating Data Frames)</a></span><ul class=\"toc-item\"><li><span><a href=\"#5.1.1-获取数据(Accessing-Data-Frames)\" data-toc-modified-id=\"5.1.1-获取数据(Accessing-Data-Frames)-1.1.1\">5.1.1 获取数据(Accessing Data Frames)</a></span></li><li><span><a href=\"#5.1.2-拓展：考试成绩回归分析(Extended-Example:-Regression-Analysis-of-Exam-Grades-Continued)\" data-toc-modified-id=\"5.1.2-拓展：考试成绩回归分析(Extended-Example:-Regression-Analysis-of-Exam-Grades-Continued)-1.1.2\">5.1.2 拓展：考试成绩回归分析(Extended Example: Regression Analysis of Exam Grades Continued)</a></span></li></ul></li><li><span><a href=\"#5.2-其他Matrix-Like操作(Other-Matrix-Like-Operations)\" data-toc-modified-id=\"5.2-其他Matrix-Like操作(Other-Matrix-Like-Operations)-1.2\">5.2 其他<code>Matrix-Like</code>操作(Other Matrix-Like Operations)</a></span><ul class=\"toc-item\"><li><span><a href=\"#5.21.-提取部分数据(Extracting-Subdata-Frames)\" data-toc-modified-id=\"5.21.-提取部分数据(Extracting-Subdata-Frames)-1.2.1\">5.21. 提取部分数据(Extracting Subdata Frames)</a></span></li><li><span><a href=\"#5.2.2-NA值(More-on-Treatment-of-NA-Values)\" data-toc-modified-id=\"5.2.2-NA值(More-on-Treatment-of-NA-Values)-1.2.2\">5.2.2 NA值(More on Treatment of NA Values)</a></span></li><li><span><a href=\"#5.2.3-rbind&amp;cbind函数(Using-the-rbind()-and-cbind()-Functions-and-Alternatives)\" data-toc-modified-id=\"5.2.3-rbind&amp;cbind函数(Using-the-rbind()-and-cbind()-Functions-and-Alternatives)-1.2.3\">5.2.3 <code>rbind</code>&amp;<code>cbind</code>函数(Using the rbind() and cbind() Functions and Alternatives)</a></span></li><li><span><a href=\"#5.2.4-apply()函数(Applying-apply())\" data-toc-modified-id=\"5.2.4-apply()函数(Applying-apply())-1.2.4\">5.2.4 <code>apply()</code>函数(Applying apply())</a></span></li><li><span><a href=\"#5.2.5-拓展：工资研究(Extended-Example:-A-Salary-Study)\" data-toc-modified-id=\"5.2.5-拓展：工资研究(Extended-Example:-A-Salary-Study)-1.2.5\">5.2.5 拓展：工资研究(Extended Example: A Salary Study)</a></span></li></ul></li><li><span><a href=\"#5.3-合并(Merging-Data-Frames)\" data-toc-modified-id=\"5.3-合并(Merging-Data-Frames)-1.3\">5.3 合并(Merging Data Frames)</a></span><ul class=\"toc-item\"><li><span><a href=\"#5.3.1-拓展：员工数据库(Extended-Example:-An-Employee-Database)\" data-toc-modified-id=\"5.3.1-拓展：员工数据库(Extended-Example:-An-Employee-Database)-1.3.1\">5.3.1 拓展：员工数据库(Extended Example: An Employee Database)</a></span></li></ul></li><li><span><a href=\"#5.4-应用函数(Applying-Functions-to-Data-Frames)\" data-toc-modified-id=\"5.4-应用函数(Applying-Functions-to-Data-Frames)-1.4\">5.4 应用函数(Applying Functions to Data Frames)</a></span></li><li><span><a href=\"#5.4.1-lapply&amp;sapply(Using-lapply()-and-sapply()-on-Data-Frames)\" data-toc-modified-id=\"5.4.1-lapply&amp;sapply(Using-lapply()-and-sapply()-on-Data-Frames)-1.5\">5.4.1 <code>lapply</code>&amp;<code>sapply</code>(Using lapply() and sapply() on Data Frames)</a></span><ul class=\"toc-item\"><li><span><a href=\"#5.4.2-拓展：-Logistic回归模型（Extended-Example:-Applying-Logistic-Regression-Models）\" data-toc-modified-id=\"5.4.2-拓展：-Logistic回归模型（Extended-Example:-Applying-Logistic-Regression-Models）-1.5.1\">5.4.2 拓展： Logistic回归模型（Extended Example: Applying Logistic Regression Models）</a></span></li><li><span><a href=\"#5.4.3-拓展：中文方言(Extended-Example:-Aids-for-Learning-Chinese-Dialects)\" data-toc-modified-id=\"5.4.3-拓展：中文方言(Extended-Example:-Aids-for-Learning-Chinese-Dialects)-1.5.2\">5.4.3 拓展：中文方言(Extended Example: Aids for Learning Chinese Dialects)</a></span></li></ul></li></ul></li></ul></div>"
   ]
  },
  {
   "cell_type": "markdown",
   "metadata": {},
   "source": [
    "## Chap5\n",
    "\n",
    "直观上看，`data frames`就像`matrix`一样，有行和列的\n",
    "二维数据结构。不过，有一点是他们之间显著的不同，那就是在\n",
    "`data frames`中，每一列可以是不同的`mode`, 而`matrix`\n",
    "的所有数据都必须是同一`mode`的。\n",
    "\n",
    "从技术层面讲，一个`data frame`就是一个`list`,只不过是\n",
    "特殊的列表，即列表每个成分都必须是等长的向量。"
   ]
  },
  {
   "cell_type": "markdown",
   "metadata": {},
   "source": [
    "### 5.1 创建(Creating Data Frames)"
   ]
  },
  {
   "cell_type": "code",
   "execution_count": 1,
   "metadata": {
    "ExecuteTime": {
     "end_time": "2018-05-29T14:59:52.937846Z",
     "start_time": "2018-05-29T14:59:52.464Z"
    }
   },
   "outputs": [
    {
     "data": {
      "text/html": [
       "<table>\n",
       "<thead><tr><th scope=col>kids</th><th scope=col>ages</th></tr></thead>\n",
       "<tbody>\n",
       "\t<tr><td>Jack</td><td>12  </td></tr>\n",
       "\t<tr><td>Jill</td><td>10  </td></tr>\n",
       "</tbody>\n",
       "</table>\n"
      ],
      "text/latex": [
       "\\begin{tabular}{r|ll}\n",
       " kids & ages\\\\\n",
       "\\hline\n",
       "\t Jack & 12  \\\\\n",
       "\t Jill & 10  \\\\\n",
       "\\end{tabular}\n"
      ],
      "text/markdown": [
       "\n",
       "kids | ages | \n",
       "|---|---|\n",
       "| Jack | 12   | \n",
       "| Jill | 10   | \n",
       "\n",
       "\n"
      ],
      "text/plain": [
       "  kids ages\n",
       "1 Jack 12  \n",
       "2 Jill 10  "
      ]
     },
     "metadata": {},
     "output_type": "display_data"
    }
   ],
   "source": [
    "kids <- c(\"Jack\", \"Jill\")\n",
    "ages <- c(12, 10)\n",
    "d <- data.frame(kids, ages, stringsAsFactors = FALSE)\n",
    "d"
   ]
  },
  {
   "cell_type": "markdown",
   "metadata": {},
   "source": [
    "`data.frame`就是将`kids`, `ages`两个变量转化为`data frame`格式\n",
    "最后的`stringsAsFactors`默认是`TRUE`（默认的设置可以通过`options()`\n",
    "去改）,也就是会把字符串的数据转化为`Factor`（下一章会介绍），这里我们用不到\n",
    "`Factor`，故先设置为`FALSE`."
   ]
  },
  {
   "cell_type": "markdown",
   "metadata": {},
   "source": [
    "#### 5.1.1 获取数据(Accessing Data Frames)"
   ]
  },
  {
   "cell_type": "code",
   "execution_count": 2,
   "metadata": {
    "ExecuteTime": {
     "end_time": "2018-05-29T14:59:53.041343Z",
     "start_time": "2018-05-29T14:59:52.479Z"
    }
   },
   "outputs": [
    {
     "data": {
      "text/html": [
       "<ol class=list-inline>\n",
       "\t<li>'Jack'</li>\n",
       "\t<li>'Jill'</li>\n",
       "</ol>\n"
      ],
      "text/latex": [
       "\\begin{enumerate*}\n",
       "\\item 'Jack'\n",
       "\\item 'Jill'\n",
       "\\end{enumerate*}\n"
      ],
      "text/markdown": [
       "1. 'Jack'\n",
       "2. 'Jill'\n",
       "\n",
       "\n"
      ],
      "text/plain": [
       "[1] \"Jack\" \"Jill\""
      ]
     },
     "metadata": {},
     "output_type": "display_data"
    }
   ],
   "source": [
    "# 通过索引获取\n",
    "d[[1]]"
   ]
  },
  {
   "cell_type": "code",
   "execution_count": 3,
   "metadata": {
    "ExecuteTime": {
     "end_time": "2018-05-29T14:59:53.069520Z",
     "start_time": "2018-05-29T14:59:52.487Z"
    }
   },
   "outputs": [
    {
     "data": {
      "text/html": [
       "<ol class=list-inline>\n",
       "\t<li>'Jack'</li>\n",
       "\t<li>'Jill'</li>\n",
       "</ol>\n"
      ],
      "text/latex": [
       "\\begin{enumerate*}\n",
       "\\item 'Jack'\n",
       "\\item 'Jill'\n",
       "\\end{enumerate*}\n"
      ],
      "text/markdown": [
       "1. 'Jack'\n",
       "2. 'Jill'\n",
       "\n",
       "\n"
      ],
      "text/plain": [
       "[1] \"Jack\" \"Jill\""
      ]
     },
     "metadata": {},
     "output_type": "display_data"
    }
   ],
   "source": [
    "# 通过名字获取\n",
    "d$kids"
   ]
  },
  {
   "cell_type": "code",
   "execution_count": 4,
   "metadata": {
    "ExecuteTime": {
     "end_time": "2018-05-29T14:59:53.093965Z",
     "start_time": "2018-05-29T14:59:52.493Z"
    }
   },
   "outputs": [
    {
     "data": {
      "text/html": [
       "<ol class=list-inline>\n",
       "\t<li>'Jack'</li>\n",
       "\t<li>'Jill'</li>\n",
       "</ol>\n"
      ],
      "text/latex": [
       "\\begin{enumerate*}\n",
       "\\item 'Jack'\n",
       "\\item 'Jill'\n",
       "\\end{enumerate*}\n"
      ],
      "text/markdown": [
       "1. 'Jack'\n",
       "2. 'Jill'\n",
       "\n",
       "\n"
      ],
      "text/plain": [
       "[1] \"Jack\" \"Jill\""
      ]
     },
     "metadata": {},
     "output_type": "display_data"
    }
   ],
   "source": [
    "# 也可以用类似matrix的方法\n",
    "# 获取第一列\n",
    "d[, 1]"
   ]
  },
  {
   "cell_type": "code",
   "execution_count": 5,
   "metadata": {
    "ExecuteTime": {
     "end_time": "2018-05-29T14:59:53.126228Z",
     "start_time": "2018-05-29T14:59:52.499Z"
    }
   },
   "outputs": [
    {
     "name": "stdout",
     "output_type": "stream",
     "text": [
      "'data.frame':\t2 obs. of  2 variables:\n",
      " $ kids: chr  \"Jack\" \"Jill\"\n",
      " $ ages: num  12 10\n"
     ]
    }
   ],
   "source": [
    "# 结构化输出\n",
    "str(d)"
   ]
  },
  {
   "cell_type": "markdown",
   "metadata": {},
   "source": [
    "以上告诉我们，`d`包含2个观测数据（2行），2个变量（2列）"
   ]
  },
  {
   "cell_type": "markdown",
   "metadata": {},
   "source": [
    "一般来讲使用d$kids就可以，更加直观，也不易出错。另外有些时候我们要写\n",
    "`general code`时，比如写R包的时候，考虑到我们一般不能通过名字获取某列，\n",
    "所以就要使用按照位置索引的办法了。"
   ]
  },
  {
   "cell_type": "markdown",
   "metadata": {},
   "source": [
    "#### 5.1.2 拓展：考试成绩回归分析(Extended Example: Regression Analysis of Exam Grades Continued)"
   ]
  },
  {
   "cell_type": "code",
   "execution_count": 6,
   "metadata": {
    "ExecuteTime": {
     "end_time": "2018-05-29T14:59:53.172582Z",
     "start_time": "2018-05-29T14:59:52.506Z"
    }
   },
   "outputs": [
    {
     "data": {
      "text/html": [
       "<table>\n",
       "<thead><tr><th scope=col>Exam.1</th><th scope=col>Exam.2</th><th scope=col>Quiz</th></tr></thead>\n",
       "<tbody>\n",
       "\t<tr><td>2.0</td><td>3.3</td><td>4.0</td></tr>\n",
       "\t<tr><td>3.3</td><td>2.0</td><td>3.7</td></tr>\n",
       "\t<tr><td>4.0</td><td>4.0</td><td>4.0</td></tr>\n",
       "\t<tr><td>2.3</td><td>0.0</td><td>3.3</td></tr>\n",
       "\t<tr><td>2.3</td><td>1.0</td><td>3.3</td></tr>\n",
       "\t<tr><td>3.3</td><td>3.7</td><td>4.0</td></tr>\n",
       "</tbody>\n",
       "</table>\n"
      ],
      "text/latex": [
       "\\begin{tabular}{r|lll}\n",
       " Exam.1 & Exam.2 & Quiz\\\\\n",
       "\\hline\n",
       "\t 2.0 & 3.3 & 4.0\\\\\n",
       "\t 3.3 & 2.0 & 3.7\\\\\n",
       "\t 4.0 & 4.0 & 4.0\\\\\n",
       "\t 2.3 & 0.0 & 3.3\\\\\n",
       "\t 2.3 & 1.0 & 3.3\\\\\n",
       "\t 3.3 & 3.7 & 4.0\\\\\n",
       "\\end{tabular}\n"
      ],
      "text/markdown": [
       "\n",
       "Exam.1 | Exam.2 | Quiz | \n",
       "|---|---|---|---|---|---|\n",
       "| 2.0 | 3.3 | 4.0 | \n",
       "| 3.3 | 2.0 | 3.7 | \n",
       "| 4.0 | 4.0 | 4.0 | \n",
       "| 2.3 | 0.0 | 3.3 | \n",
       "| 2.3 | 1.0 | 3.3 | \n",
       "| 3.3 | 3.7 | 4.0 | \n",
       "\n",
       "\n"
      ],
      "text/plain": [
       "  Exam.1 Exam.2 Quiz\n",
       "1 2.0    3.3    4.0 \n",
       "2 3.3    2.0    3.7 \n",
       "3 4.0    4.0    4.0 \n",
       "4 2.3    0.0    3.3 \n",
       "5 2.3    1.0    3.3 \n",
       "6 3.3    3.7    4.0 "
      ]
     },
     "metadata": {},
     "output_type": "display_data"
    }
   ],
   "source": [
    "examsquiz <- read.table(\"./data//ExamsQuiz.txt\", header = T)\n",
    "head(examsquiz)"
   ]
  },
  {
   "cell_type": "code",
   "execution_count": 7,
   "metadata": {
    "ExecuteTime": {
     "end_time": "2018-05-29T14:59:53.197431Z",
     "start_time": "2018-05-29T14:59:52.512Z"
    }
   },
   "outputs": [
    {
     "data": {
      "text/html": [
       "TRUE"
      ],
      "text/latex": [
       "TRUE"
      ],
      "text/markdown": [
       "TRUE"
      ],
      "text/plain": [
       "[1] TRUE"
      ]
     },
     "metadata": {},
     "output_type": "display_data"
    }
   ],
   "source": [
    "is.data.frame(examsquiz)"
   ]
  },
  {
   "cell_type": "markdown",
   "metadata": {},
   "source": [
    "### 5.2 其他`Matrix-Like`操作(Other Matrix-Like Operations)\n",
    "\n",
    "很多针对`matrix`的操作在`data frame`同样适应。"
   ]
  },
  {
   "cell_type": "markdown",
   "metadata": {},
   "source": [
    "#### 5.21. 提取部分数据(Extracting Subdata Frames)"
   ]
  },
  {
   "cell_type": "code",
   "execution_count": 8,
   "metadata": {
    "ExecuteTime": {
     "end_time": "2018-05-29T14:59:53.234136Z",
     "start_time": "2018-05-29T14:59:52.524Z"
    }
   },
   "outputs": [
    {
     "data": {
      "text/html": [
       "<table>\n",
       "<thead><tr><th></th><th scope=col>Exam.1</th><th scope=col>Exam.2</th><th scope=col>Quiz</th></tr></thead>\n",
       "<tbody>\n",
       "\t<tr><th scope=row>2</th><td>3.3</td><td>2  </td><td>3.7</td></tr>\n",
       "\t<tr><th scope=row>3</th><td>4.0</td><td>4  </td><td>4.0</td></tr>\n",
       "\t<tr><th scope=row>4</th><td>2.3</td><td>0  </td><td>3.3</td></tr>\n",
       "\t<tr><th scope=row>5</th><td>2.3</td><td>1  </td><td>3.3</td></tr>\n",
       "</tbody>\n",
       "</table>\n"
      ],
      "text/latex": [
       "\\begin{tabular}{r|lll}\n",
       "  & Exam.1 & Exam.2 & Quiz\\\\\n",
       "\\hline\n",
       "\t2 & 3.3 & 2   & 3.7\\\\\n",
       "\t3 & 4.0 & 4   & 4.0\\\\\n",
       "\t4 & 2.3 & 0   & 3.3\\\\\n",
       "\t5 & 2.3 & 1   & 3.3\\\\\n",
       "\\end{tabular}\n"
      ],
      "text/markdown": [
       "\n",
       "| <!--/--> | Exam.1 | Exam.2 | Quiz | \n",
       "|---|---|---|---|\n",
       "| 2 | 3.3 | 2   | 3.7 | \n",
       "| 3 | 4.0 | 4   | 4.0 | \n",
       "| 4 | 2.3 | 0   | 3.3 | \n",
       "| 5 | 2.3 | 1   | 3.3 | \n",
       "\n",
       "\n"
      ],
      "text/plain": [
       "  Exam.1 Exam.2 Quiz\n",
       "2 3.3    2      3.7 \n",
       "3 4.0    4      4.0 \n",
       "4 2.3    0      3.3 \n",
       "5 2.3    1      3.3 "
      ]
     },
     "metadata": {},
     "output_type": "display_data"
    }
   ],
   "source": [
    "# 通过行列索引提取部分数据\n",
    "examsquiz[2:5, ]"
   ]
  },
  {
   "cell_type": "code",
   "execution_count": 9,
   "metadata": {
    "ExecuteTime": {
     "end_time": "2018-05-29T14:59:53.261117Z",
     "start_time": "2018-05-29T14:59:52.539Z"
    }
   },
   "outputs": [
    {
     "data": {
      "text/html": [
       "<ol class=list-inline>\n",
       "\t<li>2</li>\n",
       "\t<li>4</li>\n",
       "\t<li>0</li>\n",
       "\t<li>1</li>\n",
       "</ol>\n"
      ],
      "text/latex": [
       "\\begin{enumerate*}\n",
       "\\item 2\n",
       "\\item 4\n",
       "\\item 0\n",
       "\\item 1\n",
       "\\end{enumerate*}\n"
      ],
      "text/markdown": [
       "1. 2\n",
       "2. 4\n",
       "3. 0\n",
       "4. 1\n",
       "\n",
       "\n"
      ],
      "text/plain": [
       "[1] 2 4 0 1"
      ]
     },
     "metadata": {},
     "output_type": "display_data"
    }
   ],
   "source": [
    "examsquiz[2:5, 2]"
   ]
  },
  {
   "cell_type": "code",
   "execution_count": 10,
   "metadata": {
    "ExecuteTime": {
     "end_time": "2018-05-29T14:59:53.289648Z",
     "start_time": "2018-05-29T14:59:52.546Z"
    }
   },
   "outputs": [
    {
     "data": {
      "text/html": [
       "'numeric'"
      ],
      "text/latex": [
       "'numeric'"
      ],
      "text/markdown": [
       "'numeric'"
      ],
      "text/plain": [
       "[1] \"numeric\""
      ]
     },
     "metadata": {},
     "output_type": "display_data"
    }
   ],
   "source": [
    "class(examsquiz[2:5, 2])"
   ]
  },
  {
   "cell_type": "code",
   "execution_count": 11,
   "metadata": {
    "ExecuteTime": {
     "end_time": "2018-05-29T14:59:53.314026Z",
     "start_time": "2018-05-29T14:59:52.551Z"
    }
   },
   "outputs": [
    {
     "data": {
      "text/html": [
       "<table>\n",
       "<thead><tr><th></th><th scope=col>Exam.2</th></tr></thead>\n",
       "<tbody>\n",
       "\t<tr><th scope=row>2</th><td>2</td></tr>\n",
       "\t<tr><th scope=row>3</th><td>4</td></tr>\n",
       "\t<tr><th scope=row>4</th><td>0</td></tr>\n",
       "\t<tr><th scope=row>5</th><td>1</td></tr>\n",
       "</tbody>\n",
       "</table>\n"
      ],
      "text/latex": [
       "\\begin{tabular}{r|l}\n",
       "  & Exam.2\\\\\n",
       "\\hline\n",
       "\t2 & 2\\\\\n",
       "\t3 & 4\\\\\n",
       "\t4 & 0\\\\\n",
       "\t5 & 1\\\\\n",
       "\\end{tabular}\n"
      ],
      "text/markdown": [
       "\n",
       "| <!--/--> | Exam.2 | \n",
       "|---|---|---|---|\n",
       "| 2 | 2 | \n",
       "| 3 | 4 | \n",
       "| 4 | 0 | \n",
       "| 5 | 1 | \n",
       "\n",
       "\n"
      ],
      "text/plain": [
       "  Exam.2\n",
       "2 2     \n",
       "3 4     \n",
       "4 0     \n",
       "5 1     "
      ]
     },
     "metadata": {},
     "output_type": "display_data"
    }
   ],
   "source": [
    "examsquiz[2:5, 2, drop=FALSE]"
   ]
  },
  {
   "cell_type": "code",
   "execution_count": 12,
   "metadata": {
    "ExecuteTime": {
     "end_time": "2018-05-29T14:59:53.338246Z",
     "start_time": "2018-05-29T14:59:52.557Z"
    }
   },
   "outputs": [
    {
     "data": {
      "text/html": [
       "'data.frame'"
      ],
      "text/latex": [
       "'data.frame'"
      ],
      "text/markdown": [
       "'data.frame'"
      ],
      "text/plain": [
       "[1] \"data.frame\""
      ]
     },
     "metadata": {},
     "output_type": "display_data"
    }
   ],
   "source": [
    "class(examsquiz[2:5, 2, drop=FALSE])"
   ]
  },
  {
   "cell_type": "markdown",
   "metadata": {},
   "source": [
    "注意，`examsquiz[2:5, 2]`是一个`vector`，在添加`drop=FALSE`后，\n",
    "也就是`examsquiz[2:5, 2, drop=FALSE]`时，保证了返回后是一个\n",
    "`data.frame`"
   ]
  },
  {
   "cell_type": "code",
   "execution_count": 13,
   "metadata": {
    "ExecuteTime": {
     "end_time": "2018-05-29T14:59:53.365012Z",
     "start_time": "2018-05-29T14:59:52.562Z"
    }
   },
   "outputs": [
    {
     "data": {
      "text/html": [
       "<table>\n",
       "<thead><tr><th></th><th scope=col>Exam.1</th><th scope=col>Exam.2</th><th scope=col>Quiz</th></tr></thead>\n",
       "<tbody>\n",
       "\t<tr><th scope=row>3</th><td>4</td><td>4</td><td>4</td></tr>\n",
       "</tbody>\n",
       "</table>\n"
      ],
      "text/latex": [
       "\\begin{tabular}{r|lll}\n",
       "  & Exam.1 & Exam.2 & Quiz\\\\\n",
       "\\hline\n",
       "\t3 & 4 & 4 & 4\\\\\n",
       "\\end{tabular}\n"
      ],
      "text/markdown": [
       "\n",
       "| <!--/--> | Exam.1 | Exam.2 | Quiz | \n",
       "|---|\n",
       "| 3 | 4 | 4 | 4 | \n",
       "\n",
       "\n"
      ],
      "text/plain": [
       "  Exam.1 Exam.2 Quiz\n",
       "3 4      4      4   "
      ]
     },
     "metadata": {},
     "output_type": "display_data"
    }
   ],
   "source": [
    "# 抽取符合条件的数据集\n",
    "# [注意，书上的数据集找不到，这里也是用的部分数据]\n",
    "examsquiz[examsquiz$Exam.1 >= 3.8, ]"
   ]
  },
  {
   "cell_type": "markdown",
   "metadata": {},
   "source": [
    "#### 5.2.2 NA值(More on Treatment of NA Values)"
   ]
  },
  {
   "cell_type": "code",
   "execution_count": 14,
   "metadata": {
    "ExecuteTime": {
     "end_time": "2018-05-29T14:59:53.383869Z",
     "start_time": "2018-05-29T14:59:52.568Z"
    }
   },
   "outputs": [
    {
     "data": {
      "text/html": [
       "&lt;NA&gt;"
      ],
      "text/latex": [
       "<NA>"
      ],
      "text/markdown": [
       "&lt;NA&gt;"
      ],
      "text/plain": [
       "[1] NA"
      ]
     },
     "metadata": {},
     "output_type": "display_data"
    }
   ],
   "source": [
    "x <- c(2, NA, 4)\n",
    "mean(x)"
   ]
  },
  {
   "cell_type": "code",
   "execution_count": 15,
   "metadata": {
    "ExecuteTime": {
     "end_time": "2018-05-29T14:59:53.413008Z",
     "start_time": "2018-05-29T14:59:52.576Z"
    }
   },
   "outputs": [
    {
     "data": {
      "text/html": [
       "3"
      ],
      "text/latex": [
       "3"
      ],
      "text/markdown": [
       "3"
      ],
      "text/plain": [
       "[1] 3"
      ]
     },
     "metadata": {},
     "output_type": "display_data"
    }
   ],
   "source": [
    "# 有时候，我们必须指明对NA值的操作\n",
    "# 如下，是在 运算之前去掉NA值\n",
    "mean(x, na.rm = TRUE)"
   ]
  },
  {
   "cell_type": "markdown",
   "metadata": {},
   "source": [
    "记得之前在2.8.2的时候，我们介绍过`subset`函数，使用它可以\n",
    "可以自动为我们执行`na.rm=TRUE`，这里也是一样的。我们可以\n",
    "假设我们的成绩数据有缺失值，过滤时可以使用下面的方法。"
   ]
  },
  {
   "cell_type": "code",
   "execution_count": 16,
   "metadata": {
    "ExecuteTime": {
     "end_time": "2018-05-29T14:59:53.435550Z",
     "start_time": "2018-05-29T14:59:52.582Z"
    }
   },
   "outputs": [
    {
     "data": {
      "text/html": [
       "<table>\n",
       "<thead><tr><th></th><th scope=col>Exam.1</th><th scope=col>Exam.2</th><th scope=col>Quiz</th></tr></thead>\n",
       "<tbody>\n",
       "\t<tr><th scope=row>3</th><td>4</td><td>4</td><td>4</td></tr>\n",
       "</tbody>\n",
       "</table>\n"
      ],
      "text/latex": [
       "\\begin{tabular}{r|lll}\n",
       "  & Exam.1 & Exam.2 & Quiz\\\\\n",
       "\\hline\n",
       "\t3 & 4 & 4 & 4\\\\\n",
       "\\end{tabular}\n"
      ],
      "text/markdown": [
       "\n",
       "| <!--/--> | Exam.1 | Exam.2 | Quiz | \n",
       "|---|\n",
       "| 3 | 4 | 4 | 4 | \n",
       "\n",
       "\n"
      ],
      "text/plain": [
       "  Exam.1 Exam.2 Quiz\n",
       "3 4      4      4   "
      ]
     },
     "metadata": {},
     "output_type": "display_data"
    }
   ],
   "source": [
    "subset(examsquiz, Exam.1 >= 3.8)"
   ]
  },
  {
   "cell_type": "markdown",
   "metadata": {},
   "source": [
    "另外，如果我们希望去除数据集中那些含有缺失值（>=1个缺失值）\n",
    "的观测（行），也许可以尝试`complete.cases()`函数。"
   ]
  },
  {
   "cell_type": "code",
   "execution_count": 17,
   "metadata": {
    "ExecuteTime": {
     "end_time": "2018-05-29T14:59:53.462817Z",
     "start_time": "2018-05-29T14:59:52.591Z"
    }
   },
   "outputs": [
    {
     "data": {
      "text/html": [
       "<table>\n",
       "<thead><tr><th scope=col>kids</th><th scope=col>states</th></tr></thead>\n",
       "<tbody>\n",
       "\t<tr><td>Jack   </td><td>CA     </td></tr>\n",
       "\t<tr><td>NA     </td><td>MA     </td></tr>\n",
       "\t<tr><td>Jillian</td><td>MA     </td></tr>\n",
       "\t<tr><td>John   </td><td>NA     </td></tr>\n",
       "</tbody>\n",
       "</table>\n"
      ],
      "text/latex": [
       "\\begin{tabular}{r|ll}\n",
       " kids & states\\\\\n",
       "\\hline\n",
       "\t Jack    & CA     \\\\\n",
       "\t NA      & MA     \\\\\n",
       "\t Jillian & MA     \\\\\n",
       "\t John    & NA     \\\\\n",
       "\\end{tabular}\n"
      ],
      "text/markdown": [
       "\n",
       "kids | states | \n",
       "|---|---|---|---|\n",
       "| Jack    | CA      | \n",
       "| NA      | MA      | \n",
       "| Jillian | MA      | \n",
       "| John    | NA      | \n",
       "\n",
       "\n"
      ],
      "text/plain": [
       "  kids    states\n",
       "1 Jack    CA    \n",
       "2 NA      MA    \n",
       "3 Jillian MA    \n",
       "4 John    NA    "
      ]
     },
     "metadata": {},
     "output_type": "display_data"
    }
   ],
   "source": [
    "d4 <- data.frame(kids=c(\"Jack\", NA, \"Jillian\", \"John\"),\n",
    "                states=c(\"CA\", \"MA\", \"MA\", NA))\n",
    "d4"
   ]
  },
  {
   "cell_type": "code",
   "execution_count": 18,
   "metadata": {
    "ExecuteTime": {
     "end_time": "2018-05-29T14:59:53.486947Z",
     "start_time": "2018-05-29T14:59:52.599Z"
    }
   },
   "outputs": [
    {
     "data": {
      "text/html": [
       "<ol class=list-inline>\n",
       "\t<li>TRUE</li>\n",
       "\t<li>FALSE</li>\n",
       "\t<li>TRUE</li>\n",
       "\t<li>FALSE</li>\n",
       "</ol>\n"
      ],
      "text/latex": [
       "\\begin{enumerate*}\n",
       "\\item TRUE\n",
       "\\item FALSE\n",
       "\\item TRUE\n",
       "\\item FALSE\n",
       "\\end{enumerate*}\n"
      ],
      "text/markdown": [
       "1. TRUE\n",
       "2. FALSE\n",
       "3. TRUE\n",
       "4. FALSE\n",
       "\n",
       "\n"
      ],
      "text/plain": [
       "[1]  TRUE FALSE  TRUE FALSE"
      ]
     },
     "metadata": {},
     "output_type": "display_data"
    }
   ],
   "source": [
    "complete.cases(d4)"
   ]
  },
  {
   "cell_type": "code",
   "execution_count": 19,
   "metadata": {
    "ExecuteTime": {
     "end_time": "2018-05-29T14:59:53.525617Z",
     "start_time": "2018-05-29T14:59:52.613Z"
    }
   },
   "outputs": [
    {
     "data": {
      "text/html": [
       "<table>\n",
       "<thead><tr><th></th><th scope=col>kids</th><th scope=col>states</th></tr></thead>\n",
       "<tbody>\n",
       "\t<tr><th scope=row>1</th><td>Jack   </td><td>CA     </td></tr>\n",
       "\t<tr><th scope=row>3</th><td>Jillian</td><td>MA     </td></tr>\n",
       "</tbody>\n",
       "</table>\n"
      ],
      "text/latex": [
       "\\begin{tabular}{r|ll}\n",
       "  & kids & states\\\\\n",
       "\\hline\n",
       "\t1 & Jack    & CA     \\\\\n",
       "\t3 & Jillian & MA     \\\\\n",
       "\\end{tabular}\n"
      ],
      "text/markdown": [
       "\n",
       "| <!--/--> | kids | states | \n",
       "|---|---|\n",
       "| 1 | Jack    | CA      | \n",
       "| 3 | Jillian | MA      | \n",
       "\n",
       "\n"
      ],
      "text/plain": [
       "  kids    states\n",
       "1 Jack    CA    \n",
       "3 Jillian MA    "
      ]
     },
     "metadata": {},
     "output_type": "display_data"
    }
   ],
   "source": [
    "# 同样是通过布尔值向量去索引目标行\n",
    "d5 <- d4[complete.cases(d4), ]\n",
    "d5"
   ]
  },
  {
   "cell_type": "code",
   "execution_count": 20,
   "metadata": {
    "ExecuteTime": {
     "end_time": "2018-05-29T14:59:53.548827Z",
     "start_time": "2018-05-29T14:59:52.621Z"
    }
   },
   "outputs": [
    {
     "data": {
      "text/html": [
       "TRUE"
      ],
      "text/latex": [
       "TRUE"
      ],
      "text/markdown": [
       "TRUE"
      ],
      "text/plain": [
       "[1] TRUE"
      ]
     },
     "metadata": {},
     "output_type": "display_data"
    }
   ],
   "source": [
    "is.data.frame(d5)"
   ]
  },
  {
   "cell_type": "markdown",
   "metadata": {},
   "source": [
    "#### 5.2.3 `rbind`&`cbind`函数(Using the rbind() and cbind() Functions and Alternatives)\n",
    "\n",
    "`matrix`中使用的`rbind()`和`cbind()`在这里也是一样可以用的。"
   ]
  },
  {
   "cell_type": "code",
   "execution_count": 21,
   "metadata": {
    "ExecuteTime": {
     "end_time": "2018-05-29T14:59:53.576906Z",
     "start_time": "2018-05-29T14:59:52.628Z"
    }
   },
   "outputs": [
    {
     "data": {
      "text/html": [
       "<table>\n",
       "<thead><tr><th scope=col>kids</th><th scope=col>ages</th></tr></thead>\n",
       "<tbody>\n",
       "\t<tr><td>Jack</td><td>12  </td></tr>\n",
       "\t<tr><td>Jill</td><td>10  </td></tr>\n",
       "</tbody>\n",
       "</table>\n"
      ],
      "text/latex": [
       "\\begin{tabular}{r|ll}\n",
       " kids & ages\\\\\n",
       "\\hline\n",
       "\t Jack & 12  \\\\\n",
       "\t Jill & 10  \\\\\n",
       "\\end{tabular}\n"
      ],
      "text/markdown": [
       "\n",
       "kids | ages | \n",
       "|---|---|\n",
       "| Jack | 12   | \n",
       "| Jill | 10   | \n",
       "\n",
       "\n"
      ],
      "text/plain": [
       "  kids ages\n",
       "1 Jack 12  \n",
       "2 Jill 10  "
      ]
     },
     "metadata": {},
     "output_type": "display_data"
    }
   ],
   "source": [
    "d <- data.frame(kids=c(\"Jack\", \"Jill\"),\n",
    "                ages=c(12, 10), stringsAsFactors = FALSE)\n",
    "d"
   ]
  },
  {
   "cell_type": "code",
   "execution_count": 22,
   "metadata": {
    "ExecuteTime": {
     "end_time": "2018-05-29T14:59:53.608013Z",
     "start_time": "2018-05-29T14:59:52.632Z"
    }
   },
   "outputs": [
    {
     "data": {
      "text/html": [
       "<table>\n",
       "<thead><tr><th scope=col>kids</th><th scope=col>ages</th></tr></thead>\n",
       "<tbody>\n",
       "\t<tr><td>Jack </td><td>12   </td></tr>\n",
       "\t<tr><td>Jill </td><td>10   </td></tr>\n",
       "\t<tr><td>Laura</td><td>19   </td></tr>\n",
       "</tbody>\n",
       "</table>\n"
      ],
      "text/latex": [
       "\\begin{tabular}{r|ll}\n",
       " kids & ages\\\\\n",
       "\\hline\n",
       "\t Jack  & 12   \\\\\n",
       "\t Jill  & 10   \\\\\n",
       "\t Laura & 19   \\\\\n",
       "\\end{tabular}\n"
      ],
      "text/markdown": [
       "\n",
       "kids | ages | \n",
       "|---|---|---|\n",
       "| Jack  | 12    | \n",
       "| Jill  | 10    | \n",
       "| Laura | 19    | \n",
       "\n",
       "\n"
      ],
      "text/plain": [
       "  kids  ages\n",
       "1 Jack  12  \n",
       "2 Jill  10  \n",
       "3 Laura 19  "
      ]
     },
     "metadata": {},
     "output_type": "display_data"
    }
   ],
   "source": [
    "# 添加新的行\n",
    "rbind(d, list(\"Laura\", 19))"
   ]
  },
  {
   "cell_type": "code",
   "execution_count": 23,
   "metadata": {
    "ExecuteTime": {
     "end_time": "2018-05-29T14:59:53.636311Z",
     "start_time": "2018-05-29T14:59:52.637Z"
    }
   },
   "outputs": [
    {
     "data": {
      "text/html": [
       "'data.frame'"
      ],
      "text/latex": [
       "'data.frame'"
      ],
      "text/markdown": [
       "'data.frame'"
      ],
      "text/plain": [
       "[1] \"data.frame\""
      ]
     },
     "metadata": {},
     "output_type": "display_data"
    }
   ],
   "source": [
    "# 添加新的列\n",
    "eq <- cbind(examsquiz, examsquiz$Exam.2 - examsquiz$Exam.1)\n",
    "class(eq)"
   ]
  },
  {
   "cell_type": "code",
   "execution_count": 24,
   "metadata": {
    "ExecuteTime": {
     "end_time": "2018-05-29T14:59:53.661420Z",
     "start_time": "2018-05-29T14:59:52.643Z"
    }
   },
   "outputs": [
    {
     "data": {
      "text/html": [
       "<table>\n",
       "<thead><tr><th scope=col>Exam.1</th><th scope=col>Exam.2</th><th scope=col>Quiz</th><th scope=col>examsquiz$Exam.2 - examsquiz$Exam.1</th></tr></thead>\n",
       "<tbody>\n",
       "\t<tr><td>2.0 </td><td>3.3 </td><td>4.0 </td><td> 1.3</td></tr>\n",
       "\t<tr><td>3.3 </td><td>2.0 </td><td>3.7 </td><td>-1.3</td></tr>\n",
       "\t<tr><td>4.0 </td><td>4.0 </td><td>4.0 </td><td> 0.0</td></tr>\n",
       "\t<tr><td>2.3 </td><td>0.0 </td><td>3.3 </td><td>-2.3</td></tr>\n",
       "\t<tr><td>2.3 </td><td>1.0 </td><td>3.3 </td><td>-1.3</td></tr>\n",
       "\t<tr><td>3.3 </td><td>3.7 </td><td>4.0 </td><td> 0.4</td></tr>\n",
       "</tbody>\n",
       "</table>\n"
      ],
      "text/latex": [
       "\\begin{tabular}{r|llll}\n",
       " Exam.1 & Exam.2 & Quiz & examsquiz\\$Exam.2 - examsquiz\\$Exam.1\\\\\n",
       "\\hline\n",
       "\t 2.0  & 3.3  & 4.0  &  1.3\\\\\n",
       "\t 3.3  & 2.0  & 3.7  & -1.3\\\\\n",
       "\t 4.0  & 4.0  & 4.0  &  0.0\\\\\n",
       "\t 2.3  & 0.0  & 3.3  & -2.3\\\\\n",
       "\t 2.3  & 1.0  & 3.3  & -1.3\\\\\n",
       "\t 3.3  & 3.7  & 4.0  &  0.4\\\\\n",
       "\\end{tabular}\n"
      ],
      "text/markdown": [
       "\n",
       "Exam.1 | Exam.2 | Quiz | examsquiz$Exam.2 - examsquiz$Exam.1 | \n",
       "|---|---|---|---|---|---|\n",
       "| 2.0  | 3.3  | 4.0  |  1.3 | \n",
       "| 3.3  | 2.0  | 3.7  | -1.3 | \n",
       "| 4.0  | 4.0  | 4.0  |  0.0 | \n",
       "| 2.3  | 0.0  | 3.3  | -2.3 | \n",
       "| 2.3  | 1.0  | 3.3  | -1.3 | \n",
       "| 3.3  | 3.7  | 4.0  |  0.4 | \n",
       "\n",
       "\n"
      ],
      "text/plain": [
       "  Exam.1 Exam.2 Quiz examsquiz$Exam.2 - examsquiz$Exam.1\n",
       "1 2.0    3.3    4.0   1.3                               \n",
       "2 3.3    2.0    3.7  -1.3                               \n",
       "3 4.0    4.0    4.0   0.0                               \n",
       "4 2.3    0.0    3.3  -2.3                               \n",
       "5 2.3    1.0    3.3  -1.3                               \n",
       "6 3.3    3.7    4.0   0.4                               "
      ]
     },
     "metadata": {},
     "output_type": "display_data"
    }
   ],
   "source": [
    "head(eq)"
   ]
  },
  {
   "cell_type": "code",
   "execution_count": 25,
   "metadata": {
    "ExecuteTime": {
     "end_time": "2018-05-29T14:59:53.696006Z",
     "start_time": "2018-05-29T14:59:52.649Z"
    }
   },
   "outputs": [
    {
     "data": {
      "text/html": [
       "<table>\n",
       "<thead><tr><th scope=col>Exam.1</th><th scope=col>Exam.2</th><th scope=col>Quiz</th><th scope=col>ExamDiff</th></tr></thead>\n",
       "<tbody>\n",
       "\t<tr><td>2.0 </td><td>3.3 </td><td>4.0 </td><td> 1.3</td></tr>\n",
       "\t<tr><td>3.3 </td><td>2.0 </td><td>3.7 </td><td>-1.3</td></tr>\n",
       "\t<tr><td>4.0 </td><td>4.0 </td><td>4.0 </td><td> 0.0</td></tr>\n",
       "\t<tr><td>2.3 </td><td>0.0 </td><td>3.3 </td><td>-2.3</td></tr>\n",
       "\t<tr><td>2.3 </td><td>1.0 </td><td>3.3 </td><td>-1.3</td></tr>\n",
       "\t<tr><td>3.3 </td><td>3.7 </td><td>4.0 </td><td> 0.4</td></tr>\n",
       "</tbody>\n",
       "</table>\n"
      ],
      "text/latex": [
       "\\begin{tabular}{r|llll}\n",
       " Exam.1 & Exam.2 & Quiz & ExamDiff\\\\\n",
       "\\hline\n",
       "\t 2.0  & 3.3  & 4.0  &  1.3\\\\\n",
       "\t 3.3  & 2.0  & 3.7  & -1.3\\\\\n",
       "\t 4.0  & 4.0  & 4.0  &  0.0\\\\\n",
       "\t 2.3  & 0.0  & 3.3  & -2.3\\\\\n",
       "\t 2.3  & 1.0  & 3.3  & -1.3\\\\\n",
       "\t 3.3  & 3.7  & 4.0  &  0.4\\\\\n",
       "\\end{tabular}\n"
      ],
      "text/markdown": [
       "\n",
       "Exam.1 | Exam.2 | Quiz | ExamDiff | \n",
       "|---|---|---|---|---|---|\n",
       "| 2.0  | 3.3  | 4.0  |  1.3 | \n",
       "| 3.3  | 2.0  | 3.7  | -1.3 | \n",
       "| 4.0  | 4.0  | 4.0  |  0.0 | \n",
       "| 2.3  | 0.0  | 3.3  | -2.3 | \n",
       "| 2.3  | 1.0  | 3.3  | -1.3 | \n",
       "| 3.3  | 3.7  | 4.0  |  0.4 | \n",
       "\n",
       "\n"
      ],
      "text/plain": [
       "  Exam.1 Exam.2 Quiz ExamDiff\n",
       "1 2.0    3.3    4.0   1.3    \n",
       "2 3.3    2.0    3.7  -1.3    \n",
       "3 4.0    4.0    4.0   0.0    \n",
       "4 2.3    0.0    3.3  -2.3    \n",
       "5 2.3    1.0    3.3  -1.3    \n",
       "6 3.3    3.7    4.0   0.4    "
      ]
     },
     "metadata": {},
     "output_type": "display_data"
    }
   ],
   "source": [
    "# 上面新列的名字有些不好看，我们可以使用names改变\n",
    "names(eq) <- c(names(examsquiz), \"ExamDiff\")\n",
    "eq"
   ]
  },
  {
   "cell_type": "code",
   "execution_count": 26,
   "metadata": {
    "ExecuteTime": {
     "end_time": "2018-05-29T14:59:53.724068Z",
     "start_time": "2018-05-29T14:59:52.654Z"
    }
   },
   "outputs": [
    {
     "data": {
      "text/html": [
       "<table>\n",
       "<thead><tr><th scope=col>Exam.1</th><th scope=col>Exam.2</th><th scope=col>Quiz</th><th scope=col>ExamDiff</th></tr></thead>\n",
       "<tbody>\n",
       "\t<tr><td>2.0 </td><td>3.3 </td><td>4.0 </td><td> 1.3</td></tr>\n",
       "\t<tr><td>3.3 </td><td>2.0 </td><td>3.7 </td><td>-1.3</td></tr>\n",
       "\t<tr><td>4.0 </td><td>4.0 </td><td>4.0 </td><td> 0.0</td></tr>\n",
       "</tbody>\n",
       "</table>\n"
      ],
      "text/latex": [
       "\\begin{tabular}{r|llll}\n",
       " Exam.1 & Exam.2 & Quiz & ExamDiff\\\\\n",
       "\\hline\n",
       "\t 2.0  & 3.3  & 4.0  &  1.3\\\\\n",
       "\t 3.3  & 2.0  & 3.7  & -1.3\\\\\n",
       "\t 4.0  & 4.0  & 4.0  &  0.0\\\\\n",
       "\\end{tabular}\n"
      ],
      "text/markdown": [
       "\n",
       "Exam.1 | Exam.2 | Quiz | ExamDiff | \n",
       "|---|---|---|\n",
       "| 2.0  | 3.3  | 4.0  |  1.3 | \n",
       "| 3.3  | 2.0  | 3.7  | -1.3 | \n",
       "| 4.0  | 4.0  | 4.0  |  0.0 | \n",
       "\n",
       "\n"
      ],
      "text/plain": [
       "  Exam.1 Exam.2 Quiz ExamDiff\n",
       "1 2.0    3.3    4.0   1.3    \n",
       "2 3.3    2.0    3.7  -1.3    \n",
       "3 4.0    4.0    4.0   0.0    "
      ]
     },
     "metadata": {},
     "output_type": "display_data"
    }
   ],
   "source": [
    "# 也可以使用下面的方法，更加简洁\n",
    "examsquiz$ExamDiff <- examsquiz$Exam.2 - examsquiz$Exam.1\n",
    "head(examsquiz, 3)"
   ]
  },
  {
   "cell_type": "code",
   "execution_count": 27,
   "metadata": {
    "ExecuteTime": {
     "end_time": "2018-05-29T14:59:53.753655Z",
     "start_time": "2018-05-29T14:59:52.660Z"
    }
   },
   "outputs": [
    {
     "data": {
      "text/html": [
       "<table>\n",
       "<thead><tr><th scope=col>kids</th><th scope=col>ages</th></tr></thead>\n",
       "<tbody>\n",
       "\t<tr><td>Jack</td><td>12  </td></tr>\n",
       "\t<tr><td>Jill</td><td>10  </td></tr>\n",
       "</tbody>\n",
       "</table>\n"
      ],
      "text/latex": [
       "\\begin{tabular}{r|ll}\n",
       " kids & ages\\\\\n",
       "\\hline\n",
       "\t Jack & 12  \\\\\n",
       "\t Jill & 10  \\\\\n",
       "\\end{tabular}\n"
      ],
      "text/markdown": [
       "\n",
       "kids | ages | \n",
       "|---|---|\n",
       "| Jack | 12   | \n",
       "| Jill | 10   | \n",
       "\n",
       "\n"
      ],
      "text/plain": [
       "  kids ages\n",
       "1 Jack 12  \n",
       "2 Jill 10  "
      ]
     },
     "metadata": {},
     "output_type": "display_data"
    }
   ],
   "source": [
    "# 上面这种直接添加新列的方法是很普遍的，也是很方便的\n",
    "d"
   ]
  },
  {
   "cell_type": "code",
   "execution_count": 28,
   "metadata": {
    "ExecuteTime": {
     "end_time": "2018-05-29T14:59:53.783091Z",
     "start_time": "2018-05-29T14:59:52.665Z"
    }
   },
   "outputs": [
    {
     "data": {
      "text/html": [
       "<table>\n",
       "<thead><tr><th scope=col>kids</th><th scope=col>ages</th><th scope=col>one</th></tr></thead>\n",
       "<tbody>\n",
       "\t<tr><td>Jack</td><td>12  </td><td>1   </td></tr>\n",
       "\t<tr><td>Jill</td><td>10  </td><td>1   </td></tr>\n",
       "</tbody>\n",
       "</table>\n"
      ],
      "text/latex": [
       "\\begin{tabular}{r|lll}\n",
       " kids & ages & one\\\\\n",
       "\\hline\n",
       "\t Jack & 12   & 1   \\\\\n",
       "\t Jill & 10   & 1   \\\\\n",
       "\\end{tabular}\n"
      ],
      "text/markdown": [
       "\n",
       "kids | ages | one | \n",
       "|---|---|\n",
       "| Jack | 12   | 1    | \n",
       "| Jill | 10   | 1    | \n",
       "\n",
       "\n"
      ],
      "text/plain": [
       "  kids ages one\n",
       "1 Jack 12   1  \n",
       "2 Jill 10   1  "
      ]
     },
     "metadata": {},
     "output_type": "display_data"
    }
   ],
   "source": [
    "d$one <- 1\n",
    "d"
   ]
  },
  {
   "cell_type": "markdown",
   "metadata": {},
   "source": [
    "#### 5.2.4 `apply()`函数(Applying apply())"
   ]
  },
  {
   "cell_type": "code",
   "execution_count": 29,
   "metadata": {
    "ExecuteTime": {
     "end_time": "2018-05-29T14:59:53.807408Z",
     "start_time": "2018-05-29T14:59:52.670Z"
    }
   },
   "outputs": [
    {
     "data": {
      "text/html": [
       "<ol class=list-inline>\n",
       "\t<li>4</li>\n",
       "\t<li>3.7</li>\n",
       "\t<li>4</li>\n",
       "\t<li>3.3</li>\n",
       "\t<li>3.3</li>\n",
       "\t<li>4</li>\n",
       "</ol>\n"
      ],
      "text/latex": [
       "\\begin{enumerate*}\n",
       "\\item 4\n",
       "\\item 3.7\n",
       "\\item 4\n",
       "\\item 3.3\n",
       "\\item 3.3\n",
       "\\item 4\n",
       "\\end{enumerate*}\n"
      ],
      "text/markdown": [
       "1. 4\n",
       "2. 3.7\n",
       "3. 4\n",
       "4. 3.3\n",
       "5. 3.3\n",
       "6. 4\n",
       "\n",
       "\n"
      ],
      "text/plain": [
       "[1] 4.0 3.7 4.0 3.3 3.3 4.0"
      ]
     },
     "metadata": {},
     "output_type": "display_data"
    }
   ],
   "source": [
    "# 在data frame所有列是相同数据类型的时候我们可以使用apply函数\n",
    "# 如下找到每个学生最好的成绩\n",
    "apply(examsquiz, 1, max)"
   ]
  },
  {
   "cell_type": "markdown",
   "metadata": {},
   "source": [
    "#### 5.2.5 拓展：工资研究(Extended Example: A Salary Study)\n"
   ]
  },
  {
   "cell_type": "code",
   "execution_count": 30,
   "metadata": {
    "ExecuteTime": {
     "end_time": "2018-05-29T14:59:53.852940Z",
     "start_time": "2018-05-29T14:59:52.690Z"
    }
   },
   "outputs": [
    {
     "data": {
      "text/html": [
       "<table>\n",
       "<thead><tr><th scope=col>Case_No</th><th scope=col>Processing_Center</th><th scope=col>Final_Case_Status</th><th scope=col>Received_Date</th><th scope=col>Certified_Date</th><th scope=col>Denied_Date</th><th scope=col>Employer_Name</th><th scope=col>Employer_Address_1</th><th scope=col>Employer_Address_2</th><th scope=col>Employer_City</th><th scope=col>⋯</th><th scope=col>Wage_Offered_From</th><th scope=col>Wage_Offered_To</th><th scope=col>Wage_Per</th><th scope=col>Prevailing_Wage_Job_Title</th><th scope=col>Prevailing_Wage_Amount</th><th scope=col>Prevailing_Wage_Level</th><th scope=col>Prevailing_Wage_SOC_CODE</th><th scope=col>Prevailing_Wage_SOC_Title</th><th scope=col>Prevailing_Wage_Source</th><th scope=col>Prevailing_Wage_Other_Source</th></tr></thead>\n",
       "<tbody>\n",
       "\t<tr><td>A-05243-28497                              </td><td>Atlanta Processing Center                  </td><td>Denied                                     </td><td>10/1/2005 0:00:00                          </td><td>NA                                         </td><td>10/1/2005 10:00:32                         </td><td>QAMAR UL ZAMAN, MD                         </td><td>1035 RICHWOOD AVENUE                       </td><td>                                           </td><td>CUMBERLAND                                 </td><td>⋯                                          </td><td>178000.00                                  </td><td>NA                                         </td><td>Year                                       </td><td>Physician                                  </td><td>163800.00                                  </td><td>Level III                                  </td><td>29-1062.00                                 </td><td>Family and General Practitioners           </td><td>OES                                        </td><td>                                           </td></tr>\n",
       "\t<tr><td>A-05275-38245                              </td><td>Atlanta Processing Center                  </td><td>Denied                                     </td><td>10/2/2005 0:00:00                          </td><td>NA                                         </td><td>10/2/2005 2:48:59                          </td><td>HYGIA INDUSTRIES, INC.                     </td><td>BOX 25                                     </td><td>                                           </td><td>TALLMAN                                    </td><td>⋯                                          </td><td>    29.52                                  </td><td>NA                                         </td><td>Year                                       </td><td>COMPUTER PROGRAMMER                        </td><td>    29.52                                  </td><td>Level II                                   </td><td>15-1021.00                                 </td><td>Computer Programmers                       </td><td>OES                                        </td><td>                                           </td></tr>\n",
       "\t<tr><td>A-05263-34450                                               </td><td>Atlanta Processing Center                                   </td><td>Denied                                                      </td><td>10/2/2005 0:00:00                                           </td><td>NA                                                          </td><td>10/2/2005 3:49:09                                           </td><td>TRI-SEASON LANDSCAPE &amp; BOULDER COUNTRUCTION             </td><td><span style=white-space:pre-wrap>2260 SUNRISE COURT  </span></td><td>                                                            </td><td>SCOTCH PLAINS                                               </td><td>⋯                                                           </td><td><span style=white-space:pre-wrap>    13.35</span>           </td><td>NA                                                          </td><td>Hour                                                        </td><td>LANDSCAPING &amp; GROUNDSKEEPING WORKERS                    </td><td><span style=white-space:pre-wrap>    13.35</span>           </td><td>Level IV                                                    </td><td>37-3011.00                                                  </td><td>Landscaping and Groundskeeping Workers                      </td><td>OES                                                         </td><td>                                                            </td></tr>\n",
       "</tbody>\n",
       "</table>\n"
      ],
      "text/latex": [
       "\\begin{tabular}{r|llllllllllllllllllllllll}\n",
       " Case\\_No & Processing\\_Center & Final\\_Case\\_Status & Received\\_Date & Certified\\_Date & Denied\\_Date & Employer\\_Name & Employer\\_Address\\_1 & Employer\\_Address\\_2 & Employer\\_City & ⋯ & Wage\\_Offered\\_From & Wage\\_Offered\\_To & Wage\\_Per & Prevailing\\_Wage\\_Job\\_Title & Prevailing\\_Wage\\_Amount & Prevailing\\_Wage\\_Level & Prevailing\\_Wage\\_SOC\\_CODE & Prevailing\\_Wage\\_SOC\\_Title & Prevailing\\_Wage\\_Source & Prevailing\\_Wage\\_Other\\_Source\\\\\n",
       "\\hline\n",
       "\t A-05243-28497                               & Atlanta Processing Center                   & Denied                                      & 10/1/2005 0:00:00                           & NA                                          & 10/1/2005 10:00:32                          & QAMAR UL ZAMAN, MD                          & 1035 RICHWOOD AVENUE                        &                                             & CUMBERLAND                                  & ⋯                                           & 178000.00                                   & NA                                          & Year                                        & Physician                                   & 163800.00                                   & Level III                                   & 29-1062.00                                  & Family and General Practitioners            & OES                                         &                                            \\\\\n",
       "\t A-05275-38245                               & Atlanta Processing Center                   & Denied                                      & 10/2/2005 0:00:00                           & NA                                          & 10/2/2005 2:48:59                           & HYGIA INDUSTRIES, INC.                      & BOX 25                                      &                                             & TALLMAN                                     & ⋯                                           &     29.52                                   & NA                                          & Year                                        & COMPUTER PROGRAMMER                         &     29.52                                   & Level II                                    & 15-1021.00                                  & Computer Programmers                        & OES                                         &                                            \\\\\n",
       "\t A-05263-34450                                 & Atlanta Processing Center                     & Denied                                        & 10/2/2005 0:00:00                             & NA                                            & 10/2/2005 3:49:09                             & TRI-SEASON LANDSCAPE \\& BOULDER COUNTRUCTION & 2260 SUNRISE COURT                            &                                               & SCOTCH PLAINS                                 & ⋯                                             &     13.35                                     & NA                                            & Hour                                          & LANDSCAPING \\& GROUNDSKEEPING WORKERS        &     13.35                                     & Level IV                                      & 37-3011.00                                    & Landscaping and Groundskeeping Workers        & OES                                           &                                              \\\\\n",
       "\\end{tabular}\n"
      ],
      "text/markdown": [
       "\n",
       "Case_No | Processing_Center | Final_Case_Status | Received_Date | Certified_Date | Denied_Date | Employer_Name | Employer_Address_1 | Employer_Address_2 | Employer_City | ⋯ | Wage_Offered_From | Wage_Offered_To | Wage_Per | Prevailing_Wage_Job_Title | Prevailing_Wage_Amount | Prevailing_Wage_Level | Prevailing_Wage_SOC_CODE | Prevailing_Wage_SOC_Title | Prevailing_Wage_Source | Prevailing_Wage_Other_Source | \n",
       "|---|---|---|\n",
       "| A-05243-28497                               | Atlanta Processing Center                   | Denied                                      | 10/1/2005 0:00:00                           | NA                                          | 10/1/2005 10:00:32                          | QAMAR UL ZAMAN, MD                          | 1035 RICHWOOD AVENUE                        |                                             | CUMBERLAND                                  | ⋯                                           | 178000.00                                   | NA                                          | Year                                        | Physician                                   | 163800.00                                   | Level III                                   | 29-1062.00                                  | Family and General Practitioners            | OES                                         |                                             | \n",
       "| A-05275-38245                               | Atlanta Processing Center                   | Denied                                      | 10/2/2005 0:00:00                           | NA                                          | 10/2/2005 2:48:59                           | HYGIA INDUSTRIES, INC.                      | BOX 25                                      |                                             | TALLMAN                                     | ⋯                                           |     29.52                                   | NA                                          | Year                                        | COMPUTER PROGRAMMER                         |     29.52                                   | Level II                                    | 15-1021.00                                  | Computer Programmers                        | OES                                         |                                             | \n",
       "| A-05263-34450                               | Atlanta Processing Center                   | Denied                                      | 10/2/2005 0:00:00                           | NA                                          | 10/2/2005 3:49:09                           | TRI-SEASON LANDSCAPE & BOULDER COUNTRUCTION | 2260 SUNRISE COURT                          |                                             | SCOTCH PLAINS                               | ⋯                                           |     13.35                                   | NA                                          | Hour                                        | LANDSCAPING & GROUNDSKEEPING WORKERS        |     13.35                                   | Level IV                                    | 37-3011.00                                  | Landscaping and Groundskeeping Workers      | OES                                         |                                             | \n",
       "\n",
       "\n"
      ],
      "text/plain": [
       "  Case_No       Processing_Center         Final_Case_Status Received_Date    \n",
       "1 A-05243-28497 Atlanta Processing Center Denied            10/1/2005 0:00:00\n",
       "2 A-05275-38245 Atlanta Processing Center Denied            10/2/2005 0:00:00\n",
       "3 A-05263-34450 Atlanta Processing Center Denied            10/2/2005 0:00:00\n",
       "  Certified_Date Denied_Date        Employer_Name                              \n",
       "1 NA             10/1/2005 10:00:32 QAMAR UL ZAMAN, MD                         \n",
       "2 NA             10/2/2005 2:48:59  HYGIA INDUSTRIES, INC.                     \n",
       "3 NA             10/2/2005 3:49:09  TRI-SEASON LANDSCAPE & BOULDER COUNTRUCTION\n",
       "  Employer_Address_1   Employer_Address_2 Employer_City ⋯ Wage_Offered_From\n",
       "1 1035 RICHWOOD AVENUE                    CUMBERLAND    ⋯ 178000.00        \n",
       "2 BOX 25                                  TALLMAN       ⋯     29.52        \n",
       "3 2260 SUNRISE COURT                      SCOTCH PLAINS ⋯     13.35        \n",
       "  Wage_Offered_To Wage_Per Prevailing_Wage_Job_Title           \n",
       "1 NA              Year     Physician                           \n",
       "2 NA              Year     COMPUTER PROGRAMMER                 \n",
       "3 NA              Hour     LANDSCAPING & GROUNDSKEEPING WORKERS\n",
       "  Prevailing_Wage_Amount Prevailing_Wage_Level Prevailing_Wage_SOC_CODE\n",
       "1 163800.00              Level III             29-1062.00              \n",
       "2     29.52              Level II              15-1021.00              \n",
       "3     13.35              Level IV              37-3011.00              \n",
       "  Prevailing_Wage_SOC_Title              Prevailing_Wage_Source\n",
       "1 Family and General Practitioners       OES                   \n",
       "2 Computer Programmers                   OES                   \n",
       "3 Landscaping and Groundskeeping Workers OES                   \n",
       "  Prevailing_Wage_Other_Source\n",
       "1                             \n",
       "2                             \n",
       "3                             "
      ]
     },
     "metadata": {},
     "output_type": "display_data"
    }
   ],
   "source": [
    "all2006 <- read.csv(\"./data//2006.csv\",\n",
    "                   header=TRUE, as.is=TRUE)\n",
    "head(all2006, 3)"
   ]
  },
  {
   "cell_type": "code",
   "execution_count": 31,
   "metadata": {
    "ExecuteTime": {
     "end_time": "2018-05-29T14:59:53.879839Z",
     "start_time": "2018-05-29T14:59:52.696Z"
    }
   },
   "outputs": [],
   "source": [
    "#  # exclude hourly-wagers\n",
    "all2006 <- all2006[all2006$Wage_Per == \"Year\", ]\n",
    "# exclude weird cases\n",
    "all2006 <- all2006[all2006$Wage_Offered_From > 20000,] \n",
    "# exclude hrly prv wg\n",
    "all2006 <- all2006[all2006$Prevailing_Wage_Amount > 200,] "
   ]
  },
  {
   "cell_type": "code",
   "execution_count": 32,
   "metadata": {
    "ExecuteTime": {
     "end_time": "2018-05-29T14:59:53.898903Z",
     "start_time": "2018-05-29T14:59:52.702Z"
    }
   },
   "outputs": [],
   "source": [
    "# 实际工资与一般工资水平之比\n",
    "all2006$rat <- all2006$Wage_Offered_From / all2006$Prevailing_Wage_Amount"
   ]
  },
  {
   "cell_type": "code",
   "execution_count": 33,
   "metadata": {
    "ExecuteTime": {
     "end_time": "2018-05-29T14:59:53.916422Z",
     "start_time": "2018-05-29T14:59:52.710Z"
    }
   },
   "outputs": [],
   "source": [
    "# 计算rat列均值的函数\n",
    "medrat <- function(dataframe){\n",
    "    return(median(dataframe$rat, na.rm = TRUE))\n",
    "}"
   ]
  },
  {
   "cell_type": "code",
   "execution_count": 34,
   "metadata": {
    "ExecuteTime": {
     "end_time": "2018-05-29T14:59:53.955715Z",
     "start_time": "2018-05-29T14:59:52.716Z"
    }
   },
   "outputs": [],
   "source": [
    "# 挑选其中三个职业[不同职业]\n",
    "se2006 <- all2006[grep(\"Software Engineer\",all2006),]\n",
    "prg2006 <- all2006[grep(\"Programmer\",all2006),]\n",
    "ee2006 <- all2006[grep(\"Electronics Engineer\",all2006),]"
   ]
  },
  {
   "cell_type": "markdown",
   "metadata": {},
   "source": [
    "这里使用`grep`函数，去挑选出含有特定职业名的行。关于此函数，后面第11章还会讲到。"
   ]
  },
  {
   "cell_type": "code",
   "execution_count": 35,
   "metadata": {
    "ExecuteTime": {
     "end_time": "2018-05-29T14:59:53.982512Z",
     "start_time": "2018-05-29T14:59:52.722Z"
    }
   },
   "outputs": [],
   "source": [
    "# 获取某一公司的数据[不同公司]\n",
    "makecorp <- function(corpname){\n",
    "    t <- all2006[all2006$Employer_Name == corpname, ]\n",
    "    return(t)\n",
    "}"
   ]
  },
  {
   "cell_type": "code",
   "execution_count": 36,
   "metadata": {
    "ExecuteTime": {
     "end_time": "2018-05-29T14:59:54.015963Z",
     "start_time": "2018-05-29T14:59:52.726Z"
    }
   },
   "outputs": [
    {
     "name": "stdout",
     "output_type": "stream",
     "text": [
      "[1] \"cmc2006\"\n",
      "[1] \"ne2006\"\n",
      "[1] \"sq2006\"\n",
      "[1] \"yi2006\"\n"
     ]
    }
   ],
   "source": [
    "# 数据集包含的公司\n",
    "#unique(all2006$Employer_Name)\n",
    "\n",
    "# 挑选部分\n",
    "corplist <- c(\"CASTLE MANAGEMENT CORPORATION\",\"cmc\",\"NIPPON EXPRESS USA\",\"ne\",\n",
    "              \"THE STONE QUARRY, INC\",\"sq\",\"YOMIWURI, INC.\",\"yi\")\n",
    "\n",
    "for (i in 1:(length(corplist)/2)) {\n",
    "    corp <- corplist[2*i-1]\n",
    "    newdtf <- paste(corplist[2*i],\"2006\",sep=\"\")\n",
    "    print(newdtf)\n",
    "    assign(newdtf,makecorp(corp),pos=.GlobalEnv)\n",
    "}"
   ]
  },
  {
   "cell_type": "code",
   "execution_count": 37,
   "metadata": {
    "ExecuteTime": {
     "end_time": "2018-05-29T14:59:54.049354Z",
     "start_time": "2018-05-29T14:59:52.733Z"
    }
   },
   "outputs": [
    {
     "data": {
      "text/html": [
       "<ol class=list-inline>\n",
       "\t<li>'ages'</li>\n",
       "\t<li>'all2006'</li>\n",
       "\t<li>'cmc2006'</li>\n",
       "\t<li>'corp'</li>\n",
       "\t<li>'corplist'</li>\n",
       "\t<li>'d'</li>\n",
       "\t<li>'d4'</li>\n",
       "\t<li>'d5'</li>\n",
       "\t<li>'ee2006'</li>\n",
       "\t<li>'eq'</li>\n",
       "\t<li>'examsquiz'</li>\n",
       "\t<li>'i'</li>\n",
       "\t<li>'kids'</li>\n",
       "\t<li>'makecorp'</li>\n",
       "\t<li>'medrat'</li>\n",
       "\t<li>'ne2006'</li>\n",
       "\t<li>'newdtf'</li>\n",
       "\t<li>'prg2006'</li>\n",
       "\t<li>'se2006'</li>\n",
       "\t<li>'sq2006'</li>\n",
       "\t<li>'x'</li>\n",
       "\t<li>'yi2006'</li>\n",
       "</ol>\n"
      ],
      "text/latex": [
       "\\begin{enumerate*}\n",
       "\\item 'ages'\n",
       "\\item 'all2006'\n",
       "\\item 'cmc2006'\n",
       "\\item 'corp'\n",
       "\\item 'corplist'\n",
       "\\item 'd'\n",
       "\\item 'd4'\n",
       "\\item 'd5'\n",
       "\\item 'ee2006'\n",
       "\\item 'eq'\n",
       "\\item 'examsquiz'\n",
       "\\item 'i'\n",
       "\\item 'kids'\n",
       "\\item 'makecorp'\n",
       "\\item 'medrat'\n",
       "\\item 'ne2006'\n",
       "\\item 'newdtf'\n",
       "\\item 'prg2006'\n",
       "\\item 'se2006'\n",
       "\\item 'sq2006'\n",
       "\\item 'x'\n",
       "\\item 'yi2006'\n",
       "\\end{enumerate*}\n"
      ],
      "text/markdown": [
       "1. 'ages'\n",
       "2. 'all2006'\n",
       "3. 'cmc2006'\n",
       "4. 'corp'\n",
       "5. 'corplist'\n",
       "6. 'd'\n",
       "7. 'd4'\n",
       "8. 'd5'\n",
       "9. 'ee2006'\n",
       "10. 'eq'\n",
       "11. 'examsquiz'\n",
       "12. 'i'\n",
       "13. 'kids'\n",
       "14. 'makecorp'\n",
       "15. 'medrat'\n",
       "16. 'ne2006'\n",
       "17. 'newdtf'\n",
       "18. 'prg2006'\n",
       "19. 'se2006'\n",
       "20. 'sq2006'\n",
       "21. 'x'\n",
       "22. 'yi2006'\n",
       "\n",
       "\n"
      ],
      "text/plain": [
       " [1] \"ages\"      \"all2006\"   \"cmc2006\"   \"corp\"      \"corplist\"  \"d\"        \n",
       " [7] \"d4\"        \"d5\"        \"ee2006\"    \"eq\"        \"examsquiz\" \"i\"        \n",
       "[13] \"kids\"      \"makecorp\"  \"medrat\"    \"ne2006\"    \"newdtf\"    \"prg2006\"  \n",
       "[19] \"se2006\"    \"sq2006\"    \"x\"         \"yi2006\"   "
      ]
     },
     "metadata": {},
     "output_type": "display_data"
    },
    {
     "data": {
      "text/html": [
       "<ol class=list-inline>\n",
       "\t<li>'all2006'</li>\n",
       "\t<li>'cmc2006'</li>\n",
       "\t<li>'ee2006'</li>\n",
       "\t<li>'ne2006'</li>\n",
       "\t<li>'prg2006'</li>\n",
       "\t<li>'se2006'</li>\n",
       "\t<li>'sq2006'</li>\n",
       "\t<li>'yi2006'</li>\n",
       "</ol>\n"
      ],
      "text/latex": [
       "\\begin{enumerate*}\n",
       "\\item 'all2006'\n",
       "\\item 'cmc2006'\n",
       "\\item 'ee2006'\n",
       "\\item 'ne2006'\n",
       "\\item 'prg2006'\n",
       "\\item 'se2006'\n",
       "\\item 'sq2006'\n",
       "\\item 'yi2006'\n",
       "\\end{enumerate*}\n"
      ],
      "text/markdown": [
       "1. 'all2006'\n",
       "2. 'cmc2006'\n",
       "3. 'ee2006'\n",
       "4. 'ne2006'\n",
       "5. 'prg2006'\n",
       "6. 'se2006'\n",
       "7. 'sq2006'\n",
       "8. 'yi2006'\n",
       "\n",
       "\n"
      ],
      "text/plain": [
       "[1] \"all2006\" \"cmc2006\" \"ee2006\"  \"ne2006\"  \"prg2006\" \"se2006\"  \"sq2006\" \n",
       "[8] \"yi2006\" "
      ]
     },
     "metadata": {},
     "output_type": "display_data"
    }
   ],
   "source": [
    "# 所有的全局变量\n",
    "objects()\n",
    "# 新生成的对象\n",
    "objects()[grep(\"2006\", objects())]"
   ]
  },
  {
   "cell_type": "code",
   "execution_count": 38,
   "metadata": {
    "ExecuteTime": {
     "end_time": "2018-05-29T14:59:54.077953Z",
     "start_time": "2018-05-29T14:59:52.749Z"
    }
   },
   "outputs": [
    {
     "data": {
      "text/html": [
       "<table>\n",
       "<thead><tr><th></th><th scope=col>Case_No</th><th scope=col>Processing_Center</th><th scope=col>Final_Case_Status</th><th scope=col>Received_Date</th><th scope=col>Certified_Date</th><th scope=col>Denied_Date</th><th scope=col>Employer_Name</th><th scope=col>Employer_Address_1</th><th scope=col>Employer_Address_2</th><th scope=col>Employer_City</th><th scope=col>⋯</th><th scope=col>Wage_Offered_To</th><th scope=col>Wage_Per</th><th scope=col>Prevailing_Wage_Job_Title</th><th scope=col>Prevailing_Wage_Amount</th><th scope=col>Prevailing_Wage_Level</th><th scope=col>Prevailing_Wage_SOC_CODE</th><th scope=col>Prevailing_Wage_SOC_Title</th><th scope=col>Prevailing_Wage_Source</th><th scope=col>Prevailing_Wage_Other_Source</th><th scope=col>rat</th></tr></thead>\n",
       "<tbody>\n",
       "\t<tr><th scope=row>4</th><td>A-05273-38122               </td><td>Atlanta Processing Center   </td><td>Denied                      </td><td>10/2/2005 0:00:00           </td><td>NA                          </td><td>10/2/2005 9:50:15           </td><td>NIPPON EXPRESS USA          </td><td>590 MADISON AVE.            </td><td>SUITE 2401                  </td><td>NEW YORK                    </td><td>⋯                           </td><td>NA                          </td><td>Year                        </td><td>Senior Logistics Coordinator</td><td>61818                       </td><td>Level II                    </td><td>11-3071.01                  </td><td>Transportation Managers     </td><td>OES                         </td><td>                            </td><td>1.002944                    </td></tr>\n",
       "</tbody>\n",
       "</table>\n"
      ],
      "text/latex": [
       "\\begin{tabular}{r|lllllllllllllllllllllllll}\n",
       "  & Case\\_No & Processing\\_Center & Final\\_Case\\_Status & Received\\_Date & Certified\\_Date & Denied\\_Date & Employer\\_Name & Employer\\_Address\\_1 & Employer\\_Address\\_2 & Employer\\_City & ⋯ & Wage\\_Offered\\_To & Wage\\_Per & Prevailing\\_Wage\\_Job\\_Title & Prevailing\\_Wage\\_Amount & Prevailing\\_Wage\\_Level & Prevailing\\_Wage\\_SOC\\_CODE & Prevailing\\_Wage\\_SOC\\_Title & Prevailing\\_Wage\\_Source & Prevailing\\_Wage\\_Other\\_Source & rat\\\\\n",
       "\\hline\n",
       "\t4 & A-05273-38122                & Atlanta Processing Center    & Denied                       & 10/2/2005 0:00:00            & NA                           & 10/2/2005 9:50:15            & NIPPON EXPRESS USA           & 590 MADISON AVE.             & SUITE 2401                   & NEW YORK                     & ⋯                            & NA                           & Year                         & Senior Logistics Coordinator & 61818                        & Level II                     & 11-3071.01                   & Transportation Managers      & OES                          &                              & 1.002944                    \\\\\n",
       "\\end{tabular}\n"
      ],
      "text/markdown": [
       "\n",
       "| <!--/--> | Case_No | Processing_Center | Final_Case_Status | Received_Date | Certified_Date | Denied_Date | Employer_Name | Employer_Address_1 | Employer_Address_2 | Employer_City | ⋯ | Wage_Offered_To | Wage_Per | Prevailing_Wage_Job_Title | Prevailing_Wage_Amount | Prevailing_Wage_Level | Prevailing_Wage_SOC_CODE | Prevailing_Wage_SOC_Title | Prevailing_Wage_Source | Prevailing_Wage_Other_Source | rat | \n",
       "|---|\n",
       "| 4 | A-05273-38122                | Atlanta Processing Center    | Denied                       | 10/2/2005 0:00:00            | NA                           | 10/2/2005 9:50:15            | NIPPON EXPRESS USA           | 590 MADISON AVE.             | SUITE 2401                   | NEW YORK                     | ⋯                            | NA                           | Year                         | Senior Logistics Coordinator | 61818                        | Level II                     | 11-3071.01                   | Transportation Managers      | OES                          |                              | 1.002944                     | \n",
       "\n",
       "\n"
      ],
      "text/plain": [
       "  Case_No       Processing_Center         Final_Case_Status Received_Date    \n",
       "4 A-05273-38122 Atlanta Processing Center Denied            10/2/2005 0:00:00\n",
       "  Certified_Date Denied_Date       Employer_Name      Employer_Address_1\n",
       "4 NA             10/2/2005 9:50:15 NIPPON EXPRESS USA 590 MADISON AVE.  \n",
       "  Employer_Address_2 Employer_City ⋯ Wage_Offered_To Wage_Per\n",
       "4 SUITE 2401         NEW YORK      ⋯ NA              Year    \n",
       "  Prevailing_Wage_Job_Title    Prevailing_Wage_Amount Prevailing_Wage_Level\n",
       "4 Senior Logistics Coordinator 61818                  Level II             \n",
       "  Prevailing_Wage_SOC_CODE Prevailing_Wage_SOC_Title Prevailing_Wage_Source\n",
       "4 11-3071.01               Transportation Managers   OES                   \n",
       "  Prevailing_Wage_Other_Source rat     \n",
       "4                              1.002944"
      ]
     },
     "metadata": {},
     "output_type": "display_data"
    }
   ],
   "source": [
    "ne2006"
   ]
  },
  {
   "cell_type": "markdown",
   "metadata": {},
   "source": [
    "### 5.3 合并(Merging Data Frames)\n",
    "关系性数据库使用`join`较多，就是根据者某个共同变量的值将两个数据表合并起来。这在\n",
    "R中通过`merge`函数就可以实现。"
   ]
  },
  {
   "cell_type": "code",
   "execution_count": 39,
   "metadata": {
    "ExecuteTime": {
     "end_time": "2018-05-29T14:59:54.115645Z",
     "start_time": "2018-05-29T14:59:52.757Z"
    }
   },
   "outputs": [
    {
     "data": {
      "text/html": [
       "<table>\n",
       "<thead><tr><th scope=col>kids</th><th scope=col>states</th></tr></thead>\n",
       "<tbody>\n",
       "\t<tr><td>Jack   </td><td>CA     </td></tr>\n",
       "\t<tr><td>Jill   </td><td>MA     </td></tr>\n",
       "\t<tr><td>Jillian</td><td>MA     </td></tr>\n",
       "\t<tr><td>Jhon   </td><td>HI     </td></tr>\n",
       "</tbody>\n",
       "</table>\n"
      ],
      "text/latex": [
       "\\begin{tabular}{r|ll}\n",
       " kids & states\\\\\n",
       "\\hline\n",
       "\t Jack    & CA     \\\\\n",
       "\t Jill    & MA     \\\\\n",
       "\t Jillian & MA     \\\\\n",
       "\t Jhon    & HI     \\\\\n",
       "\\end{tabular}\n"
      ],
      "text/markdown": [
       "\n",
       "kids | states | \n",
       "|---|---|---|---|\n",
       "| Jack    | CA      | \n",
       "| Jill    | MA      | \n",
       "| Jillian | MA      | \n",
       "| Jhon    | HI      | \n",
       "\n",
       "\n"
      ],
      "text/plain": [
       "  kids    states\n",
       "1 Jack    CA    \n",
       "2 Jill    MA    \n",
       "3 Jillian MA    \n",
       "4 Jhon    HI    "
      ]
     },
     "metadata": {},
     "output_type": "display_data"
    },
    {
     "data": {
      "text/html": [
       "<table>\n",
       "<thead><tr><th scope=col>ages</th><th scope=col>kids</th></tr></thead>\n",
       "<tbody>\n",
       "\t<tr><td>10     </td><td>Jill   </td></tr>\n",
       "\t<tr><td> 7     </td><td>Lillian</td></tr>\n",
       "\t<tr><td>12     </td><td>Jack   </td></tr>\n",
       "</tbody>\n",
       "</table>\n"
      ],
      "text/latex": [
       "\\begin{tabular}{r|ll}\n",
       " ages & kids\\\\\n",
       "\\hline\n",
       "\t 10      & Jill   \\\\\n",
       "\t  7      & Lillian\\\\\n",
       "\t 12      & Jack   \\\\\n",
       "\\end{tabular}\n"
      ],
      "text/markdown": [
       "\n",
       "ages | kids | \n",
       "|---|---|---|\n",
       "| 10      | Jill    | \n",
       "|  7      | Lillian | \n",
       "| 12      | Jack    | \n",
       "\n",
       "\n"
      ],
      "text/plain": [
       "  ages kids   \n",
       "1 10   Jill   \n",
       "2  7   Lillian\n",
       "3 12   Jack   "
      ]
     },
     "metadata": {},
     "output_type": "display_data"
    }
   ],
   "source": [
    "d1 <- data.frame(kids=c(\"Jack\", \"Jill\", \"Jillian\", \"Jhon\"),\n",
    "                states=c(\"CA\", \"MA\", \"MA\", \"HI\"),\n",
    "                stringsAsFactors=FALSE)\n",
    "d1\n",
    "\n",
    "d2 <- data.frame(ages=c(10, 7, 12), \n",
    "                 kids=c(\"Jill\", \"Lillian\", \"Jack\"),\n",
    "                 stringsAsFactors=FALSE)\n",
    "d2"
   ]
  },
  {
   "cell_type": "code",
   "execution_count": 40,
   "metadata": {
    "ExecuteTime": {
     "end_time": "2018-05-29T14:59:54.140521Z",
     "start_time": "2018-05-29T14:59:52.762Z"
    }
   },
   "outputs": [
    {
     "data": {
      "text/html": [
       "<table>\n",
       "<thead><tr><th scope=col>kids</th><th scope=col>states</th><th scope=col>ages</th></tr></thead>\n",
       "<tbody>\n",
       "\t<tr><td>Jack</td><td>CA  </td><td>12  </td></tr>\n",
       "\t<tr><td>Jill</td><td>MA  </td><td>10  </td></tr>\n",
       "</tbody>\n",
       "</table>\n"
      ],
      "text/latex": [
       "\\begin{tabular}{r|lll}\n",
       " kids & states & ages\\\\\n",
       "\\hline\n",
       "\t Jack & CA   & 12  \\\\\n",
       "\t Jill & MA   & 10  \\\\\n",
       "\\end{tabular}\n"
      ],
      "text/markdown": [
       "\n",
       "kids | states | ages | \n",
       "|---|---|\n",
       "| Jack | CA   | 12   | \n",
       "| Jill | MA   | 10   | \n",
       "\n",
       "\n"
      ],
      "text/plain": [
       "  kids states ages\n",
       "1 Jack CA     12  \n",
       "2 Jill MA     10  "
      ]
     },
     "metadata": {},
     "output_type": "display_data"
    }
   ],
   "source": [
    "d <- merge(d1, d2)\n",
    "d"
   ]
  },
  {
   "cell_type": "markdown",
   "metadata": {},
   "source": [
    "这里，R将两个表中含有相同`kids`值的行提取出来，并将各自含有的其他变量\n",
    "（states, ages）合并到新的`data frame`中。"
   ]
  },
  {
   "cell_type": "code",
   "execution_count": 41,
   "metadata": {
    "ExecuteTime": {
     "end_time": "2018-05-29T14:59:54.172080Z",
     "start_time": "2018-05-29T14:59:52.767Z"
    }
   },
   "outputs": [
    {
     "data": {
      "text/html": [
       "<table>\n",
       "<thead><tr><th scope=col>ages</th><th scope=col>pals</th></tr></thead>\n",
       "<tbody>\n",
       "\t<tr><td>12     </td><td>Jack   </td></tr>\n",
       "\t<tr><td>10     </td><td>Jill   </td></tr>\n",
       "\t<tr><td> 7     </td><td>Lillian</td></tr>\n",
       "</tbody>\n",
       "</table>\n"
      ],
      "text/latex": [
       "\\begin{tabular}{r|ll}\n",
       " ages & pals\\\\\n",
       "\\hline\n",
       "\t 12      & Jack   \\\\\n",
       "\t 10      & Jill   \\\\\n",
       "\t  7      & Lillian\\\\\n",
       "\\end{tabular}\n"
      ],
      "text/markdown": [
       "\n",
       "ages | pals | \n",
       "|---|---|---|\n",
       "| 12      | Jack    | \n",
       "| 10      | Jill    | \n",
       "|  7      | Lillian | \n",
       "\n",
       "\n"
      ],
      "text/plain": [
       "  ages pals   \n",
       "1 12   Jack   \n",
       "2 10   Jill   \n",
       "3  7   Lillian"
      ]
     },
     "metadata": {},
     "output_type": "display_data"
    }
   ],
   "source": [
    "d3 <- data.frame(ages=c(12, 10, 7), \n",
    "                 pals=c(\"Jack\", \"Jill\", \"Lillian\"),\n",
    "                 stringsAsFactors=FALSE)\n",
    "d3"
   ]
  },
  {
   "cell_type": "code",
   "execution_count": 42,
   "metadata": {
    "ExecuteTime": {
     "end_time": "2018-05-29T14:59:54.196585Z",
     "start_time": "2018-05-29T14:59:52.773Z"
    }
   },
   "outputs": [
    {
     "data": {
      "text/html": [
       "<table>\n",
       "<thead><tr><th scope=col>kids</th><th scope=col>states</th><th scope=col>ages</th></tr></thead>\n",
       "<tbody>\n",
       "\t<tr><td>Jack</td><td>CA  </td><td>12  </td></tr>\n",
       "\t<tr><td>Jill</td><td>MA  </td><td>10  </td></tr>\n",
       "</tbody>\n",
       "</table>\n"
      ],
      "text/latex": [
       "\\begin{tabular}{r|lll}\n",
       " kids & states & ages\\\\\n",
       "\\hline\n",
       "\t Jack & CA   & 12  \\\\\n",
       "\t Jill & MA   & 10  \\\\\n",
       "\\end{tabular}\n"
      ],
      "text/markdown": [
       "\n",
       "kids | states | ages | \n",
       "|---|---|\n",
       "| Jack | CA   | 12   | \n",
       "| Jill | MA   | 10   | \n",
       "\n",
       "\n"
      ],
      "text/plain": [
       "  kids states ages\n",
       "1 Jack CA     12  \n",
       "2 Jill MA     10  "
      ]
     },
     "metadata": {},
     "output_type": "display_data"
    }
   ],
   "source": [
    "# 共同变量名字不一致时，可以通过by.x, by.y指定\n",
    "merge(d1, d3, by.x = \"kids\", by.y = \"pals\")"
   ]
  },
  {
   "cell_type": "code",
   "execution_count": 43,
   "metadata": {
    "ExecuteTime": {
     "end_time": "2018-05-29T14:59:54.221354Z",
     "start_time": "2018-05-29T14:59:52.779Z"
    }
   },
   "outputs": [
    {
     "data": {
      "text/html": [
       "<table>\n",
       "<thead><tr><th scope=col>kids</th><th scope=col>states</th></tr></thead>\n",
       "<tbody>\n",
       "\t<tr><td>Jack   </td><td>CA     </td></tr>\n",
       "\t<tr><td>Jill   </td><td>MA     </td></tr>\n",
       "\t<tr><td>Jillian</td><td>MA     </td></tr>\n",
       "\t<tr><td>Jhon   </td><td>HI     </td></tr>\n",
       "</tbody>\n",
       "</table>\n"
      ],
      "text/latex": [
       "\\begin{tabular}{r|ll}\n",
       " kids & states\\\\\n",
       "\\hline\n",
       "\t Jack    & CA     \\\\\n",
       "\t Jill    & MA     \\\\\n",
       "\t Jillian & MA     \\\\\n",
       "\t Jhon    & HI     \\\\\n",
       "\\end{tabular}\n"
      ],
      "text/markdown": [
       "\n",
       "kids | states | \n",
       "|---|---|---|---|\n",
       "| Jack    | CA      | \n",
       "| Jill    | MA      | \n",
       "| Jillian | MA      | \n",
       "| Jhon    | HI      | \n",
       "\n",
       "\n"
      ],
      "text/plain": [
       "  kids    states\n",
       "1 Jack    CA    \n",
       "2 Jill    MA    \n",
       "3 Jillian MA    \n",
       "4 Jhon    HI    "
      ]
     },
     "metadata": {},
     "output_type": "display_data"
    }
   ],
   "source": [
    "# 重复值的情况\n",
    "d1"
   ]
  },
  {
   "cell_type": "code",
   "execution_count": 44,
   "metadata": {
    "ExecuteTime": {
     "end_time": "2018-05-29T14:59:54.251051Z",
     "start_time": "2018-05-29T14:59:52.785Z"
    }
   },
   "outputs": [
    {
     "data": {
      "text/html": [
       "<table>\n",
       "<thead><tr><th scope=col>ages</th><th scope=col>kids</th></tr></thead>\n",
       "<tbody>\n",
       "\t<tr><td>10     </td><td>Jill   </td></tr>\n",
       "\t<tr><td> 7     </td><td>Lillian</td></tr>\n",
       "\t<tr><td>12     </td><td>Jack   </td></tr>\n",
       "\t<tr><td>15     </td><td>Jill   </td></tr>\n",
       "</tbody>\n",
       "</table>\n"
      ],
      "text/latex": [
       "\\begin{tabular}{r|ll}\n",
       " ages & kids\\\\\n",
       "\\hline\n",
       "\t 10      & Jill   \\\\\n",
       "\t  7      & Lillian\\\\\n",
       "\t 12      & Jack   \\\\\n",
       "\t 15      & Jill   \\\\\n",
       "\\end{tabular}\n"
      ],
      "text/markdown": [
       "\n",
       "ages | kids | \n",
       "|---|---|---|---|\n",
       "| 10      | Jill    | \n",
       "|  7      | Lillian | \n",
       "| 12      | Jack    | \n",
       "| 15      | Jill    | \n",
       "\n",
       "\n"
      ],
      "text/plain": [
       "  ages kids   \n",
       "1 10   Jill   \n",
       "2  7   Lillian\n",
       "3 12   Jack   \n",
       "4 15   Jill   "
      ]
     },
     "metadata": {},
     "output_type": "display_data"
    }
   ],
   "source": [
    "d2a <- rbind(d2, list(15, \"Jill\"))\n",
    "d2a"
   ]
  },
  {
   "cell_type": "code",
   "execution_count": 45,
   "metadata": {
    "ExecuteTime": {
     "end_time": "2018-05-29T14:59:54.277205Z",
     "start_time": "2018-05-29T14:59:52.789Z"
    }
   },
   "outputs": [
    {
     "data": {
      "text/html": [
       "<table>\n",
       "<thead><tr><th scope=col>kids</th><th scope=col>states</th><th scope=col>ages</th></tr></thead>\n",
       "<tbody>\n",
       "\t<tr><td>Jack</td><td>CA  </td><td>12  </td></tr>\n",
       "\t<tr><td>Jill</td><td>MA  </td><td>10  </td></tr>\n",
       "\t<tr><td>Jill</td><td>MA  </td><td>15  </td></tr>\n",
       "</tbody>\n",
       "</table>\n"
      ],
      "text/latex": [
       "\\begin{tabular}{r|lll}\n",
       " kids & states & ages\\\\\n",
       "\\hline\n",
       "\t Jack & CA   & 12  \\\\\n",
       "\t Jill & MA   & 10  \\\\\n",
       "\t Jill & MA   & 15  \\\\\n",
       "\\end{tabular}\n"
      ],
      "text/markdown": [
       "\n",
       "kids | states | ages | \n",
       "|---|---|---|\n",
       "| Jack | CA   | 12   | \n",
       "| Jill | MA   | 10   | \n",
       "| Jill | MA   | 15   | \n",
       "\n",
       "\n"
      ],
      "text/plain": [
       "  kids states ages\n",
       "1 Jack CA     12  \n",
       "2 Jill MA     10  \n",
       "3 Jill MA     15  "
      ]
     },
     "metadata": {},
     "output_type": "display_data"
    }
   ],
   "source": [
    "merge(d1, d2a)"
   ]
  },
  {
   "cell_type": "markdown",
   "metadata": {},
   "source": [
    "以上看到，其中一个数据集有重复的时候，合并后扔保留，造成数据混乱。\n",
    "者要求我们慎重选择匹配的共同变量，尽量避免这种情况发生。"
   ]
  },
  {
   "cell_type": "markdown",
   "metadata": {},
   "source": [
    "#### 5.3.1 拓展：员工数据库(Extended Example: An Employee Database)\n",
    "\n",
    "这里的数据实在是找不到Orz..."
   ]
  },
  {
   "cell_type": "markdown",
   "metadata": {},
   "source": [
    "### 5.4 应用函数(Applying Functions to Data Frames)\n"
   ]
  },
  {
   "cell_type": "markdown",
   "metadata": {},
   "source": [
    "### 5.4.1 `lapply`&`sapply`(Using lapply() and sapply() on Data Frames)\n",
    "\n",
    "前面已经说过，`data frame`就是特殊的`list`，所以和`list`一样，我们这里也\n",
    "可以使用`lapply`和`sapply`，返回的结果一样是`list`"
   ]
  },
  {
   "cell_type": "code",
   "execution_count": 46,
   "metadata": {
    "ExecuteTime": {
     "end_time": "2018-05-29T14:59:54.305084Z",
     "start_time": "2018-05-29T14:59:53.091Z"
    }
   },
   "outputs": [
    {
     "data": {
      "text/html": [
       "<table>\n",
       "<thead><tr><th scope=col>kids</th><th scope=col>states</th><th scope=col>ages</th></tr></thead>\n",
       "<tbody>\n",
       "\t<tr><td>Jack</td><td>CA  </td><td>12  </td></tr>\n",
       "\t<tr><td>Jill</td><td>MA  </td><td>10  </td></tr>\n",
       "</tbody>\n",
       "</table>\n"
      ],
      "text/latex": [
       "\\begin{tabular}{r|lll}\n",
       " kids & states & ages\\\\\n",
       "\\hline\n",
       "\t Jack & CA   & 12  \\\\\n",
       "\t Jill & MA   & 10  \\\\\n",
       "\\end{tabular}\n"
      ],
      "text/markdown": [
       "\n",
       "kids | states | ages | \n",
       "|---|---|\n",
       "| Jack | CA   | 12   | \n",
       "| Jill | MA   | 10   | \n",
       "\n",
       "\n"
      ],
      "text/plain": [
       "  kids states ages\n",
       "1 Jack CA     12  \n",
       "2 Jill MA     10  "
      ]
     },
     "metadata": {},
     "output_type": "display_data"
    }
   ],
   "source": [
    "d"
   ]
  },
  {
   "cell_type": "code",
   "execution_count": 47,
   "metadata": {
    "ExecuteTime": {
     "end_time": "2018-05-29T15:00:20.358664Z",
     "start_time": "2018-05-29T15:00:20.325Z"
    }
   },
   "outputs": [
    {
     "data": {
      "text/html": [
       "<dl>\n",
       "\t<dt>$kids</dt>\n",
       "\t\t<dd><ol class=list-inline>\n",
       "\t<li>'Jack'</li>\n",
       "\t<li>'Jill'</li>\n",
       "</ol>\n",
       "</dd>\n",
       "\t<dt>$states</dt>\n",
       "\t\t<dd><ol class=list-inline>\n",
       "\t<li>'CA'</li>\n",
       "\t<li>'MA'</li>\n",
       "</ol>\n",
       "</dd>\n",
       "\t<dt>$ages</dt>\n",
       "\t\t<dd><ol class=list-inline>\n",
       "\t<li>10</li>\n",
       "\t<li>12</li>\n",
       "</ol>\n",
       "</dd>\n",
       "</dl>\n"
      ],
      "text/latex": [
       "\\begin{description}\n",
       "\\item[\\$kids] \\begin{enumerate*}\n",
       "\\item 'Jack'\n",
       "\\item 'Jill'\n",
       "\\end{enumerate*}\n",
       "\n",
       "\\item[\\$states] \\begin{enumerate*}\n",
       "\\item 'CA'\n",
       "\\item 'MA'\n",
       "\\end{enumerate*}\n",
       "\n",
       "\\item[\\$ages] \\begin{enumerate*}\n",
       "\\item 10\n",
       "\\item 12\n",
       "\\end{enumerate*}\n",
       "\n",
       "\\end{description}\n"
      ],
      "text/markdown": [
       "$kids\n",
       ":   1. 'Jack'\n",
       "2. 'Jill'\n",
       "\n",
       "\n",
       "\n",
       "$states\n",
       ":   1. 'CA'\n",
       "2. 'MA'\n",
       "\n",
       "\n",
       "\n",
       "$ages\n",
       ":   1. 10\n",
       "2. 12\n",
       "\n",
       "\n",
       "\n",
       "\n",
       "\n"
      ],
      "text/plain": [
       "$kids\n",
       "[1] \"Jack\" \"Jill\"\n",
       "\n",
       "$states\n",
       "[1] \"CA\" \"MA\"\n",
       "\n",
       "$ages\n",
       "[1] 10 12\n"
      ]
     },
     "metadata": {},
     "output_type": "display_data"
    }
   ],
   "source": [
    "d1 <- lapply(d, sort)\n",
    "d1"
   ]
  },
  {
   "cell_type": "code",
   "execution_count": 49,
   "metadata": {
    "ExecuteTime": {
     "end_time": "2018-05-29T15:03:21.435544Z",
     "start_time": "2018-05-29T15:03:21.405Z"
    }
   },
   "outputs": [
    {
     "data": {
      "text/html": [
       "<table>\n",
       "<thead><tr><th scope=col>kids</th><th scope=col>states</th><th scope=col>ages</th></tr></thead>\n",
       "<tbody>\n",
       "\t<tr><td>Jack</td><td>CA  </td><td>10  </td></tr>\n",
       "\t<tr><td>Jill</td><td>MA  </td><td>12  </td></tr>\n",
       "</tbody>\n",
       "</table>\n"
      ],
      "text/latex": [
       "\\begin{tabular}{r|lll}\n",
       " kids & states & ages\\\\\n",
       "\\hline\n",
       "\t Jack & CA   & 10  \\\\\n",
       "\t Jill & MA   & 12  \\\\\n",
       "\\end{tabular}\n"
      ],
      "text/markdown": [
       "\n",
       "kids | states | ages | \n",
       "|---|---|\n",
       "| Jack | CA   | 10   | \n",
       "| Jill | MA   | 12   | \n",
       "\n",
       "\n"
      ],
      "text/plain": [
       "  kids states ages\n",
       "1 Jack CA     10  \n",
       "2 Jill MA     12  "
      ]
     },
     "metadata": {},
     "output_type": "display_data"
    }
   ],
   "source": [
    "# 上面返回list，这里可以转化为data frame[有坑，往下看...]\n",
    "as.data.frame(d1)"
   ]
  },
  {
   "cell_type": "markdown",
   "metadata": {},
   "source": [
    "注意这里的强制的格式转化是没有意义的，因为我们之前应用`sort`函数的时候，\n",
    "是分别对两列数据进行排序的，也就是说他们之间的对应关系在排序后已经没有了，\n",
    "所以这种格式的转化是没有意义的，在实际操作时要注意。"
   ]
  },
  {
   "cell_type": "markdown",
   "metadata": {},
   "source": [
    "#### 5.4.2 拓展： Logistic回归模型（Extended Example: Applying Logistic Regression Models）"
   ]
  },
  {
   "cell_type": "code",
   "execution_count": 51,
   "metadata": {
    "ExecuteTime": {
     "end_time": "2018-05-29T15:09:11.000603Z",
     "start_time": "2018-05-29T15:09:09.506Z"
    }
   },
   "outputs": [],
   "source": [
    "aburl = 'http://archive.ics.uci.edu/ml/machine-learning-databases/abalone/abalone.data'\n",
    "abnames = c('sex','length','diameter','height','weight.w','weight.s','weight.v','weight.sh','rings')\n",
    "aba = read.table(aburl, header = F , sep = ',', col.names = abnames)"
   ]
  },
  {
   "cell_type": "code",
   "execution_count": 52,
   "metadata": {
    "ExecuteTime": {
     "end_time": "2018-05-29T15:09:19.934906Z",
     "start_time": "2018-05-29T15:09:19.902Z"
    }
   },
   "outputs": [
    {
     "data": {
      "text/html": [
       "<table>\n",
       "<thead><tr><th scope=col>sex</th><th scope=col>length</th><th scope=col>diameter</th><th scope=col>height</th><th scope=col>weight.w</th><th scope=col>weight.s</th><th scope=col>weight.v</th><th scope=col>weight.sh</th><th scope=col>rings</th></tr></thead>\n",
       "<tbody>\n",
       "\t<tr><td>M     </td><td>0.455 </td><td>0.365 </td><td>0.095 </td><td>0.5140</td><td>0.2245</td><td>0.1010</td><td>0.150 </td><td>15    </td></tr>\n",
       "\t<tr><td>M     </td><td>0.350 </td><td>0.265 </td><td>0.090 </td><td>0.2255</td><td>0.0995</td><td>0.0485</td><td>0.070 </td><td> 7    </td></tr>\n",
       "\t<tr><td>F     </td><td>0.530 </td><td>0.420 </td><td>0.135 </td><td>0.6770</td><td>0.2565</td><td>0.1415</td><td>0.210 </td><td> 9    </td></tr>\n",
       "\t<tr><td>M     </td><td>0.440 </td><td>0.365 </td><td>0.125 </td><td>0.5160</td><td>0.2155</td><td>0.1140</td><td>0.155 </td><td>10    </td></tr>\n",
       "\t<tr><td>I     </td><td>0.330 </td><td>0.255 </td><td>0.080 </td><td>0.2050</td><td>0.0895</td><td>0.0395</td><td>0.055 </td><td> 7    </td></tr>\n",
       "\t<tr><td>I     </td><td>0.425 </td><td>0.300 </td><td>0.095 </td><td>0.3515</td><td>0.1410</td><td>0.0775</td><td>0.120 </td><td> 8    </td></tr>\n",
       "</tbody>\n",
       "</table>\n"
      ],
      "text/latex": [
       "\\begin{tabular}{r|lllllllll}\n",
       " sex & length & diameter & height & weight.w & weight.s & weight.v & weight.sh & rings\\\\\n",
       "\\hline\n",
       "\t M      & 0.455  & 0.365  & 0.095  & 0.5140 & 0.2245 & 0.1010 & 0.150  & 15    \\\\\n",
       "\t M      & 0.350  & 0.265  & 0.090  & 0.2255 & 0.0995 & 0.0485 & 0.070  &  7    \\\\\n",
       "\t F      & 0.530  & 0.420  & 0.135  & 0.6770 & 0.2565 & 0.1415 & 0.210  &  9    \\\\\n",
       "\t M      & 0.440  & 0.365  & 0.125  & 0.5160 & 0.2155 & 0.1140 & 0.155  & 10    \\\\\n",
       "\t I      & 0.330  & 0.255  & 0.080  & 0.2050 & 0.0895 & 0.0395 & 0.055  &  7    \\\\\n",
       "\t I      & 0.425  & 0.300  & 0.095  & 0.3515 & 0.1410 & 0.0775 & 0.120  &  8    \\\\\n",
       "\\end{tabular}\n"
      ],
      "text/markdown": [
       "\n",
       "sex | length | diameter | height | weight.w | weight.s | weight.v | weight.sh | rings | \n",
       "|---|---|---|---|---|---|\n",
       "| M      | 0.455  | 0.365  | 0.095  | 0.5140 | 0.2245 | 0.1010 | 0.150  | 15     | \n",
       "| M      | 0.350  | 0.265  | 0.090  | 0.2255 | 0.0995 | 0.0485 | 0.070  |  7     | \n",
       "| F      | 0.530  | 0.420  | 0.135  | 0.6770 | 0.2565 | 0.1415 | 0.210  |  9     | \n",
       "| M      | 0.440  | 0.365  | 0.125  | 0.5160 | 0.2155 | 0.1140 | 0.155  | 10     | \n",
       "| I      | 0.330  | 0.255  | 0.080  | 0.2050 | 0.0895 | 0.0395 | 0.055  |  7     | \n",
       "| I      | 0.425  | 0.300  | 0.095  | 0.3515 | 0.1410 | 0.0775 | 0.120  |  8     | \n",
       "\n",
       "\n"
      ],
      "text/plain": [
       "  sex length diameter height weight.w weight.s weight.v weight.sh rings\n",
       "1 M   0.455  0.365    0.095  0.5140   0.2245   0.1010   0.150     15   \n",
       "2 M   0.350  0.265    0.090  0.2255   0.0995   0.0485   0.070      7   \n",
       "3 F   0.530  0.420    0.135  0.6770   0.2565   0.1415   0.210      9   \n",
       "4 M   0.440  0.365    0.125  0.5160   0.2155   0.1140   0.155     10   \n",
       "5 I   0.330  0.255    0.080  0.2050   0.0895   0.0395   0.055      7   \n",
       "6 I   0.425  0.300    0.095  0.3515   0.1410   0.0775   0.120      8   "
      ]
     },
     "metadata": {},
     "output_type": "display_data"
    }
   ],
   "source": [
    "head(aba)"
   ]
  },
  {
   "cell_type": "code",
   "execution_count": 53,
   "metadata": {
    "ExecuteTime": {
     "end_time": "2018-05-29T15:10:04.834518Z",
     "start_time": "2018-05-29T15:10:04.807Z"
    }
   },
   "outputs": [],
   "source": [
    "# 排除婴儿\n",
    "abamf <- aba[aba$sex != \"I\", ]"
   ]
  },
  {
   "cell_type": "code",
   "execution_count": 55,
   "metadata": {
    "ExecuteTime": {
     "end_time": "2018-05-29T15:13:04.673412Z",
     "start_time": "2018-05-29T15:13:04.486Z"
    }
   },
   "outputs": [],
   "source": [
    "library(MASS)\n",
    "lftn <- function(clmn){\n",
    "    glm(abamf$sex~clmn, family=binomial)$coef\n",
    "}\n",
    "# 性别作为被解释变量，用其余8个变量分别解释变量进行拟合\n",
    "loall <- sapply(abamf[, -1], lftn)"
   ]
  },
  {
   "cell_type": "code",
   "execution_count": 56,
   "metadata": {
    "ExecuteTime": {
     "end_time": "2018-05-29T15:13:14.254647Z",
     "start_time": "2018-05-29T15:13:14.225Z"
    }
   },
   "outputs": [
    {
     "data": {
      "text/html": [
       "<table>\n",
       "<thead><tr><th></th><th scope=col>length</th><th scope=col>diameter</th><th scope=col>height</th><th scope=col>weight.w</th><th scope=col>weight.s</th><th scope=col>weight.v</th><th scope=col>weight.sh</th><th scope=col>rings</th></tr></thead>\n",
       "<tbody>\n",
       "\t<tr><th scope=row>(Intercept)</th><td> 1.275832  </td><td> 1.289130  </td><td> 1.027872  </td><td> 0.4300827 </td><td> 0.2855054 </td><td> 0.4829153 </td><td> 0.5103942 </td><td> 0.64823569</td></tr>\n",
       "\t<tr><th scope=row>clmn</th><td>-1.962613  </td><td>-2.533227  </td><td>-5.643495  </td><td>-0.2688070 </td><td>-0.2941351 </td><td>-1.4647507 </td><td>-1.2135496 </td><td>-0.04509376</td></tr>\n",
       "</tbody>\n",
       "</table>\n"
      ],
      "text/latex": [
       "\\begin{tabular}{r|llllllll}\n",
       "  & length & diameter & height & weight.w & weight.s & weight.v & weight.sh & rings\\\\\n",
       "\\hline\n",
       "\t(Intercept) &  1.275832   &  1.289130   &  1.027872   &  0.4300827  &  0.2855054  &  0.4829153  &  0.5103942  &  0.64823569\\\\\n",
       "\tclmn & -1.962613   & -2.533227   & -5.643495   & -0.2688070  & -0.2941351  & -1.4647507  & -1.2135496  & -0.04509376\\\\\n",
       "\\end{tabular}\n"
      ],
      "text/markdown": [
       "\n",
       "| <!--/--> | length | diameter | height | weight.w | weight.s | weight.v | weight.sh | rings | \n",
       "|---|---|\n",
       "| (Intercept) |  1.275832   |  1.289130   |  1.027872   |  0.4300827  |  0.2855054  |  0.4829153  |  0.5103942  |  0.64823569 | \n",
       "| clmn | -1.962613   | -2.533227   | -5.643495   | -0.2688070  | -0.2941351  | -1.4647507  | -1.2135496  | -0.04509376 | \n",
       "\n",
       "\n"
      ],
      "text/plain": [
       "            length    diameter  height    weight.w   weight.s   weight.v  \n",
       "(Intercept)  1.275832  1.289130  1.027872  0.4300827  0.2855054  0.4829153\n",
       "clmn        -1.962613 -2.533227 -5.643495 -0.2688070 -0.2941351 -1.4647507\n",
       "            weight.sh  rings      \n",
       "(Intercept)  0.5103942  0.64823569\n",
       "clmn        -1.2135496 -0.04509376"
      ]
     },
     "metadata": {},
     "output_type": "display_data"
    }
   ],
   "source": [
    "loall"
   ]
  },
  {
   "cell_type": "code",
   "execution_count": 58,
   "metadata": {
    "ExecuteTime": {
     "end_time": "2018-05-29T15:18:35.861533Z",
     "start_time": "2018-05-29T15:18:35.817Z"
    }
   },
   "outputs": [
    {
     "data": {
      "text/html": [
       "<ol class=list-inline>\n",
       "\t<li>'glm'</li>\n",
       "\t<li>'lm'</li>\n",
       "</ol>\n"
      ],
      "text/latex": [
       "\\begin{enumerate*}\n",
       "\\item 'glm'\n",
       "\\item 'lm'\n",
       "\\end{enumerate*}\n"
      ],
      "text/markdown": [
       "1. 'glm'\n",
       "2. 'lm'\n",
       "\n",
       "\n"
      ],
      "text/plain": [
       "[1] \"glm\" \"lm\" "
      ]
     },
     "metadata": {},
     "output_type": "display_data"
    }
   ],
   "source": [
    "# 这里书上有误(loall不是glm返回的结果)\n",
    "# 我们做如下适当修改\n",
    "len.lm <- glm(abamf$sex~abamf$length, family=binomial)\n",
    "class(len.lm)"
   ]
  },
  {
   "cell_type": "markdown",
   "metadata": {},
   "source": [
    "这里作者想要告诉我们的就是R中类继承的问题，在此处就是`glm`是`lm`的子类(`subclass`)"
   ]
  },
  {
   "cell_type": "markdown",
   "metadata": {
    "ExecuteTime": {
     "end_time": "2018-05-29T15:27:22.022369Z",
     "start_time": "2018-05-29T15:27:16.055Z"
    }
   },
   "source": [
    "#### 5.4.3 拓展：中文方言(Extended Example: Aids for Learning Chinese Dialects)\n",
    "没找到数据+1..."
   ]
  }
 ],
 "metadata": {
  "kernelspec": {
   "display_name": "R 3.4",
   "language": "R",
   "name": "ir34"
  },
  "language_info": {
   "codemirror_mode": "r",
   "file_extension": ".r",
   "mimetype": "text/x-r-source",
   "name": "R",
   "pygments_lexer": "r",
   "version": "3.4.4"
  },
  "toc": {
   "nav_menu": {},
   "number_sections": false,
   "sideBar": true,
   "skip_h1_title": false,
   "title_cell": "Table of Contents",
   "title_sidebar": "Contents",
   "toc_cell": true,
   "toc_position": {
    "height": "calc(100% - 180px)",
    "left": "10px",
    "top": "150px",
    "width": "261px"
   },
   "toc_section_display": true,
   "toc_window_display": true
  }
 },
 "nbformat": 4,
 "nbformat_minor": 2
}
