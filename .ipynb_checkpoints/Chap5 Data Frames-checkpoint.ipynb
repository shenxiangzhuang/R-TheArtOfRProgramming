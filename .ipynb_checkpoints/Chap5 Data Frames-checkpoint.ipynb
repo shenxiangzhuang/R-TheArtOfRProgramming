{
 "cells": [
  {
   "cell_type": "markdown",
   "metadata": {
    "toc": true
   },
   "source": [
    "<h1>Table of Contents<span class=\"tocSkip\"></span></h1>\n",
    "<div class=\"toc\"><ul class=\"toc-item\"><li><span><a href=\"#Chap5\" data-toc-modified-id=\"Chap5-1\">Chap5</a></span><ul class=\"toc-item\"><li><span><a href=\"#5.1-创建(Creating-Data-Frames)\" data-toc-modified-id=\"5.1-创建(Creating-Data-Frames)-1.1\">5.1 创建(Creating Data Frames)</a></span><ul class=\"toc-item\"><li><span><a href=\"#5.1.1-获取数据(Accessing-Data-Frames)\" data-toc-modified-id=\"5.1.1-获取数据(Accessing-Data-Frames)-1.1.1\">5.1.1 获取数据(Accessing Data Frames)</a></span></li><li><span><a href=\"#5.1.2-拓展：考试成绩回归分析(Extended-Example:-Regression-Analysis-of-Exam-Grades-Continued)\" data-toc-modified-id=\"5.1.2-拓展：考试成绩回归分析(Extended-Example:-Regression-Analysis-of-Exam-Grades-Continued)-1.1.2\">5.1.2 拓展：考试成绩回归分析(Extended Example: Regression Analysis of Exam Grades Continued)</a></span></li></ul></li><li><span><a href=\"#5.2-其他Matrix-Like操作(Other-Matrix-Like-Operations)\" data-toc-modified-id=\"5.2-其他Matrix-Like操作(Other-Matrix-Like-Operations)-1.2\">5.2 其他<code>Matrix-Like</code>操作(Other Matrix-Like Operations)</a></span><ul class=\"toc-item\"><li><span><a href=\"#5.21.-提取部分数据(Extracting-Subdata-Frames)\" data-toc-modified-id=\"5.21.-提取部分数据(Extracting-Subdata-Frames)-1.2.1\">5.21. 提取部分数据(Extracting Subdata Frames)</a></span></li><li><span><a href=\"#5.2.2-NA值(More-on-Treatment-of-NA-Values)\" data-toc-modified-id=\"5.2.2-NA值(More-on-Treatment-of-NA-Values)-1.2.2\">5.2.2 NA值(More on Treatment of NA Values)</a></span></li><li><span><a href=\"#5.2.3-rbind&amp;cbind函数(Using-the-rbind()-and-cbind()-Functions-and-Alternatives)\" data-toc-modified-id=\"5.2.3-rbind&amp;cbind函数(Using-the-rbind()-and-cbind()-Functions-and-Alternatives)-1.2.3\">5.2.3 <code>rbind</code>&amp;<code>cbind</code>函数(Using the rbind() and cbind() Functions and Alternatives)</a></span></li><li><span><a href=\"#5.2.4-apply()函数(Applying-apply())\" data-toc-modified-id=\"5.2.4-apply()函数(Applying-apply())-1.2.4\">5.2.4 <code>apply()</code>函数(Applying apply())</a></span></li><li><span><a href=\"#5.2.5-拓展：工资研究(Extended-Example:-A-Salary-Study)\" data-toc-modified-id=\"5.2.5-拓展：工资研究(Extended-Example:-A-Salary-Study)-1.2.5\">5.2.5 拓展：工资研究(Extended Example: A Salary Study)</a></span></li></ul></li><li><span><a href=\"#5.3-合并(Merging-Data-Frames)\" data-toc-modified-id=\"5.3-合并(Merging-Data-Frames)-1.3\">5.3 合并(Merging Data Frames)</a></span><ul class=\"toc-item\"><li><span><a href=\"#5.3.1-拓展：员工数据库(Extended-Example:-An-Employee-Database)\" data-toc-modified-id=\"5.3.1-拓展：员工数据库(Extended-Example:-An-Employee-Database)-1.3.1\">5.3.1 拓展：员工数据库(Extended Example: An Employee Database)</a></span></li></ul></li></ul></li></ul></div>"
   ]
  },
  {
   "cell_type": "markdown",
   "metadata": {},
   "source": [
    "## Chap5\n",
    "\n",
    "直观上看，`data frames`就像`matrix`一样，有行和列的\n",
    "二维数据结构。不过，有一点是他们之间显著的不同，那就是在\n",
    "`data frames`中，每一列可以是不同的`mode`, 而`matrix`\n",
    "的所有数据都必须是同一`mode`的。\n",
    "\n",
    "从技术层面讲，一个`data frame`就是一个`list`,只不过是\n",
    "特殊的列表，即列表每个成分都必须是等长的向量。"
   ]
  },
  {
   "cell_type": "markdown",
   "metadata": {},
   "source": [
    "### 5.1 创建(Creating Data Frames)"
   ]
  },
  {
   "cell_type": "code",
   "execution_count": 1,
   "metadata": {
    "ExecuteTime": {
     "end_time": "2018-05-29T09:00:14.307819Z",
     "start_time": "2018-05-29T09:00:13.942Z"
    }
   },
   "outputs": [
    {
     "data": {
      "text/html": [
       "<table>\n",
       "<thead><tr><th scope=col>kids</th><th scope=col>ages</th></tr></thead>\n",
       "<tbody>\n",
       "\t<tr><td>Jack</td><td>12  </td></tr>\n",
       "\t<tr><td>Jill</td><td>10  </td></tr>\n",
       "</tbody>\n",
       "</table>\n"
      ],
      "text/latex": [
       "\\begin{tabular}{r|ll}\n",
       " kids & ages\\\\\n",
       "\\hline\n",
       "\t Jack & 12  \\\\\n",
       "\t Jill & 10  \\\\\n",
       "\\end{tabular}\n"
      ],
      "text/markdown": [
       "\n",
       "kids | ages | \n",
       "|---|---|\n",
       "| Jack | 12   | \n",
       "| Jill | 10   | \n",
       "\n",
       "\n"
      ],
      "text/plain": [
       "  kids ages\n",
       "1 Jack 12  \n",
       "2 Jill 10  "
      ]
     },
     "metadata": {},
     "output_type": "display_data"
    }
   ],
   "source": [
    "kids <- c(\"Jack\", \"Jill\")\n",
    "ages <- c(12, 10)\n",
    "d <- data.frame(kids, ages, stringsAsFactors = FALSE)\n",
    "d"
   ]
  },
  {
   "cell_type": "markdown",
   "metadata": {},
   "source": [
    "`data.frame`就是将`kids`, `ages`两个变量转化为`data frame`格式\n",
    "最后的`stringsAsFactors`默认是`TRUE`（默认的设置可以通过`options()`\n",
    "去改）,也就是会把字符串的数据转化为`Factor`（下一章会介绍），这里我们用不到\n",
    "`Factor`，故先设置为`FALSE`."
   ]
  },
  {
   "cell_type": "markdown",
   "metadata": {},
   "source": [
    "#### 5.1.1 获取数据(Accessing Data Frames)"
   ]
  },
  {
   "cell_type": "code",
   "execution_count": 2,
   "metadata": {
    "ExecuteTime": {
     "end_time": "2018-05-29T09:00:14.392735Z",
     "start_time": "2018-05-29T09:00:13.952Z"
    }
   },
   "outputs": [
    {
     "data": {
      "text/html": [
       "<ol class=list-inline>\n",
       "\t<li>'Jack'</li>\n",
       "\t<li>'Jill'</li>\n",
       "</ol>\n"
      ],
      "text/latex": [
       "\\begin{enumerate*}\n",
       "\\item 'Jack'\n",
       "\\item 'Jill'\n",
       "\\end{enumerate*}\n"
      ],
      "text/markdown": [
       "1. 'Jack'\n",
       "2. 'Jill'\n",
       "\n",
       "\n"
      ],
      "text/plain": [
       "[1] \"Jack\" \"Jill\""
      ]
     },
     "metadata": {},
     "output_type": "display_data"
    }
   ],
   "source": [
    "# 通过索引获取\n",
    "d[[1]]"
   ]
  },
  {
   "cell_type": "code",
   "execution_count": 3,
   "metadata": {
    "ExecuteTime": {
     "end_time": "2018-05-29T09:00:14.417160Z",
     "start_time": "2018-05-29T09:00:13.956Z"
    }
   },
   "outputs": [
    {
     "data": {
      "text/html": [
       "<ol class=list-inline>\n",
       "\t<li>'Jack'</li>\n",
       "\t<li>'Jill'</li>\n",
       "</ol>\n"
      ],
      "text/latex": [
       "\\begin{enumerate*}\n",
       "\\item 'Jack'\n",
       "\\item 'Jill'\n",
       "\\end{enumerate*}\n"
      ],
      "text/markdown": [
       "1. 'Jack'\n",
       "2. 'Jill'\n",
       "\n",
       "\n"
      ],
      "text/plain": [
       "[1] \"Jack\" \"Jill\""
      ]
     },
     "metadata": {},
     "output_type": "display_data"
    }
   ],
   "source": [
    "# 通过名字获取\n",
    "d$kids"
   ]
  },
  {
   "cell_type": "code",
   "execution_count": 4,
   "metadata": {
    "ExecuteTime": {
     "end_time": "2018-05-29T09:00:14.442465Z",
     "start_time": "2018-05-29T09:00:13.962Z"
    }
   },
   "outputs": [
    {
     "data": {
      "text/html": [
       "<ol class=list-inline>\n",
       "\t<li>'Jack'</li>\n",
       "\t<li>'Jill'</li>\n",
       "</ol>\n"
      ],
      "text/latex": [
       "\\begin{enumerate*}\n",
       "\\item 'Jack'\n",
       "\\item 'Jill'\n",
       "\\end{enumerate*}\n"
      ],
      "text/markdown": [
       "1. 'Jack'\n",
       "2. 'Jill'\n",
       "\n",
       "\n"
      ],
      "text/plain": [
       "[1] \"Jack\" \"Jill\""
      ]
     },
     "metadata": {},
     "output_type": "display_data"
    }
   ],
   "source": [
    "# 也可以用类似matrix的方法\n",
    "# 获取第一列\n",
    "d[, 1]"
   ]
  },
  {
   "cell_type": "code",
   "execution_count": 5,
   "metadata": {
    "ExecuteTime": {
     "end_time": "2018-05-29T09:00:14.470273Z",
     "start_time": "2018-05-29T09:00:13.967Z"
    }
   },
   "outputs": [
    {
     "name": "stdout",
     "output_type": "stream",
     "text": [
      "'data.frame':\t2 obs. of  2 variables:\n",
      " $ kids: chr  \"Jack\" \"Jill\"\n",
      " $ ages: num  12 10\n"
     ]
    }
   ],
   "source": [
    "# 结构化输出\n",
    "str(d)"
   ]
  },
  {
   "cell_type": "markdown",
   "metadata": {},
   "source": [
    "以上告诉我们，`d`包含2个观测数据（2行），2个变量（2列）"
   ]
  },
  {
   "cell_type": "markdown",
   "metadata": {},
   "source": [
    "一般来讲使用d$kids就可以，更加直观，也不易出错。另外有些时候我们要写\n",
    "`general code`时，比如写R包的时候，考虑到我们一般不能通过名字获取某列，\n",
    "所以就要使用按照位置索引的办法了。"
   ]
  },
  {
   "cell_type": "markdown",
   "metadata": {},
   "source": [
    "#### 5.1.2 拓展：考试成绩回归分析(Extended Example: Regression Analysis of Exam Grades Continued)"
   ]
  },
  {
   "cell_type": "code",
   "execution_count": 6,
   "metadata": {
    "ExecuteTime": {
     "end_time": "2018-05-29T09:00:14.510908Z",
     "start_time": "2018-05-29T09:00:13.972Z"
    }
   },
   "outputs": [
    {
     "data": {
      "text/html": [
       "<table>\n",
       "<thead><tr><th scope=col>Exam.1</th><th scope=col>Exam.2</th><th scope=col>Quiz</th></tr></thead>\n",
       "<tbody>\n",
       "\t<tr><td>2.0</td><td>3.3</td><td>4.0</td></tr>\n",
       "\t<tr><td>3.3</td><td>2.0</td><td>3.7</td></tr>\n",
       "\t<tr><td>4.0</td><td>4.0</td><td>4.0</td></tr>\n",
       "\t<tr><td>2.3</td><td>0.0</td><td>3.3</td></tr>\n",
       "\t<tr><td>2.3</td><td>1.0</td><td>3.3</td></tr>\n",
       "\t<tr><td>3.3</td><td>3.7</td><td>4.0</td></tr>\n",
       "</tbody>\n",
       "</table>\n"
      ],
      "text/latex": [
       "\\begin{tabular}{r|lll}\n",
       " Exam.1 & Exam.2 & Quiz\\\\\n",
       "\\hline\n",
       "\t 2.0 & 3.3 & 4.0\\\\\n",
       "\t 3.3 & 2.0 & 3.7\\\\\n",
       "\t 4.0 & 4.0 & 4.0\\\\\n",
       "\t 2.3 & 0.0 & 3.3\\\\\n",
       "\t 2.3 & 1.0 & 3.3\\\\\n",
       "\t 3.3 & 3.7 & 4.0\\\\\n",
       "\\end{tabular}\n"
      ],
      "text/markdown": [
       "\n",
       "Exam.1 | Exam.2 | Quiz | \n",
       "|---|---|---|---|---|---|\n",
       "| 2.0 | 3.3 | 4.0 | \n",
       "| 3.3 | 2.0 | 3.7 | \n",
       "| 4.0 | 4.0 | 4.0 | \n",
       "| 2.3 | 0.0 | 3.3 | \n",
       "| 2.3 | 1.0 | 3.3 | \n",
       "| 3.3 | 3.7 | 4.0 | \n",
       "\n",
       "\n"
      ],
      "text/plain": [
       "  Exam.1 Exam.2 Quiz\n",
       "1 2.0    3.3    4.0 \n",
       "2 3.3    2.0    3.7 \n",
       "3 4.0    4.0    4.0 \n",
       "4 2.3    0.0    3.3 \n",
       "5 2.3    1.0    3.3 \n",
       "6 3.3    3.7    4.0 "
      ]
     },
     "metadata": {},
     "output_type": "display_data"
    }
   ],
   "source": [
    "examsquiz <- read.table(\"./data//ExamsQuiz.txt\", header = T)\n",
    "head(examsquiz)"
   ]
  },
  {
   "cell_type": "code",
   "execution_count": 7,
   "metadata": {
    "ExecuteTime": {
     "end_time": "2018-05-29T09:00:14.533465Z",
     "start_time": "2018-05-29T09:00:13.980Z"
    }
   },
   "outputs": [
    {
     "data": {
      "text/html": [
       "TRUE"
      ],
      "text/latex": [
       "TRUE"
      ],
      "text/markdown": [
       "TRUE"
      ],
      "text/plain": [
       "[1] TRUE"
      ]
     },
     "metadata": {},
     "output_type": "display_data"
    }
   ],
   "source": [
    "is.data.frame(examsquiz)"
   ]
  },
  {
   "cell_type": "markdown",
   "metadata": {},
   "source": [
    "### 5.2 其他`Matrix-Like`操作(Other Matrix-Like Operations)\n",
    "\n",
    "很多针对`matrix`的操作在`data frame`同样适应。"
   ]
  },
  {
   "cell_type": "markdown",
   "metadata": {},
   "source": [
    "#### 5.21. 提取部分数据(Extracting Subdata Frames)"
   ]
  },
  {
   "cell_type": "code",
   "execution_count": 8,
   "metadata": {
    "ExecuteTime": {
     "end_time": "2018-05-29T09:00:14.557991Z",
     "start_time": "2018-05-29T09:00:13.986Z"
    }
   },
   "outputs": [
    {
     "data": {
      "text/html": [
       "<table>\n",
       "<thead><tr><th></th><th scope=col>Exam.1</th><th scope=col>Exam.2</th><th scope=col>Quiz</th></tr></thead>\n",
       "<tbody>\n",
       "\t<tr><th scope=row>2</th><td>3.3</td><td>2  </td><td>3.7</td></tr>\n",
       "\t<tr><th scope=row>3</th><td>4.0</td><td>4  </td><td>4.0</td></tr>\n",
       "\t<tr><th scope=row>4</th><td>2.3</td><td>0  </td><td>3.3</td></tr>\n",
       "\t<tr><th scope=row>5</th><td>2.3</td><td>1  </td><td>3.3</td></tr>\n",
       "</tbody>\n",
       "</table>\n"
      ],
      "text/latex": [
       "\\begin{tabular}{r|lll}\n",
       "  & Exam.1 & Exam.2 & Quiz\\\\\n",
       "\\hline\n",
       "\t2 & 3.3 & 2   & 3.7\\\\\n",
       "\t3 & 4.0 & 4   & 4.0\\\\\n",
       "\t4 & 2.3 & 0   & 3.3\\\\\n",
       "\t5 & 2.3 & 1   & 3.3\\\\\n",
       "\\end{tabular}\n"
      ],
      "text/markdown": [
       "\n",
       "| <!--/--> | Exam.1 | Exam.2 | Quiz | \n",
       "|---|---|---|---|\n",
       "| 2 | 3.3 | 2   | 3.7 | \n",
       "| 3 | 4.0 | 4   | 4.0 | \n",
       "| 4 | 2.3 | 0   | 3.3 | \n",
       "| 5 | 2.3 | 1   | 3.3 | \n",
       "\n",
       "\n"
      ],
      "text/plain": [
       "  Exam.1 Exam.2 Quiz\n",
       "2 3.3    2      3.7 \n",
       "3 4.0    4      4.0 \n",
       "4 2.3    0      3.3 \n",
       "5 2.3    1      3.3 "
      ]
     },
     "metadata": {},
     "output_type": "display_data"
    }
   ],
   "source": [
    "# 通过行列索引提取部分数据\n",
    "examsquiz[2:5, ]"
   ]
  },
  {
   "cell_type": "code",
   "execution_count": 9,
   "metadata": {
    "ExecuteTime": {
     "end_time": "2018-05-29T09:00:14.581950Z",
     "start_time": "2018-05-29T09:00:13.991Z"
    }
   },
   "outputs": [
    {
     "data": {
      "text/html": [
       "<ol class=list-inline>\n",
       "\t<li>2</li>\n",
       "\t<li>4</li>\n",
       "\t<li>0</li>\n",
       "\t<li>1</li>\n",
       "</ol>\n"
      ],
      "text/latex": [
       "\\begin{enumerate*}\n",
       "\\item 2\n",
       "\\item 4\n",
       "\\item 0\n",
       "\\item 1\n",
       "\\end{enumerate*}\n"
      ],
      "text/markdown": [
       "1. 2\n",
       "2. 4\n",
       "3. 0\n",
       "4. 1\n",
       "\n",
       "\n"
      ],
      "text/plain": [
       "[1] 2 4 0 1"
      ]
     },
     "metadata": {},
     "output_type": "display_data"
    }
   ],
   "source": [
    "examsquiz[2:5, 2]"
   ]
  },
  {
   "cell_type": "code",
   "execution_count": 10,
   "metadata": {
    "ExecuteTime": {
     "end_time": "2018-05-29T09:00:14.602384Z",
     "start_time": "2018-05-29T09:00:13.996Z"
    }
   },
   "outputs": [
    {
     "data": {
      "text/html": [
       "'numeric'"
      ],
      "text/latex": [
       "'numeric'"
      ],
      "text/markdown": [
       "'numeric'"
      ],
      "text/plain": [
       "[1] \"numeric\""
      ]
     },
     "metadata": {},
     "output_type": "display_data"
    }
   ],
   "source": [
    "class(examsquiz[2:5, 2])"
   ]
  },
  {
   "cell_type": "code",
   "execution_count": 11,
   "metadata": {
    "ExecuteTime": {
     "end_time": "2018-05-29T09:00:14.628346Z",
     "start_time": "2018-05-29T09:00:14.000Z"
    }
   },
   "outputs": [
    {
     "data": {
      "text/html": [
       "<table>\n",
       "<thead><tr><th></th><th scope=col>Exam.2</th></tr></thead>\n",
       "<tbody>\n",
       "\t<tr><th scope=row>2</th><td>2</td></tr>\n",
       "\t<tr><th scope=row>3</th><td>4</td></tr>\n",
       "\t<tr><th scope=row>4</th><td>0</td></tr>\n",
       "\t<tr><th scope=row>5</th><td>1</td></tr>\n",
       "</tbody>\n",
       "</table>\n"
      ],
      "text/latex": [
       "\\begin{tabular}{r|l}\n",
       "  & Exam.2\\\\\n",
       "\\hline\n",
       "\t2 & 2\\\\\n",
       "\t3 & 4\\\\\n",
       "\t4 & 0\\\\\n",
       "\t5 & 1\\\\\n",
       "\\end{tabular}\n"
      ],
      "text/markdown": [
       "\n",
       "| <!--/--> | Exam.2 | \n",
       "|---|---|---|---|\n",
       "| 2 | 2 | \n",
       "| 3 | 4 | \n",
       "| 4 | 0 | \n",
       "| 5 | 1 | \n",
       "\n",
       "\n"
      ],
      "text/plain": [
       "  Exam.2\n",
       "2 2     \n",
       "3 4     \n",
       "4 0     \n",
       "5 1     "
      ]
     },
     "metadata": {},
     "output_type": "display_data"
    }
   ],
   "source": [
    "examsquiz[2:5, 2, drop=FALSE]"
   ]
  },
  {
   "cell_type": "code",
   "execution_count": 12,
   "metadata": {
    "ExecuteTime": {
     "end_time": "2018-05-29T09:00:14.655146Z",
     "start_time": "2018-05-29T09:00:14.009Z"
    }
   },
   "outputs": [
    {
     "data": {
      "text/html": [
       "'data.frame'"
      ],
      "text/latex": [
       "'data.frame'"
      ],
      "text/markdown": [
       "'data.frame'"
      ],
      "text/plain": [
       "[1] \"data.frame\""
      ]
     },
     "metadata": {},
     "output_type": "display_data"
    }
   ],
   "source": [
    "class(examsquiz[2:5, 2, drop=FALSE])"
   ]
  },
  {
   "cell_type": "markdown",
   "metadata": {},
   "source": [
    "注意，`examsquiz[2:5, 2]`是一个`vector`，在添加`drop=FALSE`后，\n",
    "也就是`examsquiz[2:5, 2, drop=FALSE]`时，保证了返回后是一个\n",
    "`data.frame`"
   ]
  },
  {
   "cell_type": "code",
   "execution_count": 13,
   "metadata": {
    "ExecuteTime": {
     "end_time": "2018-05-29T09:00:14.680147Z",
     "start_time": "2018-05-29T09:00:14.017Z"
    }
   },
   "outputs": [
    {
     "data": {
      "text/html": [
       "<table>\n",
       "<thead><tr><th></th><th scope=col>Exam.1</th><th scope=col>Exam.2</th><th scope=col>Quiz</th></tr></thead>\n",
       "<tbody>\n",
       "\t<tr><th scope=row>3</th><td>4</td><td>4</td><td>4</td></tr>\n",
       "</tbody>\n",
       "</table>\n"
      ],
      "text/latex": [
       "\\begin{tabular}{r|lll}\n",
       "  & Exam.1 & Exam.2 & Quiz\\\\\n",
       "\\hline\n",
       "\t3 & 4 & 4 & 4\\\\\n",
       "\\end{tabular}\n"
      ],
      "text/markdown": [
       "\n",
       "| <!--/--> | Exam.1 | Exam.2 | Quiz | \n",
       "|---|\n",
       "| 3 | 4 | 4 | 4 | \n",
       "\n",
       "\n"
      ],
      "text/plain": [
       "  Exam.1 Exam.2 Quiz\n",
       "3 4      4      4   "
      ]
     },
     "metadata": {},
     "output_type": "display_data"
    }
   ],
   "source": [
    "# 抽取符合条件的数据集\n",
    "# [注意，书上的数据集找不到，这里也是用的部分数据]\n",
    "examsquiz[examsquiz$Exam.1 >= 3.8, ]"
   ]
  },
  {
   "cell_type": "markdown",
   "metadata": {},
   "source": [
    "#### 5.2.2 NA值(More on Treatment of NA Values)"
   ]
  },
  {
   "cell_type": "code",
   "execution_count": 14,
   "metadata": {
    "ExecuteTime": {
     "end_time": "2018-05-29T09:00:14.702050Z",
     "start_time": "2018-05-29T09:00:14.023Z"
    }
   },
   "outputs": [
    {
     "data": {
      "text/html": [
       "&lt;NA&gt;"
      ],
      "text/latex": [
       "<NA>"
      ],
      "text/markdown": [
       "&lt;NA&gt;"
      ],
      "text/plain": [
       "[1] NA"
      ]
     },
     "metadata": {},
     "output_type": "display_data"
    }
   ],
   "source": [
    "x <- c(2, NA, 4)\n",
    "mean(x)"
   ]
  },
  {
   "cell_type": "code",
   "execution_count": 15,
   "metadata": {
    "ExecuteTime": {
     "end_time": "2018-05-29T09:00:14.729702Z",
     "start_time": "2018-05-29T09:00:14.031Z"
    }
   },
   "outputs": [
    {
     "data": {
      "text/html": [
       "3"
      ],
      "text/latex": [
       "3"
      ],
      "text/markdown": [
       "3"
      ],
      "text/plain": [
       "[1] 3"
      ]
     },
     "metadata": {},
     "output_type": "display_data"
    }
   ],
   "source": [
    "# 有时候，我们必须指明对NA值的操作\n",
    "# 如下，是在 运算之前去掉NA值\n",
    "mean(x, na.rm = TRUE)"
   ]
  },
  {
   "cell_type": "markdown",
   "metadata": {},
   "source": [
    "记得之前在2.8.2的时候，我们介绍过`subset`函数，使用它可以\n",
    "可以自动为我们执行`na.rm=TRUE`，这里也是一样的。我们可以\n",
    "假设我们的成绩数据有缺失值，过滤时可以使用下面的方法。"
   ]
  },
  {
   "cell_type": "code",
   "execution_count": 16,
   "metadata": {
    "ExecuteTime": {
     "end_time": "2018-05-29T09:00:14.755562Z",
     "start_time": "2018-05-29T09:00:14.036Z"
    }
   },
   "outputs": [
    {
     "data": {
      "text/html": [
       "<table>\n",
       "<thead><tr><th></th><th scope=col>Exam.1</th><th scope=col>Exam.2</th><th scope=col>Quiz</th></tr></thead>\n",
       "<tbody>\n",
       "\t<tr><th scope=row>3</th><td>4</td><td>4</td><td>4</td></tr>\n",
       "</tbody>\n",
       "</table>\n"
      ],
      "text/latex": [
       "\\begin{tabular}{r|lll}\n",
       "  & Exam.1 & Exam.2 & Quiz\\\\\n",
       "\\hline\n",
       "\t3 & 4 & 4 & 4\\\\\n",
       "\\end{tabular}\n"
      ],
      "text/markdown": [
       "\n",
       "| <!--/--> | Exam.1 | Exam.2 | Quiz | \n",
       "|---|\n",
       "| 3 | 4 | 4 | 4 | \n",
       "\n",
       "\n"
      ],
      "text/plain": [
       "  Exam.1 Exam.2 Quiz\n",
       "3 4      4      4   "
      ]
     },
     "metadata": {},
     "output_type": "display_data"
    }
   ],
   "source": [
    "subset(examsquiz, Exam.1 >= 3.8)"
   ]
  },
  {
   "cell_type": "markdown",
   "metadata": {},
   "source": [
    "另外，如果我们希望去除数据集中那些含有缺失值（>=1个缺失值）\n",
    "的观测（行），也许可以尝试`complete.cases()`函数。"
   ]
  },
  {
   "cell_type": "code",
   "execution_count": 17,
   "metadata": {
    "ExecuteTime": {
     "end_time": "2018-05-29T09:00:14.788836Z",
     "start_time": "2018-05-29T09:00:14.042Z"
    }
   },
   "outputs": [
    {
     "data": {
      "text/html": [
       "<table>\n",
       "<thead><tr><th scope=col>kids</th><th scope=col>states</th></tr></thead>\n",
       "<tbody>\n",
       "\t<tr><td>Jack   </td><td>CA     </td></tr>\n",
       "\t<tr><td>NA     </td><td>MA     </td></tr>\n",
       "\t<tr><td>Jillian</td><td>MA     </td></tr>\n",
       "\t<tr><td>John   </td><td>NA     </td></tr>\n",
       "</tbody>\n",
       "</table>\n"
      ],
      "text/latex": [
       "\\begin{tabular}{r|ll}\n",
       " kids & states\\\\\n",
       "\\hline\n",
       "\t Jack    & CA     \\\\\n",
       "\t NA      & MA     \\\\\n",
       "\t Jillian & MA     \\\\\n",
       "\t John    & NA     \\\\\n",
       "\\end{tabular}\n"
      ],
      "text/markdown": [
       "\n",
       "kids | states | \n",
       "|---|---|---|---|\n",
       "| Jack    | CA      | \n",
       "| NA      | MA      | \n",
       "| Jillian | MA      | \n",
       "| John    | NA      | \n",
       "\n",
       "\n"
      ],
      "text/plain": [
       "  kids    states\n",
       "1 Jack    CA    \n",
       "2 NA      MA    \n",
       "3 Jillian MA    \n",
       "4 John    NA    "
      ]
     },
     "metadata": {},
     "output_type": "display_data"
    }
   ],
   "source": [
    "d4 <- data.frame(kids=c(\"Jack\", NA, \"Jillian\", \"John\"),\n",
    "                states=c(\"CA\", \"MA\", \"MA\", NA))\n",
    "d4"
   ]
  },
  {
   "cell_type": "code",
   "execution_count": 18,
   "metadata": {
    "ExecuteTime": {
     "end_time": "2018-05-29T09:00:14.812249Z",
     "start_time": "2018-05-29T09:00:14.045Z"
    }
   },
   "outputs": [
    {
     "data": {
      "text/html": [
       "<ol class=list-inline>\n",
       "\t<li>TRUE</li>\n",
       "\t<li>FALSE</li>\n",
       "\t<li>TRUE</li>\n",
       "\t<li>FALSE</li>\n",
       "</ol>\n"
      ],
      "text/latex": [
       "\\begin{enumerate*}\n",
       "\\item TRUE\n",
       "\\item FALSE\n",
       "\\item TRUE\n",
       "\\item FALSE\n",
       "\\end{enumerate*}\n"
      ],
      "text/markdown": [
       "1. TRUE\n",
       "2. FALSE\n",
       "3. TRUE\n",
       "4. FALSE\n",
       "\n",
       "\n"
      ],
      "text/plain": [
       "[1]  TRUE FALSE  TRUE FALSE"
      ]
     },
     "metadata": {},
     "output_type": "display_data"
    }
   ],
   "source": [
    "complete.cases(d4)"
   ]
  },
  {
   "cell_type": "code",
   "execution_count": 19,
   "metadata": {
    "ExecuteTime": {
     "end_time": "2018-05-29T09:00:14.844688Z",
     "start_time": "2018-05-29T09:00:14.050Z"
    }
   },
   "outputs": [
    {
     "data": {
      "text/html": [
       "<table>\n",
       "<thead><tr><th></th><th scope=col>kids</th><th scope=col>states</th></tr></thead>\n",
       "<tbody>\n",
       "\t<tr><th scope=row>1</th><td>Jack   </td><td>CA     </td></tr>\n",
       "\t<tr><th scope=row>3</th><td>Jillian</td><td>MA     </td></tr>\n",
       "</tbody>\n",
       "</table>\n"
      ],
      "text/latex": [
       "\\begin{tabular}{r|ll}\n",
       "  & kids & states\\\\\n",
       "\\hline\n",
       "\t1 & Jack    & CA     \\\\\n",
       "\t3 & Jillian & MA     \\\\\n",
       "\\end{tabular}\n"
      ],
      "text/markdown": [
       "\n",
       "| <!--/--> | kids | states | \n",
       "|---|---|\n",
       "| 1 | Jack    | CA      | \n",
       "| 3 | Jillian | MA      | \n",
       "\n",
       "\n"
      ],
      "text/plain": [
       "  kids    states\n",
       "1 Jack    CA    \n",
       "3 Jillian MA    "
      ]
     },
     "metadata": {},
     "output_type": "display_data"
    }
   ],
   "source": [
    "# 同样是通过布尔值向量去索引目标行\n",
    "d5 <- d4[complete.cases(d4), ]\n",
    "d5"
   ]
  },
  {
   "cell_type": "code",
   "execution_count": 20,
   "metadata": {
    "ExecuteTime": {
     "end_time": "2018-05-29T09:00:14.867802Z",
     "start_time": "2018-05-29T09:00:14.055Z"
    }
   },
   "outputs": [
    {
     "data": {
      "text/html": [
       "TRUE"
      ],
      "text/latex": [
       "TRUE"
      ],
      "text/markdown": [
       "TRUE"
      ],
      "text/plain": [
       "[1] TRUE"
      ]
     },
     "metadata": {},
     "output_type": "display_data"
    }
   ],
   "source": [
    "is.data.frame(d5)"
   ]
  },
  {
   "cell_type": "markdown",
   "metadata": {},
   "source": [
    "#### 5.2.3 `rbind`&`cbind`函数(Using the rbind() and cbind() Functions and Alternatives)\n",
    "\n",
    "`matrix`中使用的`rbind()`和`cbind()`在这里也是一样可以用的。"
   ]
  },
  {
   "cell_type": "code",
   "execution_count": 21,
   "metadata": {
    "ExecuteTime": {
     "end_time": "2018-05-29T09:00:14.894147Z",
     "start_time": "2018-05-29T09:00:14.062Z"
    }
   },
   "outputs": [
    {
     "data": {
      "text/html": [
       "<table>\n",
       "<thead><tr><th scope=col>kids</th><th scope=col>ages</th></tr></thead>\n",
       "<tbody>\n",
       "\t<tr><td>Jack</td><td>12  </td></tr>\n",
       "\t<tr><td>Jill</td><td>10  </td></tr>\n",
       "</tbody>\n",
       "</table>\n"
      ],
      "text/latex": [
       "\\begin{tabular}{r|ll}\n",
       " kids & ages\\\\\n",
       "\\hline\n",
       "\t Jack & 12  \\\\\n",
       "\t Jill & 10  \\\\\n",
       "\\end{tabular}\n"
      ],
      "text/markdown": [
       "\n",
       "kids | ages | \n",
       "|---|---|\n",
       "| Jack | 12   | \n",
       "| Jill | 10   | \n",
       "\n",
       "\n"
      ],
      "text/plain": [
       "  kids ages\n",
       "1 Jack 12  \n",
       "2 Jill 10  "
      ]
     },
     "metadata": {},
     "output_type": "display_data"
    }
   ],
   "source": [
    "d <- data.frame(kids=c(\"Jack\", \"Jill\"),\n",
    "                ages=c(12, 10), stringsAsFactors = FALSE)\n",
    "d"
   ]
  },
  {
   "cell_type": "code",
   "execution_count": 22,
   "metadata": {
    "ExecuteTime": {
     "end_time": "2018-05-29T09:00:14.928462Z",
     "start_time": "2018-05-29T09:00:14.068Z"
    }
   },
   "outputs": [
    {
     "data": {
      "text/html": [
       "<table>\n",
       "<thead><tr><th scope=col>kids</th><th scope=col>ages</th></tr></thead>\n",
       "<tbody>\n",
       "\t<tr><td>Jack </td><td>12   </td></tr>\n",
       "\t<tr><td>Jill </td><td>10   </td></tr>\n",
       "\t<tr><td>Laura</td><td>19   </td></tr>\n",
       "</tbody>\n",
       "</table>\n"
      ],
      "text/latex": [
       "\\begin{tabular}{r|ll}\n",
       " kids & ages\\\\\n",
       "\\hline\n",
       "\t Jack  & 12   \\\\\n",
       "\t Jill  & 10   \\\\\n",
       "\t Laura & 19   \\\\\n",
       "\\end{tabular}\n"
      ],
      "text/markdown": [
       "\n",
       "kids | ages | \n",
       "|---|---|---|\n",
       "| Jack  | 12    | \n",
       "| Jill  | 10    | \n",
       "| Laura | 19    | \n",
       "\n",
       "\n"
      ],
      "text/plain": [
       "  kids  ages\n",
       "1 Jack  12  \n",
       "2 Jill  10  \n",
       "3 Laura 19  "
      ]
     },
     "metadata": {},
     "output_type": "display_data"
    }
   ],
   "source": [
    "# 添加新的行\n",
    "rbind(d, list(\"Laura\", 19))"
   ]
  },
  {
   "cell_type": "code",
   "execution_count": 23,
   "metadata": {
    "ExecuteTime": {
     "end_time": "2018-05-29T09:00:14.952392Z",
     "start_time": "2018-05-29T09:00:14.073Z"
    }
   },
   "outputs": [
    {
     "data": {
      "text/html": [
       "'data.frame'"
      ],
      "text/latex": [
       "'data.frame'"
      ],
      "text/markdown": [
       "'data.frame'"
      ],
      "text/plain": [
       "[1] \"data.frame\""
      ]
     },
     "metadata": {},
     "output_type": "display_data"
    }
   ],
   "source": [
    "# 添加新的列\n",
    "eq <- cbind(examsquiz, examsquiz$Exam.2 - examsquiz$Exam.1)\n",
    "class(eq)"
   ]
  },
  {
   "cell_type": "code",
   "execution_count": 24,
   "metadata": {
    "ExecuteTime": {
     "end_time": "2018-05-29T09:00:14.979153Z",
     "start_time": "2018-05-29T09:00:14.078Z"
    }
   },
   "outputs": [
    {
     "data": {
      "text/html": [
       "<table>\n",
       "<thead><tr><th scope=col>Exam.1</th><th scope=col>Exam.2</th><th scope=col>Quiz</th><th scope=col>examsquiz$Exam.2 - examsquiz$Exam.1</th></tr></thead>\n",
       "<tbody>\n",
       "\t<tr><td>2.0 </td><td>3.3 </td><td>4.0 </td><td> 1.3</td></tr>\n",
       "\t<tr><td>3.3 </td><td>2.0 </td><td>3.7 </td><td>-1.3</td></tr>\n",
       "\t<tr><td>4.0 </td><td>4.0 </td><td>4.0 </td><td> 0.0</td></tr>\n",
       "\t<tr><td>2.3 </td><td>0.0 </td><td>3.3 </td><td>-2.3</td></tr>\n",
       "\t<tr><td>2.3 </td><td>1.0 </td><td>3.3 </td><td>-1.3</td></tr>\n",
       "\t<tr><td>3.3 </td><td>3.7 </td><td>4.0 </td><td> 0.4</td></tr>\n",
       "</tbody>\n",
       "</table>\n"
      ],
      "text/latex": [
       "\\begin{tabular}{r|llll}\n",
       " Exam.1 & Exam.2 & Quiz & examsquiz\\$Exam.2 - examsquiz\\$Exam.1\\\\\n",
       "\\hline\n",
       "\t 2.0  & 3.3  & 4.0  &  1.3\\\\\n",
       "\t 3.3  & 2.0  & 3.7  & -1.3\\\\\n",
       "\t 4.0  & 4.0  & 4.0  &  0.0\\\\\n",
       "\t 2.3  & 0.0  & 3.3  & -2.3\\\\\n",
       "\t 2.3  & 1.0  & 3.3  & -1.3\\\\\n",
       "\t 3.3  & 3.7  & 4.0  &  0.4\\\\\n",
       "\\end{tabular}\n"
      ],
      "text/markdown": [
       "\n",
       "Exam.1 | Exam.2 | Quiz | examsquiz$Exam.2 - examsquiz$Exam.1 | \n",
       "|---|---|---|---|---|---|\n",
       "| 2.0  | 3.3  | 4.0  |  1.3 | \n",
       "| 3.3  | 2.0  | 3.7  | -1.3 | \n",
       "| 4.0  | 4.0  | 4.0  |  0.0 | \n",
       "| 2.3  | 0.0  | 3.3  | -2.3 | \n",
       "| 2.3  | 1.0  | 3.3  | -1.3 | \n",
       "| 3.3  | 3.7  | 4.0  |  0.4 | \n",
       "\n",
       "\n"
      ],
      "text/plain": [
       "  Exam.1 Exam.2 Quiz examsquiz$Exam.2 - examsquiz$Exam.1\n",
       "1 2.0    3.3    4.0   1.3                               \n",
       "2 3.3    2.0    3.7  -1.3                               \n",
       "3 4.0    4.0    4.0   0.0                               \n",
       "4 2.3    0.0    3.3  -2.3                               \n",
       "5 2.3    1.0    3.3  -1.3                               \n",
       "6 3.3    3.7    4.0   0.4                               "
      ]
     },
     "metadata": {},
     "output_type": "display_data"
    }
   ],
   "source": [
    "head(eq)"
   ]
  },
  {
   "cell_type": "code",
   "execution_count": 25,
   "metadata": {
    "ExecuteTime": {
     "end_time": "2018-05-29T09:00:15.013436Z",
     "start_time": "2018-05-29T09:00:14.083Z"
    }
   },
   "outputs": [
    {
     "data": {
      "text/html": [
       "<table>\n",
       "<thead><tr><th scope=col>Exam.1</th><th scope=col>Exam.2</th><th scope=col>Quiz</th><th scope=col>ExamDiff</th></tr></thead>\n",
       "<tbody>\n",
       "\t<tr><td>2.0 </td><td>3.3 </td><td>4.0 </td><td> 1.3</td></tr>\n",
       "\t<tr><td>3.3 </td><td>2.0 </td><td>3.7 </td><td>-1.3</td></tr>\n",
       "\t<tr><td>4.0 </td><td>4.0 </td><td>4.0 </td><td> 0.0</td></tr>\n",
       "\t<tr><td>2.3 </td><td>0.0 </td><td>3.3 </td><td>-2.3</td></tr>\n",
       "\t<tr><td>2.3 </td><td>1.0 </td><td>3.3 </td><td>-1.3</td></tr>\n",
       "\t<tr><td>3.3 </td><td>3.7 </td><td>4.0 </td><td> 0.4</td></tr>\n",
       "</tbody>\n",
       "</table>\n"
      ],
      "text/latex": [
       "\\begin{tabular}{r|llll}\n",
       " Exam.1 & Exam.2 & Quiz & ExamDiff\\\\\n",
       "\\hline\n",
       "\t 2.0  & 3.3  & 4.0  &  1.3\\\\\n",
       "\t 3.3  & 2.0  & 3.7  & -1.3\\\\\n",
       "\t 4.0  & 4.0  & 4.0  &  0.0\\\\\n",
       "\t 2.3  & 0.0  & 3.3  & -2.3\\\\\n",
       "\t 2.3  & 1.0  & 3.3  & -1.3\\\\\n",
       "\t 3.3  & 3.7  & 4.0  &  0.4\\\\\n",
       "\\end{tabular}\n"
      ],
      "text/markdown": [
       "\n",
       "Exam.1 | Exam.2 | Quiz | ExamDiff | \n",
       "|---|---|---|---|---|---|\n",
       "| 2.0  | 3.3  | 4.0  |  1.3 | \n",
       "| 3.3  | 2.0  | 3.7  | -1.3 | \n",
       "| 4.0  | 4.0  | 4.0  |  0.0 | \n",
       "| 2.3  | 0.0  | 3.3  | -2.3 | \n",
       "| 2.3  | 1.0  | 3.3  | -1.3 | \n",
       "| 3.3  | 3.7  | 4.0  |  0.4 | \n",
       "\n",
       "\n"
      ],
      "text/plain": [
       "  Exam.1 Exam.2 Quiz ExamDiff\n",
       "1 2.0    3.3    4.0   1.3    \n",
       "2 3.3    2.0    3.7  -1.3    \n",
       "3 4.0    4.0    4.0   0.0    \n",
       "4 2.3    0.0    3.3  -2.3    \n",
       "5 2.3    1.0    3.3  -1.3    \n",
       "6 3.3    3.7    4.0   0.4    "
      ]
     },
     "metadata": {},
     "output_type": "display_data"
    }
   ],
   "source": [
    "# 上面新列的名字有些不好看，我们可以使用names改变\n",
    "names(eq) <- c(names(examsquiz), \"ExamDiff\")\n",
    "eq"
   ]
  },
  {
   "cell_type": "code",
   "execution_count": 26,
   "metadata": {
    "ExecuteTime": {
     "end_time": "2018-05-29T09:00:15.040138Z",
     "start_time": "2018-05-29T09:00:14.088Z"
    }
   },
   "outputs": [
    {
     "data": {
      "text/html": [
       "<table>\n",
       "<thead><tr><th scope=col>Exam.1</th><th scope=col>Exam.2</th><th scope=col>Quiz</th><th scope=col>ExamDiff</th></tr></thead>\n",
       "<tbody>\n",
       "\t<tr><td>2.0 </td><td>3.3 </td><td>4.0 </td><td> 1.3</td></tr>\n",
       "\t<tr><td>3.3 </td><td>2.0 </td><td>3.7 </td><td>-1.3</td></tr>\n",
       "\t<tr><td>4.0 </td><td>4.0 </td><td>4.0 </td><td> 0.0</td></tr>\n",
       "</tbody>\n",
       "</table>\n"
      ],
      "text/latex": [
       "\\begin{tabular}{r|llll}\n",
       " Exam.1 & Exam.2 & Quiz & ExamDiff\\\\\n",
       "\\hline\n",
       "\t 2.0  & 3.3  & 4.0  &  1.3\\\\\n",
       "\t 3.3  & 2.0  & 3.7  & -1.3\\\\\n",
       "\t 4.0  & 4.0  & 4.0  &  0.0\\\\\n",
       "\\end{tabular}\n"
      ],
      "text/markdown": [
       "\n",
       "Exam.1 | Exam.2 | Quiz | ExamDiff | \n",
       "|---|---|---|\n",
       "| 2.0  | 3.3  | 4.0  |  1.3 | \n",
       "| 3.3  | 2.0  | 3.7  | -1.3 | \n",
       "| 4.0  | 4.0  | 4.0  |  0.0 | \n",
       "\n",
       "\n"
      ],
      "text/plain": [
       "  Exam.1 Exam.2 Quiz ExamDiff\n",
       "1 2.0    3.3    4.0   1.3    \n",
       "2 3.3    2.0    3.7  -1.3    \n",
       "3 4.0    4.0    4.0   0.0    "
      ]
     },
     "metadata": {},
     "output_type": "display_data"
    }
   ],
   "source": [
    "# 也可以使用下面的方法，更加简洁\n",
    "examsquiz$ExamDiff <- examsquiz$Exam.2 - examsquiz$Exam.1\n",
    "head(examsquiz, 3)"
   ]
  },
  {
   "cell_type": "code",
   "execution_count": 27,
   "metadata": {
    "ExecuteTime": {
     "end_time": "2018-05-29T09:00:15.064222Z",
     "start_time": "2018-05-29T09:00:14.092Z"
    }
   },
   "outputs": [
    {
     "data": {
      "text/html": [
       "<table>\n",
       "<thead><tr><th scope=col>kids</th><th scope=col>ages</th></tr></thead>\n",
       "<tbody>\n",
       "\t<tr><td>Jack</td><td>12  </td></tr>\n",
       "\t<tr><td>Jill</td><td>10  </td></tr>\n",
       "</tbody>\n",
       "</table>\n"
      ],
      "text/latex": [
       "\\begin{tabular}{r|ll}\n",
       " kids & ages\\\\\n",
       "\\hline\n",
       "\t Jack & 12  \\\\\n",
       "\t Jill & 10  \\\\\n",
       "\\end{tabular}\n"
      ],
      "text/markdown": [
       "\n",
       "kids | ages | \n",
       "|---|---|\n",
       "| Jack | 12   | \n",
       "| Jill | 10   | \n",
       "\n",
       "\n"
      ],
      "text/plain": [
       "  kids ages\n",
       "1 Jack 12  \n",
       "2 Jill 10  "
      ]
     },
     "metadata": {},
     "output_type": "display_data"
    }
   ],
   "source": [
    "# 上面这种直接添加新列的方法是很普遍的，也是很方便的\n",
    "d"
   ]
  },
  {
   "cell_type": "code",
   "execution_count": 28,
   "metadata": {
    "ExecuteTime": {
     "end_time": "2018-05-29T09:00:15.094523Z",
     "start_time": "2018-05-29T09:00:14.097Z"
    }
   },
   "outputs": [
    {
     "data": {
      "text/html": [
       "<table>\n",
       "<thead><tr><th scope=col>kids</th><th scope=col>ages</th><th scope=col>one</th></tr></thead>\n",
       "<tbody>\n",
       "\t<tr><td>Jack</td><td>12  </td><td>1   </td></tr>\n",
       "\t<tr><td>Jill</td><td>10  </td><td>1   </td></tr>\n",
       "</tbody>\n",
       "</table>\n"
      ],
      "text/latex": [
       "\\begin{tabular}{r|lll}\n",
       " kids & ages & one\\\\\n",
       "\\hline\n",
       "\t Jack & 12   & 1   \\\\\n",
       "\t Jill & 10   & 1   \\\\\n",
       "\\end{tabular}\n"
      ],
      "text/markdown": [
       "\n",
       "kids | ages | one | \n",
       "|---|---|\n",
       "| Jack | 12   | 1    | \n",
       "| Jill | 10   | 1    | \n",
       "\n",
       "\n"
      ],
      "text/plain": [
       "  kids ages one\n",
       "1 Jack 12   1  \n",
       "2 Jill 10   1  "
      ]
     },
     "metadata": {},
     "output_type": "display_data"
    }
   ],
   "source": [
    "d$one <- 1\n",
    "d"
   ]
  },
  {
   "cell_type": "markdown",
   "metadata": {},
   "source": [
    "#### 5.2.4 `apply()`函数(Applying apply())"
   ]
  },
  {
   "cell_type": "code",
   "execution_count": 29,
   "metadata": {
    "ExecuteTime": {
     "end_time": "2018-05-29T09:00:15.112880Z",
     "start_time": "2018-05-29T09:00:14.102Z"
    }
   },
   "outputs": [
    {
     "data": {
      "text/html": [
       "<ol class=list-inline>\n",
       "\t<li>4</li>\n",
       "\t<li>3.7</li>\n",
       "\t<li>4</li>\n",
       "\t<li>3.3</li>\n",
       "\t<li>3.3</li>\n",
       "\t<li>4</li>\n",
       "</ol>\n"
      ],
      "text/latex": [
       "\\begin{enumerate*}\n",
       "\\item 4\n",
       "\\item 3.7\n",
       "\\item 4\n",
       "\\item 3.3\n",
       "\\item 3.3\n",
       "\\item 4\n",
       "\\end{enumerate*}\n"
      ],
      "text/markdown": [
       "1. 4\n",
       "2. 3.7\n",
       "3. 4\n",
       "4. 3.3\n",
       "5. 3.3\n",
       "6. 4\n",
       "\n",
       "\n"
      ],
      "text/plain": [
       "[1] 4.0 3.7 4.0 3.3 3.3 4.0"
      ]
     },
     "metadata": {},
     "output_type": "display_data"
    }
   ],
   "source": [
    "# 在data frame所有列是相同数据类型的时候我们可以使用apply函数\n",
    "# 如下找到每个学生最好的成绩\n",
    "apply(examsquiz, 1, max)"
   ]
  },
  {
   "cell_type": "markdown",
   "metadata": {},
   "source": [
    "#### 5.2.5 拓展：工资研究(Extended Example: A Salary Study)\n"
   ]
  },
  {
   "cell_type": "code",
   "execution_count": 30,
   "metadata": {
    "ExecuteTime": {
     "end_time": "2018-05-29T09:00:15.153202Z",
     "start_time": "2018-05-29T09:00:14.108Z"
    }
   },
   "outputs": [
    {
     "data": {
      "text/html": [
       "<table>\n",
       "<thead><tr><th scope=col>Case_No</th><th scope=col>Processing_Center</th><th scope=col>Final_Case_Status</th><th scope=col>Received_Date</th><th scope=col>Certified_Date</th><th scope=col>Denied_Date</th><th scope=col>Employer_Name</th><th scope=col>Employer_Address_1</th><th scope=col>Employer_Address_2</th><th scope=col>Employer_City</th><th scope=col>⋯</th><th scope=col>Wage_Offered_From</th><th scope=col>Wage_Offered_To</th><th scope=col>Wage_Per</th><th scope=col>Prevailing_Wage_Job_Title</th><th scope=col>Prevailing_Wage_Amount</th><th scope=col>Prevailing_Wage_Level</th><th scope=col>Prevailing_Wage_SOC_CODE</th><th scope=col>Prevailing_Wage_SOC_Title</th><th scope=col>Prevailing_Wage_Source</th><th scope=col>Prevailing_Wage_Other_Source</th></tr></thead>\n",
       "<tbody>\n",
       "\t<tr><td>A-05243-28497                              </td><td>Atlanta Processing Center                  </td><td>Denied                                     </td><td>10/1/2005 0:00:00                          </td><td>NA                                         </td><td>10/1/2005 10:00:32                         </td><td>QAMAR UL ZAMAN, MD                         </td><td>1035 RICHWOOD AVENUE                       </td><td>                                           </td><td>CUMBERLAND                                 </td><td>⋯                                          </td><td>178000.00                                  </td><td>NA                                         </td><td>Year                                       </td><td>Physician                                  </td><td>163800.00                                  </td><td>Level III                                  </td><td>29-1062.00                                 </td><td>Family and General Practitioners           </td><td>OES                                        </td><td>                                           </td></tr>\n",
       "\t<tr><td>A-05275-38245                              </td><td>Atlanta Processing Center                  </td><td>Denied                                     </td><td>10/2/2005 0:00:00                          </td><td>NA                                         </td><td>10/2/2005 2:48:59                          </td><td>HYGIA INDUSTRIES, INC.                     </td><td>BOX 25                                     </td><td>                                           </td><td>TALLMAN                                    </td><td>⋯                                          </td><td>    29.52                                  </td><td>NA                                         </td><td>Year                                       </td><td>COMPUTER PROGRAMMER                        </td><td>    29.52                                  </td><td>Level II                                   </td><td>15-1021.00                                 </td><td>Computer Programmers                       </td><td>OES                                        </td><td>                                           </td></tr>\n",
       "\t<tr><td>A-05263-34450                                               </td><td>Atlanta Processing Center                                   </td><td>Denied                                                      </td><td>10/2/2005 0:00:00                                           </td><td>NA                                                          </td><td>10/2/2005 3:49:09                                           </td><td>TRI-SEASON LANDSCAPE &amp; BOULDER COUNTRUCTION             </td><td><span style=white-space:pre-wrap>2260 SUNRISE COURT  </span></td><td>                                                            </td><td>SCOTCH PLAINS                                               </td><td>⋯                                                           </td><td><span style=white-space:pre-wrap>    13.35</span>           </td><td>NA                                                          </td><td>Hour                                                        </td><td>LANDSCAPING &amp; GROUNDSKEEPING WORKERS                    </td><td><span style=white-space:pre-wrap>    13.35</span>           </td><td>Level IV                                                    </td><td>37-3011.00                                                  </td><td>Landscaping and Groundskeeping Workers                      </td><td>OES                                                         </td><td>                                                            </td></tr>\n",
       "</tbody>\n",
       "</table>\n"
      ],
      "text/latex": [
       "\\begin{tabular}{r|llllllllllllllllllllllll}\n",
       " Case\\_No & Processing\\_Center & Final\\_Case\\_Status & Received\\_Date & Certified\\_Date & Denied\\_Date & Employer\\_Name & Employer\\_Address\\_1 & Employer\\_Address\\_2 & Employer\\_City & ⋯ & Wage\\_Offered\\_From & Wage\\_Offered\\_To & Wage\\_Per & Prevailing\\_Wage\\_Job\\_Title & Prevailing\\_Wage\\_Amount & Prevailing\\_Wage\\_Level & Prevailing\\_Wage\\_SOC\\_CODE & Prevailing\\_Wage\\_SOC\\_Title & Prevailing\\_Wage\\_Source & Prevailing\\_Wage\\_Other\\_Source\\\\\n",
       "\\hline\n",
       "\t A-05243-28497                               & Atlanta Processing Center                   & Denied                                      & 10/1/2005 0:00:00                           & NA                                          & 10/1/2005 10:00:32                          & QAMAR UL ZAMAN, MD                          & 1035 RICHWOOD AVENUE                        &                                             & CUMBERLAND                                  & ⋯                                           & 178000.00                                   & NA                                          & Year                                        & Physician                                   & 163800.00                                   & Level III                                   & 29-1062.00                                  & Family and General Practitioners            & OES                                         &                                            \\\\\n",
       "\t A-05275-38245                               & Atlanta Processing Center                   & Denied                                      & 10/2/2005 0:00:00                           & NA                                          & 10/2/2005 2:48:59                           & HYGIA INDUSTRIES, INC.                      & BOX 25                                      &                                             & TALLMAN                                     & ⋯                                           &     29.52                                   & NA                                          & Year                                        & COMPUTER PROGRAMMER                         &     29.52                                   & Level II                                    & 15-1021.00                                  & Computer Programmers                        & OES                                         &                                            \\\\\n",
       "\t A-05263-34450                                 & Atlanta Processing Center                     & Denied                                        & 10/2/2005 0:00:00                             & NA                                            & 10/2/2005 3:49:09                             & TRI-SEASON LANDSCAPE \\& BOULDER COUNTRUCTION & 2260 SUNRISE COURT                            &                                               & SCOTCH PLAINS                                 & ⋯                                             &     13.35                                     & NA                                            & Hour                                          & LANDSCAPING \\& GROUNDSKEEPING WORKERS        &     13.35                                     & Level IV                                      & 37-3011.00                                    & Landscaping and Groundskeeping Workers        & OES                                           &                                              \\\\\n",
       "\\end{tabular}\n"
      ],
      "text/markdown": [
       "\n",
       "Case_No | Processing_Center | Final_Case_Status | Received_Date | Certified_Date | Denied_Date | Employer_Name | Employer_Address_1 | Employer_Address_2 | Employer_City | ⋯ | Wage_Offered_From | Wage_Offered_To | Wage_Per | Prevailing_Wage_Job_Title | Prevailing_Wage_Amount | Prevailing_Wage_Level | Prevailing_Wage_SOC_CODE | Prevailing_Wage_SOC_Title | Prevailing_Wage_Source | Prevailing_Wage_Other_Source | \n",
       "|---|---|---|\n",
       "| A-05243-28497                               | Atlanta Processing Center                   | Denied                                      | 10/1/2005 0:00:00                           | NA                                          | 10/1/2005 10:00:32                          | QAMAR UL ZAMAN, MD                          | 1035 RICHWOOD AVENUE                        |                                             | CUMBERLAND                                  | ⋯                                           | 178000.00                                   | NA                                          | Year                                        | Physician                                   | 163800.00                                   | Level III                                   | 29-1062.00                                  | Family and General Practitioners            | OES                                         |                                             | \n",
       "| A-05275-38245                               | Atlanta Processing Center                   | Denied                                      | 10/2/2005 0:00:00                           | NA                                          | 10/2/2005 2:48:59                           | HYGIA INDUSTRIES, INC.                      | BOX 25                                      |                                             | TALLMAN                                     | ⋯                                           |     29.52                                   | NA                                          | Year                                        | COMPUTER PROGRAMMER                         |     29.52                                   | Level II                                    | 15-1021.00                                  | Computer Programmers                        | OES                                         |                                             | \n",
       "| A-05263-34450                               | Atlanta Processing Center                   | Denied                                      | 10/2/2005 0:00:00                           | NA                                          | 10/2/2005 3:49:09                           | TRI-SEASON LANDSCAPE & BOULDER COUNTRUCTION | 2260 SUNRISE COURT                          |                                             | SCOTCH PLAINS                               | ⋯                                           |     13.35                                   | NA                                          | Hour                                        | LANDSCAPING & GROUNDSKEEPING WORKERS        |     13.35                                   | Level IV                                    | 37-3011.00                                  | Landscaping and Groundskeeping Workers      | OES                                         |                                             | \n",
       "\n",
       "\n"
      ],
      "text/plain": [
       "  Case_No       Processing_Center         Final_Case_Status Received_Date    \n",
       "1 A-05243-28497 Atlanta Processing Center Denied            10/1/2005 0:00:00\n",
       "2 A-05275-38245 Atlanta Processing Center Denied            10/2/2005 0:00:00\n",
       "3 A-05263-34450 Atlanta Processing Center Denied            10/2/2005 0:00:00\n",
       "  Certified_Date Denied_Date        Employer_Name                              \n",
       "1 NA             10/1/2005 10:00:32 QAMAR UL ZAMAN, MD                         \n",
       "2 NA             10/2/2005 2:48:59  HYGIA INDUSTRIES, INC.                     \n",
       "3 NA             10/2/2005 3:49:09  TRI-SEASON LANDSCAPE & BOULDER COUNTRUCTION\n",
       "  Employer_Address_1   Employer_Address_2 Employer_City ⋯ Wage_Offered_From\n",
       "1 1035 RICHWOOD AVENUE                    CUMBERLAND    ⋯ 178000.00        \n",
       "2 BOX 25                                  TALLMAN       ⋯     29.52        \n",
       "3 2260 SUNRISE COURT                      SCOTCH PLAINS ⋯     13.35        \n",
       "  Wage_Offered_To Wage_Per Prevailing_Wage_Job_Title           \n",
       "1 NA              Year     Physician                           \n",
       "2 NA              Year     COMPUTER PROGRAMMER                 \n",
       "3 NA              Hour     LANDSCAPING & GROUNDSKEEPING WORKERS\n",
       "  Prevailing_Wage_Amount Prevailing_Wage_Level Prevailing_Wage_SOC_CODE\n",
       "1 163800.00              Level III             29-1062.00              \n",
       "2     29.52              Level II              15-1021.00              \n",
       "3     13.35              Level IV              37-3011.00              \n",
       "  Prevailing_Wage_SOC_Title              Prevailing_Wage_Source\n",
       "1 Family and General Practitioners       OES                   \n",
       "2 Computer Programmers                   OES                   \n",
       "3 Landscaping and Groundskeeping Workers OES                   \n",
       "  Prevailing_Wage_Other_Source\n",
       "1                             \n",
       "2                             \n",
       "3                             "
      ]
     },
     "metadata": {},
     "output_type": "display_data"
    }
   ],
   "source": [
    "all2006 <- read.csv(\"./data//2006.csv\",\n",
    "                   header=TRUE, as.is=TRUE)\n",
    "head(all2006, 3)"
   ]
  },
  {
   "cell_type": "code",
   "execution_count": 31,
   "metadata": {
    "ExecuteTime": {
     "end_time": "2018-05-29T09:00:15.178785Z",
     "start_time": "2018-05-29T09:00:14.115Z"
    }
   },
   "outputs": [],
   "source": [
    "#  # exclude hourly-wagers\n",
    "all2006 <- all2006[all2006$Wage_Per == \"Year\", ]\n",
    "# exclude weird cases\n",
    "all2006 <- all2006[all2006$Wage_Offered_From > 20000,] \n",
    "# exclude hrly prv wg\n",
    "all2006 <- all2006[all2006$Prevailing_Wage_Amount > 200,] "
   ]
  },
  {
   "cell_type": "code",
   "execution_count": 32,
   "metadata": {
    "ExecuteTime": {
     "end_time": "2018-05-29T09:00:15.195038Z",
     "start_time": "2018-05-29T09:00:14.119Z"
    }
   },
   "outputs": [],
   "source": [
    "# 实际工资与一般工资水平之比\n",
    "all2006$rat <- all2006$Wage_Offered_From / all2006$Prevailing_Wage_Amount"
   ]
  },
  {
   "cell_type": "code",
   "execution_count": 33,
   "metadata": {
    "ExecuteTime": {
     "end_time": "2018-05-29T09:00:15.215269Z",
     "start_time": "2018-05-29T09:00:14.122Z"
    }
   },
   "outputs": [],
   "source": [
    "# 计算rat列均值的函数\n",
    "medrat <- function(dataframe){\n",
    "    return(median(dataframe$rat, na.rm = TRUE))\n",
    "}"
   ]
  },
  {
   "cell_type": "code",
   "execution_count": 34,
   "metadata": {
    "ExecuteTime": {
     "end_time": "2018-05-29T09:00:15.251447Z",
     "start_time": "2018-05-29T09:00:14.127Z"
    }
   },
   "outputs": [],
   "source": [
    "# 挑选其中三个职业[不同职业]\n",
    "se2006 <- all2006[grep(\"Software Engineer\",all2006),]\n",
    "prg2006 <- all2006[grep(\"Programmer\",all2006),]\n",
    "ee2006 <- all2006[grep(\"Electronics Engineer\",all2006),]"
   ]
  },
  {
   "cell_type": "markdown",
   "metadata": {},
   "source": [
    "这里使用`grep`函数，去挑选出含有特定职业名的行。关于此函数，后面第11章还会讲到。"
   ]
  },
  {
   "cell_type": "code",
   "execution_count": 35,
   "metadata": {
    "ExecuteTime": {
     "end_time": "2018-05-29T09:00:15.280044Z",
     "start_time": "2018-05-29T09:00:14.132Z"
    }
   },
   "outputs": [],
   "source": [
    "# 获取某一公司的数据[不同公司]\n",
    "makecorp <- function(corpname){\n",
    "    t <- all2006[all2006$Employer_Name == corpname, ]\n",
    "    return(t)\n",
    "}"
   ]
  },
  {
   "cell_type": "code",
   "execution_count": 36,
   "metadata": {
    "ExecuteTime": {
     "end_time": "2018-05-29T09:00:15.317616Z",
     "start_time": "2018-05-29T09:00:14.137Z"
    }
   },
   "outputs": [
    {
     "name": "stdout",
     "output_type": "stream",
     "text": [
      "[1] \"cmc2006\"\n",
      "[1] \"ne2006\"\n",
      "[1] \"sq2006\"\n",
      "[1] \"yi2006\"\n"
     ]
    }
   ],
   "source": [
    "# 数据集包含的公司\n",
    "#unique(all2006$Employer_Name)\n",
    "\n",
    "# 挑选部分\n",
    "corplist <- c(\"CASTLE MANAGEMENT CORPORATION\",\"cmc\",\"NIPPON EXPRESS USA\",\"ne\",\n",
    "              \"THE STONE QUARRY, INC\",\"sq\",\"YOMIWURI, INC.\",\"yi\")\n",
    "\n",
    "for (i in 1:(length(corplist)/2)) {\n",
    "    corp <- corplist[2*i-1]\n",
    "    newdtf <- paste(corplist[2*i],\"2006\",sep=\"\")\n",
    "    print(newdtf)\n",
    "    assign(newdtf,makecorp(corp),pos=.GlobalEnv)\n",
    "}"
   ]
  },
  {
   "cell_type": "code",
   "execution_count": 37,
   "metadata": {
    "ExecuteTime": {
     "end_time": "2018-05-29T09:00:15.353779Z",
     "start_time": "2018-05-29T09:00:14.143Z"
    }
   },
   "outputs": [
    {
     "data": {
      "text/html": [
       "<ol class=list-inline>\n",
       "\t<li>'a'</li>\n",
       "\t<li>'aba'</li>\n",
       "\t<li>'abaf'</li>\n",
       "\t<li>'abalone'</li>\n",
       "\t<li>'abam'</li>\n",
       "\t<li>'ages'</li>\n",
       "\t<li>'all2006'</li>\n",
       "\t<li>'cmc2006'</li>\n",
       "\t<li>'color'</li>\n",
       "\t<li>'corp'</li>\n",
       "\t<li>'corplist'</li>\n",
       "\t<li>'d'</li>\n",
       "\t<li>'d4'</li>\n",
       "\t<li>'d5'</li>\n",
       "\t<li>'ee2006'</li>\n",
       "\t<li>'eq'</li>\n",
       "\t<li>'examsquiz'</li>\n",
       "\t<li>'f'</li>\n",
       "\t<li>'facetcol'</li>\n",
       "\t<li>'findols'</li>\n",
       "\t<li>'g'</li>\n",
       "\t<li>'gen'</li>\n",
       "\t<li>'grps'</li>\n",
       "\t<li>'hn'</li>\n",
       "\t<li>'i'</li>\n",
       "\t<li>'jet.colors'</li>\n",
       "\t<li>'kids'</li>\n",
       "\t<li>'lma'</li>\n",
       "\t<li>'m'</li>\n",
       "\t<li>'makecorp'</li>\n",
       "\t<li>'makecov'</li>\n",
       "\t<li>'medrat'</li>\n",
       "\t<li>'n'</li>\n",
       "\t<li>'nbcol'</li>\n",
       "\t<li>'ncz'</li>\n",
       "\t<li>'ne2006'</li>\n",
       "\t<li>'newdtf'</li>\n",
       "\t<li>'nrz'</li>\n",
       "\t<li>'op'</li>\n",
       "\t<li>'pchvec'</li>\n",
       "\t<li>'phi'</li>\n",
       "\t<li>'prg2006'</li>\n",
       "\t<li>'r'</li>\n",
       "\t<li>'r1'</li>\n",
       "\t<li>'res'</li>\n",
       "\t<li>'se2006'</li>\n",
       "\t<li>'sq2006'</li>\n",
       "\t<li>'u'</li>\n",
       "\t<li>'w'</li>\n",
       "\t<li>'x'</li>\n",
       "\t<li>'xE'</li>\n",
       "\t<li>'xr'</li>\n",
       "\t<li>'xy'</li>\n",
       "\t<li>'y'</li>\n",
       "\t<li>'yi2006'</li>\n",
       "\t<li>'yr'</li>\n",
       "\t<li>'z'</li>\n",
       "\t<li>'zfacet'</li>\n",
       "</ol>\n"
      ],
      "text/latex": [
       "\\begin{enumerate*}\n",
       "\\item 'a'\n",
       "\\item 'aba'\n",
       "\\item 'abaf'\n",
       "\\item 'abalone'\n",
       "\\item 'abam'\n",
       "\\item 'ages'\n",
       "\\item 'all2006'\n",
       "\\item 'cmc2006'\n",
       "\\item 'color'\n",
       "\\item 'corp'\n",
       "\\item 'corplist'\n",
       "\\item 'd'\n",
       "\\item 'd4'\n",
       "\\item 'd5'\n",
       "\\item 'ee2006'\n",
       "\\item 'eq'\n",
       "\\item 'examsquiz'\n",
       "\\item 'f'\n",
       "\\item 'facetcol'\n",
       "\\item 'findols'\n",
       "\\item 'g'\n",
       "\\item 'gen'\n",
       "\\item 'grps'\n",
       "\\item 'hn'\n",
       "\\item 'i'\n",
       "\\item 'jet.colors'\n",
       "\\item 'kids'\n",
       "\\item 'lma'\n",
       "\\item 'm'\n",
       "\\item 'makecorp'\n",
       "\\item 'makecov'\n",
       "\\item 'medrat'\n",
       "\\item 'n'\n",
       "\\item 'nbcol'\n",
       "\\item 'ncz'\n",
       "\\item 'ne2006'\n",
       "\\item 'newdtf'\n",
       "\\item 'nrz'\n",
       "\\item 'op'\n",
       "\\item 'pchvec'\n",
       "\\item 'phi'\n",
       "\\item 'prg2006'\n",
       "\\item 'r'\n",
       "\\item 'r1'\n",
       "\\item 'res'\n",
       "\\item 'se2006'\n",
       "\\item 'sq2006'\n",
       "\\item 'u'\n",
       "\\item 'w'\n",
       "\\item 'x'\n",
       "\\item 'xE'\n",
       "\\item 'xr'\n",
       "\\item 'xy'\n",
       "\\item 'y'\n",
       "\\item 'yi2006'\n",
       "\\item 'yr'\n",
       "\\item 'z'\n",
       "\\item 'zfacet'\n",
       "\\end{enumerate*}\n"
      ],
      "text/markdown": [
       "1. 'a'\n",
       "2. 'aba'\n",
       "3. 'abaf'\n",
       "4. 'abalone'\n",
       "5. 'abam'\n",
       "6. 'ages'\n",
       "7. 'all2006'\n",
       "8. 'cmc2006'\n",
       "9. 'color'\n",
       "10. 'corp'\n",
       "11. 'corplist'\n",
       "12. 'd'\n",
       "13. 'd4'\n",
       "14. 'd5'\n",
       "15. 'ee2006'\n",
       "16. 'eq'\n",
       "17. 'examsquiz'\n",
       "18. 'f'\n",
       "19. 'facetcol'\n",
       "20. 'findols'\n",
       "21. 'g'\n",
       "22. 'gen'\n",
       "23. 'grps'\n",
       "24. 'hn'\n",
       "25. 'i'\n",
       "26. 'jet.colors'\n",
       "27. 'kids'\n",
       "28. 'lma'\n",
       "29. 'm'\n",
       "30. 'makecorp'\n",
       "31. 'makecov'\n",
       "32. 'medrat'\n",
       "33. 'n'\n",
       "34. 'nbcol'\n",
       "35. 'ncz'\n",
       "36. 'ne2006'\n",
       "37. 'newdtf'\n",
       "38. 'nrz'\n",
       "39. 'op'\n",
       "40. 'pchvec'\n",
       "41. 'phi'\n",
       "42. 'prg2006'\n",
       "43. 'r'\n",
       "44. 'r1'\n",
       "45. 'res'\n",
       "46. 'se2006'\n",
       "47. 'sq2006'\n",
       "48. 'u'\n",
       "49. 'w'\n",
       "50. 'x'\n",
       "51. 'xE'\n",
       "52. 'xr'\n",
       "53. 'xy'\n",
       "54. 'y'\n",
       "55. 'yi2006'\n",
       "56. 'yr'\n",
       "57. 'z'\n",
       "58. 'zfacet'\n",
       "\n",
       "\n"
      ],
      "text/plain": [
       " [1] \"a\"          \"aba\"        \"abaf\"       \"abalone\"    \"abam\"      \n",
       " [6] \"ages\"       \"all2006\"    \"cmc2006\"    \"color\"      \"corp\"      \n",
       "[11] \"corplist\"   \"d\"          \"d4\"         \"d5\"         \"ee2006\"    \n",
       "[16] \"eq\"         \"examsquiz\"  \"f\"          \"facetcol\"   \"findols\"   \n",
       "[21] \"g\"          \"gen\"        \"grps\"       \"hn\"         \"i\"         \n",
       "[26] \"jet.colors\" \"kids\"       \"lma\"        \"m\"          \"makecorp\"  \n",
       "[31] \"makecov\"    \"medrat\"     \"n\"          \"nbcol\"      \"ncz\"       \n",
       "[36] \"ne2006\"     \"newdtf\"     \"nrz\"        \"op\"         \"pchvec\"    \n",
       "[41] \"phi\"        \"prg2006\"    \"r\"          \"r1\"         \"res\"       \n",
       "[46] \"se2006\"     \"sq2006\"     \"u\"          \"w\"          \"x\"         \n",
       "[51] \"xE\"         \"xr\"         \"xy\"         \"y\"          \"yi2006\"    \n",
       "[56] \"yr\"         \"z\"          \"zfacet\"    "
      ]
     },
     "metadata": {},
     "output_type": "display_data"
    },
    {
     "data": {
      "text/html": [
       "<ol class=list-inline>\n",
       "\t<li>'all2006'</li>\n",
       "\t<li>'cmc2006'</li>\n",
       "\t<li>'ee2006'</li>\n",
       "\t<li>'ne2006'</li>\n",
       "\t<li>'prg2006'</li>\n",
       "\t<li>'se2006'</li>\n",
       "\t<li>'sq2006'</li>\n",
       "\t<li>'yi2006'</li>\n",
       "</ol>\n"
      ],
      "text/latex": [
       "\\begin{enumerate*}\n",
       "\\item 'all2006'\n",
       "\\item 'cmc2006'\n",
       "\\item 'ee2006'\n",
       "\\item 'ne2006'\n",
       "\\item 'prg2006'\n",
       "\\item 'se2006'\n",
       "\\item 'sq2006'\n",
       "\\item 'yi2006'\n",
       "\\end{enumerate*}\n"
      ],
      "text/markdown": [
       "1. 'all2006'\n",
       "2. 'cmc2006'\n",
       "3. 'ee2006'\n",
       "4. 'ne2006'\n",
       "5. 'prg2006'\n",
       "6. 'se2006'\n",
       "7. 'sq2006'\n",
       "8. 'yi2006'\n",
       "\n",
       "\n"
      ],
      "text/plain": [
       "[1] \"all2006\" \"cmc2006\" \"ee2006\"  \"ne2006\"  \"prg2006\" \"se2006\"  \"sq2006\" \n",
       "[8] \"yi2006\" "
      ]
     },
     "metadata": {},
     "output_type": "display_data"
    }
   ],
   "source": [
    "# 所有的全局变量\n",
    "objects()\n",
    "# 新生成的对象\n",
    "objects()[grep(\"2006\", objects())]"
   ]
  },
  {
   "cell_type": "code",
   "execution_count": 38,
   "metadata": {
    "ExecuteTime": {
     "end_time": "2018-05-29T09:00:15.390299Z",
     "start_time": "2018-05-29T09:00:14.148Z"
    }
   },
   "outputs": [
    {
     "data": {
      "text/html": [
       "<table>\n",
       "<thead><tr><th></th><th scope=col>Case_No</th><th scope=col>Processing_Center</th><th scope=col>Final_Case_Status</th><th scope=col>Received_Date</th><th scope=col>Certified_Date</th><th scope=col>Denied_Date</th><th scope=col>Employer_Name</th><th scope=col>Employer_Address_1</th><th scope=col>Employer_Address_2</th><th scope=col>Employer_City</th><th scope=col>⋯</th><th scope=col>Wage_Offered_To</th><th scope=col>Wage_Per</th><th scope=col>Prevailing_Wage_Job_Title</th><th scope=col>Prevailing_Wage_Amount</th><th scope=col>Prevailing_Wage_Level</th><th scope=col>Prevailing_Wage_SOC_CODE</th><th scope=col>Prevailing_Wage_SOC_Title</th><th scope=col>Prevailing_Wage_Source</th><th scope=col>Prevailing_Wage_Other_Source</th><th scope=col>rat</th></tr></thead>\n",
       "<tbody>\n",
       "\t<tr><th scope=row>4</th><td>A-05273-38122               </td><td>Atlanta Processing Center   </td><td>Denied                      </td><td>10/2/2005 0:00:00           </td><td>NA                          </td><td>10/2/2005 9:50:15           </td><td>NIPPON EXPRESS USA          </td><td>590 MADISON AVE.            </td><td>SUITE 2401                  </td><td>NEW YORK                    </td><td>⋯                           </td><td>NA                          </td><td>Year                        </td><td>Senior Logistics Coordinator</td><td>61818                       </td><td>Level II                    </td><td>11-3071.01                  </td><td>Transportation Managers     </td><td>OES                         </td><td>                            </td><td>1.002944                    </td></tr>\n",
       "</tbody>\n",
       "</table>\n"
      ],
      "text/latex": [
       "\\begin{tabular}{r|lllllllllllllllllllllllll}\n",
       "  & Case\\_No & Processing\\_Center & Final\\_Case\\_Status & Received\\_Date & Certified\\_Date & Denied\\_Date & Employer\\_Name & Employer\\_Address\\_1 & Employer\\_Address\\_2 & Employer\\_City & ⋯ & Wage\\_Offered\\_To & Wage\\_Per & Prevailing\\_Wage\\_Job\\_Title & Prevailing\\_Wage\\_Amount & Prevailing\\_Wage\\_Level & Prevailing\\_Wage\\_SOC\\_CODE & Prevailing\\_Wage\\_SOC\\_Title & Prevailing\\_Wage\\_Source & Prevailing\\_Wage\\_Other\\_Source & rat\\\\\n",
       "\\hline\n",
       "\t4 & A-05273-38122                & Atlanta Processing Center    & Denied                       & 10/2/2005 0:00:00            & NA                           & 10/2/2005 9:50:15            & NIPPON EXPRESS USA           & 590 MADISON AVE.             & SUITE 2401                   & NEW YORK                     & ⋯                            & NA                           & Year                         & Senior Logistics Coordinator & 61818                        & Level II                     & 11-3071.01                   & Transportation Managers      & OES                          &                              & 1.002944                    \\\\\n",
       "\\end{tabular}\n"
      ],
      "text/markdown": [
       "\n",
       "| <!--/--> | Case_No | Processing_Center | Final_Case_Status | Received_Date | Certified_Date | Denied_Date | Employer_Name | Employer_Address_1 | Employer_Address_2 | Employer_City | ⋯ | Wage_Offered_To | Wage_Per | Prevailing_Wage_Job_Title | Prevailing_Wage_Amount | Prevailing_Wage_Level | Prevailing_Wage_SOC_CODE | Prevailing_Wage_SOC_Title | Prevailing_Wage_Source | Prevailing_Wage_Other_Source | rat | \n",
       "|---|\n",
       "| 4 | A-05273-38122                | Atlanta Processing Center    | Denied                       | 10/2/2005 0:00:00            | NA                           | 10/2/2005 9:50:15            | NIPPON EXPRESS USA           | 590 MADISON AVE.             | SUITE 2401                   | NEW YORK                     | ⋯                            | NA                           | Year                         | Senior Logistics Coordinator | 61818                        | Level II                     | 11-3071.01                   | Transportation Managers      | OES                          |                              | 1.002944                     | \n",
       "\n",
       "\n"
      ],
      "text/plain": [
       "  Case_No       Processing_Center         Final_Case_Status Received_Date    \n",
       "4 A-05273-38122 Atlanta Processing Center Denied            10/2/2005 0:00:00\n",
       "  Certified_Date Denied_Date       Employer_Name      Employer_Address_1\n",
       "4 NA             10/2/2005 9:50:15 NIPPON EXPRESS USA 590 MADISON AVE.  \n",
       "  Employer_Address_2 Employer_City ⋯ Wage_Offered_To Wage_Per\n",
       "4 SUITE 2401         NEW YORK      ⋯ NA              Year    \n",
       "  Prevailing_Wage_Job_Title    Prevailing_Wage_Amount Prevailing_Wage_Level\n",
       "4 Senior Logistics Coordinator 61818                  Level II             \n",
       "  Prevailing_Wage_SOC_CODE Prevailing_Wage_SOC_Title Prevailing_Wage_Source\n",
       "4 11-3071.01               Transportation Managers   OES                   \n",
       "  Prevailing_Wage_Other_Source rat     \n",
       "4                              1.002944"
      ]
     },
     "metadata": {},
     "output_type": "display_data"
    }
   ],
   "source": [
    "ne2006"
   ]
  },
  {
   "cell_type": "markdown",
   "metadata": {},
   "source": [
    "### 5.3 合并(Merging Data Frames)\n",
    "关系性数据库使用`join`较多，就是根据者某个共同变量的值将两个数据表合并起来。这在\n",
    "R中通过`merge`函数就可以实现。"
   ]
  },
  {
   "cell_type": "code",
   "execution_count": 57,
   "metadata": {
    "ExecuteTime": {
     "end_time": "2018-05-29T09:22:45.812195Z",
     "start_time": "2018-05-29T09:22:45.768Z"
    }
   },
   "outputs": [
    {
     "data": {
      "text/html": [
       "<table>\n",
       "<thead><tr><th scope=col>kids</th><th scope=col>states</th></tr></thead>\n",
       "<tbody>\n",
       "\t<tr><td>Jack   </td><td>CA     </td></tr>\n",
       "\t<tr><td>Jill   </td><td>MA     </td></tr>\n",
       "\t<tr><td>Jillian</td><td>MA     </td></tr>\n",
       "\t<tr><td>Jhon   </td><td>HI     </td></tr>\n",
       "</tbody>\n",
       "</table>\n"
      ],
      "text/latex": [
       "\\begin{tabular}{r|ll}\n",
       " kids & states\\\\\n",
       "\\hline\n",
       "\t Jack    & CA     \\\\\n",
       "\t Jill    & MA     \\\\\n",
       "\t Jillian & MA     \\\\\n",
       "\t Jhon    & HI     \\\\\n",
       "\\end{tabular}\n"
      ],
      "text/markdown": [
       "\n",
       "kids | states | \n",
       "|---|---|---|---|\n",
       "| Jack    | CA      | \n",
       "| Jill    | MA      | \n",
       "| Jillian | MA      | \n",
       "| Jhon    | HI      | \n",
       "\n",
       "\n"
      ],
      "text/plain": [
       "  kids    states\n",
       "1 Jack    CA    \n",
       "2 Jill    MA    \n",
       "3 Jillian MA    \n",
       "4 Jhon    HI    "
      ]
     },
     "metadata": {},
     "output_type": "display_data"
    },
    {
     "data": {
      "text/html": [
       "<table>\n",
       "<thead><tr><th scope=col>ages</th><th scope=col>kids</th></tr></thead>\n",
       "<tbody>\n",
       "\t<tr><td>10     </td><td>Jill   </td></tr>\n",
       "\t<tr><td> 7     </td><td>Lillian</td></tr>\n",
       "\t<tr><td>12     </td><td>Jack   </td></tr>\n",
       "</tbody>\n",
       "</table>\n"
      ],
      "text/latex": [
       "\\begin{tabular}{r|ll}\n",
       " ages & kids\\\\\n",
       "\\hline\n",
       "\t 10      & Jill   \\\\\n",
       "\t  7      & Lillian\\\\\n",
       "\t 12      & Jack   \\\\\n",
       "\\end{tabular}\n"
      ],
      "text/markdown": [
       "\n",
       "ages | kids | \n",
       "|---|---|---|\n",
       "| 10      | Jill    | \n",
       "|  7      | Lillian | \n",
       "| 12      | Jack    | \n",
       "\n",
       "\n"
      ],
      "text/plain": [
       "  ages kids   \n",
       "1 10   Jill   \n",
       "2  7   Lillian\n",
       "3 12   Jack   "
      ]
     },
     "metadata": {},
     "output_type": "display_data"
    }
   ],
   "source": [
    "d1 <- data.frame(kids=c(\"Jack\", \"Jill\", \"Jillian\", \"Jhon\"),\n",
    "                states=c(\"CA\", \"MA\", \"MA\", \"HI\"),\n",
    "                stringsAsFactors=FALSE)\n",
    "d1\n",
    "\n",
    "d2 <- data.frame(ages=c(10, 7, 12), \n",
    "                 kids=c(\"Jill\", \"Lillian\", \"Jack\"),\n",
    "                 stringsAsFactors=FALSE)\n",
    "d2"
   ]
  },
  {
   "cell_type": "code",
   "execution_count": 58,
   "metadata": {
    "ExecuteTime": {
     "end_time": "2018-05-29T09:22:48.747720Z",
     "start_time": "2018-05-29T09:22:48.714Z"
    }
   },
   "outputs": [
    {
     "data": {
      "text/html": [
       "<table>\n",
       "<thead><tr><th scope=col>kids</th><th scope=col>states</th><th scope=col>ages</th></tr></thead>\n",
       "<tbody>\n",
       "\t<tr><td>Jack</td><td>CA  </td><td>12  </td></tr>\n",
       "\t<tr><td>Jill</td><td>MA  </td><td>10  </td></tr>\n",
       "</tbody>\n",
       "</table>\n"
      ],
      "text/latex": [
       "\\begin{tabular}{r|lll}\n",
       " kids & states & ages\\\\\n",
       "\\hline\n",
       "\t Jack & CA   & 12  \\\\\n",
       "\t Jill & MA   & 10  \\\\\n",
       "\\end{tabular}\n"
      ],
      "text/markdown": [
       "\n",
       "kids | states | ages | \n",
       "|---|---|\n",
       "| Jack | CA   | 12   | \n",
       "| Jill | MA   | 10   | \n",
       "\n",
       "\n"
      ],
      "text/plain": [
       "  kids states ages\n",
       "1 Jack CA     12  \n",
       "2 Jill MA     10  "
      ]
     },
     "metadata": {},
     "output_type": "display_data"
    }
   ],
   "source": [
    "d <- merge(d1, d2)\n",
    "d"
   ]
  },
  {
   "cell_type": "markdown",
   "metadata": {},
   "source": [
    "这里，R将两个表中含有相同`kids`值的行提取出来，并将各自含有的其他变量\n",
    "（states, ages）合并到新的`data frame`中。"
   ]
  },
  {
   "cell_type": "code",
   "execution_count": 59,
   "metadata": {
    "ExecuteTime": {
     "end_time": "2018-05-29T09:22:51.083999Z",
     "start_time": "2018-05-29T09:22:51.059Z"
    }
   },
   "outputs": [
    {
     "data": {
      "text/html": [
       "<table>\n",
       "<thead><tr><th scope=col>ages</th><th scope=col>pals</th></tr></thead>\n",
       "<tbody>\n",
       "\t<tr><td>12     </td><td>Jack   </td></tr>\n",
       "\t<tr><td>10     </td><td>Jill   </td></tr>\n",
       "\t<tr><td> 7     </td><td>Lillian</td></tr>\n",
       "</tbody>\n",
       "</table>\n"
      ],
      "text/latex": [
       "\\begin{tabular}{r|ll}\n",
       " ages & pals\\\\\n",
       "\\hline\n",
       "\t 12      & Jack   \\\\\n",
       "\t 10      & Jill   \\\\\n",
       "\t  7      & Lillian\\\\\n",
       "\\end{tabular}\n"
      ],
      "text/markdown": [
       "\n",
       "ages | pals | \n",
       "|---|---|---|\n",
       "| 12      | Jack    | \n",
       "| 10      | Jill    | \n",
       "|  7      | Lillian | \n",
       "\n",
       "\n"
      ],
      "text/plain": [
       "  ages pals   \n",
       "1 12   Jack   \n",
       "2 10   Jill   \n",
       "3  7   Lillian"
      ]
     },
     "metadata": {},
     "output_type": "display_data"
    }
   ],
   "source": [
    "d3 <- data.frame(ages=c(12, 10, 7), \n",
    "                 pals=c(\"Jack\", \"Jill\", \"Lillian\"),\n",
    "                 stringsAsFactors=FALSE)\n",
    "d3"
   ]
  },
  {
   "cell_type": "code",
   "execution_count": 60,
   "metadata": {
    "ExecuteTime": {
     "end_time": "2018-05-29T09:22:53.629499Z",
     "start_time": "2018-05-29T09:22:53.600Z"
    }
   },
   "outputs": [
    {
     "data": {
      "text/html": [
       "<table>\n",
       "<thead><tr><th scope=col>kids</th><th scope=col>states</th><th scope=col>ages</th></tr></thead>\n",
       "<tbody>\n",
       "\t<tr><td>Jack</td><td>CA  </td><td>12  </td></tr>\n",
       "\t<tr><td>Jill</td><td>MA  </td><td>10  </td></tr>\n",
       "</tbody>\n",
       "</table>\n"
      ],
      "text/latex": [
       "\\begin{tabular}{r|lll}\n",
       " kids & states & ages\\\\\n",
       "\\hline\n",
       "\t Jack & CA   & 12  \\\\\n",
       "\t Jill & MA   & 10  \\\\\n",
       "\\end{tabular}\n"
      ],
      "text/markdown": [
       "\n",
       "kids | states | ages | \n",
       "|---|---|\n",
       "| Jack | CA   | 12   | \n",
       "| Jill | MA   | 10   | \n",
       "\n",
       "\n"
      ],
      "text/plain": [
       "  kids states ages\n",
       "1 Jack CA     12  \n",
       "2 Jill MA     10  "
      ]
     },
     "metadata": {},
     "output_type": "display_data"
    }
   ],
   "source": [
    "# 共同变量名字不一致时，可以通过by.x, by.y指定\n",
    "merge(d1, d3, by.x = \"kids\", by.y = \"pals\")"
   ]
  },
  {
   "cell_type": "code",
   "execution_count": 61,
   "metadata": {
    "ExecuteTime": {
     "end_time": "2018-05-29T09:22:55.076409Z",
     "start_time": "2018-05-29T09:22:55.050Z"
    }
   },
   "outputs": [
    {
     "data": {
      "text/html": [
       "<table>\n",
       "<thead><tr><th scope=col>kids</th><th scope=col>states</th></tr></thead>\n",
       "<tbody>\n",
       "\t<tr><td>Jack   </td><td>CA     </td></tr>\n",
       "\t<tr><td>Jill   </td><td>MA     </td></tr>\n",
       "\t<tr><td>Jillian</td><td>MA     </td></tr>\n",
       "\t<tr><td>Jhon   </td><td>HI     </td></tr>\n",
       "</tbody>\n",
       "</table>\n"
      ],
      "text/latex": [
       "\\begin{tabular}{r|ll}\n",
       " kids & states\\\\\n",
       "\\hline\n",
       "\t Jack    & CA     \\\\\n",
       "\t Jill    & MA     \\\\\n",
       "\t Jillian & MA     \\\\\n",
       "\t Jhon    & HI     \\\\\n",
       "\\end{tabular}\n"
      ],
      "text/markdown": [
       "\n",
       "kids | states | \n",
       "|---|---|---|---|\n",
       "| Jack    | CA      | \n",
       "| Jill    | MA      | \n",
       "| Jillian | MA      | \n",
       "| Jhon    | HI      | \n",
       "\n",
       "\n"
      ],
      "text/plain": [
       "  kids    states\n",
       "1 Jack    CA    \n",
       "2 Jill    MA    \n",
       "3 Jillian MA    \n",
       "4 Jhon    HI    "
      ]
     },
     "metadata": {},
     "output_type": "display_data"
    }
   ],
   "source": [
    "# 重复值的情况\n",
    "d1"
   ]
  },
  {
   "cell_type": "code",
   "execution_count": 62,
   "metadata": {
    "ExecuteTime": {
     "end_time": "2018-05-29T09:22:56.644053Z",
     "start_time": "2018-05-29T09:22:56.614Z"
    }
   },
   "outputs": [
    {
     "data": {
      "text/html": [
       "<table>\n",
       "<thead><tr><th scope=col>ages</th><th scope=col>kids</th></tr></thead>\n",
       "<tbody>\n",
       "\t<tr><td>10     </td><td>Jill   </td></tr>\n",
       "\t<tr><td> 7     </td><td>Lillian</td></tr>\n",
       "\t<tr><td>12     </td><td>Jack   </td></tr>\n",
       "\t<tr><td>15     </td><td>Jill   </td></tr>\n",
       "</tbody>\n",
       "</table>\n"
      ],
      "text/latex": [
       "\\begin{tabular}{r|ll}\n",
       " ages & kids\\\\\n",
       "\\hline\n",
       "\t 10      & Jill   \\\\\n",
       "\t  7      & Lillian\\\\\n",
       "\t 12      & Jack   \\\\\n",
       "\t 15      & Jill   \\\\\n",
       "\\end{tabular}\n"
      ],
      "text/markdown": [
       "\n",
       "ages | kids | \n",
       "|---|---|---|---|\n",
       "| 10      | Jill    | \n",
       "|  7      | Lillian | \n",
       "| 12      | Jack    | \n",
       "| 15      | Jill    | \n",
       "\n",
       "\n"
      ],
      "text/plain": [
       "  ages kids   \n",
       "1 10   Jill   \n",
       "2  7   Lillian\n",
       "3 12   Jack   \n",
       "4 15   Jill   "
      ]
     },
     "metadata": {},
     "output_type": "display_data"
    }
   ],
   "source": [
    "d2a <- rbind(d2, list(15, \"Jill\"))\n",
    "d2a"
   ]
  },
  {
   "cell_type": "code",
   "execution_count": 63,
   "metadata": {
    "ExecuteTime": {
     "end_time": "2018-05-29T09:23:08.830056Z",
     "start_time": "2018-05-29T09:23:08.792Z"
    }
   },
   "outputs": [
    {
     "data": {
      "text/html": [
       "<table>\n",
       "<thead><tr><th scope=col>kids</th><th scope=col>states</th><th scope=col>ages</th></tr></thead>\n",
       "<tbody>\n",
       "\t<tr><td>Jack</td><td>CA  </td><td>12  </td></tr>\n",
       "\t<tr><td>Jill</td><td>MA  </td><td>10  </td></tr>\n",
       "\t<tr><td>Jill</td><td>MA  </td><td>15  </td></tr>\n",
       "</tbody>\n",
       "</table>\n"
      ],
      "text/latex": [
       "\\begin{tabular}{r|lll}\n",
       " kids & states & ages\\\\\n",
       "\\hline\n",
       "\t Jack & CA   & 12  \\\\\n",
       "\t Jill & MA   & 10  \\\\\n",
       "\t Jill & MA   & 15  \\\\\n",
       "\\end{tabular}\n"
      ],
      "text/markdown": [
       "\n",
       "kids | states | ages | \n",
       "|---|---|---|\n",
       "| Jack | CA   | 12   | \n",
       "| Jill | MA   | 10   | \n",
       "| Jill | MA   | 15   | \n",
       "\n",
       "\n"
      ],
      "text/plain": [
       "  kids states ages\n",
       "1 Jack CA     12  \n",
       "2 Jill MA     10  \n",
       "3 Jill MA     15  "
      ]
     },
     "metadata": {},
     "output_type": "display_data"
    }
   ],
   "source": [
    "merge(d1, d2a)"
   ]
  },
  {
   "cell_type": "markdown",
   "metadata": {},
   "source": [
    "以上看到，其中一个数据集有重复的时候，合并后扔保留，造成数据混乱。\n",
    "者要求我们慎重选择匹配的共同变量，尽量避免这种情况发生。"
   ]
  },
  {
   "cell_type": "markdown",
   "metadata": {},
   "source": [
    "#### 5.3.1 拓展：员工数据库(Extended Example: An Employee Database)"
   ]
  },
  {
   "cell_type": "code",
   "execution_count": null,
   "metadata": {},
   "outputs": [],
   "source": []
  }
 ],
 "metadata": {
  "kernelspec": {
   "display_name": "R 3.4",
   "language": "R",
   "name": "ir34"
  },
  "language_info": {
   "codemirror_mode": "r",
   "file_extension": ".r",
   "mimetype": "text/x-r-source",
   "name": "R",
   "pygments_lexer": "r",
   "version": "3.4.4"
  },
  "toc": {
   "nav_menu": {},
   "number_sections": false,
   "sideBar": true,
   "skip_h1_title": false,
   "title_cell": "Table of Contents",
   "title_sidebar": "Contents",
   "toc_cell": true,
   "toc_position": {
    "height": "calc(100% - 180px)",
    "left": "10px",
    "top": "150px",
    "width": "225px"
   },
   "toc_section_display": true,
   "toc_window_display": true
  }
 },
 "nbformat": 4,
 "nbformat_minor": 2
}
