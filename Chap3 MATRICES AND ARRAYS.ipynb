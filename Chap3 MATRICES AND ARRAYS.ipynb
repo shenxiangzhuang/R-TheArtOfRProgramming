{
 "cells": [
  {
   "cell_type": "markdown",
   "metadata": {
    "toc": true
   },
   "source": [
    "<h1>Table of Contents<span class=\"tocSkip\"></span></h1>\n",
    "<div class=\"toc\"><ul class=\"toc-item\"><li><span><a href=\"#Chap3-Matrices-and-Arrays\" data-toc-modified-id=\"Chap3-Matrices-and-Arrays-1\">Chap3 Matrices and Arrays</a></span><ul class=\"toc-item\"><li><span><a href=\"#3.1-创建Matrices(Creating-Matrices)\" data-toc-modified-id=\"3.1-创建Matrices(Creating-Matrices)-1.1\">3.1 创建Matrices(Creating Matrices)</a></span><ul class=\"toc-item\"><li><span><a href=\"#matrix函数\" data-toc-modified-id=\"matrix函数-1.1.1\">matrix函数</a></span></li></ul></li><li><span><a href=\"#3.2-操作Matrix(General-Matrix-Operations)\" data-toc-modified-id=\"3.2-操作Matrix(General-Matrix-Operations)-1.2\">3.2 操作Matrix(General Matrix Operations)</a></span><ul class=\"toc-item\"><li><span><a href=\"#3.2.1-线性代数（Performing-Linear-Algebra-Operations-on-Matrices）\" data-toc-modified-id=\"3.2.1-线性代数（Performing-Linear-Algebra-Operations-on-Matrices）-1.2.1\">3.2.1 线性代数（Performing Linear Algebra Operations on Matrices）</a></span></li><li><span><a href=\"#3.2.2-矩阵索引(Matrix-Indexing)\" data-toc-modified-id=\"3.2.2-矩阵索引(Matrix-Indexing)-1.2.2\">3.2.2 矩阵索引(Matrix Indexing)</a></span></li><li><span><a href=\"#3.2.3-拓展：图片操作（Extended-Example:-Image-Manipulation）\" data-toc-modified-id=\"3.2.3-拓展：图片操作（Extended-Example:-Image-Manipulation）-1.2.3\">3.2.3 拓展：图片操作（Extended Example: Image Manipulation）</a></span></li><li><span><a href=\"#3.2.4-过滤(Filtering-on-Matrices)\" data-toc-modified-id=\"3.2.4-过滤(Filtering-on-Matrices)-1.2.4\">3.2.4 过滤(Filtering on Matrices)</a></span></li><li><span><a href=\"#3.2.5-拓展：创建协差阵(Extended-Example:-Generating-a-Covariance-Matrix)\" data-toc-modified-id=\"3.2.5-拓展：创建协差阵(Extended-Example:-Generating-a-Covariance-Matrix)-1.2.5\">3.2.5 拓展：创建协差阵(Extended Example: Generating a Covariance Matrix)</a></span></li></ul></li><li><span><a href=\"#3.3-函数与矩阵(Applying-Functions-to-Matrix-Rows-and-Columns)\" data-toc-modified-id=\"3.3-函数与矩阵(Applying-Functions-to-Matrix-Rows-and-Columns)-1.3\">3.3 函数与矩阵(Applying Functions to Matrix Rows and Columns)</a></span><ul class=\"toc-item\"><li><span><a href=\"#3.3.1-apply函数的使用(Using-the-apply()-Function)\" data-toc-modified-id=\"3.3.1-apply函数的使用(Using-the-apply()-Function)-1.3.1\">3.3.1 apply函数的使用(Using the apply() Function)</a></span></li><li><span><a href=\"#3.3.2-拓展：寻找异常值点(Extended-Example:-Finding-Outliers)\" data-toc-modified-id=\"3.3.2-拓展：寻找异常值点(Extended-Example:-Finding-Outliers)-1.3.2\">3.3.2 拓展：寻找异常值点(Extended Example: Finding Outliers)</a></span></li></ul></li><li><span><a href=\"#3.4-矩阵行列增删(Adding-and-Deleting-Matrix-Rows-and-Columns)\" data-toc-modified-id=\"3.4-矩阵行列增删(Adding-and-Deleting-Matrix-Rows-and-Columns)-1.4\">3.4 矩阵行列增删(Adding and Deleting Matrix Rows and Columns)</a></span><ul class=\"toc-item\"><li><span><a href=\"#3.4.1-改变矩阵大小（Changing-the-Size-of-a-Matrix）\" data-toc-modified-id=\"3.4.1-改变矩阵大小（Changing-the-Size-of-a-Matrix）-1.4.1\">3.4.1 改变矩阵大小（Changing the Size of a Matrix）</a></span></li><li><span><a href=\"#3.4.2-拓展：寻找图中最近顶点(-Extended-Example:-Finding-the-Closest-Pair-of-Vertices-in-a-Graph)\" data-toc-modified-id=\"3.4.2-拓展：寻找图中最近顶点(-Extended-Example:-Finding-the-Closest-Pair-of-Vertices-in-a-Graph)-1.4.2\">3.4.2 拓展：寻找图中最近顶点( Extended Example: Finding the Closest Pair of Vertices in a Graph)</a></span></li></ul></li><li><span><a href=\"#3.5-Vector与Matrix的区别(More-on-the-Vector/Matrix-Distinction)\" data-toc-modified-id=\"3.5-Vector与Matrix的区别(More-on-the-Vector/Matrix-Distinction)-1.5\">3.5 Vector与Matrix的区别(More on the Vector/Matrix Distinction)</a></span></li><li><span><a href=\"#3.6-避免意外去除维度属性(Avoiding-Unintended-Dimension-Reduction)\" data-toc-modified-id=\"3.6-避免意外去除维度属性(Avoiding-Unintended-Dimension-Reduction)-1.6\">3.6 避免意外去除维度属性(Avoiding Unintended Dimension Reduction)</a></span></li><li><span><a href=\"#3.7-为行列命名（Naming-Matrix-Rows-and-Columns）\" data-toc-modified-id=\"3.7-为行列命名（Naming-Matrix-Rows-and-Columns）-1.7\">3.7 为行列命名（Naming Matrix Rows and Columns）</a></span></li><li><span><a href=\"#3.8-高阶数组(Higher-Dimensional-Arrays)\" data-toc-modified-id=\"3.8-高阶数组(Higher-Dimensional-Arrays)-1.8\">3.8 高阶数组(Higher-Dimensional Arrays)</a></span></li></ul></li></ul></div>"
   ]
  },
  {
   "cell_type": "markdown",
   "metadata": {},
   "source": [
    "## Chap3 Matrices and Arrays\n",
    "\n",
    "本质上说，matrix在vector的基础上增加行列属性(two additional attributes: the number of rows and the number of columns)。\n",
    "而因为matrix是vector, 所以它和vector一样都有mode,为numeric 或character等。但是，另一方面， <span class=\"burk\">vector并不是one-column or one-row matrices</span>, 原因很简单——如上所言，vector不具备行列属性。\n",
    "\n",
    "另外，matrixces也可以看作是arrays的特例，arrays可以是任意维度的数据，matrix是包含二维数据的情形。"
   ]
  },
  {
   "cell_type": "markdown",
   "metadata": {},
   "source": [
    "### 3.1 创建Matrices(Creating Matrices)"
   ]
  },
  {
   "cell_type": "markdown",
   "metadata": {},
   "source": [
    "#### matrix函数"
   ]
  },
  {
   "cell_type": "code",
   "execution_count": 1,
   "metadata": {
    "ExecuteTime": {
     "end_time": "2018-05-19T17:36:59.786218Z",
     "start_time": "2018-05-19T17:36:59.392Z"
    }
   },
   "outputs": [
    {
     "data": {
      "text/html": [
       "<table>\n",
       "<tbody>\n",
       "\t<tr><td>1</td><td>3</td></tr>\n",
       "\t<tr><td>2</td><td>4</td></tr>\n",
       "</tbody>\n",
       "</table>\n"
      ],
      "text/latex": [
       "\\begin{tabular}{ll}\n",
       "\t 1 & 3\\\\\n",
       "\t 2 & 4\\\\\n",
       "\\end{tabular}\n"
      ],
      "text/markdown": [
       "\n",
       "| 1 | 3 | \n",
       "| 2 | 4 | \n",
       "\n",
       "\n"
      ],
      "text/plain": [
       "     [,1] [,2]\n",
       "[1,] 1    3   \n",
       "[2,] 2    4   "
      ]
     },
     "metadata": {},
     "output_type": "display_data"
    }
   ],
   "source": [
    "y <- matrix(c(1,2,3,4), nrow=2)\n",
    "y"
   ]
  },
  {
   "cell_type": "markdown",
   "metadata": {},
   "source": [
    "注意：R在内部储存matrix是使用column-major的策略，也就是按照列来把拼接数据起来，这里就是以(1,2,3,4)\n",
    "存储在内部，这也使得在用matrix创建矩阵的时候也是按照来分配数据。\n",
    "\n",
    "另外，此处可以只指定`nrow=2`,因为R会根据数据长度自动计算出对应多少列，当然`nrow=2, ncol=2`也是可以的。"
   ]
  },
  {
   "cell_type": "code",
   "execution_count": 2,
   "metadata": {
    "ExecuteTime": {
     "end_time": "2018-05-19T17:36:59.914296Z",
     "start_time": "2018-05-19T17:36:59.402Z"
    }
   },
   "outputs": [
    {
     "data": {
      "text/html": [
       "<ol class=list-inline>\n",
       "\t<li>3</li>\n",
       "\t<li>4</li>\n",
       "</ol>\n"
      ],
      "text/latex": [
       "\\begin{enumerate*}\n",
       "\\item 3\n",
       "\\item 4\n",
       "\\end{enumerate*}\n"
      ],
      "text/markdown": [
       "1. 3\n",
       "2. 4\n",
       "\n",
       "\n"
      ],
      "text/plain": [
       "[1] 3 4"
      ]
     },
     "metadata": {},
     "output_type": "display_data"
    },
    {
     "data": {
      "text/html": [
       "<ol class=list-inline>\n",
       "\t<li>3</li>\n",
       "\t<li>4</li>\n",
       "</ol>\n"
      ],
      "text/latex": [
       "\\begin{enumerate*}\n",
       "\\item 3\n",
       "\\item 4\n",
       "\\end{enumerate*}\n"
      ],
      "text/markdown": [
       "1. 3\n",
       "2. 4\n",
       "\n",
       "\n"
      ],
      "text/plain": [
       "[1] 3 4"
      ]
     },
     "metadata": {},
     "output_type": "display_data"
    }
   ],
   "source": [
    "y[, 2]\n",
    "\n",
    "y[, 2:2]"
   ]
  },
  {
   "cell_type": "markdown",
   "metadata": {},
   "source": [
    "注意：这里也可以直接索引选取某几行或某几列。由于在Jupyter写会自动优化输出，\n",
    "所以行列的默认索引符号都不见了，在R终端中是可以看到和书上一样的标记的。"
   ]
  },
  {
   "cell_type": "code",
   "execution_count": 3,
   "metadata": {
    "ExecuteTime": {
     "end_time": "2018-05-19T17:36:59.980566Z",
     "start_time": "2018-05-19T17:36:59.411Z"
    }
   },
   "outputs": [
    {
     "data": {
      "text/html": [
       "<table>\n",
       "<tbody>\n",
       "\t<tr><td>1</td><td>3</td></tr>\n",
       "\t<tr><td>2</td><td>4</td></tr>\n",
       "</tbody>\n",
       "</table>\n"
      ],
      "text/latex": [
       "\\begin{tabular}{ll}\n",
       "\t 1 & 3\\\\\n",
       "\t 2 & 4\\\\\n",
       "\\end{tabular}\n"
      ],
      "text/markdown": [
       "\n",
       "| 1 | 3 | \n",
       "| 2 | 4 | \n",
       "\n",
       "\n"
      ],
      "text/plain": [
       "     [,1] [,2]\n",
       "[1,] 1    3   \n",
       "[2,] 2    4   "
      ]
     },
     "metadata": {},
     "output_type": "display_data"
    }
   ],
   "source": [
    "# 也可以逐一指定各个数据来创建矩阵\n",
    "y <- matrix(nrow=2, ncol=2)  # 声明矩阵维度\n",
    "y[1, 1] <- 1\n",
    "y[2, 1] <- 2\n",
    "y[1, 2] <- 3\n",
    "y[2, 2] <- 4\n",
    "y"
   ]
  },
  {
   "cell_type": "markdown",
   "metadata": {},
   "source": [
    "如上所述，R是column-major来储存数据的，使得我们创建的matrix也是按照列来的。\n",
    "但是有时候我们想让数据按照行来分配，此时可以在matrix函数指定`byrow=TRUE`"
   ]
  },
  {
   "cell_type": "code",
   "execution_count": 4,
   "metadata": {
    "ExecuteTime": {
     "end_time": "2018-05-19T17:37:00.013177Z",
     "start_time": "2018-05-19T17:36:59.420Z"
    }
   },
   "outputs": [
    {
     "data": {
      "text/html": [
       "<table>\n",
       "<tbody>\n",
       "\t<tr><td>1</td><td>2</td><td>3</td></tr>\n",
       "\t<tr><td>4</td><td>5</td><td>6</td></tr>\n",
       "</tbody>\n",
       "</table>\n"
      ],
      "text/latex": [
       "\\begin{tabular}{lll}\n",
       "\t 1 & 2 & 3\\\\\n",
       "\t 4 & 5 & 6\\\\\n",
       "\\end{tabular}\n"
      ],
      "text/markdown": [
       "\n",
       "| 1 | 2 | 3 | \n",
       "| 4 | 5 | 6 | \n",
       "\n",
       "\n"
      ],
      "text/plain": [
       "     [,1] [,2] [,3]\n",
       "[1,] 1    2    3   \n",
       "[2,] 4    5    6   "
      ]
     },
     "metadata": {},
     "output_type": "display_data"
    }
   ],
   "source": [
    "m <- matrix(1:6, nrow=2, byrow = TRUE)\n",
    "m"
   ]
  },
  {
   "cell_type": "markdown",
   "metadata": {},
   "source": [
    "注意：这里指定了`byrow=TRUE`,只是告诉R在创建矩阵时按照行的顺序分配出去数据，而R内部依然是\n",
    "以column-major来进行存储数据的。"
   ]
  },
  {
   "cell_type": "markdown",
   "metadata": {},
   "source": [
    "### 3.2 操作Matrix(General Matrix Operations)"
   ]
  },
  {
   "cell_type": "markdown",
   "metadata": {},
   "source": [
    "#### 3.2.1 线性代数（Performing Linear Algebra Operations on Matrices）"
   ]
  },
  {
   "cell_type": "code",
   "execution_count": 5,
   "metadata": {
    "ExecuteTime": {
     "end_time": "2018-05-19T17:37:00.045411Z",
     "start_time": "2018-05-19T17:36:59.427Z"
    }
   },
   "outputs": [
    {
     "data": {
      "text/html": [
       "<table>\n",
       "<tbody>\n",
       "\t<tr><td>1</td><td>3</td></tr>\n",
       "\t<tr><td>2</td><td>4</td></tr>\n",
       "</tbody>\n",
       "</table>\n"
      ],
      "text/latex": [
       "\\begin{tabular}{ll}\n",
       "\t 1 & 3\\\\\n",
       "\t 2 & 4\\\\\n",
       "\\end{tabular}\n"
      ],
      "text/markdown": [
       "\n",
       "| 1 | 3 | \n",
       "| 2 | 4 | \n",
       "\n",
       "\n"
      ],
      "text/plain": [
       "     [,1] [,2]\n",
       "[1,] 1    3   \n",
       "[2,] 2    4   "
      ]
     },
     "metadata": {},
     "output_type": "display_data"
    }
   ],
   "source": [
    "y"
   ]
  },
  {
   "cell_type": "code",
   "execution_count": 6,
   "metadata": {
    "ExecuteTime": {
     "end_time": "2018-05-19T17:37:00.078727Z",
     "start_time": "2018-05-19T17:36:59.437Z"
    }
   },
   "outputs": [
    {
     "data": {
      "text/html": [
       "<table>\n",
       "<tbody>\n",
       "\t<tr><td> 7</td><td>15</td></tr>\n",
       "\t<tr><td>10</td><td>22</td></tr>\n",
       "</tbody>\n",
       "</table>\n"
      ],
      "text/latex": [
       "\\begin{tabular}{ll}\n",
       "\t  7 & 15\\\\\n",
       "\t 10 & 22\\\\\n",
       "\\end{tabular}\n"
      ],
      "text/markdown": [
       "\n",
       "|  7 | 15 | \n",
       "| 10 | 22 | \n",
       "\n",
       "\n"
      ],
      "text/plain": [
       "     [,1] [,2]\n",
       "[1,]  7   15  \n",
       "[2,] 10   22  "
      ]
     },
     "metadata": {},
     "output_type": "display_data"
    }
   ],
   "source": [
    "# 矩阵乘法\n",
    "y %*% y"
   ]
  },
  {
   "cell_type": "code",
   "execution_count": 7,
   "metadata": {
    "ExecuteTime": {
     "end_time": "2018-05-19T17:37:00.105160Z",
     "start_time": "2018-05-19T17:36:59.443Z"
    }
   },
   "outputs": [
    {
     "data": {
      "text/html": [
       "<table>\n",
       "<tbody>\n",
       "\t<tr><td>3 </td><td> 9</td></tr>\n",
       "\t<tr><td>6 </td><td>12</td></tr>\n",
       "</tbody>\n",
       "</table>\n"
      ],
      "text/latex": [
       "\\begin{tabular}{ll}\n",
       "\t 3  &  9\\\\\n",
       "\t 6  & 12\\\\\n",
       "\\end{tabular}\n"
      ],
      "text/markdown": [
       "\n",
       "| 3  |  9 | \n",
       "| 6  | 12 | \n",
       "\n",
       "\n"
      ],
      "text/plain": [
       "     [,1] [,2]\n",
       "[1,] 3     9  \n",
       "[2,] 6    12  "
      ]
     },
     "metadata": {},
     "output_type": "display_data"
    }
   ],
   "source": [
    "# 矩阵数乘\n",
    "3 * y"
   ]
  },
  {
   "cell_type": "code",
   "execution_count": 8,
   "metadata": {
    "ExecuteTime": {
     "end_time": "2018-05-19T17:37:00.165543Z",
     "start_time": "2018-05-19T17:36:59.455Z"
    }
   },
   "outputs": [
    {
     "data": {
      "text/html": [
       "<table>\n",
       "<tbody>\n",
       "\t<tr><td>2</td><td>6</td></tr>\n",
       "\t<tr><td>4</td><td>8</td></tr>\n",
       "</tbody>\n",
       "</table>\n"
      ],
      "text/latex": [
       "\\begin{tabular}{ll}\n",
       "\t 2 & 6\\\\\n",
       "\t 4 & 8\\\\\n",
       "\\end{tabular}\n"
      ],
      "text/markdown": [
       "\n",
       "| 2 | 6 | \n",
       "| 4 | 8 | \n",
       "\n",
       "\n"
      ],
      "text/plain": [
       "     [,1] [,2]\n",
       "[1,] 2    6   \n",
       "[2,] 4    8   "
      ]
     },
     "metadata": {},
     "output_type": "display_data"
    }
   ],
   "source": [
    "# 矩阵加法\n",
    "y + y"
   ]
  },
  {
   "cell_type": "markdown",
   "metadata": {},
   "source": [
    "#### 3.2.2 矩阵索引(Matrix Indexing)"
   ]
  },
  {
   "cell_type": "code",
   "execution_count": 9,
   "metadata": {
    "ExecuteTime": {
     "end_time": "2018-05-19T17:37:00.197130Z",
     "start_time": "2018-05-19T17:36:59.464Z"
    }
   },
   "outputs": [
    {
     "data": {
      "text/html": [
       "<table>\n",
       "<tbody>\n",
       "\t<tr><td>1</td><td>1</td><td>1</td></tr>\n",
       "\t<tr><td>2</td><td>1</td><td>0</td></tr>\n",
       "\t<tr><td>3</td><td>0</td><td>1</td></tr>\n",
       "\t<tr><td>4</td><td>0</td><td>0</td></tr>\n",
       "</tbody>\n",
       "</table>\n"
      ],
      "text/latex": [
       "\\begin{tabular}{lll}\n",
       "\t 1 & 1 & 1\\\\\n",
       "\t 2 & 1 & 0\\\\\n",
       "\t 3 & 0 & 1\\\\\n",
       "\t 4 & 0 & 0\\\\\n",
       "\\end{tabular}\n"
      ],
      "text/markdown": [
       "\n",
       "| 1 | 1 | 1 | \n",
       "| 2 | 1 | 0 | \n",
       "| 3 | 0 | 1 | \n",
       "| 4 | 0 | 0 | \n",
       "\n",
       "\n"
      ],
      "text/plain": [
       "     [,1] [,2] [,3]\n",
       "[1,] 1    1    1   \n",
       "[2,] 2    1    0   \n",
       "[3,] 3    0    1   \n",
       "[4,] 4    0    0   "
      ]
     },
     "metadata": {},
     "output_type": "display_data"
    }
   ],
   "source": [
    "z <- matrix(c(1,2,3,4,1,1,0,0,1,0,1,0), nrow = 4, ncol = 3)\n",
    "z"
   ]
  },
  {
   "cell_type": "code",
   "execution_count": 10,
   "metadata": {
    "ExecuteTime": {
     "end_time": "2018-05-19T17:37:00.231138Z",
     "start_time": "2018-05-19T17:36:59.475Z"
    }
   },
   "outputs": [
    {
     "data": {
      "text/html": [
       "<table>\n",
       "<tbody>\n",
       "\t<tr><td>1</td><td>1</td></tr>\n",
       "\t<tr><td>1</td><td>0</td></tr>\n",
       "\t<tr><td>0</td><td>1</td></tr>\n",
       "\t<tr><td>0</td><td>0</td></tr>\n",
       "</tbody>\n",
       "</table>\n"
      ],
      "text/latex": [
       "\\begin{tabular}{ll}\n",
       "\t 1 & 1\\\\\n",
       "\t 1 & 0\\\\\n",
       "\t 0 & 1\\\\\n",
       "\t 0 & 0\\\\\n",
       "\\end{tabular}\n"
      ],
      "text/markdown": [
       "\n",
       "| 1 | 1 | \n",
       "| 1 | 0 | \n",
       "| 0 | 1 | \n",
       "| 0 | 0 | \n",
       "\n",
       "\n"
      ],
      "text/plain": [
       "     [,1] [,2]\n",
       "[1,] 1    1   \n",
       "[2,] 1    0   \n",
       "[3,] 0    1   \n",
       "[4,] 0    0   "
      ]
     },
     "metadata": {},
     "output_type": "display_data"
    }
   ],
   "source": [
    "# 所有行，多列索引\n",
    "z[, 2:3]"
   ]
  },
  {
   "cell_type": "code",
   "execution_count": 11,
   "metadata": {
    "ExecuteTime": {
     "end_time": "2018-05-19T17:37:00.269611Z",
     "start_time": "2018-05-19T17:36:59.483Z"
    }
   },
   "outputs": [
    {
     "data": {
      "text/html": [
       "<table>\n",
       "<tbody>\n",
       "\t<tr><td>11</td><td>12</td></tr>\n",
       "\t<tr><td>21</td><td>22</td></tr>\n",
       "\t<tr><td>31</td><td>32</td></tr>\n",
       "</tbody>\n",
       "</table>\n"
      ],
      "text/latex": [
       "\\begin{tabular}{ll}\n",
       "\t 11 & 12\\\\\n",
       "\t 21 & 22\\\\\n",
       "\t 31 & 32\\\\\n",
       "\\end{tabular}\n"
      ],
      "text/markdown": [
       "\n",
       "| 11 | 12 | \n",
       "| 21 | 22 | \n",
       "| 31 | 32 | \n",
       "\n",
       "\n"
      ],
      "text/plain": [
       "     [,1] [,2]\n",
       "[1,] 11   12  \n",
       "[2,] 21   22  \n",
       "[3,] 31   32  "
      ]
     },
     "metadata": {},
     "output_type": "display_data"
    }
   ],
   "source": [
    "y <- matrix(c(11,21,31,12,22,32), nrow = 3)\n",
    "y"
   ]
  },
  {
   "cell_type": "code",
   "execution_count": 12,
   "metadata": {
    "ExecuteTime": {
     "end_time": "2018-05-19T17:37:00.296914Z",
     "start_time": "2018-05-19T17:36:59.491Z"
    }
   },
   "outputs": [
    {
     "data": {
      "text/html": [
       "<table>\n",
       "<tbody>\n",
       "\t<tr><td>21</td><td>22</td></tr>\n",
       "\t<tr><td>31</td><td>32</td></tr>\n",
       "</tbody>\n",
       "</table>\n"
      ],
      "text/latex": [
       "\\begin{tabular}{ll}\n",
       "\t 21 & 22\\\\\n",
       "\t 31 & 32\\\\\n",
       "\\end{tabular}\n"
      ],
      "text/markdown": [
       "\n",
       "| 21 | 22 | \n",
       "| 31 | 32 | \n",
       "\n",
       "\n"
      ],
      "text/plain": [
       "     [,1] [,2]\n",
       "[1,] 21   22  \n",
       "[2,] 31   32  "
      ]
     },
     "metadata": {},
     "output_type": "display_data"
    }
   ],
   "source": [
    "# 所有列多行索引\n",
    "y[2:3, ]"
   ]
  },
  {
   "cell_type": "code",
   "execution_count": 13,
   "metadata": {
    "ExecuteTime": {
     "end_time": "2018-05-19T17:37:00.319385Z",
     "start_time": "2018-05-19T17:36:59.498Z"
    }
   },
   "outputs": [
    {
     "data": {
      "text/html": [
       "<table>\n",
       "<tbody>\n",
       "\t<tr><td>111</td><td>311</td></tr>\n",
       "\t<tr><td> 21</td><td> 22</td></tr>\n",
       "\t<tr><td>112</td><td>332</td></tr>\n",
       "</tbody>\n",
       "</table>\n"
      ],
      "text/latex": [
       "\\begin{tabular}{ll}\n",
       "\t 111 & 311\\\\\n",
       "\t  21 &  22\\\\\n",
       "\t 112 & 332\\\\\n",
       "\\end{tabular}\n"
      ],
      "text/markdown": [
       "\n",
       "| 111 | 311 | \n",
       "|  21 |  22 | \n",
       "| 112 | 332 | \n",
       "\n",
       "\n"
      ],
      "text/plain": [
       "     [,1] [,2]\n",
       "[1,] 111  311 \n",
       "[2,]  21   22 \n",
       "[3,] 112  332 "
      ]
     },
     "metadata": {},
     "output_type": "display_data"
    }
   ],
   "source": [
    "# 给子矩阵赋值，改变原矩阵\n",
    "# 改变第1，3行的数据\n",
    "y[c(1,3), ] <- matrix(c(111, 112, 311, 332), nrow = 2)\n",
    "y"
   ]
  },
  {
   "cell_type": "markdown",
   "metadata": {},
   "source": [
    "有一点需要注意的就是，在R中重复创建matrix或vector会产生很大的消耗（主要是运行时间）\n",
    "所以一般要避免这种操作，比如在循环中扩增“vector或matrix，都是不可取的。一般对于这种\n",
    "情况可以考虑预先分配足够大的空间给vector或matrix,然后逐步”填充“。默认情况下未填充的\n",
    "位置为`NA`"
   ]
  },
  {
   "cell_type": "code",
   "execution_count": 14,
   "metadata": {
    "ExecuteTime": {
     "end_time": "2018-05-19T17:37:00.348155Z",
     "start_time": "2018-05-19T17:36:59.504Z"
    }
   },
   "outputs": [
    {
     "data": {
      "text/html": [
       "<table>\n",
       "<tbody>\n",
       "\t<tr><td>NA</td><td>NA</td><td>NA</td></tr>\n",
       "\t<tr><td>NA</td><td>NA</td><td>NA</td></tr>\n",
       "\t<tr><td>NA</td><td>NA</td><td>NA</td></tr>\n",
       "</tbody>\n",
       "</table>\n"
      ],
      "text/latex": [
       "\\begin{tabular}{lll}\n",
       "\t NA & NA & NA\\\\\n",
       "\t NA & NA & NA\\\\\n",
       "\t NA & NA & NA\\\\\n",
       "\\end{tabular}\n"
      ],
      "text/markdown": [
       "\n",
       "| NA | NA | NA | \n",
       "| NA | NA | NA | \n",
       "| NA | NA | NA | \n",
       "\n",
       "\n"
      ],
      "text/plain": [
       "     [,1] [,2] [,3]\n",
       "[1,] NA   NA   NA  \n",
       "[2,] NA   NA   NA  \n",
       "[3,] NA   NA   NA  "
      ]
     },
     "metadata": {},
     "output_type": "display_data"
    }
   ],
   "source": [
    "x <- matrix(nrow = 3, ncol = 3)\n",
    "x"
   ]
  },
  {
   "cell_type": "code",
   "execution_count": 15,
   "metadata": {
    "ExecuteTime": {
     "end_time": "2018-05-19T17:37:00.370368Z",
     "start_time": "2018-05-19T17:36:59.510Z"
    }
   },
   "outputs": [
    {
     "data": {
      "text/html": [
       "<table>\n",
       "<tbody>\n",
       "\t<tr><td>NA</td><td>NA</td><td>NA</td></tr>\n",
       "\t<tr><td>NA</td><td> 1</td><td> 3</td></tr>\n",
       "\t<tr><td>NA</td><td> 2</td><td> 4</td></tr>\n",
       "</tbody>\n",
       "</table>\n"
      ],
      "text/latex": [
       "\\begin{tabular}{lll}\n",
       "\t NA & NA & NA\\\\\n",
       "\t NA &  1 &  3\\\\\n",
       "\t NA &  2 &  4\\\\\n",
       "\\end{tabular}\n"
      ],
      "text/markdown": [
       "\n",
       "| NA | NA | NA | \n",
       "| NA |  1 |  3 | \n",
       "| NA |  2 |  4 | \n",
       "\n",
       "\n"
      ],
      "text/plain": [
       "     [,1] [,2] [,3]\n",
       "[1,] NA   NA   NA  \n",
       "[2,] NA    1    3  \n",
       "[3,] NA    2    4  "
      ]
     },
     "metadata": {},
     "output_type": "display_data"
    }
   ],
   "source": [
    "x[2:3, 2:3] <- c(1,2,3,4)\n",
    "x"
   ]
  },
  {
   "cell_type": "code",
   "execution_count": 16,
   "metadata": {
    "ExecuteTime": {
     "end_time": "2018-05-19T17:37:00.397117Z",
     "start_time": "2018-05-19T17:36:59.516Z"
    }
   },
   "outputs": [
    {
     "data": {
      "text/html": [
       "<table>\n",
       "<tbody>\n",
       "\t<tr><td>NA</td><td>1 </td><td>3 </td></tr>\n",
       "\t<tr><td>NA</td><td>2 </td><td>4 </td></tr>\n",
       "</tbody>\n",
       "</table>\n"
      ],
      "text/latex": [
       "\\begin{tabular}{lll}\n",
       "\t NA & 1  & 3 \\\\\n",
       "\t NA & 2  & 4 \\\\\n",
       "\\end{tabular}\n"
      ],
      "text/markdown": [
       "\n",
       "| NA | 1  | 3  | \n",
       "| NA | 2  | 4  | \n",
       "\n",
       "\n"
      ],
      "text/plain": [
       "     [,1] [,2] [,3]\n",
       "[1,] NA   1    3   \n",
       "[2,] NA   2    4   "
      ]
     },
     "metadata": {},
     "output_type": "display_data"
    }
   ],
   "source": [
    "# 负值索引，和vector类似，表示”去除“某行或某列后的数据\n",
    "# 去除第一行\n",
    "x[-1, ]"
   ]
  },
  {
   "cell_type": "markdown",
   "metadata": {},
   "source": [
    "#### 3.2.3 拓展：图片操作（Extended Example: Image Manipulation）\n",
    "\n",
    "此处选用的灰度图片是以矩阵的形式保存的，每个点的数值代表对应的灰度级。\n",
    "这里数值都在0.0（黑色）到1.0（白色）之间。"
   ]
  },
  {
   "cell_type": "code",
   "execution_count": 17,
   "metadata": {
    "ExecuteTime": {
     "end_time": "2018-05-19T17:37:00.505104Z",
     "start_time": "2018-05-19T17:36:59.523Z"
    }
   },
   "outputs": [
    {
     "name": "stderr",
     "output_type": "stream",
     "text": [
      "Warning message in rep(cellres, length = 2):\n",
      "“'x' is NULL so the result will be NULL”"
     ]
    },
    {
     "data": {
      "text/plain": [
       "Pixmap image\n",
       "  Type          : pixmapGrey \n",
       "  Size          : 194x259 \n",
       "  Resolution    : 1x1 \n",
       "  Bounding box  : 0 0 259 194 \n"
      ]
     },
     "metadata": {},
     "output_type": "display_data"
    }
   ],
   "source": [
    "library(pixmap)\n",
    "mtrush1 <- read.pnm(\"./data/mtrush1.pgm\")\n",
    "mtrush1"
   ]
  },
  {
   "cell_type": "code",
   "execution_count": 18,
   "metadata": {
    "ExecuteTime": {
     "end_time": "2018-05-19T17:37:00.533156Z",
     "start_time": "2018-05-19T17:36:59.529Z"
    }
   },
   "outputs": [
    {
     "name": "stdout",
     "output_type": "stream",
     "text": [
      "Formal class 'pixmapGrey' [package \"pixmap\"] with 6 slots\n",
      "  ..@ grey    : num [1:194, 1:259] 0.278 0.263 0.239 0.212 0.192 ...\n",
      "  ..@ channels: chr \"grey\"\n",
      "  ..@ size    : int [1:2] 194 259\n",
      "  ..@ cellres : num [1:2] 1 1\n",
      "  ..@ bbox    : num [1:4] 0 0 259 194\n",
      "  ..@ bbcent  : logi FALSE\n"
     ]
    }
   ],
   "source": [
    "str(mtrush1)"
   ]
  },
  {
   "cell_type": "markdown",
   "metadata": {},
   "source": [
    "注意，R语言起源自S语言，此处`@`是S4的用法，用来表示`class`的`components`，\n",
    "在S3中使用的是`$`"
   ]
  },
  {
   "cell_type": "code",
   "execution_count": 19,
   "metadata": {
    "ExecuteTime": {
     "end_time": "2018-05-19T17:37:00.559351Z",
     "start_time": "2018-05-19T17:36:59.539Z"
    }
   },
   "outputs": [
    {
     "data": {
      "text/html": [
       "0.796078431372549"
      ],
      "text/latex": [
       "0.796078431372549"
      ],
      "text/markdown": [
       "0.796078431372549"
      ],
      "text/plain": [
       "[1] 0.7960784"
      ]
     },
     "metadata": {},
     "output_type": "display_data"
    }
   ],
   "source": [
    "mtrush1@grey[28, 88]"
   ]
  },
  {
   "cell_type": "markdown",
   "metadata": {},
   "source": [
    "下面，我们先把其中一个雕像的面部变成白色，之后填进去一些其他的数据。"
   ]
  },
  {
   "cell_type": "code",
   "execution_count": 20,
   "metadata": {
    "ExecuteTime": {
     "end_time": "2018-05-19T17:37:00.814689Z",
     "start_time": "2018-05-19T17:36:59.548Z"
    }
   },
   "outputs": [
    {
     "data": {
      "image/png": "[encoded data removed]",
      "text/plain": [
       "plot without title"
      ]
     },
     "metadata": {},
     "output_type": "display_data"
    }
   ],
   "source": [
    "mtrush2 <- mtrush1  # 复制\n",
    "mtrush2@grey[84:163, 135:177] <- 1\n",
    "plot(mtrush2)"
   ]
  },
  {
   "cell_type": "code",
   "execution_count": 21,
   "metadata": {
    "ExecuteTime": {
     "end_time": "2018-05-19T17:37:00.824970Z",
     "start_time": "2018-05-19T17:36:59.554Z"
    }
   },
   "outputs": [],
   "source": [
    "# 这里书上代码有bug,稍微改了下\n",
    "# adds random noise to img, at the range rows,cols of img; img and the\n",
    "# return value are both objects of class pixmap; the parameter q\n",
    "# controls the weight of the noise, with the result being 1-q times the\n",
    "# original image plus q times the random noise\n",
    "blurpart <- function(img,row1,row2, col1, col2,q) {\n",
    "    lrows <- row2 - row1 + 1\n",
    "    lcols <- col2 - col1 + 1\n",
    "    newimg <- img\n",
    "    randomnoise <- matrix(nrow=lrows, ncol=lcols,runif(lrows*lcols))\n",
    "    newimg@grey[row1:row2, col1:col2] <- (1-q) * img@grey[row1:row2, col1:col2] + q * randomnoise\n",
    "    return(newimg)\n",
    "}"
   ]
  },
  {
   "cell_type": "code",
   "execution_count": 22,
   "metadata": {
    "ExecuteTime": {
     "end_time": "2018-05-19T17:37:01.182157Z",
     "start_time": "2018-05-19T17:36:59.560Z"
    }
   },
   "outputs": [
    {
     "data": {
      "image/png": "[encoded data removed]",
      "text/plain": [
       "plot without title"
      ]
     },
     "metadata": {},
     "output_type": "display_data"
    }
   ],
   "source": [
    "mtrush3 <- blurpart(mtrush1,84, 163,135, 177,0.65)\n",
    "plot(mtrush3)"
   ]
  },
  {
   "cell_type": "markdown",
   "metadata": {},
   "source": [
    "#### 3.2.4 过滤(Filtering on Matrices)"
   ]
  },
  {
   "cell_type": "code",
   "execution_count": 23,
   "metadata": {
    "ExecuteTime": {
     "end_time": "2018-05-19T17:37:01.201616Z",
     "start_time": "2018-05-19T17:36:59.570Z"
    }
   },
   "outputs": [
    {
     "data": {
      "text/html": [
       "<table>\n",
       "<tbody>\n",
       "\t<tr><td>1</td><td>2</td></tr>\n",
       "\t<tr><td>2</td><td>3</td></tr>\n",
       "\t<tr><td>3</td><td>4</td></tr>\n",
       "</tbody>\n",
       "</table>\n"
      ],
      "text/latex": [
       "\\begin{tabular}{ll}\n",
       "\t 1 & 2\\\\\n",
       "\t 2 & 3\\\\\n",
       "\t 3 & 4\\\\\n",
       "\\end{tabular}\n"
      ],
      "text/markdown": [
       "\n",
       "| 1 | 2 | \n",
       "| 2 | 3 | \n",
       "| 3 | 4 | \n",
       "\n",
       "\n"
      ],
      "text/plain": [
       "     [,1] [,2]\n",
       "[1,] 1    2   \n",
       "[2,] 2    3   \n",
       "[3,] 3    4   "
      ]
     },
     "metadata": {},
     "output_type": "display_data"
    }
   ],
   "source": [
    "x <- matrix(c(1,2,3,2,3,4), nrow = 3)\n",
    "x"
   ]
  },
  {
   "cell_type": "code",
   "execution_count": 24,
   "metadata": {
    "ExecuteTime": {
     "end_time": "2018-05-19T17:37:01.226067Z",
     "start_time": "2018-05-19T17:36:59.576Z"
    }
   },
   "outputs": [
    {
     "data": {
      "text/html": [
       "<table>\n",
       "<tbody>\n",
       "\t<tr><td>2</td><td>3</td></tr>\n",
       "\t<tr><td>3</td><td>4</td></tr>\n",
       "</tbody>\n",
       "</table>\n"
      ],
      "text/latex": [
       "\\begin{tabular}{ll}\n",
       "\t 2 & 3\\\\\n",
       "\t 3 & 4\\\\\n",
       "\\end{tabular}\n"
      ],
      "text/markdown": [
       "\n",
       "| 2 | 3 | \n",
       "| 3 | 4 | \n",
       "\n",
       "\n"
      ],
      "text/plain": [
       "     [,1] [,2]\n",
       "[1,] 2    3   \n",
       "[2,] 3    4   "
      ]
     },
     "metadata": {},
     "output_type": "display_data"
    }
   ],
   "source": [
    "# 第二列大于等于3的所有行\n",
    "x[x[, 2] >= 3, ]"
   ]
  },
  {
   "cell_type": "code",
   "execution_count": 25,
   "metadata": {
    "ExecuteTime": {
     "end_time": "2018-05-19T17:37:01.249429Z",
     "start_time": "2018-05-19T17:36:59.582Z"
    }
   },
   "outputs": [
    {
     "data": {
      "text/html": [
       "<ol class=list-inline>\n",
       "\t<li>FALSE</li>\n",
       "\t<li>TRUE</li>\n",
       "\t<li>TRUE</li>\n",
       "</ol>\n"
      ],
      "text/latex": [
       "\\begin{enumerate*}\n",
       "\\item FALSE\n",
       "\\item TRUE\n",
       "\\item TRUE\n",
       "\\end{enumerate*}\n"
      ],
      "text/markdown": [
       "1. FALSE\n",
       "2. TRUE\n",
       "3. TRUE\n",
       "\n",
       "\n"
      ],
      "text/plain": [
       "[1] FALSE  TRUE  TRUE"
      ]
     },
     "metadata": {},
     "output_type": "display_data"
    }
   ],
   "source": [
    "# 本质上，过滤是通过布尔值来进行的\n",
    "# 首先根据条件产生是否符合条件的布尔序列，\n",
    "# 之后根据布尔值来索引符合的数据\n",
    "x[, 2] >= 3"
   ]
  },
  {
   "cell_type": "code",
   "execution_count": 26,
   "metadata": {
    "ExecuteTime": {
     "end_time": "2018-05-19T17:37:01.275068Z",
     "start_time": "2018-05-19T17:36:59.589Z"
    }
   },
   "outputs": [
    {
     "data": {
      "text/html": [
       "<table>\n",
       "<tbody>\n",
       "\t<tr><td>1</td><td>4</td></tr>\n",
       "\t<tr><td>2</td><td>5</td></tr>\n",
       "\t<tr><td>3</td><td>6</td></tr>\n",
       "</tbody>\n",
       "</table>\n"
      ],
      "text/latex": [
       "\\begin{tabular}{ll}\n",
       "\t 1 & 4\\\\\n",
       "\t 2 & 5\\\\\n",
       "\t 3 & 6\\\\\n",
       "\\end{tabular}\n"
      ],
      "text/markdown": [
       "\n",
       "| 1 | 4 | \n",
       "| 2 | 5 | \n",
       "| 3 | 6 | \n",
       "\n",
       "\n"
      ],
      "text/plain": [
       "     [,1] [,2]\n",
       "[1,] 1    4   \n",
       "[2,] 2    5   \n",
       "[3,] 3    6   "
      ]
     },
     "metadata": {},
     "output_type": "display_data"
    }
   ],
   "source": [
    "# 多个筛选条件\n",
    "m <- matrix(1:6, nrow = 3)\n",
    "m"
   ]
  },
  {
   "cell_type": "code",
   "execution_count": 27,
   "metadata": {
    "ExecuteTime": {
     "end_time": "2018-05-19T17:37:01.294856Z",
     "start_time": "2018-05-19T17:36:59.595Z"
    }
   },
   "outputs": [
    {
     "data": {
      "text/html": [
       "<ol class=list-inline>\n",
       "\t<li>3</li>\n",
       "\t<li>6</li>\n",
       "</ol>\n"
      ],
      "text/latex": [
       "\\begin{enumerate*}\n",
       "\\item 3\n",
       "\\item 6\n",
       "\\end{enumerate*}\n"
      ],
      "text/markdown": [
       "1. 3\n",
       "2. 6\n",
       "\n",
       "\n"
      ],
      "text/plain": [
       "[1] 3 6"
      ]
     },
     "metadata": {},
     "output_type": "display_data"
    }
   ],
   "source": [
    "m[m[, 1] > 1 & m[, 2]>5, ]"
   ]
  },
  {
   "cell_type": "markdown",
   "metadata": {},
   "source": [
    "注意，`&`是`vector Boolean AND operator`，也就是对vector的每个值\n",
    "分别对应取`AND`,与之对应的`&&`是`scalar Boolean AND operator`,\n",
    "它只对其两边vector的第一个数据取`AND`。可以看下面一个例子。"
   ]
  },
  {
   "cell_type": "code",
   "execution_count": 28,
   "metadata": {
    "ExecuteTime": {
     "end_time": "2018-05-19T17:37:01.312216Z",
     "start_time": "2018-05-19T17:36:59.866Z"
    }
   },
   "outputs": [],
   "source": [
    "b1 <- c(TRUE, FALSE)\n",
    "b2 <- c(TRUE, TRUE)"
   ]
  },
  {
   "cell_type": "code",
   "execution_count": 29,
   "metadata": {
    "ExecuteTime": {
     "end_time": "2018-05-19T17:37:01.332366Z",
     "start_time": "2018-05-19T17:36:59.875Z"
    }
   },
   "outputs": [
    {
     "data": {
      "text/html": [
       "<ol class=list-inline>\n",
       "\t<li>TRUE</li>\n",
       "\t<li>FALSE</li>\n",
       "</ol>\n"
      ],
      "text/latex": [
       "\\begin{enumerate*}\n",
       "\\item TRUE\n",
       "\\item FALSE\n",
       "\\end{enumerate*}\n"
      ],
      "text/markdown": [
       "1. TRUE\n",
       "2. FALSE\n",
       "\n",
       "\n"
      ],
      "text/plain": [
       "[1]  TRUE FALSE"
      ]
     },
     "metadata": {},
     "output_type": "display_data"
    }
   ],
   "source": [
    "# 分别AND，返回两个值\n",
    "b1 & b2"
   ]
  },
  {
   "cell_type": "code",
   "execution_count": 30,
   "metadata": {
    "ExecuteTime": {
     "end_time": "2018-05-19T17:37:01.359567Z",
     "start_time": "2018-05-19T17:36:59.882Z"
    }
   },
   "outputs": [
    {
     "data": {
      "text/html": [
       "TRUE"
      ],
      "text/latex": [
       "TRUE"
      ],
      "text/markdown": [
       "TRUE"
      ],
      "text/plain": [
       "[1] TRUE"
      ]
     },
     "metadata": {},
     "output_type": "display_data"
    }
   ],
   "source": [
    "# 只对TRUE和TRUE取AND，返回TRUE\n",
    "b1 && b2"
   ]
  },
  {
   "cell_type": "markdown",
   "metadata": {},
   "source": [
    "which函数可以返回符合条件的索引。"
   ]
  },
  {
   "cell_type": "code",
   "execution_count": 31,
   "metadata": {
    "ExecuteTime": {
     "end_time": "2018-05-19T17:37:01.380234Z",
     "start_time": "2018-05-19T17:36:59.896Z"
    }
   },
   "outputs": [
    {
     "data": {
      "text/html": [
       "<ol class=list-inline>\n",
       "\t<li>3</li>\n",
       "\t<li>4</li>\n",
       "\t<li>5</li>\n",
       "\t<li>6</li>\n",
       "</ol>\n"
      ],
      "text/latex": [
       "\\begin{enumerate*}\n",
       "\\item 3\n",
       "\\item 4\n",
       "\\item 5\n",
       "\\item 6\n",
       "\\end{enumerate*}\n"
      ],
      "text/markdown": [
       "1. 3\n",
       "2. 4\n",
       "3. 5\n",
       "4. 6\n",
       "\n",
       "\n"
      ],
      "text/plain": [
       "[1] 3 4 5 6"
      ]
     },
     "metadata": {},
     "output_type": "display_data"
    }
   ],
   "source": [
    "which(m > 2)"
   ]
  },
  {
   "cell_type": "markdown",
   "metadata": {},
   "source": [
    "#### 3.2.5 拓展：创建协差阵(Extended Example: Generating a Covariance Matrix)\n",
    "\n",
    "并不是常见的计算协差阵，而是“自定义协差阵”，而且是最简单的情况，使得对角线为1，其他全为一个固定值。"
   ]
  },
  {
   "cell_type": "code",
   "execution_count": 32,
   "metadata": {
    "ExecuteTime": {
     "end_time": "2018-05-19T17:37:01.408959Z",
     "start_time": "2018-05-19T17:36:59.907Z"
    }
   },
   "outputs": [
    {
     "data": {
      "text/html": [
       "<table>\n",
       "<tbody>\n",
       "\t<tr><td>1.0</td><td>0.2</td><td>0.2</td></tr>\n",
       "\t<tr><td>0.2</td><td>1.0</td><td>0.2</td></tr>\n",
       "\t<tr><td>0.2</td><td>0.2</td><td>1.0</td></tr>\n",
       "</tbody>\n",
       "</table>\n"
      ],
      "text/latex": [
       "\\begin{tabular}{lll}\n",
       "\t 1.0 & 0.2 & 0.2\\\\\n",
       "\t 0.2 & 1.0 & 0.2\\\\\n",
       "\t 0.2 & 0.2 & 1.0\\\\\n",
       "\\end{tabular}\n"
      ],
      "text/markdown": [
       "\n",
       "| 1.0 | 0.2 | 0.2 | \n",
       "| 0.2 | 1.0 | 0.2 | \n",
       "| 0.2 | 0.2 | 1.0 | \n",
       "\n",
       "\n"
      ],
      "text/plain": [
       "     [,1] [,2] [,3]\n",
       "[1,] 1.0  0.2  0.2 \n",
       "[2,] 0.2  1.0  0.2 \n",
       "[3,] 0.2  0.2  1.0 "
      ]
     },
     "metadata": {},
     "output_type": "display_data"
    }
   ],
   "source": [
    "makecov <- function(rho, n){\n",
    "    m <- matrix(nrow = n, ncol = n)\n",
    "    m <- ifelse(row(m) == col(m), 1, rho)\n",
    "    return(m)\n",
    "}\n",
    "makecov(0.2, 3)"
   ]
  },
  {
   "cell_type": "markdown",
   "metadata": {},
   "source": [
    "这里的关键在于`row(m)`和`col(m)`返回的都是矩阵，而且`==`\n",
    "之后为布尔矩阵，之后就是根据`ifelse`规则进行填充了。看下面的例子。"
   ]
  },
  {
   "cell_type": "code",
   "execution_count": 33,
   "metadata": {
    "ExecuteTime": {
     "end_time": "2018-05-19T17:37:01.435621Z",
     "start_time": "2018-05-19T17:36:59.921Z"
    }
   },
   "outputs": [
    {
     "data": {
      "text/html": [
       "<table>\n",
       "<tbody>\n",
       "\t<tr><td>1</td><td>1</td></tr>\n",
       "\t<tr><td>2</td><td>2</td></tr>\n",
       "\t<tr><td>3</td><td>3</td></tr>\n",
       "</tbody>\n",
       "</table>\n"
      ],
      "text/latex": [
       "\\begin{tabular}{ll}\n",
       "\t 1 & 1\\\\\n",
       "\t 2 & 2\\\\\n",
       "\t 3 & 3\\\\\n",
       "\\end{tabular}\n"
      ],
      "text/markdown": [
       "\n",
       "| 1 | 1 | \n",
       "| 2 | 2 | \n",
       "| 3 | 3 | \n",
       "\n",
       "\n"
      ],
      "text/plain": [
       "     [,1] [,2]\n",
       "[1,] 1    1   \n",
       "[2,] 2    2   \n",
       "[3,] 3    3   "
      ]
     },
     "metadata": {},
     "output_type": "display_data"
    }
   ],
   "source": [
    "row(x)"
   ]
  },
  {
   "cell_type": "code",
   "execution_count": 34,
   "metadata": {
    "ExecuteTime": {
     "end_time": "2018-05-19T17:37:01.457685Z",
     "start_time": "2018-05-19T17:36:59.931Z"
    }
   },
   "outputs": [
    {
     "data": {
      "text/html": [
       "<table>\n",
       "<tbody>\n",
       "\t<tr><td> TRUE</td><td>FALSE</td></tr>\n",
       "\t<tr><td>FALSE</td><td> TRUE</td></tr>\n",
       "\t<tr><td>FALSE</td><td>FALSE</td></tr>\n",
       "</tbody>\n",
       "</table>\n"
      ],
      "text/latex": [
       "\\begin{tabular}{ll}\n",
       "\t  TRUE & FALSE\\\\\n",
       "\t FALSE &  TRUE\\\\\n",
       "\t FALSE & FALSE\\\\\n",
       "\\end{tabular}\n"
      ],
      "text/markdown": [
       "\n",
       "|  TRUE | FALSE | \n",
       "| FALSE |  TRUE | \n",
       "| FALSE | FALSE | \n",
       "\n",
       "\n"
      ],
      "text/plain": [
       "     [,1]  [,2] \n",
       "[1,]  TRUE FALSE\n",
       "[2,] FALSE  TRUE\n",
       "[3,] FALSE FALSE"
      ]
     },
     "metadata": {},
     "output_type": "display_data"
    }
   ],
   "source": [
    "row(x) == col(x)"
   ]
  },
  {
   "cell_type": "markdown",
   "metadata": {},
   "source": [
    "### 3.3 函数与矩阵(Applying Functions to Matrix Rows and Columns)"
   ]
  },
  {
   "cell_type": "markdown",
   "metadata": {},
   "source": [
    "#### 3.3.1 apply函数的使用(Using the apply() Function)"
   ]
  },
  {
   "cell_type": "code",
   "execution_count": 35,
   "metadata": {
    "ExecuteTime": {
     "end_time": "2018-05-19T17:37:01.481654Z",
     "start_time": "2018-05-19T17:36:59.947Z"
    }
   },
   "outputs": [
    {
     "data": {
      "text/html": [
       "<table>\n",
       "<tbody>\n",
       "\t<tr><td>1</td><td>4</td></tr>\n",
       "\t<tr><td>2</td><td>5</td></tr>\n",
       "\t<tr><td>3</td><td>6</td></tr>\n",
       "</tbody>\n",
       "</table>\n"
      ],
      "text/latex": [
       "\\begin{tabular}{ll}\n",
       "\t 1 & 4\\\\\n",
       "\t 2 & 5\\\\\n",
       "\t 3 & 6\\\\\n",
       "\\end{tabular}\n"
      ],
      "text/markdown": [
       "\n",
       "| 1 | 4 | \n",
       "| 2 | 5 | \n",
       "| 3 | 6 | \n",
       "\n",
       "\n"
      ],
      "text/plain": [
       "     [,1] [,2]\n",
       "[1,] 1    4   \n",
       "[2,] 2    5   \n",
       "[3,] 3    6   "
      ]
     },
     "metadata": {},
     "output_type": "display_data"
    }
   ],
   "source": [
    "z <- matrix(1:6, nrow = 3)\n",
    "z"
   ]
  },
  {
   "cell_type": "code",
   "execution_count": 36,
   "metadata": {
    "ExecuteTime": {
     "end_time": "2018-05-19T17:37:01.504167Z",
     "start_time": "2018-05-19T17:36:59.957Z"
    }
   },
   "outputs": [
    {
     "data": {
      "text/html": [
       "<ol class=list-inline>\n",
       "\t<li>2</li>\n",
       "\t<li>5</li>\n",
       "</ol>\n"
      ],
      "text/latex": [
       "\\begin{enumerate*}\n",
       "\\item 2\n",
       "\\item 5\n",
       "\\end{enumerate*}\n"
      ],
      "text/markdown": [
       "1. 2\n",
       "2. 5\n",
       "\n",
       "\n"
      ],
      "text/plain": [
       "[1] 2 5"
      ]
     },
     "metadata": {},
     "output_type": "display_data"
    }
   ],
   "source": [
    "# 每列均值\n",
    "apply(z, 2, mean)  # 1:row, 2:col"
   ]
  },
  {
   "cell_type": "code",
   "execution_count": 37,
   "metadata": {
    "ExecuteTime": {
     "end_time": "2018-05-19T17:37:01.533888Z",
     "start_time": "2018-05-19T17:36:59.969Z"
    }
   },
   "outputs": [
    {
     "data": {
      "text/html": [
       "<table>\n",
       "<tbody>\n",
       "\t<tr><td>0.5  </td><td>1.000</td><td>1.50 </td></tr>\n",
       "\t<tr><td>0.5  </td><td>0.625</td><td>0.75 </td></tr>\n",
       "</tbody>\n",
       "</table>\n"
      ],
      "text/latex": [
       "\\begin{tabular}{lll}\n",
       "\t 0.5   & 1.000 & 1.50 \\\\\n",
       "\t 0.5   & 0.625 & 0.75 \\\\\n",
       "\\end{tabular}\n"
      ],
      "text/markdown": [
       "\n",
       "| 0.5   | 1.000 | 1.50  | \n",
       "| 0.5   | 0.625 | 0.75  | \n",
       "\n",
       "\n"
      ],
      "text/plain": [
       "     [,1] [,2]  [,3]\n",
       "[1,] 0.5  1.000 1.50\n",
       "[2,] 0.5  0.625 0.75"
      ]
     },
     "metadata": {},
     "output_type": "display_data"
    }
   ],
   "source": [
    "# 应用自定义的函数\n",
    "f <- function(x) x/c(2, 8)\n",
    "y <- apply(z, 1, f)\n",
    "y"
   ]
  },
  {
   "cell_type": "markdown",
   "metadata": {},
   "source": [
    "上面第一列中，0.5，0.5来自c(1,4)/c(2,8),即对应相除得c(0.5,0.5),\n",
    "另外两列也是一样。\n",
    "\n",
    "此外，注意到z原来为`3x2`矩阵，使用`apply`后，结果为`2x3`，\n",
    "我们可以通过转置来得到想要的形式，如下。"
   ]
  },
  {
   "cell_type": "code",
   "execution_count": 38,
   "metadata": {
    "ExecuteTime": {
     "end_time": "2018-05-19T17:37:01.559796Z",
     "start_time": "2018-05-19T17:36:59.981Z"
    }
   },
   "outputs": [
    {
     "data": {
      "text/html": [
       "<table>\n",
       "<tbody>\n",
       "\t<tr><td>0.5  </td><td>0.500</td></tr>\n",
       "\t<tr><td>1.0  </td><td>0.625</td></tr>\n",
       "\t<tr><td>1.5  </td><td>0.750</td></tr>\n",
       "</tbody>\n",
       "</table>\n"
      ],
      "text/latex": [
       "\\begin{tabular}{ll}\n",
       "\t 0.5   & 0.500\\\\\n",
       "\t 1.0   & 0.625\\\\\n",
       "\t 1.5   & 0.750\\\\\n",
       "\\end{tabular}\n"
      ],
      "text/markdown": [
       "\n",
       "| 0.5   | 0.500 | \n",
       "| 1.0   | 0.625 | \n",
       "| 1.5   | 0.750 | \n",
       "\n",
       "\n"
      ],
      "text/plain": [
       "     [,1] [,2] \n",
       "[1,] 0.5  0.500\n",
       "[2,] 1.0  0.625\n",
       "[3,] 1.5  0.750"
      ]
     },
     "metadata": {},
     "output_type": "display_data"
    }
   ],
   "source": [
    "t(apply(z, 1, f))"
   ]
  },
  {
   "cell_type": "markdown",
   "metadata": {},
   "source": [
    "注意，使用`apply`并不会使得代码运行速度变快，只是使得代码看起来更简洁，更方便debug."
   ]
  },
  {
   "cell_type": "markdown",
   "metadata": {},
   "source": [
    "#### 3.3.2 拓展：寻找异常值点(Extended Example: Finding Outliers)\n",
    "\n",
    "这里也只是一个简单的小例子，只是寻找离差最大的的点， 并非真正找寻异常值点。"
   ]
  },
  {
   "cell_type": "code",
   "execution_count": 39,
   "metadata": {
    "ExecuteTime": {
     "end_time": "2018-05-19T17:37:01.582006Z",
     "start_time": "2018-05-19T17:36:59.989Z"
    }
   },
   "outputs": [],
   "source": [
    "findols <- function(x){\n",
    "    findol <- function(xrow){\n",
    "        mdn <- median(xrow)\n",
    "        devs <- abs(xrow-mdn)\n",
    "        return(which.max(devs))\n",
    "    }\n",
    "    return(apply(x, 1, findol))\n",
    "}"
   ]
  },
  {
   "cell_type": "code",
   "execution_count": 40,
   "metadata": {
    "ExecuteTime": {
     "end_time": "2018-05-19T17:37:01.604124Z",
     "start_time": "2018-05-19T17:36:59.998Z"
    }
   },
   "outputs": [
    {
     "data": {
      "text/html": [
       "<table>\n",
       "<tbody>\n",
       "\t<tr><td>1 </td><td> 2</td><td>10</td></tr>\n",
       "\t<tr><td>1 </td><td>11</td><td> 2</td></tr>\n",
       "</tbody>\n",
       "</table>\n"
      ],
      "text/latex": [
       "\\begin{tabular}{lll}\n",
       "\t 1  &  2 & 10\\\\\n",
       "\t 1  & 11 &  2\\\\\n",
       "\\end{tabular}\n"
      ],
      "text/markdown": [
       "\n",
       "| 1  |  2 | 10 | \n",
       "| 1  | 11 |  2 | \n",
       "\n",
       "\n"
      ],
      "text/plain": [
       "     [,1] [,2] [,3]\n",
       "[1,] 1     2   10  \n",
       "[2,] 1    11    2  "
      ]
     },
     "metadata": {},
     "output_type": "display_data"
    }
   ],
   "source": [
    "rs <- matrix(c(1,2,10,1,11,2), nrow = 2, byrow = T)\n",
    "rs"
   ]
  },
  {
   "cell_type": "code",
   "execution_count": 41,
   "metadata": {
    "ExecuteTime": {
     "end_time": "2018-05-19T17:37:01.626785Z",
     "start_time": "2018-05-19T17:37:00.004Z"
    }
   },
   "outputs": [
    {
     "data": {
      "text/html": [
       "<ol class=list-inline>\n",
       "\t<li>3</li>\n",
       "\t<li>2</li>\n",
       "</ol>\n"
      ],
      "text/latex": [
       "\\begin{enumerate*}\n",
       "\\item 3\n",
       "\\item 2\n",
       "\\end{enumerate*}\n"
      ],
      "text/markdown": [
       "1. 3\n",
       "2. 2\n",
       "\n",
       "\n"
      ],
      "text/plain": [
       "[1] 3 2"
      ]
     },
     "metadata": {},
     "output_type": "display_data"
    }
   ],
   "source": [
    "findols(rs)"
   ]
  },
  {
   "cell_type": "markdown",
   "metadata": {},
   "source": [
    "上面结果表明第一行（apply中参数为1表明对行操作）”异常值“为第3个数据\n",
    "（返回的结果是位置，使用了which），第二行\"异常值\"为第二个数据。"
   ]
  },
  {
   "cell_type": "markdown",
   "metadata": {},
   "source": [
    "### 3.4 矩阵行列增删(Adding and Deleting Matrix Rows and Columns)\n",
    "\n",
    "本质上，matrix的维度和长度是固定不变的，所以我们不可以增删行列。\n",
    "但是可以通过`reassigned`（重新赋值）来实现我们想要的结果。"
   ]
  },
  {
   "cell_type": "markdown",
   "metadata": {},
   "source": [
    "#### 3.4.1 改变矩阵大小（Changing the Size of a Matrix）"
   ]
  },
  {
   "cell_type": "code",
   "execution_count": 42,
   "metadata": {
    "ExecuteTime": {
     "end_time": "2018-05-19T17:37:01.650480Z",
     "start_time": "2018-05-19T17:37:00.016Z"
    }
   },
   "outputs": [
    {
     "data": {
      "text/html": [
       "<ol class=list-inline>\n",
       "\t<li>12</li>\n",
       "\t<li>5</li>\n",
       "\t<li>13</li>\n",
       "\t<li>16</li>\n",
       "\t<li>8</li>\n",
       "</ol>\n"
      ],
      "text/latex": [
       "\\begin{enumerate*}\n",
       "\\item 12\n",
       "\\item 5\n",
       "\\item 13\n",
       "\\item 16\n",
       "\\item 8\n",
       "\\end{enumerate*}\n"
      ],
      "text/markdown": [
       "1. 12\n",
       "2. 5\n",
       "3. 13\n",
       "4. 16\n",
       "5. 8\n",
       "\n",
       "\n"
      ],
      "text/plain": [
       "[1] 12  5 13 16  8"
      ]
     },
     "metadata": {},
     "output_type": "display_data"
    }
   ],
   "source": [
    "x <- c(12, 5, 13, 16, 8)\n",
    "x"
   ]
  },
  {
   "cell_type": "code",
   "execution_count": 43,
   "metadata": {
    "ExecuteTime": {
     "end_time": "2018-05-19T17:37:01.669661Z",
     "start_time": "2018-05-19T17:37:00.022Z"
    }
   },
   "outputs": [],
   "source": [
    "# 最后添加20\n",
    "x <- c(x, 20)"
   ]
  },
  {
   "cell_type": "code",
   "execution_count": 44,
   "metadata": {
    "ExecuteTime": {
     "end_time": "2018-05-19T17:37:01.698699Z",
     "start_time": "2018-05-19T17:37:00.032Z"
    }
   },
   "outputs": [
    {
     "data": {
      "text/html": [
       "<ol class=list-inline>\n",
       "\t<li>12</li>\n",
       "\t<li>5</li>\n",
       "\t<li>13</li>\n",
       "\t<li>20</li>\n",
       "\t<li>16</li>\n",
       "\t<li>8</li>\n",
       "\t<li>20</li>\n",
       "</ol>\n"
      ],
      "text/latex": [
       "\\begin{enumerate*}\n",
       "\\item 12\n",
       "\\item 5\n",
       "\\item 13\n",
       "\\item 20\n",
       "\\item 16\n",
       "\\item 8\n",
       "\\item 20\n",
       "\\end{enumerate*}\n"
      ],
      "text/markdown": [
       "1. 12\n",
       "2. 5\n",
       "3. 13\n",
       "4. 20\n",
       "5. 16\n",
       "6. 8\n",
       "7. 20\n",
       "\n",
       "\n"
      ],
      "text/plain": [
       "[1] 12  5 13 20 16  8 20"
      ]
     },
     "metadata": {},
     "output_type": "display_data"
    }
   ],
   "source": [
    "# 中间插入20\n",
    "x <- c(x[1:3], 20, x[4:6])\n",
    "x"
   ]
  },
  {
   "cell_type": "code",
   "execution_count": 45,
   "metadata": {
    "ExecuteTime": {
     "end_time": "2018-05-19T17:37:01.724853Z",
     "start_time": "2018-05-19T17:37:00.038Z"
    }
   },
   "outputs": [
    {
     "data": {
      "text/html": [
       "<ol class=list-inline>\n",
       "\t<li>12</li>\n",
       "\t<li>16</li>\n",
       "\t<li>8</li>\n",
       "\t<li>20</li>\n",
       "</ol>\n"
      ],
      "text/latex": [
       "\\begin{enumerate*}\n",
       "\\item 12\n",
       "\\item 16\n",
       "\\item 8\n",
       "\\item 20\n",
       "\\end{enumerate*}\n"
      ],
      "text/markdown": [
       "1. 12\n",
       "2. 16\n",
       "3. 8\n",
       "4. 20\n",
       "\n",
       "\n"
      ],
      "text/plain": [
       "[1] 12 16  8 20"
      ]
     },
     "metadata": {},
     "output_type": "display_data"
    }
   ],
   "source": [
    "# 删除第2到4个元素\n",
    "x <- x[-2:-4]\n",
    "x"
   ]
  },
  {
   "cell_type": "markdown",
   "metadata": {},
   "source": [
    "注意，`reassignment`有时会在不易察觉的地方出现，比如`x[2] <- 12`\n",
    "其实就是发生了重新赋值的，之后还会涉及到这一点。"
   ]
  },
  {
   "cell_type": "code",
   "execution_count": 46,
   "metadata": {
    "ExecuteTime": {
     "end_time": "2018-05-19T17:37:01.747114Z",
     "start_time": "2018-05-19T17:37:00.048Z"
    }
   },
   "outputs": [
    {
     "data": {
      "text/html": [
       "<table>\n",
       "<tbody>\n",
       "\t<tr><td>1</td><td>3</td></tr>\n",
       "\t<tr><td>2</td><td>4</td></tr>\n",
       "</tbody>\n",
       "</table>\n"
      ],
      "text/latex": [
       "\\begin{tabular}{ll}\n",
       "\t 1 & 3\\\\\n",
       "\t 2 & 4\\\\\n",
       "\\end{tabular}\n"
      ],
      "text/markdown": [
       "\n",
       "| 1 | 3 | \n",
       "| 2 | 4 | \n",
       "\n",
       "\n"
      ],
      "text/plain": [
       "     [,1] [,2]\n",
       "[1,] 1    3   \n",
       "[2,] 2    4   "
      ]
     },
     "metadata": {},
     "output_type": "display_data"
    }
   ],
   "source": [
    "# cbind,列合并\n",
    "q <- cbind(c(1,2), c(3,4))\n",
    "q"
   ]
  },
  {
   "cell_type": "code",
   "execution_count": 47,
   "metadata": {
    "ExecuteTime": {
     "end_time": "2018-05-19T17:37:01.773210Z",
     "start_time": "2018-05-19T17:37:00.055Z"
    }
   },
   "outputs": [
    {
     "data": {
      "text/html": [
       "<table>\n",
       "<tbody>\n",
       "\t<tr><td>1</td><td>4</td></tr>\n",
       "\t<tr><td>2</td><td>5</td></tr>\n",
       "\t<tr><td>3</td><td>6</td></tr>\n",
       "</tbody>\n",
       "</table>\n"
      ],
      "text/latex": [
       "\\begin{tabular}{ll}\n",
       "\t 1 & 4\\\\\n",
       "\t 2 & 5\\\\\n",
       "\t 3 & 6\\\\\n",
       "\\end{tabular}\n"
      ],
      "text/markdown": [
       "\n",
       "| 1 | 4 | \n",
       "| 2 | 5 | \n",
       "| 3 | 6 | \n",
       "\n",
       "\n"
      ],
      "text/plain": [
       "     [,1] [,2]\n",
       "[1,] 1    4   \n",
       "[2,] 2    5   \n",
       "[3,] 3    6   "
      ]
     },
     "metadata": {},
     "output_type": "display_data"
    }
   ],
   "source": [
    "# 删除一些行和列\n",
    "m <- matrix(1:6, nrow = 3)\n",
    "m"
   ]
  },
  {
   "cell_type": "code",
   "execution_count": 48,
   "metadata": {
    "ExecuteTime": {
     "end_time": "2018-05-19T17:37:01.798709Z",
     "start_time": "2018-05-19T17:37:00.064Z"
    }
   },
   "outputs": [
    {
     "data": {
      "text/html": [
       "<table>\n",
       "<tbody>\n",
       "\t<tr><td>1</td><td>4</td></tr>\n",
       "\t<tr><td>3</td><td>6</td></tr>\n",
       "</tbody>\n",
       "</table>\n"
      ],
      "text/latex": [
       "\\begin{tabular}{ll}\n",
       "\t 1 & 4\\\\\n",
       "\t 3 & 6\\\\\n",
       "\\end{tabular}\n"
      ],
      "text/markdown": [
       "\n",
       "| 1 | 4 | \n",
       "| 3 | 6 | \n",
       "\n",
       "\n"
      ],
      "text/plain": [
       "     [,1] [,2]\n",
       "[1,] 1    4   \n",
       "[2,] 3    6   "
      ]
     },
     "metadata": {},
     "output_type": "display_data"
    }
   ],
   "source": [
    "m <- m[c(1,3), ]\n",
    "m"
   ]
  },
  {
   "cell_type": "markdown",
   "metadata": {},
   "source": [
    "#### 3.4.2 拓展：寻找图中最近顶点( Extended Example: Finding the Closest Pair of Vertices in a Graph)\n",
    "\n",
    "简单的理解为：寻找矩阵中最小元素的值及对应的位置"
   ]
  },
  {
   "cell_type": "code",
   "execution_count": 49,
   "metadata": {
    "ExecuteTime": {
     "end_time": "2018-05-19T17:37:01.822580Z",
     "start_time": "2018-05-19T17:37:00.070Z"
    }
   },
   "outputs": [],
   "source": [
    "# returns the minimum value of d[i,j], i != j, and the row/col attaining\n",
    "# that minimum, for square symmetric matrix d; no special policy on ties\n",
    "mind <- function(d) {\n",
    "    n <- nrow(d)\n",
    "    # add a column to identify row number for apply()\n",
    "    dd <- cbind(d,1:n)\n",
    "    wmins <- apply(dd[-n,],1,imin)\n",
    "    # wmins will be 2xn, 1st row being indices and 2nd being values\n",
    "    i <- which.min(wmins[2,])\n",
    "    j <- wmins[1,i]\n",
    "    return(c(d[i,j],i,j))\n",
    "}\n",
    "\n",
    "# finds the location, value of the minimum in a row x\n",
    "imin <- function(x) {\n",
    "    lx <- length(x)\n",
    "    i <- x[lx] # original row number\n",
    "    j <- which.min(x[(i+1):(lx-1)])\n",
    "    k <- i+j\n",
    "    return(c(k,x[k]))\n",
    "}"
   ]
  },
  {
   "cell_type": "code",
   "execution_count": 50,
   "metadata": {
    "ExecuteTime": {
     "end_time": "2018-05-19T17:37:01.849880Z",
     "start_time": "2018-05-19T17:37:00.080Z"
    }
   },
   "outputs": [
    {
     "data": {
      "text/html": [
       "<table>\n",
       "<tbody>\n",
       "\t<tr><td> 5</td><td> 3</td><td>10</td></tr>\n",
       "\t<tr><td>10</td><td>10</td><td>11</td></tr>\n",
       "\t<tr><td>12</td><td>21</td><td>12</td></tr>\n",
       "</tbody>\n",
       "</table>\n"
      ],
      "text/latex": [
       "\\begin{tabular}{lll}\n",
       "\t  5 &  3 & 10\\\\\n",
       "\t 10 & 10 & 11\\\\\n",
       "\t 12 & 21 & 12\\\\\n",
       "\\end{tabular}\n"
      ],
      "text/markdown": [
       "\n",
       "|  5 |  3 | 10 | \n",
       "| 10 | 10 | 11 | \n",
       "| 12 | 21 | 12 | \n",
       "\n",
       "\n"
      ],
      "text/plain": [
       "     [,1] [,2] [,3]\n",
       "[1,]  5    3   10  \n",
       "[2,] 10   10   11  \n",
       "[3,] 12   21   12  "
      ]
     },
     "metadata": {},
     "output_type": "display_data"
    }
   ],
   "source": [
    "q <- matrix(c(5,10,12,3,10,21, 10, 11, 12), nrow = 3)\n",
    "q"
   ]
  },
  {
   "cell_type": "code",
   "execution_count": 51,
   "metadata": {
    "ExecuteTime": {
     "end_time": "2018-05-19T17:37:01.886687Z",
     "start_time": "2018-05-19T17:37:00.089Z"
    }
   },
   "outputs": [
    {
     "data": {
      "text/html": [
       "<ol class=list-inline>\n",
       "\t<li>3</li>\n",
       "\t<li>1</li>\n",
       "\t<li>2</li>\n",
       "</ol>\n"
      ],
      "text/latex": [
       "\\begin{enumerate*}\n",
       "\\item 3\n",
       "\\item 1\n",
       "\\item 2\n",
       "\\end{enumerate*}\n"
      ],
      "text/markdown": [
       "1. 3\n",
       "2. 1\n",
       "3. 2\n",
       "\n",
       "\n"
      ],
      "text/plain": [
       "[1] 3 1 2"
      ]
     },
     "metadata": {},
     "output_type": "display_data"
    }
   ],
   "source": [
    "mind(q)"
   ]
  },
  {
   "cell_type": "markdown",
   "metadata": {},
   "source": [
    "最小值为3，处于第1行，第3列。"
   ]
  },
  {
   "cell_type": "markdown",
   "metadata": {},
   "source": [
    "### 3.5 Vector与Matrix的区别(More on the Vector/Matrix Distinction)\n",
    "\n",
    "正如之前所说，matrix就是就是在vector的基础上增加了两个`attributes`(属性)，\n",
    "即`the number of rows and the number of columns`。"
   ]
  },
  {
   "cell_type": "code",
   "execution_count": 52,
   "metadata": {
    "ExecuteTime": {
     "end_time": "2018-05-19T17:37:01.917044Z",
     "start_time": "2018-05-19T17:37:00.099Z"
    }
   },
   "outputs": [
    {
     "data": {
      "text/html": [
       "<table>\n",
       "<tbody>\n",
       "\t<tr><td>1</td><td>5</td></tr>\n",
       "\t<tr><td>2</td><td>6</td></tr>\n",
       "\t<tr><td>3</td><td>7</td></tr>\n",
       "\t<tr><td>4</td><td>8</td></tr>\n",
       "</tbody>\n",
       "</table>\n"
      ],
      "text/latex": [
       "\\begin{tabular}{ll}\n",
       "\t 1 & 5\\\\\n",
       "\t 2 & 6\\\\\n",
       "\t 3 & 7\\\\\n",
       "\t 4 & 8\\\\\n",
       "\\end{tabular}\n"
      ],
      "text/markdown": [
       "\n",
       "| 1 | 5 | \n",
       "| 2 | 6 | \n",
       "| 3 | 7 | \n",
       "| 4 | 8 | \n",
       "\n",
       "\n"
      ],
      "text/plain": [
       "     [,1] [,2]\n",
       "[1,] 1    5   \n",
       "[2,] 2    6   \n",
       "[3,] 3    7   \n",
       "[4,] 4    8   "
      ]
     },
     "metadata": {},
     "output_type": "display_data"
    }
   ],
   "source": [
    "z <- matrix(1:8, nrow = 4)\n",
    "z"
   ]
  },
  {
   "cell_type": "code",
   "execution_count": 53,
   "metadata": {
    "ExecuteTime": {
     "end_time": "2018-05-19T17:37:01.945106Z",
     "start_time": "2018-05-19T17:37:00.108Z"
    }
   },
   "outputs": [
    {
     "data": {
      "text/html": [
       "8"
      ],
      "text/latex": [
       "8"
      ],
      "text/markdown": [
       "8"
      ],
      "text/plain": [
       "[1] 8"
      ]
     },
     "metadata": {},
     "output_type": "display_data"
    }
   ],
   "source": [
    "# matrix是一个vector,所以有长度\n",
    "length(z)"
   ]
  },
  {
   "cell_type": "code",
   "execution_count": 54,
   "metadata": {
    "ExecuteTime": {
     "end_time": "2018-05-19T17:37:01.975886Z",
     "start_time": "2018-05-19T17:37:00.118Z"
    }
   },
   "outputs": [
    {
     "data": {
      "text/html": [
       "'matrix'"
      ],
      "text/latex": [
       "'matrix'"
      ],
      "text/markdown": [
       "'matrix'"
      ],
      "text/plain": [
       "[1] \"matrix\""
      ]
     },
     "metadata": {},
     "output_type": "display_data"
    }
   ],
   "source": [
    "# 属于matrix class\n",
    "class(z)"
   ]
  },
  {
   "cell_type": "code",
   "execution_count": 55,
   "metadata": {
    "ExecuteTime": {
     "end_time": "2018-05-19T17:37:02.003390Z",
     "start_time": "2018-05-19T17:37:00.123Z"
    }
   },
   "outputs": [
    {
     "data": {
      "text/html": [
       "<strong>$dim</strong> = <ol class=list-inline>\n",
       "\t<li>4</li>\n",
       "\t<li>2</li>\n",
       "</ol>\n"
      ],
      "text/latex": [
       "\\textbf{\\$dim} = \\begin{enumerate*}\n",
       "\\item 4\n",
       "\\item 2\n",
       "\\end{enumerate*}\n"
      ],
      "text/markdown": [
       "**$dim** = 1. 4\n",
       "2. 2\n",
       "\n",
       "\n"
      ],
      "text/plain": [
       "$dim\n",
       "[1] 4 2\n"
      ]
     },
     "metadata": {},
     "output_type": "display_data"
    }
   ],
   "source": [
    "attributes(z)"
   ]
  },
  {
   "cell_type": "markdown",
   "metadata": {},
   "source": [
    "可以看到matrix有属性`dim`。同时可以看出`$`为S3的用法。"
   ]
  },
  {
   "cell_type": "code",
   "execution_count": 56,
   "metadata": {
    "ExecuteTime": {
     "end_time": "2018-05-19T17:37:02.029541Z",
     "start_time": "2018-05-19T17:37:00.133Z"
    }
   },
   "outputs": [
    {
     "data": {
      "text/html": [
       "<ol class=list-inline>\n",
       "\t<li>4</li>\n",
       "\t<li>2</li>\n",
       "</ol>\n"
      ],
      "text/latex": [
       "\\begin{enumerate*}\n",
       "\\item 4\n",
       "\\item 2\n",
       "\\end{enumerate*}\n"
      ],
      "text/markdown": [
       "1. 4\n",
       "2. 2\n",
       "\n",
       "\n"
      ],
      "text/plain": [
       "[1] 4 2"
      ]
     },
     "metadata": {},
     "output_type": "display_data"
    }
   ],
   "source": [
    "# 矩阵的维度\n",
    "dim(z)"
   ]
  },
  {
   "cell_type": "code",
   "execution_count": 57,
   "metadata": {
    "ExecuteTime": {
     "end_time": "2018-05-19T17:37:02.051302Z",
     "start_time": "2018-05-19T17:37:00.144Z"
    }
   },
   "outputs": [
    {
     "data": {
      "text/html": [
       "<ol class=list-inline>\n",
       "\t<li>4</li>\n",
       "\t<li>2</li>\n",
       "</ol>\n"
      ],
      "text/latex": [
       "\\begin{enumerate*}\n",
       "\\item 4\n",
       "\\item 2\n",
       "\\end{enumerate*}\n"
      ],
      "text/markdown": [
       "1. 4\n",
       "2. 2\n",
       "\n",
       "\n"
      ],
      "text/plain": [
       "[1] 4 2"
      ]
     },
     "metadata": {},
     "output_type": "display_data"
    }
   ],
   "source": [
    "# nrow, ncol\n",
    "c(nrow(z), ncol(z))"
   ]
  },
  {
   "cell_type": "code",
   "execution_count": 58,
   "metadata": {
    "ExecuteTime": {
     "end_time": "2018-05-19T17:37:02.075890Z",
     "start_time": "2018-05-19T17:37:00.156Z"
    }
   },
   "outputs": [
    {
     "data": {
      "text/html": [
       "<pre class=language-r><code>function (x) \n",
       "dim(x)[1L]</code></pre>"
      ],
      "text/latex": [
       "\\begin{minted}{r}\n",
       "function (x) \n",
       "dim(x){[}1L{]}\n",
       "\\end{minted}"
      ],
      "text/markdown": [
       "```r\n",
       "function (x) \n",
       "dim(x)[1L]\n",
       "```"
      ],
      "text/plain": [
       "function (x) \n",
       "dim(x)[1L]\n",
       "<bytecode: 0x3011808>\n",
       "<environment: namespace:base>"
      ]
     },
     "metadata": {},
     "output_type": "display_data"
    }
   ],
   "source": [
    "nrow"
   ]
  },
  {
   "cell_type": "markdown",
   "metadata": {},
   "source": [
    "通过nrow函数的源码可以看出，其也是利用了matrix的`dim`属性。"
   ]
  },
  {
   "cell_type": "markdown",
   "metadata": {},
   "source": [
    "### 3.6 避免意外去除维度属性(Avoiding Unintended Dimension Reduction)"
   ]
  },
  {
   "cell_type": "code",
   "execution_count": 59,
   "metadata": {
    "ExecuteTime": {
     "end_time": "2018-05-19T17:37:02.101433Z",
     "start_time": "2018-05-19T17:37:00.196Z"
    }
   },
   "outputs": [
    {
     "data": {
      "text/html": [
       "<ol class=list-inline>\n",
       "\t<li>2</li>\n",
       "\t<li>6</li>\n",
       "</ol>\n"
      ],
      "text/latex": [
       "\\begin{enumerate*}\n",
       "\\item 2\n",
       "\\item 6\n",
       "\\end{enumerate*}\n"
      ],
      "text/markdown": [
       "1. 2\n",
       "2. 6\n",
       "\n",
       "\n"
      ],
      "text/plain": [
       "[1] 2 6"
      ]
     },
     "metadata": {},
     "output_type": "display_data"
    }
   ],
   "source": [
    "r <- z[2, ]\n",
    "r"
   ]
  },
  {
   "cell_type": "code",
   "execution_count": 60,
   "metadata": {
    "ExecuteTime": {
     "end_time": "2018-05-19T17:37:02.124740Z",
     "start_time": "2018-05-19T17:37:00.218Z"
    }
   },
   "outputs": [
    {
     "data": {
      "text/plain": [
       "NULL"
      ]
     },
     "metadata": {},
     "output_type": "display_data"
    }
   ],
   "source": [
    "attributes(r)"
   ]
  },
  {
   "cell_type": "markdown",
   "metadata": {},
   "source": [
    "上面的例子告诉我们，我们索引出一行时就发生了`dimension reduction`，此时\n",
    "matrix的`dim`属性不会保留到r中。虽然这看起来没有什么不好，但是后面可能会\n",
    "遇到意想不到的bug（比如仍然认为r是一个矩阵，但它不是,它是vector），如下。"
   ]
  },
  {
   "cell_type": "code",
   "execution_count": 61,
   "metadata": {
    "ExecuteTime": {
     "end_time": "2018-05-19T17:37:02.145700Z",
     "start_time": "2018-05-19T17:37:00.641Z"
    }
   },
   "outputs": [
    {
     "data": {
      "text/html": [
       "<ol class=list-inline>\n",
       "\t<li>TRUE</li>\n",
       "\t<li>FALSE</li>\n",
       "</ol>\n"
      ],
      "text/latex": [
       "\\begin{enumerate*}\n",
       "\\item TRUE\n",
       "\\item FALSE\n",
       "\\end{enumerate*}\n"
      ],
      "text/markdown": [
       "1. TRUE\n",
       "2. FALSE\n",
       "\n",
       "\n"
      ],
      "text/plain": [
       "[1]  TRUE FALSE"
      ]
     },
     "metadata": {},
     "output_type": "display_data"
    }
   ],
   "source": [
    "c(is.vector(r), is.matrix(r))"
   ]
  },
  {
   "cell_type": "code",
   "execution_count": 62,
   "metadata": {
    "ExecuteTime": {
     "end_time": "2018-05-19T17:37:02.169711Z",
     "start_time": "2018-05-19T17:37:00.647Z"
    }
   },
   "outputs": [
    {
     "data": {
      "text/html": [
       "<table>\n",
       "<tbody>\n",
       "\t<tr><td>2</td><td>6</td></tr>\n",
       "</tbody>\n",
       "</table>\n"
      ],
      "text/latex": [
       "\\begin{tabular}{ll}\n",
       "\t 2 & 6\\\\\n",
       "\\end{tabular}\n"
      ],
      "text/markdown": [
       "\n",
       "| 2 | 6 | \n",
       "\n",
       "\n"
      ],
      "text/plain": [
       "     [,1] [,2]\n",
       "[1,] 2    6   "
      ]
     },
     "metadata": {},
     "output_type": "display_data"
    }
   ],
   "source": [
    "# 通过drop参数来避免这一可能发生的异常\n",
    "r <- z[2,, drop=FALSE]\n",
    "r"
   ]
  },
  {
   "cell_type": "code",
   "execution_count": 63,
   "metadata": {
    "ExecuteTime": {
     "end_time": "2018-05-19T17:37:02.192297Z",
     "start_time": "2018-05-19T17:37:00.653Z"
    }
   },
   "outputs": [
    {
     "data": {
      "text/html": [
       "<strong>$dim</strong> = <ol class=list-inline>\n",
       "\t<li>1</li>\n",
       "\t<li>2</li>\n",
       "</ol>\n"
      ],
      "text/latex": [
       "\\textbf{\\$dim} = \\begin{enumerate*}\n",
       "\\item 1\n",
       "\\item 2\n",
       "\\end{enumerate*}\n"
      ],
      "text/markdown": [
       "**$dim** = 1. 1\n",
       "2. 2\n",
       "\n",
       "\n"
      ],
      "text/plain": [
       "$dim\n",
       "[1] 1 2\n"
      ]
     },
     "metadata": {},
     "output_type": "display_data"
    }
   ],
   "source": [
    "attributes(r)"
   ]
  },
  {
   "cell_type": "code",
   "execution_count": 64,
   "metadata": {
    "ExecuteTime": {
     "end_time": "2018-05-19T17:37:02.217996Z",
     "start_time": "2018-05-19T17:37:00.657Z"
    }
   },
   "outputs": [
    {
     "data": {
      "text/html": [
       "<ol class=list-inline>\n",
       "\t<li>FALSE</li>\n",
       "\t<li>TRUE</li>\n",
       "</ol>\n"
      ],
      "text/latex": [
       "\\begin{enumerate*}\n",
       "\\item FALSE\n",
       "\\item TRUE\n",
       "\\end{enumerate*}\n"
      ],
      "text/markdown": [
       "1. FALSE\n",
       "2. TRUE\n",
       "\n",
       "\n"
      ],
      "text/plain": [
       "[1] FALSE  TRUE"
      ]
     },
     "metadata": {},
     "output_type": "display_data"
    }
   ],
   "source": [
    "c(is.vector(r), is.matrix(r))"
   ]
  },
  {
   "cell_type": "markdown",
   "metadata": {},
   "source": [
    "比较有趣的一点，这里的`[`是函数:P(Haskell既视感)"
   ]
  },
  {
   "cell_type": "code",
   "execution_count": 65,
   "metadata": {
    "ExecuteTime": {
     "end_time": "2018-05-19T17:37:02.241483Z",
     "start_time": "2018-05-19T17:37:00.670Z"
    }
   },
   "outputs": [
    {
     "data": {
      "text/html": [
       "7"
      ],
      "text/latex": [
       "7"
      ],
      "text/markdown": [
       "7"
      ],
      "text/plain": [
       "[1] 7"
      ]
     },
     "metadata": {},
     "output_type": "display_data"
    }
   ],
   "source": [
    "z[3, 2]"
   ]
  },
  {
   "cell_type": "code",
   "execution_count": 66,
   "metadata": {
    "ExecuteTime": {
     "end_time": "2018-05-19T17:37:02.264995Z",
     "start_time": "2018-05-19T17:37:00.676Z"
    }
   },
   "outputs": [
    {
     "data": {
      "text/html": [
       "7"
      ],
      "text/latex": [
       "7"
      ],
      "text/markdown": [
       "7"
      ],
      "text/plain": [
       "[1] 7"
      ]
     },
     "metadata": {},
     "output_type": "display_data"
    }
   ],
   "source": [
    "\"[\" (z, 3, 2)"
   ]
  },
  {
   "cell_type": "markdown",
   "metadata": {},
   "source": [
    "### 3.7 为行列命名（Naming Matrix Rows and Columns）"
   ]
  },
  {
   "cell_type": "code",
   "execution_count": 67,
   "metadata": {
    "ExecuteTime": {
     "end_time": "2018-05-19T17:37:02.296941Z",
     "start_time": "2018-05-19T17:37:00.682Z"
    }
   },
   "outputs": [
    {
     "data": {
      "text/html": [
       "<table>\n",
       "<tbody>\n",
       "\t<tr><td>1</td><td>5</td></tr>\n",
       "\t<tr><td>2</td><td>6</td></tr>\n",
       "\t<tr><td>3</td><td>7</td></tr>\n",
       "\t<tr><td>4</td><td>8</td></tr>\n",
       "</tbody>\n",
       "</table>\n"
      ],
      "text/latex": [
       "\\begin{tabular}{ll}\n",
       "\t 1 & 5\\\\\n",
       "\t 2 & 6\\\\\n",
       "\t 3 & 7\\\\\n",
       "\t 4 & 8\\\\\n",
       "\\end{tabular}\n"
      ],
      "text/markdown": [
       "\n",
       "| 1 | 5 | \n",
       "| 2 | 6 | \n",
       "| 3 | 7 | \n",
       "| 4 | 8 | \n",
       "\n",
       "\n"
      ],
      "text/plain": [
       "     [,1] [,2]\n",
       "[1,] 1    5   \n",
       "[2,] 2    6   \n",
       "[3,] 3    7   \n",
       "[4,] 4    8   "
      ]
     },
     "metadata": {},
     "output_type": "display_data"
    }
   ],
   "source": [
    "z"
   ]
  },
  {
   "cell_type": "code",
   "execution_count": 68,
   "metadata": {
    "ExecuteTime": {
     "end_time": "2018-05-19T17:37:02.320589Z",
     "start_time": "2018-05-19T17:37:00.688Z"
    }
   },
   "outputs": [
    {
     "data": {
      "text/plain": [
       "NULL"
      ]
     },
     "metadata": {},
     "output_type": "display_data"
    }
   ],
   "source": [
    "colnames(z)"
   ]
  },
  {
   "cell_type": "code",
   "execution_count": 69,
   "metadata": {
    "ExecuteTime": {
     "end_time": "2018-05-19T17:37:02.347969Z",
     "start_time": "2018-05-19T17:37:00.693Z"
    }
   },
   "outputs": [
    {
     "data": {
      "text/html": [
       "<table>\n",
       "<thead><tr><th></th><th scope=col>a</th><th scope=col>b</th></tr></thead>\n",
       "<tbody>\n",
       "\t<tr><th scope=row>1</th><td>1</td><td>5</td></tr>\n",
       "\t<tr><th scope=row>2</th><td>2</td><td>6</td></tr>\n",
       "\t<tr><th scope=row>3</th><td>3</td><td>7</td></tr>\n",
       "\t<tr><th scope=row>4</th><td>4</td><td>8</td></tr>\n",
       "</tbody>\n",
       "</table>\n"
      ],
      "text/latex": [
       "\\begin{tabular}{r|ll}\n",
       "  & a & b\\\\\n",
       "\\hline\n",
       "\t1 & 1 & 5\\\\\n",
       "\t2 & 2 & 6\\\\\n",
       "\t3 & 3 & 7\\\\\n",
       "\t4 & 4 & 8\\\\\n",
       "\\end{tabular}\n"
      ],
      "text/markdown": [
       "\n",
       "| <!--/--> | a | b | \n",
       "|---|---|---|---|\n",
       "| 1 | 1 | 5 | \n",
       "| 2 | 2 | 6 | \n",
       "| 3 | 3 | 7 | \n",
       "| 4 | 4 | 8 | \n",
       "\n",
       "\n"
      ],
      "text/plain": [
       "  a b\n",
       "1 1 5\n",
       "2 2 6\n",
       "3 3 7\n",
       "4 4 8"
      ]
     },
     "metadata": {},
     "output_type": "display_data"
    }
   ],
   "source": [
    "colnames(z) <- c(\"a\", \"b\")\n",
    "rownames(z) <- c(1:4)\n",
    "z"
   ]
  },
  {
   "cell_type": "markdown",
   "metadata": {},
   "source": [
    "### 3.8 高阶数组(Higher-Dimensional Arrays)\n",
    "\n",
    "还记得吗，matrix只是array在二维的特例。"
   ]
  },
  {
   "cell_type": "code",
   "execution_count": 70,
   "metadata": {
    "ExecuteTime": {
     "end_time": "2018-05-19T17:37:02.372075Z",
     "start_time": "2018-05-19T17:37:00.699Z"
    }
   },
   "outputs": [
    {
     "data": {
      "text/html": [
       "<table>\n",
       "<tbody>\n",
       "\t<tr><td>46</td><td>30</td></tr>\n",
       "\t<tr><td>21</td><td>25</td></tr>\n",
       "\t<tr><td>50</td><td>50</td></tr>\n",
       "</tbody>\n",
       "</table>\n"
      ],
      "text/latex": [
       "\\begin{tabular}{ll}\n",
       "\t 46 & 30\\\\\n",
       "\t 21 & 25\\\\\n",
       "\t 50 & 50\\\\\n",
       "\\end{tabular}\n"
      ],
      "text/markdown": [
       "\n",
       "| 46 | 30 | \n",
       "| 21 | 25 | \n",
       "| 50 | 50 | \n",
       "\n",
       "\n"
      ],
      "text/plain": [
       "     [,1] [,2]\n",
       "[1,] 46   30  \n",
       "[2,] 21   25  \n",
       "[3,] 50   50  "
      ]
     },
     "metadata": {},
     "output_type": "display_data"
    }
   ],
   "source": [
    "# 三人第一次考试成绩\n",
    "firsttest <- matrix(c(46,21,50,30,25,50), nrow = 3)\n",
    "firsttest"
   ]
  },
  {
   "cell_type": "code",
   "execution_count": 71,
   "metadata": {
    "ExecuteTime": {
     "end_time": "2018-05-19T17:37:02.396350Z",
     "start_time": "2018-05-19T17:37:00.705Z"
    }
   },
   "outputs": [
    {
     "data": {
      "text/html": [
       "<table>\n",
       "<tbody>\n",
       "\t<tr><td>46</td><td>43</td></tr>\n",
       "\t<tr><td>41</td><td>35</td></tr>\n",
       "\t<tr><td>50</td><td>50</td></tr>\n",
       "</tbody>\n",
       "</table>\n"
      ],
      "text/latex": [
       "\\begin{tabular}{ll}\n",
       "\t 46 & 43\\\\\n",
       "\t 41 & 35\\\\\n",
       "\t 50 & 50\\\\\n",
       "\\end{tabular}\n"
      ],
      "text/markdown": [
       "\n",
       "| 46 | 43 | \n",
       "| 41 | 35 | \n",
       "| 50 | 50 | \n",
       "\n",
       "\n"
      ],
      "text/plain": [
       "     [,1] [,2]\n",
       "[1,] 46   43  \n",
       "[2,] 41   35  \n",
       "[3,] 50   50  "
      ]
     },
     "metadata": {},
     "output_type": "display_data"
    }
   ],
   "source": [
    "# 三人第二次考试成绩\n",
    "secondtest <- matrix(c(46,41,50,43,35,50), nrow = 3)\n",
    "secondtest"
   ]
  },
  {
   "cell_type": "code",
   "execution_count": 72,
   "metadata": {
    "ExecuteTime": {
     "end_time": "2018-05-19T17:37:02.417170Z",
     "start_time": "2018-05-19T17:37:00.709Z"
    }
   },
   "outputs": [
    {
     "data": {
      "text/html": [
       "<ol class=list-inline>\n",
       "\t<li>46</li>\n",
       "\t<li>21</li>\n",
       "\t<li>50</li>\n",
       "\t<li>30</li>\n",
       "\t<li>25</li>\n",
       "\t<li>50</li>\n",
       "\t<li>46</li>\n",
       "\t<li>41</li>\n",
       "\t<li>50</li>\n",
       "\t<li>43</li>\n",
       "\t<li>35</li>\n",
       "\t<li>50</li>\n",
       "</ol>\n"
      ],
      "text/latex": [
       "\\begin{enumerate*}\n",
       "\\item 46\n",
       "\\item 21\n",
       "\\item 50\n",
       "\\item 30\n",
       "\\item 25\n",
       "\\item 50\n",
       "\\item 46\n",
       "\\item 41\n",
       "\\item 50\n",
       "\\item 43\n",
       "\\item 35\n",
       "\\item 50\n",
       "\\end{enumerate*}\n"
      ],
      "text/markdown": [
       "1. 46\n",
       "2. 21\n",
       "3. 50\n",
       "4. 30\n",
       "5. 25\n",
       "6. 50\n",
       "7. 46\n",
       "8. 41\n",
       "9. 50\n",
       "10. 43\n",
       "11. 35\n",
       "12. 50\n",
       "\n",
       "\n"
      ],
      "text/plain": [
       ", , 1\n",
       "\n",
       "     [,1] [,2]\n",
       "[1,]   46   30\n",
       "[2,]   21   25\n",
       "[3,]   50   50\n",
       "\n",
       ", , 2\n",
       "\n",
       "     [,1] [,2]\n",
       "[1,]   46   43\n",
       "[2,]   41   35\n",
       "[3,]   50   50\n"
      ]
     },
     "metadata": {},
     "output_type": "display_data"
    }
   ],
   "source": [
    "# 三维数组\n",
    "tests <- array(data=c(firsttest, secondtest), dim=c(3,2,2))\n",
    "tests  # 输出格式也是被改变了，在终端输入和书上一样"
   ]
  },
  {
   "cell_type": "code",
   "execution_count": 73,
   "metadata": {
    "ExecuteTime": {
     "end_time": "2018-05-19T17:37:02.436383Z",
     "start_time": "2018-05-19T17:37:00.719Z"
    }
   },
   "outputs": [
    {
     "data": {
      "text/html": [
       "<strong>$dim</strong> = <ol class=list-inline>\n",
       "\t<li>3</li>\n",
       "\t<li>2</li>\n",
       "\t<li>2</li>\n",
       "</ol>\n"
      ],
      "text/latex": [
       "\\textbf{\\$dim} = \\begin{enumerate*}\n",
       "\\item 3\n",
       "\\item 2\n",
       "\\item 2\n",
       "\\end{enumerate*}\n"
      ],
      "text/markdown": [
       "**$dim** = 1. 3\n",
       "2. 2\n",
       "3. 2\n",
       "\n",
       "\n"
      ],
      "text/plain": [
       "$dim\n",
       "[1] 3 2 2\n"
      ]
     },
     "metadata": {},
     "output_type": "display_data"
    }
   ],
   "source": [
    "attributes(tests)"
   ]
  },
  {
   "cell_type": "code",
   "execution_count": null,
   "metadata": {},
   "outputs": [],
   "source": []
  }
 ],
 "metadata": {
  "kernelspec": {
   "display_name": "R 3.4",
   "language": "R",
   "name": "ir34"
  },
  "language_info": {
   "codemirror_mode": "r",
   "file_extension": ".r",
   "mimetype": "text/x-r-source",
   "name": "R",
   "pygments_lexer": "r",
   "version": "3.4.4"
  },
  "toc": {
   "nav_menu": {
    "height": "155px",
    "width": "545px"
   },
   "number_sections": false,
   "sideBar": true,
   "skip_h1_title": true,
   "title_cell": "Table of Contents",
   "title_sidebar": "Contents",
   "toc_cell": true,
   "toc_position": {
    "height": "calc(100% - 180px)",
    "left": "10px",
    "top": "150px",
    "width": "268px"
   },
   "toc_section_display": true,
   "toc_window_display": true
  }
 },
 "nbformat": 4,
 "nbformat_minor": 2
}
